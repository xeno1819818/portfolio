{
 "cells": [
  {
   "cell_type": "markdown",
   "metadata": {},
   "source": [
    "# Принятие решений в бизнесе на основе А-В теста\n"
   ]
  },
  {
   "cell_type": "code",
   "execution_count": 1,
   "metadata": {},
   "outputs": [],
   "source": [
    "import pandas as pd\n",
    "import numpy as np\n",
    "import seaborn as sbn\n",
    "import matplotlib.pyplot as plt\n",
    "from scipy import stats as st\n"
   ]
  },
  {
   "cell_type": "markdown",
   "metadata": {},
   "source": [
    "## Приоритизация гипотез."
   ]
  },
  {
   "cell_type": "markdown",
   "metadata": {},
   "source": [
    "### Откроем файл hypothesis.csv"
   ]
  },
  {
   "cell_type": "code",
   "execution_count": 2,
   "metadata": {},
   "outputs": [
    {
     "data": {
      "text/html": [
       "<div>\n",
       "<style scoped>\n",
       "    .dataframe tbody tr th:only-of-type {\n",
       "        vertical-align: middle;\n",
       "    }\n",
       "\n",
       "    .dataframe tbody tr th {\n",
       "        vertical-align: top;\n",
       "    }\n",
       "\n",
       "    .dataframe thead th {\n",
       "        text-align: right;\n",
       "    }\n",
       "</style>\n",
       "<table border=\"1\" class=\"dataframe\">\n",
       "  <thead>\n",
       "    <tr style=\"text-align: right;\">\n",
       "      <th></th>\n",
       "      <th>Hypothesis</th>\n",
       "      <th>Reach</th>\n",
       "      <th>Impact</th>\n",
       "      <th>Confidence</th>\n",
       "      <th>Efforts</th>\n",
       "    </tr>\n",
       "  </thead>\n",
       "  <tbody>\n",
       "    <tr>\n",
       "      <th>0</th>\n",
       "      <td>Добавить два новых канала привлечения трафика,...</td>\n",
       "      <td>3</td>\n",
       "      <td>10</td>\n",
       "      <td>8</td>\n",
       "      <td>6</td>\n",
       "    </tr>\n",
       "    <tr>\n",
       "      <th>1</th>\n",
       "      <td>Запустить собственную службу доставки, что сок...</td>\n",
       "      <td>2</td>\n",
       "      <td>5</td>\n",
       "      <td>4</td>\n",
       "      <td>10</td>\n",
       "    </tr>\n",
       "    <tr>\n",
       "      <th>2</th>\n",
       "      <td>Добавить блоки рекомендаций товаров на сайт ин...</td>\n",
       "      <td>8</td>\n",
       "      <td>3</td>\n",
       "      <td>7</td>\n",
       "      <td>3</td>\n",
       "    </tr>\n",
       "    <tr>\n",
       "      <th>3</th>\n",
       "      <td>Изменить структура категорий, что увеличит кон...</td>\n",
       "      <td>8</td>\n",
       "      <td>3</td>\n",
       "      <td>3</td>\n",
       "      <td>8</td>\n",
       "    </tr>\n",
       "    <tr>\n",
       "      <th>4</th>\n",
       "      <td>Изменить цвет фона главной страницы, чтобы уве...</td>\n",
       "      <td>3</td>\n",
       "      <td>1</td>\n",
       "      <td>1</td>\n",
       "      <td>1</td>\n",
       "    </tr>\n",
       "  </tbody>\n",
       "</table>\n",
       "</div>"
      ],
      "text/plain": [
       "                                          Hypothesis  Reach  Impact  \\\n",
       "0  Добавить два новых канала привлечения трафика,...      3      10   \n",
       "1  Запустить собственную службу доставки, что сок...      2       5   \n",
       "2  Добавить блоки рекомендаций товаров на сайт ин...      8       3   \n",
       "3  Изменить структура категорий, что увеличит кон...      8       3   \n",
       "4  Изменить цвет фона главной страницы, чтобы уве...      3       1   \n",
       "\n",
       "   Confidence  Efforts  \n",
       "0           8        6  \n",
       "1           4       10  \n",
       "2           7        3  \n",
       "3           3        8  \n",
       "4           1        1  "
      ]
     },
     "execution_count": 2,
     "metadata": {},
     "output_type": "execute_result"
    }
   ],
   "source": [
    "hypothesis=pd.read_csv('/datasets/hypothesis.csv')\n",
    "hypothesis.head()\n"
   ]
  },
  {
   "cell_type": "code",
   "execution_count": 3,
   "metadata": {},
   "outputs": [],
   "source": [
    "#Заменим названия колонок на змеиный регистр\n",
    "hypothesis.columns=hypothesis.columns.str.lower()"
   ]
  },
  {
   "cell_type": "code",
   "execution_count": 4,
   "metadata": {},
   "outputs": [
    {
     "name": "stdout",
     "output_type": "stream",
     "text": [
      "<class 'pandas.core.frame.DataFrame'>\n",
      "RangeIndex: 9 entries, 0 to 8\n",
      "Data columns (total 5 columns):\n",
      " #   Column      Non-Null Count  Dtype \n",
      "---  ------      --------------  ----- \n",
      " 0   hypothesis  9 non-null      object\n",
      " 1   reach       9 non-null      int64 \n",
      " 2   impact      9 non-null      int64 \n",
      " 3   confidence  9 non-null      int64 \n",
      " 4   efforts     9 non-null      int64 \n",
      "dtypes: int64(4), object(1)\n",
      "memory usage: 488.0+ bytes\n"
     ]
    }
   ],
   "source": [
    "#Проверим наши изменения\n",
    "hypothesis.info()"
   ]
  },
  {
   "cell_type": "code",
   "execution_count": 5,
   "metadata": {},
   "outputs": [
    {
     "data": {
      "text/plain": [
       "hypothesis    0\n",
       "reach         0\n",
       "impact        0\n",
       "confidence    0\n",
       "efforts       0\n",
       "dtype: int64"
      ]
     },
     "execution_count": 5,
     "metadata": {},
     "output_type": "execute_result"
    }
   ],
   "source": [
    "#Проверим файл на наличие пропущенных значений\n",
    "hypothesis.isna().sum()"
   ]
  },
  {
   "cell_type": "markdown",
   "metadata": {},
   "source": [
    "Пропущенных значений нет"
   ]
  },
  {
   "cell_type": "markdown",
   "metadata": {},
   "source": [
    "### Откроем файл orders.csv"
   ]
  },
  {
   "cell_type": "code",
   "execution_count": 6,
   "metadata": {},
   "outputs": [
    {
     "data": {
      "text/html": [
       "<div>\n",
       "<style scoped>\n",
       "    .dataframe tbody tr th:only-of-type {\n",
       "        vertical-align: middle;\n",
       "    }\n",
       "\n",
       "    .dataframe tbody tr th {\n",
       "        vertical-align: top;\n",
       "    }\n",
       "\n",
       "    .dataframe thead th {\n",
       "        text-align: right;\n",
       "    }\n",
       "</style>\n",
       "<table border=\"1\" class=\"dataframe\">\n",
       "  <thead>\n",
       "    <tr style=\"text-align: right;\">\n",
       "      <th></th>\n",
       "      <th>transactionId</th>\n",
       "      <th>visitorId</th>\n",
       "      <th>date</th>\n",
       "      <th>revenue</th>\n",
       "      <th>group</th>\n",
       "    </tr>\n",
       "  </thead>\n",
       "  <tbody>\n",
       "    <tr>\n",
       "      <th>0</th>\n",
       "      <td>3667963787</td>\n",
       "      <td>3312258926</td>\n",
       "      <td>2019-08-15</td>\n",
       "      <td>1650</td>\n",
       "      <td>B</td>\n",
       "    </tr>\n",
       "    <tr>\n",
       "      <th>1</th>\n",
       "      <td>2804400009</td>\n",
       "      <td>3642806036</td>\n",
       "      <td>2019-08-15</td>\n",
       "      <td>730</td>\n",
       "      <td>B</td>\n",
       "    </tr>\n",
       "    <tr>\n",
       "      <th>2</th>\n",
       "      <td>2961555356</td>\n",
       "      <td>4069496402</td>\n",
       "      <td>2019-08-15</td>\n",
       "      <td>400</td>\n",
       "      <td>A</td>\n",
       "    </tr>\n",
       "    <tr>\n",
       "      <th>3</th>\n",
       "      <td>3797467345</td>\n",
       "      <td>1196621759</td>\n",
       "      <td>2019-08-15</td>\n",
       "      <td>9759</td>\n",
       "      <td>B</td>\n",
       "    </tr>\n",
       "    <tr>\n",
       "      <th>4</th>\n",
       "      <td>2282983706</td>\n",
       "      <td>2322279887</td>\n",
       "      <td>2019-08-15</td>\n",
       "      <td>2308</td>\n",
       "      <td>B</td>\n",
       "    </tr>\n",
       "  </tbody>\n",
       "</table>\n",
       "</div>"
      ],
      "text/plain": [
       "   transactionId   visitorId        date  revenue group\n",
       "0     3667963787  3312258926  2019-08-15     1650     B\n",
       "1     2804400009  3642806036  2019-08-15      730     B\n",
       "2     2961555356  4069496402  2019-08-15      400     A\n",
       "3     3797467345  1196621759  2019-08-15     9759     B\n",
       "4     2282983706  2322279887  2019-08-15     2308     B"
      ]
     },
     "execution_count": 6,
     "metadata": {},
     "output_type": "execute_result"
    }
   ],
   "source": [
    "orders=pd.read_csv('/datasets/orders.csv')\n",
    "orders.head()\n"
   ]
  },
  {
   "cell_type": "code",
   "execution_count": 7,
   "metadata": {},
   "outputs": [],
   "source": [
    "#По таблице видно, что названия колонок не соотвествуют стандартам, переведем названия в змеиный регистри и сделаем нижнее подчеркивание\n",
    "orders=orders.rename(columns={'transactionId' : 'transaction_id', 'visitorId' : 'visitor_id'})"
   ]
  },
  {
   "cell_type": "code",
   "execution_count": 8,
   "metadata": {},
   "outputs": [
    {
     "name": "stdout",
     "output_type": "stream",
     "text": [
      "<class 'pandas.core.frame.DataFrame'>\n",
      "RangeIndex: 1197 entries, 0 to 1196\n",
      "Data columns (total 5 columns):\n",
      " #   Column          Non-Null Count  Dtype \n",
      "---  ------          --------------  ----- \n",
      " 0   transaction_id  1197 non-null   int64 \n",
      " 1   visitor_id      1197 non-null   int64 \n",
      " 2   date            1197 non-null   object\n",
      " 3   revenue         1197 non-null   int64 \n",
      " 4   group           1197 non-null   object\n",
      "dtypes: int64(3), object(2)\n",
      "memory usage: 46.9+ KB\n"
     ]
    }
   ],
   "source": [
    "#Проверим наши изменения\n",
    "orders.info()"
   ]
  },
  {
   "cell_type": "code",
   "execution_count": 9,
   "metadata": {},
   "outputs": [],
   "source": [
    "#В колонке с датой date данные в строчном формате, переведем их в числовой формат\n",
    "orders['date']=pd.to_datetime(orders['date'])"
   ]
  },
  {
   "cell_type": "code",
   "execution_count": 10,
   "metadata": {},
   "outputs": [
    {
     "data": {
      "text/plain": [
       "transaction_id    0\n",
       "visitor_id        0\n",
       "date              0\n",
       "revenue           0\n",
       "group             0\n",
       "dtype: int64"
      ]
     },
     "execution_count": 10,
     "metadata": {},
     "output_type": "execute_result"
    }
   ],
   "source": [
    "#Проверим файл на наличие пропущенных значений\n",
    "orders.isna().sum()"
   ]
  },
  {
   "cell_type": "code",
   "execution_count": 11,
   "metadata": {},
   "outputs": [
    {
     "name": "stdout",
     "output_type": "stream",
     "text": [
      "<class 'pandas.core.frame.DataFrame'>\n",
      "RangeIndex: 1197 entries, 0 to 1196\n",
      "Data columns (total 5 columns):\n",
      " #   Column          Non-Null Count  Dtype         \n",
      "---  ------          --------------  -----         \n",
      " 0   transaction_id  1197 non-null   int64         \n",
      " 1   visitor_id      1197 non-null   int64         \n",
      " 2   date            1197 non-null   datetime64[ns]\n",
      " 3   revenue         1197 non-null   int64         \n",
      " 4   group           1197 non-null   object        \n",
      "dtypes: datetime64[ns](1), int64(3), object(1)\n",
      "memory usage: 46.9+ KB\n"
     ]
    }
   ],
   "source": [
    "#Проверим изменения\n",
    "orders.info()"
   ]
  },
  {
   "cell_type": "markdown",
   "metadata": {},
   "source": [
    "### Откроем файл visitors.csv"
   ]
  },
  {
   "cell_type": "code",
   "execution_count": 12,
   "metadata": {},
   "outputs": [
    {
     "data": {
      "text/html": [
       "<div>\n",
       "<style scoped>\n",
       "    .dataframe tbody tr th:only-of-type {\n",
       "        vertical-align: middle;\n",
       "    }\n",
       "\n",
       "    .dataframe tbody tr th {\n",
       "        vertical-align: top;\n",
       "    }\n",
       "\n",
       "    .dataframe thead th {\n",
       "        text-align: right;\n",
       "    }\n",
       "</style>\n",
       "<table border=\"1\" class=\"dataframe\">\n",
       "  <thead>\n",
       "    <tr style=\"text-align: right;\">\n",
       "      <th></th>\n",
       "      <th>date</th>\n",
       "      <th>group</th>\n",
       "      <th>visitors</th>\n",
       "    </tr>\n",
       "  </thead>\n",
       "  <tbody>\n",
       "    <tr>\n",
       "      <th>0</th>\n",
       "      <td>2019-08-01</td>\n",
       "      <td>A</td>\n",
       "      <td>719</td>\n",
       "    </tr>\n",
       "    <tr>\n",
       "      <th>1</th>\n",
       "      <td>2019-08-02</td>\n",
       "      <td>A</td>\n",
       "      <td>619</td>\n",
       "    </tr>\n",
       "    <tr>\n",
       "      <th>2</th>\n",
       "      <td>2019-08-03</td>\n",
       "      <td>A</td>\n",
       "      <td>507</td>\n",
       "    </tr>\n",
       "    <tr>\n",
       "      <th>3</th>\n",
       "      <td>2019-08-04</td>\n",
       "      <td>A</td>\n",
       "      <td>717</td>\n",
       "    </tr>\n",
       "    <tr>\n",
       "      <th>4</th>\n",
       "      <td>2019-08-05</td>\n",
       "      <td>A</td>\n",
       "      <td>756</td>\n",
       "    </tr>\n",
       "  </tbody>\n",
       "</table>\n",
       "</div>"
      ],
      "text/plain": [
       "         date group  visitors\n",
       "0  2019-08-01     A       719\n",
       "1  2019-08-02     A       619\n",
       "2  2019-08-03     A       507\n",
       "3  2019-08-04     A       717\n",
       "4  2019-08-05     A       756"
      ]
     },
     "execution_count": 12,
     "metadata": {},
     "output_type": "execute_result"
    }
   ],
   "source": [
    "visitors=pd.read_csv('/datasets/visitors.csv')\n",
    "visitors.head()"
   ]
  },
  {
   "cell_type": "code",
   "execution_count": 13,
   "metadata": {},
   "outputs": [
    {
     "name": "stdout",
     "output_type": "stream",
     "text": [
      "<class 'pandas.core.frame.DataFrame'>\n",
      "RangeIndex: 62 entries, 0 to 61\n",
      "Data columns (total 3 columns):\n",
      " #   Column    Non-Null Count  Dtype \n",
      "---  ------    --------------  ----- \n",
      " 0   date      62 non-null     object\n",
      " 1   group     62 non-null     object\n",
      " 2   visitors  62 non-null     int64 \n",
      "dtypes: int64(1), object(2)\n",
      "memory usage: 1.6+ KB\n"
     ]
    }
   ],
   "source": [
    "visitors.info()"
   ]
  },
  {
   "cell_type": "code",
   "execution_count": 14,
   "metadata": {},
   "outputs": [],
   "source": [
    "#В колонке с датой date данные в строчном формате, переведем их в числовой формат\n",
    "visitors['date']=pd.to_datetime(visitors['date'])"
   ]
  },
  {
   "cell_type": "code",
   "execution_count": 15,
   "metadata": {},
   "outputs": [
    {
     "name": "stdout",
     "output_type": "stream",
     "text": [
      "<class 'pandas.core.frame.DataFrame'>\n",
      "RangeIndex: 62 entries, 0 to 61\n",
      "Data columns (total 3 columns):\n",
      " #   Column    Non-Null Count  Dtype         \n",
      "---  ------    --------------  -----         \n",
      " 0   date      62 non-null     datetime64[ns]\n",
      " 1   group     62 non-null     object        \n",
      " 2   visitors  62 non-null     int64         \n",
      "dtypes: datetime64[ns](1), int64(1), object(1)\n",
      "memory usage: 1.6+ KB\n"
     ]
    }
   ],
   "source": [
    "#Проверим изменения\n",
    "visitors.info()"
   ]
  },
  {
   "cell_type": "code",
   "execution_count": 16,
   "metadata": {},
   "outputs": [
    {
     "data": {
      "text/plain": [
       "date        0\n",
       "group       0\n",
       "visitors    0\n",
       "dtype: int64"
      ]
     },
     "execution_count": 16,
     "metadata": {},
     "output_type": "execute_result"
    }
   ],
   "source": [
    "#Проверим файл на наличие пропущенных значений\n",
    "visitors.isna().sum()"
   ]
  },
  {
   "cell_type": "code",
   "execution_count": 17,
   "metadata": {},
   "outputs": [
    {
     "data": {
      "text/plain": [
       "58"
      ]
     },
     "execution_count": 17,
     "metadata": {},
     "output_type": "execute_result"
    }
   ],
   "source": [
    "users_two_group = orders.groupby('visitor_id').agg({'group':'nunique'})\n",
    "users_two_group = users_two_group.query('group > 1')\n",
    "users_two_group['group'].count()"
   ]
  },
  {
   "cell_type": "markdown",
   "metadata": {},
   "source": [
    "### Создадим новую колонку и подсчитаем фреймворк ICE для приоритизации гипотез. "
   ]
  },
  {
   "cell_type": "code",
   "execution_count": 18,
   "metadata": {},
   "outputs": [],
   "source": [
    "hypothesis['ice_score']=hypothesis['impact']*hypothesis['confidence']/hypothesis['efforts']"
   ]
  },
  {
   "cell_type": "code",
   "execution_count": 19,
   "metadata": {},
   "outputs": [
    {
     "data": {
      "text/html": [
       "<div>\n",
       "<style scoped>\n",
       "    .dataframe tbody tr th:only-of-type {\n",
       "        vertical-align: middle;\n",
       "    }\n",
       "\n",
       "    .dataframe tbody tr th {\n",
       "        vertical-align: top;\n",
       "    }\n",
       "\n",
       "    .dataframe thead th {\n",
       "        text-align: right;\n",
       "    }\n",
       "</style>\n",
       "<table border=\"1\" class=\"dataframe\">\n",
       "  <thead>\n",
       "    <tr style=\"text-align: right;\">\n",
       "      <th></th>\n",
       "      <th>hypothesis</th>\n",
       "      <th>reach</th>\n",
       "      <th>impact</th>\n",
       "      <th>confidence</th>\n",
       "      <th>efforts</th>\n",
       "      <th>ice_score</th>\n",
       "    </tr>\n",
       "  </thead>\n",
       "  <tbody>\n",
       "    <tr>\n",
       "      <th>8</th>\n",
       "      <td>Запустить акцию, дающую скидку на товар в день...</td>\n",
       "      <td>1</td>\n",
       "      <td>9</td>\n",
       "      <td>9</td>\n",
       "      <td>5</td>\n",
       "      <td>16.200000</td>\n",
       "    </tr>\n",
       "    <tr>\n",
       "      <th>0</th>\n",
       "      <td>Добавить два новых канала привлечения трафика,...</td>\n",
       "      <td>3</td>\n",
       "      <td>10</td>\n",
       "      <td>8</td>\n",
       "      <td>6</td>\n",
       "      <td>13.333333</td>\n",
       "    </tr>\n",
       "    <tr>\n",
       "      <th>7</th>\n",
       "      <td>Добавить форму подписки на все основные страни...</td>\n",
       "      <td>10</td>\n",
       "      <td>7</td>\n",
       "      <td>8</td>\n",
       "      <td>5</td>\n",
       "      <td>11.200000</td>\n",
       "    </tr>\n",
       "    <tr>\n",
       "      <th>6</th>\n",
       "      <td>Показать на главной странице баннеры с актуаль...</td>\n",
       "      <td>5</td>\n",
       "      <td>3</td>\n",
       "      <td>8</td>\n",
       "      <td>3</td>\n",
       "      <td>8.000000</td>\n",
       "    </tr>\n",
       "    <tr>\n",
       "      <th>2</th>\n",
       "      <td>Добавить блоки рекомендаций товаров на сайт ин...</td>\n",
       "      <td>8</td>\n",
       "      <td>3</td>\n",
       "      <td>7</td>\n",
       "      <td>3</td>\n",
       "      <td>7.000000</td>\n",
       "    </tr>\n",
       "    <tr>\n",
       "      <th>1</th>\n",
       "      <td>Запустить собственную службу доставки, что сок...</td>\n",
       "      <td>2</td>\n",
       "      <td>5</td>\n",
       "      <td>4</td>\n",
       "      <td>10</td>\n",
       "      <td>2.000000</td>\n",
       "    </tr>\n",
       "    <tr>\n",
       "      <th>5</th>\n",
       "      <td>Добавить страницу отзывов клиентов о магазине,...</td>\n",
       "      <td>3</td>\n",
       "      <td>2</td>\n",
       "      <td>2</td>\n",
       "      <td>3</td>\n",
       "      <td>1.333333</td>\n",
       "    </tr>\n",
       "    <tr>\n",
       "      <th>3</th>\n",
       "      <td>Изменить структура категорий, что увеличит кон...</td>\n",
       "      <td>8</td>\n",
       "      <td>3</td>\n",
       "      <td>3</td>\n",
       "      <td>8</td>\n",
       "      <td>1.125000</td>\n",
       "    </tr>\n",
       "    <tr>\n",
       "      <th>4</th>\n",
       "      <td>Изменить цвет фона главной страницы, чтобы уве...</td>\n",
       "      <td>3</td>\n",
       "      <td>1</td>\n",
       "      <td>1</td>\n",
       "      <td>1</td>\n",
       "      <td>1.000000</td>\n",
       "    </tr>\n",
       "  </tbody>\n",
       "</table>\n",
       "</div>"
      ],
      "text/plain": [
       "                                          hypothesis  reach  impact  \\\n",
       "8  Запустить акцию, дающую скидку на товар в день...      1       9   \n",
       "0  Добавить два новых канала привлечения трафика,...      3      10   \n",
       "7  Добавить форму подписки на все основные страни...     10       7   \n",
       "6  Показать на главной странице баннеры с актуаль...      5       3   \n",
       "2  Добавить блоки рекомендаций товаров на сайт ин...      8       3   \n",
       "1  Запустить собственную службу доставки, что сок...      2       5   \n",
       "5  Добавить страницу отзывов клиентов о магазине,...      3       2   \n",
       "3  Изменить структура категорий, что увеличит кон...      8       3   \n",
       "4  Изменить цвет фона главной страницы, чтобы уве...      3       1   \n",
       "\n",
       "   confidence  efforts  ice_score  \n",
       "8           9        5  16.200000  \n",
       "0           8        6  13.333333  \n",
       "7           8        5  11.200000  \n",
       "6           8        3   8.000000  \n",
       "2           7        3   7.000000  \n",
       "1           4       10   2.000000  \n",
       "5           2        3   1.333333  \n",
       "3           3        8   1.125000  \n",
       "4           1        1   1.000000  "
      ]
     },
     "execution_count": 19,
     "metadata": {},
     "output_type": "execute_result"
    }
   ],
   "source": [
    "hypothesis.sort_values(by='ice_score', ascending=False)"
   ]
  },
  {
   "cell_type": "markdown",
   "metadata": {},
   "source": [
    "### Создадим колонку новую и подсчитаем фреймворк RICE  для приоритизации гипотез. "
   ]
  },
  {
   "cell_type": "code",
   "execution_count": 20,
   "metadata": {},
   "outputs": [],
   "source": [
    "hypothesis['rice_score']=hypothesis['reach']*hypothesis['impact']*hypothesis['confidence']/hypothesis['efforts']"
   ]
  },
  {
   "cell_type": "code",
   "execution_count": 21,
   "metadata": {},
   "outputs": [
    {
     "data": {
      "text/html": [
       "<div>\n",
       "<style scoped>\n",
       "    .dataframe tbody tr th:only-of-type {\n",
       "        vertical-align: middle;\n",
       "    }\n",
       "\n",
       "    .dataframe tbody tr th {\n",
       "        vertical-align: top;\n",
       "    }\n",
       "\n",
       "    .dataframe thead th {\n",
       "        text-align: right;\n",
       "    }\n",
       "</style>\n",
       "<table border=\"1\" class=\"dataframe\">\n",
       "  <thead>\n",
       "    <tr style=\"text-align: right;\">\n",
       "      <th></th>\n",
       "      <th>hypothesis</th>\n",
       "      <th>reach</th>\n",
       "      <th>impact</th>\n",
       "      <th>confidence</th>\n",
       "      <th>efforts</th>\n",
       "      <th>ice_score</th>\n",
       "      <th>rice_score</th>\n",
       "    </tr>\n",
       "  </thead>\n",
       "  <tbody>\n",
       "    <tr>\n",
       "      <th>7</th>\n",
       "      <td>Добавить форму подписки на все основные страни...</td>\n",
       "      <td>10</td>\n",
       "      <td>7</td>\n",
       "      <td>8</td>\n",
       "      <td>5</td>\n",
       "      <td>11.200000</td>\n",
       "      <td>112.0</td>\n",
       "    </tr>\n",
       "    <tr>\n",
       "      <th>2</th>\n",
       "      <td>Добавить блоки рекомендаций товаров на сайт ин...</td>\n",
       "      <td>8</td>\n",
       "      <td>3</td>\n",
       "      <td>7</td>\n",
       "      <td>3</td>\n",
       "      <td>7.000000</td>\n",
       "      <td>56.0</td>\n",
       "    </tr>\n",
       "    <tr>\n",
       "      <th>0</th>\n",
       "      <td>Добавить два новых канала привлечения трафика,...</td>\n",
       "      <td>3</td>\n",
       "      <td>10</td>\n",
       "      <td>8</td>\n",
       "      <td>6</td>\n",
       "      <td>13.333333</td>\n",
       "      <td>40.0</td>\n",
       "    </tr>\n",
       "    <tr>\n",
       "      <th>6</th>\n",
       "      <td>Показать на главной странице баннеры с актуаль...</td>\n",
       "      <td>5</td>\n",
       "      <td>3</td>\n",
       "      <td>8</td>\n",
       "      <td>3</td>\n",
       "      <td>8.000000</td>\n",
       "      <td>40.0</td>\n",
       "    </tr>\n",
       "    <tr>\n",
       "      <th>8</th>\n",
       "      <td>Запустить акцию, дающую скидку на товар в день...</td>\n",
       "      <td>1</td>\n",
       "      <td>9</td>\n",
       "      <td>9</td>\n",
       "      <td>5</td>\n",
       "      <td>16.200000</td>\n",
       "      <td>16.2</td>\n",
       "    </tr>\n",
       "    <tr>\n",
       "      <th>3</th>\n",
       "      <td>Изменить структура категорий, что увеличит кон...</td>\n",
       "      <td>8</td>\n",
       "      <td>3</td>\n",
       "      <td>3</td>\n",
       "      <td>8</td>\n",
       "      <td>1.125000</td>\n",
       "      <td>9.0</td>\n",
       "    </tr>\n",
       "    <tr>\n",
       "      <th>1</th>\n",
       "      <td>Запустить собственную службу доставки, что сок...</td>\n",
       "      <td>2</td>\n",
       "      <td>5</td>\n",
       "      <td>4</td>\n",
       "      <td>10</td>\n",
       "      <td>2.000000</td>\n",
       "      <td>4.0</td>\n",
       "    </tr>\n",
       "    <tr>\n",
       "      <th>5</th>\n",
       "      <td>Добавить страницу отзывов клиентов о магазине,...</td>\n",
       "      <td>3</td>\n",
       "      <td>2</td>\n",
       "      <td>2</td>\n",
       "      <td>3</td>\n",
       "      <td>1.333333</td>\n",
       "      <td>4.0</td>\n",
       "    </tr>\n",
       "    <tr>\n",
       "      <th>4</th>\n",
       "      <td>Изменить цвет фона главной страницы, чтобы уве...</td>\n",
       "      <td>3</td>\n",
       "      <td>1</td>\n",
       "      <td>1</td>\n",
       "      <td>1</td>\n",
       "      <td>1.000000</td>\n",
       "      <td>3.0</td>\n",
       "    </tr>\n",
       "  </tbody>\n",
       "</table>\n",
       "</div>"
      ],
      "text/plain": [
       "                                          hypothesis  reach  impact  \\\n",
       "7  Добавить форму подписки на все основные страни...     10       7   \n",
       "2  Добавить блоки рекомендаций товаров на сайт ин...      8       3   \n",
       "0  Добавить два новых канала привлечения трафика,...      3      10   \n",
       "6  Показать на главной странице баннеры с актуаль...      5       3   \n",
       "8  Запустить акцию, дающую скидку на товар в день...      1       9   \n",
       "3  Изменить структура категорий, что увеличит кон...      8       3   \n",
       "1  Запустить собственную службу доставки, что сок...      2       5   \n",
       "5  Добавить страницу отзывов клиентов о магазине,...      3       2   \n",
       "4  Изменить цвет фона главной страницы, чтобы уве...      3       1   \n",
       "\n",
       "   confidence  efforts  ice_score  rice_score  \n",
       "7           8        5  11.200000       112.0  \n",
       "2           7        3   7.000000        56.0  \n",
       "0           8        6  13.333333        40.0  \n",
       "6           8        3   8.000000        40.0  \n",
       "8           9        5  16.200000        16.2  \n",
       "3           3        8   1.125000         9.0  \n",
       "1           4       10   2.000000         4.0  \n",
       "5           2        3   1.333333         4.0  \n",
       "4           1        1   1.000000         3.0  "
      ]
     },
     "execution_count": 21,
     "metadata": {},
     "output_type": "execute_result"
    }
   ],
   "source": [
    "hypothesis.sort_values(by='rice_score', ascending=False)"
   ]
  },
  {
   "cell_type": "markdown",
   "metadata": {},
   "source": [
    "### Как изменилась приоритизация гипотез при применении RICE вместо ICE"
   ]
  },
  {
   "cell_type": "markdown",
   "metadata": {},
   "source": [
    "После применения флейморка ICE наиболее перспективными гипотезами являются:\n",
    "\n",
    "    Запустить акцию, дающую скидку на товар в день рождения (8)\n",
    "    Добавить два новых канала привлечения трафика, что позволит привлекать на 30% больше пользователей (0)\n",
    "    Добавить форму подписки на все основные страницы, чтобы собрать базу клиентов для email-рассылок (7)\n",
    "\n",
    "После применения флейморка RICE наиболее перспективными гипотезами являются:\n",
    "\n",
    "    Добавить форму подписки на все основные страницы, чтобы собрать базу клиентов для email-рассылок (7)\n",
    "    Добавить блоки рекомендаций товаров на сайт интернет магазина, чтобы повысить конверсию и средний чек заказа (2)\n",
    "    Добавить два новых канала привлечения трафика, что позволит привлекать на 30% больше пользователей (0)\n",
    "\n",
    "\n",
    "Приортизация получилась разная, потому что в случае ICE нет фактора reach,  в случае rice есть. \n",
    "    \n",
    "В первом случае, приоритет гипотез происходит по качественному признаку,  параметр Impact решает насколько сильно изменение повлияет на пользователей, их опыт и удовлетворение от продукта. На первое место вышли такие гипотезы как запустить акцию, дающую скидку на товар в день рождения. Добавить два новых канала привлечения трафика, что позволит привлекать на 30% больше пользователей.\n",
    "    \n",
    "Во втором случае, приоритет гипотез происходит по количественному признаку, параметр Reach решает скольких пользователей затронет изменение, которое вы хотите внести. На первое место вышли гипотезы такие как: добавить форму подписки на все основные страницы, чтобы собрать базу клиентов для email-рассылок, добавить два новых канала привлечения трафика, что позволит привлекать на 30% больше пользователей.\n",
    "\n",
    " \n",
    "    \n",
    "\n",
    "\n"
   ]
  },
  {
   "cell_type": "markdown",
   "metadata": {},
   "source": [
    "Выводы:\n",
    "\n",
    "Данные отображаются нормально. Изменили названия колонок и привели их к общепринятым стандартам. Изменили тип временых данных. Проверка показала, что в данных отсутствуют пропущенные значения.\n",
    "Провели приоритизацию гипотез. В случае метода ICE приоритет выбирали по качественному признаку, в случае метода RICE по количественному признаку."
   ]
  },
  {
   "cell_type": "markdown",
   "metadata": {},
   "source": [
    "## Анализ A/B-теста"
   ]
  },
  {
   "cell_type": "markdown",
   "metadata": {},
   "source": [
    "### Построим график кумулятивной выручки по группам"
   ]
  },
  {
   "cell_type": "code",
   "execution_count": 22,
   "metadata": {},
   "outputs": [],
   "source": [
    "# создаем массив уникальных пар значений дат и групп теста\n",
    "datesGroups = orders[['date','group']].drop_duplicates() "
   ]
  },
  {
   "cell_type": "code",
   "execution_count": 23,
   "metadata": {},
   "outputs": [],
   "source": [
    "# получаем агрегированные кумулятивные по дням данные о заказах \n",
    "orders_aggregated = datesGroups.apply(lambda x: orders[np.logical_and(orders['date'] <= x['date'], orders['group'] == x['group'])]\\\n",
    ".agg({'date' : 'max', 'group' : 'max', 'transaction_id' : 'nunique', 'visitor_id' : 'nunique', 'revenue' : 'sum'}), axis=1).sort_values(by=['date','group']) "
   ]
  },
  {
   "cell_type": "code",
   "execution_count": 24,
   "metadata": {},
   "outputs": [],
   "source": [
    "# получаем агрегированные кумулятивные по дням данные о посетителях интернет-магазина \n",
    "visitors_aggregated = datesGroups.apply(lambda x: visitors[np.logical_and(visitors['date'] <= x['date'], visitors['group'] == x['group'])].agg({'date' : 'max', 'group' : 'max', 'visitors' : 'sum'}), axis=1).sort_values(by=['date','group']) "
   ]
  },
  {
   "cell_type": "code",
   "execution_count": 25,
   "metadata": {},
   "outputs": [
    {
     "name": "stdout",
     "output_type": "stream",
     "text": [
      "        date group  orders  buyers  revenue  visitors\n",
      "0 2019-08-01     A      24      20   148579       719\n",
      "1 2019-08-01     B      21      20   101217       713\n",
      "2 2019-08-02     A      44      38   242401      1338\n",
      "3 2019-08-02     B      45      43   266748      1294\n",
      "4 2019-08-03     A      68      62   354874      1845\n"
     ]
    }
   ],
   "source": [
    "# объединяем кумулятивные данные в одной таблице и присваиваем ее столбцам понятные названия\n",
    "cumulative_data = orders_aggregated.merge(visitors_aggregated, left_on=['date', 'group'], right_on=['date', 'group'])\n",
    "cumulative_data.columns = ['date', 'group', 'orders', 'buyers', 'revenue', 'visitors']\n",
    "print(cumulative_data.head()) "
   ]
  },
  {
   "cell_type": "code",
   "execution_count": 26,
   "metadata": {},
   "outputs": [],
   "source": [
    "# датафрейм с кумулятивным количеством заказов и кумулятивной выручкой по дням в группе А\n",
    "cumulative_revenueA = cumulative_data[cumulative_data['group']=='A'][['date','revenue', 'orders']]\n"
   ]
  },
  {
   "cell_type": "code",
   "execution_count": 27,
   "metadata": {},
   "outputs": [],
   "source": [
    "# датафрейм с кумулятивным количеством заказов и кумулятивной выручкой по дням в группе B\n",
    "cumulative_revenueB = cumulative_data[cumulative_data['group']=='B'][['date','revenue', 'orders']]"
   ]
  },
  {
   "cell_type": "code",
   "execution_count": 28,
   "metadata": {},
   "outputs": [
    {
     "data": {
      "image/png": "[encoded data removed]",
      "text/plain": [
       "<Figure size 432x288 with 1 Axes>"
      ]
     },
     "metadata": {
      "needs_background": "light"
     },
     "output_type": "display_data"
    }
   ],
   "source": [
    "# Строим график выручки группы А\n",
    "\n",
    "plt.plot(cumulative_revenueA['date'], cumulative_revenueA['revenue'], label='A')\n",
    "\n",
    "# Строим график выручки группы B\n",
    "plt.plot(cumulative_revenueB['date'], cumulative_revenueB['revenue'], label='B')\n",
    "plt.xlabel('date')\n",
    "plt.ylabel('revenue')\n",
    "plt.title('График кумулятивной выручки по группам А и В', loc='right')\n",
    "plt.legend() \n",
    "plt.xticks(rotation=15)\n",
    "\n",
    "plt.show()\n"
   ]
  },
  {
   "cell_type": "markdown",
   "metadata": {},
   "source": [
    "Прибыль все время растет. Это приятный факт. В начале коверсии группы  А и В шли одинаково, но потом конверсия группы В стало значительно сильнее расти вверх. Видно, что бизнес-решение в группе В более выгодно."
   ]
  },
  {
   "cell_type": "markdown",
   "metadata": {},
   "source": [
    "### Построим график кумулятивного среднего чека по группам."
   ]
  },
  {
   "cell_type": "code",
   "execution_count": 29,
   "metadata": {},
   "outputs": [
    {
     "data": {
      "image/png": "[encoded data removed]",
      "text/plain": [
       "<Figure size 432x288 with 1 Axes>"
      ]
     },
     "metadata": {
      "needs_background": "light"
     },
     "output_type": "display_data"
    }
   ],
   "source": [
    "# разделим кумулятивную выручку на кумулятивное число заказов и построим графики\n",
    "plt.plot(cumulative_revenueA['date'], cumulative_revenueA['revenue']/cumulative_revenueA['orders'], label='A')\n",
    "plt.plot(cumulative_revenueB['date'], cumulative_revenueB['revenue']/cumulative_revenueB['orders'], label='B')\n",
    "plt.xlabel('date')\n",
    "plt.title('График кумулятивного среднего чека по группам А и В')\n",
    "plt.ylabel('кумулятивный средний чек')\n",
    "plt.legend() \n",
    "plt.xticks(rotation=15)\n",
    "plt.show()"
   ]
  },
  {
   "cell_type": "markdown",
   "metadata": {},
   "source": [
    "Половина периода средние чеки шли примерно одинаково, но потом средний чек резко поднялся и в конце стабилизировался. Возможно это связано с аномальными заказами. "
   ]
  },
  {
   "cell_type": "markdown",
   "metadata": {},
   "source": [
    "### Построим график относительного изменения кумулятивного среднего чека группы B к группе A."
   ]
  },
  {
   "cell_type": "code",
   "execution_count": 30,
   "metadata": {
    "scrolled": false
   },
   "outputs": [
    {
     "data": {
      "image/png": "[encoded data removed]",
      "text/plain": [
       "<Figure size 432x288 with 1 Axes>"
      ]
     },
     "metadata": {
      "needs_background": "light"
     },
     "output_type": "display_data"
    }
   ],
   "source": [
    "# собираем данные в одном датафрейме\n",
    "merged_cumulative_revenue = cumulative_revenueA.merge(cumulative_revenueB, left_on='date', right_on='date', how='left', suffixes=['A', 'B'])\n",
    "# cтроим отношение средних чеков\n",
    "plt.plot(merged_cumulative_revenue['date'], (merged_cumulative_revenue['revenueB']/merged_cumulative_revenue['ordersB'])/(merged_cumulative_revenue['revenueA']/merged_cumulative_revenue['ordersA'])-1)\n",
    "# добавляем ось X\n",
    "plt.axhline(y=0, color='black', linestyle='--') \n",
    "plt.title('График относительного изменения кумулятивного среднего чека группы B к группе A', loc='left')\n",
    "plt.xlabel('date')\n",
    "plt.ylabel('отн. изменения кумулятивного среднего чека')\n",
    "\n",
    "plt.xticks(rotation=15)\n",
    "plt.show()"
   ]
  },
  {
   "cell_type": "markdown",
   "metadata": {},
   "source": [
    "В нескольких точках график резко скачет, где-то спрятались крупные заказы и выбросы! Удалим их позже."
   ]
  },
  {
   "cell_type": "markdown",
   "metadata": {},
   "source": [
    "### Построим график кумулятивной конверсии по группам."
   ]
  },
  {
   "cell_type": "code",
   "execution_count": 31,
   "metadata": {},
   "outputs": [],
   "source": [
    "# подсчитаем кумулятивную конверсию\n",
    "cumulative_data['conversion'] = cumulative_data['orders']/cumulative_data['visitors']"
   ]
  },
  {
   "cell_type": "code",
   "execution_count": 32,
   "metadata": {},
   "outputs": [
    {
     "data": {
      "image/png": "[encoded data removed]",
      "text/plain": [
       "<Figure size 432x288 with 1 Axes>"
      ]
     },
     "metadata": {
      "needs_background": "light"
     },
     "output_type": "display_data"
    }
   ],
   "source": [
    "# Выделяем данные по группе A\n",
    "cumulative_data_converA = cumulative_data[cumulative_data['group']=='A']\n",
    "\n",
    "# Выделяем данные по группе В\n",
    "cumulative_data_converB = cumulative_data[cumulative_data['group']=='B']\n",
    "\n",
    "# строим графики\n",
    "plt.plot(cumulative_data_converA['date'], cumulative_data_converA['conversion'], label='A')\n",
    "plt.plot(cumulative_data_converB['date'], cumulative_data_converB['conversion'], label='B')\n",
    "cumulative_data_converB['date']\n",
    "plt.legend()\n",
    "plt.title('График кумулятивной конверсии по группам')\n",
    "plt.xlabel('date')\n",
    "plt.ylabel('conversion')\n",
    "# задаем масштаб осей\n",
    "plt.axis([cumulative_data_converA['date'].min(), cumulative_data_converA['date'].max(), 0.025, 0.038])\n",
    "plt.xticks(rotation=15)\n",
    "plt.show()"
   ]
  },
  {
   "cell_type": "markdown",
   "metadata": {},
   "source": [
    "В начале группы колебались возле одного значения, но потом конверсия группы В вышла вперед и зафиксировалась, а конверсия группы А пошла вниз и зафиксировалась. Возможно бизнес-решение группы В более выгодное."
   ]
  },
  {
   "cell_type": "markdown",
   "metadata": {},
   "source": [
    "### Построим график относительного изменения кумулятивной конверсии группы B к группе A. "
   ]
  },
  {
   "cell_type": "code",
   "execution_count": 33,
   "metadata": {},
   "outputs": [
    {
     "data": {
      "image/png": "[encoded data removed]",
      "text/plain": [
       "<Figure size 432x288 with 1 Axes>"
      ]
     },
     "metadata": {
      "needs_background": "light"
     },
     "output_type": "display_data"
    }
   ],
   "source": [
    "# Соединим выбранные данные\n",
    "merged_cumulative_conversions = cumulative_data_converA[['date','conversion']].merge(cumulative_data_converB[['date','conversion']], left_on='date', right_on='date', how='left', suffixes=['A', 'B'])\n",
    "\n",
    "plt.plot(merged_cumulative_conversions['date'], merged_cumulative_conversions['conversionB']/merged_cumulative_conversions['conversionA']-1)\n",
    "plt.title('Относительный прирост конверсии группы B относительно группы A')\n",
    "plt.axhline(y=0, color='black', linestyle='--')\n",
    "plt.axhline(y=-0.1, color='grey', linestyle='--')\n",
    "plt.xticks(rotation=15)\n",
    "plt.xlabel('date')\n",
    "plt.ylabel('отн. изм-ние кумул. коверсии')\n",
    "\n",
    "# задаем масштаб осей\n",
    "plt.axis([cumulative_data['date'].min(), cumulative_data['date'].max(), -0.15, 0.25]) \n",
    "plt.show()\n",
    "\n"
   ]
  },
  {
   "cell_type": "markdown",
   "metadata": {},
   "source": [
    "Сначала группа В колебалась, то  выигрывала, то проигрывала группе А, но потом уверенно стала подниматься вверх и стала полностью доминировать. График опять показывает преимущество группы В над А, но выводы рано еще делать, надо проверит данные на аномалии."
   ]
  },
  {
   "cell_type": "markdown",
   "metadata": {},
   "source": [
    "### Построим точечный график количества заказов по пользователям. "
   ]
  },
  {
   "cell_type": "code",
   "execution_count": 34,
   "metadata": {},
   "outputs": [
    {
     "data": {
      "image/png": "[encoded data removed]",
      "text/plain": [
       "<Figure size 432x288 with 1 Axes>"
      ]
     },
     "metadata": {
      "needs_background": "light"
     },
     "output_type": "display_data"
    }
   ],
   "source": [
    "# Сделаем сводную таблицу для подсчета количества пользователей\n",
    "orders_by_users=orders.pivot_table(index='visitor_id', values='transaction_id', aggfunc='count')\n",
    "sbn.scatterplot(data=orders_by_users)\n",
    "plt.ylabel('transaction_id')\n",
    "plt.title('Точечный график количества заказов по пользователям')\n",
    "plt.show()\n"
   ]
  },
  {
   "cell_type": "markdown",
   "metadata": {},
   "source": [
    "В данных есть выбросы, но их не много. Есть 8 заказов, даже больше 10 заказов. Но  в основном количество заказов от 1 до 3."
   ]
  },
  {
   "cell_type": "markdown",
   "metadata": {},
   "source": [
    "### Подсчитаем 95-й и 99-й перцентили количества заказов на пользователя. "
   ]
  },
  {
   "cell_type": "code",
   "execution_count": 35,
   "metadata": {},
   "outputs": [
    {
     "name": "stdout",
     "output_type": "stream",
     "text": [
      "[2. 4.]\n"
     ]
    }
   ],
   "source": [
    "print(np.percentile(orders_by_users['transaction_id'], [95, 99]))"
   ]
  },
  {
   "cell_type": "markdown",
   "metadata": {},
   "source": [
    "Выберем нижнюю границу аномальных значений 4 заказа"
   ]
  },
  {
   "cell_type": "markdown",
   "metadata": {},
   "source": [
    "### Построим точечный график стоимостей заказов."
   ]
  },
  {
   "cell_type": "code",
   "execution_count": 36,
   "metadata": {},
   "outputs": [
    {
     "data": {
      "image/png": "[encoded data removed]",
      "text/plain": [
       "<Figure size 432x288 with 1 Axes>"
      ]
     },
     "metadata": {
      "needs_background": "light"
     },
     "output_type": "display_data"
    }
   ],
   "source": [
    "x_values = pd.Series(range(0,len(orders['revenue'])))\n",
    "sbn.scatterplot(x=x_values, y='revenue', data=orders)\n",
    "plt.xlabel('x_values')\n",
    "plt.title('Точечный график стоимостей заказов')\n",
    "plt.show()"
   ]
  },
  {
   "cell_type": "markdown",
   "metadata": {},
   "source": [
    "Выбросы есть, в виде дорогих заказов, но их очень мало."
   ]
  },
  {
   "cell_type": "markdown",
   "metadata": {},
   "source": [
    "### Найдем 95-й и 99-й перцентили стоимости заказов."
   ]
  },
  {
   "cell_type": "code",
   "execution_count": 37,
   "metadata": {},
   "outputs": [
    {
     "name": "stdout",
     "output_type": "stream",
     "text": [
      "[28000.  58233.2]\n"
     ]
    }
   ],
   "source": [
    "print(np.percentile(orders['revenue'], [95, 99]))"
   ]
  },
  {
   "cell_type": "markdown",
   "metadata": {},
   "source": [
    "Выберем нижнюю границу аномальных значений 58233.2"
   ]
  },
  {
   "cell_type": "markdown",
   "metadata": {},
   "source": [
    "### Посчитаем статистическую значимость различий в конверсии между группами по «сырым» данным."
   ]
  },
  {
   "cell_type": "markdown",
   "metadata": {},
   "source": [
    "Начнем расчет с подготовки данных"
   ]
  },
  {
   "cell_type": "markdown",
   "metadata": {},
   "source": [
    "#### Подсчитаем кумулятивные значения для группы А таблицы visitors"
   ]
  },
  {
   "cell_type": "code",
   "execution_count": 38,
   "metadata": {},
   "outputs": [],
   "source": [
    "visitors_A_daily = visitors[visitors['group'] == 'A'][['date', 'visitors']]\n",
    "visitors_A_daily.columns = ['date', 'visitors_per_date_A']\n"
   ]
  },
  {
   "cell_type": "code",
   "execution_count": 39,
   "metadata": {},
   "outputs": [],
   "source": [
    "visitors_A_cummulative = visitors_A_daily.apply(lambda x: visitors_A_daily[visitors_A_daily['date'] <= x['date']].agg({'date': 'max', 'visitors_per_date_A': 'sum'}\n",
    "),axis=1)\n",
    "visitors_A_cummulative.columns = ['date', 'visitors_cummulative_A']\n"
   ]
  },
  {
   "cell_type": "markdown",
   "metadata": {},
   "source": [
    "#### Подсчитаем кумулятивные значения для группы В таблицы visitors"
   ]
  },
  {
   "cell_type": "code",
   "execution_count": 40,
   "metadata": {},
   "outputs": [],
   "source": [
    "visitors_B_daily = visitors[visitors['group'] == 'B'][['date', 'visitors']]\n",
    "visitors_B_daily.columns = ['date', 'visitors_per_date_B']\n"
   ]
  },
  {
   "cell_type": "code",
   "execution_count": 41,
   "metadata": {},
   "outputs": [],
   "source": [
    "visitors_B_cummulative = visitors_B_daily.apply(lambda x: visitors_B_daily[visitors_B_daily['date'] <= x['date']].agg({'date': 'max', 'visitors_per_date_B': 'sum'}\n",
    "),axis=1)\n",
    "visitors_B_cummulative.columns = ['date', 'visitors_cummulative_B']\n"
   ]
  },
  {
   "cell_type": "markdown",
   "metadata": {},
   "source": [
    "#### Подсчитаем кумулятивные значения для группы А таблицы orders"
   ]
  },
  {
   "cell_type": "code",
   "execution_count": 42,
   "metadata": {},
   "outputs": [],
   "source": [
    "orders_A_daily =(orders[orders['group'] == 'A'][['date', 'transaction_id', 'visitor_id', 'revenue']].groupby('date', as_index=False)\n",
    ".agg({'transaction_id': pd.Series.nunique, 'revenue': 'sum'}))\n",
    "orders_A_daily.columns = ['date', 'orders_per_date_A', 'revenue_per_date_A']"
   ]
  },
  {
   "cell_type": "code",
   "execution_count": 43,
   "metadata": {},
   "outputs": [],
   "source": [
    "orders_A_cummulative = orders_A_daily.apply(lambda x: orders_A_daily[orders_A_daily['date'] <= x['date']].agg(\n",
    "{'date': 'max', 'orders_per_date_A': 'sum', 'revenue_per_date_A': 'sum'}),axis=1,).sort_values(by=['date'])\n",
    "\n",
    "orders_A_cummulative.columns = ['date','orders_cummulative_A','revenue_cummulative_A']"
   ]
  },
  {
   "cell_type": "markdown",
   "metadata": {},
   "source": [
    "#### Подсчитаем кумулятивные значения для группы В таблицы orders"
   ]
  },
  {
   "cell_type": "code",
   "execution_count": 44,
   "metadata": {},
   "outputs": [],
   "source": [
    "orders_B_daily =(orders[orders['group'] == 'B'][['date', 'transaction_id', 'visitor_id', 'revenue']].groupby('date', as_index=False)\n",
    ".agg({'transaction_id': pd.Series.nunique, 'revenue': 'sum'}))\n",
    "\n",
    "orders_B_daily.columns = ['date', 'orders_per_date_B', 'revenue_per_date_B']"
   ]
  },
  {
   "cell_type": "code",
   "execution_count": 45,
   "metadata": {},
   "outputs": [],
   "source": [
    "orders_B_cummulative = orders_B_daily.apply(lambda x: orders_B_daily[orders_B_daily['date'] <= x['date']].agg(\n",
    "{'date': 'max', 'orders_per_date_B': 'sum', 'revenue_per_date_B': 'sum'}),axis=1,).sort_values(by=['date'])\n",
    "\n",
    "orders_B_cummulative.columns = ['date','orders_cummulative_B','revenue_cummulative_B']"
   ]
  },
  {
   "cell_type": "markdown",
   "metadata": {},
   "source": [
    "#### Соберем все наши таблицы в одну общую таблицу"
   ]
  },
  {
   "cell_type": "code",
   "execution_count": 46,
   "metadata": {},
   "outputs": [
    {
     "data": {
      "text/html": [
       "<div>\n",
       "<style scoped>\n",
       "    .dataframe tbody tr th:only-of-type {\n",
       "        vertical-align: middle;\n",
       "    }\n",
       "\n",
       "    .dataframe tbody tr th {\n",
       "        vertical-align: top;\n",
       "    }\n",
       "\n",
       "    .dataframe thead th {\n",
       "        text-align: right;\n",
       "    }\n",
       "</style>\n",
       "<table border=\"1\" class=\"dataframe\">\n",
       "  <thead>\n",
       "    <tr style=\"text-align: right;\">\n",
       "      <th></th>\n",
       "      <th>date</th>\n",
       "      <th>orders_per_date_A</th>\n",
       "      <th>revenue_per_date_A</th>\n",
       "      <th>orders_per_date_B</th>\n",
       "      <th>revenue_per_date_B</th>\n",
       "      <th>orders_cummulative_A</th>\n",
       "      <th>revenue_cummulative_A</th>\n",
       "      <th>orders_cummulative_B</th>\n",
       "      <th>revenue_cummulative_B</th>\n",
       "      <th>visitors_per_date_A</th>\n",
       "      <th>visitors_per_date_B</th>\n",
       "      <th>visitors_cummulative_A</th>\n",
       "      <th>visitors_cummulative_B</th>\n",
       "    </tr>\n",
       "  </thead>\n",
       "  <tbody>\n",
       "    <tr>\n",
       "      <th>0</th>\n",
       "      <td>2019-08-01</td>\n",
       "      <td>24</td>\n",
       "      <td>148579</td>\n",
       "      <td>21</td>\n",
       "      <td>101217</td>\n",
       "      <td>24</td>\n",
       "      <td>148579</td>\n",
       "      <td>21</td>\n",
       "      <td>101217</td>\n",
       "      <td>719</td>\n",
       "      <td>713</td>\n",
       "      <td>719</td>\n",
       "      <td>713</td>\n",
       "    </tr>\n",
       "    <tr>\n",
       "      <th>1</th>\n",
       "      <td>2019-08-02</td>\n",
       "      <td>20</td>\n",
       "      <td>93822</td>\n",
       "      <td>24</td>\n",
       "      <td>165531</td>\n",
       "      <td>44</td>\n",
       "      <td>242401</td>\n",
       "      <td>45</td>\n",
       "      <td>266748</td>\n",
       "      <td>619</td>\n",
       "      <td>581</td>\n",
       "      <td>1338</td>\n",
       "      <td>1294</td>\n",
       "    </tr>\n",
       "    <tr>\n",
       "      <th>2</th>\n",
       "      <td>2019-08-03</td>\n",
       "      <td>24</td>\n",
       "      <td>112473</td>\n",
       "      <td>16</td>\n",
       "      <td>114248</td>\n",
       "      <td>68</td>\n",
       "      <td>354874</td>\n",
       "      <td>61</td>\n",
       "      <td>380996</td>\n",
       "      <td>507</td>\n",
       "      <td>509</td>\n",
       "      <td>1845</td>\n",
       "      <td>1803</td>\n",
       "    </tr>\n",
       "    <tr>\n",
       "      <th>3</th>\n",
       "      <td>2019-08-04</td>\n",
       "      <td>16</td>\n",
       "      <td>70825</td>\n",
       "      <td>17</td>\n",
       "      <td>108571</td>\n",
       "      <td>84</td>\n",
       "      <td>425699</td>\n",
       "      <td>78</td>\n",
       "      <td>489567</td>\n",
       "      <td>717</td>\n",
       "      <td>770</td>\n",
       "      <td>2562</td>\n",
       "      <td>2573</td>\n",
       "    </tr>\n",
       "    <tr>\n",
       "      <th>4</th>\n",
       "      <td>2019-08-05</td>\n",
       "      <td>25</td>\n",
       "      <td>124218</td>\n",
       "      <td>23</td>\n",
       "      <td>92428</td>\n",
       "      <td>109</td>\n",
       "      <td>549917</td>\n",
       "      <td>101</td>\n",
       "      <td>581995</td>\n",
       "      <td>756</td>\n",
       "      <td>707</td>\n",
       "      <td>3318</td>\n",
       "      <td>3280</td>\n",
       "    </tr>\n",
       "  </tbody>\n",
       "</table>\n",
       "</div>"
      ],
      "text/plain": [
       "        date  orders_per_date_A  revenue_per_date_A  orders_per_date_B  \\\n",
       "0 2019-08-01                 24              148579                 21   \n",
       "1 2019-08-02                 20               93822                 24   \n",
       "2 2019-08-03                 24              112473                 16   \n",
       "3 2019-08-04                 16               70825                 17   \n",
       "4 2019-08-05                 25              124218                 23   \n",
       "\n",
       "   revenue_per_date_B  orders_cummulative_A  revenue_cummulative_A  \\\n",
       "0              101217                    24                 148579   \n",
       "1              165531                    44                 242401   \n",
       "2              114248                    68                 354874   \n",
       "3              108571                    84                 425699   \n",
       "4               92428                   109                 549917   \n",
       "\n",
       "   orders_cummulative_B  revenue_cummulative_B  visitors_per_date_A  \\\n",
       "0                    21                 101217                  719   \n",
       "1                    45                 266748                  619   \n",
       "2                    61                 380996                  507   \n",
       "3                    78                 489567                  717   \n",
       "4                   101                 581995                  756   \n",
       "\n",
       "   visitors_per_date_B  visitors_cummulative_A  visitors_cummulative_B  \n",
       "0                  713                     719                     713  \n",
       "1                  581                    1338                    1294  \n",
       "2                  509                    1845                    1803  \n",
       "3                  770                    2562                    2573  \n",
       "4                  707                    3318                    3280  "
      ]
     },
     "execution_count": 46,
     "metadata": {},
     "output_type": "execute_result"
    }
   ],
   "source": [
    "cummulative_data=orders_A_daily.merge(orders_B_daily, left_on='date', right_on='date', how='left'\n",
    ").merge(orders_A_cummulative, left_on='date', right_on='date', how='left'\n",
    ").merge(orders_B_cummulative, left_on='date', right_on='date', how='left'\n",
    ").merge(visitors_A_daily, left_on='date', right_on='date', how='left'\n",
    ").merge(visitors_B_daily, left_on='date', right_on='date', how='left'\n",
    ").merge(visitors_A_cummulative, left_on='date', right_on='date', how='left'\n",
    ").merge(visitors_B_cummulative, left_on='date', right_on='date', how='left')\n",
    "cummulative_data.head()"
   ]
  },
  {
   "cell_type": "markdown",
   "metadata": {},
   "source": [
    "####  Создадим переменные orders_by_users_A и orders_by_users_B, в которых будут пользователи, которые заказывали хотя бы 1 раз, укажем число совершённых заказов. \n"
   ]
  },
  {
   "cell_type": "code",
   "execution_count": 47,
   "metadata": {},
   "outputs": [],
   "source": [
    "orders_by_users_A = (orders[orders['group'] == 'A'].groupby('visitor_id', as_index=False).agg({'transaction_id': pd.Series.nunique}))\n",
    "orders_by_users_A.columns = ['visitor_id', 'orders']\n"
   ]
  },
  {
   "cell_type": "code",
   "execution_count": 48,
   "metadata": {},
   "outputs": [],
   "source": [
    "orders_by_users_B = (orders[orders['group'] == 'B'].groupby('visitor_id', as_index=False).agg({'transaction_id': pd.Series.nunique}))\n",
    "orders_by_users_B.columns = ['visitor_id', 'orders']"
   ]
  },
  {
   "cell_type": "markdown",
   "metadata": {},
   "source": [
    "####  Объявим переменные sample_A и sample_B, в которых пользователям из разных групп будет соответствовать количество заказов."
   ]
  },
  {
   "cell_type": "code",
   "execution_count": 49,
   "metadata": {},
   "outputs": [],
   "source": [
    "sample_A = pd.concat([orders_by_users_A['orders'], pd.Series(0,index=np.arange(cummulative_data['visitors_per_date_A'].sum() - len(orders_by_users_A['orders'])),\n",
    "name='orders')], axis=0)\n"
   ]
  },
  {
   "cell_type": "code",
   "execution_count": 50,
   "metadata": {},
   "outputs": [],
   "source": [
    "sample_B = pd.concat([orders_by_users_B['orders'], pd.Series(0,index=np.arange(cummulative_data['visitors_per_date_B'].sum() - len(orders_by_users_B['orders'])),\n",
    "name='orders')], axis=0)"
   ]
  },
  {
   "cell_type": "markdown",
   "metadata": {},
   "source": [
    "####  Посчитаем статистическую значимость различий в конверсии между группами"
   ]
  },
  {
   "cell_type": "markdown",
   "metadata": {},
   "source": [
    "Сформулируем гипотезы. Нулевая: различий в конверсии между группами нет. Альтернативная: различия в конверсии между группами есть."
   ]
  },
  {
   "cell_type": "code",
   "execution_count": 51,
   "metadata": {},
   "outputs": [
    {
     "name": "stdout",
     "output_type": "stream",
     "text": [
      "p-значение:  0.016792355056752608\n",
      "Отвергаем нулевую гипотезу: разница статистически значима\n",
      "0.13807884655320146\n"
     ]
    }
   ],
   "source": [
    "alpha = 0.05  # критический уровень статистической значимости\n",
    "\n",
    "results = st.mannwhitneyu(sample_A, sample_B, alternative=\"two-sided\")\n",
    "\n",
    "print('p-значение: ', results.pvalue)\n",
    "\n",
    "if results.pvalue < alpha:\n",
    "    print('Отвергаем нулевую гипотезу: разница статистически значима')\n",
    "else:\n",
    "    print(\n",
    "        'Не получилось отвергнуть нулевую гипотезу, вывод о различии сделать нельзя') \n",
    "\n",
    "print(sample_B.mean() / sample_A.mean() - 1)"
   ]
  },
  {
   "cell_type": "markdown",
   "metadata": {},
   "source": [
    "Проверка гипотезы показала разница между группами есть, и относительное изменение средних значений конверсий положительное, что подтверждает разница есть и преимущество в пользу бизнес-решения группы В"
   ]
  },
  {
   "cell_type": "markdown",
   "metadata": {},
   "source": [
    "### Посчитаем статистическую значимость различий в среднем чеке заказа между группами по «сырым» данным."
   ]
  },
  {
   "cell_type": "markdown",
   "metadata": {},
   "source": [
    "Сформулируем гипотезы. Нулевая: различий в среднем чеке между группами нет. Альтернативная: различия в среднем чеке между группами есть."
   ]
  },
  {
   "cell_type": "code",
   "execution_count": 52,
   "metadata": {},
   "outputs": [
    {
     "name": "stdout",
     "output_type": "stream",
     "text": [
      "p-значение:  0.7292909855432458\n",
      "Не получилось отвергнуть нулевую гипотезу, вывод о различии сделать нельзя\n",
      "0.2587136699126005\n"
     ]
    }
   ],
   "source": [
    "alpha = 0.05  # критический уровень статистической значимости\n",
    "\n",
    "results = st.mannwhitneyu(orders[orders['group']=='A']['revenue'], orders[orders['group']=='B']['revenue'], alternative=\"two-sided\")\n",
    "\n",
    "print('p-значение: ', results.pvalue)\n",
    "\n",
    "if results.pvalue < alpha:\n",
    "    print('Отвергаем нулевую гипотезу: разница статистически значима')\n",
    "else:\n",
    "    print(\n",
    "        'Не получилось отвергнуть нулевую гипотезу, вывод о различии сделать нельзя') \n",
    "\n",
    "print(orders[orders['group']=='B']['revenue'].mean() / orders[orders['group']=='A']['revenue'].mean() - 1)"
   ]
  },
  {
   "cell_type": "markdown",
   "metadata": {},
   "source": [
    "Тест показал, что различий в среднем чеке нет, p_value 72%. Но относительное изменение средних значений средних чеков положительное, что говорит преимущество в пользу бизнес-решения группы В. "
   ]
  },
  {
   "cell_type": "markdown",
   "metadata": {},
   "source": [
    "### Посчитаем статистическую значимость различий в конверсии между группами по «очищенным» данным."
   ]
  },
  {
   "cell_type": "markdown",
   "metadata": {},
   "source": [
    "#### Сделаем срезы пользователей с числом заказов больше 4 — abnormal_orders и пользователей, совершивших заказы дороже 58233.2 — orders_by_users_B. Объединим их в таблице abnormal_users"
   ]
  },
  {
   "cell_type": "code",
   "execution_count": 53,
   "metadata": {},
   "outputs": [],
   "source": [
    "abnormal_orders = pd.concat([orders_by_users_A[orders_by_users_A['orders'] > 4]['visitor_id'],\n",
    "orders_by_users_B[orders_by_users_B['orders'] > 4]['visitor_id'],], axis=0)"
   ]
  },
  {
   "cell_type": "code",
   "execution_count": 54,
   "metadata": {},
   "outputs": [],
   "source": [
    "abnormal_revenue = orders[orders['revenue'] > 58233.2]['visitor_id']"
   ]
  },
  {
   "cell_type": "code",
   "execution_count": 55,
   "metadata": {},
   "outputs": [
    {
     "name": "stdout",
     "output_type": "stream",
     "text": [
      "1099     148427295\n",
      "949      887908475\n",
      "744      888512513\n",
      "1103    1164614297\n",
      "1136    1307669133\n",
      "Name: visitor_id, dtype: int64\n",
      "15\n"
     ]
    }
   ],
   "source": [
    "abnormal_users = (pd.concat([abnormal_orders, abnormal_revenue], axis=0).drop_duplicates().sort_values())\n",
    "print(abnormal_users.head())\n",
    "print(abnormal_users.shape[0])"
   ]
  },
  {
   "cell_type": "markdown",
   "metadata": {},
   "source": [
    "Аномальных пользователей получается 15."
   ]
  },
  {
   "cell_type": "markdown",
   "metadata": {},
   "source": [
    "#### Отфильтруем переменные sample_A  и sample _B от аномальных пользователей"
   ]
  },
  {
   "cell_type": "code",
   "execution_count": 56,
   "metadata": {},
   "outputs": [],
   "source": [
    "sample_A_select = pd.concat([orders_by_users_A[np.logical_not(orders_by_users_A['visitor_id'].isin(abnormal_users))]['orders'],\n",
    "pd.Series(0, index=np.arange(cummulative_data['visitors_per_date_A'].sum() - len(orders_by_users_A['orders'])), name='orders')], axis=0)\n"
   ]
  },
  {
   "cell_type": "code",
   "execution_count": 57,
   "metadata": {},
   "outputs": [],
   "source": [
    "sample_B_select= pd.concat([orders_by_users_B[np.logical_not(orders_by_users_B['visitor_id'].isin(abnormal_users))]['orders'],\n",
    "pd.Series(0, index=np.arange(cummulative_data['visitors_per_date_B'].sum() - len(orders_by_users_B['orders'])), name='orders')], axis=0)\n"
   ]
  },
  {
   "cell_type": "markdown",
   "metadata": {},
   "source": [
    "#### Посчитаем статистическую значимость различий в конверсии между группами"
   ]
  },
  {
   "cell_type": "markdown",
   "metadata": {},
   "source": [
    "Нулевая гипотеза будет различий в конверсии между группами нет, альтернативная - статистической различий в конверсии между группами есть"
   ]
  },
  {
   "cell_type": "code",
   "execution_count": 58,
   "metadata": {},
   "outputs": [
    {
     "name": "stdout",
     "output_type": "stream",
     "text": [
      "p-значение:  0.014380135585307981\n",
      "Отвергаем нулевую гипотезу: разница статистически значима\n",
      "0.15331306791514754\n"
     ]
    }
   ],
   "source": [
    "alpha = 0.05  # критический уровень статистической значимости\n",
    "\n",
    "results = st.mannwhitneyu(sample_A_select, sample_B_select, alternative=\"two-sided\")\n",
    "\n",
    "print('p-значение: ', results.pvalue)\n",
    "\n",
    "if results.pvalue < alpha:\n",
    "    print('Отвергаем нулевую гипотезу: разница статистически значима')\n",
    "else:\n",
    "    print(\n",
    "        'Не получилось отвергнуть нулевую гипотезу, вывод о различии сделать нельзя') \n",
    "\n",
    "print(sample_B_select.mean() / sample_A_select.mean() - 1)"
   ]
  },
  {
   "cell_type": "markdown",
   "metadata": {},
   "source": [
    "Проверка гипотезы по очищенным данным показала разница между группами есть, и относительное изменение средних значений конверсий положительное, что подтверждает, разница есть и преимущество в пользу бизнес-решения группы В"
   ]
  },
  {
   "cell_type": "markdown",
   "metadata": {},
   "source": [
    "### Посчитаем статистическую значимость различий в среднем чеке заказа между группами по «очищенным» данным. "
   ]
  },
  {
   "cell_type": "markdown",
   "metadata": {},
   "source": [
    "Нулевая гипотеза будет различие в среднем чеке между группами А и В нет, альтернативная - статистической различие в среднем чеке между группами есть"
   ]
  },
  {
   "cell_type": "code",
   "execution_count": 59,
   "metadata": {
    "scrolled": true
   },
   "outputs": [
    {
     "name": "stdout",
     "output_type": "stream",
     "text": [
      "p-значение:  0.8509126191381939\n",
      "Не получилось отвергнуть нулевую гипотезу, вывод о различии сделать нельзя\n",
      "-0.005748871952734214\n"
     ]
    }
   ],
   "source": [
    "alpha = 0.05  # критический уровень статистической значимости\n",
    "\n",
    "# Создадим датасет группы А по оплате заказов без аномальных пользователей\n",
    "middle_check_A=orders[np.logical_and(orders['group'] == 'A',\n",
    "np.logical_not(orders['visitor_id'].isin(abnormal_users)))]['revenue']\n",
    "\n",
    "# Создадим датасет группы В по оплате заказов без аномальных пользователей\n",
    "middle_check_B=orders[np.logical_and(orders['group'] == 'B',\n",
    "np.logical_not(orders['visitor_id'].isin(abnormal_users)))]['revenue']\n",
    "\n",
    "results = st.mannwhitneyu(middle_check_A, middle_check_B, alternative=\"two-sided\")\n",
    "\n",
    "print('p-значение: ', results.pvalue)\n",
    "\n",
    "if results.pvalue < alpha:\n",
    "    print('Отвергаем нулевую гипотезу: разница статистически значима')\n",
    "else:\n",
    "    print(\n",
    "        'Не получилось отвергнуть нулевую гипотезу, вывод о различии сделать нельзя') \n",
    "\n",
    "print(middle_check_B.mean() / middle_check_A.mean() - 1)"
   ]
  },
  {
   "cell_type": "markdown",
   "metadata": {},
   "source": [
    "p_value по очищенным данным 85% по среднему чеку, он увеличился по сравнению с статистической значимостью разницы по средним чекам по сырым даным на 12%. Относительная разница между средними чеками группы А и В исчезла. Это показывает,  как сильно влияют аномалии на результаты А-В теста."
   ]
  },
  {
   "cell_type": "markdown",
   "metadata": {},
   "source": [
    "### Итоговое решение"
   ]
  },
  {
   "cell_type": "markdown",
   "metadata": {},
   "source": [
    "Все графики показали  преобладание бизнес-решения В . Проверка гипотез показала, что есть статистически значимое различие по конверсии между группами как по сырым данным, так и после фильтрации аномалий.\n",
    "И это подтвердило относительное  изменение средних значений конверсий, оно положительное, преимущество в пользу группы В. \n",
    "\n",
    "По среднему чеку как по сырым, так и по отфильтрованным данным - нет статистически значимого различия. \n",
    "Средний чек не поменялся, а конверсия выросла. \n",
    "\n",
    "Необходимо остановить тест. Он прошел успешно. И использовать в дальнейшем бизнес-решение группы В.\n"
   ]
  },
  {
   "cell_type": "markdown",
   "metadata": {},
   "source": [
    "Выводы:\n",
    "\n",
    "Провели приоритизацию гипотез методами ICE и RICE. Просчитали А-В тест. Все графики, кроме диаграмм рассеивания показали явное преимущество бизнес-решения В над А. Проверка гипотез показала есть разница статистической значимости как по сырым данным, так и по очищенным. Относительное изменение средних конверсий оказалось положительным, и подтвердила, экономическую выгодность группы В, как по сырым данным, так и по очищенным. По проверке разницы статистической значимости средних чеков группы А и В различия не обнаружилось. Средние чеки не изменились, а конверсия группы В больше, чем у группы А. \n",
    "\n",
    "В итоге приняли решение остановить тест, признать его успешным, и использовать в бизнесе решение группы В."
   ]
  },
  {
   "cell_type": "code",
   "execution_count": null,
   "metadata": {},
   "outputs": [],
   "source": []
  }
 ],
 "metadata": {
  "ExecuteTimeLog": [
   {
    "duration": 70,
    "start_time": "2022-05-02T06:50:02.221Z"
   },
   {
    "duration": 1683,
    "start_time": "2022-05-02T06:59:54.356Z"
   },
   {
    "duration": 199,
    "start_time": "2022-05-02T06:59:56.041Z"
   },
   {
    "duration": 0,
    "start_time": "2022-05-02T06:59:56.246Z"
   },
   {
    "duration": 1,
    "start_time": "2022-05-02T06:59:56.251Z"
   },
   {
    "duration": 0,
    "start_time": "2022-05-02T06:59:56.253Z"
   },
   {
    "duration": 0,
    "start_time": "2022-05-02T06:59:56.255Z"
   },
   {
    "duration": 1,
    "start_time": "2022-05-02T06:59:56.256Z"
   },
   {
    "duration": 0,
    "start_time": "2022-05-02T06:59:56.259Z"
   },
   {
    "duration": 0,
    "start_time": "2022-05-02T06:59:56.260Z"
   },
   {
    "duration": 0,
    "start_time": "2022-05-02T06:59:56.262Z"
   },
   {
    "duration": 0,
    "start_time": "2022-05-02T06:59:56.263Z"
   },
   {
    "duration": 0,
    "start_time": "2022-05-02T06:59:56.265Z"
   },
   {
    "duration": 0,
    "start_time": "2022-05-02T06:59:56.266Z"
   },
   {
    "duration": 0,
    "start_time": "2022-05-02T06:59:56.267Z"
   },
   {
    "duration": 0,
    "start_time": "2022-05-02T06:59:56.269Z"
   },
   {
    "duration": 0,
    "start_time": "2022-05-02T06:59:56.270Z"
   },
   {
    "duration": 0,
    "start_time": "2022-05-02T06:59:56.272Z"
   },
   {
    "duration": 0,
    "start_time": "2022-05-02T06:59:56.273Z"
   },
   {
    "duration": 0,
    "start_time": "2022-05-02T06:59:56.275Z"
   },
   {
    "duration": 0,
    "start_time": "2022-05-02T06:59:56.276Z"
   },
   {
    "duration": 0,
    "start_time": "2022-05-02T06:59:56.277Z"
   },
   {
    "duration": 0,
    "start_time": "2022-05-02T06:59:56.279Z"
   },
   {
    "duration": 0,
    "start_time": "2022-05-02T06:59:56.280Z"
   },
   {
    "duration": 0,
    "start_time": "2022-05-02T06:59:56.282Z"
   },
   {
    "duration": 0,
    "start_time": "2022-05-02T06:59:56.283Z"
   },
   {
    "duration": 0,
    "start_time": "2022-05-02T06:59:56.285Z"
   },
   {
    "duration": 0,
    "start_time": "2022-05-02T06:59:56.286Z"
   },
   {
    "duration": 0,
    "start_time": "2022-05-02T06:59:56.287Z"
   },
   {
    "duration": 0,
    "start_time": "2022-05-02T06:59:56.352Z"
   },
   {
    "duration": 0,
    "start_time": "2022-05-02T06:59:56.354Z"
   },
   {
    "duration": 0,
    "start_time": "2022-05-02T06:59:56.355Z"
   },
   {
    "duration": 0,
    "start_time": "2022-05-02T06:59:56.357Z"
   },
   {
    "duration": 0,
    "start_time": "2022-05-02T06:59:56.358Z"
   },
   {
    "duration": 0,
    "start_time": "2022-05-02T06:59:56.359Z"
   },
   {
    "duration": 0,
    "start_time": "2022-05-02T06:59:56.361Z"
   },
   {
    "duration": 0,
    "start_time": "2022-05-02T06:59:56.362Z"
   },
   {
    "duration": 0,
    "start_time": "2022-05-02T06:59:56.363Z"
   },
   {
    "duration": 0,
    "start_time": "2022-05-02T06:59:56.365Z"
   },
   {
    "duration": 0,
    "start_time": "2022-05-02T06:59:56.366Z"
   },
   {
    "duration": 0,
    "start_time": "2022-05-02T06:59:56.367Z"
   },
   {
    "duration": 0,
    "start_time": "2022-05-02T06:59:56.369Z"
   },
   {
    "duration": 0,
    "start_time": "2022-05-02T06:59:56.370Z"
   },
   {
    "duration": 0,
    "start_time": "2022-05-02T06:59:56.371Z"
   },
   {
    "duration": 0,
    "start_time": "2022-05-02T06:59:56.372Z"
   },
   {
    "duration": 0,
    "start_time": "2022-05-02T06:59:56.374Z"
   },
   {
    "duration": 0,
    "start_time": "2022-05-02T06:59:56.375Z"
   },
   {
    "duration": 0,
    "start_time": "2022-05-02T06:59:56.377Z"
   },
   {
    "duration": 0,
    "start_time": "2022-05-02T06:59:56.378Z"
   },
   {
    "duration": 0,
    "start_time": "2022-05-02T06:59:56.380Z"
   },
   {
    "duration": 0,
    "start_time": "2022-05-02T06:59:56.382Z"
   },
   {
    "duration": 0,
    "start_time": "2022-05-02T06:59:56.383Z"
   },
   {
    "duration": 0,
    "start_time": "2022-05-02T06:59:56.385Z"
   },
   {
    "duration": 0,
    "start_time": "2022-05-02T06:59:56.386Z"
   },
   {
    "duration": 0,
    "start_time": "2022-05-02T06:59:56.387Z"
   },
   {
    "duration": 0,
    "start_time": "2022-05-02T06:59:56.388Z"
   },
   {
    "duration": 0,
    "start_time": "2022-05-02T06:59:56.452Z"
   },
   {
    "duration": 0,
    "start_time": "2022-05-02T06:59:56.454Z"
   },
   {
    "duration": 0,
    "start_time": "2022-05-02T06:59:56.455Z"
   },
   {
    "duration": 24,
    "start_time": "2022-05-02T07:00:24.921Z"
   },
   {
    "duration": 5,
    "start_time": "2022-05-02T07:00:28.302Z"
   },
   {
    "duration": 23,
    "start_time": "2022-05-02T07:00:28.777Z"
   },
   {
    "duration": 8,
    "start_time": "2022-05-02T07:00:29.778Z"
   },
   {
    "duration": 31,
    "start_time": "2022-05-02T07:00:48.453Z"
   },
   {
    "duration": 4,
    "start_time": "2022-05-02T07:00:49.220Z"
   },
   {
    "duration": 15,
    "start_time": "2022-05-02T07:00:49.607Z"
   },
   {
    "duration": 10,
    "start_time": "2022-05-02T07:00:49.812Z"
   },
   {
    "duration": 9,
    "start_time": "2022-05-02T07:00:51.390Z"
   },
   {
    "duration": 16,
    "start_time": "2022-05-02T07:00:53.696Z"
   },
   {
    "duration": 1417,
    "start_time": "2022-05-02T07:01:09.031Z"
   },
   {
    "duration": 23,
    "start_time": "2022-05-02T07:01:10.451Z"
   },
   {
    "duration": 4,
    "start_time": "2022-05-02T07:01:10.477Z"
   },
   {
    "duration": 20,
    "start_time": "2022-05-02T07:01:10.482Z"
   },
   {
    "duration": 8,
    "start_time": "2022-05-02T07:01:10.505Z"
   },
   {
    "duration": 46,
    "start_time": "2022-05-02T07:01:10.514Z"
   },
   {
    "duration": 4,
    "start_time": "2022-05-02T07:01:10.562Z"
   },
   {
    "duration": 21,
    "start_time": "2022-05-02T07:01:10.568Z"
   },
   {
    "duration": 7,
    "start_time": "2022-05-02T07:01:10.591Z"
   },
   {
    "duration": 11,
    "start_time": "2022-05-02T07:01:10.600Z"
   },
   {
    "duration": 46,
    "start_time": "2022-05-02T07:01:10.613Z"
   },
   {
    "duration": 20,
    "start_time": "2022-05-02T07:01:10.661Z"
   },
   {
    "duration": 14,
    "start_time": "2022-05-02T07:01:10.683Z"
   },
   {
    "duration": 6,
    "start_time": "2022-05-02T07:01:10.702Z"
   },
   {
    "duration": 45,
    "start_time": "2022-05-02T07:01:10.710Z"
   },
   {
    "duration": 11,
    "start_time": "2022-05-02T07:01:10.757Z"
   },
   {
    "duration": 7,
    "start_time": "2022-05-02T07:01:10.770Z"
   },
   {
    "duration": 16,
    "start_time": "2022-05-02T07:01:10.778Z"
   },
   {
    "duration": 8,
    "start_time": "2022-05-02T07:01:10.797Z"
   },
   {
    "duration": 54,
    "start_time": "2022-05-02T07:01:10.807Z"
   },
   {
    "duration": 9,
    "start_time": "2022-05-02T07:01:10.863Z"
   },
   {
    "duration": 280,
    "start_time": "2022-05-02T07:01:10.874Z"
   },
   {
    "duration": 237,
    "start_time": "2022-05-02T07:01:11.156Z"
   },
   {
    "duration": 14,
    "start_time": "2022-05-02T07:01:11.395Z"
   },
   {
    "duration": 9,
    "start_time": "2022-05-02T07:01:11.411Z"
   },
   {
    "duration": 15,
    "start_time": "2022-05-02T07:01:11.422Z"
   },
   {
    "duration": 436,
    "start_time": "2022-05-02T07:01:11.439Z"
   },
   {
    "duration": 276,
    "start_time": "2022-05-02T07:01:11.878Z"
   },
   {
    "duration": 367,
    "start_time": "2022-05-02T07:01:12.157Z"
   },
   {
    "duration": 5,
    "start_time": "2022-05-02T07:01:12.526Z"
   },
   {
    "duration": 273,
    "start_time": "2022-05-02T07:01:12.534Z"
   },
   {
    "duration": 404,
    "start_time": "2022-05-02T07:01:12.809Z"
   },
   {
    "duration": 276,
    "start_time": "2022-05-02T07:01:13.215Z"
   },
   {
    "duration": 6,
    "start_time": "2022-05-02T07:01:13.493Z"
   },
   {
    "duration": 223,
    "start_time": "2022-05-02T07:01:13.501Z"
   },
   {
    "duration": 8,
    "start_time": "2022-05-02T07:01:13.726Z"
   },
   {
    "duration": 7,
    "start_time": "2022-05-02T07:01:13.752Z"
   },
   {
    "duration": 71,
    "start_time": "2022-05-02T07:01:13.761Z"
   },
   {
    "duration": 17,
    "start_time": "2022-05-02T07:01:13.835Z"
   },
   {
    "duration": 69,
    "start_time": "2022-05-02T07:01:13.854Z"
   },
   {
    "duration": 22,
    "start_time": "2022-05-02T07:01:13.951Z"
   },
   {
    "duration": 94,
    "start_time": "2022-05-02T07:01:13.975Z"
   },
   {
    "duration": 24,
    "start_time": "2022-05-02T07:01:14.071Z"
   },
   {
    "duration": 89,
    "start_time": "2022-05-02T07:01:14.097Z"
   },
   {
    "duration": 50,
    "start_time": "2022-05-02T07:01:14.188Z"
   },
   {
    "duration": 143,
    "start_time": "2022-05-02T07:01:14.252Z"
   },
   {
    "duration": 182,
    "start_time": "2022-05-02T07:01:14.398Z"
   },
   {
    "duration": 10,
    "start_time": "2022-05-02T07:01:14.582Z"
   },
   {
    "duration": 7,
    "start_time": "2022-05-02T07:01:14.594Z"
   },
   {
    "duration": 58,
    "start_time": "2022-05-02T07:01:14.603Z"
   },
   {
    "duration": 18,
    "start_time": "2022-05-02T07:01:14.663Z"
   },
   {
    "duration": 8,
    "start_time": "2022-05-02T07:01:14.683Z"
   },
   {
    "duration": 11,
    "start_time": "2022-05-02T07:01:14.693Z"
   },
   {
    "duration": 9,
    "start_time": "2022-05-02T07:01:14.706Z"
   },
   {
    "duration": 40,
    "start_time": "2022-05-02T07:01:14.717Z"
   },
   {
    "duration": 11,
    "start_time": "2022-05-02T07:01:14.760Z"
   },
   {
    "duration": 34,
    "start_time": "2022-05-02T07:01:14.773Z"
   },
   {
    "duration": 16,
    "start_time": "2022-05-02T07:01:14.809Z"
   },
   {
    "duration": 5,
    "start_time": "2022-05-02T07:08:25.553Z"
   },
   {
    "duration": 16,
    "start_time": "2022-05-02T07:08:35.350Z"
   },
   {
    "duration": 9,
    "start_time": "2022-05-02T07:09:28.199Z"
   },
   {
    "duration": 5,
    "start_time": "2022-05-02T07:11:22.873Z"
   },
   {
    "duration": 8,
    "start_time": "2022-05-02T07:12:37.045Z"
   },
   {
    "duration": 9,
    "start_time": "2022-05-02T07:12:55.430Z"
   },
   {
    "duration": 16,
    "start_time": "2022-05-02T07:13:26.261Z"
   },
   {
    "duration": 22,
    "start_time": "2022-05-02T07:14:23.322Z"
   },
   {
    "duration": 6,
    "start_time": "2022-05-02T07:15:00.979Z"
   },
   {
    "duration": 16,
    "start_time": "2022-05-02T07:15:23.925Z"
   },
   {
    "duration": 9,
    "start_time": "2022-05-02T07:15:47.371Z"
   },
   {
    "duration": 5,
    "start_time": "2022-05-02T07:15:50.050Z"
   },
   {
    "duration": 9,
    "start_time": "2022-05-02T07:16:18.149Z"
   },
   {
    "duration": 5,
    "start_time": "2022-05-02T07:17:45.445Z"
   },
   {
    "duration": 16,
    "start_time": "2022-05-02T07:17:46.258Z"
   },
   {
    "duration": 5,
    "start_time": "2022-05-02T07:18:26.184Z"
   },
   {
    "duration": 15,
    "start_time": "2022-05-02T07:18:47.826Z"
   },
   {
    "duration": 262,
    "start_time": "2022-05-02T07:24:12.091Z"
   },
   {
    "duration": 14,
    "start_time": "2022-05-02T07:25:00.246Z"
   },
   {
    "duration": 7,
    "start_time": "2022-05-02T07:25:06.873Z"
   },
   {
    "duration": 6,
    "start_time": "2022-05-02T07:25:07.530Z"
   },
   {
    "duration": 329,
    "start_time": "2022-05-02T07:25:10.662Z"
   },
   {
    "duration": 251,
    "start_time": "2022-05-02T07:31:41.414Z"
   },
   {
    "duration": 5,
    "start_time": "2022-05-02T07:36:07.220Z"
   },
   {
    "duration": 247,
    "start_time": "2022-05-02T07:37:08.574Z"
   },
   {
    "duration": 378,
    "start_time": "2022-05-02T07:42:13.747Z"
   },
   {
    "duration": 49,
    "start_time": "2022-05-02T08:48:28.482Z"
   },
   {
    "duration": 96,
    "start_time": "2022-05-02T08:52:23.898Z"
   },
   {
    "duration": 153,
    "start_time": "2022-05-02T08:52:24.348Z"
   },
   {
    "duration": 93,
    "start_time": "2022-05-02T08:52:47.016Z"
   },
   {
    "duration": 126,
    "start_time": "2022-05-02T08:53:27.994Z"
   },
   {
    "duration": 147,
    "start_time": "2022-05-02T09:07:41.963Z"
   },
   {
    "duration": 90,
    "start_time": "2022-05-02T09:17:32.816Z"
   },
   {
    "duration": 31,
    "start_time": "2022-05-02T09:20:38.671Z"
   },
   {
    "duration": 15,
    "start_time": "2022-05-02T09:23:30.642Z"
   },
   {
    "duration": 17,
    "start_time": "2022-05-02T09:26:47.502Z"
   },
   {
    "duration": 36,
    "start_time": "2022-05-02T09:28:16.456Z"
   },
   {
    "duration": 15,
    "start_time": "2022-05-02T09:29:36.559Z"
   },
   {
    "duration": 1630,
    "start_time": "2022-05-02T12:27:42.489Z"
   },
   {
    "duration": 24,
    "start_time": "2022-05-02T12:27:44.122Z"
   },
   {
    "duration": 5,
    "start_time": "2022-05-02T12:27:44.151Z"
   },
   {
    "duration": 22,
    "start_time": "2022-05-02T12:27:44.159Z"
   },
   {
    "duration": 12,
    "start_time": "2022-05-02T12:27:44.184Z"
   },
   {
    "duration": 41,
    "start_time": "2022-05-02T12:27:44.199Z"
   },
   {
    "duration": 12,
    "start_time": "2022-05-02T12:27:44.243Z"
   },
   {
    "duration": 27,
    "start_time": "2022-05-02T12:27:44.259Z"
   },
   {
    "duration": 9,
    "start_time": "2022-05-02T12:27:44.291Z"
   },
   {
    "duration": 19,
    "start_time": "2022-05-02T12:27:44.306Z"
   },
   {
    "duration": 32,
    "start_time": "2022-05-02T12:27:44.327Z"
   },
   {
    "duration": 31,
    "start_time": "2022-05-02T12:27:44.361Z"
   },
   {
    "duration": 34,
    "start_time": "2022-05-02T12:27:44.395Z"
   },
   {
    "duration": 12,
    "start_time": "2022-05-02T12:27:44.432Z"
   },
   {
    "duration": 24,
    "start_time": "2022-05-02T12:27:44.447Z"
   },
   {
    "duration": 17,
    "start_time": "2022-05-02T12:27:44.474Z"
   },
   {
    "duration": 21,
    "start_time": "2022-05-02T12:27:44.494Z"
   },
   {
    "duration": 24,
    "start_time": "2022-05-02T12:27:44.517Z"
   },
   {
    "duration": 19,
    "start_time": "2022-05-02T12:27:44.544Z"
   },
   {
    "duration": 24,
    "start_time": "2022-05-02T12:27:44.565Z"
   },
   {
    "duration": 18,
    "start_time": "2022-05-02T12:27:44.592Z"
   },
   {
    "duration": 453,
    "start_time": "2022-05-02T12:27:44.613Z"
   },
   {
    "duration": 220,
    "start_time": "2022-05-02T12:27:45.069Z"
   },
   {
    "duration": 18,
    "start_time": "2022-05-02T12:27:45.292Z"
   },
   {
    "duration": 14,
    "start_time": "2022-05-02T12:27:45.313Z"
   },
   {
    "duration": 27,
    "start_time": "2022-05-02T12:27:45.330Z"
   },
   {
    "duration": 443,
    "start_time": "2022-05-02T12:27:45.359Z"
   },
   {
    "duration": 287,
    "start_time": "2022-05-02T12:27:45.810Z"
   },
   {
    "duration": 371,
    "start_time": "2022-05-02T12:27:46.100Z"
   },
   {
    "duration": 8,
    "start_time": "2022-05-02T12:27:46.473Z"
   },
   {
    "duration": 381,
    "start_time": "2022-05-02T12:27:46.483Z"
   },
   {
    "duration": 399,
    "start_time": "2022-05-02T12:27:46.867Z"
   },
   {
    "duration": 284,
    "start_time": "2022-05-02T12:27:47.275Z"
   },
   {
    "duration": 7,
    "start_time": "2022-05-02T12:27:47.562Z"
   },
   {
    "duration": 239,
    "start_time": "2022-05-02T12:27:47.571Z"
   },
   {
    "duration": 8,
    "start_time": "2022-05-02T12:27:47.813Z"
   },
   {
    "duration": 31,
    "start_time": "2022-05-02T12:27:47.823Z"
   },
   {
    "duration": 100,
    "start_time": "2022-05-02T12:27:47.856Z"
   },
   {
    "duration": 20,
    "start_time": "2022-05-02T12:27:47.959Z"
   },
   {
    "duration": 79,
    "start_time": "2022-05-02T12:27:47.982Z"
   },
   {
    "duration": 32,
    "start_time": "2022-05-02T12:27:48.064Z"
   },
   {
    "duration": 123,
    "start_time": "2022-05-02T12:27:48.098Z"
   },
   {
    "duration": 34,
    "start_time": "2022-05-02T12:27:48.224Z"
   },
   {
    "duration": 111,
    "start_time": "2022-05-02T12:27:48.261Z"
   },
   {
    "duration": 59,
    "start_time": "2022-05-02T12:27:48.375Z"
   },
   {
    "duration": 240,
    "start_time": "2022-05-02T12:27:48.437Z"
   },
   {
    "duration": 245,
    "start_time": "2022-05-02T12:27:48.680Z"
   },
   {
    "duration": 8,
    "start_time": "2022-05-02T12:27:48.931Z"
   },
   {
    "duration": 13,
    "start_time": "2022-05-02T12:27:48.942Z"
   },
   {
    "duration": 43,
    "start_time": "2022-05-02T12:27:48.958Z"
   },
   {
    "duration": 16,
    "start_time": "2022-05-02T12:27:49.003Z"
   },
   {
    "duration": 5,
    "start_time": "2022-05-02T12:27:49.021Z"
   },
   {
    "duration": 184,
    "start_time": "2022-05-02T12:27:49.053Z"
   },
   {
    "duration": 0,
    "start_time": "2022-05-02T12:27:49.240Z"
   },
   {
    "duration": 0,
    "start_time": "2022-05-02T12:27:49.243Z"
   },
   {
    "duration": 0,
    "start_time": "2022-05-02T12:27:49.245Z"
   },
   {
    "duration": 0,
    "start_time": "2022-05-02T12:27:49.252Z"
   },
   {
    "duration": 7,
    "start_time": "2022-05-02T12:29:05.493Z"
   },
   {
    "duration": 7,
    "start_time": "2022-05-02T13:01:26.484Z"
   },
   {
    "duration": 15,
    "start_time": "2022-05-02T13:01:27.009Z"
   },
   {
    "duration": 1836,
    "start_time": "2022-05-02T13:01:50.728Z"
   },
   {
    "duration": 36,
    "start_time": "2022-05-02T13:01:52.567Z"
   },
   {
    "duration": 4,
    "start_time": "2022-05-02T13:01:52.605Z"
   },
   {
    "duration": 26,
    "start_time": "2022-05-02T13:01:52.613Z"
   },
   {
    "duration": 44,
    "start_time": "2022-05-02T13:01:52.656Z"
   },
   {
    "duration": 41,
    "start_time": "2022-05-02T13:01:52.703Z"
   },
   {
    "duration": 4,
    "start_time": "2022-05-02T13:01:52.746Z"
   },
   {
    "duration": 57,
    "start_time": "2022-05-02T13:01:52.753Z"
   },
   {
    "duration": 21,
    "start_time": "2022-05-02T13:01:52.812Z"
   },
   {
    "duration": 27,
    "start_time": "2022-05-02T13:01:52.837Z"
   },
   {
    "duration": 33,
    "start_time": "2022-05-02T13:01:52.867Z"
   },
   {
    "duration": 35,
    "start_time": "2022-05-02T13:01:52.903Z"
   },
   {
    "duration": 25,
    "start_time": "2022-05-02T13:01:52.941Z"
   },
   {
    "duration": 20,
    "start_time": "2022-05-02T13:01:52.973Z"
   },
   {
    "duration": 32,
    "start_time": "2022-05-02T13:01:52.996Z"
   },
   {
    "duration": 13,
    "start_time": "2022-05-02T13:01:53.032Z"
   },
   {
    "duration": 15,
    "start_time": "2022-05-02T13:01:53.047Z"
   },
   {
    "duration": 32,
    "start_time": "2022-05-02T13:01:53.065Z"
   },
   {
    "duration": 9,
    "start_time": "2022-05-02T13:01:53.100Z"
   },
   {
    "duration": 27,
    "start_time": "2022-05-02T13:01:53.112Z"
   },
   {
    "duration": 14,
    "start_time": "2022-05-02T13:01:53.153Z"
   },
   {
    "duration": 391,
    "start_time": "2022-05-02T13:01:53.169Z"
   },
   {
    "duration": 291,
    "start_time": "2022-05-02T13:01:53.563Z"
   },
   {
    "duration": 29,
    "start_time": "2022-05-02T13:01:53.857Z"
   },
   {
    "duration": 36,
    "start_time": "2022-05-02T13:01:53.889Z"
   },
   {
    "duration": 27,
    "start_time": "2022-05-02T13:01:53.929Z"
   },
   {
    "duration": 681,
    "start_time": "2022-05-02T13:01:53.963Z"
   },
   {
    "duration": 451,
    "start_time": "2022-05-02T13:01:54.658Z"
   },
   {
    "duration": 489,
    "start_time": "2022-05-02T13:01:55.111Z"
   },
   {
    "duration": 5,
    "start_time": "2022-05-02T13:01:55.603Z"
   },
   {
    "duration": 445,
    "start_time": "2022-05-02T13:01:55.611Z"
   },
   {
    "duration": 399,
    "start_time": "2022-05-02T13:01:56.058Z"
   },
   {
    "duration": 285,
    "start_time": "2022-05-02T13:01:56.461Z"
   },
   {
    "duration": 5,
    "start_time": "2022-05-02T13:01:56.752Z"
   },
   {
    "duration": 233,
    "start_time": "2022-05-02T13:01:56.760Z"
   },
   {
    "duration": 7,
    "start_time": "2022-05-02T13:01:56.996Z"
   },
   {
    "duration": 12,
    "start_time": "2022-05-02T13:01:57.005Z"
   },
   {
    "duration": 132,
    "start_time": "2022-05-02T13:01:57.020Z"
   },
   {
    "duration": 11,
    "start_time": "2022-05-02T13:01:57.155Z"
   },
   {
    "duration": 121,
    "start_time": "2022-05-02T13:01:57.169Z"
   },
   {
    "duration": 34,
    "start_time": "2022-05-02T13:01:57.293Z"
   },
   {
    "duration": 138,
    "start_time": "2022-05-02T13:01:57.330Z"
   },
   {
    "duration": 36,
    "start_time": "2022-05-02T13:01:57.471Z"
   },
   {
    "duration": 154,
    "start_time": "2022-05-02T13:01:57.511Z"
   },
   {
    "duration": 86,
    "start_time": "2022-05-02T13:01:57.669Z"
   },
   {
    "duration": 262,
    "start_time": "2022-05-02T13:01:57.758Z"
   },
   {
    "duration": 207,
    "start_time": "2022-05-02T13:01:58.023Z"
   },
   {
    "duration": 6,
    "start_time": "2022-05-02T13:01:58.233Z"
   },
   {
    "duration": 21,
    "start_time": "2022-05-02T13:01:58.241Z"
   },
   {
    "duration": 38,
    "start_time": "2022-05-02T13:01:58.265Z"
   },
   {
    "duration": 47,
    "start_time": "2022-05-02T13:01:58.306Z"
   },
   {
    "duration": 7,
    "start_time": "2022-05-02T13:01:58.356Z"
   },
   {
    "duration": 278,
    "start_time": "2022-05-02T13:01:58.365Z"
   },
   {
    "duration": 0,
    "start_time": "2022-05-02T13:01:58.646Z"
   },
   {
    "duration": 0,
    "start_time": "2022-05-02T13:01:58.651Z"
   },
   {
    "duration": 0,
    "start_time": "2022-05-02T13:01:58.653Z"
   },
   {
    "duration": 0,
    "start_time": "2022-05-02T13:01:58.655Z"
   },
   {
    "duration": 5,
    "start_time": "2022-05-02T13:03:24.963Z"
   },
   {
    "duration": 15,
    "start_time": "2022-05-02T13:03:25.602Z"
   },
   {
    "duration": 12,
    "start_time": "2022-05-02T13:03:55.239Z"
   },
   {
    "duration": 15,
    "start_time": "2022-05-02T13:04:29.702Z"
   },
   {
    "duration": 5,
    "start_time": "2022-05-02T13:04:55.858Z"
   },
   {
    "duration": 13,
    "start_time": "2022-05-02T13:04:56.360Z"
   },
   {
    "duration": 5,
    "start_time": "2022-05-02T13:07:47.886Z"
   },
   {
    "duration": 12,
    "start_time": "2022-05-02T13:07:48.481Z"
   },
   {
    "duration": 12,
    "start_time": "2022-05-02T13:08:11.050Z"
   },
   {
    "duration": 1645,
    "start_time": "2022-05-02T13:08:39.729Z"
   },
   {
    "duration": 29,
    "start_time": "2022-05-02T13:08:41.377Z"
   },
   {
    "duration": 7,
    "start_time": "2022-05-02T13:08:41.409Z"
   },
   {
    "duration": 34,
    "start_time": "2022-05-02T13:08:41.419Z"
   },
   {
    "duration": 35,
    "start_time": "2022-05-02T13:08:41.455Z"
   },
   {
    "duration": 58,
    "start_time": "2022-05-02T13:08:41.493Z"
   },
   {
    "duration": 6,
    "start_time": "2022-05-02T13:08:41.554Z"
   },
   {
    "duration": 31,
    "start_time": "2022-05-02T13:08:41.563Z"
   },
   {
    "duration": 21,
    "start_time": "2022-05-02T13:08:41.596Z"
   },
   {
    "duration": 15,
    "start_time": "2022-05-02T13:08:41.621Z"
   },
   {
    "duration": 30,
    "start_time": "2022-05-02T13:08:41.638Z"
   },
   {
    "duration": 22,
    "start_time": "2022-05-02T13:08:41.671Z"
   },
   {
    "duration": 20,
    "start_time": "2022-05-02T13:08:41.696Z"
   },
   {
    "duration": 19,
    "start_time": "2022-05-02T13:08:41.719Z"
   },
   {
    "duration": 22,
    "start_time": "2022-05-02T13:08:41.741Z"
   },
   {
    "duration": 27,
    "start_time": "2022-05-02T13:08:41.766Z"
   },
   {
    "duration": 19,
    "start_time": "2022-05-02T13:08:41.795Z"
   },
   {
    "duration": 34,
    "start_time": "2022-05-02T13:08:41.817Z"
   },
   {
    "duration": 11,
    "start_time": "2022-05-02T13:08:41.854Z"
   },
   {
    "duration": 22,
    "start_time": "2022-05-02T13:08:41.868Z"
   },
   {
    "duration": 17,
    "start_time": "2022-05-02T13:08:41.893Z"
   },
   {
    "duration": 323,
    "start_time": "2022-05-02T13:08:41.912Z"
   },
   {
    "duration": 284,
    "start_time": "2022-05-02T13:08:42.237Z"
   },
   {
    "duration": 31,
    "start_time": "2022-05-02T13:08:42.524Z"
   },
   {
    "duration": 16,
    "start_time": "2022-05-02T13:08:42.557Z"
   },
   {
    "duration": 9,
    "start_time": "2022-05-02T13:08:42.576Z"
   },
   {
    "duration": 529,
    "start_time": "2022-05-02T13:08:42.588Z"
   },
   {
    "duration": 279,
    "start_time": "2022-05-02T13:08:43.122Z"
   },
   {
    "duration": 528,
    "start_time": "2022-05-02T13:08:43.405Z"
   },
   {
    "duration": 6,
    "start_time": "2022-05-02T13:08:43.935Z"
   },
   {
    "duration": 394,
    "start_time": "2022-05-02T13:08:43.943Z"
   },
   {
    "duration": 485,
    "start_time": "2022-05-02T13:08:44.339Z"
   },
   {
    "duration": 411,
    "start_time": "2022-05-02T13:08:44.827Z"
   },
   {
    "duration": 15,
    "start_time": "2022-05-02T13:08:45.241Z"
   },
   {
    "duration": 274,
    "start_time": "2022-05-02T13:08:45.258Z"
   },
   {
    "duration": 17,
    "start_time": "2022-05-02T13:08:45.535Z"
   },
   {
    "duration": 8,
    "start_time": "2022-05-02T13:08:45.555Z"
   },
   {
    "duration": 120,
    "start_time": "2022-05-02T13:08:45.566Z"
   },
   {
    "duration": 11,
    "start_time": "2022-05-02T13:08:45.689Z"
   },
   {
    "duration": 92,
    "start_time": "2022-05-02T13:08:45.702Z"
   },
   {
    "duration": 22,
    "start_time": "2022-05-02T13:08:45.799Z"
   },
   {
    "duration": 98,
    "start_time": "2022-05-02T13:08:45.823Z"
   },
   {
    "duration": 33,
    "start_time": "2022-05-02T13:08:45.924Z"
   },
   {
    "duration": 122,
    "start_time": "2022-05-02T13:08:45.960Z"
   },
   {
    "duration": 76,
    "start_time": "2022-05-02T13:08:46.085Z"
   },
   {
    "duration": 154,
    "start_time": "2022-05-02T13:08:46.164Z"
   },
   {
    "duration": 223,
    "start_time": "2022-05-02T13:08:46.320Z"
   },
   {
    "duration": 9,
    "start_time": "2022-05-02T13:08:46.546Z"
   },
   {
    "duration": 8,
    "start_time": "2022-05-02T13:08:46.558Z"
   },
   {
    "duration": 53,
    "start_time": "2022-05-02T13:08:46.569Z"
   },
   {
    "duration": 45,
    "start_time": "2022-05-02T13:08:46.624Z"
   },
   {
    "duration": 6,
    "start_time": "2022-05-02T13:08:46.672Z"
   },
   {
    "duration": 273,
    "start_time": "2022-05-02T13:08:46.681Z"
   },
   {
    "duration": 0,
    "start_time": "2022-05-02T13:08:46.957Z"
   },
   {
    "duration": 0,
    "start_time": "2022-05-02T13:08:46.960Z"
   },
   {
    "duration": 0,
    "start_time": "2022-05-02T13:08:46.962Z"
   },
   {
    "duration": 0,
    "start_time": "2022-05-02T13:08:46.964Z"
   },
   {
    "duration": 16,
    "start_time": "2022-05-02T13:09:06.026Z"
   },
   {
    "duration": 63,
    "start_time": "2022-05-02T13:09:25.697Z"
   },
   {
    "duration": 7,
    "start_time": "2022-05-02T13:11:10.963Z"
   },
   {
    "duration": 12,
    "start_time": "2022-05-02T13:11:11.654Z"
   },
   {
    "duration": 13,
    "start_time": "2022-05-02T13:11:36.297Z"
   },
   {
    "duration": 7,
    "start_time": "2022-05-02T13:11:44.211Z"
   },
   {
    "duration": 15,
    "start_time": "2022-05-02T13:11:44.641Z"
   },
   {
    "duration": 7,
    "start_time": "2022-05-02T13:13:05.704Z"
   },
   {
    "duration": 5,
    "start_time": "2022-05-02T13:13:15.011Z"
   },
   {
    "duration": 7,
    "start_time": "2022-05-02T13:13:25.317Z"
   },
   {
    "duration": 10,
    "start_time": "2022-05-02T13:13:37.862Z"
   },
   {
    "duration": 92,
    "start_time": "2022-05-02T13:13:38.042Z"
   },
   {
    "duration": 13,
    "start_time": "2022-05-02T13:13:38.630Z"
   },
   {
    "duration": 13,
    "start_time": "2022-05-02T13:13:43.507Z"
   },
   {
    "duration": 12,
    "start_time": "2022-05-02T13:14:03.393Z"
   },
   {
    "duration": 47,
    "start_time": "2022-05-02T13:14:07.023Z"
   },
   {
    "duration": 20,
    "start_time": "2022-05-02T13:14:15.725Z"
   },
   {
    "duration": 106,
    "start_time": "2022-05-02T13:39:48.910Z"
   },
   {
    "duration": 359,
    "start_time": "2022-05-02T14:09:27.200Z"
   },
   {
    "duration": 1600,
    "start_time": "2022-05-03T08:16:25.212Z"
   },
   {
    "duration": 30,
    "start_time": "2022-05-03T08:16:26.814Z"
   },
   {
    "duration": 4,
    "start_time": "2022-05-03T08:16:26.846Z"
   },
   {
    "duration": 22,
    "start_time": "2022-05-03T08:16:26.852Z"
   },
   {
    "duration": 29,
    "start_time": "2022-05-03T08:16:26.876Z"
   },
   {
    "duration": 59,
    "start_time": "2022-05-03T08:16:26.907Z"
   },
   {
    "duration": 5,
    "start_time": "2022-05-03T08:16:26.969Z"
   },
   {
    "duration": 22,
    "start_time": "2022-05-03T08:16:26.977Z"
   },
   {
    "duration": 14,
    "start_time": "2022-05-03T08:16:27.001Z"
   },
   {
    "duration": 10,
    "start_time": "2022-05-03T08:16:27.018Z"
   },
   {
    "duration": 16,
    "start_time": "2022-05-03T08:16:27.031Z"
   },
   {
    "duration": 27,
    "start_time": "2022-05-03T08:16:27.050Z"
   },
   {
    "duration": 34,
    "start_time": "2022-05-03T08:16:27.079Z"
   },
   {
    "duration": 12,
    "start_time": "2022-05-03T08:16:27.115Z"
   },
   {
    "duration": 17,
    "start_time": "2022-05-03T08:16:27.129Z"
   },
   {
    "duration": 50,
    "start_time": "2022-05-03T08:16:27.154Z"
   },
   {
    "duration": 11,
    "start_time": "2022-05-03T08:16:27.207Z"
   },
   {
    "duration": 16,
    "start_time": "2022-05-03T08:16:27.221Z"
   },
   {
    "duration": 9,
    "start_time": "2022-05-03T08:16:27.240Z"
   },
   {
    "duration": 47,
    "start_time": "2022-05-03T08:16:27.251Z"
   },
   {
    "duration": 8,
    "start_time": "2022-05-03T08:16:27.300Z"
   },
   {
    "duration": 276,
    "start_time": "2022-05-03T08:16:27.311Z"
   },
   {
    "duration": 221,
    "start_time": "2022-05-03T08:16:27.592Z"
   },
   {
    "duration": 15,
    "start_time": "2022-05-03T08:16:27.816Z"
   },
   {
    "duration": 10,
    "start_time": "2022-05-03T08:16:27.833Z"
   },
   {
    "duration": 9,
    "start_time": "2022-05-03T08:16:27.845Z"
   },
   {
    "duration": 440,
    "start_time": "2022-05-03T08:16:27.856Z"
   },
   {
    "duration": 295,
    "start_time": "2022-05-03T08:16:28.298Z"
   },
   {
    "duration": 369,
    "start_time": "2022-05-03T08:16:28.595Z"
   },
   {
    "duration": 6,
    "start_time": "2022-05-03T08:16:28.967Z"
   },
   {
    "duration": 295,
    "start_time": "2022-05-03T08:16:28.976Z"
   },
   {
    "duration": 409,
    "start_time": "2022-05-03T08:16:29.273Z"
   },
   {
    "duration": 286,
    "start_time": "2022-05-03T08:16:29.684Z"
   },
   {
    "duration": 21,
    "start_time": "2022-05-03T08:16:29.972Z"
   },
   {
    "duration": 233,
    "start_time": "2022-05-03T08:16:29.996Z"
   },
   {
    "duration": 5,
    "start_time": "2022-05-03T08:16:30.232Z"
   },
   {
    "duration": 19,
    "start_time": "2022-05-03T08:16:30.239Z"
   },
   {
    "duration": 88,
    "start_time": "2022-05-03T08:16:30.260Z"
   },
   {
    "duration": 23,
    "start_time": "2022-05-03T08:16:30.350Z"
   },
   {
    "duration": 86,
    "start_time": "2022-05-03T08:16:30.375Z"
   },
   {
    "duration": 30,
    "start_time": "2022-05-03T08:16:30.463Z"
   },
   {
    "duration": 92,
    "start_time": "2022-05-03T08:16:30.496Z"
   },
   {
    "duration": 52,
    "start_time": "2022-05-03T08:16:30.590Z"
   },
   {
    "duration": 97,
    "start_time": "2022-05-03T08:16:30.645Z"
   },
   {
    "duration": 65,
    "start_time": "2022-05-03T08:16:30.744Z"
   },
   {
    "duration": 139,
    "start_time": "2022-05-03T08:16:30.811Z"
   },
   {
    "duration": 175,
    "start_time": "2022-05-03T08:16:30.952Z"
   },
   {
    "duration": 7,
    "start_time": "2022-05-03T08:16:31.129Z"
   },
   {
    "duration": 75,
    "start_time": "2022-05-03T08:16:31.138Z"
   },
   {
    "duration": 33,
    "start_time": "2022-05-03T08:16:31.215Z"
   },
   {
    "duration": 15,
    "start_time": "2022-05-03T08:16:31.250Z"
   },
   {
    "duration": 29,
    "start_time": "2022-05-03T08:16:31.267Z"
   },
   {
    "duration": 20,
    "start_time": "2022-05-03T08:16:31.300Z"
   },
   {
    "duration": 16,
    "start_time": "2022-05-03T08:16:31.322Z"
   },
   {
    "duration": 16,
    "start_time": "2022-05-03T08:16:31.341Z"
   },
   {
    "duration": 10,
    "start_time": "2022-05-03T08:16:31.359Z"
   },
   {
    "duration": 50,
    "start_time": "2022-05-03T08:16:31.371Z"
   },
   {
    "duration": 16,
    "start_time": "2022-05-03T08:16:31.423Z"
   },
   {
    "duration": 2214,
    "start_time": "2022-05-03T12:46:46.579Z"
   },
   {
    "duration": 50,
    "start_time": "2022-05-03T12:46:48.797Z"
   },
   {
    "duration": 7,
    "start_time": "2022-05-03T12:46:48.850Z"
   },
   {
    "duration": 33,
    "start_time": "2022-05-03T12:46:48.859Z"
   },
   {
    "duration": 11,
    "start_time": "2022-05-03T12:46:48.897Z"
   },
   {
    "duration": 59,
    "start_time": "2022-05-03T12:46:48.910Z"
   },
   {
    "duration": 5,
    "start_time": "2022-05-03T12:46:48.972Z"
   },
   {
    "duration": 24,
    "start_time": "2022-05-03T12:46:48.980Z"
   },
   {
    "duration": 14,
    "start_time": "2022-05-03T12:46:49.007Z"
   },
   {
    "duration": 20,
    "start_time": "2022-05-03T12:46:49.023Z"
   },
   {
    "duration": 28,
    "start_time": "2022-05-03T12:46:49.052Z"
   },
   {
    "duration": 23,
    "start_time": "2022-05-03T12:46:49.083Z"
   },
   {
    "duration": 15,
    "start_time": "2022-05-03T12:46:49.108Z"
   },
   {
    "duration": 9,
    "start_time": "2022-05-03T12:46:49.128Z"
   },
   {
    "duration": 20,
    "start_time": "2022-05-03T12:46:49.152Z"
   },
   {
    "duration": 12,
    "start_time": "2022-05-03T12:46:49.174Z"
   },
   {
    "duration": 10,
    "start_time": "2022-05-03T12:46:49.188Z"
   },
   {
    "duration": 17,
    "start_time": "2022-05-03T12:46:49.201Z"
   },
   {
    "duration": 39,
    "start_time": "2022-05-03T12:46:49.221Z"
   },
   {
    "duration": 34,
    "start_time": "2022-05-03T12:46:49.263Z"
   },
   {
    "duration": 11,
    "start_time": "2022-05-03T12:46:49.300Z"
   },
   {
    "duration": 303,
    "start_time": "2022-05-03T12:46:49.313Z"
   },
   {
    "duration": 237,
    "start_time": "2022-05-03T12:46:49.618Z"
   },
   {
    "duration": 19,
    "start_time": "2022-05-03T12:46:49.858Z"
   },
   {
    "duration": 8,
    "start_time": "2022-05-03T12:46:49.880Z"
   },
   {
    "duration": 9,
    "start_time": "2022-05-03T12:46:49.891Z"
   },
   {
    "duration": 457,
    "start_time": "2022-05-03T12:46:49.902Z"
   },
   {
    "duration": 299,
    "start_time": "2022-05-03T12:46:50.362Z"
   },
   {
    "duration": 426,
    "start_time": "2022-05-03T12:46:50.665Z"
   },
   {
    "duration": 7,
    "start_time": "2022-05-03T12:46:51.094Z"
   },
   {
    "duration": 301,
    "start_time": "2022-05-03T12:46:51.103Z"
   },
   {
    "duration": 415,
    "start_time": "2022-05-03T12:46:51.406Z"
   },
   {
    "duration": 299,
    "start_time": "2022-05-03T12:46:51.824Z"
   },
   {
    "duration": 6,
    "start_time": "2022-05-03T12:46:52.125Z"
   },
   {
    "duration": 390,
    "start_time": "2022-05-03T12:46:52.134Z"
   },
   {
    "duration": 0,
    "start_time": "2022-05-03T12:46:52.527Z"
   },
   {
    "duration": 0,
    "start_time": "2022-05-03T12:46:52.529Z"
   },
   {
    "duration": 0,
    "start_time": "2022-05-03T12:46:52.531Z"
   },
   {
    "duration": 0,
    "start_time": "2022-05-03T12:46:52.534Z"
   },
   {
    "duration": 0,
    "start_time": "2022-05-03T12:46:52.536Z"
   },
   {
    "duration": 0,
    "start_time": "2022-05-03T12:46:52.552Z"
   },
   {
    "duration": 0,
    "start_time": "2022-05-03T12:46:52.554Z"
   },
   {
    "duration": 0,
    "start_time": "2022-05-03T12:46:52.560Z"
   },
   {
    "duration": 0,
    "start_time": "2022-05-03T12:46:52.561Z"
   },
   {
    "duration": 0,
    "start_time": "2022-05-03T12:46:52.563Z"
   },
   {
    "duration": 0,
    "start_time": "2022-05-03T12:46:52.565Z"
   },
   {
    "duration": 0,
    "start_time": "2022-05-03T12:46:52.566Z"
   },
   {
    "duration": 0,
    "start_time": "2022-05-03T12:46:52.567Z"
   },
   {
    "duration": 0,
    "start_time": "2022-05-03T12:46:52.569Z"
   },
   {
    "duration": 0,
    "start_time": "2022-05-03T12:46:52.570Z"
   },
   {
    "duration": 0,
    "start_time": "2022-05-03T12:46:52.572Z"
   },
   {
    "duration": 0,
    "start_time": "2022-05-03T12:46:52.574Z"
   },
   {
    "duration": 0,
    "start_time": "2022-05-03T12:46:52.575Z"
   },
   {
    "duration": 0,
    "start_time": "2022-05-03T12:46:52.576Z"
   },
   {
    "duration": 0,
    "start_time": "2022-05-03T12:46:52.577Z"
   },
   {
    "duration": 0,
    "start_time": "2022-05-03T12:46:52.581Z"
   },
   {
    "duration": 0,
    "start_time": "2022-05-03T12:46:52.592Z"
   },
   {
    "duration": 0,
    "start_time": "2022-05-03T12:46:52.593Z"
   },
   {
    "duration": 199,
    "start_time": "2022-05-03T12:47:41.565Z"
   },
   {
    "duration": 275,
    "start_time": "2022-05-03T12:47:52.223Z"
   },
   {
    "duration": 263,
    "start_time": "2022-05-03T12:58:22.936Z"
   },
   {
    "duration": 184,
    "start_time": "2022-05-03T12:59:08.004Z"
   },
   {
    "duration": 96,
    "start_time": "2022-05-03T12:59:24.733Z"
   },
   {
    "duration": 280,
    "start_time": "2022-05-03T13:02:53.793Z"
   },
   {
    "duration": 232,
    "start_time": "2022-05-03T13:03:07.969Z"
   },
   {
    "duration": 285,
    "start_time": "2022-05-03T13:06:16.936Z"
   },
   {
    "duration": 375,
    "start_time": "2022-05-03T13:07:02.202Z"
   },
   {
    "duration": 310,
    "start_time": "2022-05-03T13:08:16.322Z"
   },
   {
    "duration": 299,
    "start_time": "2022-05-03T13:08:38.141Z"
   },
   {
    "duration": 388,
    "start_time": "2022-05-03T13:12:53.763Z"
   },
   {
    "duration": 514,
    "start_time": "2022-05-03T13:13:09.994Z"
   },
   {
    "duration": 699,
    "start_time": "2022-05-03T13:13:21.911Z"
   },
   {
    "duration": 389,
    "start_time": "2022-05-03T13:14:37.584Z"
   },
   {
    "duration": 292,
    "start_time": "2022-05-03T13:14:59.056Z"
   },
   {
    "duration": 300,
    "start_time": "2022-05-03T13:16:16.386Z"
   },
   {
    "duration": 538,
    "start_time": "2022-05-03T13:18:21.571Z"
   },
   {
    "duration": 537,
    "start_time": "2022-05-03T13:18:28.330Z"
   },
   {
    "duration": 541,
    "start_time": "2022-05-03T13:18:38.394Z"
   },
   {
    "duration": 309,
    "start_time": "2022-05-03T13:19:15.580Z"
   },
   {
    "duration": 371,
    "start_time": "2022-05-03T13:19:45.781Z"
   },
   {
    "duration": 379,
    "start_time": "2022-05-03T13:20:00.080Z"
   },
   {
    "duration": 668,
    "start_time": "2022-05-03T13:22:05.739Z"
   },
   {
    "duration": 343,
    "start_time": "2022-05-03T13:22:18.592Z"
   },
   {
    "duration": 296,
    "start_time": "2022-05-03T13:22:32.069Z"
   },
   {
    "duration": 497,
    "start_time": "2022-05-03T13:22:37.315Z"
   },
   {
    "duration": 484,
    "start_time": "2022-05-03T13:22:46.118Z"
   },
   {
    "duration": 333,
    "start_time": "2022-05-03T13:22:52.133Z"
   },
   {
    "duration": 285,
    "start_time": "2022-05-03T13:24:26.174Z"
   },
   {
    "duration": 301,
    "start_time": "2022-05-03T13:25:13.840Z"
   },
   {
    "duration": 449,
    "start_time": "2022-05-03T13:27:15.182Z"
   },
   {
    "duration": 453,
    "start_time": "2022-05-03T13:27:49.033Z"
   },
   {
    "duration": 408,
    "start_time": "2022-05-03T13:28:06.458Z"
   },
   {
    "duration": 466,
    "start_time": "2022-05-03T13:28:18.909Z"
   },
   {
    "duration": 400,
    "start_time": "2022-05-03T13:28:38.375Z"
   },
   {
    "duration": 632,
    "start_time": "2022-05-03T13:30:08.276Z"
   },
   {
    "duration": 307,
    "start_time": "2022-05-03T13:31:47.378Z"
   },
   {
    "duration": 561,
    "start_time": "2022-05-03T13:33:55.413Z"
   },
   {
    "duration": 458,
    "start_time": "2022-05-03T13:39:06.218Z"
   },
   {
    "duration": 405,
    "start_time": "2022-05-03T13:39:15.478Z"
   },
   {
    "duration": 14,
    "start_time": "2022-05-03T13:52:20.673Z"
   },
   {
    "duration": 94,
    "start_time": "2022-05-03T13:56:36.256Z"
   },
   {
    "duration": 97,
    "start_time": "2022-05-03T13:56:57.318Z"
   },
   {
    "duration": 15,
    "start_time": "2022-05-03T14:00:42.480Z"
   },
   {
    "duration": 1575,
    "start_time": "2022-05-03T14:00:49.848Z"
   },
   {
    "duration": 36,
    "start_time": "2022-05-03T14:00:51.426Z"
   },
   {
    "duration": 4,
    "start_time": "2022-05-03T14:00:51.465Z"
   },
   {
    "duration": 23,
    "start_time": "2022-05-03T14:00:51.473Z"
   },
   {
    "duration": 11,
    "start_time": "2022-05-03T14:00:51.498Z"
   },
   {
    "duration": 41,
    "start_time": "2022-05-03T14:00:51.512Z"
   },
   {
    "duration": 11,
    "start_time": "2022-05-03T14:00:51.555Z"
   },
   {
    "duration": 32,
    "start_time": "2022-05-03T14:00:51.569Z"
   },
   {
    "duration": 13,
    "start_time": "2022-05-03T14:00:51.604Z"
   },
   {
    "duration": 19,
    "start_time": "2022-05-03T14:00:51.621Z"
   },
   {
    "duration": 27,
    "start_time": "2022-05-03T14:00:51.643Z"
   },
   {
    "duration": 29,
    "start_time": "2022-05-03T14:00:51.672Z"
   },
   {
    "duration": 16,
    "start_time": "2022-05-03T14:00:51.703Z"
   },
   {
    "duration": 17,
    "start_time": "2022-05-03T14:00:51.721Z"
   },
   {
    "duration": 26,
    "start_time": "2022-05-03T14:00:51.741Z"
   },
   {
    "duration": 16,
    "start_time": "2022-05-03T14:00:51.770Z"
   },
   {
    "duration": 28,
    "start_time": "2022-05-03T14:00:51.788Z"
   },
   {
    "duration": 11,
    "start_time": "2022-05-03T14:00:51.818Z"
   },
   {
    "duration": 31,
    "start_time": "2022-05-03T14:00:51.832Z"
   },
   {
    "duration": 9,
    "start_time": "2022-05-03T14:00:51.865Z"
   },
   {
    "duration": 27,
    "start_time": "2022-05-03T14:00:51.876Z"
   },
   {
    "duration": 12,
    "start_time": "2022-05-03T14:00:51.906Z"
   },
   {
    "duration": 317,
    "start_time": "2022-05-03T14:00:51.920Z"
   },
   {
    "duration": 234,
    "start_time": "2022-05-03T14:00:52.239Z"
   },
   {
    "duration": 14,
    "start_time": "2022-05-03T14:00:52.475Z"
   },
   {
    "duration": 11,
    "start_time": "2022-05-03T14:00:52.492Z"
   },
   {
    "duration": 8,
    "start_time": "2022-05-03T14:00:52.505Z"
   },
   {
    "duration": 569,
    "start_time": "2022-05-03T14:00:52.521Z"
   },
   {
    "duration": 320,
    "start_time": "2022-05-03T14:00:53.093Z"
   },
   {
    "duration": 476,
    "start_time": "2022-05-03T14:00:53.415Z"
   },
   {
    "duration": 6,
    "start_time": "2022-05-03T14:00:53.893Z"
   },
   {
    "duration": 307,
    "start_time": "2022-05-03T14:00:53.901Z"
   },
   {
    "duration": 456,
    "start_time": "2022-05-03T14:00:54.210Z"
   },
   {
    "duration": 313,
    "start_time": "2022-05-03T14:00:54.668Z"
   },
   {
    "duration": 6,
    "start_time": "2022-05-03T14:00:54.984Z"
   },
   {
    "duration": 265,
    "start_time": "2022-05-03T14:00:54.992Z"
   },
   {
    "duration": 12,
    "start_time": "2022-05-03T14:00:55.260Z"
   },
   {
    "duration": 12,
    "start_time": "2022-05-03T14:00:55.275Z"
   },
   {
    "duration": 101,
    "start_time": "2022-05-03T14:00:55.289Z"
   },
   {
    "duration": 6,
    "start_time": "2022-05-03T14:00:55.392Z"
   },
   {
    "duration": 98,
    "start_time": "2022-05-03T14:00:55.400Z"
   },
   {
    "duration": 23,
    "start_time": "2022-05-03T14:00:55.501Z"
   },
   {
    "duration": 131,
    "start_time": "2022-05-03T14:00:55.526Z"
   },
   {
    "duration": 37,
    "start_time": "2022-05-03T14:00:55.659Z"
   },
   {
    "duration": 94,
    "start_time": "2022-05-03T14:00:55.698Z"
   },
   {
    "duration": 56,
    "start_time": "2022-05-03T14:00:55.795Z"
   },
   {
    "duration": 157,
    "start_time": "2022-05-03T14:00:55.854Z"
   },
   {
    "duration": 168,
    "start_time": "2022-05-03T14:00:56.013Z"
   },
   {
    "duration": 6,
    "start_time": "2022-05-03T14:00:56.183Z"
   },
   {
    "duration": 10,
    "start_time": "2022-05-03T14:00:56.192Z"
   },
   {
    "duration": 67,
    "start_time": "2022-05-03T14:00:56.205Z"
   },
   {
    "duration": 18,
    "start_time": "2022-05-03T14:00:56.275Z"
   },
   {
    "duration": 8,
    "start_time": "2022-05-03T14:00:56.296Z"
   },
   {
    "duration": 10,
    "start_time": "2022-05-03T14:00:56.306Z"
   },
   {
    "duration": 57,
    "start_time": "2022-05-03T14:00:56.318Z"
   },
   {
    "duration": 26,
    "start_time": "2022-05-03T14:00:56.380Z"
   },
   {
    "duration": 9,
    "start_time": "2022-05-03T14:00:56.408Z"
   },
   {
    "duration": 35,
    "start_time": "2022-05-03T14:00:56.420Z"
   },
   {
    "duration": 17,
    "start_time": "2022-05-03T14:00:56.458Z"
   },
   {
    "duration": 40,
    "start_time": "2022-05-03T14:01:09.444Z"
   },
   {
    "duration": 16,
    "start_time": "2022-05-03T14:01:28.082Z"
   },
   {
    "duration": 22,
    "start_time": "2022-05-03T14:01:42.558Z"
   },
   {
    "duration": 31,
    "start_time": "2022-05-03T14:01:59.070Z"
   },
   {
    "duration": 23,
    "start_time": "2022-05-03T14:02:14.965Z"
   },
   {
    "duration": 1785,
    "start_time": "2022-05-04T06:17:25.213Z"
   },
   {
    "duration": 31,
    "start_time": "2022-05-04T06:17:27.001Z"
   },
   {
    "duration": 5,
    "start_time": "2022-05-04T06:17:27.035Z"
   },
   {
    "duration": 20,
    "start_time": "2022-05-04T06:17:27.044Z"
   },
   {
    "duration": 9,
    "start_time": "2022-05-04T06:17:27.083Z"
   },
   {
    "duration": 30,
    "start_time": "2022-05-04T06:17:27.095Z"
   },
   {
    "duration": 6,
    "start_time": "2022-05-04T06:17:27.127Z"
   },
   {
    "duration": 19,
    "start_time": "2022-05-04T06:17:27.135Z"
   },
   {
    "duration": 8,
    "start_time": "2022-05-04T06:17:27.181Z"
   },
   {
    "duration": 9,
    "start_time": "2022-05-04T06:17:27.195Z"
   },
   {
    "duration": 17,
    "start_time": "2022-05-04T06:17:27.207Z"
   },
   {
    "duration": 57,
    "start_time": "2022-05-04T06:17:27.226Z"
   },
   {
    "duration": 14,
    "start_time": "2022-05-04T06:17:27.286Z"
   },
   {
    "duration": 8,
    "start_time": "2022-05-04T06:17:27.303Z"
   },
   {
    "duration": 16,
    "start_time": "2022-05-04T06:17:27.314Z"
   },
   {
    "duration": 12,
    "start_time": "2022-05-04T06:17:27.332Z"
   },
   {
    "duration": 48,
    "start_time": "2022-05-04T06:17:27.346Z"
   },
   {
    "duration": 5,
    "start_time": "2022-05-04T06:17:27.396Z"
   },
   {
    "duration": 22,
    "start_time": "2022-05-04T06:17:27.403Z"
   },
   {
    "duration": 9,
    "start_time": "2022-05-04T06:17:27.428Z"
   },
   {
    "duration": 44,
    "start_time": "2022-05-04T06:17:27.439Z"
   },
   {
    "duration": 10,
    "start_time": "2022-05-04T06:17:27.485Z"
   },
   {
    "duration": 286,
    "start_time": "2022-05-04T06:17:27.497Z"
   },
   {
    "duration": 218,
    "start_time": "2022-05-04T06:17:27.786Z"
   },
   {
    "duration": 13,
    "start_time": "2022-05-04T06:17:28.007Z"
   },
   {
    "duration": 9,
    "start_time": "2022-05-04T06:17:28.023Z"
   },
   {
    "duration": 8,
    "start_time": "2022-05-04T06:17:28.035Z"
   },
   {
    "duration": 459,
    "start_time": "2022-05-04T06:17:28.049Z"
   },
   {
    "duration": 320,
    "start_time": "2022-05-04T06:17:28.510Z"
   },
   {
    "duration": 502,
    "start_time": "2022-05-04T06:17:28.833Z"
   },
   {
    "duration": 5,
    "start_time": "2022-05-04T06:17:29.337Z"
   },
   {
    "duration": 300,
    "start_time": "2022-05-04T06:17:29.344Z"
   },
   {
    "duration": 420,
    "start_time": "2022-05-04T06:17:29.646Z"
   },
   {
    "duration": 297,
    "start_time": "2022-05-04T06:17:30.068Z"
   },
   {
    "duration": 18,
    "start_time": "2022-05-04T06:17:30.367Z"
   },
   {
    "duration": 235,
    "start_time": "2022-05-04T06:17:30.387Z"
   },
   {
    "duration": 6,
    "start_time": "2022-05-04T06:17:30.624Z"
   },
   {
    "duration": 12,
    "start_time": "2022-05-04T06:17:30.632Z"
   },
   {
    "duration": 94,
    "start_time": "2022-05-04T06:17:30.646Z"
   },
   {
    "duration": 12,
    "start_time": "2022-05-04T06:17:30.743Z"
   },
   {
    "duration": 84,
    "start_time": "2022-05-04T06:17:30.757Z"
   },
   {
    "duration": 25,
    "start_time": "2022-05-04T06:17:30.843Z"
   },
   {
    "duration": 92,
    "start_time": "2022-05-04T06:17:30.870Z"
   },
   {
    "duration": 38,
    "start_time": "2022-05-04T06:17:30.965Z"
   },
   {
    "duration": 100,
    "start_time": "2022-05-04T06:17:31.006Z"
   },
   {
    "duration": 49,
    "start_time": "2022-05-04T06:17:31.109Z"
   },
   {
    "duration": 156,
    "start_time": "2022-05-04T06:17:31.161Z"
   },
   {
    "duration": 155,
    "start_time": "2022-05-04T06:17:31.320Z"
   },
   {
    "duration": 8,
    "start_time": "2022-05-04T06:17:31.477Z"
   },
   {
    "duration": 15,
    "start_time": "2022-05-04T06:17:31.488Z"
   },
   {
    "duration": 35,
    "start_time": "2022-05-04T06:17:31.505Z"
   },
   {
    "duration": 49,
    "start_time": "2022-05-04T06:17:31.543Z"
   },
   {
    "duration": 13,
    "start_time": "2022-05-04T06:17:31.594Z"
   },
   {
    "duration": 11,
    "start_time": "2022-05-04T06:17:31.609Z"
   },
   {
    "duration": 14,
    "start_time": "2022-05-04T06:17:31.623Z"
   },
   {
    "duration": 11,
    "start_time": "2022-05-04T06:17:31.640Z"
   },
   {
    "duration": 34,
    "start_time": "2022-05-04T06:17:31.653Z"
   },
   {
    "duration": 41,
    "start_time": "2022-05-04T06:17:31.690Z"
   },
   {
    "duration": 18,
    "start_time": "2022-05-04T06:17:31.733Z"
   },
   {
    "duration": 73,
    "start_time": "2022-05-09T12:15:55.234Z"
   },
   {
    "duration": 1834,
    "start_time": "2022-05-09T12:16:00.766Z"
   },
   {
    "duration": 31,
    "start_time": "2022-05-09T12:16:02.603Z"
   },
   {
    "duration": 4,
    "start_time": "2022-05-09T12:16:02.636Z"
   },
   {
    "duration": 21,
    "start_time": "2022-05-09T12:16:02.643Z"
   },
   {
    "duration": 8,
    "start_time": "2022-05-09T12:16:02.682Z"
   },
   {
    "duration": 31,
    "start_time": "2022-05-09T12:16:02.693Z"
   },
   {
    "duration": 4,
    "start_time": "2022-05-09T12:16:02.727Z"
   },
   {
    "duration": 19,
    "start_time": "2022-05-09T12:16:02.734Z"
   },
   {
    "duration": 27,
    "start_time": "2022-05-09T12:16:02.755Z"
   },
   {
    "duration": 9,
    "start_time": "2022-05-09T12:16:02.787Z"
   },
   {
    "duration": 19,
    "start_time": "2022-05-09T12:16:02.798Z"
   },
   {
    "duration": 22,
    "start_time": "2022-05-09T12:16:02.819Z"
   },
   {
    "duration": 16,
    "start_time": "2022-05-09T12:16:02.842Z"
   },
   {
    "duration": 25,
    "start_time": "2022-05-09T12:16:02.860Z"
   },
   {
    "duration": 27,
    "start_time": "2022-05-09T12:16:02.888Z"
   },
   {
    "duration": 17,
    "start_time": "2022-05-09T12:16:02.917Z"
   },
   {
    "duration": 19,
    "start_time": "2022-05-09T12:16:02.936Z"
   },
   {
    "duration": 6,
    "start_time": "2022-05-09T12:16:02.957Z"
   },
   {
    "duration": 15,
    "start_time": "2022-05-09T12:16:02.982Z"
   },
   {
    "duration": 11,
    "start_time": "2022-05-09T12:16:03.000Z"
   },
   {
    "duration": 20,
    "start_time": "2022-05-09T12:16:03.013Z"
   },
   {
    "duration": 11,
    "start_time": "2022-05-09T12:16:03.035Z"
   },
   {
    "duration": 303,
    "start_time": "2022-05-09T12:16:03.048Z"
   },
   {
    "duration": 232,
    "start_time": "2022-05-09T12:16:03.353Z"
   },
   {
    "duration": 20,
    "start_time": "2022-05-09T12:16:03.588Z"
   },
   {
    "duration": 11,
    "start_time": "2022-05-09T12:16:03.610Z"
   },
   {
    "duration": 8,
    "start_time": "2022-05-09T12:16:03.623Z"
   },
   {
    "duration": 717,
    "start_time": "2022-05-09T12:16:03.637Z"
   },
   {
    "duration": 0,
    "start_time": "2022-05-09T12:16:04.356Z"
   },
   {
    "duration": 0,
    "start_time": "2022-05-09T12:16:04.358Z"
   },
   {
    "duration": 0,
    "start_time": "2022-05-09T12:16:04.360Z"
   },
   {
    "duration": 0,
    "start_time": "2022-05-09T12:16:04.362Z"
   },
   {
    "duration": 0,
    "start_time": "2022-05-09T12:16:04.382Z"
   },
   {
    "duration": 0,
    "start_time": "2022-05-09T12:16:04.384Z"
   },
   {
    "duration": 0,
    "start_time": "2022-05-09T12:16:04.386Z"
   },
   {
    "duration": 0,
    "start_time": "2022-05-09T12:16:04.387Z"
   },
   {
    "duration": 0,
    "start_time": "2022-05-09T12:16:04.389Z"
   },
   {
    "duration": 0,
    "start_time": "2022-05-09T12:16:04.391Z"
   },
   {
    "duration": 0,
    "start_time": "2022-05-09T12:16:04.392Z"
   },
   {
    "duration": 0,
    "start_time": "2022-05-09T12:16:04.394Z"
   },
   {
    "duration": 0,
    "start_time": "2022-05-09T12:16:04.395Z"
   },
   {
    "duration": 0,
    "start_time": "2022-05-09T12:16:04.397Z"
   },
   {
    "duration": 0,
    "start_time": "2022-05-09T12:16:04.398Z"
   },
   {
    "duration": 0,
    "start_time": "2022-05-09T12:16:04.400Z"
   },
   {
    "duration": 0,
    "start_time": "2022-05-09T12:16:04.401Z"
   },
   {
    "duration": 0,
    "start_time": "2022-05-09T12:16:04.403Z"
   },
   {
    "duration": 0,
    "start_time": "2022-05-09T12:16:04.404Z"
   },
   {
    "duration": 0,
    "start_time": "2022-05-09T12:16:04.406Z"
   },
   {
    "duration": 0,
    "start_time": "2022-05-09T12:16:04.407Z"
   },
   {
    "duration": 0,
    "start_time": "2022-05-09T12:16:04.409Z"
   },
   {
    "duration": 0,
    "start_time": "2022-05-09T12:16:04.410Z"
   },
   {
    "duration": 0,
    "start_time": "2022-05-09T12:16:04.412Z"
   },
   {
    "duration": 0,
    "start_time": "2022-05-09T12:16:04.413Z"
   },
   {
    "duration": 0,
    "start_time": "2022-05-09T12:16:04.415Z"
   },
   {
    "duration": 0,
    "start_time": "2022-05-09T12:16:04.417Z"
   },
   {
    "duration": 0,
    "start_time": "2022-05-09T12:16:04.481Z"
   },
   {
    "duration": 0,
    "start_time": "2022-05-09T12:16:04.483Z"
   },
   {
    "duration": 0,
    "start_time": "2022-05-09T12:16:04.484Z"
   },
   {
    "duration": 0,
    "start_time": "2022-05-09T12:16:04.486Z"
   },
   {
    "duration": 14,
    "start_time": "2022-05-09T12:16:49.836Z"
   },
   {
    "duration": 346,
    "start_time": "2022-05-09T12:17:42.881Z"
   },
   {
    "duration": 99,
    "start_time": "2022-05-09T12:18:20.908Z"
   },
   {
    "duration": 493,
    "start_time": "2022-05-09T12:18:29.933Z"
   },
   {
    "duration": 303,
    "start_time": "2022-05-09T12:19:02.772Z"
   },
   {
    "duration": 1559,
    "start_time": "2022-05-15T08:08:15.382Z"
   },
   {
    "duration": 31,
    "start_time": "2022-05-15T08:08:16.944Z"
   },
   {
    "duration": 4,
    "start_time": "2022-05-15T08:08:16.977Z"
   },
   {
    "duration": 23,
    "start_time": "2022-05-15T08:08:16.984Z"
   },
   {
    "duration": 8,
    "start_time": "2022-05-15T08:08:17.025Z"
   },
   {
    "duration": 56,
    "start_time": "2022-05-15T08:08:17.035Z"
   },
   {
    "duration": 6,
    "start_time": "2022-05-15T08:08:17.094Z"
   },
   {
    "duration": 20,
    "start_time": "2022-05-15T08:08:17.102Z"
   },
   {
    "duration": 11,
    "start_time": "2022-05-15T08:08:17.124Z"
   },
   {
    "duration": 11,
    "start_time": "2022-05-15T08:08:17.139Z"
   },
   {
    "duration": 19,
    "start_time": "2022-05-15T08:08:17.152Z"
   },
   {
    "duration": 26,
    "start_time": "2022-05-15T08:08:17.173Z"
   },
   {
    "duration": 29,
    "start_time": "2022-05-15T08:08:17.202Z"
   },
   {
    "duration": 8,
    "start_time": "2022-05-15T08:08:17.234Z"
   },
   {
    "duration": 20,
    "start_time": "2022-05-15T08:08:17.244Z"
   },
   {
    "duration": 15,
    "start_time": "2022-05-15T08:08:17.266Z"
   },
   {
    "duration": 42,
    "start_time": "2022-05-15T08:08:17.284Z"
   },
   {
    "duration": 5,
    "start_time": "2022-05-15T08:08:17.328Z"
   },
   {
    "duration": 20,
    "start_time": "2022-05-15T08:08:17.336Z"
   },
   {
    "duration": 7,
    "start_time": "2022-05-15T08:08:17.359Z"
   },
   {
    "duration": 22,
    "start_time": "2022-05-15T08:08:17.368Z"
   },
   {
    "duration": 36,
    "start_time": "2022-05-15T08:08:17.392Z"
   },
   {
    "duration": 293,
    "start_time": "2022-05-15T08:08:17.431Z"
   },
   {
    "duration": 227,
    "start_time": "2022-05-15T08:08:17.726Z"
   },
   {
    "duration": 15,
    "start_time": "2022-05-15T08:08:17.955Z"
   },
   {
    "duration": 10,
    "start_time": "2022-05-15T08:08:17.972Z"
   },
   {
    "duration": 9,
    "start_time": "2022-05-15T08:08:17.984Z"
   },
   {
    "duration": 451,
    "start_time": "2022-05-15T08:08:17.999Z"
   },
   {
    "duration": 479,
    "start_time": "2022-05-15T08:08:18.452Z"
   },
   {
    "duration": 714,
    "start_time": "2022-05-15T08:08:18.933Z"
   },
   {
    "duration": 6,
    "start_time": "2022-05-15T08:08:19.649Z"
   },
   {
    "duration": 584,
    "start_time": "2022-05-15T08:08:19.657Z"
   },
   {
    "duration": 695,
    "start_time": "2022-05-15T08:08:20.243Z"
   },
   {
    "duration": 597,
    "start_time": "2022-05-15T08:08:20.940Z"
   },
   {
    "duration": 6,
    "start_time": "2022-05-15T08:08:21.539Z"
   },
   {
    "duration": 252,
    "start_time": "2022-05-15T08:08:21.547Z"
   },
   {
    "duration": 6,
    "start_time": "2022-05-15T08:08:21.801Z"
   },
   {
    "duration": 6,
    "start_time": "2022-05-15T08:08:21.825Z"
   },
   {
    "duration": 73,
    "start_time": "2022-05-15T08:08:21.833Z"
   },
   {
    "duration": 19,
    "start_time": "2022-05-15T08:08:21.909Z"
   },
   {
    "duration": 72,
    "start_time": "2022-05-15T08:08:21.930Z"
   },
   {
    "duration": 39,
    "start_time": "2022-05-15T08:08:22.004Z"
   },
   {
    "duration": 98,
    "start_time": "2022-05-15T08:08:22.045Z"
   },
   {
    "duration": 32,
    "start_time": "2022-05-15T08:08:22.145Z"
   },
   {
    "duration": 83,
    "start_time": "2022-05-15T08:08:22.180Z"
   },
   {
    "duration": 61,
    "start_time": "2022-05-15T08:08:22.265Z"
   },
   {
    "duration": 143,
    "start_time": "2022-05-15T08:08:22.328Z"
   },
   {
    "duration": 179,
    "start_time": "2022-05-15T08:08:22.473Z"
   },
   {
    "duration": 15,
    "start_time": "2022-05-15T08:08:22.654Z"
   },
   {
    "duration": 10,
    "start_time": "2022-05-15T08:08:22.671Z"
   },
   {
    "duration": 50,
    "start_time": "2022-05-15T08:08:22.683Z"
   },
   {
    "duration": 15,
    "start_time": "2022-05-15T08:08:22.735Z"
   },
   {
    "duration": 7,
    "start_time": "2022-05-15T08:08:22.752Z"
   },
   {
    "duration": 10,
    "start_time": "2022-05-15T08:08:22.762Z"
   },
   {
    "duration": 17,
    "start_time": "2022-05-15T08:08:22.775Z"
   },
   {
    "duration": 7,
    "start_time": "2022-05-15T08:08:22.825Z"
   },
   {
    "duration": 10,
    "start_time": "2022-05-15T08:08:22.834Z"
   },
   {
    "duration": 30,
    "start_time": "2022-05-15T08:08:22.847Z"
   },
   {
    "duration": 46,
    "start_time": "2022-05-15T08:08:22.879Z"
   },
   {
    "duration": 443,
    "start_time": "2022-05-15T08:08:46.812Z"
   },
   {
    "duration": 1268,
    "start_time": "2022-05-23T16:42:30.379Z"
   },
   {
    "duration": 65,
    "start_time": "2022-05-23T16:42:31.649Z"
   },
   {
    "duration": 3,
    "start_time": "2022-05-23T16:42:31.715Z"
   },
   {
    "duration": 20,
    "start_time": "2022-05-23T16:42:31.720Z"
   },
   {
    "duration": 12,
    "start_time": "2022-05-23T16:42:31.742Z"
   },
   {
    "duration": 136,
    "start_time": "2022-05-23T16:42:31.756Z"
   },
   {
    "duration": 4,
    "start_time": "2022-05-23T16:42:31.893Z"
   },
   {
    "duration": 25,
    "start_time": "2022-05-23T16:42:31.898Z"
   },
   {
    "duration": 7,
    "start_time": "2022-05-23T16:42:31.925Z"
   },
   {
    "duration": 12,
    "start_time": "2022-05-23T16:42:31.934Z"
   },
   {
    "duration": 12,
    "start_time": "2022-05-23T16:42:31.947Z"
   },
   {
    "duration": 52,
    "start_time": "2022-05-23T16:42:31.961Z"
   },
   {
    "duration": 10,
    "start_time": "2022-05-23T16:42:32.015Z"
   },
   {
    "duration": 11,
    "start_time": "2022-05-23T16:42:32.027Z"
   },
   {
    "duration": 12,
    "start_time": "2022-05-23T16:42:32.040Z"
   },
   {
    "duration": 13,
    "start_time": "2022-05-23T16:42:32.054Z"
   },
   {
    "duration": 17,
    "start_time": "2022-05-23T16:42:32.069Z"
   },
   {
    "duration": 13,
    "start_time": "2022-05-23T16:42:32.088Z"
   },
   {
    "duration": 18,
    "start_time": "2022-05-23T16:42:32.102Z"
   },
   {
    "duration": 6,
    "start_time": "2022-05-23T16:42:32.122Z"
   },
   {
    "duration": 13,
    "start_time": "2022-05-23T16:42:32.129Z"
   },
   {
    "duration": 8,
    "start_time": "2022-05-23T16:42:32.143Z"
   },
   {
    "duration": 151,
    "start_time": "2022-05-23T16:42:32.152Z"
   },
   {
    "duration": 123,
    "start_time": "2022-05-23T16:42:32.305Z"
   },
   {
    "duration": 12,
    "start_time": "2022-05-23T16:42:32.430Z"
   },
   {
    "duration": 8,
    "start_time": "2022-05-23T16:42:32.444Z"
   },
   {
    "duration": 7,
    "start_time": "2022-05-23T16:42:32.453Z"
   },
   {
    "duration": 360,
    "start_time": "2022-05-23T16:42:32.465Z"
   },
   {
    "duration": 176,
    "start_time": "2022-05-23T16:42:32.827Z"
   },
   {
    "duration": 337,
    "start_time": "2022-05-23T16:42:33.005Z"
   },
   {
    "duration": 4,
    "start_time": "2022-05-23T16:42:33.344Z"
   },
   {
    "duration": 180,
    "start_time": "2022-05-23T16:42:33.349Z"
   },
   {
    "duration": 254,
    "start_time": "2022-05-23T16:42:33.531Z"
   },
   {
    "duration": 174,
    "start_time": "2022-05-23T16:42:33.787Z"
   },
   {
    "duration": 4,
    "start_time": "2022-05-23T16:42:33.963Z"
   },
   {
    "duration": 135,
    "start_time": "2022-05-23T16:42:33.968Z"
   },
   {
    "duration": 4,
    "start_time": "2022-05-23T16:42:34.104Z"
   },
   {
    "duration": 7,
    "start_time": "2022-05-23T16:42:34.110Z"
   },
   {
    "duration": 41,
    "start_time": "2022-05-23T16:42:34.119Z"
   },
   {
    "duration": 8,
    "start_time": "2022-05-23T16:42:34.161Z"
   },
   {
    "duration": 51,
    "start_time": "2022-05-23T16:42:34.170Z"
   },
   {
    "duration": 12,
    "start_time": "2022-05-23T16:42:34.222Z"
   },
   {
    "duration": 63,
    "start_time": "2022-05-23T16:42:34.235Z"
   },
   {
    "duration": 13,
    "start_time": "2022-05-23T16:42:34.300Z"
   },
   {
    "duration": 44,
    "start_time": "2022-05-23T16:42:34.314Z"
   },
   {
    "duration": 40,
    "start_time": "2022-05-23T16:42:34.359Z"
   },
   {
    "duration": 73,
    "start_time": "2022-05-23T16:42:34.400Z"
   },
   {
    "duration": 88,
    "start_time": "2022-05-23T16:42:34.475Z"
   },
   {
    "duration": 5,
    "start_time": "2022-05-23T16:42:34.564Z"
   },
   {
    "duration": 8,
    "start_time": "2022-05-23T16:42:34.570Z"
   },
   {
    "duration": 39,
    "start_time": "2022-05-23T16:42:34.579Z"
   },
   {
    "duration": 11,
    "start_time": "2022-05-23T16:42:34.620Z"
   },
   {
    "duration": 7,
    "start_time": "2022-05-23T16:42:34.632Z"
   },
   {
    "duration": 6,
    "start_time": "2022-05-23T16:42:34.640Z"
   },
   {
    "duration": 10,
    "start_time": "2022-05-23T16:42:34.647Z"
   },
   {
    "duration": 8,
    "start_time": "2022-05-23T16:42:34.658Z"
   },
   {
    "duration": 5,
    "start_time": "2022-05-23T16:42:34.667Z"
   },
   {
    "duration": 26,
    "start_time": "2022-05-23T16:42:34.698Z"
   },
   {
    "duration": 9,
    "start_time": "2022-05-23T16:42:34.726Z"
   }
  ],
  "kernelspec": {
   "display_name": "Python 3 (ipykernel)",
   "language": "python",
   "name": "python3"
  },
  "language_info": {
   "codemirror_mode": {
    "name": "ipython",
    "version": 3
   },
   "file_extension": ".py",
   "mimetype": "text/x-python",
   "name": "python",
   "nbconvert_exporter": "python",
   "pygments_lexer": "ipython3",
   "version": "3.9.5"
  },
  "toc": {
   "base_numbering": 1,
   "nav_menu": {},
   "number_sections": true,
   "sideBar": true,
   "skip_h1_title": true,
   "title_cell": "Table of Contents",
   "title_sidebar": "Contents",
   "toc_cell": false,
   "toc_position": {},
   "toc_section_display": true,
   "toc_window_display": false
  }
 },
 "nbformat": 4,
 "nbformat_minor": 2
}

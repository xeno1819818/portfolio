{
 "cells": [
  {
   "cell_type": "markdown",
   "metadata": {},
   "source": [
    "# Книжная база SQL\n",
    "\n"
   ]
  },
  {
   "cell_type": "code",
   "execution_count": 1,
   "metadata": {},
   "outputs": [],
   "source": [
    "import pandas as pd\n",
    "from sqlalchemy import create_engine"
   ]
  },
  {
   "cell_type": "markdown",
   "metadata": {},
   "source": [
    "## Общие данные"
   ]
  },
  {
   "cell_type": "code",
   "execution_count": 2,
   "metadata": {},
   "outputs": [],
   "source": [
    "# устанавливаем параметры\n",
    "db_config = {'user': 'praktikum_student', # имя пользователя\n",
    "    'pwd': 'Sdf4$2;d-d30pp', # пароль\n",
    "    'host': 'rc1b-wcoijxj3yxfsf3fs.mdb.yandexcloud.net',\n",
    "    'port': 6432, # порт подключения\n",
    "    'db': 'data-analyst-final-project-db'} # название базы данных\n",
    "connection_string = 'postgresql://{}:{}@{}:{}/{}'.format(db_config['user'],\n",
    "    db_config['pwd'],\n",
    "    db_config['host'],\n",
    "    db_config['port'],\n",
    "    db_config['db'])\n",
    "# сохраняем коннектор\n",
    "engine = create_engine(connection_string, connect_args={'sslmode':'require'})\n"
   ]
  },
  {
   "cell_type": "markdown",
   "metadata": {},
   "source": [
    "### Просмотр таблицы books "
   ]
  },
  {
   "cell_type": "code",
   "execution_count": 3,
   "metadata": {},
   "outputs": [
    {
     "data": {
      "text/html": [
       "<div>\n",
       "<style scoped>\n",
       "    .dataframe tbody tr th:only-of-type {\n",
       "        vertical-align: middle;\n",
       "    }\n",
       "\n",
       "    .dataframe tbody tr th {\n",
       "        vertical-align: top;\n",
       "    }\n",
       "\n",
       "    .dataframe thead th {\n",
       "        text-align: right;\n",
       "    }\n",
       "</style>\n",
       "<table border=\"1\" class=\"dataframe\">\n",
       "  <thead>\n",
       "    <tr style=\"text-align: right;\">\n",
       "      <th></th>\n",
       "      <th>book_id</th>\n",
       "      <th>author_id</th>\n",
       "      <th>title</th>\n",
       "      <th>num_pages</th>\n",
       "      <th>publication_date</th>\n",
       "      <th>publisher_id</th>\n",
       "    </tr>\n",
       "  </thead>\n",
       "  <tbody>\n",
       "    <tr>\n",
       "      <th>0</th>\n",
       "      <td>1</td>\n",
       "      <td>546</td>\n",
       "      <td>'Salem's Lot</td>\n",
       "      <td>594</td>\n",
       "      <td>2005-11-01</td>\n",
       "      <td>93</td>\n",
       "    </tr>\n",
       "    <tr>\n",
       "      <th>1</th>\n",
       "      <td>2</td>\n",
       "      <td>465</td>\n",
       "      <td>1 000 Places to See Before You Die</td>\n",
       "      <td>992</td>\n",
       "      <td>2003-05-22</td>\n",
       "      <td>336</td>\n",
       "    </tr>\n",
       "    <tr>\n",
       "      <th>2</th>\n",
       "      <td>3</td>\n",
       "      <td>407</td>\n",
       "      <td>13 Little Blue Envelopes (Little Blue Envelope...</td>\n",
       "      <td>322</td>\n",
       "      <td>2010-12-21</td>\n",
       "      <td>135</td>\n",
       "    </tr>\n",
       "    <tr>\n",
       "      <th>3</th>\n",
       "      <td>4</td>\n",
       "      <td>82</td>\n",
       "      <td>1491: New Revelations of the Americas Before C...</td>\n",
       "      <td>541</td>\n",
       "      <td>2006-10-10</td>\n",
       "      <td>309</td>\n",
       "    </tr>\n",
       "    <tr>\n",
       "      <th>4</th>\n",
       "      <td>5</td>\n",
       "      <td>125</td>\n",
       "      <td>1776</td>\n",
       "      <td>386</td>\n",
       "      <td>2006-07-04</td>\n",
       "      <td>268</td>\n",
       "    </tr>\n",
       "  </tbody>\n",
       "</table>\n",
       "</div>"
      ],
      "text/plain": [
       "   book_id  author_id                                              title  \\\n",
       "0        1        546                                       'Salem's Lot   \n",
       "1        2        465                 1 000 Places to See Before You Die   \n",
       "2        3        407  13 Little Blue Envelopes (Little Blue Envelope...   \n",
       "3        4         82  1491: New Revelations of the Americas Before C...   \n",
       "4        5        125                                               1776   \n",
       "\n",
       "   num_pages publication_date  publisher_id  \n",
       "0        594       2005-11-01            93  \n",
       "1        992       2003-05-22           336  \n",
       "2        322       2010-12-21           135  \n",
       "3        541       2006-10-10           309  \n",
       "4        386       2006-07-04           268  "
      ]
     },
     "execution_count": 3,
     "metadata": {},
     "output_type": "execute_result"
    }
   ],
   "source": [
    "query = ''' \n",
    "SELECT * \n",
    "FROM books \n",
    "LIMIT 5'''\n",
    "pd.io.sql.read_sql(query, con = engine)\n",
    "\n"
   ]
  },
  {
   "cell_type": "markdown",
   "metadata": {},
   "source": [
    "### Просмотр таблицы  authors"
   ]
  },
  {
   "cell_type": "code",
   "execution_count": 4,
   "metadata": {},
   "outputs": [
    {
     "data": {
      "text/html": [
       "<div>\n",
       "<style scoped>\n",
       "    .dataframe tbody tr th:only-of-type {\n",
       "        vertical-align: middle;\n",
       "    }\n",
       "\n",
       "    .dataframe tbody tr th {\n",
       "        vertical-align: top;\n",
       "    }\n",
       "\n",
       "    .dataframe thead th {\n",
       "        text-align: right;\n",
       "    }\n",
       "</style>\n",
       "<table border=\"1\" class=\"dataframe\">\n",
       "  <thead>\n",
       "    <tr style=\"text-align: right;\">\n",
       "      <th></th>\n",
       "      <th>author_id</th>\n",
       "      <th>author</th>\n",
       "    </tr>\n",
       "  </thead>\n",
       "  <tbody>\n",
       "    <tr>\n",
       "      <th>0</th>\n",
       "      <td>1</td>\n",
       "      <td>A.S. Byatt</td>\n",
       "    </tr>\n",
       "    <tr>\n",
       "      <th>1</th>\n",
       "      <td>2</td>\n",
       "      <td>Aesop/Laura Harris/Laura Gibbs</td>\n",
       "    </tr>\n",
       "    <tr>\n",
       "      <th>2</th>\n",
       "      <td>3</td>\n",
       "      <td>Agatha Christie</td>\n",
       "    </tr>\n",
       "    <tr>\n",
       "      <th>3</th>\n",
       "      <td>4</td>\n",
       "      <td>Alan Brennert</td>\n",
       "    </tr>\n",
       "    <tr>\n",
       "      <th>4</th>\n",
       "      <td>5</td>\n",
       "      <td>Alan Moore/David   Lloyd</td>\n",
       "    </tr>\n",
       "  </tbody>\n",
       "</table>\n",
       "</div>"
      ],
      "text/plain": [
       "   author_id                          author\n",
       "0          1                      A.S. Byatt\n",
       "1          2  Aesop/Laura Harris/Laura Gibbs\n",
       "2          3                 Agatha Christie\n",
       "3          4                   Alan Brennert\n",
       "4          5        Alan Moore/David   Lloyd"
      ]
     },
     "execution_count": 4,
     "metadata": {},
     "output_type": "execute_result"
    }
   ],
   "source": [
    "query = ''' \n",
    "SELECT * \n",
    "FROM authors \n",
    "LIMIT 5'''\n",
    "pd.io.sql.read_sql(query, con = engine)\n"
   ]
  },
  {
   "cell_type": "markdown",
   "metadata": {},
   "source": [
    "### Просмотр таблицы  publishers"
   ]
  },
  {
   "cell_type": "code",
   "execution_count": 5,
   "metadata": {},
   "outputs": [
    {
     "data": {
      "text/html": [
       "<div>\n",
       "<style scoped>\n",
       "    .dataframe tbody tr th:only-of-type {\n",
       "        vertical-align: middle;\n",
       "    }\n",
       "\n",
       "    .dataframe tbody tr th {\n",
       "        vertical-align: top;\n",
       "    }\n",
       "\n",
       "    .dataframe thead th {\n",
       "        text-align: right;\n",
       "    }\n",
       "</style>\n",
       "<table border=\"1\" class=\"dataframe\">\n",
       "  <thead>\n",
       "    <tr style=\"text-align: right;\">\n",
       "      <th></th>\n",
       "      <th>publisher_id</th>\n",
       "      <th>publisher</th>\n",
       "    </tr>\n",
       "  </thead>\n",
       "  <tbody>\n",
       "    <tr>\n",
       "      <th>0</th>\n",
       "      <td>1</td>\n",
       "      <td>Ace</td>\n",
       "    </tr>\n",
       "    <tr>\n",
       "      <th>1</th>\n",
       "      <td>2</td>\n",
       "      <td>Ace Book</td>\n",
       "    </tr>\n",
       "    <tr>\n",
       "      <th>2</th>\n",
       "      <td>3</td>\n",
       "      <td>Ace Books</td>\n",
       "    </tr>\n",
       "    <tr>\n",
       "      <th>3</th>\n",
       "      <td>4</td>\n",
       "      <td>Ace Hardcover</td>\n",
       "    </tr>\n",
       "    <tr>\n",
       "      <th>4</th>\n",
       "      <td>5</td>\n",
       "      <td>Addison Wesley Publishing Company</td>\n",
       "    </tr>\n",
       "  </tbody>\n",
       "</table>\n",
       "</div>"
      ],
      "text/plain": [
       "   publisher_id                          publisher\n",
       "0             1                                Ace\n",
       "1             2                           Ace Book\n",
       "2             3                          Ace Books\n",
       "3             4                      Ace Hardcover\n",
       "4             5  Addison Wesley Publishing Company"
      ]
     },
     "execution_count": 5,
     "metadata": {},
     "output_type": "execute_result"
    }
   ],
   "source": [
    "query = ''' \n",
    "SELECT * \n",
    "FROM publishers \n",
    "LIMIT 5'''\n",
    "pd.io.sql.read_sql(query, con = engine)\n",
    "\n"
   ]
  },
  {
   "cell_type": "markdown",
   "metadata": {},
   "source": [
    "### Просмотр таблицы  ratings"
   ]
  },
  {
   "cell_type": "code",
   "execution_count": 6,
   "metadata": {},
   "outputs": [
    {
     "data": {
      "text/html": [
       "<div>\n",
       "<style scoped>\n",
       "    .dataframe tbody tr th:only-of-type {\n",
       "        vertical-align: middle;\n",
       "    }\n",
       "\n",
       "    .dataframe tbody tr th {\n",
       "        vertical-align: top;\n",
       "    }\n",
       "\n",
       "    .dataframe thead th {\n",
       "        text-align: right;\n",
       "    }\n",
       "</style>\n",
       "<table border=\"1\" class=\"dataframe\">\n",
       "  <thead>\n",
       "    <tr style=\"text-align: right;\">\n",
       "      <th></th>\n",
       "      <th>rating_id</th>\n",
       "      <th>book_id</th>\n",
       "      <th>username</th>\n",
       "      <th>rating</th>\n",
       "    </tr>\n",
       "  </thead>\n",
       "  <tbody>\n",
       "    <tr>\n",
       "      <th>0</th>\n",
       "      <td>1</td>\n",
       "      <td>1</td>\n",
       "      <td>ryanfranco</td>\n",
       "      <td>4</td>\n",
       "    </tr>\n",
       "    <tr>\n",
       "      <th>1</th>\n",
       "      <td>2</td>\n",
       "      <td>1</td>\n",
       "      <td>grantpatricia</td>\n",
       "      <td>2</td>\n",
       "    </tr>\n",
       "    <tr>\n",
       "      <th>2</th>\n",
       "      <td>3</td>\n",
       "      <td>1</td>\n",
       "      <td>brandtandrea</td>\n",
       "      <td>5</td>\n",
       "    </tr>\n",
       "    <tr>\n",
       "      <th>3</th>\n",
       "      <td>4</td>\n",
       "      <td>2</td>\n",
       "      <td>lorichen</td>\n",
       "      <td>3</td>\n",
       "    </tr>\n",
       "    <tr>\n",
       "      <th>4</th>\n",
       "      <td>5</td>\n",
       "      <td>2</td>\n",
       "      <td>mariokeller</td>\n",
       "      <td>2</td>\n",
       "    </tr>\n",
       "  </tbody>\n",
       "</table>\n",
       "</div>"
      ],
      "text/plain": [
       "   rating_id  book_id       username  rating\n",
       "0          1        1     ryanfranco       4\n",
       "1          2        1  grantpatricia       2\n",
       "2          3        1   brandtandrea       5\n",
       "3          4        2       lorichen       3\n",
       "4          5        2    mariokeller       2"
      ]
     },
     "execution_count": 6,
     "metadata": {},
     "output_type": "execute_result"
    }
   ],
   "source": [
    "query = ''' \n",
    "SELECT * \n",
    "FROM ratings \n",
    "LIMIT 5'''\n",
    "pd.io.sql.read_sql(query, con = engine)\n",
    "\n"
   ]
  },
  {
   "cell_type": "markdown",
   "metadata": {},
   "source": [
    "### Просмотр таблицы  reviews"
   ]
  },
  {
   "cell_type": "code",
   "execution_count": 7,
   "metadata": {},
   "outputs": [
    {
     "data": {
      "text/html": [
       "<div>\n",
       "<style scoped>\n",
       "    .dataframe tbody tr th:only-of-type {\n",
       "        vertical-align: middle;\n",
       "    }\n",
       "\n",
       "    .dataframe tbody tr th {\n",
       "        vertical-align: top;\n",
       "    }\n",
       "\n",
       "    .dataframe thead th {\n",
       "        text-align: right;\n",
       "    }\n",
       "</style>\n",
       "<table border=\"1\" class=\"dataframe\">\n",
       "  <thead>\n",
       "    <tr style=\"text-align: right;\">\n",
       "      <th></th>\n",
       "      <th>review_id</th>\n",
       "      <th>book_id</th>\n",
       "      <th>username</th>\n",
       "      <th>text</th>\n",
       "    </tr>\n",
       "  </thead>\n",
       "  <tbody>\n",
       "    <tr>\n",
       "      <th>0</th>\n",
       "      <td>1</td>\n",
       "      <td>1</td>\n",
       "      <td>brandtandrea</td>\n",
       "      <td>Mention society tell send professor analysis. ...</td>\n",
       "    </tr>\n",
       "    <tr>\n",
       "      <th>1</th>\n",
       "      <td>2</td>\n",
       "      <td>1</td>\n",
       "      <td>ryanfranco</td>\n",
       "      <td>Foot glass pretty audience hit themselves. Amo...</td>\n",
       "    </tr>\n",
       "    <tr>\n",
       "      <th>2</th>\n",
       "      <td>3</td>\n",
       "      <td>2</td>\n",
       "      <td>lorichen</td>\n",
       "      <td>Listen treat keep worry. Miss husband tax but ...</td>\n",
       "    </tr>\n",
       "    <tr>\n",
       "      <th>3</th>\n",
       "      <td>4</td>\n",
       "      <td>3</td>\n",
       "      <td>johnsonamanda</td>\n",
       "      <td>Finally month interesting blue could nature cu...</td>\n",
       "    </tr>\n",
       "    <tr>\n",
       "      <th>4</th>\n",
       "      <td>5</td>\n",
       "      <td>3</td>\n",
       "      <td>scotttamara</td>\n",
       "      <td>Nation purpose heavy give wait song will. List...</td>\n",
       "    </tr>\n",
       "  </tbody>\n",
       "</table>\n",
       "</div>"
      ],
      "text/plain": [
       "   review_id  book_id       username  \\\n",
       "0          1        1   brandtandrea   \n",
       "1          2        1     ryanfranco   \n",
       "2          3        2       lorichen   \n",
       "3          4        3  johnsonamanda   \n",
       "4          5        3    scotttamara   \n",
       "\n",
       "                                                text  \n",
       "0  Mention society tell send professor analysis. ...  \n",
       "1  Foot glass pretty audience hit themselves. Amo...  \n",
       "2  Listen treat keep worry. Miss husband tax but ...  \n",
       "3  Finally month interesting blue could nature cu...  \n",
       "4  Nation purpose heavy give wait song will. List...  "
      ]
     },
     "execution_count": 7,
     "metadata": {},
     "output_type": "execute_result"
    }
   ],
   "source": [
    "query = ''' \n",
    "SELECT * \n",
    "FROM reviews \n",
    "LIMIT 5'''\n",
    "pd.io.sql.read_sql(query, con = engine)\n",
    "\n"
   ]
  },
  {
   "cell_type": "markdown",
   "metadata": {},
   "source": [
    "## Задания"
   ]
  },
  {
   "cell_type": "markdown",
   "metadata": {},
   "source": [
    "### Посчитайте, сколько книг вышло после 1 января 2000 года"
   ]
  },
  {
   "cell_type": "code",
   "execution_count": 8,
   "metadata": {},
   "outputs": [
    {
     "data": {
      "text/html": [
       "<div>\n",
       "<style scoped>\n",
       "    .dataframe tbody tr th:only-of-type {\n",
       "        vertical-align: middle;\n",
       "    }\n",
       "\n",
       "    .dataframe tbody tr th {\n",
       "        vertical-align: top;\n",
       "    }\n",
       "\n",
       "    .dataframe thead th {\n",
       "        text-align: right;\n",
       "    }\n",
       "</style>\n",
       "<table border=\"1\" class=\"dataframe\">\n",
       "  <thead>\n",
       "    <tr style=\"text-align: right;\">\n",
       "      <th></th>\n",
       "      <th>count</th>\n",
       "    </tr>\n",
       "  </thead>\n",
       "  <tbody>\n",
       "    <tr>\n",
       "      <th>0</th>\n",
       "      <td>819</td>\n",
       "    </tr>\n",
       "  </tbody>\n",
       "</table>\n",
       "</div>"
      ],
      "text/plain": [
       "   count\n",
       "0    819"
      ]
     },
     "execution_count": 8,
     "metadata": {},
     "output_type": "execute_result"
    }
   ],
   "source": [
    "query = ''' \n",
    "SELECT \n",
    "COUNT(book_id)\n",
    "FROM books\n",
    "WHERE publication_date > '2000-01-01'\n",
    "'''\n",
    "pd.io.sql.read_sql(query, con = engine)"
   ]
  },
  {
   "cell_type": "markdown",
   "metadata": {},
   "source": [
    "Книг получается 819"
   ]
  },
  {
   "cell_type": "markdown",
   "metadata": {},
   "source": [
    "### Для каждой книги посчитайте количество обзоров и среднюю оценку"
   ]
  },
  {
   "cell_type": "code",
   "execution_count": 9,
   "metadata": {},
   "outputs": [
    {
     "data": {
      "text/html": [
       "<div>\n",
       "<style scoped>\n",
       "    .dataframe tbody tr th:only-of-type {\n",
       "        vertical-align: middle;\n",
       "    }\n",
       "\n",
       "    .dataframe tbody tr th {\n",
       "        vertical-align: top;\n",
       "    }\n",
       "\n",
       "    .dataframe thead th {\n",
       "        text-align: right;\n",
       "    }\n",
       "</style>\n",
       "<table border=\"1\" class=\"dataframe\">\n",
       "  <thead>\n",
       "    <tr style=\"text-align: right;\">\n",
       "      <th></th>\n",
       "      <th>book_id</th>\n",
       "      <th>coutn_of_reviews</th>\n",
       "      <th>avg_rating</th>\n",
       "    </tr>\n",
       "  </thead>\n",
       "  <tbody>\n",
       "    <tr>\n",
       "      <th>0</th>\n",
       "      <td>652</td>\n",
       "      <td>4</td>\n",
       "      <td>4.500000</td>\n",
       "    </tr>\n",
       "    <tr>\n",
       "      <th>1</th>\n",
       "      <td>273</td>\n",
       "      <td>4</td>\n",
       "      <td>4.500000</td>\n",
       "    </tr>\n",
       "    <tr>\n",
       "      <th>2</th>\n",
       "      <td>51</td>\n",
       "      <td>60</td>\n",
       "      <td>4.250000</td>\n",
       "    </tr>\n",
       "    <tr>\n",
       "      <th>3</th>\n",
       "      <td>951</td>\n",
       "      <td>4</td>\n",
       "      <td>4.000000</td>\n",
       "    </tr>\n",
       "    <tr>\n",
       "      <th>4</th>\n",
       "      <td>839</td>\n",
       "      <td>28</td>\n",
       "      <td>4.285714</td>\n",
       "    </tr>\n",
       "  </tbody>\n",
       "</table>\n",
       "</div>"
      ],
      "text/plain": [
       "   book_id  coutn_of_reviews  avg_rating\n",
       "0      652                 4    4.500000\n",
       "1      273                 4    4.500000\n",
       "2       51                60    4.250000\n",
       "3      951                 4    4.000000\n",
       "4      839                28    4.285714"
      ]
     },
     "execution_count": 9,
     "metadata": {},
     "output_type": "execute_result"
    }
   ],
   "source": [
    "query = ''' \n",
    "SELECT \n",
    "b.book_id,\n",
    "COUNT(r.review_id) AS coutn_of_reviews,\n",
    "AVG(ra.rating) AS AVG_rating\n",
    "FROM books AS b\n",
    "LEFT JOIN reviews  AS r ON b.book_id=r.book_id\n",
    "LEFT JOIN  ratings AS ra ON b.book_id=ra.book_id\n",
    "GROUP BY b.book_id\n",
    "LIMIT 5\n",
    "'''\n",
    "pd.io.sql.read_sql(query, con = engine)"
   ]
  },
  {
   "cell_type": "markdown",
   "metadata": {},
   "source": [
    "### Определите издательство, которое выпустило наибольшее число книг толще 50 страниц — так вы исключите из анализа брошюры"
   ]
  },
  {
   "cell_type": "code",
   "execution_count": 10,
   "metadata": {},
   "outputs": [
    {
     "data": {
      "text/html": [
       "<div>\n",
       "<style scoped>\n",
       "    .dataframe tbody tr th:only-of-type {\n",
       "        vertical-align: middle;\n",
       "    }\n",
       "\n",
       "    .dataframe tbody tr th {\n",
       "        vertical-align: top;\n",
       "    }\n",
       "\n",
       "    .dataframe thead th {\n",
       "        text-align: right;\n",
       "    }\n",
       "</style>\n",
       "<table border=\"1\" class=\"dataframe\">\n",
       "  <thead>\n",
       "    <tr style=\"text-align: right;\">\n",
       "      <th></th>\n",
       "      <th>publisher</th>\n",
       "      <th>count</th>\n",
       "    </tr>\n",
       "  </thead>\n",
       "  <tbody>\n",
       "    <tr>\n",
       "      <th>0</th>\n",
       "      <td>Penguin Books</td>\n",
       "      <td>42</td>\n",
       "    </tr>\n",
       "  </tbody>\n",
       "</table>\n",
       "</div>"
      ],
      "text/plain": [
       "       publisher  count\n",
       "0  Penguin Books     42"
      ]
     },
     "execution_count": 10,
     "metadata": {},
     "output_type": "execute_result"
    }
   ],
   "source": [
    "query = ''' \n",
    "SELECT \n",
    "publisher,\n",
    "COUNT(b.book_id)\n",
    "FROM books AS b\n",
    "LEFT JOIN publishers AS p ON b.publisher_id=p.publisher_id\n",
    "WHERE b.num_pages > 50\n",
    "GROUP BY p.publisher_id\n",
    "ORDER BY COUNT(b.book_id) DESC \n",
    "LIMIT 1'''\n",
    "pd.io.sql.read_sql(query, con = engine)"
   ]
  },
  {
   "cell_type": "markdown",
   "metadata": {},
   "source": [
    "### Определите автора с самой высокой средней оценкой книг — учитывайте только книги с 50 и более оценками"
   ]
  },
  {
   "cell_type": "code",
   "execution_count": 11,
   "metadata": {},
   "outputs": [
    {
     "data": {
      "text/html": [
       "<div>\n",
       "<style scoped>\n",
       "    .dataframe tbody tr th:only-of-type {\n",
       "        vertical-align: middle;\n",
       "    }\n",
       "\n",
       "    .dataframe tbody tr th {\n",
       "        vertical-align: top;\n",
       "    }\n",
       "\n",
       "    .dataframe thead th {\n",
       "        text-align: right;\n",
       "    }\n",
       "</style>\n",
       "<table border=\"1\" class=\"dataframe\">\n",
       "  <thead>\n",
       "    <tr style=\"text-align: right;\">\n",
       "      <th></th>\n",
       "      <th>author</th>\n",
       "      <th>avg</th>\n",
       "    </tr>\n",
       "  </thead>\n",
       "  <tbody>\n",
       "    <tr>\n",
       "      <th>0</th>\n",
       "      <td>J.K. Rowling/Mary GrandPré</td>\n",
       "      <td>4.414634</td>\n",
       "    </tr>\n",
       "  </tbody>\n",
       "</table>\n",
       "</div>"
      ],
      "text/plain": [
       "                       author       avg\n",
       "0  J.K. Rowling/Mary GrandPré  4.414634"
      ]
     },
     "execution_count": 11,
     "metadata": {},
     "output_type": "execute_result"
    }
   ],
   "source": [
    "query = ''' \n",
    "SELECT \n",
    "a.author,\n",
    "AVG(r.rating)\n",
    "FROM books AS b\n",
    "LEFT JOIN authors AS a ON b.author_id=a.author_id\n",
    "LEFT JOIN ratings AS r ON b.book_id=r.book_id\n",
    "GROUP BY a.author_id, b.book_id\n",
    "HAVING COUNT(r.username) >= 50\n",
    "ORDER BY AVG(r.rating) DESC \n",
    "LIMIT 1'''\n",
    "pd.io.sql.read_sql(query, con = engine)"
   ]
  },
  {
   "cell_type": "markdown",
   "metadata": {},
   "source": [
    "### Посчитайте среднее количество обзоров от пользователей, которые поставили больше 50 оценок"
   ]
  },
  {
   "cell_type": "code",
   "execution_count": 13,
   "metadata": {},
   "outputs": [
    {
     "data": {
      "text/html": [
       "<div>\n",
       "<style scoped>\n",
       "    .dataframe tbody tr th:only-of-type {\n",
       "        vertical-align: middle;\n",
       "    }\n",
       "\n",
       "    .dataframe tbody tr th {\n",
       "        vertical-align: top;\n",
       "    }\n",
       "\n",
       "    .dataframe thead th {\n",
       "        text-align: right;\n",
       "    }\n",
       "</style>\n",
       "<table border=\"1\" class=\"dataframe\">\n",
       "  <thead>\n",
       "    <tr style=\"text-align: right;\">\n",
       "      <th></th>\n",
       "      <th>avg</th>\n",
       "    </tr>\n",
       "  </thead>\n",
       "  <tbody>\n",
       "    <tr>\n",
       "      <th>0</th>\n",
       "      <td>24.333333</td>\n",
       "    </tr>\n",
       "  </tbody>\n",
       "</table>\n",
       "</div>"
      ],
      "text/plain": [
       "         avg\n",
       "0  24.333333"
      ]
     },
     "execution_count": 13,
     "metadata": {},
     "output_type": "execute_result"
    }
   ],
   "source": [
    "query = ''' \n",
    "WITH \n",
    "a AS\n",
    "(SELECT \n",
    "ra.username\n",
    "FROM ratings AS ra\n",
    "GROUP BY ra.username\n",
    "HAVING count(ra.rating_id) > 50),\n",
    "b AS (SELECT\n",
    "r.username,\n",
    "COUNT(r.review_id) AS count_reviews\n",
    "FROM reviews AS r\n",
    "GROUP BY r.username)\n",
    "SELECT AVG(b.count_reviews)\n",
    "FROM b \n",
    "JOIN a ON b.username=a.username '''\n",
    "pd.io.sql.read_sql(query, con = engine)\n",
    "  "
   ]
  },
  {
   "cell_type": "markdown",
   "metadata": {},
   "source": [
    "В среднем, пользователь, поставивший больше 50-ти оценок составляет 24 обзора на книги"
   ]
  },
  {
   "cell_type": "markdown",
   "metadata": {},
   "source": [
    "Выводы:\n",
    "\n",
    "В ходе анализа базы данных, содержащей информацию о книгах (в том числе об авторах, издательствах, оценках и обзорах), были определены следующие факты:\n",
    "\n",
    "819 книг было изданы после 1 января 2000\n",
    "\n",
    "Издательством, которое выпустило больше всего книг (брошюры не учитывались), является Penguin Books\n",
    "\n",
    "Автором с самыми высокими оценками (в разрезе книг автора или всех книг из БД) является J.K. Rowling\n",
    "\n",
    "Пользователи, оставляющие более 50 оценок к книгам, в среднем делают по 24 обзора\n",
    "\n"
   ]
  },
  {
   "cell_type": "code",
   "execution_count": null,
   "metadata": {},
   "outputs": [],
   "source": []
  }
 ],
 "metadata": {
  "ExecuteTimeLog": [
   {
    "duration": 9299,
    "start_time": "2022-07-24T06:43:01.385Z"
   },
   {
    "duration": 10,
    "start_time": "2022-07-24T06:45:10.007Z"
   },
   {
    "duration": 75,
    "start_time": "2022-07-24T06:46:02.086Z"
   },
   {
    "duration": 80,
    "start_time": "2022-07-24T06:46:11.657Z"
   },
   {
    "duration": 67,
    "start_time": "2022-07-24T06:46:29.254Z"
   },
   {
    "duration": 70,
    "start_time": "2022-07-24T06:46:47.765Z"
   },
   {
    "duration": 17,
    "start_time": "2022-07-24T06:50:37.508Z"
   },
   {
    "duration": 14,
    "start_time": "2022-07-24T06:51:16.931Z"
   },
   {
    "duration": 21,
    "start_time": "2022-07-24T06:52:07.432Z"
   },
   {
    "duration": 78,
    "start_time": "2022-07-24T06:55:35.202Z"
   },
   {
    "duration": 67,
    "start_time": "2022-07-24T06:56:21.465Z"
   },
   {
    "duration": 6,
    "start_time": "2022-07-24T06:56:37.381Z"
   },
   {
    "duration": 73,
    "start_time": "2022-07-24T06:57:26.139Z"
   },
   {
    "duration": 6,
    "start_time": "2022-07-24T07:05:45.657Z"
   },
   {
    "duration": 83,
    "start_time": "2022-07-24T07:05:47.658Z"
   },
   {
    "duration": 11,
    "start_time": "2022-07-24T07:08:00.929Z"
   },
   {
    "duration": 4,
    "start_time": "2022-07-24T07:08:08.329Z"
   },
   {
    "duration": 10,
    "start_time": "2022-07-24T07:08:08.993Z"
   },
   {
    "duration": 3,
    "start_time": "2022-07-24T07:09:17.070Z"
   },
   {
    "duration": 12,
    "start_time": "2022-07-24T07:09:23.208Z"
   },
   {
    "duration": 3,
    "start_time": "2022-07-24T07:11:01.433Z"
   },
   {
    "duration": 129,
    "start_time": "2022-07-24T07:11:02.591Z"
   },
   {
    "duration": 100,
    "start_time": "2022-07-24T07:13:13.676Z"
   },
   {
    "duration": 6,
    "start_time": "2022-07-24T07:13:30.137Z"
   },
   {
    "duration": 3,
    "start_time": "2022-07-24T07:13:30.634Z"
   },
   {
    "duration": 148,
    "start_time": "2022-07-24T07:13:31.238Z"
   },
   {
    "duration": 3,
    "start_time": "2022-07-24T07:14:01.990Z"
   },
   {
    "duration": 16,
    "start_time": "2022-07-24T07:14:03.613Z"
   },
   {
    "duration": 139,
    "start_time": "2022-07-24T07:15:20.251Z"
   },
   {
    "duration": 82,
    "start_time": "2022-07-24T07:18:37.192Z"
   },
   {
    "duration": 116,
    "start_time": "2022-07-24T07:19:11.453Z"
   },
   {
    "duration": 165,
    "start_time": "2022-07-24T07:19:20.270Z"
   },
   {
    "duration": 108,
    "start_time": "2022-07-24T07:19:48.001Z"
   },
   {
    "duration": 8,
    "start_time": "2022-07-24T07:20:02.616Z"
   },
   {
    "duration": 8,
    "start_time": "2022-07-24T07:20:49.246Z"
   },
   {
    "duration": 102,
    "start_time": "2022-07-24T07:20:50.985Z"
   },
   {
    "duration": 4,
    "start_time": "2022-07-24T07:20:59.789Z"
   },
   {
    "duration": 93,
    "start_time": "2022-07-24T07:21:00.368Z"
   },
   {
    "duration": 100,
    "start_time": "2022-07-24T07:21:01.243Z"
   },
   {
    "duration": 5,
    "start_time": "2022-07-24T07:21:03.601Z"
   },
   {
    "duration": 211,
    "start_time": "2022-07-24T07:21:03.796Z"
   },
   {
    "duration": 133,
    "start_time": "2022-07-24T07:21:04.009Z"
   },
   {
    "duration": 7,
    "start_time": "2022-07-24T07:21:04.195Z"
   },
   {
    "duration": 3,
    "start_time": "2022-07-24T07:21:04.385Z"
   },
   {
    "duration": 52,
    "start_time": "2022-07-24T07:21:15.153Z"
   },
   {
    "duration": 26,
    "start_time": "2022-07-24T07:21:36.162Z"
   },
   {
    "duration": 8,
    "start_time": "2022-07-24T07:22:03.559Z"
   },
   {
    "duration": 9,
    "start_time": "2022-07-24T07:22:08.258Z"
   },
   {
    "duration": 15,
    "start_time": "2022-07-24T07:22:16.343Z"
   },
   {
    "duration": 3,
    "start_time": "2022-07-24T07:24:27.506Z"
   },
   {
    "duration": 120,
    "start_time": "2022-07-24T07:24:35.719Z"
   },
   {
    "duration": 3,
    "start_time": "2022-07-24T07:25:27.049Z"
   },
   {
    "duration": 84,
    "start_time": "2022-07-24T07:25:27.950Z"
   },
   {
    "duration": 4,
    "start_time": "2022-07-24T07:26:15.418Z"
   },
   {
    "duration": 91,
    "start_time": "2022-07-24T07:26:15.956Z"
   },
   {
    "duration": 120,
    "start_time": "2022-07-24T07:26:29.088Z"
   },
   {
    "duration": 86,
    "start_time": "2022-07-24T07:27:08.533Z"
   },
   {
    "duration": 111,
    "start_time": "2022-07-24T07:27:09.059Z"
   },
   {
    "duration": 83,
    "start_time": "2022-07-24T07:28:53.758Z"
   },
   {
    "duration": 2,
    "start_time": "2022-07-24T07:29:05.047Z"
   },
   {
    "duration": 105,
    "start_time": "2022-07-24T07:29:06.561Z"
   },
   {
    "duration": 92,
    "start_time": "2022-07-24T07:30:11.958Z"
   },
   {
    "duration": 3,
    "start_time": "2022-07-24T07:30:17.771Z"
   },
   {
    "duration": 107,
    "start_time": "2022-07-24T07:30:21.446Z"
   },
   {
    "duration": 13,
    "start_time": "2022-07-24T07:31:53.678Z"
   },
   {
    "duration": 27,
    "start_time": "2022-07-24T07:32:45.105Z"
   },
   {
    "duration": 15,
    "start_time": "2022-07-24T07:32:55.809Z"
   },
   {
    "duration": 13,
    "start_time": "2022-07-24T07:33:09.162Z"
   },
   {
    "duration": 13,
    "start_time": "2022-07-24T07:33:27.210Z"
   },
   {
    "duration": 96,
    "start_time": "2022-07-24T07:55:49.575Z"
   },
   {
    "duration": 138,
    "start_time": "2022-07-24T07:56:04.894Z"
   },
   {
    "duration": 19,
    "start_time": "2022-07-24T07:58:19.677Z"
   },
   {
    "duration": 119,
    "start_time": "2022-07-24T08:00:27.268Z"
   },
   {
    "duration": 113,
    "start_time": "2022-07-24T08:03:17.476Z"
   },
   {
    "duration": 116,
    "start_time": "2022-07-24T08:03:28.300Z"
   },
   {
    "duration": 100,
    "start_time": "2022-07-24T08:05:48.132Z"
   },
   {
    "duration": 16,
    "start_time": "2022-07-24T08:09:00.134Z"
   },
   {
    "duration": 108,
    "start_time": "2022-07-24T08:09:32.471Z"
   },
   {
    "duration": 146,
    "start_time": "2022-07-24T08:09:36.928Z"
   },
   {
    "duration": 13,
    "start_time": "2022-07-24T08:09:41.957Z"
   },
   {
    "duration": 12,
    "start_time": "2022-07-24T08:09:47.367Z"
   },
   {
    "duration": 93,
    "start_time": "2022-07-24T08:24:33.705Z"
   },
   {
    "duration": 98,
    "start_time": "2022-07-24T08:24:55.742Z"
   },
   {
    "duration": 115,
    "start_time": "2022-07-24T08:32:12.050Z"
   },
   {
    "duration": 146,
    "start_time": "2022-07-24T08:32:20.979Z"
   },
   {
    "duration": 112,
    "start_time": "2022-07-24T08:32:48.037Z"
   },
   {
    "duration": 116,
    "start_time": "2022-07-24T08:33:30.406Z"
   },
   {
    "duration": 196,
    "start_time": "2022-07-24T08:35:46.869Z"
   },
   {
    "duration": 30,
    "start_time": "2022-07-24T08:36:04.567Z"
   },
   {
    "duration": 110,
    "start_time": "2022-07-24T08:37:21.084Z"
   },
   {
    "duration": 25,
    "start_time": "2022-07-24T08:37:33.662Z"
   },
   {
    "duration": 135,
    "start_time": "2022-07-24T08:38:04.121Z"
   },
   {
    "duration": 26,
    "start_time": "2022-07-24T08:38:10.782Z"
   },
   {
    "duration": 23,
    "start_time": "2022-07-24T08:38:24.066Z"
   },
   {
    "duration": 16,
    "start_time": "2022-07-24T08:40:08.969Z"
   },
   {
    "duration": 20,
    "start_time": "2022-07-24T08:42:41.663Z"
   },
   {
    "duration": 174,
    "start_time": "2022-07-24T08:59:02.746Z"
   },
   {
    "duration": 101,
    "start_time": "2022-07-24T08:59:53.317Z"
   },
   {
    "duration": 14,
    "start_time": "2022-07-24T09:01:58.436Z"
   },
   {
    "duration": 114,
    "start_time": "2022-07-24T09:16:27.330Z"
   },
   {
    "duration": 17,
    "start_time": "2022-07-24T09:17:19.385Z"
   },
   {
    "duration": 232,
    "start_time": "2022-07-24T09:21:14.020Z"
   },
   {
    "duration": 122,
    "start_time": "2022-07-24T09:21:39.196Z"
   },
   {
    "duration": 15,
    "start_time": "2022-07-24T09:22:44.589Z"
   },
   {
    "duration": 15,
    "start_time": "2022-07-24T09:26:11.231Z"
   },
   {
    "duration": 57,
    "start_time": "2022-07-24T09:26:19.146Z"
   },
   {
    "duration": 94,
    "start_time": "2022-07-24T09:26:25.143Z"
   },
   {
    "duration": 19,
    "start_time": "2022-07-24T09:30:33.553Z"
   },
   {
    "duration": 25,
    "start_time": "2022-07-24T09:33:22.816Z"
   },
   {
    "duration": 17,
    "start_time": "2022-07-24T09:34:21.418Z"
   },
   {
    "duration": 17,
    "start_time": "2022-07-24T09:35:09.511Z"
   },
   {
    "duration": 14,
    "start_time": "2022-07-24T09:35:21.033Z"
   },
   {
    "duration": 22,
    "start_time": "2022-07-24T09:35:26.940Z"
   },
   {
    "duration": 24,
    "start_time": "2022-07-24T09:37:21.996Z"
   },
   {
    "duration": 20,
    "start_time": "2022-07-24T09:37:37.323Z"
   },
   {
    "duration": 20,
    "start_time": "2022-07-24T09:38:28.805Z"
   },
   {
    "duration": 24,
    "start_time": "2022-07-24T09:39:02.810Z"
   },
   {
    "duration": 78,
    "start_time": "2022-07-24T09:41:38.202Z"
   },
   {
    "duration": 21,
    "start_time": "2022-07-24T09:41:44.564Z"
   },
   {
    "duration": 14,
    "start_time": "2022-07-24T09:42:35.366Z"
   },
   {
    "duration": 19,
    "start_time": "2022-07-24T09:42:36.575Z"
   },
   {
    "duration": 15,
    "start_time": "2022-07-24T09:42:56.103Z"
   },
   {
    "duration": 20,
    "start_time": "2022-07-24T09:43:01.910Z"
   },
   {
    "duration": 20,
    "start_time": "2022-07-24T09:43:20.758Z"
   },
   {
    "duration": 6,
    "start_time": "2022-07-24T09:44:31.513Z"
   },
   {
    "duration": 11,
    "start_time": "2022-07-24T09:47:08.510Z"
   },
   {
    "duration": 9,
    "start_time": "2022-07-24T09:47:28.170Z"
   },
   {
    "duration": 12,
    "start_time": "2022-07-24T09:48:27.428Z"
   },
   {
    "duration": 10,
    "start_time": "2022-07-24T09:48:38.421Z"
   },
   {
    "duration": 11,
    "start_time": "2022-07-24T09:48:45.542Z"
   },
   {
    "duration": 10,
    "start_time": "2022-07-24T09:49:36.791Z"
   },
   {
    "duration": 9,
    "start_time": "2022-07-24T09:50:02.756Z"
   },
   {
    "duration": 19,
    "start_time": "2022-07-24T09:50:37.200Z"
   },
   {
    "duration": 19,
    "start_time": "2022-07-24T09:51:44.060Z"
   },
   {
    "duration": 11,
    "start_time": "2022-07-24T09:52:27.502Z"
   },
   {
    "duration": 1491,
    "start_time": "2022-07-24T09:52:42.037Z"
   },
   {
    "duration": 1271,
    "start_time": "2022-07-24T09:53:38.766Z"
   },
   {
    "duration": 1319,
    "start_time": "2022-07-24T09:53:55.587Z"
   },
   {
    "duration": 12,
    "start_time": "2022-07-24T09:54:14.909Z"
   },
   {
    "duration": 22,
    "start_time": "2022-07-24T09:54:45.209Z"
   },
   {
    "duration": 9,
    "start_time": "2022-07-24T09:54:52.477Z"
   },
   {
    "duration": 10,
    "start_time": "2022-07-24T09:54:54.936Z"
   },
   {
    "duration": 15,
    "start_time": "2022-07-24T09:58:21.077Z"
   },
   {
    "duration": 96,
    "start_time": "2022-07-24T09:59:27.509Z"
   },
   {
    "duration": 92,
    "start_time": "2022-07-24T09:59:32.424Z"
   },
   {
    "duration": 17,
    "start_time": "2022-07-24T10:00:11.282Z"
   },
   {
    "duration": 15,
    "start_time": "2022-07-24T10:00:19.899Z"
   },
   {
    "duration": 9828,
    "start_time": "2022-07-24T14:02:05.062Z"
   },
   {
    "duration": 77,
    "start_time": "2022-07-24T14:02:14.893Z"
   },
   {
    "duration": 13,
    "start_time": "2022-07-24T14:02:14.972Z"
   },
   {
    "duration": 19,
    "start_time": "2022-07-24T14:02:14.988Z"
   },
   {
    "duration": 28,
    "start_time": "2022-07-24T14:02:15.010Z"
   },
   {
    "duration": 17,
    "start_time": "2022-07-24T14:02:15.040Z"
   },
   {
    "duration": 15,
    "start_time": "2022-07-24T14:02:15.059Z"
   },
   {
    "duration": 47,
    "start_time": "2022-07-24T14:02:15.077Z"
   },
   {
    "duration": 57,
    "start_time": "2022-07-24T14:02:15.126Z"
   },
   {
    "duration": 30,
    "start_time": "2022-07-24T14:02:15.186Z"
   },
   {
    "duration": 197,
    "start_time": "2022-07-24T14:13:20.014Z"
   },
   {
    "duration": 122,
    "start_time": "2022-07-24T14:13:42.549Z"
   },
   {
    "duration": 100,
    "start_time": "2022-07-24T14:13:55.823Z"
   },
   {
    "duration": 107,
    "start_time": "2022-07-24T14:14:00.592Z"
   },
   {
    "duration": 35,
    "start_time": "2022-07-24T14:14:04.282Z"
   },
   {
    "duration": 111,
    "start_time": "2022-07-24T14:14:58.187Z"
   },
   {
    "duration": 97,
    "start_time": "2022-07-24T14:15:10.962Z"
   },
   {
    "duration": 103,
    "start_time": "2022-07-24T14:15:27.052Z"
   },
   {
    "duration": 114,
    "start_time": "2022-07-24T14:16:37.354Z"
   },
   {
    "duration": 112,
    "start_time": "2022-07-24T14:16:49.549Z"
   },
   {
    "duration": 113,
    "start_time": "2022-07-24T14:17:20.493Z"
   },
   {
    "duration": 124,
    "start_time": "2022-07-24T14:17:37.065Z"
   },
   {
    "duration": 105,
    "start_time": "2022-07-24T14:18:43.285Z"
   },
   {
    "duration": 102,
    "start_time": "2022-07-24T14:19:11.533Z"
   },
   {
    "duration": 33,
    "start_time": "2022-07-24T14:20:41.118Z"
   },
   {
    "duration": 32,
    "start_time": "2022-07-24T14:21:16.796Z"
   },
   {
    "duration": 118,
    "start_time": "2022-07-24T14:21:39.765Z"
   },
   {
    "duration": 98,
    "start_time": "2022-07-24T14:22:32.057Z"
   },
   {
    "duration": 272,
    "start_time": "2022-07-24T14:22:34.849Z"
   },
   {
    "duration": 19,
    "start_time": "2022-07-24T14:22:45.706Z"
   },
   {
    "duration": 27,
    "start_time": "2022-07-24T14:22:50.621Z"
   },
   {
    "duration": 100,
    "start_time": "2022-07-24T14:23:53.088Z"
   },
   {
    "duration": 107,
    "start_time": "2022-07-24T14:25:12.915Z"
   },
   {
    "duration": 159,
    "start_time": "2022-07-24T14:26:22.030Z"
   },
   {
    "duration": 25,
    "start_time": "2022-07-24T14:26:36.263Z"
   },
   {
    "duration": 23,
    "start_time": "2022-07-24T14:26:45.388Z"
   },
   {
    "duration": 102,
    "start_time": "2022-07-24T14:27:00.800Z"
   },
   {
    "duration": 25,
    "start_time": "2022-07-24T14:27:32.440Z"
   },
   {
    "duration": 122,
    "start_time": "2022-07-24T14:28:04.393Z"
   },
   {
    "duration": 22,
    "start_time": "2022-07-24T14:28:12.957Z"
   },
   {
    "duration": 107,
    "start_time": "2022-07-24T14:28:28.353Z"
   },
   {
    "duration": 140,
    "start_time": "2022-07-24T14:30:47.928Z"
   },
   {
    "duration": 126,
    "start_time": "2022-07-24T14:33:20.817Z"
   },
   {
    "duration": 100,
    "start_time": "2022-07-24T14:33:36.051Z"
   },
   {
    "duration": 125,
    "start_time": "2022-07-24T14:35:40.951Z"
   },
   {
    "duration": 157,
    "start_time": "2022-07-24T14:36:07.446Z"
   },
   {
    "duration": 33,
    "start_time": "2022-07-24T14:36:31.844Z"
   },
   {
    "duration": 20,
    "start_time": "2022-07-24T14:36:41.536Z"
   },
   {
    "duration": 14,
    "start_time": "2022-07-24T14:36:42.385Z"
   },
   {
    "duration": 16,
    "start_time": "2022-07-24T14:36:43.323Z"
   },
   {
    "duration": 23,
    "start_time": "2022-07-24T14:36:44.566Z"
   },
   {
    "duration": 21,
    "start_time": "2022-07-24T14:37:21.779Z"
   },
   {
    "duration": 102,
    "start_time": "2022-07-24T14:37:42.255Z"
   },
   {
    "duration": 21,
    "start_time": "2022-07-24T14:38:13.755Z"
   },
   {
    "duration": 23,
    "start_time": "2022-07-24T14:39:10.566Z"
   },
   {
    "duration": 20,
    "start_time": "2022-07-24T14:39:30.954Z"
   },
   {
    "duration": 107,
    "start_time": "2022-07-24T14:44:48.543Z"
   },
   {
    "duration": 20,
    "start_time": "2022-07-24T14:45:57.324Z"
   },
   {
    "duration": 98,
    "start_time": "2022-07-24T14:46:16.581Z"
   },
   {
    "duration": 96,
    "start_time": "2022-07-24T14:46:40.906Z"
   },
   {
    "duration": 101,
    "start_time": "2022-07-24T14:47:06.108Z"
   },
   {
    "duration": 3001,
    "start_time": "2022-07-24T14:47:36.643Z"
   },
   {
    "duration": 109,
    "start_time": "2022-07-24T14:48:19.601Z"
   },
   {
    "duration": 76,
    "start_time": "2022-07-24T14:52:05.980Z"
   },
   {
    "duration": 76,
    "start_time": "2022-07-24T14:52:43.961Z"
   },
   {
    "duration": 71,
    "start_time": "2022-07-24T15:04:39.308Z"
   },
   {
    "duration": 118,
    "start_time": "2022-07-24T15:08:19.897Z"
   },
   {
    "duration": 107,
    "start_time": "2022-07-24T15:09:47.924Z"
   },
   {
    "duration": 129,
    "start_time": "2022-07-24T15:11:01.757Z"
   },
   {
    "duration": 108,
    "start_time": "2022-07-24T15:11:07.308Z"
   },
   {
    "duration": 101,
    "start_time": "2022-07-24T15:11:16.695Z"
   },
   {
    "duration": 8,
    "start_time": "2022-07-24T15:12:00.568Z"
   },
   {
    "duration": 106,
    "start_time": "2022-07-24T15:13:21.559Z"
   },
   {
    "duration": 156,
    "start_time": "2022-07-24T15:15:20.692Z"
   },
   {
    "duration": 136,
    "start_time": "2022-07-24T15:16:06.976Z"
   },
   {
    "duration": 10,
    "start_time": "2022-07-24T15:17:02.558Z"
   },
   {
    "duration": 203,
    "start_time": "2022-07-24T15:17:20.152Z"
   },
   {
    "duration": 116,
    "start_time": "2022-07-24T15:18:18.405Z"
   },
   {
    "duration": 109,
    "start_time": "2022-07-24T15:18:47.654Z"
   },
   {
    "duration": 8,
    "start_time": "2022-07-24T15:19:09.758Z"
   },
   {
    "duration": 116,
    "start_time": "2022-07-24T15:19:39.309Z"
   },
   {
    "duration": 128,
    "start_time": "2022-07-24T15:22:48.566Z"
   },
   {
    "duration": 108,
    "start_time": "2022-07-24T15:23:03.587Z"
   },
   {
    "duration": 99,
    "start_time": "2022-07-24T15:23:17.713Z"
   },
   {
    "duration": 137,
    "start_time": "2022-07-24T15:24:25.271Z"
   },
   {
    "duration": 111,
    "start_time": "2022-07-24T15:27:31.795Z"
   },
   {
    "duration": 109,
    "start_time": "2022-07-24T15:27:50.414Z"
   },
   {
    "duration": 118,
    "start_time": "2022-07-24T15:28:45.299Z"
   },
   {
    "duration": 106,
    "start_time": "2022-07-24T15:28:57.055Z"
   },
   {
    "duration": 151,
    "start_time": "2022-07-24T15:29:22.099Z"
   },
   {
    "duration": 120,
    "start_time": "2022-07-24T15:29:45.322Z"
   },
   {
    "duration": 106,
    "start_time": "2022-07-24T15:31:49.627Z"
   },
   {
    "duration": 193,
    "start_time": "2022-07-24T15:40:47.060Z"
   },
   {
    "duration": 101,
    "start_time": "2022-07-24T15:41:09.105Z"
   },
   {
    "duration": 17,
    "start_time": "2022-07-24T15:42:00.567Z"
   },
   {
    "duration": 19,
    "start_time": "2022-07-24T15:42:25.105Z"
   },
   {
    "duration": 8,
    "start_time": "2022-07-24T15:51:22.127Z"
   },
   {
    "duration": 15,
    "start_time": "2022-07-24T17:21:09.590Z"
   },
   {
    "duration": 102,
    "start_time": "2022-07-24T17:22:41.257Z"
   },
   {
    "duration": 30,
    "start_time": "2022-07-24T17:22:54.494Z"
   },
   {
    "duration": 585,
    "start_time": "2022-07-27T12:28:25.653Z"
   },
   {
    "duration": 11557,
    "start_time": "2022-07-27T12:28:26.240Z"
   },
   {
    "duration": 253,
    "start_time": "2022-07-27T12:28:37.799Z"
   },
   {
    "duration": 77,
    "start_time": "2022-07-27T12:28:38.054Z"
   },
   {
    "duration": 80,
    "start_time": "2022-07-27T12:28:38.133Z"
   },
   {
    "duration": 81,
    "start_time": "2022-07-27T12:28:38.214Z"
   },
   {
    "duration": 64,
    "start_time": "2022-07-27T12:28:38.297Z"
   },
   {
    "duration": 86,
    "start_time": "2022-07-27T12:28:38.363Z"
   },
   {
    "duration": 91,
    "start_time": "2022-07-27T12:28:38.450Z"
   },
   {
    "duration": 91,
    "start_time": "2022-07-27T12:28:38.543Z"
   },
   {
    "duration": 88,
    "start_time": "2022-07-27T12:28:38.635Z"
   },
   {
    "duration": 72,
    "start_time": "2022-07-27T12:28:38.724Z"
   },
   {
    "duration": 594,
    "start_time": "2022-07-27T12:29:47.957Z"
   },
   {
    "duration": 14375,
    "start_time": "2022-07-27T12:29:48.553Z"
   },
   {
    "duration": 293,
    "start_time": "2022-07-27T12:30:02.930Z"
   },
   {
    "duration": 110,
    "start_time": "2022-07-27T12:30:03.224Z"
   },
   {
    "duration": 96,
    "start_time": "2022-07-27T12:30:03.336Z"
   },
   {
    "duration": 99,
    "start_time": "2022-07-27T12:30:03.434Z"
   },
   {
    "duration": 98,
    "start_time": "2022-07-27T12:30:03.534Z"
   },
   {
    "duration": 95,
    "start_time": "2022-07-27T12:30:03.634Z"
   },
   {
    "duration": 109,
    "start_time": "2022-07-27T12:30:03.731Z"
   },
   {
    "duration": 90,
    "start_time": "2022-07-27T12:30:03.841Z"
   },
   {
    "duration": 102,
    "start_time": "2022-07-27T12:30:03.933Z"
   },
   {
    "duration": 106,
    "start_time": "2022-07-27T12:30:04.037Z"
   },
   {
    "duration": 55,
    "start_time": "2022-07-27T15:52:17.427Z"
   },
   {
    "duration": 62,
    "start_time": "2022-07-27T15:52:20.843Z"
   },
   {
    "duration": 54,
    "start_time": "2022-07-27T15:52:31.938Z"
   },
   {
    "duration": 46,
    "start_time": "2022-07-27T15:52:54.560Z"
   },
   {
    "duration": 568,
    "start_time": "2022-07-27T18:39:23.490Z"
   },
   {
    "duration": 10178,
    "start_time": "2022-07-27T18:39:24.061Z"
   },
   {
    "duration": 301,
    "start_time": "2022-07-27T18:39:34.241Z"
   },
   {
    "duration": 92,
    "start_time": "2022-07-27T18:39:34.545Z"
   },
   {
    "duration": 78,
    "start_time": "2022-07-27T18:39:34.638Z"
   },
   {
    "duration": 77,
    "start_time": "2022-07-27T18:39:34.719Z"
   },
   {
    "duration": 86,
    "start_time": "2022-07-27T18:39:34.798Z"
   },
   {
    "duration": 87,
    "start_time": "2022-07-27T18:39:34.885Z"
   },
   {
    "duration": 98,
    "start_time": "2022-07-27T18:39:34.974Z"
   },
   {
    "duration": 85,
    "start_time": "2022-07-27T18:39:35.075Z"
   },
   {
    "duration": 84,
    "start_time": "2022-07-27T18:39:35.162Z"
   },
   {
    "duration": 76,
    "start_time": "2022-07-27T18:39:35.249Z"
   },
   {
    "duration": 54,
    "start_time": "2022-09-06T13:34:58.900Z"
   },
   {
    "duration": 542,
    "start_time": "2022-09-06T13:47:53.296Z"
   },
   {
    "duration": 9579,
    "start_time": "2022-09-06T13:47:53.840Z"
   },
   {
    "duration": 63,
    "start_time": "2022-09-06T13:48:03.420Z"
   },
   {
    "duration": 11,
    "start_time": "2022-09-06T13:48:03.484Z"
   },
   {
    "duration": 21,
    "start_time": "2022-09-06T13:48:03.497Z"
   },
   {
    "duration": 22,
    "start_time": "2022-09-06T13:48:03.520Z"
   },
   {
    "duration": 16,
    "start_time": "2022-09-06T13:48:03.543Z"
   },
   {
    "duration": 12,
    "start_time": "2022-09-06T13:48:03.560Z"
   },
   {
    "duration": 24,
    "start_time": "2022-09-06T13:48:03.574Z"
   },
   {
    "duration": 17,
    "start_time": "2022-09-06T13:48:03.599Z"
   },
   {
    "duration": 29,
    "start_time": "2022-09-06T13:48:03.617Z"
   },
   {
    "duration": 14,
    "start_time": "2022-09-06T13:48:03.647Z"
   },
   {
    "duration": 13,
    "start_time": "2022-09-06T13:48:16.784Z"
   },
   {
    "duration": 2,
    "start_time": "2022-09-06T13:48:20.224Z"
   },
   {
    "duration": 197,
    "start_time": "2022-09-06T13:48:26.161Z"
   },
   {
    "duration": 99,
    "start_time": "2022-09-06T13:50:08.137Z"
   },
   {
    "duration": 102,
    "start_time": "2022-09-06T13:51:25.339Z"
   },
   {
    "duration": 129,
    "start_time": "2022-09-06T13:53:00.119Z"
   },
   {
    "duration": 81,
    "start_time": "2022-09-06T13:53:19.894Z"
   },
   {
    "duration": 3,
    "start_time": "2022-09-06T13:53:31.040Z"
   }
  ],
  "kernelspec": {
   "display_name": "Python 3 (ipykernel)",
   "language": "python",
   "name": "python3"
  },
  "language_info": {
   "codemirror_mode": {
    "name": "ipython",
    "version": 3
   },
   "file_extension": ".py",
   "mimetype": "text/x-python",
   "name": "python",
   "nbconvert_exporter": "python",
   "pygments_lexer": "ipython3",
   "version": "3.9.5"
  },
  "toc": {
   "base_numbering": 1,
   "nav_menu": {},
   "number_sections": true,
   "sideBar": true,
   "skip_h1_title": true,
   "title_cell": "Table of Contents",
   "title_sidebar": "Contents",
   "toc_cell": false,
   "toc_position": {},
   "toc_section_display": true,
   "toc_window_display": false
  }
 },
 "nbformat": 4,
 "nbformat_minor": 2
}

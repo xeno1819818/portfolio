{
 "cells": [
  {
   "cell_type": "markdown",
   "id": "9aa0075b",
   "metadata": {},
   "source": [
    "# Исследование надежности заемщиков."
   ]
  },
  {
   "cell_type": "markdown",
   "id": "5bcbae00",
   "metadata": {},
   "source": [
    "### Шаг 1. Обзор данных"
   ]
  },
  {
   "cell_type": "code",
   "execution_count": 1,
   "id": "0b854c07",
   "metadata": {
    "scrolled": true
   },
   "outputs": [
    {
     "name": "stdout",
     "output_type": "stream",
     "text": [
      "<class 'pandas.core.frame.DataFrame'>\n",
      "RangeIndex: 21525 entries, 0 to 21524\n",
      "Data columns (total 12 columns):\n",
      " #   Column            Non-Null Count  Dtype  \n",
      "---  ------            --------------  -----  \n",
      " 0   children          21525 non-null  int64  \n",
      " 1   days_employed     19351 non-null  float64\n",
      " 2   dob_years         21525 non-null  int64  \n",
      " 3   education         21525 non-null  object \n",
      " 4   education_id      21525 non-null  int64  \n",
      " 5   family_status     21525 non-null  object \n",
      " 6   family_status_id  21525 non-null  int64  \n",
      " 7   gender            21525 non-null  object \n",
      " 8   income_type       21525 non-null  object \n",
      " 9   debt              21525 non-null  int64  \n",
      " 10  total_income      19351 non-null  float64\n",
      " 11  purpose           21525 non-null  object \n",
      "dtypes: float64(2), int64(5), object(5)\n",
      "memory usage: 2.0+ MB\n"
     ]
    }
   ],
   "source": [
    "import pandas as pd\n",
    "data=pd.read_csv('/datasets/data.csv')\n",
    "#Вызываем общие данные таблицы методом info()\n",
    "data.info()\n"
   ]
  },
  {
   "cell_type": "markdown",
   "id": "555ac2f2",
   "metadata": {},
   "source": [
    "### Шаг 2.1 Заполнение пропусков"
   ]
  },
  {
   "cell_type": "code",
   "execution_count": 2,
   "id": "9b5cda8f",
   "metadata": {
    "scrolled": true
   },
   "outputs": [
    {
     "data": {
      "text/html": [
       "<div>\n",
       "<style scoped>\n",
       "    .dataframe tbody tr th:only-of-type {\n",
       "        vertical-align: middle;\n",
       "    }\n",
       "\n",
       "    .dataframe tbody tr th {\n",
       "        vertical-align: top;\n",
       "    }\n",
       "\n",
       "    .dataframe thead th {\n",
       "        text-align: right;\n",
       "    }\n",
       "</style>\n",
       "<table border=\"1\" class=\"dataframe\">\n",
       "  <thead>\n",
       "    <tr style=\"text-align: right;\">\n",
       "      <th></th>\n",
       "      <th>children</th>\n",
       "      <th>days_employed</th>\n",
       "      <th>dob_years</th>\n",
       "      <th>education</th>\n",
       "      <th>education_id</th>\n",
       "      <th>family_status</th>\n",
       "      <th>family_status_id</th>\n",
       "      <th>gender</th>\n",
       "      <th>income_type</th>\n",
       "      <th>debt</th>\n",
       "      <th>total_income</th>\n",
       "      <th>purpose</th>\n",
       "    </tr>\n",
       "  </thead>\n",
       "  <tbody>\n",
       "    <tr>\n",
       "      <th>0</th>\n",
       "      <td>1</td>\n",
       "      <td>-8437.673028</td>\n",
       "      <td>42</td>\n",
       "      <td>высшее</td>\n",
       "      <td>0</td>\n",
       "      <td>женат / замужем</td>\n",
       "      <td>0</td>\n",
       "      <td>F</td>\n",
       "      <td>сотрудник</td>\n",
       "      <td>0</td>\n",
       "      <td>253875.639453</td>\n",
       "      <td>покупка жилья</td>\n",
       "    </tr>\n",
       "    <tr>\n",
       "      <th>1</th>\n",
       "      <td>1</td>\n",
       "      <td>-4024.803754</td>\n",
       "      <td>36</td>\n",
       "      <td>среднее</td>\n",
       "      <td>1</td>\n",
       "      <td>женат / замужем</td>\n",
       "      <td>0</td>\n",
       "      <td>F</td>\n",
       "      <td>сотрудник</td>\n",
       "      <td>0</td>\n",
       "      <td>112080.014102</td>\n",
       "      <td>приобретение автомобиля</td>\n",
       "    </tr>\n",
       "    <tr>\n",
       "      <th>2</th>\n",
       "      <td>0</td>\n",
       "      <td>-5623.422610</td>\n",
       "      <td>33</td>\n",
       "      <td>Среднее</td>\n",
       "      <td>1</td>\n",
       "      <td>женат / замужем</td>\n",
       "      <td>0</td>\n",
       "      <td>M</td>\n",
       "      <td>сотрудник</td>\n",
       "      <td>0</td>\n",
       "      <td>145885.952297</td>\n",
       "      <td>покупка жилья</td>\n",
       "    </tr>\n",
       "    <tr>\n",
       "      <th>3</th>\n",
       "      <td>3</td>\n",
       "      <td>-4124.747207</td>\n",
       "      <td>32</td>\n",
       "      <td>среднее</td>\n",
       "      <td>1</td>\n",
       "      <td>женат / замужем</td>\n",
       "      <td>0</td>\n",
       "      <td>M</td>\n",
       "      <td>сотрудник</td>\n",
       "      <td>0</td>\n",
       "      <td>267628.550329</td>\n",
       "      <td>дополнительное образование</td>\n",
       "    </tr>\n",
       "    <tr>\n",
       "      <th>4</th>\n",
       "      <td>0</td>\n",
       "      <td>340266.072047</td>\n",
       "      <td>53</td>\n",
       "      <td>среднее</td>\n",
       "      <td>1</td>\n",
       "      <td>гражданский брак</td>\n",
       "      <td>1</td>\n",
       "      <td>F</td>\n",
       "      <td>пенсионер</td>\n",
       "      <td>0</td>\n",
       "      <td>158616.077870</td>\n",
       "      <td>сыграть свадьбу</td>\n",
       "    </tr>\n",
       "    <tr>\n",
       "      <th>5</th>\n",
       "      <td>0</td>\n",
       "      <td>-926.185831</td>\n",
       "      <td>27</td>\n",
       "      <td>высшее</td>\n",
       "      <td>0</td>\n",
       "      <td>гражданский брак</td>\n",
       "      <td>1</td>\n",
       "      <td>M</td>\n",
       "      <td>компаньон</td>\n",
       "      <td>0</td>\n",
       "      <td>255763.565419</td>\n",
       "      <td>покупка жилья</td>\n",
       "    </tr>\n",
       "    <tr>\n",
       "      <th>6</th>\n",
       "      <td>0</td>\n",
       "      <td>-2879.202052</td>\n",
       "      <td>43</td>\n",
       "      <td>высшее</td>\n",
       "      <td>0</td>\n",
       "      <td>женат / замужем</td>\n",
       "      <td>0</td>\n",
       "      <td>F</td>\n",
       "      <td>компаньон</td>\n",
       "      <td>0</td>\n",
       "      <td>240525.971920</td>\n",
       "      <td>операции с жильем</td>\n",
       "    </tr>\n",
       "    <tr>\n",
       "      <th>7</th>\n",
       "      <td>0</td>\n",
       "      <td>-152.779569</td>\n",
       "      <td>50</td>\n",
       "      <td>СРЕДНЕЕ</td>\n",
       "      <td>1</td>\n",
       "      <td>женат / замужем</td>\n",
       "      <td>0</td>\n",
       "      <td>M</td>\n",
       "      <td>сотрудник</td>\n",
       "      <td>0</td>\n",
       "      <td>135823.934197</td>\n",
       "      <td>образование</td>\n",
       "    </tr>\n",
       "    <tr>\n",
       "      <th>8</th>\n",
       "      <td>2</td>\n",
       "      <td>-6929.865299</td>\n",
       "      <td>35</td>\n",
       "      <td>ВЫСШЕЕ</td>\n",
       "      <td>0</td>\n",
       "      <td>гражданский брак</td>\n",
       "      <td>1</td>\n",
       "      <td>F</td>\n",
       "      <td>сотрудник</td>\n",
       "      <td>0</td>\n",
       "      <td>95856.832424</td>\n",
       "      <td>на проведение свадьбы</td>\n",
       "    </tr>\n",
       "    <tr>\n",
       "      <th>9</th>\n",
       "      <td>0</td>\n",
       "      <td>-2188.756445</td>\n",
       "      <td>41</td>\n",
       "      <td>среднее</td>\n",
       "      <td>1</td>\n",
       "      <td>женат / замужем</td>\n",
       "      <td>0</td>\n",
       "      <td>M</td>\n",
       "      <td>сотрудник</td>\n",
       "      <td>0</td>\n",
       "      <td>144425.938277</td>\n",
       "      <td>покупка жилья для семьи</td>\n",
       "    </tr>\n",
       "    <tr>\n",
       "      <th>10</th>\n",
       "      <td>2</td>\n",
       "      <td>-4171.483647</td>\n",
       "      <td>36</td>\n",
       "      <td>высшее</td>\n",
       "      <td>0</td>\n",
       "      <td>женат / замужем</td>\n",
       "      <td>0</td>\n",
       "      <td>M</td>\n",
       "      <td>компаньон</td>\n",
       "      <td>0</td>\n",
       "      <td>113943.491460</td>\n",
       "      <td>покупка недвижимости</td>\n",
       "    </tr>\n",
       "    <tr>\n",
       "      <th>11</th>\n",
       "      <td>0</td>\n",
       "      <td>-792.701887</td>\n",
       "      <td>40</td>\n",
       "      <td>среднее</td>\n",
       "      <td>1</td>\n",
       "      <td>женат / замужем</td>\n",
       "      <td>0</td>\n",
       "      <td>F</td>\n",
       "      <td>сотрудник</td>\n",
       "      <td>0</td>\n",
       "      <td>77069.234271</td>\n",
       "      <td>покупка коммерческой недвижимости</td>\n",
       "    </tr>\n",
       "    <tr>\n",
       "      <th>12</th>\n",
       "      <td>0</td>\n",
       "      <td>NaN</td>\n",
       "      <td>65</td>\n",
       "      <td>среднее</td>\n",
       "      <td>1</td>\n",
       "      <td>гражданский брак</td>\n",
       "      <td>1</td>\n",
       "      <td>M</td>\n",
       "      <td>пенсионер</td>\n",
       "      <td>0</td>\n",
       "      <td>NaN</td>\n",
       "      <td>сыграть свадьбу</td>\n",
       "    </tr>\n",
       "    <tr>\n",
       "      <th>13</th>\n",
       "      <td>0</td>\n",
       "      <td>-1846.641941</td>\n",
       "      <td>54</td>\n",
       "      <td>неоконченное высшее</td>\n",
       "      <td>2</td>\n",
       "      <td>женат / замужем</td>\n",
       "      <td>0</td>\n",
       "      <td>F</td>\n",
       "      <td>сотрудник</td>\n",
       "      <td>0</td>\n",
       "      <td>130458.228857</td>\n",
       "      <td>приобретение автомобиля</td>\n",
       "    </tr>\n",
       "    <tr>\n",
       "      <th>14</th>\n",
       "      <td>0</td>\n",
       "      <td>-1844.956182</td>\n",
       "      <td>56</td>\n",
       "      <td>высшее</td>\n",
       "      <td>0</td>\n",
       "      <td>гражданский брак</td>\n",
       "      <td>1</td>\n",
       "      <td>F</td>\n",
       "      <td>компаньон</td>\n",
       "      <td>1</td>\n",
       "      <td>165127.911772</td>\n",
       "      <td>покупка жилой недвижимости</td>\n",
       "    </tr>\n",
       "    <tr>\n",
       "      <th>15</th>\n",
       "      <td>1</td>\n",
       "      <td>-972.364419</td>\n",
       "      <td>26</td>\n",
       "      <td>среднее</td>\n",
       "      <td>1</td>\n",
       "      <td>женат / замужем</td>\n",
       "      <td>0</td>\n",
       "      <td>F</td>\n",
       "      <td>сотрудник</td>\n",
       "      <td>0</td>\n",
       "      <td>116820.904450</td>\n",
       "      <td>строительство собственной недвижимости</td>\n",
       "    </tr>\n",
       "    <tr>\n",
       "      <th>16</th>\n",
       "      <td>0</td>\n",
       "      <td>-1719.934226</td>\n",
       "      <td>35</td>\n",
       "      <td>среднее</td>\n",
       "      <td>1</td>\n",
       "      <td>женат / замужем</td>\n",
       "      <td>0</td>\n",
       "      <td>F</td>\n",
       "      <td>сотрудник</td>\n",
       "      <td>0</td>\n",
       "      <td>289202.704229</td>\n",
       "      <td>недвижимость</td>\n",
       "    </tr>\n",
       "    <tr>\n",
       "      <th>17</th>\n",
       "      <td>0</td>\n",
       "      <td>-2369.999720</td>\n",
       "      <td>33</td>\n",
       "      <td>высшее</td>\n",
       "      <td>0</td>\n",
       "      <td>гражданский брак</td>\n",
       "      <td>1</td>\n",
       "      <td>M</td>\n",
       "      <td>сотрудник</td>\n",
       "      <td>0</td>\n",
       "      <td>90410.586745</td>\n",
       "      <td>строительство недвижимости</td>\n",
       "    </tr>\n",
       "    <tr>\n",
       "      <th>18</th>\n",
       "      <td>0</td>\n",
       "      <td>400281.136913</td>\n",
       "      <td>53</td>\n",
       "      <td>среднее</td>\n",
       "      <td>1</td>\n",
       "      <td>вдовец / вдова</td>\n",
       "      <td>2</td>\n",
       "      <td>F</td>\n",
       "      <td>пенсионер</td>\n",
       "      <td>0</td>\n",
       "      <td>56823.777243</td>\n",
       "      <td>на покупку подержанного автомобиля</td>\n",
       "    </tr>\n",
       "    <tr>\n",
       "      <th>19</th>\n",
       "      <td>0</td>\n",
       "      <td>-10038.818549</td>\n",
       "      <td>48</td>\n",
       "      <td>СРЕДНЕЕ</td>\n",
       "      <td>1</td>\n",
       "      <td>в разводе</td>\n",
       "      <td>3</td>\n",
       "      <td>F</td>\n",
       "      <td>сотрудник</td>\n",
       "      <td>0</td>\n",
       "      <td>242831.107982</td>\n",
       "      <td>на покупку своего автомобиля</td>\n",
       "    </tr>\n",
       "    <tr>\n",
       "      <th>20</th>\n",
       "      <td>1</td>\n",
       "      <td>-1311.604166</td>\n",
       "      <td>36</td>\n",
       "      <td>среднее</td>\n",
       "      <td>1</td>\n",
       "      <td>женат / замужем</td>\n",
       "      <td>0</td>\n",
       "      <td>M</td>\n",
       "      <td>сотрудник</td>\n",
       "      <td>0</td>\n",
       "      <td>209552.644578</td>\n",
       "      <td>недвижимость</td>\n",
       "    </tr>\n",
       "    <tr>\n",
       "      <th>21</th>\n",
       "      <td>1</td>\n",
       "      <td>-253.685166</td>\n",
       "      <td>33</td>\n",
       "      <td>среднее</td>\n",
       "      <td>1</td>\n",
       "      <td>гражданский брак</td>\n",
       "      <td>1</td>\n",
       "      <td>F</td>\n",
       "      <td>сотрудник</td>\n",
       "      <td>0</td>\n",
       "      <td>131812.203909</td>\n",
       "      <td>приобретение автомобиля</td>\n",
       "    </tr>\n",
       "    <tr>\n",
       "      <th>22</th>\n",
       "      <td>1</td>\n",
       "      <td>-1766.644138</td>\n",
       "      <td>24</td>\n",
       "      <td>среднее</td>\n",
       "      <td>1</td>\n",
       "      <td>гражданский брак</td>\n",
       "      <td>1</td>\n",
       "      <td>F</td>\n",
       "      <td>сотрудник</td>\n",
       "      <td>0</td>\n",
       "      <td>149681.140731</td>\n",
       "      <td>на покупку подержанного автомобиля</td>\n",
       "    </tr>\n",
       "    <tr>\n",
       "      <th>23</th>\n",
       "      <td>0</td>\n",
       "      <td>-272.981385</td>\n",
       "      <td>21</td>\n",
       "      <td>высшее</td>\n",
       "      <td>0</td>\n",
       "      <td>гражданский брак</td>\n",
       "      <td>1</td>\n",
       "      <td>M</td>\n",
       "      <td>сотрудник</td>\n",
       "      <td>0</td>\n",
       "      <td>128265.720871</td>\n",
       "      <td>сыграть свадьбу</td>\n",
       "    </tr>\n",
       "    <tr>\n",
       "      <th>24</th>\n",
       "      <td>1</td>\n",
       "      <td>338551.952911</td>\n",
       "      <td>57</td>\n",
       "      <td>среднее</td>\n",
       "      <td>1</td>\n",
       "      <td>Не женат / не замужем</td>\n",
       "      <td>4</td>\n",
       "      <td>F</td>\n",
       "      <td>пенсионер</td>\n",
       "      <td>0</td>\n",
       "      <td>290547.235997</td>\n",
       "      <td>операции с коммерческой недвижимостью</td>\n",
       "    </tr>\n",
       "    <tr>\n",
       "      <th>25</th>\n",
       "      <td>0</td>\n",
       "      <td>363548.489348</td>\n",
       "      <td>67</td>\n",
       "      <td>среднее</td>\n",
       "      <td>1</td>\n",
       "      <td>женат / замужем</td>\n",
       "      <td>0</td>\n",
       "      <td>M</td>\n",
       "      <td>пенсионер</td>\n",
       "      <td>0</td>\n",
       "      <td>55112.757732</td>\n",
       "      <td>покупка недвижимости</td>\n",
       "    </tr>\n",
       "    <tr>\n",
       "      <th>26</th>\n",
       "      <td>0</td>\n",
       "      <td>NaN</td>\n",
       "      <td>41</td>\n",
       "      <td>среднее</td>\n",
       "      <td>1</td>\n",
       "      <td>женат / замужем</td>\n",
       "      <td>0</td>\n",
       "      <td>M</td>\n",
       "      <td>госслужащий</td>\n",
       "      <td>0</td>\n",
       "      <td>NaN</td>\n",
       "      <td>образование</td>\n",
       "    </tr>\n",
       "    <tr>\n",
       "      <th>27</th>\n",
       "      <td>0</td>\n",
       "      <td>-529.191635</td>\n",
       "      <td>28</td>\n",
       "      <td>высшее</td>\n",
       "      <td>0</td>\n",
       "      <td>женат / замужем</td>\n",
       "      <td>0</td>\n",
       "      <td>M</td>\n",
       "      <td>сотрудник</td>\n",
       "      <td>0</td>\n",
       "      <td>308848.983691</td>\n",
       "      <td>строительство собственной недвижимости</td>\n",
       "    </tr>\n",
       "    <tr>\n",
       "      <th>28</th>\n",
       "      <td>1</td>\n",
       "      <td>-717.274324</td>\n",
       "      <td>26</td>\n",
       "      <td>высшее</td>\n",
       "      <td>0</td>\n",
       "      <td>женат / замужем</td>\n",
       "      <td>0</td>\n",
       "      <td>F</td>\n",
       "      <td>сотрудник</td>\n",
       "      <td>0</td>\n",
       "      <td>187863.237306</td>\n",
       "      <td>строительство собственной недвижимости</td>\n",
       "    </tr>\n",
       "    <tr>\n",
       "      <th>29</th>\n",
       "      <td>0</td>\n",
       "      <td>NaN</td>\n",
       "      <td>63</td>\n",
       "      <td>среднее</td>\n",
       "      <td>1</td>\n",
       "      <td>Не женат / не замужем</td>\n",
       "      <td>4</td>\n",
       "      <td>F</td>\n",
       "      <td>пенсионер</td>\n",
       "      <td>0</td>\n",
       "      <td>NaN</td>\n",
       "      <td>строительство жилой недвижимости</td>\n",
       "    </tr>\n",
       "  </tbody>\n",
       "</table>\n",
       "</div>"
      ],
      "text/plain": [
       "    children  days_employed  dob_years            education  education_id  \\\n",
       "0          1   -8437.673028         42               высшее             0   \n",
       "1          1   -4024.803754         36              среднее             1   \n",
       "2          0   -5623.422610         33              Среднее             1   \n",
       "3          3   -4124.747207         32              среднее             1   \n",
       "4          0  340266.072047         53              среднее             1   \n",
       "5          0    -926.185831         27               высшее             0   \n",
       "6          0   -2879.202052         43               высшее             0   \n",
       "7          0    -152.779569         50              СРЕДНЕЕ             1   \n",
       "8          2   -6929.865299         35               ВЫСШЕЕ             0   \n",
       "9          0   -2188.756445         41              среднее             1   \n",
       "10         2   -4171.483647         36               высшее             0   \n",
       "11         0    -792.701887         40              среднее             1   \n",
       "12         0            NaN         65              среднее             1   \n",
       "13         0   -1846.641941         54  неоконченное высшее             2   \n",
       "14         0   -1844.956182         56               высшее             0   \n",
       "15         1    -972.364419         26              среднее             1   \n",
       "16         0   -1719.934226         35              среднее             1   \n",
       "17         0   -2369.999720         33               высшее             0   \n",
       "18         0  400281.136913         53              среднее             1   \n",
       "19         0  -10038.818549         48              СРЕДНЕЕ             1   \n",
       "20         1   -1311.604166         36              среднее             1   \n",
       "21         1    -253.685166         33              среднее             1   \n",
       "22         1   -1766.644138         24              среднее             1   \n",
       "23         0    -272.981385         21               высшее             0   \n",
       "24         1  338551.952911         57              среднее             1   \n",
       "25         0  363548.489348         67              среднее             1   \n",
       "26         0            NaN         41              среднее             1   \n",
       "27         0    -529.191635         28               высшее             0   \n",
       "28         1    -717.274324         26               высшее             0   \n",
       "29         0            NaN         63              среднее             1   \n",
       "\n",
       "            family_status  family_status_id gender  income_type  debt  \\\n",
       "0         женат / замужем                 0      F    сотрудник     0   \n",
       "1         женат / замужем                 0      F    сотрудник     0   \n",
       "2         женат / замужем                 0      M    сотрудник     0   \n",
       "3         женат / замужем                 0      M    сотрудник     0   \n",
       "4        гражданский брак                 1      F    пенсионер     0   \n",
       "5        гражданский брак                 1      M    компаньон     0   \n",
       "6         женат / замужем                 0      F    компаньон     0   \n",
       "7         женат / замужем                 0      M    сотрудник     0   \n",
       "8        гражданский брак                 1      F    сотрудник     0   \n",
       "9         женат / замужем                 0      M    сотрудник     0   \n",
       "10        женат / замужем                 0      M    компаньон     0   \n",
       "11        женат / замужем                 0      F    сотрудник     0   \n",
       "12       гражданский брак                 1      M    пенсионер     0   \n",
       "13        женат / замужем                 0      F    сотрудник     0   \n",
       "14       гражданский брак                 1      F    компаньон     1   \n",
       "15        женат / замужем                 0      F    сотрудник     0   \n",
       "16        женат / замужем                 0      F    сотрудник     0   \n",
       "17       гражданский брак                 1      M    сотрудник     0   \n",
       "18         вдовец / вдова                 2      F    пенсионер     0   \n",
       "19              в разводе                 3      F    сотрудник     0   \n",
       "20        женат / замужем                 0      M    сотрудник     0   \n",
       "21       гражданский брак                 1      F    сотрудник     0   \n",
       "22       гражданский брак                 1      F    сотрудник     0   \n",
       "23       гражданский брак                 1      M    сотрудник     0   \n",
       "24  Не женат / не замужем                 4      F    пенсионер     0   \n",
       "25        женат / замужем                 0      M    пенсионер     0   \n",
       "26        женат / замужем                 0      M  госслужащий     0   \n",
       "27        женат / замужем                 0      M    сотрудник     0   \n",
       "28        женат / замужем                 0      F    сотрудник     0   \n",
       "29  Не женат / не замужем                 4      F    пенсионер     0   \n",
       "\n",
       "     total_income                                 purpose  \n",
       "0   253875.639453                           покупка жилья  \n",
       "1   112080.014102                 приобретение автомобиля  \n",
       "2   145885.952297                           покупка жилья  \n",
       "3   267628.550329              дополнительное образование  \n",
       "4   158616.077870                         сыграть свадьбу  \n",
       "5   255763.565419                           покупка жилья  \n",
       "6   240525.971920                       операции с жильем  \n",
       "7   135823.934197                             образование  \n",
       "8    95856.832424                   на проведение свадьбы  \n",
       "9   144425.938277                 покупка жилья для семьи  \n",
       "10  113943.491460                    покупка недвижимости  \n",
       "11   77069.234271       покупка коммерческой недвижимости  \n",
       "12            NaN                         сыграть свадьбу  \n",
       "13  130458.228857                 приобретение автомобиля  \n",
       "14  165127.911772              покупка жилой недвижимости  \n",
       "15  116820.904450  строительство собственной недвижимости  \n",
       "16  289202.704229                            недвижимость  \n",
       "17   90410.586745              строительство недвижимости  \n",
       "18   56823.777243      на покупку подержанного автомобиля  \n",
       "19  242831.107982            на покупку своего автомобиля  \n",
       "20  209552.644578                            недвижимость  \n",
       "21  131812.203909                 приобретение автомобиля  \n",
       "22  149681.140731      на покупку подержанного автомобиля  \n",
       "23  128265.720871                         сыграть свадьбу  \n",
       "24  290547.235997   операции с коммерческой недвижимостью  \n",
       "25   55112.757732                    покупка недвижимости  \n",
       "26            NaN                             образование  \n",
       "27  308848.983691  строительство собственной недвижимости  \n",
       "28  187863.237306  строительство собственной недвижимости  \n",
       "29            NaN        строительство жилой недвижимости  "
      ]
     },
     "metadata": {},
     "output_type": "display_data"
    }
   ],
   "source": [
    "display(data.head(30))"
   ]
  },
  {
   "cell_type": "code",
   "execution_count": 3,
   "id": "aa5d9f9c",
   "metadata": {
    "scrolled": true
   },
   "outputs": [
    {
     "name": "stdout",
     "output_type": "stream",
     "text": [
      "Доля  пропущенные значений days_employed 11%\n",
      "Доля  пропущенные значений total_income 11%\n",
      "\n",
      "Медианное значение days_employed -1203.369528770489\n",
      "\n",
      "\n",
      "сотрудник          11119\n",
      "компаньон           5085\n",
      "пенсионер           3856\n",
      "госслужащий         1459\n",
      "предприниматель        2\n",
      "безработный            2\n",
      "студент                1\n",
      "в декрете              1\n",
      "Name: income_type, dtype: int64\n",
      "\n",
      "income_type\n",
      "безработный        131339.751676\n",
      "в декрете           53829.130729\n",
      "госслужащий        150447.935283\n",
      "компаньон          172357.950966\n",
      "пенсионер          118514.486412\n",
      "предприниматель    499163.144947\n",
      "сотрудник          142594.396847\n",
      "студент             98201.625314\n",
      "Name: total_income, dtype: float64\n",
      "\n",
      "children            0\n",
      "days_employed       0\n",
      "dob_years           0\n",
      "education           0\n",
      "education_id        0\n",
      "family_status       0\n",
      "family_status_id    0\n",
      "gender              0\n",
      "income_type         0\n",
      "debt                0\n",
      "total_income        0\n",
      "purpose             0\n",
      "dtype: int64\n"
     ]
    }
   ],
   "source": [
    "#При просмотре были обнаружены пропущенные данные типа NaN.\n",
    "#Вычисляем долю пропущенных значений в колонках days_employed и total_income, \n",
    "#количество строк берем из общих данных таблицы\n",
    "print('Доля  пропущенные значений days_employed {:.0%}'.format(data['days_employed'].isna().sum()/19351))\n",
    "print('Доля  пропущенные значений total_income {:.0%}'.format(data['total_income'].isna().sum()/19351))\n",
    "print()\n",
    "\n",
    "#Вычисляем медианну для колонки days_employed \n",
    "median_days_employed=data['days_employed'].median()\n",
    "print('Медианное значение days_employed', median_days_employed)\n",
    "print()\n",
    "#Заменяем пропущенные значения в колонке days_employed методом fillna()\n",
    "data['days_employed']=data['days_employed'].fillna(median_days_employed)\n",
    "print()\n",
    "#Посмотрим какие есть уникальные зачения и их количество в столбике income_type\n",
    "print(data['income_type'].value_counts()) \n",
    "print()\n",
    "#Найдем медианные уровни дохода для каждого типа занятости\n",
    "medians_total_income=data.groupby('income_type')['total_income'].median()\n",
    "print(medians_total_income)\n",
    "print()\n",
    "#Заменим пропущенные значения ежемесячного дохода на медианы по типам занятости.\n",
    "data.loc[(data['total_income'].isnull()) & (data['income_type'] == 'сотрудник'), 'total_income'] = medians_total_income[6]\n",
    "data.loc[(data['total_income'].isnull()) & (data['income_type'] == 'компаньон'), 'total_income'] = medians_total_income[3]\n",
    "data.loc[(data['total_income'].isnull()) & (data['income_type'] == 'пенсионер'), 'total_income'] = medians_total_income[4]\n",
    "data.loc[(data['total_income'].isnull()) & (data['income_type'] == 'госслужащий'), 'total_income'] = medians_total_income[2]\n",
    "data.loc[(data['total_income'].isnull()) & (data['income_type'] == 'предприниматель'), 'total_income'] = medians_total_income[5]\n",
    "#В типах занятости студент,  декрет и безработные нет пропущенных значений, мы их не трогаем  \n",
    "    \n",
    "#Проверяем наличие пропущеных значений в таблице\n",
    "print(data.isna().sum())\n",
    "\n",
    "\n"
   ]
  },
  {
   "cell_type": "markdown",
   "id": "15b2f787",
   "metadata": {},
   "source": [
    "Появление этих ошибок связано как с людьми, не правильно были записаны данные, так и не правильно при копировании были сохранены данные.\n",
    "Получение медианного значения лучше, потому что дает более объективную информацию, чем среднее значение, (в колонке присутствуют отрицательные числа, и при подсчете медианы не имеет значение какого знака были данные)."
   ]
  },
  {
   "cell_type": "markdown",
   "id": "944ed382",
   "metadata": {},
   "source": [
    "### Шаг 2.2 Проверка данных на аномалии и исправления."
   ]
  },
  {
   "cell_type": "code",
   "execution_count": 4,
   "id": "f8c4a3b4",
   "metadata": {
    "scrolled": true
   },
   "outputs": [
    {
     "name": "stdout",
     "output_type": "stream",
     "text": [
      " 0     14149\n",
      " 1      4818\n",
      " 2      2055\n",
      " 3       330\n",
      " 20       76\n",
      "-1        47\n",
      " 4        41\n",
      " 5         9\n",
      "Name: children, dtype: int64\n",
      "\n",
      "0    14149\n",
      "1     4865\n",
      "2     2131\n",
      "3      330\n",
      "4       41\n",
      "5        9\n",
      "Name: children, dtype: int64\n",
      "\n",
      "-1203.369529      2175\n",
      "-327.685916          1\n",
      "-4399.664923         1\n",
      "-4122.460569         1\n",
      "-2828.237691         1\n",
      "                  ... \n",
      "-2146.884040         1\n",
      "-881.454684          1\n",
      "-794.666350          1\n",
      " 372337.985304       1\n",
      "-3382.113891         1\n",
      "Name: days_employed, Length: 19351, dtype: int64\n",
      "\n",
      "1203.369529      2175\n",
      "142.276217          1\n",
      "329951.594147       1\n",
      "886.253127          1\n",
      "2539.534295         1\n",
      "                 ... \n",
      "1394.302246         1\n",
      "2325.720832         1\n",
      "4086.407828         1\n",
      "1259.497032         1\n",
      "1636.419775         1\n",
      "Name: days_employed, Length: 19351, dtype: int64\n"
     ]
    }
   ],
   "source": [
    "#Находим аномалии в колонке children\n",
    "print(data['children'].value_counts())\n",
    "print()\n",
    "#С помощью функции replace() заменяем данные \n",
    "data['children']=data['children'].replace(-1, 1)\n",
    "data['children']=data['children'].replace(20, 2)\n",
    "#Проверяем изменения\n",
    "print(data['children'].value_counts())\n",
    "print()\n",
    "\n",
    "#Находим аномалии в колонке days_employed\n",
    "print(data['days_employed'].value_counts())\n",
    "#Заменяем отрицательные значения на положительные методом abs(), т.к. трудовой стаж не может иметь отрицательное значение\n",
    "data['days_employed']=data['days_employed'].abs()\n",
    "print()\n",
    "\n",
    "#Проверяем наши изменения\n",
    "print(data['days_employed'].value_counts())\n",
    "\n",
    "\n",
    "#Проверка  в остальных колонках показала очень не значительные ошибки, ими можно пренебречь.\n",
    "\n",
    "\n",
    "\n",
    "\n",
    "\n"
   ]
  },
  {
   "cell_type": "markdown",
   "id": "64cafef7",
   "metadata": {},
   "source": [
    "### Шаг 2.3. Изменение типов данных."
   ]
  },
  {
   "cell_type": "code",
   "execution_count": 5,
   "id": "eb8478ae",
   "metadata": {},
   "outputs": [
    {
     "name": "stdout",
     "output_type": "stream",
     "text": [
      "0    253875\n",
      "1    112080\n",
      "2    145885\n",
      "3    267628\n",
      "4    158616\n",
      "5    255763\n",
      "6    240525\n",
      "7    135823\n",
      "8     95856\n",
      "9    144425\n",
      "Name: total_income, dtype: int64\n"
     ]
    }
   ],
   "source": [
    "#Заменяем вещественный тип даных на целочисленный в колонке total_income \n",
    "\n",
    "data['total_income']=data['total_income'].astype('int')\n",
    "print(data['total_income'].head(10))"
   ]
  },
  {
   "cell_type": "markdown",
   "id": "cb9a7be1",
   "metadata": {},
   "source": [
    "### Шаг 2.4. Удаление дубликатов."
   ]
  },
  {
   "cell_type": "code",
   "execution_count": 6,
   "id": "6826abb8",
   "metadata": {},
   "outputs": [
    {
     "name": "stdout",
     "output_type": "stream",
     "text": [
      "54\n"
     ]
    }
   ],
   "source": [
    "#Проверяем наличие дубликатов в таблице\n",
    "print(data.duplicated().sum())\n",
    "\n",
    "\n",
    "\n",
    "\n"
   ]
  },
  {
   "cell_type": "code",
   "execution_count": 7,
   "id": "02fc7ae1",
   "metadata": {},
   "outputs": [
    {
     "name": "stdout",
     "output_type": "stream",
     "text": [
      "0\n"
     ]
    }
   ],
   "source": [
    "#Проверяем наши  изменения\n",
    "data=data.drop_duplicates().reset_index(drop=True)\n",
    "print(data.duplicated().sum())\n"
   ]
  },
  {
   "cell_type": "markdown",
   "id": "6551ac49",
   "metadata": {},
   "source": [
    "Для поиска дубликатов использовали метод duplicated(), удаляли дубликаты \n",
    "при помощи метода drop_duplicates()"
   ]
  },
  {
   "cell_type": "code",
   "execution_count": 8,
   "id": "4d9a1c9f",
   "metadata": {},
   "outputs": [
    {
     "name": "stdout",
     "output_type": "stream",
     "text": [
      "0                  высшее\n",
      "1                 среднее\n",
      "2                 среднее\n",
      "3                 среднее\n",
      "4                 среднее\n",
      "5                  высшее\n",
      "6                  высшее\n",
      "7                 среднее\n",
      "8                  высшее\n",
      "9                 среднее\n",
      "10                 высшее\n",
      "11                среднее\n",
      "12                среднее\n",
      "13    неоконченное высшее\n",
      "14                 высшее\n",
      "15                среднее\n",
      "16                среднее\n",
      "17                 высшее\n",
      "18                среднее\n",
      "19                среднее\n",
      "20                среднее\n",
      "21                среднее\n",
      "22                среднее\n",
      "23                 высшее\n",
      "24                среднее\n",
      "25                среднее\n",
      "26                среднее\n",
      "27                 высшее\n",
      "28                 высшее\n",
      "29                среднее\n",
      "Name: education, dtype: object\n"
     ]
    }
   ],
   "source": [
    "#Для изменения регистра используем метод str.lower()\n",
    "data['education']=data['education'].str.lower()\n",
    "print(data['education'].head(30))"
   ]
  },
  {
   "cell_type": "markdown",
   "id": "b5f2087c",
   "metadata": {},
   "source": [
    "### Шаг 2.5. Формирование дополнительных датафреймов словарей, декомпозиция исходного датафрейма."
   ]
  },
  {
   "cell_type": "code",
   "execution_count": 9,
   "id": "f179feda",
   "metadata": {
    "scrolled": true
   },
   "outputs": [
    {
     "data": {
      "text/plain": [
       "0         женат / замужем\n",
       "1         женат / замужем\n",
       "2         женат / замужем\n",
       "3         женат / замужем\n",
       "4        гражданский брак\n",
       "               ...       \n",
       "21466    гражданский брак\n",
       "21467     женат / замужем\n",
       "21468    гражданский брак\n",
       "21469     женат / замужем\n",
       "21470     женат / замужем\n",
       "Name: family_status, Length: 21471, dtype: object"
      ]
     },
     "execution_count": 9,
     "metadata": {},
     "output_type": "execute_result"
    }
   ],
   "source": [
    "#Создаем новые талицы\n",
    "data_education=data[['education_id','education']]\n",
    "data_family_status=data[['family_status_id', 'family_status']]\n",
    "#Удаляем колонки education и family_status методом рор()\n",
    "data.pop('education')\n",
    "data.pop('family_status')\n",
    "\n",
    "\n",
    "\n",
    "\n",
    "\n"
   ]
  },
  {
   "cell_type": "markdown",
   "id": "8e2c077f",
   "metadata": {},
   "source": [
    "### Шаг 2.6. Категоризация дохода."
   ]
  },
  {
   "cell_type": "markdown",
   "id": "1856e975",
   "metadata": {},
   "source": [
    "Создаем колонку total_income_category, применяя метод apply()"
   ]
  },
  {
   "cell_type": "code",
   "execution_count": 10,
   "id": "bc6c431d",
   "metadata": {},
   "outputs": [
    {
     "name": "stdout",
     "output_type": "stream",
     "text": [
      "C    16032\n",
      "B     5042\n",
      "D      350\n",
      "A       25\n",
      "E       22\n",
      "Name: total_income_category, dtype: int64\n"
     ]
    }
   ],
   "source": [
    "def total_income_category (total_income):\n",
    "    if total_income<=30000:\n",
    "        return 'E'\n",
    "    if 30001<=total_income<=50000:\n",
    "        return 'D'\n",
    "    if 50001<=total_income<=200000:\n",
    "        return 'C'\n",
    "    if 200001<=total_income<=1000000:\n",
    "        return 'B'\n",
    "    return 'A'\n",
    "\n",
    "data['total_income_category']=data['total_income'].apply(total_income_category)\n",
    "print(data['total_income_category'].value_counts())"
   ]
  },
  {
   "cell_type": "markdown",
   "id": "37972438",
   "metadata": {},
   "source": [
    "### Шаг 2.7. Категоризация целей кредита."
   ]
  },
  {
   "cell_type": "markdown",
   "id": "93b86333",
   "metadata": {},
   "source": [
    "Создаем функцию total_income_category (), используя метод apply()"
   ]
  },
  {
   "cell_type": "code",
   "execution_count": 11,
   "id": "b94a4076",
   "metadata": {},
   "outputs": [
    {
     "data": {
      "text/html": [
       "<div>\n",
       "<style scoped>\n",
       "    .dataframe tbody tr th:only-of-type {\n",
       "        vertical-align: middle;\n",
       "    }\n",
       "\n",
       "    .dataframe tbody tr th {\n",
       "        vertical-align: top;\n",
       "    }\n",
       "\n",
       "    .dataframe thead th {\n",
       "        text-align: right;\n",
       "    }\n",
       "</style>\n",
       "<table border=\"1\" class=\"dataframe\">\n",
       "  <thead>\n",
       "    <tr style=\"text-align: right;\">\n",
       "      <th></th>\n",
       "      <th>children</th>\n",
       "      <th>days_employed</th>\n",
       "      <th>dob_years</th>\n",
       "      <th>education_id</th>\n",
       "      <th>family_status_id</th>\n",
       "      <th>gender</th>\n",
       "      <th>income_type</th>\n",
       "      <th>debt</th>\n",
       "      <th>total_income</th>\n",
       "      <th>purpose</th>\n",
       "      <th>total_income_category</th>\n",
       "      <th>purpose_category</th>\n",
       "    </tr>\n",
       "  </thead>\n",
       "  <tbody>\n",
       "    <tr>\n",
       "      <th>0</th>\n",
       "      <td>1</td>\n",
       "      <td>8437.673028</td>\n",
       "      <td>42</td>\n",
       "      <td>0</td>\n",
       "      <td>0</td>\n",
       "      <td>F</td>\n",
       "      <td>сотрудник</td>\n",
       "      <td>0</td>\n",
       "      <td>253875</td>\n",
       "      <td>покупка жилья</td>\n",
       "      <td>B</td>\n",
       "      <td>операции с недвижимостью</td>\n",
       "    </tr>\n",
       "    <tr>\n",
       "      <th>1</th>\n",
       "      <td>1</td>\n",
       "      <td>4024.803754</td>\n",
       "      <td>36</td>\n",
       "      <td>1</td>\n",
       "      <td>0</td>\n",
       "      <td>F</td>\n",
       "      <td>сотрудник</td>\n",
       "      <td>0</td>\n",
       "      <td>112080</td>\n",
       "      <td>приобретение автомобиля</td>\n",
       "      <td>C</td>\n",
       "      <td>операции с автомобилем</td>\n",
       "    </tr>\n",
       "    <tr>\n",
       "      <th>2</th>\n",
       "      <td>0</td>\n",
       "      <td>5623.422610</td>\n",
       "      <td>33</td>\n",
       "      <td>1</td>\n",
       "      <td>0</td>\n",
       "      <td>M</td>\n",
       "      <td>сотрудник</td>\n",
       "      <td>0</td>\n",
       "      <td>145885</td>\n",
       "      <td>покупка жилья</td>\n",
       "      <td>C</td>\n",
       "      <td>операции с недвижимостью</td>\n",
       "    </tr>\n",
       "    <tr>\n",
       "      <th>3</th>\n",
       "      <td>3</td>\n",
       "      <td>4124.747207</td>\n",
       "      <td>32</td>\n",
       "      <td>1</td>\n",
       "      <td>0</td>\n",
       "      <td>M</td>\n",
       "      <td>сотрудник</td>\n",
       "      <td>0</td>\n",
       "      <td>267628</td>\n",
       "      <td>дополнительное образование</td>\n",
       "      <td>B</td>\n",
       "      <td>получение образования</td>\n",
       "    </tr>\n",
       "    <tr>\n",
       "      <th>4</th>\n",
       "      <td>0</td>\n",
       "      <td>340266.072047</td>\n",
       "      <td>53</td>\n",
       "      <td>1</td>\n",
       "      <td>1</td>\n",
       "      <td>F</td>\n",
       "      <td>пенсионер</td>\n",
       "      <td>0</td>\n",
       "      <td>158616</td>\n",
       "      <td>сыграть свадьбу</td>\n",
       "      <td>C</td>\n",
       "      <td>проведение свадьбы</td>\n",
       "    </tr>\n",
       "  </tbody>\n",
       "</table>\n",
       "</div>"
      ],
      "text/plain": [
       "   children  days_employed  dob_years  education_id  family_status_id gender  \\\n",
       "0         1    8437.673028         42             0                 0      F   \n",
       "1         1    4024.803754         36             1                 0      F   \n",
       "2         0    5623.422610         33             1                 0      M   \n",
       "3         3    4124.747207         32             1                 0      M   \n",
       "4         0  340266.072047         53             1                 1      F   \n",
       "\n",
       "  income_type  debt  total_income                     purpose  \\\n",
       "0   сотрудник     0        253875               покупка жилья   \n",
       "1   сотрудник     0        112080     приобретение автомобиля   \n",
       "2   сотрудник     0        145885               покупка жилья   \n",
       "3   сотрудник     0        267628  дополнительное образование   \n",
       "4   пенсионер     0        158616             сыграть свадьбу   \n",
       "\n",
       "  total_income_category          purpose_category  \n",
       "0                     B  операции с недвижимостью  \n",
       "1                     C    операции с автомобилем  \n",
       "2                     C  операции с недвижимостью  \n",
       "3                     B     получение образования  \n",
       "4                     C        проведение свадьбы  "
      ]
     },
     "metadata": {},
     "output_type": "display_data"
    }
   ],
   "source": [
    "def purpose_category (purpose):\n",
    "    if 'автомобил' in purpose:                                                                  \n",
    "        return 'операции с автомобилем'\n",
    "    if 'образовани' in purpose:\n",
    "        return 'получение образования'\n",
    "    if 'свадьб' in purpose:\n",
    "        return 'проведение свадьбы'\n",
    "    return 'операции с недвижимостью'\n",
    "\n",
    "data['purpose_category']=data['purpose'].apply(purpose_category)\n",
    "#Проверяем результаты нашей деятельности, вызываем дисплей, потому что он более удобно показывает информацию:\n",
    "display(data.head())"
   ]
  },
  {
   "cell_type": "markdown",
   "id": "d0b3d8f8",
   "metadata": {},
   "source": [
    "### Ответы на вопросы."
   ]
  },
  {
   "cell_type": "markdown",
   "id": "b890f36e",
   "metadata": {},
   "source": [
    "##### Вопрос 1:Есть ли зависимость между количеством детей и возвратом кредита в срок?"
   ]
  },
  {
   "cell_type": "code",
   "execution_count": 12,
   "id": "cb125224",
   "metadata": {},
   "outputs": [
    {
     "data": {
      "text/html": [
       "<div>\n",
       "<style scoped>\n",
       "    .dataframe tbody tr th:only-of-type {\n",
       "        vertical-align: middle;\n",
       "    }\n",
       "\n",
       "    .dataframe tbody tr th {\n",
       "        vertical-align: top;\n",
       "    }\n",
       "\n",
       "    .dataframe thead th {\n",
       "        text-align: right;\n",
       "    }\n",
       "</style>\n",
       "<table border=\"1\" class=\"dataframe\">\n",
       "  <thead>\n",
       "    <tr style=\"text-align: right;\">\n",
       "      <th>debt</th>\n",
       "      <th>0</th>\n",
       "      <th>1</th>\n",
       "      <th>ratio</th>\n",
       "    </tr>\n",
       "    <tr>\n",
       "      <th>children</th>\n",
       "      <th></th>\n",
       "      <th></th>\n",
       "      <th></th>\n",
       "    </tr>\n",
       "  </thead>\n",
       "  <tbody>\n",
       "    <tr>\n",
       "      <th>4</th>\n",
       "      <td>37.0</td>\n",
       "      <td>4.0</td>\n",
       "      <td>9.756098</td>\n",
       "    </tr>\n",
       "    <tr>\n",
       "      <th>2</th>\n",
       "      <td>1926.0</td>\n",
       "      <td>202.0</td>\n",
       "      <td>9.492481</td>\n",
       "    </tr>\n",
       "    <tr>\n",
       "      <th>1</th>\n",
       "      <td>4411.0</td>\n",
       "      <td>445.0</td>\n",
       "      <td>9.163921</td>\n",
       "    </tr>\n",
       "    <tr>\n",
       "      <th>3</th>\n",
       "      <td>303.0</td>\n",
       "      <td>27.0</td>\n",
       "      <td>8.181818</td>\n",
       "    </tr>\n",
       "    <tr>\n",
       "      <th>0</th>\n",
       "      <td>13044.0</td>\n",
       "      <td>1063.0</td>\n",
       "      <td>7.535266</td>\n",
       "    </tr>\n",
       "    <tr>\n",
       "      <th>5</th>\n",
       "      <td>9.0</td>\n",
       "      <td>NaN</td>\n",
       "      <td>NaN</td>\n",
       "    </tr>\n",
       "  </tbody>\n",
       "</table>\n",
       "</div>"
      ],
      "text/plain": [
       "debt            0       1     ratio\n",
       "children                           \n",
       "4            37.0     4.0  9.756098\n",
       "2          1926.0   202.0  9.492481\n",
       "1          4411.0   445.0  9.163921\n",
       "3           303.0    27.0  8.181818\n",
       "0         13044.0  1063.0  7.535266\n",
       "5             9.0     NaN       NaN"
      ]
     },
     "metadata": {},
     "output_type": "display_data"
    }
   ],
   "source": [
    "#Создаем сводную таблицу по данным колонок purpose_category и debt \n",
    "credit_children=data.pivot_table(index='children', columns='debt', values='dob_years',  aggfunc='count')\n",
    "#Добавляем новую колонку в сводной таблице, где посчитываем процент невозврата в срок\n",
    "credit_children['ratio']=credit_children[1]/(credit_children[0]+credit_children[1])*100\n",
    "display(credit_children.sort_values(by='ratio', ascending=False))"
   ]
  },
  {
   "cell_type": "code",
   "execution_count": 13,
   "id": "243c3ec7",
   "metadata": {},
   "outputs": [
    {
     "data": {
      "text/html": [
       "<div>\n",
       "<style scoped>\n",
       "    .dataframe tbody tr th:only-of-type {\n",
       "        vertical-align: middle;\n",
       "    }\n",
       "\n",
       "    .dataframe tbody tr th {\n",
       "        vertical-align: top;\n",
       "    }\n",
       "\n",
       "    .dataframe thead th {\n",
       "        text-align: right;\n",
       "    }\n",
       "</style>\n",
       "<table border=\"1\" class=\"dataframe\">\n",
       "  <thead>\n",
       "    <tr style=\"text-align: right;\">\n",
       "      <th></th>\n",
       "      <th>count</th>\n",
       "      <th>sum</th>\n",
       "      <th>mean</th>\n",
       "    </tr>\n",
       "    <tr>\n",
       "      <th>children</th>\n",
       "      <th></th>\n",
       "      <th></th>\n",
       "      <th></th>\n",
       "    </tr>\n",
       "  </thead>\n",
       "  <tbody>\n",
       "    <tr>\n",
       "      <th>0</th>\n",
       "      <td>14107</td>\n",
       "      <td>1063</td>\n",
       "      <td>0.075353</td>\n",
       "    </tr>\n",
       "    <tr>\n",
       "      <th>1</th>\n",
       "      <td>4856</td>\n",
       "      <td>445</td>\n",
       "      <td>0.091639</td>\n",
       "    </tr>\n",
       "    <tr>\n",
       "      <th>2</th>\n",
       "      <td>2128</td>\n",
       "      <td>202</td>\n",
       "      <td>0.094925</td>\n",
       "    </tr>\n",
       "    <tr>\n",
       "      <th>3</th>\n",
       "      <td>330</td>\n",
       "      <td>27</td>\n",
       "      <td>0.081818</td>\n",
       "    </tr>\n",
       "    <tr>\n",
       "      <th>4</th>\n",
       "      <td>41</td>\n",
       "      <td>4</td>\n",
       "      <td>0.097561</td>\n",
       "    </tr>\n",
       "    <tr>\n",
       "      <th>5</th>\n",
       "      <td>9</td>\n",
       "      <td>0</td>\n",
       "      <td>0.000000</td>\n",
       "    </tr>\n",
       "  </tbody>\n",
       "</table>\n",
       "</div>"
      ],
      "text/plain": [
       "          count   sum      mean\n",
       "children                       \n",
       "0         14107  1063  0.075353\n",
       "1          4856   445  0.091639\n",
       "2          2128   202  0.094925\n",
       "3           330    27  0.081818\n",
       "4            41     4  0.097561\n",
       "5             9     0  0.000000"
      ]
     },
     "execution_count": 13,
     "metadata": {},
     "output_type": "execute_result"
    }
   ],
   "source": [
    "# КОД РЕВЬЮЕРА\n",
    "\n",
    "data.groupby('children')['debt'].agg(['count','sum','mean'])"
   ]
  },
  {
   "cell_type": "code",
   "execution_count": 14,
   "id": "5c1c6e96",
   "metadata": {},
   "outputs": [
    {
     "data": {
      "text/html": [
       "<div>\n",
       "<style scoped>\n",
       "    .dataframe tbody tr th:only-of-type {\n",
       "        vertical-align: middle;\n",
       "    }\n",
       "\n",
       "    .dataframe tbody tr th {\n",
       "        vertical-align: top;\n",
       "    }\n",
       "\n",
       "    .dataframe thead th {\n",
       "        text-align: right;\n",
       "    }\n",
       "</style>\n",
       "<table border=\"1\" class=\"dataframe\">\n",
       "  <thead>\n",
       "    <tr style=\"text-align: right;\">\n",
       "      <th></th>\n",
       "      <th>count</th>\n",
       "      <th>sum</th>\n",
       "      <th>my_mean</th>\n",
       "    </tr>\n",
       "    <tr>\n",
       "      <th>children</th>\n",
       "      <th></th>\n",
       "      <th></th>\n",
       "      <th></th>\n",
       "    </tr>\n",
       "  </thead>\n",
       "  <tbody>\n",
       "    <tr>\n",
       "      <th>0</th>\n",
       "      <td>14107</td>\n",
       "      <td>1063</td>\n",
       "      <td>7.535266</td>\n",
       "    </tr>\n",
       "    <tr>\n",
       "      <th>1</th>\n",
       "      <td>4856</td>\n",
       "      <td>445</td>\n",
       "      <td>9.163921</td>\n",
       "    </tr>\n",
       "    <tr>\n",
       "      <th>2</th>\n",
       "      <td>2128</td>\n",
       "      <td>202</td>\n",
       "      <td>9.492481</td>\n",
       "    </tr>\n",
       "    <tr>\n",
       "      <th>3</th>\n",
       "      <td>330</td>\n",
       "      <td>27</td>\n",
       "      <td>8.181818</td>\n",
       "    </tr>\n",
       "    <tr>\n",
       "      <th>4</th>\n",
       "      <td>41</td>\n",
       "      <td>4</td>\n",
       "      <td>9.756098</td>\n",
       "    </tr>\n",
       "    <tr>\n",
       "      <th>5</th>\n",
       "      <td>9</td>\n",
       "      <td>0</td>\n",
       "      <td>0.000000</td>\n",
       "    </tr>\n",
       "  </tbody>\n",
       "</table>\n",
       "</div>"
      ],
      "text/plain": [
       "          count   sum   my_mean\n",
       "children                       \n",
       "0         14107  1063  7.535266\n",
       "1          4856   445  9.163921\n",
       "2          2128   202  9.492481\n",
       "3           330    27  8.181818\n",
       "4            41     4  9.756098\n",
       "5             9     0  0.000000"
      ]
     },
     "execution_count": 14,
     "metadata": {},
     "output_type": "execute_result"
    }
   ],
   "source": [
    "# КОД РЕВЬЮЕРА\n",
    "\n",
    "def my_mean(x): return x.mean()*100\n",
    "\n",
    "# В кач-ве агрегирования можно любую функцию брать.\n",
    "data.groupby('children')['debt'].agg(['count', 'sum', my_mean])"
   ]
  },
  {
   "cell_type": "code",
   "execution_count": 15,
   "id": "310a0683",
   "metadata": {},
   "outputs": [
    {
     "data": {
      "text/html": [
       "<div>\n",
       "<style scoped>\n",
       "    .dataframe tbody tr th:only-of-type {\n",
       "        vertical-align: middle;\n",
       "    }\n",
       "\n",
       "    .dataframe tbody tr th {\n",
       "        vertical-align: top;\n",
       "    }\n",
       "\n",
       "    .dataframe thead th {\n",
       "        text-align: right;\n",
       "    }\n",
       "</style>\n",
       "<table border=\"1\" class=\"dataframe\">\n",
       "  <thead>\n",
       "    <tr style=\"text-align: right;\">\n",
       "      <th></th>\n",
       "      <th>count</th>\n",
       "      <th>sum</th>\n",
       "      <th>my_mean</th>\n",
       "    </tr>\n",
       "    <tr>\n",
       "      <th>children</th>\n",
       "      <th></th>\n",
       "      <th></th>\n",
       "      <th></th>\n",
       "    </tr>\n",
       "  </thead>\n",
       "  <tbody>\n",
       "    <tr>\n",
       "      <th>0</th>\n",
       "      <td>14107</td>\n",
       "      <td>1063</td>\n",
       "      <td>7.54%</td>\n",
       "    </tr>\n",
       "    <tr>\n",
       "      <th>1</th>\n",
       "      <td>4856</td>\n",
       "      <td>445</td>\n",
       "      <td>9.16%</td>\n",
       "    </tr>\n",
       "    <tr>\n",
       "      <th>2</th>\n",
       "      <td>2128</td>\n",
       "      <td>202</td>\n",
       "      <td>9.49%</td>\n",
       "    </tr>\n",
       "    <tr>\n",
       "      <th>3</th>\n",
       "      <td>330</td>\n",
       "      <td>27</td>\n",
       "      <td>8.18%</td>\n",
       "    </tr>\n",
       "    <tr>\n",
       "      <th>4</th>\n",
       "      <td>41</td>\n",
       "      <td>4</td>\n",
       "      <td>9.76%</td>\n",
       "    </tr>\n",
       "    <tr>\n",
       "      <th>5</th>\n",
       "      <td>9</td>\n",
       "      <td>0</td>\n",
       "      <td>0.00%</td>\n",
       "    </tr>\n",
       "  </tbody>\n",
       "</table>\n",
       "</div>"
      ],
      "text/plain": [
       "          count   sum my_mean\n",
       "children                     \n",
       "0         14107  1063  7.54% \n",
       "1          4856   445  9.16% \n",
       "2          2128   202  9.49% \n",
       "3           330    27  8.18% \n",
       "4            41     4  9.76% \n",
       "5             9     0  0.00% "
      ]
     },
     "execution_count": 15,
     "metadata": {},
     "output_type": "execute_result"
    }
   ],
   "source": [
    "# КОД РЕВЬЮЕРА\n",
    "\n",
    "def my_mean(x): return '{:.2%} '.format(x.mean())\n",
    "\n",
    "data.groupby('children')['debt'].agg(['count', 'sum', my_mean])"
   ]
  },
  {
   "cell_type": "markdown",
   "id": "4df6556a",
   "metadata": {},
   "source": [
    "##### Вопрос 2:Есть ли зависимость между семейным положением и возвратом кредита в срок?"
   ]
  },
  {
   "cell_type": "code",
   "execution_count": 16,
   "id": "94ab5185",
   "metadata": {},
   "outputs": [
    {
     "data": {
      "text/html": [
       "<div>\n",
       "<style scoped>\n",
       "    .dataframe tbody tr th:only-of-type {\n",
       "        vertical-align: middle;\n",
       "    }\n",
       "\n",
       "    .dataframe tbody tr th {\n",
       "        vertical-align: top;\n",
       "    }\n",
       "\n",
       "    .dataframe thead th {\n",
       "        text-align: right;\n",
       "    }\n",
       "</style>\n",
       "<table border=\"1\" class=\"dataframe\">\n",
       "  <thead>\n",
       "    <tr style=\"text-align: right;\">\n",
       "      <th>debt</th>\n",
       "      <th>0</th>\n",
       "      <th>1</th>\n",
       "      <th>ratio</th>\n",
       "    </tr>\n",
       "    <tr>\n",
       "      <th>family_status_id</th>\n",
       "      <th></th>\n",
       "      <th></th>\n",
       "      <th></th>\n",
       "    </tr>\n",
       "  </thead>\n",
       "  <tbody>\n",
       "    <tr>\n",
       "      <th>4</th>\n",
       "      <td>2536</td>\n",
       "      <td>274</td>\n",
       "      <td>9.750890</td>\n",
       "    </tr>\n",
       "    <tr>\n",
       "      <th>1</th>\n",
       "      <td>3775</td>\n",
       "      <td>388</td>\n",
       "      <td>9.320202</td>\n",
       "    </tr>\n",
       "    <tr>\n",
       "      <th>0</th>\n",
       "      <td>11413</td>\n",
       "      <td>931</td>\n",
       "      <td>7.542126</td>\n",
       "    </tr>\n",
       "    <tr>\n",
       "      <th>3</th>\n",
       "      <td>1110</td>\n",
       "      <td>85</td>\n",
       "      <td>7.112971</td>\n",
       "    </tr>\n",
       "    <tr>\n",
       "      <th>2</th>\n",
       "      <td>896</td>\n",
       "      <td>63</td>\n",
       "      <td>6.569343</td>\n",
       "    </tr>\n",
       "  </tbody>\n",
       "</table>\n",
       "</div>"
      ],
      "text/plain": [
       "debt                  0    1     ratio\n",
       "family_status_id                      \n",
       "4                  2536  274  9.750890\n",
       "1                  3775  388  9.320202\n",
       "0                 11413  931  7.542126\n",
       "3                  1110   85  7.112971\n",
       "2                   896   63  6.569343"
      ]
     },
     "metadata": {},
     "output_type": "display_data"
    }
   ],
   "source": [
    "#Создаем сводную таблицу по данным колонок family_status_id и debt \n",
    "credit_family_status_id=data.pivot_table(index='family_status_id', columns='debt', values='dob_years',  aggfunc='count')\n",
    "#Добавляем новую колонку в сводной таблице, где подсчитываем процент невозврата в срок\n",
    "credit_family_status_id['ratio']=credit_family_status_id[1]/(credit_family_status_id[0]+credit_family_status_id[1])*100\n",
    "display(credit_family_status_id.sort_values(by='ratio', ascending=False))\n",
    "\n",
    "\n"
   ]
  },
  {
   "cell_type": "markdown",
   "id": "49aa284a",
   "metadata": {},
   "source": [
    "##### Вопрос 3:Есть ли зависимость между уровнем дохода и возвратом кредита в срок?"
   ]
  },
  {
   "cell_type": "code",
   "execution_count": 17,
   "id": "be4ccc92",
   "metadata": {},
   "outputs": [
    {
     "data": {
      "text/html": [
       "<div>\n",
       "<style scoped>\n",
       "    .dataframe tbody tr th:only-of-type {\n",
       "        vertical-align: middle;\n",
       "    }\n",
       "\n",
       "    .dataframe tbody tr th {\n",
       "        vertical-align: top;\n",
       "    }\n",
       "\n",
       "    .dataframe thead th {\n",
       "        text-align: right;\n",
       "    }\n",
       "</style>\n",
       "<table border=\"1\" class=\"dataframe\">\n",
       "  <thead>\n",
       "    <tr style=\"text-align: right;\">\n",
       "      <th>debt</th>\n",
       "      <th>0</th>\n",
       "      <th>1</th>\n",
       "      <th>ratio</th>\n",
       "    </tr>\n",
       "    <tr>\n",
       "      <th>total_income_category</th>\n",
       "      <th></th>\n",
       "      <th></th>\n",
       "      <th></th>\n",
       "    </tr>\n",
       "  </thead>\n",
       "  <tbody>\n",
       "    <tr>\n",
       "      <th>E</th>\n",
       "      <td>20</td>\n",
       "      <td>2</td>\n",
       "      <td>9.090909</td>\n",
       "    </tr>\n",
       "    <tr>\n",
       "      <th>C</th>\n",
       "      <td>14672</td>\n",
       "      <td>1360</td>\n",
       "      <td>8.483034</td>\n",
       "    </tr>\n",
       "    <tr>\n",
       "      <th>A</th>\n",
       "      <td>23</td>\n",
       "      <td>2</td>\n",
       "      <td>8.000000</td>\n",
       "    </tr>\n",
       "    <tr>\n",
       "      <th>B</th>\n",
       "      <td>4686</td>\n",
       "      <td>356</td>\n",
       "      <td>7.060690</td>\n",
       "    </tr>\n",
       "    <tr>\n",
       "      <th>D</th>\n",
       "      <td>329</td>\n",
       "      <td>21</td>\n",
       "      <td>6.000000</td>\n",
       "    </tr>\n",
       "  </tbody>\n",
       "</table>\n",
       "</div>"
      ],
      "text/plain": [
       "debt                       0     1     ratio\n",
       "total_income_category                       \n",
       "E                         20     2  9.090909\n",
       "C                      14672  1360  8.483034\n",
       "A                         23     2  8.000000\n",
       "B                       4686   356  7.060690\n",
       "D                        329    21  6.000000"
      ]
     },
     "metadata": {},
     "output_type": "display_data"
    }
   ],
   "source": [
    "#Создаем сводную таблицу по данным колонок total_income_category и debt \n",
    "credit_total_income_category=data.pivot_table(index='total_income_category', columns='debt', values='dob_years',  aggfunc='count')\n",
    "#Добавляем новую колонку в сводной таблице, где подсчитываем процент невозврата в срок\n",
    "credit_total_income_category['ratio']=credit_total_income_category[1]/(credit_total_income_category[0]+credit_total_income_category[1])*100\n",
    "display(credit_total_income_category.sort_values(by='ratio', ascending=False))\n",
    "\n",
    "\n"
   ]
  },
  {
   "cell_type": "markdown",
   "id": "7740a2fe",
   "metadata": {},
   "source": [
    "##### Вопрос 4:Как разные цели кредита влияют на его возврат в срок?"
   ]
  },
  {
   "cell_type": "code",
   "execution_count": 18,
   "id": "3261c334",
   "metadata": {},
   "outputs": [
    {
     "data": {
      "text/html": [
       "<div>\n",
       "<style scoped>\n",
       "    .dataframe tbody tr th:only-of-type {\n",
       "        vertical-align: middle;\n",
       "    }\n",
       "\n",
       "    .dataframe tbody tr th {\n",
       "        vertical-align: top;\n",
       "    }\n",
       "\n",
       "    .dataframe thead th {\n",
       "        text-align: right;\n",
       "    }\n",
       "</style>\n",
       "<table border=\"1\" class=\"dataframe\">\n",
       "  <thead>\n",
       "    <tr style=\"text-align: right;\">\n",
       "      <th>debt</th>\n",
       "      <th>0</th>\n",
       "      <th>1</th>\n",
       "      <th>ratio</th>\n",
       "    </tr>\n",
       "    <tr>\n",
       "      <th>purpose_category</th>\n",
       "      <th></th>\n",
       "      <th></th>\n",
       "      <th></th>\n",
       "    </tr>\n",
       "  </thead>\n",
       "  <tbody>\n",
       "    <tr>\n",
       "      <th>операции с автомобилем</th>\n",
       "      <td>3905</td>\n",
       "      <td>403</td>\n",
       "      <td>9.354689</td>\n",
       "    </tr>\n",
       "    <tr>\n",
       "      <th>получение образования</th>\n",
       "      <td>3644</td>\n",
       "      <td>370</td>\n",
       "      <td>9.217738</td>\n",
       "    </tr>\n",
       "    <tr>\n",
       "      <th>проведение свадьбы</th>\n",
       "      <td>2149</td>\n",
       "      <td>186</td>\n",
       "      <td>7.965739</td>\n",
       "    </tr>\n",
       "    <tr>\n",
       "      <th>операции с недвижимостью</th>\n",
       "      <td>10032</td>\n",
       "      <td>782</td>\n",
       "      <td>7.231367</td>\n",
       "    </tr>\n",
       "  </tbody>\n",
       "</table>\n",
       "</div>"
      ],
      "text/plain": [
       "debt                          0    1     ratio\n",
       "purpose_category                              \n",
       "операции с автомобилем     3905  403  9.354689\n",
       "получение образования      3644  370  9.217738\n",
       "проведение свадьбы         2149  186  7.965739\n",
       "операции с недвижимостью  10032  782  7.231367"
      ]
     },
     "metadata": {},
     "output_type": "display_data"
    }
   ],
   "source": [
    "#Создаем сводную таблицу по данным колонок purpose_category и debt \n",
    "credit_purpose_category=data.pivot_table(index='purpose_category', columns='debt', values='dob_years',  aggfunc='count')\n",
    "#Добавляем новую колонку в сводной таблице, где посчитываем процент невозврата в срок\n",
    "credit_purpose_category['ratio']=credit_purpose_category[1]/(credit_purpose_category[0]+credit_purpose_category[1])*100\n",
    "display(credit_purpose_category.sort_values(by='ratio', ascending=False))"
   ]
  },
  {
   "cell_type": "markdown",
   "id": "79b00ed1",
   "metadata": {},
   "source": [
    "##### Вывод 1:"
   ]
  },
  {
   "cell_type": "markdown",
   "id": "35f15b64",
   "metadata": {},
   "source": [
    "По сводной та,лице видно, что вероятность не возврата кредита больше у клиентов, у которых есть дети, а меньше у тех, кто не имеет детей."
   ]
  },
  {
   "cell_type": "markdown",
   "id": "3d1ae529",
   "metadata": {},
   "source": [
    "##### Вывод 2:"
   ]
  },
  {
   "cell_type": "markdown",
   "id": "c76cd62c",
   "metadata": {},
   "source": [
    "По сводной та,лице видно, что вероятность не возврата кредита больше у клиентов, которые женаты или замужем, чем у клиентов не имеющих семейного положения."
   ]
  },
  {
   "cell_type": "markdown",
   "id": "5a549632",
   "metadata": {},
   "source": [
    "##### Вывод 3:"
   ]
  },
  {
   "cell_type": "markdown",
   "id": "43962079",
   "metadata": {},
   "source": [
    "По сводной та,лице видно, что вероятность не возврата кредита больше у клиентов с наименьшим доходом."
   ]
  },
  {
   "cell_type": "markdown",
   "id": "06e350d8",
   "metadata": {},
   "source": [
    "##### Вывод 4:"
   ]
  },
  {
   "cell_type": "markdown",
   "id": "7941ff17",
   "metadata": {},
   "source": [
    "По сводной та,лице видно, что самыми отвественными клиентами являются люди, которые берут кредит на недвижмость, а безотвественными те, которые берут кредит на машину."
   ]
  },
  {
   "cell_type": "markdown",
   "id": "426e69f3",
   "metadata": {},
   "source": [
    "## Общий вывод:"
   ]
  },
  {
   "cell_type": "markdown",
   "id": "f08433a9",
   "metadata": {},
   "source": [
    "При работе с данными были заполнены пропущенные значения, удалены дубликаты и выделены категории для целей кредита, группы по возрасту и образованию. Применив сводные таблицы, я оценил, какие критерии влияют на возврат кредита. Дополнительный анализ может помочь более точно предсказать вероятность вылпаты кредита в срок."
   ]
  },
  {
   "cell_type": "code",
   "execution_count": null,
   "id": "44b05d51",
   "metadata": {},
   "outputs": [],
   "source": []
  }
 ],
 "metadata": {
  "ExecuteTimeLog": [
   {
    "duration": 1211,
    "start_time": "2022-02-02T15:19:56.812Z"
   },
   {
    "duration": 77,
    "start_time": "2022-02-02T15:20:09.793Z"
   },
   {
    "duration": 106,
    "start_time": "2022-02-02T15:21:36.571Z"
   },
   {
    "duration": 7701,
    "start_time": "2022-02-02T15:30:23.058Z"
   },
   {
    "duration": 7672,
    "start_time": "2022-02-02T15:30:35.744Z"
   },
   {
    "duration": 7,
    "start_time": "2022-02-02T15:31:20.337Z"
   },
   {
    "duration": -41144,
    "start_time": "2022-02-02T15:32:54.337Z"
   },
   {
    "duration": 6,
    "start_time": "2022-02-02T15:32:38.461Z"
   },
   {
    "duration": 98,
    "start_time": "2022-02-02T15:35:47.537Z"
   },
   {
    "duration": 97,
    "start_time": "2022-02-02T15:35:54.351Z"
   },
   {
    "duration": 17,
    "start_time": "2022-02-02T15:36:02.547Z"
   },
   {
    "duration": 26,
    "start_time": "2022-02-02T15:36:17.059Z"
   },
   {
    "duration": 8,
    "start_time": "2022-02-02T15:37:13.019Z"
   },
   {
    "duration": 8,
    "start_time": "2022-02-02T15:39:10.983Z"
   },
   {
    "duration": 7,
    "start_time": "2022-02-02T15:39:18.957Z"
   },
   {
    "duration": 6,
    "start_time": "2022-02-02T15:59:36.220Z"
   },
   {
    "duration": 9,
    "start_time": "2022-02-02T16:00:27.325Z"
   },
   {
    "duration": 7,
    "start_time": "2022-02-02T16:01:10.895Z"
   },
   {
    "duration": 7,
    "start_time": "2022-02-02T16:01:15.442Z"
   },
   {
    "duration": 96,
    "start_time": "2022-02-02T16:02:32.805Z"
   },
   {
    "duration": 7,
    "start_time": "2022-02-02T16:03:21.662Z"
   },
   {
    "duration": 108,
    "start_time": "2022-02-02T16:10:29.735Z"
   },
   {
    "duration": 96,
    "start_time": "2022-02-02T16:11:21.479Z"
   },
   {
    "duration": 9,
    "start_time": "2022-02-02T16:13:13.051Z"
   },
   {
    "duration": 27,
    "start_time": "2022-02-02T16:19:24.556Z"
   },
   {
    "duration": 9,
    "start_time": "2022-02-02T16:21:21.716Z"
   },
   {
    "duration": 11,
    "start_time": "2022-02-02T16:34:30.198Z"
   },
   {
    "duration": 19,
    "start_time": "2022-02-02T16:39:00.837Z"
   },
   {
    "duration": 2455,
    "start_time": "2022-02-02T16:39:31.941Z"
   },
   {
    "duration": 19,
    "start_time": "2022-02-02T16:39:50.037Z"
   },
   {
    "duration": 311,
    "start_time": "2022-02-02T16:41:02.736Z"
   },
   {
    "duration": 629,
    "start_time": "2022-02-02T16:41:18.848Z"
   },
   {
    "duration": 299,
    "start_time": "2022-02-02T16:41:45.050Z"
   },
   {
    "duration": 296,
    "start_time": "2022-02-02T16:41:47.265Z"
   },
   {
    "duration": 276,
    "start_time": "2022-02-02T16:43:35.099Z"
   },
   {
    "duration": 342,
    "start_time": "2022-02-02T16:43:45.163Z"
   },
   {
    "duration": 688,
    "start_time": "2022-02-02T16:44:12.511Z"
   },
   {
    "duration": 313,
    "start_time": "2022-02-02T16:44:15.706Z"
   },
   {
    "duration": 301,
    "start_time": "2022-02-02T16:45:33.937Z"
   },
   {
    "duration": 325,
    "start_time": "2022-02-02T16:45:44.616Z"
   },
   {
    "duration": 76,
    "start_time": "2022-02-02T16:45:57.274Z"
   },
   {
    "duration": 31,
    "start_time": "2022-02-02T16:46:01.555Z"
   },
   {
    "duration": 4,
    "start_time": "2022-02-02T16:46:08.475Z"
   },
   {
    "duration": 7,
    "start_time": "2022-02-02T16:51:04.282Z"
   },
   {
    "duration": 8,
    "start_time": "2022-02-02T16:51:09.749Z"
   },
   {
    "duration": 790,
    "start_time": "2022-02-02T16:51:53.363Z"
   },
   {
    "duration": 37,
    "start_time": "2022-02-02T16:51:54.156Z"
   },
   {
    "duration": 7,
    "start_time": "2022-02-02T16:51:54.196Z"
   },
   {
    "duration": 9,
    "start_time": "2022-02-02T16:52:30.637Z"
   },
   {
    "duration": 104,
    "start_time": "2022-02-02T16:53:21.012Z"
   },
   {
    "duration": 110,
    "start_time": "2022-02-02T16:53:32.750Z"
   },
   {
    "duration": 8,
    "start_time": "2022-02-02T16:53:42.124Z"
   },
   {
    "duration": 407,
    "start_time": "2022-02-02T16:57:24.022Z"
   },
   {
    "duration": 297,
    "start_time": "2022-02-06T07:05:32.177Z"
   },
   {
    "duration": 666,
    "start_time": "2022-02-06T07:05:45.735Z"
   },
   {
    "duration": 26,
    "start_time": "2022-02-06T07:05:46.404Z"
   },
   {
    "duration": 321,
    "start_time": "2022-02-06T07:05:46.432Z"
   },
   {
    "duration": 283,
    "start_time": "2022-02-06T07:06:00.512Z"
   },
   {
    "duration": 264,
    "start_time": "2022-02-06T07:14:20.191Z"
   },
   {
    "duration": 281,
    "start_time": "2022-02-06T07:14:39.121Z"
   },
   {
    "duration": 259,
    "start_time": "2022-02-06T07:14:52.942Z"
   },
   {
    "duration": 11,
    "start_time": "2022-02-06T07:20:27.178Z"
   },
   {
    "duration": 5,
    "start_time": "2022-02-06T07:40:09.732Z"
   },
   {
    "duration": 26,
    "start_time": "2022-02-06T07:43:05.233Z"
   },
   {
    "duration": 258,
    "start_time": "2022-02-06T07:44:43.582Z"
   },
   {
    "duration": 37,
    "start_time": "2022-02-06T07:44:51.263Z"
   },
   {
    "duration": 51,
    "start_time": "2022-02-06T07:45:06.777Z"
   },
   {
    "duration": 370,
    "start_time": "2022-02-06T07:45:16.183Z"
   },
   {
    "duration": 44,
    "start_time": "2022-02-06T07:45:51.063Z"
   },
   {
    "duration": 37,
    "start_time": "2022-02-06T07:46:04.306Z"
   },
   {
    "duration": 19,
    "start_time": "2022-02-06T07:46:12.782Z"
   },
   {
    "duration": 712,
    "start_time": "2022-02-06T07:46:19.421Z"
   },
   {
    "duration": 25,
    "start_time": "2022-02-06T07:46:20.136Z"
   },
   {
    "duration": 14,
    "start_time": "2022-02-06T07:46:20.164Z"
   },
   {
    "duration": 20,
    "start_time": "2022-02-06T07:46:20.179Z"
   },
   {
    "duration": 32,
    "start_time": "2022-02-06T07:46:20.202Z"
   },
   {
    "duration": 33,
    "start_time": "2022-02-06T07:46:32.547Z"
   },
   {
    "duration": 43,
    "start_time": "2022-02-06T07:46:45.264Z"
   },
   {
    "duration": 45,
    "start_time": "2022-02-06T07:46:56.768Z"
   },
   {
    "duration": 35,
    "start_time": "2022-02-06T07:47:19.430Z"
   },
   {
    "duration": 398,
    "start_time": "2022-02-06T07:47:27.475Z"
   },
   {
    "duration": 21,
    "start_time": "2022-02-06T07:47:39.648Z"
   },
   {
    "duration": 19,
    "start_time": "2022-02-06T07:47:42.157Z"
   },
   {
    "duration": 697,
    "start_time": "2022-02-06T07:48:13.583Z"
   },
   {
    "duration": 24,
    "start_time": "2022-02-06T07:48:14.283Z"
   },
   {
    "duration": 10,
    "start_time": "2022-02-06T07:48:14.312Z"
   },
   {
    "duration": 6,
    "start_time": "2022-02-06T07:48:14.323Z"
   },
   {
    "duration": 21,
    "start_time": "2022-02-06T07:48:14.331Z"
   },
   {
    "duration": 36,
    "start_time": "2022-02-06T07:50:46.969Z"
   },
   {
    "duration": 16,
    "start_time": "2022-02-06T07:55:03.998Z"
   },
   {
    "duration": 13,
    "start_time": "2022-02-06T08:01:07.522Z"
   },
   {
    "duration": 328,
    "start_time": "2022-02-06T08:07:56.345Z"
   },
   {
    "duration": 246,
    "start_time": "2022-02-06T08:08:36.943Z"
   },
   {
    "duration": 325,
    "start_time": "2022-02-06T08:08:56.437Z"
   },
   {
    "duration": 7,
    "start_time": "2022-02-06T08:09:39.820Z"
   },
   {
    "duration": 10,
    "start_time": "2022-02-06T08:09:54.011Z"
   },
   {
    "duration": 6,
    "start_time": "2022-02-06T08:10:18.038Z"
   },
   {
    "duration": 694,
    "start_time": "2022-02-06T08:20:48.941Z"
   },
   {
    "duration": 265,
    "start_time": "2022-02-06T08:23:37.771Z"
   },
   {
    "duration": 411,
    "start_time": "2022-02-06T08:25:19.970Z"
   },
   {
    "duration": 12,
    "start_time": "2022-02-06T08:25:46.600Z"
   },
   {
    "duration": 361,
    "start_time": "2022-02-06T08:26:04.338Z"
   },
   {
    "duration": 253,
    "start_time": "2022-02-06T08:27:06.249Z"
   },
   {
    "duration": 650,
    "start_time": "2022-02-06T08:27:12.348Z"
   },
   {
    "duration": 27,
    "start_time": "2022-02-06T08:27:13.001Z"
   },
   {
    "duration": 11,
    "start_time": "2022-02-06T08:27:13.035Z"
   },
   {
    "duration": 5,
    "start_time": "2022-02-06T08:27:13.048Z"
   },
   {
    "duration": 53,
    "start_time": "2022-02-06T08:27:13.055Z"
   },
   {
    "duration": 35,
    "start_time": "2022-02-06T08:27:13.111Z"
   },
   {
    "duration": 14,
    "start_time": "2022-02-06T08:27:13.149Z"
   },
   {
    "duration": 12,
    "start_time": "2022-02-06T08:27:13.165Z"
   },
   {
    "duration": 334,
    "start_time": "2022-02-06T08:27:44.456Z"
   },
   {
    "duration": 670,
    "start_time": "2022-02-06T08:27:59.425Z"
   },
   {
    "duration": 26,
    "start_time": "2022-02-06T08:28:00.098Z"
   },
   {
    "duration": 17,
    "start_time": "2022-02-06T08:28:00.127Z"
   },
   {
    "duration": 5,
    "start_time": "2022-02-06T08:28:00.146Z"
   },
   {
    "duration": 30,
    "start_time": "2022-02-06T08:28:00.152Z"
   },
   {
    "duration": 42,
    "start_time": "2022-02-06T08:28:00.184Z"
   },
   {
    "duration": 13,
    "start_time": "2022-02-06T08:28:00.228Z"
   },
   {
    "duration": 86,
    "start_time": "2022-02-06T08:28:00.243Z"
   },
   {
    "duration": 355,
    "start_time": "2022-02-06T08:28:52.947Z"
   },
   {
    "duration": 709,
    "start_time": "2022-02-06T08:29:01.292Z"
   },
   {
    "duration": 29,
    "start_time": "2022-02-06T08:29:02.003Z"
   },
   {
    "duration": 14,
    "start_time": "2022-02-06T08:29:02.034Z"
   },
   {
    "duration": 23,
    "start_time": "2022-02-06T08:29:02.050Z"
   },
   {
    "duration": 50,
    "start_time": "2022-02-06T08:29:02.075Z"
   },
   {
    "duration": 53,
    "start_time": "2022-02-06T08:29:02.127Z"
   },
   {
    "duration": 27,
    "start_time": "2022-02-06T08:29:02.183Z"
   },
   {
    "duration": 23,
    "start_time": "2022-02-06T08:29:02.214Z"
   },
   {
    "duration": 4,
    "start_time": "2022-02-06T08:41:18.318Z"
   },
   {
    "duration": 311,
    "start_time": "2022-02-06T08:42:27.910Z"
   },
   {
    "duration": 248,
    "start_time": "2022-02-06T08:43:25.193Z"
   },
   {
    "duration": 254,
    "start_time": "2022-02-06T08:44:19.078Z"
   },
   {
    "duration": 1697,
    "start_time": "2022-02-06T08:44:41.001Z"
   },
   {
    "duration": 11,
    "start_time": "2022-02-06T08:45:07.341Z"
   },
   {
    "duration": 17,
    "start_time": "2022-02-06T08:46:03.852Z"
   },
   {
    "duration": 12,
    "start_time": "2022-02-06T08:46:36.978Z"
   },
   {
    "duration": 17,
    "start_time": "2022-02-06T08:47:15.130Z"
   },
   {
    "duration": 11,
    "start_time": "2022-02-06T08:47:26.207Z"
   },
   {
    "duration": 395,
    "start_time": "2022-02-06T11:02:31.624Z"
   },
   {
    "duration": 836,
    "start_time": "2022-02-06T11:03:05.477Z"
   },
   {
    "duration": 45,
    "start_time": "2022-02-06T11:03:06.316Z"
   },
   {
    "duration": 12,
    "start_time": "2022-02-06T11:03:06.364Z"
   },
   {
    "duration": 5,
    "start_time": "2022-02-06T11:03:06.379Z"
   },
   {
    "duration": 30,
    "start_time": "2022-02-06T11:03:06.386Z"
   },
   {
    "duration": 73,
    "start_time": "2022-02-06T11:03:06.418Z"
   },
   {
    "duration": 16,
    "start_time": "2022-02-06T11:03:06.494Z"
   },
   {
    "duration": 43,
    "start_time": "2022-02-06T11:03:06.515Z"
   },
   {
    "duration": 17,
    "start_time": "2022-02-06T11:03:06.560Z"
   },
   {
    "duration": 487,
    "start_time": "2022-02-06T11:03:42.756Z"
   },
   {
    "duration": 303,
    "start_time": "2022-02-06T11:03:46.436Z"
   },
   {
    "duration": 860,
    "start_time": "2022-02-06T11:04:02.793Z"
   },
   {
    "duration": 36,
    "start_time": "2022-02-06T11:04:03.656Z"
   },
   {
    "duration": 14,
    "start_time": "2022-02-06T11:04:03.696Z"
   },
   {
    "duration": 34,
    "start_time": "2022-02-06T11:04:03.714Z"
   },
   {
    "duration": 33,
    "start_time": "2022-02-06T11:04:03.752Z"
   },
   {
    "duration": 93,
    "start_time": "2022-02-06T11:04:03.788Z"
   },
   {
    "duration": 25,
    "start_time": "2022-02-06T11:04:03.884Z"
   },
   {
    "duration": 38,
    "start_time": "2022-02-06T11:04:03.914Z"
   },
   {
    "duration": 23,
    "start_time": "2022-02-06T11:04:03.956Z"
   },
   {
    "duration": 16,
    "start_time": "2022-02-06T11:04:29.233Z"
   },
   {
    "duration": 20,
    "start_time": "2022-02-06T11:12:59.927Z"
   },
   {
    "duration": 26,
    "start_time": "2022-02-06T11:15:02.944Z"
   },
   {
    "duration": 134,
    "start_time": "2022-02-06T11:17:27.159Z"
   },
   {
    "duration": 113,
    "start_time": "2022-02-06T11:17:38.037Z"
   },
   {
    "duration": 126,
    "start_time": "2022-02-06T11:17:45.496Z"
   },
   {
    "duration": 106,
    "start_time": "2022-02-06T11:17:58.399Z"
   },
   {
    "duration": 50,
    "start_time": "2022-02-06T11:18:03.727Z"
   },
   {
    "duration": 34,
    "start_time": "2022-02-06T11:18:30.146Z"
   },
   {
    "duration": 9,
    "start_time": "2022-02-06T11:20:12.073Z"
   },
   {
    "duration": 30,
    "start_time": "2022-02-06T11:27:40.145Z"
   },
   {
    "duration": 114,
    "start_time": "2022-02-06T11:29:14.096Z"
   },
   {
    "duration": 9,
    "start_time": "2022-02-06T11:29:23.362Z"
   },
   {
    "duration": 20,
    "start_time": "2022-02-06T11:30:23.476Z"
   },
   {
    "duration": 20,
    "start_time": "2022-02-06T11:30:47.868Z"
   },
   {
    "duration": 22,
    "start_time": "2022-02-06T11:30:50.977Z"
   },
   {
    "duration": 22,
    "start_time": "2022-02-06T11:31:22.102Z"
   },
   {
    "duration": 22,
    "start_time": "2022-02-06T11:31:26.865Z"
   },
   {
    "duration": 18,
    "start_time": "2022-02-06T11:31:46.392Z"
   },
   {
    "duration": 134,
    "start_time": "2022-02-06T11:33:18.679Z"
   },
   {
    "duration": 9,
    "start_time": "2022-02-06T11:33:28.602Z"
   },
   {
    "duration": 9,
    "start_time": "2022-02-06T11:34:09.675Z"
   },
   {
    "duration": 23,
    "start_time": "2022-02-06T11:34:19.284Z"
   },
   {
    "duration": 982,
    "start_time": "2022-02-06T11:34:30.725Z"
   },
   {
    "duration": 41,
    "start_time": "2022-02-06T11:34:31.710Z"
   },
   {
    "duration": 12,
    "start_time": "2022-02-06T11:34:31.754Z"
   },
   {
    "duration": 5,
    "start_time": "2022-02-06T11:34:31.769Z"
   },
   {
    "duration": 31,
    "start_time": "2022-02-06T11:34:31.776Z"
   },
   {
    "duration": 74,
    "start_time": "2022-02-06T11:34:31.809Z"
   },
   {
    "duration": 15,
    "start_time": "2022-02-06T11:34:31.885Z"
   },
   {
    "duration": 18,
    "start_time": "2022-02-06T11:34:31.903Z"
   },
   {
    "duration": 42,
    "start_time": "2022-02-06T11:34:31.923Z"
   },
   {
    "duration": 24,
    "start_time": "2022-02-06T11:34:31.968Z"
   },
   {
    "duration": 9,
    "start_time": "2022-02-06T11:34:31.994Z"
   },
   {
    "duration": 2220,
    "start_time": "2022-02-06T11:34:32.006Z"
   },
   {
    "duration": 10,
    "start_time": "2022-02-06T11:35:13.735Z"
   },
   {
    "duration": 37,
    "start_time": "2022-02-06T11:35:58.002Z"
   },
   {
    "duration": 5,
    "start_time": "2022-02-06T11:36:16.593Z"
   },
   {
    "duration": 7,
    "start_time": "2022-02-06T11:36:27.499Z"
   },
   {
    "duration": 11,
    "start_time": "2022-02-06T11:36:53.716Z"
   },
   {
    "duration": 9,
    "start_time": "2022-02-06T11:37:07.905Z"
   },
   {
    "duration": 8,
    "start_time": "2022-02-06T11:37:35.251Z"
   },
   {
    "duration": 806,
    "start_time": "2022-02-06T11:37:52.024Z"
   },
   {
    "duration": 34,
    "start_time": "2022-02-06T11:37:52.833Z"
   },
   {
    "duration": 12,
    "start_time": "2022-02-06T11:37:52.873Z"
   },
   {
    "duration": 5,
    "start_time": "2022-02-06T11:37:52.887Z"
   },
   {
    "duration": 56,
    "start_time": "2022-02-06T11:37:52.894Z"
   },
   {
    "duration": 45,
    "start_time": "2022-02-06T11:37:52.952Z"
   },
   {
    "duration": 14,
    "start_time": "2022-02-06T11:37:53.001Z"
   },
   {
    "duration": 39,
    "start_time": "2022-02-06T11:37:53.018Z"
   },
   {
    "duration": 15,
    "start_time": "2022-02-06T11:37:53.060Z"
   },
   {
    "duration": 9,
    "start_time": "2022-02-06T11:37:53.077Z"
   },
   {
    "duration": 1342,
    "start_time": "2022-02-06T11:37:53.089Z"
   },
   {
    "duration": 6,
    "start_time": "2022-02-06T11:39:08.310Z"
   },
   {
    "duration": 25,
    "start_time": "2022-02-06T11:40:52.774Z"
   },
   {
    "duration": 155,
    "start_time": "2022-02-06T12:22:37.834Z"
   },
   {
    "duration": 14,
    "start_time": "2022-02-06T12:24:47.132Z"
   },
   {
    "duration": 14,
    "start_time": "2022-02-06T12:25:25.504Z"
   },
   {
    "duration": 13,
    "start_time": "2022-02-06T12:25:40.105Z"
   },
   {
    "duration": 24,
    "start_time": "2022-02-06T12:26:03.881Z"
   },
   {
    "duration": 53,
    "start_time": "2022-02-06T12:26:37.218Z"
   },
   {
    "duration": 115,
    "start_time": "2022-02-06T12:29:32.931Z"
   },
   {
    "duration": 40,
    "start_time": "2022-02-06T12:30:46.802Z"
   },
   {
    "duration": 274,
    "start_time": "2022-02-06T12:43:25.778Z"
   },
   {
    "duration": 10,
    "start_time": "2022-02-06T12:44:45.207Z"
   },
   {
    "duration": 9,
    "start_time": "2022-02-06T12:45:32.486Z"
   },
   {
    "duration": -43136,
    "start_time": "2022-02-06T12:47:02.500Z"
   },
   {
    "duration": 303,
    "start_time": "2022-02-06T12:46:25.737Z"
   },
   {
    "duration": 8,
    "start_time": "2022-02-06T12:48:17.502Z"
   },
   {
    "duration": 321,
    "start_time": "2022-02-06T13:23:44.408Z"
   },
   {
    "duration": 822,
    "start_time": "2022-02-06T13:24:05.133Z"
   },
   {
    "duration": 37,
    "start_time": "2022-02-06T13:24:05.959Z"
   },
   {
    "duration": 13,
    "start_time": "2022-02-06T13:24:05.999Z"
   },
   {
    "duration": 35,
    "start_time": "2022-02-06T13:24:06.015Z"
   },
   {
    "duration": 25,
    "start_time": "2022-02-06T13:24:06.053Z"
   },
   {
    "duration": 65,
    "start_time": "2022-02-06T13:24:06.082Z"
   },
   {
    "duration": 17,
    "start_time": "2022-02-06T13:24:06.150Z"
   },
   {
    "duration": 14,
    "start_time": "2022-02-06T13:24:06.171Z"
   },
   {
    "duration": 18,
    "start_time": "2022-02-06T13:24:06.188Z"
   },
   {
    "duration": 80,
    "start_time": "2022-02-06T13:24:06.208Z"
   },
   {
    "duration": 398,
    "start_time": "2022-02-06T13:24:21.116Z"
   },
   {
    "duration": 805,
    "start_time": "2022-02-06T13:24:27.329Z"
   },
   {
    "duration": 35,
    "start_time": "2022-02-06T13:24:28.137Z"
   },
   {
    "duration": 16,
    "start_time": "2022-02-06T13:24:28.175Z"
   },
   {
    "duration": 9,
    "start_time": "2022-02-06T13:24:28.193Z"
   },
   {
    "duration": 44,
    "start_time": "2022-02-06T13:24:28.204Z"
   },
   {
    "duration": 40,
    "start_time": "2022-02-06T13:24:28.251Z"
   },
   {
    "duration": 15,
    "start_time": "2022-02-06T13:24:28.293Z"
   },
   {
    "duration": 37,
    "start_time": "2022-02-06T13:24:28.312Z"
   },
   {
    "duration": 17,
    "start_time": "2022-02-06T13:24:28.352Z"
   },
   {
    "duration": 44,
    "start_time": "2022-02-06T13:24:28.371Z"
   },
   {
    "duration": 9,
    "start_time": "2022-02-06T13:33:45.791Z"
   },
   {
    "duration": 8,
    "start_time": "2022-02-06T13:33:59.757Z"
   },
   {
    "duration": 26,
    "start_time": "2022-02-06T13:34:39.599Z"
   },
   {
    "duration": 105,
    "start_time": "2022-02-06T13:59:38.502Z"
   },
   {
    "duration": 42,
    "start_time": "2022-02-06T13:59:51.635Z"
   },
   {
    "duration": 31,
    "start_time": "2022-02-06T14:02:00.722Z"
   },
   {
    "duration": 33,
    "start_time": "2022-02-06T14:02:31.589Z"
   },
   {
    "duration": 7,
    "start_time": "2022-02-06T14:04:20.735Z"
   },
   {
    "duration": 9,
    "start_time": "2022-02-06T14:05:37.993Z"
   },
   {
    "duration": -43906,
    "start_time": "2022-02-06T14:07:07.013Z"
   },
   {
    "duration": 9,
    "start_time": "2022-02-06T14:06:39.753Z"
   },
   {
    "duration": 5,
    "start_time": "2022-02-06T14:07:44.703Z"
   },
   {
    "duration": 5,
    "start_time": "2022-02-06T14:08:08.384Z"
   },
   {
    "duration": 712,
    "start_time": "2022-02-06T16:06:02.253Z"
   },
   {
    "duration": 678,
    "start_time": "2022-02-06T16:06:13.838Z"
   },
   {
    "duration": 30,
    "start_time": "2022-02-06T16:06:14.519Z"
   },
   {
    "duration": 12,
    "start_time": "2022-02-06T16:06:14.551Z"
   },
   {
    "duration": 10,
    "start_time": "2022-02-06T16:06:14.565Z"
   },
   {
    "duration": 31,
    "start_time": "2022-02-06T16:06:14.576Z"
   },
   {
    "duration": 17,
    "start_time": "2022-02-06T16:06:14.609Z"
   },
   {
    "duration": 33,
    "start_time": "2022-02-06T16:06:14.628Z"
   },
   {
    "duration": 12,
    "start_time": "2022-02-06T16:06:14.663Z"
   },
   {
    "duration": 37,
    "start_time": "2022-02-06T16:06:14.677Z"
   },
   {
    "duration": 10,
    "start_time": "2022-02-06T16:06:14.716Z"
   },
   {
    "duration": 27,
    "start_time": "2022-02-06T16:06:14.728Z"
   },
   {
    "duration": 18,
    "start_time": "2022-02-06T16:07:00.087Z"
   },
   {
    "duration": 6,
    "start_time": "2022-02-06T16:08:11.062Z"
   },
   {
    "duration": 7,
    "start_time": "2022-02-06T16:11:46.669Z"
   },
   {
    "duration": 10,
    "start_time": "2022-02-06T16:11:58.237Z"
   },
   {
    "duration": 10,
    "start_time": "2022-02-06T16:12:45.598Z"
   },
   {
    "duration": 10,
    "start_time": "2022-02-06T16:13:55.334Z"
   },
   {
    "duration": 697,
    "start_time": "2022-02-06T16:14:03.682Z"
   },
   {
    "duration": 32,
    "start_time": "2022-02-06T16:14:04.385Z"
   },
   {
    "duration": 26,
    "start_time": "2022-02-06T16:14:04.420Z"
   },
   {
    "duration": 21,
    "start_time": "2022-02-06T16:14:04.448Z"
   },
   {
    "duration": 13,
    "start_time": "2022-02-06T16:14:04.471Z"
   },
   {
    "duration": 27,
    "start_time": "2022-02-06T16:14:04.486Z"
   },
   {
    "duration": 34,
    "start_time": "2022-02-06T16:14:04.516Z"
   },
   {
    "duration": 13,
    "start_time": "2022-02-06T16:14:04.552Z"
   },
   {
    "duration": 18,
    "start_time": "2022-02-06T16:14:04.567Z"
   },
   {
    "duration": 30,
    "start_time": "2022-02-06T16:14:04.587Z"
   },
   {
    "duration": 35,
    "start_time": "2022-02-06T16:14:04.619Z"
   },
   {
    "duration": 12,
    "start_time": "2022-02-06T16:20:26.659Z"
   },
   {
    "duration": 13,
    "start_time": "2022-02-06T16:21:49.631Z"
   },
   {
    "duration": 13,
    "start_time": "2022-02-06T16:22:25.807Z"
   },
   {
    "duration": 13,
    "start_time": "2022-02-06T16:23:11.056Z"
   },
   {
    "duration": 13,
    "start_time": "2022-02-06T16:23:44.638Z"
   },
   {
    "duration": 14,
    "start_time": "2022-02-06T16:26:18.509Z"
   },
   {
    "duration": 115,
    "start_time": "2022-02-06T16:36:25.367Z"
   },
   {
    "duration": 19,
    "start_time": "2022-02-06T16:36:45.702Z"
   },
   {
    "duration": 18,
    "start_time": "2022-02-06T16:44:32.847Z"
   },
   {
    "duration": 19,
    "start_time": "2022-02-06T16:44:50.459Z"
   },
   {
    "duration": 19,
    "start_time": "2022-02-06T16:45:34.673Z"
   },
   {
    "duration": 23,
    "start_time": "2022-02-06T16:46:58.153Z"
   },
   {
    "duration": 26,
    "start_time": "2022-02-06T16:47:20.078Z"
   },
   {
    "duration": 17,
    "start_time": "2022-02-06T16:49:50.894Z"
   },
   {
    "duration": 715,
    "start_time": "2022-02-06T16:50:50.086Z"
   },
   {
    "duration": 31,
    "start_time": "2022-02-06T16:50:50.803Z"
   },
   {
    "duration": 19,
    "start_time": "2022-02-06T16:50:50.836Z"
   },
   {
    "duration": 17,
    "start_time": "2022-02-06T16:50:50.857Z"
   },
   {
    "duration": 4,
    "start_time": "2022-02-06T16:50:50.876Z"
   },
   {
    "duration": 43,
    "start_time": "2022-02-06T16:50:50.881Z"
   },
   {
    "duration": 35,
    "start_time": "2022-02-06T16:50:50.925Z"
   },
   {
    "duration": 12,
    "start_time": "2022-02-06T16:50:50.962Z"
   },
   {
    "duration": 42,
    "start_time": "2022-02-06T16:50:50.976Z"
   },
   {
    "duration": 23,
    "start_time": "2022-02-06T16:50:51.020Z"
   },
   {
    "duration": 30,
    "start_time": "2022-02-06T16:50:51.045Z"
   },
   {
    "duration": 99,
    "start_time": "2022-02-06T16:53:59.567Z"
   },
   {
    "duration": 19,
    "start_time": "2022-02-06T16:54:55.475Z"
   },
   {
    "duration": 18,
    "start_time": "2022-02-06T16:56:29.637Z"
   },
   {
    "duration": 16,
    "start_time": "2022-02-06T16:56:44.419Z"
   },
   {
    "duration": 715,
    "start_time": "2022-02-06T16:56:51.518Z"
   },
   {
    "duration": 32,
    "start_time": "2022-02-06T16:56:52.235Z"
   },
   {
    "duration": 38,
    "start_time": "2022-02-06T16:56:52.270Z"
   },
   {
    "duration": 18,
    "start_time": "2022-02-06T16:56:52.310Z"
   },
   {
    "duration": 4,
    "start_time": "2022-02-06T16:56:52.330Z"
   },
   {
    "duration": 24,
    "start_time": "2022-02-06T16:56:52.335Z"
   },
   {
    "duration": 60,
    "start_time": "2022-02-06T16:56:52.361Z"
   },
   {
    "duration": 14,
    "start_time": "2022-02-06T16:56:52.423Z"
   },
   {
    "duration": 20,
    "start_time": "2022-02-06T16:56:52.439Z"
   },
   {
    "duration": 18,
    "start_time": "2022-02-06T16:56:52.461Z"
   },
   {
    "duration": 43,
    "start_time": "2022-02-06T16:56:52.482Z"
   },
   {
    "duration": 93,
    "start_time": "2022-02-06T16:57:45.079Z"
   },
   {
    "duration": 17,
    "start_time": "2022-02-06T16:57:56.252Z"
   },
   {
    "duration": 18,
    "start_time": "2022-02-06T16:58:17.238Z"
   },
   {
    "duration": 5,
    "start_time": "2022-02-06T16:59:57.575Z"
   },
   {
    "duration": 5,
    "start_time": "2022-02-06T17:00:32.752Z"
   },
   {
    "duration": 6,
    "start_time": "2022-02-06T17:00:43.239Z"
   },
   {
    "duration": 7,
    "start_time": "2022-02-06T17:03:43.276Z"
   },
   {
    "duration": 9,
    "start_time": "2022-02-06T17:04:09.149Z"
   },
   {
    "duration": 7107,
    "start_time": "2022-02-06T17:12:59.336Z"
   },
   {
    "duration": 6602,
    "start_time": "2022-02-06T17:13:26.242Z"
   },
   {
    "duration": 742,
    "start_time": "2022-02-06T17:13:41.498Z"
   },
   {
    "duration": 33,
    "start_time": "2022-02-06T17:13:42.242Z"
   },
   {
    "duration": 41,
    "start_time": "2022-02-06T17:13:42.278Z"
   },
   {
    "duration": 25,
    "start_time": "2022-02-06T17:13:42.322Z"
   },
   {
    "duration": 6,
    "start_time": "2022-02-06T17:13:42.349Z"
   },
   {
    "duration": 28,
    "start_time": "2022-02-06T17:13:42.357Z"
   },
   {
    "duration": 53,
    "start_time": "2022-02-06T17:13:42.408Z"
   },
   {
    "duration": 22,
    "start_time": "2022-02-06T17:13:42.465Z"
   },
   {
    "duration": 17,
    "start_time": "2022-02-06T17:13:42.507Z"
   },
   {
    "duration": 20,
    "start_time": "2022-02-06T17:13:42.527Z"
   },
   {
    "duration": 70,
    "start_time": "2022-02-06T17:13:42.550Z"
   },
   {
    "duration": 19,
    "start_time": "2022-02-06T17:14:21.783Z"
   },
   {
    "duration": 19,
    "start_time": "2022-02-06T17:18:19.263Z"
   },
   {
    "duration": 357,
    "start_time": "2022-02-07T07:04:15.238Z"
   },
   {
    "duration": 658,
    "start_time": "2022-02-07T07:04:23.551Z"
   },
   {
    "duration": 28,
    "start_time": "2022-02-07T07:04:24.211Z"
   },
   {
    "duration": 35,
    "start_time": "2022-02-07T07:04:24.241Z"
   },
   {
    "duration": 21,
    "start_time": "2022-02-07T07:04:24.278Z"
   },
   {
    "duration": 27,
    "start_time": "2022-02-07T07:04:24.301Z"
   },
   {
    "duration": 43,
    "start_time": "2022-02-07T07:04:24.330Z"
   },
   {
    "duration": 35,
    "start_time": "2022-02-07T07:04:24.375Z"
   },
   {
    "duration": 14,
    "start_time": "2022-02-07T07:04:24.413Z"
   },
   {
    "duration": 30,
    "start_time": "2022-02-07T07:04:24.429Z"
   },
   {
    "duration": 33,
    "start_time": "2022-02-07T07:04:24.461Z"
   },
   {
    "duration": 32,
    "start_time": "2022-02-07T07:04:24.496Z"
   },
   {
    "duration": 335,
    "start_time": "2022-02-07T07:06:04.279Z"
   },
   {
    "duration": 693,
    "start_time": "2022-02-07T07:06:44.197Z"
   },
   {
    "duration": 26,
    "start_time": "2022-02-07T07:06:44.893Z"
   },
   {
    "duration": 17,
    "start_time": "2022-02-07T07:06:44.921Z"
   },
   {
    "duration": 17,
    "start_time": "2022-02-07T07:06:44.940Z"
   },
   {
    "duration": 390,
    "start_time": "2022-02-07T07:06:44.959Z"
   },
   {
    "duration": -44119,
    "start_time": "2022-02-07T07:07:29.471Z"
   },
   {
    "duration": -44120,
    "start_time": "2022-02-07T07:07:29.473Z"
   },
   {
    "duration": -44121,
    "start_time": "2022-02-07T07:07:29.475Z"
   },
   {
    "duration": -44123,
    "start_time": "2022-02-07T07:07:29.478Z"
   },
   {
    "duration": -44133,
    "start_time": "2022-02-07T07:07:29.489Z"
   },
   {
    "duration": -44134,
    "start_time": "2022-02-07T07:07:29.491Z"
   },
   {
    "duration": -44134,
    "start_time": "2022-02-07T07:07:29.492Z"
   },
   {
    "duration": 8,
    "start_time": "2022-02-07T07:08:39.674Z"
   },
   {
    "duration": 6,
    "start_time": "2022-02-07T07:09:02.605Z"
   },
   {
    "duration": 272,
    "start_time": "2022-02-07T07:18:32.884Z"
   },
   {
    "duration": 7,
    "start_time": "2022-02-07T07:18:40.210Z"
   },
   {
    "duration": 19,
    "start_time": "2022-02-07T07:19:18.067Z"
   },
   {
    "duration": 24,
    "start_time": "2022-02-07T07:19:41.835Z"
   },
   {
    "duration": 18,
    "start_time": "2022-02-07T07:22:34.869Z"
   },
   {
    "duration": 18,
    "start_time": "2022-02-07T07:22:41.474Z"
   },
   {
    "duration": 17,
    "start_time": "2022-02-07T07:34:38.212Z"
   },
   {
    "duration": 32,
    "start_time": "2022-02-07T07:36:07.651Z"
   },
   {
    "duration": 27,
    "start_time": "2022-02-07T07:46:15.385Z"
   },
   {
    "duration": 16,
    "start_time": "2022-02-07T07:48:05.410Z"
   },
   {
    "duration": 19,
    "start_time": "2022-02-07T07:48:38.425Z"
   },
   {
    "duration": 17,
    "start_time": "2022-02-07T07:48:44.401Z"
   },
   {
    "duration": 19,
    "start_time": "2022-02-07T08:44:56.282Z"
   },
   {
    "duration": 351,
    "start_time": "2022-02-07T11:22:06.607Z"
   },
   {
    "duration": 782,
    "start_time": "2022-02-07T11:22:16.464Z"
   },
   {
    "duration": 38,
    "start_time": "2022-02-07T11:22:17.249Z"
   },
   {
    "duration": 24,
    "start_time": "2022-02-07T11:22:17.294Z"
   },
   {
    "duration": 480,
    "start_time": "2022-02-07T11:22:17.349Z"
   },
   {
    "duration": -44025,
    "start_time": "2022-02-07T11:23:01.858Z"
   },
   {
    "duration": -44027,
    "start_time": "2022-02-07T11:23:01.861Z"
   },
   {
    "duration": -44027,
    "start_time": "2022-02-07T11:23:01.863Z"
   },
   {
    "duration": -44033,
    "start_time": "2022-02-07T11:23:01.870Z"
   },
   {
    "duration": -44034,
    "start_time": "2022-02-07T11:23:01.873Z"
   },
   {
    "duration": -44036,
    "start_time": "2022-02-07T11:23:01.876Z"
   },
   {
    "duration": -44037,
    "start_time": "2022-02-07T11:23:01.879Z"
   },
   {
    "duration": 169,
    "start_time": "2022-02-07T11:23:33.346Z"
   },
   {
    "duration": 1197,
    "start_time": "2022-02-07T11:23:45.470Z"
   },
   {
    "duration": 314,
    "start_time": "2022-02-07T11:24:20.155Z"
   },
   {
    "duration": 323,
    "start_time": "2022-02-07T11:27:36.670Z"
   },
   {
    "duration": 40,
    "start_time": "2022-02-07T11:28:22.788Z"
   },
   {
    "duration": 62,
    "start_time": "2022-02-07T11:29:23.962Z"
   },
   {
    "duration": 59,
    "start_time": "2022-02-07T11:29:52.721Z"
   },
   {
    "duration": 337,
    "start_time": "2022-02-07T11:30:52.006Z"
   },
   {
    "duration": 38,
    "start_time": "2022-02-07T11:31:02.355Z"
   },
   {
    "duration": 1105,
    "start_time": "2022-02-07T11:31:19.124Z"
   },
   {
    "duration": 43,
    "start_time": "2022-02-07T11:31:20.233Z"
   },
   {
    "duration": 20,
    "start_time": "2022-02-07T11:31:20.279Z"
   },
   {
    "duration": 70,
    "start_time": "2022-02-07T11:31:20.302Z"
   },
   {
    "duration": 405,
    "start_time": "2022-02-07T11:31:20.375Z"
   },
   {
    "duration": -43984,
    "start_time": "2022-02-07T11:32:04.768Z"
   },
   {
    "duration": -43989,
    "start_time": "2022-02-07T11:32:04.775Z"
   },
   {
    "duration": -43990,
    "start_time": "2022-02-07T11:32:04.778Z"
   },
   {
    "duration": -44000,
    "start_time": "2022-02-07T11:32:04.790Z"
   },
   {
    "duration": -44000,
    "start_time": "2022-02-07T11:32:04.793Z"
   },
   {
    "duration": -44001,
    "start_time": "2022-02-07T11:32:04.796Z"
   },
   {
    "duration": 301,
    "start_time": "2022-02-07T11:31:33.981Z"
   },
   {
    "duration": 971,
    "start_time": "2022-02-07T11:31:55.930Z"
   },
   {
    "duration": 63,
    "start_time": "2022-02-07T11:31:56.904Z"
   },
   {
    "duration": 27,
    "start_time": "2022-02-07T11:31:56.971Z"
   },
   {
    "duration": 82,
    "start_time": "2022-02-07T11:31:57.002Z"
   },
   {
    "duration": 462,
    "start_time": "2022-02-07T11:31:57.087Z"
   },
   {
    "duration": -44009,
    "start_time": "2022-02-07T11:32:41.561Z"
   },
   {
    "duration": -44010,
    "start_time": "2022-02-07T11:32:41.564Z"
   },
   {
    "duration": -44044,
    "start_time": "2022-02-07T11:32:41.599Z"
   },
   {
    "duration": -44045,
    "start_time": "2022-02-07T11:32:41.602Z"
   },
   {
    "duration": -44051,
    "start_time": "2022-02-07T11:32:41.609Z"
   },
   {
    "duration": -44052,
    "start_time": "2022-02-07T11:32:41.612Z"
   },
   {
    "duration": 1295,
    "start_time": "2022-02-07T11:33:09.242Z"
   },
   {
    "duration": 23,
    "start_time": "2022-02-07T11:34:14.231Z"
   },
   {
    "duration": 1354,
    "start_time": "2022-02-07T11:34:20.183Z"
   },
   {
    "duration": 763,
    "start_time": "2022-02-07T11:34:27.482Z"
   },
   {
    "duration": 37,
    "start_time": "2022-02-07T11:34:28.248Z"
   },
   {
    "duration": 29,
    "start_time": "2022-02-07T11:34:28.287Z"
   },
   {
    "duration": 67,
    "start_time": "2022-02-07T11:34:28.319Z"
   },
   {
    "duration": 451,
    "start_time": "2022-02-07T11:34:28.389Z"
   },
   {
    "duration": -44012,
    "start_time": "2022-02-07T11:35:12.856Z"
   },
   {
    "duration": -44012,
    "start_time": "2022-02-07T11:35:12.858Z"
   },
   {
    "duration": -44016,
    "start_time": "2022-02-07T11:35:12.864Z"
   },
   {
    "duration": -44018,
    "start_time": "2022-02-07T11:35:12.867Z"
   },
   {
    "duration": -44018,
    "start_time": "2022-02-07T11:35:12.869Z"
   },
   {
    "duration": -44040,
    "start_time": "2022-02-07T11:35:12.892Z"
   },
   {
    "duration": 1683,
    "start_time": "2022-02-07T11:34:44.616Z"
   },
   {
    "duration": 26,
    "start_time": "2022-02-07T11:35:16.790Z"
   },
   {
    "duration": 72,
    "start_time": "2022-02-07T11:36:33.752Z"
   },
   {
    "duration": 39,
    "start_time": "2022-02-07T11:37:12.747Z"
   },
   {
    "duration": 1062,
    "start_time": "2022-02-07T11:37:22.123Z"
   },
   {
    "duration": 36,
    "start_time": "2022-02-07T11:37:23.188Z"
   },
   {
    "duration": 36,
    "start_time": "2022-02-07T11:37:23.227Z"
   },
   {
    "duration": 41,
    "start_time": "2022-02-07T11:37:23.266Z"
   },
   {
    "duration": 548,
    "start_time": "2022-02-07T11:37:23.310Z"
   },
   {
    "duration": -44025,
    "start_time": "2022-02-07T11:38:07.887Z"
   },
   {
    "duration": -44027,
    "start_time": "2022-02-07T11:38:07.890Z"
   },
   {
    "duration": -44028,
    "start_time": "2022-02-07T11:38:07.893Z"
   },
   {
    "duration": -44030,
    "start_time": "2022-02-07T11:38:07.896Z"
   },
   {
    "duration": -44031,
    "start_time": "2022-02-07T11:38:07.899Z"
   },
   {
    "duration": -44037,
    "start_time": "2022-02-07T11:38:07.906Z"
   },
   {
    "duration": 328,
    "start_time": "2022-02-07T11:40:10.620Z"
   },
   {
    "duration": 317,
    "start_time": "2022-02-07T11:40:32.195Z"
   },
   {
    "duration": 357,
    "start_time": "2022-02-07T11:40:40.393Z"
   },
   {
    "duration": 46,
    "start_time": "2022-02-07T11:42:23.780Z"
   },
   {
    "duration": 345,
    "start_time": "2022-02-07T11:42:27.273Z"
   },
   {
    "duration": 390,
    "start_time": "2022-02-07T11:43:24.993Z"
   },
   {
    "duration": 40,
    "start_time": "2022-02-07T11:43:36.346Z"
   },
   {
    "duration": 289,
    "start_time": "2022-02-07T11:43:40.796Z"
   },
   {
    "duration": 794,
    "start_time": "2022-02-07T11:43:50.589Z"
   },
   {
    "duration": 36,
    "start_time": "2022-02-07T11:43:51.386Z"
   },
   {
    "duration": 42,
    "start_time": "2022-02-07T11:43:51.425Z"
   },
   {
    "duration": 45,
    "start_time": "2022-02-07T11:43:51.470Z"
   },
   {
    "duration": 533,
    "start_time": "2022-02-07T11:43:51.518Z"
   },
   {
    "duration": -43991,
    "start_time": "2022-02-07T11:44:36.046Z"
   },
   {
    "duration": -43996,
    "start_time": "2022-02-07T11:44:36.052Z"
   },
   {
    "duration": -43999,
    "start_time": "2022-02-07T11:44:36.056Z"
   },
   {
    "duration": -44000,
    "start_time": "2022-02-07T11:44:36.059Z"
   },
   {
    "duration": -44002,
    "start_time": "2022-02-07T11:44:36.062Z"
   },
   {
    "duration": -44014,
    "start_time": "2022-02-07T11:44:36.075Z"
   },
   {
    "duration": 26,
    "start_time": "2022-02-07T11:44:20.228Z"
   },
   {
    "duration": 874,
    "start_time": "2022-02-07T11:44:34.423Z"
   },
   {
    "duration": 37,
    "start_time": "2022-02-07T11:44:35.300Z"
   },
   {
    "duration": 30,
    "start_time": "2022-02-07T11:44:35.351Z"
   },
   {
    "duration": 23,
    "start_time": "2022-02-07T11:44:35.384Z"
   },
   {
    "duration": 4,
    "start_time": "2022-02-07T11:44:35.410Z"
   },
   {
    "duration": 60,
    "start_time": "2022-02-07T11:44:35.417Z"
   },
   {
    "duration": 73,
    "start_time": "2022-02-07T11:44:35.480Z"
   },
   {
    "duration": 22,
    "start_time": "2022-02-07T11:44:35.557Z"
   },
   {
    "duration": 15,
    "start_time": "2022-02-07T11:44:35.582Z"
   },
   {
    "duration": 65,
    "start_time": "2022-02-07T11:44:35.599Z"
   },
   {
    "duration": 37,
    "start_time": "2022-02-07T11:44:35.667Z"
   },
   {
    "duration": 5,
    "start_time": "2022-02-07T11:44:40.240Z"
   },
   {
    "duration": 510,
    "start_time": "2022-02-07T11:44:50.777Z"
   },
   {
    "duration": 806,
    "start_time": "2022-02-07T11:45:02.665Z"
   },
   {
    "duration": 38,
    "start_time": "2022-02-07T11:45:03.474Z"
   },
   {
    "duration": 44,
    "start_time": "2022-02-07T11:45:03.515Z"
   },
   {
    "duration": 23,
    "start_time": "2022-02-07T11:45:03.562Z"
   },
   {
    "duration": 26,
    "start_time": "2022-02-07T11:45:03.587Z"
   },
   {
    "duration": 29,
    "start_time": "2022-02-07T11:45:03.616Z"
   },
   {
    "duration": 42,
    "start_time": "2022-02-07T11:45:03.648Z"
   },
   {
    "duration": 17,
    "start_time": "2022-02-07T11:45:03.693Z"
   },
   {
    "duration": 41,
    "start_time": "2022-02-07T11:45:03.713Z"
   },
   {
    "duration": 21,
    "start_time": "2022-02-07T11:45:03.756Z"
   },
   {
    "duration": 43,
    "start_time": "2022-02-07T11:45:03.780Z"
   },
   {
    "duration": 403,
    "start_time": "2022-02-07T11:48:20.319Z"
   },
   {
    "duration": 837,
    "start_time": "2022-02-07T11:48:44.960Z"
   },
   {
    "duration": 48,
    "start_time": "2022-02-07T11:48:45.800Z"
   },
   {
    "duration": 22,
    "start_time": "2022-02-07T11:48:45.851Z"
   },
   {
    "duration": 24,
    "start_time": "2022-02-07T11:48:45.876Z"
   },
   {
    "duration": 5,
    "start_time": "2022-02-07T11:48:45.902Z"
   },
   {
    "duration": 24,
    "start_time": "2022-02-07T11:48:45.949Z"
   },
   {
    "duration": 46,
    "start_time": "2022-02-07T11:48:45.975Z"
   },
   {
    "duration": 39,
    "start_time": "2022-02-07T11:48:46.024Z"
   },
   {
    "duration": 17,
    "start_time": "2022-02-07T11:48:46.066Z"
   },
   {
    "duration": 21,
    "start_time": "2022-02-07T11:48:46.085Z"
   },
   {
    "duration": 72,
    "start_time": "2022-02-07T11:48:46.109Z"
   },
   {
    "duration": 5,
    "start_time": "2022-02-07T11:48:52.055Z"
   },
   {
    "duration": 956,
    "start_time": "2022-02-07T12:02:26.419Z"
   },
   {
    "duration": 837,
    "start_time": "2022-02-07T12:04:03.841Z"
   },
   {
    "duration": 783,
    "start_time": "2022-02-07T12:06:21.365Z"
   },
   {
    "duration": 111,
    "start_time": "2022-02-07T12:06:51.769Z"
   },
   {
    "duration": 740,
    "start_time": "2022-02-07T12:07:06.581Z"
   },
   {
    "duration": 8,
    "start_time": "2022-02-07T12:12:59.579Z"
   },
   {
    "duration": 8,
    "start_time": "2022-02-07T12:13:37.662Z"
   },
   {
    "duration": 7,
    "start_time": "2022-02-07T12:13:51.359Z"
   },
   {
    "duration": 7,
    "start_time": "2022-02-07T12:14:40.125Z"
   },
   {
    "duration": 9,
    "start_time": "2022-02-07T12:14:56.382Z"
   },
   {
    "duration": 361,
    "start_time": "2022-02-07T12:17:03.432Z"
   },
   {
    "duration": 300,
    "start_time": "2022-02-07T12:17:20.550Z"
   },
   {
    "duration": 322,
    "start_time": "2022-02-07T12:18:11.701Z"
   },
   {
    "duration": 8,
    "start_time": "2022-02-07T12:19:18.152Z"
   },
   {
    "duration": 9,
    "start_time": "2022-02-07T12:20:21.833Z"
   },
   {
    "duration": 10,
    "start_time": "2022-02-07T12:20:37.154Z"
   },
   {
    "duration": 16,
    "start_time": "2022-02-07T12:21:26.728Z"
   },
   {
    "duration": 15,
    "start_time": "2022-02-07T12:23:33.404Z"
   },
   {
    "duration": 293,
    "start_time": "2022-02-07T12:25:20.498Z"
   },
   {
    "duration": 274,
    "start_time": "2022-02-07T12:26:34.093Z"
   },
   {
    "duration": 7,
    "start_time": "2022-02-07T12:27:08.894Z"
   },
   {
    "duration": 9,
    "start_time": "2022-02-07T12:28:07.712Z"
   },
   {
    "duration": 20,
    "start_time": "2022-02-07T12:29:25.712Z"
   },
   {
    "duration": 31,
    "start_time": "2022-02-07T12:30:19.066Z"
   },
   {
    "duration": 291,
    "start_time": "2022-02-07T12:31:25.479Z"
   },
   {
    "duration": 413,
    "start_time": "2022-02-07T12:31:50.937Z"
   },
   {
    "duration": 22,
    "start_time": "2022-02-07T12:32:37.304Z"
   },
   {
    "duration": 403,
    "start_time": "2022-02-07T12:36:52.824Z"
   },
   {
    "duration": 331,
    "start_time": "2022-02-07T12:37:23.460Z"
   },
   {
    "duration": 317,
    "start_time": "2022-02-07T12:40:21.541Z"
   },
   {
    "duration": 823,
    "start_time": "2022-02-07T12:41:23.772Z"
   },
   {
    "duration": 293,
    "start_time": "2022-02-07T12:41:40.721Z"
   },
   {
    "duration": 21,
    "start_time": "2022-02-07T12:42:03.644Z"
   },
   {
    "duration": 28,
    "start_time": "2022-02-07T12:43:03.924Z"
   },
   {
    "duration": 31,
    "start_time": "2022-02-07T12:44:52.252Z"
   },
   {
    "duration": 294,
    "start_time": "2022-02-07T12:55:31.918Z"
   },
   {
    "duration": 812,
    "start_time": "2022-02-07T12:56:15.019Z"
   },
   {
    "duration": 300,
    "start_time": "2022-02-07T12:57:31.569Z"
   },
   {
    "duration": 817,
    "start_time": "2022-02-07T13:10:27.854Z"
   },
   {
    "duration": 808,
    "start_time": "2022-02-07T13:11:02.094Z"
   },
   {
    "duration": 24,
    "start_time": "2022-02-07T13:14:41.483Z"
   },
   {
    "duration": 31,
    "start_time": "2022-02-07T13:14:51.993Z"
   },
   {
    "duration": 7269,
    "start_time": "2022-02-07T13:16:21.124Z"
   },
   {
    "duration": 8641,
    "start_time": "2022-02-07T13:16:34.250Z"
   },
   {
    "duration": 341,
    "start_time": "2022-02-07T13:25:24.138Z"
   },
   {
    "duration": 802,
    "start_time": "2022-02-07T13:25:34.277Z"
   },
   {
    "duration": 38,
    "start_time": "2022-02-07T13:25:35.082Z"
   },
   {
    "duration": 40,
    "start_time": "2022-02-07T13:25:35.123Z"
   },
   {
    "duration": 22,
    "start_time": "2022-02-07T13:25:35.166Z"
   },
   {
    "duration": 5,
    "start_time": "2022-02-07T13:25:35.190Z"
   },
   {
    "duration": 52,
    "start_time": "2022-02-07T13:25:35.197Z"
   },
   {
    "duration": 42,
    "start_time": "2022-02-07T13:25:35.252Z"
   },
   {
    "duration": 18,
    "start_time": "2022-02-07T13:25:35.298Z"
   },
   {
    "duration": 43,
    "start_time": "2022-02-07T13:25:35.318Z"
   },
   {
    "duration": 22,
    "start_time": "2022-02-07T13:25:35.364Z"
   },
   {
    "duration": 64,
    "start_time": "2022-02-07T13:25:35.389Z"
   },
   {
    "duration": 7923,
    "start_time": "2022-02-07T13:25:35.456Z"
   },
   {
    "duration": -43970,
    "start_time": "2022-02-07T13:26:27.351Z"
   },
   {
    "duration": 308,
    "start_time": "2022-02-07T13:27:43.824Z"
   },
   {
    "duration": 3,
    "start_time": "2022-02-07T13:28:08.435Z"
   },
   {
    "duration": 23,
    "start_time": "2022-02-07T13:28:38.755Z"
   },
   {
    "duration": 308,
    "start_time": "2022-02-07T13:34:21.615Z"
   },
   {
    "duration": 404,
    "start_time": "2022-02-07T13:34:35.900Z"
   },
   {
    "duration": 367,
    "start_time": "2022-02-07T13:34:53.053Z"
   },
   {
    "duration": 332,
    "start_time": "2022-02-07T13:37:28.610Z"
   },
   {
    "duration": 48,
    "start_time": "2022-02-07T13:42:49.337Z"
   },
   {
    "duration": 61,
    "start_time": "2022-02-07T13:43:20.740Z"
   },
   {
    "duration": 286,
    "start_time": "2022-02-07T13:43:42.334Z"
   },
   {
    "duration": 332,
    "start_time": "2022-02-07T13:44:58.329Z"
   },
   {
    "duration": 415,
    "start_time": "2022-02-07T13:45:30.372Z"
   },
   {
    "duration": 28,
    "start_time": "2022-02-07T13:47:23.415Z"
   },
   {
    "duration": 27,
    "start_time": "2022-02-07T13:48:01.481Z"
   },
   {
    "duration": 606,
    "start_time": "2022-02-07T13:49:18.821Z"
   },
   {
    "duration": 19,
    "start_time": "2022-02-07T13:49:27.839Z"
   },
   {
    "duration": 132,
    "start_time": "2022-02-07T13:49:54.665Z"
   },
   {
    "duration": 42,
    "start_time": "2022-02-07T13:50:05.756Z"
   },
   {
    "duration": 52,
    "start_time": "2022-02-07T13:50:31.710Z"
   },
   {
    "duration": 200,
    "start_time": "2022-02-07T13:51:02.534Z"
   },
   {
    "duration": 17,
    "start_time": "2022-02-07T13:51:08.312Z"
   },
   {
    "duration": 21,
    "start_time": "2022-02-07T13:52:37.083Z"
   },
   {
    "duration": 22,
    "start_time": "2022-02-07T13:53:04.768Z"
   },
   {
    "duration": 25,
    "start_time": "2022-02-07T13:53:16.171Z"
   },
   {
    "duration": 92,
    "start_time": "2022-02-07T13:53:40.521Z"
   },
   {
    "duration": 25,
    "start_time": "2022-02-07T13:54:09.958Z"
   },
   {
    "duration": 19,
    "start_time": "2022-02-07T13:54:50.150Z"
   },
   {
    "duration": 19,
    "start_time": "2022-02-07T13:55:56.325Z"
   },
   {
    "duration": 722,
    "start_time": "2022-02-07T13:56:22.652Z"
   },
   {
    "duration": 96,
    "start_time": "2022-02-07T13:56:43.060Z"
   },
   {
    "duration": 18,
    "start_time": "2022-02-07T14:01:25.068Z"
   },
   {
    "duration": 292,
    "start_time": "2022-02-07T14:05:16.897Z"
   },
   {
    "duration": 95,
    "start_time": "2022-02-07T14:05:24.392Z"
   },
   {
    "duration": 20,
    "start_time": "2022-02-07T14:05:30.399Z"
   },
   {
    "duration": 763,
    "start_time": "2022-02-07T14:06:24.948Z"
   },
   {
    "duration": 279,
    "start_time": "2022-02-07T14:07:40.105Z"
   },
   {
    "duration": 394,
    "start_time": "2022-02-07T14:08:02.949Z"
   },
   {
    "duration": 2296,
    "start_time": "2022-02-07T14:09:25.944Z"
   },
   {
    "duration": 344,
    "start_time": "2022-02-07T14:09:36.708Z"
   },
   {
    "duration": 104,
    "start_time": "2022-02-07T14:15:13.967Z"
   },
   {
    "duration": 98,
    "start_time": "2022-02-07T14:15:27.140Z"
   },
   {
    "duration": 19,
    "start_time": "2022-02-07T14:20:59.911Z"
   },
   {
    "duration": 314,
    "start_time": "2022-02-07T14:26:12.403Z"
   },
   {
    "duration": 371,
    "start_time": "2022-02-07T14:26:32.962Z"
   },
   {
    "duration": 482,
    "start_time": "2022-02-07T14:35:57.940Z"
   },
   {
    "duration": 57,
    "start_time": "2022-02-07T14:36:17.608Z"
   },
   {
    "duration": 68,
    "start_time": "2022-02-07T14:37:26.882Z"
   },
   {
    "duration": 95,
    "start_time": "2022-02-07T14:37:48.390Z"
   },
   {
    "duration": 308,
    "start_time": "2022-02-07T14:37:56.973Z"
   },
   {
    "duration": 476,
    "start_time": "2022-02-07T14:38:29.358Z"
   },
   {
    "duration": 93,
    "start_time": "2022-02-07T14:39:45.719Z"
   },
   {
    "duration": 20,
    "start_time": "2022-02-07T14:39:52.120Z"
   },
   {
    "duration": 17,
    "start_time": "2022-02-07T14:40:10.104Z"
   },
   {
    "duration": 18,
    "start_time": "2022-02-07T14:43:46.590Z"
   },
   {
    "duration": 17,
    "start_time": "2022-02-07T14:44:08.212Z"
   },
   {
    "duration": 18,
    "start_time": "2022-02-07T14:48:21.824Z"
   },
   {
    "duration": 394,
    "start_time": "2022-02-07T14:49:28.136Z"
   },
   {
    "duration": 336,
    "start_time": "2022-02-07T14:49:39.539Z"
   },
   {
    "duration": 106,
    "start_time": "2022-02-07T14:50:29.303Z"
   },
   {
    "duration": 17,
    "start_time": "2022-02-07T14:50:35.398Z"
   },
   {
    "duration": 17,
    "start_time": "2022-02-07T14:52:17.321Z"
   },
   {
    "duration": 22,
    "start_time": "2022-02-07T14:52:27.499Z"
   },
   {
    "duration": 20,
    "start_time": "2022-02-07T14:53:51.967Z"
   },
   {
    "duration": 23,
    "start_time": "2022-02-07T14:54:11.957Z"
   },
   {
    "duration": 22,
    "start_time": "2022-02-07T14:54:33.915Z"
   },
   {
    "duration": 286,
    "start_time": "2022-02-07T14:54:41.534Z"
   },
   {
    "duration": 18,
    "start_time": "2022-02-07T14:54:47.908Z"
   },
   {
    "duration": 839,
    "start_time": "2022-02-07T14:55:09.913Z"
   },
   {
    "duration": 36,
    "start_time": "2022-02-07T14:55:10.755Z"
   },
   {
    "duration": 26,
    "start_time": "2022-02-07T14:55:10.795Z"
   },
   {
    "duration": 43,
    "start_time": "2022-02-07T14:55:10.824Z"
   },
   {
    "duration": 5,
    "start_time": "2022-02-07T14:55:10.869Z"
   },
   {
    "duration": 27,
    "start_time": "2022-02-07T14:55:10.876Z"
   },
   {
    "duration": 73,
    "start_time": "2022-02-07T14:55:10.905Z"
   },
   {
    "duration": 19,
    "start_time": "2022-02-07T14:55:10.982Z"
   },
   {
    "duration": 15,
    "start_time": "2022-02-07T14:55:11.003Z"
   },
   {
    "duration": 46,
    "start_time": "2022-02-07T14:55:11.020Z"
   },
   {
    "duration": 39,
    "start_time": "2022-02-07T14:55:11.068Z"
   },
   {
    "duration": 46,
    "start_time": "2022-02-07T14:55:11.110Z"
   },
   {
    "duration": 16,
    "start_time": "2022-02-07T14:55:11.158Z"
   },
   {
    "duration": 18,
    "start_time": "2022-02-07T14:55:11.176Z"
   },
   {
    "duration": 16,
    "start_time": "2022-02-07T14:55:11.196Z"
   },
   {
    "duration": 19,
    "start_time": "2022-02-07T14:56:07.610Z"
   },
   {
    "duration": 20,
    "start_time": "2022-02-07T14:56:41.325Z"
   },
   {
    "duration": 17,
    "start_time": "2022-02-07T14:57:08.835Z"
   },
   {
    "duration": 103,
    "start_time": "2022-02-07T16:24:51.949Z"
   },
   {
    "duration": 108,
    "start_time": "2022-02-07T16:25:46.811Z"
   },
   {
    "duration": 5,
    "start_time": "2022-02-07T16:26:27.468Z"
   },
   {
    "duration": 102,
    "start_time": "2022-02-07T16:27:08.304Z"
   },
   {
    "duration": 508,
    "start_time": "2022-02-07T16:27:22.026Z"
   },
   {
    "duration": 310,
    "start_time": "2022-02-07T16:31:26.394Z"
   },
   {
    "duration": 701,
    "start_time": "2022-02-07T16:34:41.096Z"
   },
   {
    "duration": 1005,
    "start_time": "2022-02-07T16:34:52.130Z"
   },
   {
    "duration": 818,
    "start_time": "2022-02-07T16:35:01.373Z"
   },
   {
    "duration": 169,
    "start_time": "2022-02-07T16:35:48.597Z"
   },
   {
    "duration": 88,
    "start_time": "2022-02-07T16:35:59.175Z"
   },
   {
    "duration": 939,
    "start_time": "2022-02-07T16:36:56.167Z"
   },
   {
    "duration": 88,
    "start_time": "2022-02-07T16:37:28.293Z"
   },
   {
    "duration": 6,
    "start_time": "2022-02-07T16:37:34.179Z"
   },
   {
    "duration": 94,
    "start_time": "2022-02-07T16:39:19.713Z"
   },
   {
    "duration": 143,
    "start_time": "2022-02-07T16:40:07.820Z"
   },
   {
    "duration": 317,
    "start_time": "2022-02-07T16:40:14.904Z"
   },
   {
    "duration": 372,
    "start_time": "2022-02-07T16:42:29.278Z"
   },
   {
    "duration": 341,
    "start_time": "2022-02-07T16:43:12.992Z"
   },
   {
    "duration": 360,
    "start_time": "2022-02-07T16:43:34.683Z"
   },
   {
    "duration": 295,
    "start_time": "2022-02-07T16:43:39.379Z"
   },
   {
    "duration": 304,
    "start_time": "2022-02-07T16:44:06.885Z"
   },
   {
    "duration": 326,
    "start_time": "2022-02-07T16:44:55.217Z"
   },
   {
    "duration": 930,
    "start_time": "2022-02-07T16:45:15.764Z"
   },
   {
    "duration": 300,
    "start_time": "2022-02-07T16:45:40.625Z"
   },
   {
    "duration": 12,
    "start_time": "2022-02-07T16:48:51.435Z"
   },
   {
    "duration": 18,
    "start_time": "2022-02-07T16:49:30.961Z"
   },
   {
    "duration": 1118,
    "start_time": "2022-02-07T16:50:00.368Z"
   },
   {
    "duration": 1804,
    "start_time": "2022-02-07T16:51:00.826Z"
   },
   {
    "duration": 826,
    "start_time": "2022-02-07T16:51:20.937Z"
   },
   {
    "duration": 37,
    "start_time": "2022-02-07T16:51:21.765Z"
   },
   {
    "duration": 21,
    "start_time": "2022-02-07T16:51:21.805Z"
   },
   {
    "duration": 27,
    "start_time": "2022-02-07T16:51:21.849Z"
   },
   {
    "duration": 18,
    "start_time": "2022-02-07T16:51:21.879Z"
   },
   {
    "duration": 5,
    "start_time": "2022-02-07T16:51:21.899Z"
   },
   {
    "duration": 54,
    "start_time": "2022-02-07T16:51:21.906Z"
   },
   {
    "duration": 43,
    "start_time": "2022-02-07T16:51:21.963Z"
   },
   {
    "duration": 19,
    "start_time": "2022-02-07T16:51:22.009Z"
   },
   {
    "duration": 15,
    "start_time": "2022-02-07T16:51:22.049Z"
   },
   {
    "duration": 21,
    "start_time": "2022-02-07T16:51:22.067Z"
   },
   {
    "duration": 74,
    "start_time": "2022-02-07T16:51:22.091Z"
   },
   {
    "duration": 20,
    "start_time": "2022-02-07T16:51:22.167Z"
   },
   {
    "duration": 21,
    "start_time": "2022-02-07T16:51:22.190Z"
   },
   {
    "duration": 54,
    "start_time": "2022-02-07T16:51:22.215Z"
   },
   {
    "duration": 26,
    "start_time": "2022-02-07T16:51:22.272Z"
   },
   {
    "duration": 388,
    "start_time": "2022-02-07T16:51:49.999Z"
   },
   {
    "duration": 1106,
    "start_time": "2022-02-07T16:54:59.228Z"
   },
   {
    "duration": 92,
    "start_time": "2022-02-07T16:55:37.723Z"
   },
   {
    "duration": 1164,
    "start_time": "2022-02-07T16:55:45.639Z"
   },
   {
    "duration": 96,
    "start_time": "2022-02-07T16:59:28.289Z"
   },
   {
    "duration": 114,
    "start_time": "2022-02-07T16:59:42.700Z"
   },
   {
    "duration": 103,
    "start_time": "2022-02-07T16:59:53.723Z"
   },
   {
    "duration": 98,
    "start_time": "2022-02-07T17:00:46.702Z"
   },
   {
    "duration": 275,
    "start_time": "2022-02-07T17:01:18.101Z"
   },
   {
    "duration": 349,
    "start_time": "2022-02-07T17:01:29.315Z"
   },
   {
    "duration": 510,
    "start_time": "2022-02-07T17:02:01.298Z"
   },
   {
    "duration": 336,
    "start_time": "2022-02-07T17:04:13.376Z"
   },
   {
    "duration": 6842,
    "start_time": "2022-02-07T17:04:38.117Z"
   },
   {
    "duration": 8682,
    "start_time": "2022-02-07T17:04:57.181Z"
   },
   {
    "duration": 319,
    "start_time": "2022-02-07T17:05:26.100Z"
   },
   {
    "duration": 383,
    "start_time": "2022-02-07T17:05:50.787Z"
   },
   {
    "duration": 395,
    "start_time": "2022-02-07T17:06:06.778Z"
   },
   {
    "duration": 34,
    "start_time": "2022-02-07T17:06:47.119Z"
   },
   {
    "duration": 4,
    "start_time": "2022-02-07T17:06:55.706Z"
   },
   {
    "duration": 804,
    "start_time": "2022-02-08T07:08:12.454Z"
   },
   {
    "duration": 37,
    "start_time": "2022-02-08T07:08:13.261Z"
   },
   {
    "duration": 47,
    "start_time": "2022-02-08T07:08:13.301Z"
   },
   {
    "duration": 23,
    "start_time": "2022-02-08T07:08:13.351Z"
   },
   {
    "duration": 5,
    "start_time": "2022-02-08T07:08:13.376Z"
   },
   {
    "duration": 28,
    "start_time": "2022-02-08T07:08:13.383Z"
   },
   {
    "duration": 71,
    "start_time": "2022-02-08T07:08:13.413Z"
   },
   {
    "duration": 16,
    "start_time": "2022-02-08T07:08:13.487Z"
   },
   {
    "duration": 15,
    "start_time": "2022-02-08T07:08:13.506Z"
   },
   {
    "duration": 44,
    "start_time": "2022-02-08T07:08:13.523Z"
   },
   {
    "duration": 35,
    "start_time": "2022-02-08T07:08:13.570Z"
   },
   {
    "duration": 48,
    "start_time": "2022-02-08T07:08:13.607Z"
   },
   {
    "duration": 16,
    "start_time": "2022-02-08T07:08:13.658Z"
   },
   {
    "duration": 27,
    "start_time": "2022-02-08T07:08:13.676Z"
   },
   {
    "duration": 17,
    "start_time": "2022-02-08T07:08:13.706Z"
   },
   {
    "duration": 94,
    "start_time": "2022-02-08T07:08:13.749Z"
   },
   {
    "duration": -44713,
    "start_time": "2022-02-08T07:08:58.558Z"
   },
   {
    "duration": 142,
    "start_time": "2022-02-08T07:08:19.893Z"
   },
   {
    "duration": 5,
    "start_time": "2022-02-08T07:11:22.910Z"
   },
   {
    "duration": 7,
    "start_time": "2022-02-08T07:12:19.220Z"
   },
   {
    "duration": -44741,
    "start_time": "2022-02-08T07:13:33.698Z"
   },
   {
    "duration": 7018,
    "start_time": "2022-02-08T07:13:06.093Z"
   },
   {
    "duration": 823,
    "start_time": "2022-02-08T07:13:47.155Z"
   },
   {
    "duration": 37,
    "start_time": "2022-02-08T07:13:47.980Z"
   },
   {
    "duration": 42,
    "start_time": "2022-02-08T07:13:48.020Z"
   },
   {
    "duration": 31,
    "start_time": "2022-02-08T07:13:48.065Z"
   },
   {
    "duration": 8,
    "start_time": "2022-02-08T07:13:48.099Z"
   },
   {
    "duration": 53,
    "start_time": "2022-02-08T07:13:48.110Z"
   },
   {
    "duration": 43,
    "start_time": "2022-02-08T07:13:48.166Z"
   },
   {
    "duration": 37,
    "start_time": "2022-02-08T07:13:48.212Z"
   },
   {
    "duration": 18,
    "start_time": "2022-02-08T07:13:48.252Z"
   },
   {
    "duration": 25,
    "start_time": "2022-02-08T07:13:48.272Z"
   },
   {
    "duration": 56,
    "start_time": "2022-02-08T07:13:48.300Z"
   },
   {
    "duration": 19,
    "start_time": "2022-02-08T07:13:48.358Z"
   },
   {
    "duration": 16,
    "start_time": "2022-02-08T07:13:48.379Z"
   },
   {
    "duration": 17,
    "start_time": "2022-02-08T07:13:48.397Z"
   },
   {
    "duration": 18,
    "start_time": "2022-02-08T07:13:48.448Z"
   },
   {
    "duration": 118,
    "start_time": "2022-02-08T07:13:48.469Z"
   },
   {
    "duration": 17,
    "start_time": "2022-02-08T07:17:50.215Z"
   },
   {
    "duration": 16,
    "start_time": "2022-02-08T07:18:06.828Z"
   },
   {
    "duration": 17,
    "start_time": "2022-02-08T07:18:23.039Z"
   },
   {
    "duration": 17,
    "start_time": "2022-02-08T07:19:07.486Z"
   },
   {
    "duration": 17,
    "start_time": "2022-02-08T07:19:10.296Z"
   },
   {
    "duration": 20,
    "start_time": "2022-02-08T07:19:13.019Z"
   },
   {
    "duration": 883,
    "start_time": "2022-02-13T12:46:27.309Z"
   },
   {
    "duration": 63,
    "start_time": "2022-02-13T12:46:28.196Z"
   },
   {
    "duration": 28,
    "start_time": "2022-02-13T12:46:28.263Z"
   },
   {
    "duration": 52,
    "start_time": "2022-02-13T12:46:28.294Z"
   },
   {
    "duration": 10,
    "start_time": "2022-02-13T12:46:28.349Z"
   },
   {
    "duration": 31,
    "start_time": "2022-02-13T12:46:28.361Z"
   },
   {
    "duration": 87,
    "start_time": "2022-02-13T12:46:28.395Z"
   },
   {
    "duration": 36,
    "start_time": "2022-02-13T12:46:28.487Z"
   },
   {
    "duration": 23,
    "start_time": "2022-02-13T12:46:28.528Z"
   },
   {
    "duration": 33,
    "start_time": "2022-02-13T12:46:28.555Z"
   },
   {
    "duration": 64,
    "start_time": "2022-02-13T12:46:28.591Z"
   },
   {
    "duration": 25,
    "start_time": "2022-02-13T12:46:28.660Z"
   },
   {
    "duration": 51,
    "start_time": "2022-02-13T12:46:28.688Z"
   },
   {
    "duration": 20,
    "start_time": "2022-02-13T12:46:28.742Z"
   },
   {
    "duration": 61,
    "start_time": "2022-02-13T12:46:28.764Z"
   },
   {
    "duration": 303,
    "start_time": "2022-02-13T13:15:54.524Z"
   },
   {
    "duration": 801,
    "start_time": "2022-02-13T13:16:09.592Z"
   },
   {
    "duration": 41,
    "start_time": "2022-02-13T13:16:10.395Z"
   },
   {
    "duration": 22,
    "start_time": "2022-02-13T13:16:10.439Z"
   },
   {
    "duration": 23,
    "start_time": "2022-02-13T13:16:10.464Z"
   },
   {
    "duration": 44,
    "start_time": "2022-02-13T13:16:10.489Z"
   },
   {
    "duration": 23,
    "start_time": "2022-02-13T13:16:10.535Z"
   },
   {
    "duration": 44,
    "start_time": "2022-02-13T13:16:10.560Z"
   },
   {
    "duration": 19,
    "start_time": "2022-02-13T13:16:10.635Z"
   },
   {
    "duration": 16,
    "start_time": "2022-02-13T13:16:10.658Z"
   },
   {
    "duration": 20,
    "start_time": "2022-02-13T13:16:10.677Z"
   },
   {
    "duration": 85,
    "start_time": "2022-02-13T13:16:10.700Z"
   },
   {
    "duration": 55,
    "start_time": "2022-02-13T13:16:10.788Z"
   },
   {
    "duration": 5,
    "start_time": "2022-02-13T13:16:10.846Z"
   },
   {
    "duration": 20,
    "start_time": "2022-02-13T13:16:10.853Z"
   },
   {
    "duration": 57,
    "start_time": "2022-02-13T13:16:10.875Z"
   },
   {
    "duration": 20,
    "start_time": "2022-02-13T13:16:10.934Z"
   },
   {
    "duration": 11,
    "start_time": "2022-02-13T13:21:56.161Z"
   },
   {
    "duration": 8,
    "start_time": "2022-02-13T13:22:25.882Z"
   },
   {
    "duration": 7,
    "start_time": "2022-02-13T13:22:42.005Z"
   },
   {
    "duration": 77,
    "start_time": "2022-02-13T13:27:37.702Z"
   },
   {
    "duration": 23,
    "start_time": "2022-02-13T13:27:46.039Z"
   },
   {
    "duration": 23,
    "start_time": "2022-02-13T13:29:22.883Z"
   },
   {
    "duration": 19,
    "start_time": "2022-02-13T13:29:33.147Z"
   },
   {
    "duration": 19,
    "start_time": "2022-02-13T13:30:26.447Z"
   },
   {
    "duration": 20,
    "start_time": "2022-02-13T13:31:53.688Z"
   },
   {
    "duration": 21,
    "start_time": "2022-02-13T13:32:03.476Z"
   },
   {
    "duration": 21,
    "start_time": "2022-02-13T13:33:45.991Z"
   },
   {
    "duration": 23,
    "start_time": "2022-02-13T13:34:37.616Z"
   },
   {
    "duration": 77,
    "start_time": "2022-02-13T15:02:16.693Z"
   },
   {
    "duration": 328,
    "start_time": "2022-02-13T15:09:08.668Z"
   },
   {
    "duration": 852,
    "start_time": "2022-02-13T15:09:20.191Z"
   },
   {
    "duration": 38,
    "start_time": "2022-02-13T15:09:21.046Z"
   },
   {
    "duration": 531,
    "start_time": "2022-02-13T15:09:21.088Z"
   },
   {
    "duration": 327,
    "start_time": "2022-02-13T15:09:21.622Z"
   },
   {
    "duration": 432,
    "start_time": "2022-02-13T15:09:21.951Z"
   },
   {
    "duration": 750,
    "start_time": "2022-02-13T15:09:22.386Z"
   },
   {
    "duration": 443,
    "start_time": "2022-02-13T15:09:23.139Z"
   },
   {
    "duration": 303,
    "start_time": "2022-02-13T15:09:23.587Z"
   },
   {
    "duration": 457,
    "start_time": "2022-02-13T15:09:23.893Z"
   },
   {
    "duration": 317,
    "start_time": "2022-02-13T15:09:24.353Z"
   },
   {
    "duration": 324,
    "start_time": "2022-02-13T15:09:24.673Z"
   },
   {
    "duration": 426,
    "start_time": "2022-02-13T15:09:25.000Z"
   },
   {
    "duration": 245,
    "start_time": "2022-02-13T15:09:25.429Z"
   },
   {
    "duration": 390,
    "start_time": "2022-02-13T15:09:25.677Z"
   },
   {
    "duration": 288,
    "start_time": "2022-02-13T15:09:26.069Z"
   },
   {
    "duration": 419,
    "start_time": "2022-02-13T15:09:26.360Z"
   },
   {
    "duration": 24,
    "start_time": "2022-02-13T15:10:06.802Z"
   },
   {
    "duration": 135,
    "start_time": "2022-02-13T15:15:32.501Z"
   },
   {
    "duration": 29,
    "start_time": "2022-02-13T15:15:46.221Z"
   },
   {
    "duration": 29,
    "start_time": "2022-02-13T15:16:41.947Z"
   },
   {
    "duration": 42,
    "start_time": "2022-02-13T15:17:04.548Z"
   },
   {
    "duration": 35,
    "start_time": "2022-02-13T15:17:21.957Z"
   },
   {
    "duration": 32,
    "start_time": "2022-02-13T15:17:52.458Z"
   },
   {
    "duration": 48,
    "start_time": "2022-02-13T15:18:31.574Z"
   },
   {
    "duration": 29,
    "start_time": "2022-02-13T15:19:19.733Z"
   },
   {
    "duration": 8,
    "start_time": "2022-02-13T16:07:28.721Z"
   },
   {
    "duration": 814,
    "start_time": "2022-02-13T16:09:03.639Z"
   },
   {
    "duration": 38,
    "start_time": "2022-02-13T16:09:04.456Z"
   },
   {
    "duration": 127,
    "start_time": "2022-02-13T16:09:04.497Z"
   },
   {
    "duration": 128,
    "start_time": "2022-02-13T16:09:04.627Z"
   },
   {
    "duration": 248,
    "start_time": "2022-02-13T16:09:04.758Z"
   },
   {
    "duration": 213,
    "start_time": "2022-02-13T16:09:05.009Z"
   },
   {
    "duration": 263,
    "start_time": "2022-02-13T16:09:05.225Z"
   },
   {
    "duration": 255,
    "start_time": "2022-02-13T16:09:05.492Z"
   },
   {
    "duration": 91,
    "start_time": "2022-02-13T16:09:05.750Z"
   },
   {
    "duration": 103,
    "start_time": "2022-02-13T16:09:05.843Z"
   },
   {
    "duration": 214,
    "start_time": "2022-02-13T16:09:05.950Z"
   },
   {
    "duration": 458,
    "start_time": "2022-02-13T16:09:06.167Z"
   },
   {
    "duration": 193,
    "start_time": "2022-02-13T16:09:06.628Z"
   },
   {
    "duration": 190,
    "start_time": "2022-02-13T16:09:06.824Z"
   },
   {
    "duration": 258,
    "start_time": "2022-02-13T16:09:07.017Z"
   },
   {
    "duration": 139,
    "start_time": "2022-02-13T16:09:07.278Z"
   },
   {
    "duration": 1032,
    "start_time": "2022-02-13T16:16:04.782Z"
   },
   {
    "duration": 48,
    "start_time": "2022-02-13T16:16:05.816Z"
   },
   {
    "duration": 346,
    "start_time": "2022-02-13T16:16:05.867Z"
   },
   {
    "duration": 283,
    "start_time": "2022-02-13T16:16:06.216Z"
   },
   {
    "duration": 606,
    "start_time": "2022-02-13T16:16:06.502Z"
   },
   {
    "duration": 263,
    "start_time": "2022-02-13T16:16:07.110Z"
   },
   {
    "duration": 405,
    "start_time": "2022-02-13T16:16:07.376Z"
   },
   {
    "duration": 581,
    "start_time": "2022-02-13T16:16:07.786Z"
   },
   {
    "duration": 650,
    "start_time": "2022-02-13T16:16:08.371Z"
   },
   {
    "duration": 369,
    "start_time": "2022-02-13T16:16:09.024Z"
   },
   {
    "duration": 336,
    "start_time": "2022-02-13T16:16:09.396Z"
   },
   {
    "duration": 451,
    "start_time": "2022-02-13T16:16:09.735Z"
   },
   {
    "duration": 1103,
    "start_time": "2022-02-13T16:16:10.189Z"
   },
   {
    "duration": 920,
    "start_time": "2022-02-13T16:16:11.294Z"
   },
   {
    "duration": 1012,
    "start_time": "2022-02-13T16:16:12.217Z"
   },
   {
    "duration": 834,
    "start_time": "2022-02-13T16:16:13.232Z"
   },
   {
    "duration": 807,
    "start_time": "2022-02-14T13:44:47.421Z"
   },
   {
    "duration": 28,
    "start_time": "2022-02-14T13:44:48.230Z"
   },
   {
    "duration": 16,
    "start_time": "2022-02-14T13:44:48.260Z"
   },
   {
    "duration": 14,
    "start_time": "2022-02-14T13:44:48.278Z"
   },
   {
    "duration": 43,
    "start_time": "2022-02-14T13:44:48.294Z"
   },
   {
    "duration": 6,
    "start_time": "2022-02-14T13:44:48.339Z"
   },
   {
    "duration": 19,
    "start_time": "2022-02-14T13:44:48.346Z"
   },
   {
    "duration": 40,
    "start_time": "2022-02-14T13:44:48.368Z"
   },
   {
    "duration": 35,
    "start_time": "2022-02-14T13:44:48.410Z"
   },
   {
    "duration": 12,
    "start_time": "2022-02-14T13:44:48.447Z"
   },
   {
    "duration": 20,
    "start_time": "2022-02-14T13:44:48.461Z"
   },
   {
    "duration": 61,
    "start_time": "2022-02-14T13:44:48.483Z"
   },
   {
    "duration": 20,
    "start_time": "2022-02-14T13:44:49.491Z"
   },
   {
    "duration": 4,
    "start_time": "2022-02-14T13:44:55.120Z"
   },
   {
    "duration": 355,
    "start_time": "2022-02-14T15:57:48.599Z"
   },
   {
    "duration": 250,
    "start_time": "2022-02-14T15:57:57.686Z"
   },
   {
    "duration": 761,
    "start_time": "2022-02-14T15:58:05.005Z"
   },
   {
    "duration": 32,
    "start_time": "2022-02-14T15:58:05.768Z"
   },
   {
    "duration": 21,
    "start_time": "2022-02-14T15:58:05.809Z"
   },
   {
    "duration": 26,
    "start_time": "2022-02-14T15:58:05.832Z"
   },
   {
    "duration": 48,
    "start_time": "2022-02-14T15:58:05.860Z"
   },
   {
    "duration": 9,
    "start_time": "2022-02-14T15:58:05.910Z"
   },
   {
    "duration": 41,
    "start_time": "2022-02-14T15:58:05.921Z"
   },
   {
    "duration": 56,
    "start_time": "2022-02-14T15:58:05.965Z"
   },
   {
    "duration": 15,
    "start_time": "2022-02-14T15:58:06.023Z"
   },
   {
    "duration": 21,
    "start_time": "2022-02-14T15:58:06.041Z"
   },
   {
    "duration": 46,
    "start_time": "2022-02-14T15:58:06.064Z"
   },
   {
    "duration": 63,
    "start_time": "2022-02-14T15:58:06.112Z"
   },
   {
    "duration": 32,
    "start_time": "2022-02-14T15:58:06.177Z"
   },
   {
    "duration": 4,
    "start_time": "2022-02-14T15:58:06.212Z"
   },
   {
    "duration": 27,
    "start_time": "2022-02-14T15:58:06.219Z"
   },
   {
    "duration": 40,
    "start_time": "2022-02-14T15:58:06.248Z"
   },
   {
    "duration": 26,
    "start_time": "2022-02-14T15:58:06.290Z"
   },
   {
    "duration": 5,
    "start_time": "2022-02-14T15:58:52.239Z"
   },
   {
    "duration": 9,
    "start_time": "2022-02-14T16:18:18.954Z"
   },
   {
    "duration": 313,
    "start_time": "2022-02-14T16:23:11.339Z"
   },
   {
    "duration": 7,
    "start_time": "2022-02-14T16:23:41.230Z"
   },
   {
    "duration": -46662,
    "start_time": "2022-02-14T16:24:57.430Z"
   },
   {
    "duration": 6,
    "start_time": "2022-02-14T16:24:23.261Z"
   },
   {
    "duration": 85,
    "start_time": "2022-02-14T16:25:41.714Z"
   },
   {
    "duration": 80,
    "start_time": "2022-02-14T16:25:56.908Z"
   },
   {
    "duration": 98,
    "start_time": "2022-02-14T16:26:13.021Z"
   },
   {
    "duration": 16,
    "start_time": "2022-02-14T16:26:18.893Z"
   },
   {
    "duration": 240,
    "start_time": "2022-02-14T16:26:42.728Z"
   },
   {
    "duration": 718,
    "start_time": "2022-02-14T16:27:09.988Z"
   },
   {
    "duration": 29,
    "start_time": "2022-02-14T16:27:10.716Z"
   },
   {
    "duration": 345,
    "start_time": "2022-02-14T16:27:10.748Z"
   },
   {
    "duration": -46618,
    "start_time": "2022-02-14T16:27:57.713Z"
   },
   {
    "duration": -46620,
    "start_time": "2022-02-14T16:27:57.716Z"
   },
   {
    "duration": -46626,
    "start_time": "2022-02-14T16:27:57.724Z"
   },
   {
    "duration": -46630,
    "start_time": "2022-02-14T16:27:57.729Z"
   },
   {
    "duration": -46633,
    "start_time": "2022-02-14T16:27:57.733Z"
   },
   {
    "duration": -46641,
    "start_time": "2022-02-14T16:27:57.742Z"
   },
   {
    "duration": -46644,
    "start_time": "2022-02-14T16:27:57.746Z"
   },
   {
    "duration": -46649,
    "start_time": "2022-02-14T16:27:57.752Z"
   },
   {
    "duration": -46655,
    "start_time": "2022-02-14T16:27:57.760Z"
   },
   {
    "duration": -46660,
    "start_time": "2022-02-14T16:27:57.765Z"
   },
   {
    "duration": -46667,
    "start_time": "2022-02-14T16:27:57.774Z"
   },
   {
    "duration": -46670,
    "start_time": "2022-02-14T16:27:57.778Z"
   },
   {
    "duration": -46673,
    "start_time": "2022-02-14T16:27:57.782Z"
   },
   {
    "duration": -46679,
    "start_time": "2022-02-14T16:27:57.789Z"
   },
   {
    "duration": -46678,
    "start_time": "2022-02-14T16:27:57.793Z"
   },
   {
    "duration": 269,
    "start_time": "2022-02-14T16:27:44.790Z"
   },
   {
    "duration": 25,
    "start_time": "2022-02-14T16:28:30.394Z"
   },
   {
    "duration": 25,
    "start_time": "2022-02-14T16:28:38.574Z"
   },
   {
    "duration": 8,
    "start_time": "2022-02-14T16:30:05.077Z"
   },
   {
    "duration": 9,
    "start_time": "2022-02-14T16:31:49.096Z"
   },
   {
    "duration": 684,
    "start_time": "2022-02-14T16:32:11.434Z"
   },
   {
    "duration": 27,
    "start_time": "2022-02-14T16:32:12.120Z"
   },
   {
    "duration": 7,
    "start_time": "2022-02-14T16:32:12.151Z"
   },
   {
    "duration": 18,
    "start_time": "2022-02-14T16:32:12.161Z"
   },
   {
    "duration": 42,
    "start_time": "2022-02-14T16:32:12.181Z"
   },
   {
    "duration": 16,
    "start_time": "2022-02-14T16:32:12.225Z"
   },
   {
    "duration": 7,
    "start_time": "2022-02-14T16:32:12.243Z"
   },
   {
    "duration": 32,
    "start_time": "2022-02-14T16:32:12.253Z"
   },
   {
    "duration": 38,
    "start_time": "2022-02-14T16:32:12.307Z"
   },
   {
    "duration": 15,
    "start_time": "2022-02-14T16:32:12.347Z"
   },
   {
    "duration": 13,
    "start_time": "2022-02-14T16:32:12.364Z"
   },
   {
    "duration": 36,
    "start_time": "2022-02-14T16:32:12.379Z"
   },
   {
    "duration": 18,
    "start_time": "2022-02-14T16:32:12.417Z"
   },
   {
    "duration": 28,
    "start_time": "2022-02-14T16:32:12.437Z"
   },
   {
    "duration": 49,
    "start_time": "2022-02-14T16:32:12.467Z"
   },
   {
    "duration": 4,
    "start_time": "2022-02-14T16:32:12.519Z"
   },
   {
    "duration": 23,
    "start_time": "2022-02-14T16:32:12.526Z"
   },
   {
    "duration": 19,
    "start_time": "2022-02-14T16:32:12.552Z"
   },
   {
    "duration": 46,
    "start_time": "2022-02-14T16:32:12.573Z"
   },
   {
    "duration": 83,
    "start_time": "2022-02-14T16:37:32.314Z"
   },
   {
    "duration": 697,
    "start_time": "2022-02-14T16:37:44.030Z"
   },
   {
    "duration": 26,
    "start_time": "2022-02-14T16:37:44.729Z"
   },
   {
    "duration": 76,
    "start_time": "2022-02-14T16:37:44.757Z"
   },
   {
    "duration": -46718,
    "start_time": "2022-02-14T16:38:31.554Z"
   },
   {
    "duration": -46721,
    "start_time": "2022-02-14T16:38:31.558Z"
   },
   {
    "duration": -46728,
    "start_time": "2022-02-14T16:38:31.567Z"
   },
   {
    "duration": -46732,
    "start_time": "2022-02-14T16:38:31.572Z"
   },
   {
    "duration": -46738,
    "start_time": "2022-02-14T16:38:31.580Z"
   },
   {
    "duration": -46740,
    "start_time": "2022-02-14T16:38:31.584Z"
   },
   {
    "duration": -46743,
    "start_time": "2022-02-14T16:38:31.588Z"
   },
   {
    "duration": -46747,
    "start_time": "2022-02-14T16:38:31.594Z"
   },
   {
    "duration": -46748,
    "start_time": "2022-02-14T16:38:31.597Z"
   },
   {
    "duration": -46751,
    "start_time": "2022-02-14T16:38:31.601Z"
   },
   {
    "duration": -46753,
    "start_time": "2022-02-14T16:38:31.605Z"
   },
   {
    "duration": -46755,
    "start_time": "2022-02-14T16:38:31.608Z"
   },
   {
    "duration": -46760,
    "start_time": "2022-02-14T16:38:31.615Z"
   },
   {
    "duration": -46760,
    "start_time": "2022-02-14T16:38:31.617Z"
   },
   {
    "duration": -46762,
    "start_time": "2022-02-14T16:38:31.620Z"
   },
   {
    "duration": 7,
    "start_time": "2022-02-14T16:37:58.900Z"
   },
   {
    "duration": 8,
    "start_time": "2022-02-14T16:49:59.164Z"
   },
   {
    "duration": 4,
    "start_time": "2022-02-14T16:50:53.183Z"
   },
   {
    "duration": 4,
    "start_time": "2022-02-14T16:51:05.594Z"
   },
   {
    "duration": 822,
    "start_time": "2022-02-14T16:51:20.388Z"
   },
   {
    "duration": 37,
    "start_time": "2022-02-14T16:51:21.213Z"
   },
   {
    "duration": 10,
    "start_time": "2022-02-14T16:51:21.253Z"
   },
   {
    "duration": 7,
    "start_time": "2022-02-14T16:51:21.265Z"
   },
   {
    "duration": 47,
    "start_time": "2022-02-14T16:51:21.274Z"
   },
   {
    "duration": 20,
    "start_time": "2022-02-14T16:51:21.323Z"
   },
   {
    "duration": 6,
    "start_time": "2022-02-14T16:51:21.345Z"
   },
   {
    "duration": 19,
    "start_time": "2022-02-14T16:51:21.354Z"
   },
   {
    "duration": 69,
    "start_time": "2022-02-14T16:51:21.376Z"
   },
   {
    "duration": 14,
    "start_time": "2022-02-14T16:51:21.447Z"
   },
   {
    "duration": 16,
    "start_time": "2022-02-14T16:51:21.463Z"
   },
   {
    "duration": 35,
    "start_time": "2022-02-14T16:51:21.481Z"
   },
   {
    "duration": 20,
    "start_time": "2022-02-14T16:51:21.518Z"
   },
   {
    "duration": 28,
    "start_time": "2022-02-14T16:51:21.541Z"
   },
   {
    "duration": 53,
    "start_time": "2022-02-14T16:51:21.572Z"
   },
   {
    "duration": 4,
    "start_time": "2022-02-14T16:51:21.628Z"
   },
   {
    "duration": 22,
    "start_time": "2022-02-14T16:51:21.635Z"
   },
   {
    "duration": 15,
    "start_time": "2022-02-14T16:51:21.659Z"
   },
   {
    "duration": 41,
    "start_time": "2022-02-14T16:51:21.676Z"
   },
   {
    "duration": 7,
    "start_time": "2022-02-14T16:52:07.171Z"
   },
   {
    "duration": 8,
    "start_time": "2022-02-14T16:52:42.309Z"
   },
   {
    "duration": 3,
    "start_time": "2022-02-14T16:53:20.201Z"
   },
   {
    "duration": 99,
    "start_time": "2022-02-14T16:58:56.844Z"
   },
   {
    "duration": 10,
    "start_time": "2022-02-14T16:59:23.091Z"
   },
   {
    "duration": 14,
    "start_time": "2022-02-14T16:59:31.197Z"
   },
   {
    "duration": 5,
    "start_time": "2022-02-14T17:00:17.928Z"
   },
   {
    "duration": 90,
    "start_time": "2022-02-14T17:00:25.492Z"
   },
   {
    "duration": 7,
    "start_time": "2022-02-14T17:00:31.361Z"
   },
   {
    "duration": 349,
    "start_time": "2022-02-14T17:03:11.783Z"
   },
   {
    "duration": 766,
    "start_time": "2022-02-14T17:03:39.572Z"
   },
   {
    "duration": 30,
    "start_time": "2022-02-14T17:03:40.341Z"
   },
   {
    "duration": 21,
    "start_time": "2022-02-14T17:03:40.374Z"
   },
   {
    "duration": 23,
    "start_time": "2022-02-14T17:03:40.398Z"
   },
   {
    "duration": 338,
    "start_time": "2022-02-14T17:03:40.423Z"
   },
   {
    "duration": -46606,
    "start_time": "2022-02-14T17:04:27.370Z"
   },
   {
    "duration": -46609,
    "start_time": "2022-02-14T17:04:27.374Z"
   },
   {
    "duration": -46612,
    "start_time": "2022-02-14T17:04:27.378Z"
   },
   {
    "duration": -46642,
    "start_time": "2022-02-14T17:04:27.408Z"
   },
   {
    "duration": -46646,
    "start_time": "2022-02-14T17:04:27.413Z"
   },
   {
    "duration": -46653,
    "start_time": "2022-02-14T17:04:27.421Z"
   },
   {
    "duration": -46657,
    "start_time": "2022-02-14T17:04:27.427Z"
   },
   {
    "duration": -46662,
    "start_time": "2022-02-14T17:04:27.432Z"
   },
   {
    "duration": -46668,
    "start_time": "2022-02-14T17:04:27.439Z"
   },
   {
    "duration": -46672,
    "start_time": "2022-02-14T17:04:27.444Z"
   },
   {
    "duration": -46675,
    "start_time": "2022-02-14T17:04:27.448Z"
   },
   {
    "duration": -46680,
    "start_time": "2022-02-14T17:04:27.454Z"
   },
   {
    "duration": -46683,
    "start_time": "2022-02-14T17:04:27.458Z"
   },
   {
    "duration": -46693,
    "start_time": "2022-02-14T17:04:27.469Z"
   },
   {
    "duration": -46697,
    "start_time": "2022-02-14T17:04:27.474Z"
   },
   {
    "duration": 265,
    "start_time": "2022-02-14T17:03:49.923Z"
   },
   {
    "duration": 82,
    "start_time": "2022-02-14T17:04:17.057Z"
   },
   {
    "duration": 10,
    "start_time": "2022-02-14T17:04:35.594Z"
   },
   {
    "duration": 14,
    "start_time": "2022-02-14T17:04:51.091Z"
   },
   {
    "duration": 256,
    "start_time": "2022-02-14T17:08:17.851Z"
   },
   {
    "duration": 237,
    "start_time": "2022-02-14T17:08:37.140Z"
   },
   {
    "duration": 7,
    "start_time": "2022-02-14T17:08:43.432Z"
   },
   {
    "duration": 222,
    "start_time": "2022-02-15T13:30:51.435Z"
   },
   {
    "duration": 561,
    "start_time": "2022-02-15T13:31:08.760Z"
   },
   {
    "duration": 20,
    "start_time": "2022-02-15T13:31:09.323Z"
   },
   {
    "duration": 7,
    "start_time": "2022-02-15T13:31:09.344Z"
   },
   {
    "duration": 7,
    "start_time": "2022-02-15T13:31:09.352Z"
   },
   {
    "duration": 13,
    "start_time": "2022-02-15T13:31:09.360Z"
   },
   {
    "duration": 5,
    "start_time": "2022-02-15T13:31:09.374Z"
   },
   {
    "duration": 44,
    "start_time": "2022-02-15T13:31:09.380Z"
   },
   {
    "duration": 4,
    "start_time": "2022-02-15T13:31:09.426Z"
   },
   {
    "duration": 13,
    "start_time": "2022-02-15T13:31:09.432Z"
   },
   {
    "duration": 26,
    "start_time": "2022-02-15T13:31:09.446Z"
   },
   {
    "duration": 40,
    "start_time": "2022-02-15T13:31:09.474Z"
   },
   {
    "duration": 8,
    "start_time": "2022-02-15T13:31:09.516Z"
   },
   {
    "duration": 9,
    "start_time": "2022-02-15T13:31:09.525Z"
   },
   {
    "duration": 13,
    "start_time": "2022-02-15T13:31:09.535Z"
   },
   {
    "duration": 24,
    "start_time": "2022-02-15T13:31:09.549Z"
   },
   {
    "duration": 43,
    "start_time": "2022-02-15T13:31:09.574Z"
   },
   {
    "duration": 6,
    "start_time": "2022-02-15T13:31:09.619Z"
   },
   {
    "duration": 33,
    "start_time": "2022-02-15T13:31:09.627Z"
   },
   {
    "duration": 15,
    "start_time": "2022-02-15T13:31:09.662Z"
   },
   {
    "duration": 18,
    "start_time": "2022-02-15T13:31:09.679Z"
   },
   {
    "duration": 233,
    "start_time": "2022-02-15T14:37:16.607Z"
   },
   {
    "duration": 549,
    "start_time": "2022-02-15T14:37:36.180Z"
   },
   {
    "duration": 20,
    "start_time": "2022-02-15T14:37:36.731Z"
   },
   {
    "duration": 5,
    "start_time": "2022-02-15T14:37:36.753Z"
   },
   {
    "duration": 6,
    "start_time": "2022-02-15T14:37:36.760Z"
   },
   {
    "duration": 252,
    "start_time": "2022-02-15T14:37:36.767Z"
   },
   {
    "duration": -47606,
    "start_time": "2022-02-15T14:38:24.627Z"
   },
   {
    "duration": -47611,
    "start_time": "2022-02-15T14:38:24.633Z"
   },
   {
    "duration": -47618,
    "start_time": "2022-02-15T14:38:24.641Z"
   },
   {
    "duration": -47621,
    "start_time": "2022-02-15T14:38:24.645Z"
   },
   {
    "duration": -47625,
    "start_time": "2022-02-15T14:38:24.650Z"
   },
   {
    "duration": -47630,
    "start_time": "2022-02-15T14:38:24.656Z"
   },
   {
    "duration": -47632,
    "start_time": "2022-02-15T14:38:24.659Z"
   },
   {
    "duration": -47636,
    "start_time": "2022-02-15T14:38:24.664Z"
   },
   {
    "duration": -47643,
    "start_time": "2022-02-15T14:38:24.672Z"
   },
   {
    "duration": -47645,
    "start_time": "2022-02-15T14:38:24.675Z"
   },
   {
    "duration": -47652,
    "start_time": "2022-02-15T14:38:24.682Z"
   },
   {
    "duration": -47660,
    "start_time": "2022-02-15T14:38:24.691Z"
   },
   {
    "duration": -47663,
    "start_time": "2022-02-15T14:38:24.695Z"
   },
   {
    "duration": -47671,
    "start_time": "2022-02-15T14:38:24.704Z"
   },
   {
    "duration": -47675,
    "start_time": "2022-02-15T14:38:24.709Z"
   },
   {
    "duration": -47680,
    "start_time": "2022-02-15T14:38:24.715Z"
   },
   {
    "duration": 180,
    "start_time": "2022-02-15T14:38:07.740Z"
   },
   {
    "duration": 189,
    "start_time": "2022-02-15T14:38:19.516Z"
   },
   {
    "duration": 9,
    "start_time": "2022-02-15T14:38:27.208Z"
   },
   {
    "duration": 10,
    "start_time": "2022-02-15T14:38:35.355Z"
   },
   {
    "duration": 20,
    "start_time": "2022-02-15T14:45:20.078Z"
   },
   {
    "duration": 557,
    "start_time": "2022-02-15T14:51:08.045Z"
   },
   {
    "duration": 20,
    "start_time": "2022-02-15T14:51:08.604Z"
   },
   {
    "duration": 34,
    "start_time": "2022-02-15T14:51:08.626Z"
   },
   {
    "duration": 4,
    "start_time": "2022-02-15T14:51:08.662Z"
   },
   {
    "duration": 16,
    "start_time": "2022-02-15T14:51:08.668Z"
   },
   {
    "duration": 27,
    "start_time": "2022-02-15T14:51:08.685Z"
   },
   {
    "duration": 13,
    "start_time": "2022-02-15T14:51:08.714Z"
   },
   {
    "duration": 29,
    "start_time": "2022-02-15T14:51:08.729Z"
   },
   {
    "duration": 12,
    "start_time": "2022-02-15T14:51:08.760Z"
   },
   {
    "duration": 17,
    "start_time": "2022-02-15T14:51:08.773Z"
   },
   {
    "duration": 29,
    "start_time": "2022-02-15T14:51:08.792Z"
   },
   {
    "duration": 22,
    "start_time": "2022-02-15T14:51:08.823Z"
   },
   {
    "duration": 19,
    "start_time": "2022-02-15T14:51:08.846Z"
   },
   {
    "duration": 7,
    "start_time": "2022-02-15T14:51:08.867Z"
   },
   {
    "duration": 15,
    "start_time": "2022-02-15T14:51:08.876Z"
   },
   {
    "duration": 30,
    "start_time": "2022-02-15T14:51:08.892Z"
   },
   {
    "duration": 12,
    "start_time": "2022-02-15T14:51:08.924Z"
   },
   {
    "duration": 13,
    "start_time": "2022-02-15T15:02:05.050Z"
   },
   {
    "duration": 12,
    "start_time": "2022-02-15T15:02:34.550Z"
   },
   {
    "duration": 283,
    "start_time": "2022-02-15T15:08:11.497Z"
   },
   {
    "duration": 215,
    "start_time": "2022-02-15T15:08:31.331Z"
   },
   {
    "duration": 25,
    "start_time": "2022-02-15T15:08:49.892Z"
   },
   {
    "duration": 27,
    "start_time": "2022-02-15T15:09:04.523Z"
   },
   {
    "duration": 19,
    "start_time": "2022-02-15T15:09:23.290Z"
   },
   {
    "duration": 214,
    "start_time": "2022-02-15T15:10:19.771Z"
   },
   {
    "duration": 205,
    "start_time": "2022-02-15T15:10:34.642Z"
   },
   {
    "duration": 211,
    "start_time": "2022-02-15T15:10:59.197Z"
   },
   {
    "duration": 574,
    "start_time": "2022-02-15T15:11:07.762Z"
   },
   {
    "duration": 23,
    "start_time": "2022-02-15T15:11:08.338Z"
   },
   {
    "duration": 53,
    "start_time": "2022-02-15T15:11:08.363Z"
   },
   {
    "duration": 16,
    "start_time": "2022-02-15T15:11:08.418Z"
   },
   {
    "duration": 5,
    "start_time": "2022-02-15T15:11:08.435Z"
   },
   {
    "duration": 16,
    "start_time": "2022-02-15T15:11:08.441Z"
   },
   {
    "duration": 57,
    "start_time": "2022-02-15T15:11:08.458Z"
   },
   {
    "duration": 13,
    "start_time": "2022-02-15T15:11:08.517Z"
   },
   {
    "duration": 10,
    "start_time": "2022-02-15T15:11:08.532Z"
   },
   {
    "duration": 13,
    "start_time": "2022-02-15T15:11:08.543Z"
   },
   {
    "duration": 25,
    "start_time": "2022-02-15T15:11:08.557Z"
   },
   {
    "duration": 39,
    "start_time": "2022-02-15T15:11:08.584Z"
   },
   {
    "duration": 3,
    "start_time": "2022-02-15T15:11:08.625Z"
   },
   {
    "duration": 14,
    "start_time": "2022-02-15T15:11:08.629Z"
   },
   {
    "duration": 13,
    "start_time": "2022-02-15T15:11:08.645Z"
   },
   {
    "duration": 254,
    "start_time": "2022-02-15T15:11:08.660Z"
   },
   {
    "duration": 60,
    "start_time": "2022-02-15T15:12:14.607Z"
   },
   {
    "duration": 188,
    "start_time": "2022-02-15T15:12:36.256Z"
   },
   {
    "duration": 17,
    "start_time": "2022-02-15T15:12:56.059Z"
   },
   {
    "duration": 201,
    "start_time": "2022-02-15T15:13:37.270Z"
   },
   {
    "duration": 197,
    "start_time": "2022-02-15T15:14:28.539Z"
   },
   {
    "duration": 204,
    "start_time": "2022-02-15T15:15:29.450Z"
   },
   {
    "duration": 19,
    "start_time": "2022-02-15T15:15:47.853Z"
   },
   {
    "duration": 18,
    "start_time": "2022-02-15T15:15:57.045Z"
   },
   {
    "duration": 22,
    "start_time": "2022-02-15T15:19:18.408Z"
   },
   {
    "duration": 21,
    "start_time": "2022-02-15T15:19:36.842Z"
   },
   {
    "duration": 205,
    "start_time": "2022-02-15T16:06:14.219Z"
   },
   {
    "duration": 218,
    "start_time": "2022-02-15T16:06:33.834Z"
   },
   {
    "duration": 203,
    "start_time": "2022-02-15T16:06:57.724Z"
   },
   {
    "duration": 652,
    "start_time": "2022-02-15T16:07:06.194Z"
   },
   {
    "duration": 24,
    "start_time": "2022-02-15T16:07:06.848Z"
   },
   {
    "duration": 62,
    "start_time": "2022-02-15T16:07:06.874Z"
   },
   {
    "duration": 16,
    "start_time": "2022-02-15T16:07:06.938Z"
   },
   {
    "duration": 5,
    "start_time": "2022-02-15T16:07:06.956Z"
   },
   {
    "duration": 21,
    "start_time": "2022-02-15T16:07:06.962Z"
   },
   {
    "duration": 54,
    "start_time": "2022-02-15T16:07:06.984Z"
   },
   {
    "duration": 14,
    "start_time": "2022-02-15T16:07:07.040Z"
   },
   {
    "duration": 15,
    "start_time": "2022-02-15T16:07:07.056Z"
   },
   {
    "duration": 15,
    "start_time": "2022-02-15T16:07:07.073Z"
   },
   {
    "duration": 44,
    "start_time": "2022-02-15T16:07:07.090Z"
   },
   {
    "duration": 256,
    "start_time": "2022-02-15T16:07:07.136Z"
   },
   {
    "duration": -47703,
    "start_time": "2022-02-15T16:07:55.096Z"
   },
   {
    "duration": -47707,
    "start_time": "2022-02-15T16:07:55.101Z"
   },
   {
    "duration": -47711,
    "start_time": "2022-02-15T16:07:55.106Z"
   },
   {
    "duration": -47716,
    "start_time": "2022-02-15T16:07:55.112Z"
   },
   {
    "duration": 23,
    "start_time": "2022-02-15T16:08:10.199Z"
   },
   {
    "duration": 172,
    "start_time": "2022-02-15T16:11:18.301Z"
   },
   {
    "duration": 185,
    "start_time": "2022-02-15T16:11:28.402Z"
   },
   {
    "duration": 17,
    "start_time": "2022-02-15T16:13:27.109Z"
   },
   {
    "duration": 20,
    "start_time": "2022-02-15T16:19:59.436Z"
   },
   {
    "duration": 561,
    "start_time": "2022-02-15T16:21:00.061Z"
   },
   {
    "duration": 23,
    "start_time": "2022-02-15T16:21:00.624Z"
   },
   {
    "duration": 34,
    "start_time": "2022-02-15T16:21:00.649Z"
   },
   {
    "duration": 36,
    "start_time": "2022-02-15T16:21:00.685Z"
   },
   {
    "duration": 23,
    "start_time": "2022-02-15T16:21:00.722Z"
   },
   {
    "duration": 56,
    "start_time": "2022-02-15T16:21:00.747Z"
   },
   {
    "duration": 40,
    "start_time": "2022-02-15T16:21:00.805Z"
   },
   {
    "duration": 14,
    "start_time": "2022-02-15T16:21:00.848Z"
   },
   {
    "duration": 13,
    "start_time": "2022-02-15T16:21:00.864Z"
   },
   {
    "duration": 15,
    "start_time": "2022-02-15T16:21:00.879Z"
   },
   {
    "duration": 37,
    "start_time": "2022-02-15T16:21:00.895Z"
   },
   {
    "duration": 22,
    "start_time": "2022-02-15T16:21:00.934Z"
   },
   {
    "duration": 4626,
    "start_time": "2022-02-15T16:21:00.958Z"
   },
   {
    "duration": -47702,
    "start_time": "2022-02-15T16:21:53.289Z"
   },
   {
    "duration": -47706,
    "start_time": "2022-02-15T16:21:53.294Z"
   },
   {
    "duration": -47708,
    "start_time": "2022-02-15T16:21:53.298Z"
   },
   {
    "duration": 5,
    "start_time": "2022-02-15T16:24:29.868Z"
   },
   {
    "duration": 21,
    "start_time": "2022-02-15T16:25:25.575Z"
   },
   {
    "duration": 4,
    "start_time": "2022-02-15T16:25:57.526Z"
   },
   {
    "duration": 3,
    "start_time": "2022-02-15T16:27:02.504Z"
   },
   {
    "duration": 7,
    "start_time": "2022-02-15T16:27:32.750Z"
   },
   {
    "duration": 8,
    "start_time": "2022-02-15T16:28:33.488Z"
   },
   {
    "duration": 21,
    "start_time": "2022-02-15T16:29:59.830Z"
   },
   {
    "duration": 28,
    "start_time": "2022-02-15T16:30:24.013Z"
   },
   {
    "duration": 10,
    "start_time": "2022-02-15T16:37:46.850Z"
   },
   {
    "duration": 21,
    "start_time": "2022-02-15T16:39:30.009Z"
   },
   {
    "duration": 214,
    "start_time": "2022-02-15T16:40:03.500Z"
   },
   {
    "duration": 21,
    "start_time": "2022-02-15T16:40:09.783Z"
   },
   {
    "duration": 19,
    "start_time": "2022-02-15T16:40:52.458Z"
   },
   {
    "duration": 19,
    "start_time": "2022-02-15T16:41:06.793Z"
   },
   {
    "duration": 598,
    "start_time": "2022-02-15T16:41:19.221Z"
   },
   {
    "duration": 20,
    "start_time": "2022-02-15T16:41:19.821Z"
   },
   {
    "duration": 35,
    "start_time": "2022-02-15T16:41:19.843Z"
   },
   {
    "duration": 6,
    "start_time": "2022-02-15T16:41:19.880Z"
   },
   {
    "duration": 41,
    "start_time": "2022-02-15T16:41:19.887Z"
   },
   {
    "duration": 14,
    "start_time": "2022-02-15T16:41:19.930Z"
   },
   {
    "duration": 4,
    "start_time": "2022-02-15T16:41:19.945Z"
   },
   {
    "duration": 15,
    "start_time": "2022-02-15T16:41:19.951Z"
   },
   {
    "duration": 57,
    "start_time": "2022-02-15T16:41:19.967Z"
   },
   {
    "duration": 12,
    "start_time": "2022-02-15T16:41:20.025Z"
   },
   {
    "duration": 8,
    "start_time": "2022-02-15T16:41:20.039Z"
   },
   {
    "duration": 13,
    "start_time": "2022-02-15T16:41:20.049Z"
   },
   {
    "duration": 49,
    "start_time": "2022-02-15T16:41:20.064Z"
   },
   {
    "duration": 21,
    "start_time": "2022-02-15T16:41:20.115Z"
   },
   {
    "duration": 11,
    "start_time": "2022-02-15T16:41:20.137Z"
   },
   {
    "duration": 12,
    "start_time": "2022-02-15T16:41:20.150Z"
   },
   {
    "duration": 20,
    "start_time": "2022-02-15T16:41:20.163Z"
   },
   {
    "duration": 19,
    "start_time": "2022-02-15T16:41:37.770Z"
   },
   {
    "duration": 73,
    "start_time": "2022-02-15T16:42:59.494Z"
   },
   {
    "duration": 8,
    "start_time": "2022-02-15T16:43:07.030Z"
   },
   {
    "duration": 13,
    "start_time": "2022-02-15T16:43:15.584Z"
   },
   {
    "duration": 18,
    "start_time": "2022-02-15T16:47:30.941Z"
   },
   {
    "duration": 22,
    "start_time": "2022-02-15T16:50:05.088Z"
   },
   {
    "duration": 271,
    "start_time": "2022-02-15T16:54:03.058Z"
   },
   {
    "duration": 21,
    "start_time": "2022-02-15T16:54:07.894Z"
   },
   {
    "duration": 6,
    "start_time": "2022-02-15T16:57:35.646Z"
   },
   {
    "duration": 608,
    "start_time": "2022-02-15T16:57:53.591Z"
   },
   {
    "duration": 23,
    "start_time": "2022-02-15T16:57:54.201Z"
   },
   {
    "duration": 35,
    "start_time": "2022-02-15T16:57:54.226Z"
   },
   {
    "duration": 4,
    "start_time": "2022-02-15T16:57:54.263Z"
   },
   {
    "duration": 8,
    "start_time": "2022-02-15T16:57:54.268Z"
   },
   {
    "duration": 48,
    "start_time": "2022-02-15T16:57:54.278Z"
   },
   {
    "duration": 17,
    "start_time": "2022-02-15T16:57:54.328Z"
   },
   {
    "duration": 4,
    "start_time": "2022-02-15T16:57:54.348Z"
   },
   {
    "duration": 18,
    "start_time": "2022-02-15T16:57:54.354Z"
   },
   {
    "duration": 68,
    "start_time": "2022-02-15T16:57:54.373Z"
   },
   {
    "duration": 18,
    "start_time": "2022-02-15T16:57:54.443Z"
   },
   {
    "duration": 10,
    "start_time": "2022-02-15T16:57:54.463Z"
   },
   {
    "duration": 13,
    "start_time": "2022-02-15T16:57:54.475Z"
   },
   {
    "duration": 56,
    "start_time": "2022-02-15T16:57:54.490Z"
   },
   {
    "duration": 22,
    "start_time": "2022-02-15T16:57:54.548Z"
   },
   {
    "duration": 41,
    "start_time": "2022-02-15T16:57:54.572Z"
   },
   {
    "duration": 17,
    "start_time": "2022-02-15T16:57:54.615Z"
   },
   {
    "duration": 21,
    "start_time": "2022-02-15T16:57:54.633Z"
   },
   {
    "duration": 17,
    "start_time": "2022-02-15T16:57:54.655Z"
   },
   {
    "duration": 20,
    "start_time": "2022-02-15T17:01:52.314Z"
   },
   {
    "duration": 21,
    "start_time": "2022-02-15T17:01:59.970Z"
   },
   {
    "duration": 326,
    "start_time": "2022-02-16T06:08:58.501Z"
   },
   {
    "duration": 908,
    "start_time": "2022-02-16T06:09:07.857Z"
   },
   {
    "duration": 25,
    "start_time": "2022-02-16T06:09:08.767Z"
   },
   {
    "duration": 59,
    "start_time": "2022-02-16T06:09:08.794Z"
   },
   {
    "duration": 4,
    "start_time": "2022-02-16T06:09:08.856Z"
   },
   {
    "duration": 10,
    "start_time": "2022-02-16T06:09:08.862Z"
   },
   {
    "duration": 38,
    "start_time": "2022-02-16T06:09:08.874Z"
   },
   {
    "duration": 28,
    "start_time": "2022-02-16T06:09:08.915Z"
   },
   {
    "duration": 22,
    "start_time": "2022-02-16T06:09:08.947Z"
   },
   {
    "duration": 38,
    "start_time": "2022-02-16T06:09:08.972Z"
   },
   {
    "duration": 26,
    "start_time": "2022-02-16T06:09:09.012Z"
   },
   {
    "duration": 38,
    "start_time": "2022-02-16T06:09:09.040Z"
   },
   {
    "duration": 32,
    "start_time": "2022-02-16T06:09:09.080Z"
   },
   {
    "duration": 12,
    "start_time": "2022-02-16T06:09:09.114Z"
   },
   {
    "duration": 19,
    "start_time": "2022-02-16T06:09:09.128Z"
   },
   {
    "duration": 76,
    "start_time": "2022-02-16T06:09:09.149Z"
   },
   {
    "duration": 17,
    "start_time": "2022-02-16T06:09:09.227Z"
   },
   {
    "duration": 27,
    "start_time": "2022-02-16T06:09:09.246Z"
   },
   {
    "duration": 48,
    "start_time": "2022-02-16T06:09:09.275Z"
   },
   {
    "duration": 24,
    "start_time": "2022-02-16T06:09:09.325Z"
   },
   {
    "duration": 23,
    "start_time": "2022-02-16T06:09:09.351Z"
   },
   {
    "duration": 739,
    "start_time": "2022-02-16T19:45:27.767Z"
   },
   {
    "duration": 28,
    "start_time": "2022-02-16T19:45:28.508Z"
   },
   {
    "duration": 63,
    "start_time": "2022-02-16T19:45:28.538Z"
   },
   {
    "duration": 20,
    "start_time": "2022-02-16T19:45:28.603Z"
   },
   {
    "duration": 5,
    "start_time": "2022-02-16T19:45:28.625Z"
   },
   {
    "duration": 44,
    "start_time": "2022-02-16T19:45:28.633Z"
   },
   {
    "duration": 34,
    "start_time": "2022-02-16T19:45:28.679Z"
   },
   {
    "duration": 15,
    "start_time": "2022-02-16T19:45:28.715Z"
   },
   {
    "duration": 39,
    "start_time": "2022-02-16T19:45:28.733Z"
   },
   {
    "duration": 16,
    "start_time": "2022-02-16T19:45:28.774Z"
   },
   {
    "duration": 46,
    "start_time": "2022-02-16T19:45:28.792Z"
   },
   {
    "duration": 41,
    "start_time": "2022-02-16T19:45:28.841Z"
   },
   {
    "duration": 13,
    "start_time": "2022-02-16T19:45:29.193Z"
   },
   {
    "duration": 16,
    "start_time": "2022-02-16T19:45:33.931Z"
   },
   {
    "duration": 15,
    "start_time": "2022-02-16T19:45:38.295Z"
   },
   {
    "duration": 1112,
    "start_time": "2022-05-28T07:03:09.669Z"
   },
   {
    "duration": 44,
    "start_time": "2022-05-28T07:03:10.784Z"
   },
   {
    "duration": 48,
    "start_time": "2022-05-28T07:03:10.831Z"
   },
   {
    "duration": 20,
    "start_time": "2022-05-28T07:03:10.882Z"
   },
   {
    "duration": 12,
    "start_time": "2022-05-28T07:03:10.905Z"
   },
   {
    "duration": 57,
    "start_time": "2022-05-28T07:03:10.919Z"
   },
   {
    "duration": 47,
    "start_time": "2022-05-28T07:03:10.979Z"
   },
   {
    "duration": 32,
    "start_time": "2022-05-28T07:03:11.028Z"
   },
   {
    "duration": 13,
    "start_time": "2022-05-28T07:03:11.062Z"
   },
   {
    "duration": 20,
    "start_time": "2022-05-28T07:03:11.078Z"
   },
   {
    "duration": 27,
    "start_time": "2022-05-28T07:03:11.100Z"
   },
   {
    "duration": 47,
    "start_time": "2022-05-28T07:03:11.128Z"
   },
   {
    "duration": 12,
    "start_time": "2022-05-28T07:03:11.177Z"
   },
   {
    "duration": 13,
    "start_time": "2022-05-28T07:03:11.191Z"
   },
   {
    "duration": 53,
    "start_time": "2022-05-28T07:03:11.206Z"
   },
   {
    "duration": 20,
    "start_time": "2022-05-28T07:03:11.261Z"
   },
   {
    "duration": 19,
    "start_time": "2022-05-28T07:03:11.283Z"
   },
   {
    "duration": 48,
    "start_time": "2022-05-28T07:03:11.304Z"
   },
   {
    "duration": 698,
    "start_time": "2022-06-11T09:08:28.008Z"
   },
   {
    "duration": 27,
    "start_time": "2022-06-11T09:08:28.708Z"
   },
   {
    "duration": 47,
    "start_time": "2022-06-11T09:08:28.737Z"
   },
   {
    "duration": 17,
    "start_time": "2022-06-11T09:08:28.786Z"
   },
   {
    "duration": 19,
    "start_time": "2022-06-11T09:08:28.805Z"
   },
   {
    "duration": 22,
    "start_time": "2022-06-11T09:08:28.826Z"
   },
   {
    "duration": 55,
    "start_time": "2022-06-11T09:08:28.851Z"
   },
   {
    "duration": 22,
    "start_time": "2022-06-11T09:08:28.910Z"
   },
   {
    "duration": 41,
    "start_time": "2022-06-11T09:08:28.934Z"
   },
   {
    "duration": 21,
    "start_time": "2022-06-11T09:08:28.978Z"
   },
   {
    "duration": 32,
    "start_time": "2022-06-11T09:08:29.001Z"
   },
   {
    "duration": 55,
    "start_time": "2022-06-11T09:08:29.035Z"
   },
   {
    "duration": 16,
    "start_time": "2022-06-11T09:08:29.092Z"
   },
   {
    "duration": 17,
    "start_time": "2022-06-11T09:08:29.110Z"
   },
   {
    "duration": 39,
    "start_time": "2022-06-11T09:08:29.131Z"
   },
   {
    "duration": 20,
    "start_time": "2022-06-11T09:08:29.172Z"
   },
   {
    "duration": 22,
    "start_time": "2022-06-11T09:08:29.193Z"
   },
   {
    "duration": 50,
    "start_time": "2022-06-11T09:08:29.216Z"
   },
   {
    "duration": 97,
    "start_time": "2022-10-24T06:54:51.042Z"
   }
  ],
  "kernelspec": {
   "display_name": "Python 3 (ipykernel)",
   "language": "python",
   "name": "python3"
  },
  "language_info": {
   "codemirror_mode": {
    "name": "ipython",
    "version": 3
   },
   "file_extension": ".py",
   "mimetype": "text/x-python",
   "name": "python",
   "nbconvert_exporter": "python",
   "pygments_lexer": "ipython3",
   "version": "3.9.5"
  },
  "toc": {
   "base_numbering": 1,
   "nav_menu": {},
   "number_sections": true,
   "sideBar": true,
   "skip_h1_title": true,
   "title_cell": "Table of Contents",
   "title_sidebar": "Contents",
   "toc_cell": false,
   "toc_position": {
    "height": "calc(100% - 180px)",
    "left": "10px",
    "top": "150px",
    "width": "685.317px"
   },
   "toc_section_display": true,
   "toc_window_display": false
  }
 },
 "nbformat": 4,
 "nbformat_minor": 5
}

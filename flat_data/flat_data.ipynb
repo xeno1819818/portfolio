{
 "cells": [
  {
   "cell_type": "markdown",
   "metadata": {
    "toc": true
   },
   "source": [
    "<h1>Содержание<span class=\"tocSkip\"></span></h1>\n",
    "<div class=\"toc\"><ul class=\"toc-item\"><li><span><a href=\"#Изучение-данных-из-файла\" data-toc-modified-id=\"Изучение-данных-из-файла-1\"><span class=\"toc-item-num\">1&nbsp;&nbsp;</span>Изучение данных из файла</a></span><ul class=\"toc-item\"><li><span><a href=\"#Вывод\" data-toc-modified-id=\"Вывод-1.1\"><span class=\"toc-item-num\">1.1&nbsp;&nbsp;</span>Вывод</a></span></li></ul></li><li><span><a href=\"#Предобработка-данных\" data-toc-modified-id=\"Предобработка-данных-2\"><span class=\"toc-item-num\">2&nbsp;&nbsp;</span>Предобработка данных</a></span><ul class=\"toc-item\"><li><ul class=\"toc-item\"><li><span><a href=\"#Определение-и-изучение-пропущенных-значений\" data-toc-modified-id=\"Определение-и-изучение-пропущенных-значений-2.0.1\"><span class=\"toc-item-num\">2.0.1&nbsp;&nbsp;</span>Определение и изучение пропущенных значений</a></span></li><li><span><a href=\"#Замена-типа-данных\" data-toc-modified-id=\"Замена-типа-данных-2.0.2\"><span class=\"toc-item-num\">2.0.2&nbsp;&nbsp;</span>Замена типа данных</a></span></li></ul></li></ul></li><li><span><a href=\"#Расчёты-и-добавление-результатов-в-таблицу\" data-toc-modified-id=\"Расчёты-и-добавление-результатов-в-таблицу-3\"><span class=\"toc-item-num\">3&nbsp;&nbsp;</span>Расчёты и добавление результатов в таблицу</a></span></li><li><span><a href=\"#Исследовательский-анализ-данных\" data-toc-modified-id=\"Исследовательский-анализ-данных-4\"><span class=\"toc-item-num\">4&nbsp;&nbsp;</span>Исследовательский анализ данных</a></span><ul class=\"toc-item\"><li><ul class=\"toc-item\"><li><span><a href=\"#Исследуем-параметр-площадь-total_area\" data-toc-modified-id=\"Исследуем-параметр-площадь-total_area-4.0.1\"><span class=\"toc-item-num\">4.0.1&nbsp;&nbsp;</span>Исследуем параметр площадь total_area</a></span></li><li><span><a href=\"#Исследуем-параметр-цена-last_price\" data-toc-modified-id=\"Исследуем-параметр-цена-last_price-4.0.2\"><span class=\"toc-item-num\">4.0.2&nbsp;&nbsp;</span>Исследуем параметр цена last_price</a></span></li><li><span><a href=\"#Исследуем-параметр-число-комнат-rooms\" data-toc-modified-id=\"Исследуем-параметр-число-комнат-rooms-4.0.3\"><span class=\"toc-item-num\">4.0.3&nbsp;&nbsp;</span>Исследуем параметр число комнат rooms</a></span></li><li><span><a href=\"#Исследуем-параметр-высота-потолка-ceiling_height\" data-toc-modified-id=\"Исследуем-параметр-высота-потолка-ceiling_height-4.0.4\"><span class=\"toc-item-num\">4.0.4&nbsp;&nbsp;</span>Исследуем параметр высота потолка ceiling_height</a></span></li><li><span><a href=\"#Сроки-продажи-квартиры-days_exposition\" data-toc-modified-id=\"Сроки-продажи-квартиры-days_exposition-4.0.5\"><span class=\"toc-item-num\">4.0.5&nbsp;&nbsp;</span>Сроки продажи квартиры days_exposition</a></span></li><li><span><a href=\"#Уберем-редкие-и-выбивающиеся-значения\" data-toc-modified-id=\"Уберем-редкие-и-выбивающиеся-значения-4.0.6\"><span class=\"toc-item-num\">4.0.6&nbsp;&nbsp;</span>Уберем редкие и выбивающиеся значения</a></span></li><li><span><a href=\"#Исследуем-зависимость--цены-от-площади,-числа-комнат,-удалённости-от-центра,--на-каком-этаже-расположена-квартира:-первом,-последнем-или-другом,-зависимость-от-даты-размещения:-дня-недели,-месяца-и-года.\" data-toc-modified-id=\"Исследуем-зависимость--цены-от-площади,-числа-комнат,-удалённости-от-центра,--на-каком-этаже-расположена-квартира:-первом,-последнем-или-другом,-зависимость-от-даты-размещения:-дня-недели,-месяца-и-года.-4.0.7\"><span class=\"toc-item-num\">4.0.7&nbsp;&nbsp;</span>Исследуем зависимость  цены от площади, числа комнат, удалённости от центра,  на каком этаже расположена квартира: первом, последнем или другом, зависимость от даты размещения: дня недели, месяца и года.</a></span></li><li><span><a href=\"#Выберем-10-населенных-пунктов-с-наибольшим-числом-объявлений-и-посчитаем-среднюю-цену-квадратного-метра-в-этих-населённых-пунктах.\" data-toc-modified-id=\"Выберем-10-населенных-пунктов-с-наибольшим-числом-объявлений-и-посчитаем-среднюю-цену-квадратного-метра-в-этих-населённых-пунктах.-4.0.8\"><span class=\"toc-item-num\">4.0.8&nbsp;&nbsp;</span>Выберем 10 населенных пунктов с наибольшим числом объявлений и посчитаем среднюю цену квадратного метра в этих населённых пунктах.</a></span></li><li><span><a href=\"#Проанализируем-Санкт-Петербург\" data-toc-modified-id=\"Проанализируем-Санкт-Петербург-4.0.9\"><span class=\"toc-item-num\">4.0.9&nbsp;&nbsp;</span>Проанализируем Санкт-Петербург</a></span></li></ul></li></ul></li><li><span><a href=\"#Общий-вывод\" data-toc-modified-id=\"Общий-вывод-5\"><span class=\"toc-item-num\">5&nbsp;&nbsp;</span>Общий вывод</a></span></li><li><span><a href=\"#Чек-лист-готовности-проекта\" data-toc-modified-id=\"Чек-лист-готовности-проекта-6\"><span class=\"toc-item-num\">6&nbsp;&nbsp;</span>Чек-лист готовности проекта</a></span></li></ul></div>"
   ]
  },
  {
   "cell_type": "markdown",
   "metadata": {},
   "source": [
    "# Исследование объявлений о продаже квартир\n",
    "\n"
   ]
  },
  {
   "cell_type": "markdown",
   "metadata": {},
   "source": [
    "## Изучение данных из файла"
   ]
  },
  {
   "cell_type": "code",
   "execution_count": 1,
   "metadata": {},
   "outputs": [
    {
     "name": "stdout",
     "output_type": "stream",
     "text": [
      "<class 'pandas.core.frame.DataFrame'>\n",
      "RangeIndex: 23699 entries, 0 to 23698\n",
      "Data columns (total 1 columns):\n",
      " #   Column                                                                                                                                                                                                                                                                                           Non-Null Count  Dtype \n",
      "---  ------                                                                                                                                                                                                                                                                                           --------------  ----- \n",
      " 0   total_images\tlast_price\ttotal_area\tfirst_day_exposition\trooms\tceiling_height\tfloors_total\tliving_area\tfloor\tis_apartment\tstudio\topen_plan\tkitchen_area\tbalcony\tlocality_name\tairports_nearest\tcityCenters_nearest\tparks_around3000\tparks_nearest\tponds_around3000\tponds_nearest\tdays_exposition  23699 non-null  object\n",
      "dtypes: object(1)\n",
      "memory usage: 185.3+ KB\n"
     ]
    },
    {
     "data": {
      "text/html": [
       "<div>\n",
       "<style scoped>\n",
       "    .dataframe tbody tr th:only-of-type {\n",
       "        vertical-align: middle;\n",
       "    }\n",
       "\n",
       "    .dataframe tbody tr th {\n",
       "        vertical-align: top;\n",
       "    }\n",
       "\n",
       "    .dataframe thead th {\n",
       "        text-align: right;\n",
       "    }\n",
       "</style>\n",
       "<table border=\"1\" class=\"dataframe\">\n",
       "  <thead>\n",
       "    <tr style=\"text-align: right;\">\n",
       "      <th></th>\n",
       "      <th>total_images\\tlast_price\\ttotal_area\\tfirst_day_exposition\\trooms\\tceiling_height\\tfloors_total\\tliving_area\\tfloor\\tis_apartment\\tstudio\\topen_plan\\tkitchen_area\\tbalcony\\tlocality_name\\tairports_nearest\\tcityCenters_nearest\\tparks_around3000\\tparks_nearest\\tponds_around3000\\tponds_nearest\\tdays_exposition</th>\n",
       "    </tr>\n",
       "  </thead>\n",
       "  <tbody>\n",
       "    <tr>\n",
       "      <th>0</th>\n",
       "      <td>20\\t13000000.0\\t108.0\\t2019-03-07T00:00:00\\t3\\...</td>\n",
       "    </tr>\n",
       "    <tr>\n",
       "      <th>1</th>\n",
       "      <td>7\\t3350000.0\\t40.4\\t2018-12-04T00:00:00\\t1\\t\\t...</td>\n",
       "    </tr>\n",
       "    <tr>\n",
       "      <th>2</th>\n",
       "      <td>10\\t5196000.0\\t56.0\\t2015-08-20T00:00:00\\t2\\t\\...</td>\n",
       "    </tr>\n",
       "    <tr>\n",
       "      <th>3</th>\n",
       "      <td>0\\t64900000.0\\t159.0\\t2015-07-24T00:00:00\\t3\\t...</td>\n",
       "    </tr>\n",
       "    <tr>\n",
       "      <th>4</th>\n",
       "      <td>2\\t10000000.0\\t100.0\\t2018-06-19T00:00:00\\t2\\t...</td>\n",
       "    </tr>\n",
       "    <tr>\n",
       "      <th>5</th>\n",
       "      <td>10\\t2890000.0\\t30.4\\t2018-09-10T00:00:00\\t1\\t\\...</td>\n",
       "    </tr>\n",
       "    <tr>\n",
       "      <th>6</th>\n",
       "      <td>6\\t3700000.0\\t37.3\\t2017-11-02T00:00:00\\t1\\t\\t...</td>\n",
       "    </tr>\n",
       "    <tr>\n",
       "      <th>7</th>\n",
       "      <td>5\\t7915000.0\\t71.6\\t2019-04-18T00:00:00\\t2\\t\\t...</td>\n",
       "    </tr>\n",
       "    <tr>\n",
       "      <th>8</th>\n",
       "      <td>20\\t2900000.0\\t33.16\\t2018-05-23T00:00:00\\t1\\t...</td>\n",
       "    </tr>\n",
       "    <tr>\n",
       "      <th>9</th>\n",
       "      <td>18\\t5400000.0\\t61.0\\t2017-02-26T00:00:00\\t3\\t2...</td>\n",
       "    </tr>\n",
       "  </tbody>\n",
       "</table>\n",
       "</div>"
      ],
      "text/plain": [
       "  total_images\\tlast_price\\ttotal_area\\tfirst_day_exposition\\trooms\\tceiling_height\\tfloors_total\\tliving_area\\tfloor\\tis_apartment\\tstudio\\topen_plan\\tkitchen_area\\tbalcony\\tlocality_name\\tairports_nearest\\tcityCenters_nearest\\tparks_around3000\\tparks_nearest\\tponds_around3000\\tponds_nearest\\tdays_exposition\n",
       "0  20\\t13000000.0\\t108.0\\t2019-03-07T00:00:00\\t3\\...                                                                                                                                                                                                                                                                  \n",
       "1  7\\t3350000.0\\t40.4\\t2018-12-04T00:00:00\\t1\\t\\t...                                                                                                                                                                                                                                                                  \n",
       "2  10\\t5196000.0\\t56.0\\t2015-08-20T00:00:00\\t2\\t\\...                                                                                                                                                                                                                                                                  \n",
       "3  0\\t64900000.0\\t159.0\\t2015-07-24T00:00:00\\t3\\t...                                                                                                                                                                                                                                                                  \n",
       "4  2\\t10000000.0\\t100.0\\t2018-06-19T00:00:00\\t2\\t...                                                                                                                                                                                                                                                                  \n",
       "5  10\\t2890000.0\\t30.4\\t2018-09-10T00:00:00\\t1\\t\\...                                                                                                                                                                                                                                                                  \n",
       "6  6\\t3700000.0\\t37.3\\t2017-11-02T00:00:00\\t1\\t\\t...                                                                                                                                                                                                                                                                  \n",
       "7  5\\t7915000.0\\t71.6\\t2019-04-18T00:00:00\\t2\\t\\t...                                                                                                                                                                                                                                                                  \n",
       "8  20\\t2900000.0\\t33.16\\t2018-05-23T00:00:00\\t1\\t...                                                                                                                                                                                                                                                                  \n",
       "9  18\\t5400000.0\\t61.0\\t2017-02-26T00:00:00\\t3\\t2...                                                                                                                                                                                                                                                                  "
      ]
     },
     "metadata": {},
     "output_type": "display_data"
    }
   ],
   "source": [
    "import pandas \n",
    "import matplotlib.pyplot as plt\n",
    "import seaborn\n",
    "import numpy\n",
    "flat_data=pandas.read_csv('/datasets/real_estate_data.csv')\n",
    "flat_data.info()\n",
    "display(flat_data.head(10))"
   ]
  },
  {
   "cell_type": "code",
   "execution_count": 5,
   "metadata": {},
   "outputs": [
    {
     "data": {
      "text/html": [
       "<div>\n",
       "<style scoped>\n",
       "    .dataframe tbody tr th:only-of-type {\n",
       "        vertical-align: middle;\n",
       "    }\n",
       "\n",
       "    .dataframe tbody tr th {\n",
       "        vertical-align: top;\n",
       "    }\n",
       "\n",
       "    .dataframe thead th {\n",
       "        text-align: right;\n",
       "    }\n",
       "</style>\n",
       "<table border=\"1\" class=\"dataframe\">\n",
       "  <thead>\n",
       "    <tr style=\"text-align: right;\">\n",
       "      <th></th>\n",
       "      <th>total_images</th>\n",
       "      <th>last_price</th>\n",
       "      <th>total_area</th>\n",
       "      <th>first_day_exposition</th>\n",
       "      <th>rooms</th>\n",
       "      <th>ceiling_height</th>\n",
       "      <th>floors_total</th>\n",
       "      <th>living_area</th>\n",
       "      <th>floor</th>\n",
       "      <th>is_apartment</th>\n",
       "      <th>...</th>\n",
       "      <th>kitchen_area</th>\n",
       "      <th>balcony</th>\n",
       "      <th>locality_name</th>\n",
       "      <th>airports_nearest</th>\n",
       "      <th>cityCenters_nearest</th>\n",
       "      <th>parks_around3000</th>\n",
       "      <th>parks_nearest</th>\n",
       "      <th>ponds_around3000</th>\n",
       "      <th>ponds_nearest</th>\n",
       "      <th>days_exposition</th>\n",
       "    </tr>\n",
       "  </thead>\n",
       "  <tbody>\n",
       "    <tr>\n",
       "      <th>0</th>\n",
       "      <td>20</td>\n",
       "      <td>13000000.0</td>\n",
       "      <td>108.0</td>\n",
       "      <td>2019-03-07T00:00:00</td>\n",
       "      <td>3</td>\n",
       "      <td>2.70</td>\n",
       "      <td>16.0</td>\n",
       "      <td>51.0</td>\n",
       "      <td>8</td>\n",
       "      <td>NaN</td>\n",
       "      <td>...</td>\n",
       "      <td>25.0</td>\n",
       "      <td>NaN</td>\n",
       "      <td>Санкт-Петербург</td>\n",
       "      <td>18863.0</td>\n",
       "      <td>16028.0</td>\n",
       "      <td>1.0</td>\n",
       "      <td>482.0</td>\n",
       "      <td>2.0</td>\n",
       "      <td>755.0</td>\n",
       "      <td>NaN</td>\n",
       "    </tr>\n",
       "    <tr>\n",
       "      <th>1</th>\n",
       "      <td>7</td>\n",
       "      <td>3350000.0</td>\n",
       "      <td>40.4</td>\n",
       "      <td>2018-12-04T00:00:00</td>\n",
       "      <td>1</td>\n",
       "      <td>NaN</td>\n",
       "      <td>11.0</td>\n",
       "      <td>18.6</td>\n",
       "      <td>1</td>\n",
       "      <td>NaN</td>\n",
       "      <td>...</td>\n",
       "      <td>11.0</td>\n",
       "      <td>2.0</td>\n",
       "      <td>посёлок Шушары</td>\n",
       "      <td>12817.0</td>\n",
       "      <td>18603.0</td>\n",
       "      <td>0.0</td>\n",
       "      <td>NaN</td>\n",
       "      <td>0.0</td>\n",
       "      <td>NaN</td>\n",
       "      <td>81.0</td>\n",
       "    </tr>\n",
       "    <tr>\n",
       "      <th>2</th>\n",
       "      <td>10</td>\n",
       "      <td>5196000.0</td>\n",
       "      <td>56.0</td>\n",
       "      <td>2015-08-20T00:00:00</td>\n",
       "      <td>2</td>\n",
       "      <td>NaN</td>\n",
       "      <td>5.0</td>\n",
       "      <td>34.3</td>\n",
       "      <td>4</td>\n",
       "      <td>NaN</td>\n",
       "      <td>...</td>\n",
       "      <td>8.3</td>\n",
       "      <td>0.0</td>\n",
       "      <td>Санкт-Петербург</td>\n",
       "      <td>21741.0</td>\n",
       "      <td>13933.0</td>\n",
       "      <td>1.0</td>\n",
       "      <td>90.0</td>\n",
       "      <td>2.0</td>\n",
       "      <td>574.0</td>\n",
       "      <td>558.0</td>\n",
       "    </tr>\n",
       "    <tr>\n",
       "      <th>3</th>\n",
       "      <td>0</td>\n",
       "      <td>64900000.0</td>\n",
       "      <td>159.0</td>\n",
       "      <td>2015-07-24T00:00:00</td>\n",
       "      <td>3</td>\n",
       "      <td>NaN</td>\n",
       "      <td>14.0</td>\n",
       "      <td>NaN</td>\n",
       "      <td>9</td>\n",
       "      <td>NaN</td>\n",
       "      <td>...</td>\n",
       "      <td>NaN</td>\n",
       "      <td>0.0</td>\n",
       "      <td>Санкт-Петербург</td>\n",
       "      <td>28098.0</td>\n",
       "      <td>6800.0</td>\n",
       "      <td>2.0</td>\n",
       "      <td>84.0</td>\n",
       "      <td>3.0</td>\n",
       "      <td>234.0</td>\n",
       "      <td>424.0</td>\n",
       "    </tr>\n",
       "    <tr>\n",
       "      <th>4</th>\n",
       "      <td>2</td>\n",
       "      <td>10000000.0</td>\n",
       "      <td>100.0</td>\n",
       "      <td>2018-06-19T00:00:00</td>\n",
       "      <td>2</td>\n",
       "      <td>3.03</td>\n",
       "      <td>14.0</td>\n",
       "      <td>32.0</td>\n",
       "      <td>13</td>\n",
       "      <td>NaN</td>\n",
       "      <td>...</td>\n",
       "      <td>41.0</td>\n",
       "      <td>NaN</td>\n",
       "      <td>Санкт-Петербург</td>\n",
       "      <td>31856.0</td>\n",
       "      <td>8098.0</td>\n",
       "      <td>2.0</td>\n",
       "      <td>112.0</td>\n",
       "      <td>1.0</td>\n",
       "      <td>48.0</td>\n",
       "      <td>121.0</td>\n",
       "    </tr>\n",
       "  </tbody>\n",
       "</table>\n",
       "<p>5 rows × 22 columns</p>\n",
       "</div>"
      ],
      "text/plain": [
       "   total_images  last_price  total_area first_day_exposition  rooms  \\\n",
       "0            20  13000000.0       108.0  2019-03-07T00:00:00      3   \n",
       "1             7   3350000.0        40.4  2018-12-04T00:00:00      1   \n",
       "2            10   5196000.0        56.0  2015-08-20T00:00:00      2   \n",
       "3             0  64900000.0       159.0  2015-07-24T00:00:00      3   \n",
       "4             2  10000000.0       100.0  2018-06-19T00:00:00      2   \n",
       "\n",
       "   ceiling_height  floors_total  living_area  floor is_apartment  ...  \\\n",
       "0            2.70          16.0         51.0      8          NaN  ...   \n",
       "1             NaN          11.0         18.6      1          NaN  ...   \n",
       "2             NaN           5.0         34.3      4          NaN  ...   \n",
       "3             NaN          14.0          NaN      9          NaN  ...   \n",
       "4            3.03          14.0         32.0     13          NaN  ...   \n",
       "\n",
       "   kitchen_area  balcony    locality_name  airports_nearest  \\\n",
       "0          25.0      NaN  Санкт-Петербург           18863.0   \n",
       "1          11.0      2.0   посёлок Шушары           12817.0   \n",
       "2           8.3      0.0  Санкт-Петербург           21741.0   \n",
       "3           NaN      0.0  Санкт-Петербург           28098.0   \n",
       "4          41.0      NaN  Санкт-Петербург           31856.0   \n",
       "\n",
       "  cityCenters_nearest  parks_around3000  parks_nearest  ponds_around3000  \\\n",
       "0             16028.0               1.0          482.0               2.0   \n",
       "1             18603.0               0.0            NaN               0.0   \n",
       "2             13933.0               1.0           90.0               2.0   \n",
       "3              6800.0               2.0           84.0               3.0   \n",
       "4              8098.0               2.0          112.0               1.0   \n",
       "\n",
       "   ponds_nearest  days_exposition  \n",
       "0          755.0              NaN  \n",
       "1            NaN             81.0  \n",
       "2          574.0            558.0  \n",
       "3          234.0            424.0  \n",
       "4           48.0            121.0  \n",
       "\n",
       "[5 rows x 22 columns]"
      ]
     },
     "execution_count": 5,
     "metadata": {},
     "output_type": "execute_result"
    }
   ],
   "source": [
    "flat_data=pandas.read_csv('/datasets/real_estate_data.csv', sep='\\t')\n",
    "flat_data.head()"
   ]
  },
  {
   "cell_type": "code",
   "execution_count": 6,
   "metadata": {},
   "outputs": [
    {
     "name": "stdout",
     "output_type": "stream",
     "text": [
      "<class 'pandas.core.frame.DataFrame'>\n",
      "RangeIndex: 23699 entries, 0 to 23698\n",
      "Data columns (total 22 columns):\n",
      " #   Column                Non-Null Count  Dtype  \n",
      "---  ------                --------------  -----  \n",
      " 0   total_images          23699 non-null  int64  \n",
      " 1   last_price            23699 non-null  float64\n",
      " 2   total_area            23699 non-null  float64\n",
      " 3   first_day_exposition  23699 non-null  object \n",
      " 4   rooms                 23699 non-null  int64  \n",
      " 5   ceiling_height        14504 non-null  float64\n",
      " 6   floors_total          23613 non-null  float64\n",
      " 7   living_area           21796 non-null  float64\n",
      " 8   floor                 23699 non-null  int64  \n",
      " 9   is_apartment          2775 non-null   object \n",
      " 10  studio                23699 non-null  bool   \n",
      " 11  open_plan             23699 non-null  bool   \n",
      " 12  kitchen_area          21421 non-null  float64\n",
      " 13  balcony               12180 non-null  float64\n",
      " 14  locality_name         23650 non-null  object \n",
      " 15  airports_nearest      18157 non-null  float64\n",
      " 16  cityCenters_nearest   18180 non-null  float64\n",
      " 17  parks_around3000      18181 non-null  float64\n",
      " 18  parks_nearest         8079 non-null   float64\n",
      " 19  ponds_around3000      18181 non-null  float64\n",
      " 20  ponds_nearest         9110 non-null   float64\n",
      " 21  days_exposition       20518 non-null  float64\n",
      "dtypes: bool(2), float64(14), int64(3), object(3)\n",
      "memory usage: 3.7+ MB\n"
     ]
    }
   ],
   "source": [
    "flat_data.info()"
   ]
  },
  {
   "cell_type": "code",
   "execution_count": null,
   "metadata": {},
   "outputs": [],
   "source": [
    "#Меняем название столбика cityCenters_nearest на нижний регистр\n",
    "flat_data=flat_data.rename(columns={'cityCenters_nearest':'citycenters_nearest'})\n"
   ]
  },
  {
   "cell_type": "markdown",
   "metadata": {},
   "source": [
    "### Вывод"
   ]
  },
  {
   "cell_type": "markdown",
   "metadata": {},
   "source": [
    "Данные склеились в одну строку вместо того, чтобы разбиться по колонкам, таблицу невозможно было читать. Применили параметр sep в методе read для нормального отображения данных. В таблице было  обнаружено много пропущенных значений."
   ]
  },
  {
   "cell_type": "markdown",
   "metadata": {},
   "source": [
    "## Предобработка данных"
   ]
  },
  {
   "cell_type": "markdown",
   "metadata": {},
   "source": [
    "#### Определение и изучение пропущенных значений"
   ]
  },
  {
   "cell_type": "code",
   "execution_count": null,
   "metadata": {},
   "outputs": [],
   "source": [
    "#Вычисляем долю пропущенных значений в колонке floors_total \n",
    "print('Доля  пропущенные значений floors_total {:.1%}'.format(flat_data['floors_total'].isna().sum()/flat_data['floors_total'].count()))\n",
    "#Удаляем пропущенные значения\n",
    "flat_data=flat_data.dropna(subset=['floors_total'])"
   ]
  },
  {
   "cell_type": "code",
   "execution_count": null,
   "metadata": {},
   "outputs": [],
   "source": [
    "#Вычисляем долю пропущенных значений в колонке ceiling_height \n",
    "print('Доля  пропущенные значений ceiling_height {:.0%}'.format(flat_data['ceiling_height'].isna().sum()/len(flat_data)))\n",
    "print(flat_data['ceiling_height'].value_counts()) \n",
    "ceiling_medians = flat_data.pivot_table(index='floors_total', values='ceiling_height', aggfunc=['median', 'count'])\n",
    "ceiling_medians.columns = ['median', 'count']\n",
    "ceiling_medians.head() \n",
    "# заменяем значения высоты потолков на общую медиану для отсутствующих значений этажности дома\n",
    "for floor in ceiling_medians.index:\n",
    "    flat_data.loc[(flat_data['floors_total'].isna()) | \n",
    "             ((flat_data['floors_total'] == floor) & (ceiling_medians.loc[floor, 'count'] == 0)), \n",
    "             'ceiling_height'] = flat_data['ceiling_height'].describe()[5]\n",
    "\n",
    "# медианы из сгруппированной таблицы вставляем на места пропущенных значений высоты потолков для дома соответствующей этажности\n",
    "for floor in ceiling_medians.index:\n",
    "    flat_data.loc[(flat_data['ceiling_height'].isna()) & (flat_data['floors_total'] == floor), 'ceiling_height'] = ceiling_medians.loc[floor, 'median']\n",
    "\n",
    "# посчитаем количество пропущенных значений после проделанной замены\n",
    "flat_data['ceiling_height'].isna().sum()"
   ]
  },
  {
   "cell_type": "code",
   "execution_count": null,
   "metadata": {},
   "outputs": [],
   "source": [
    "print(flat_data['ceiling_height'].value_counts())\n",
    "#С помощью функции replace() заменим неадекватные данные \n",
    "flat_data['ceiling_height']=flat_data['ceiling_height'].replace(26, 2.6)\n",
    "flat_data['ceiling_height']=flat_data['ceiling_height'].replace(100, flat_data['ceiling_height'].median())"
   ]
  },
  {
   "cell_type": "code",
   "execution_count": null,
   "metadata": {},
   "outputs": [],
   "source": [
    "#Пошли разговоры, что есть связь между площадью кухни и наличием студии,\n",
    "#подсчитываем долю пропущенных значений в колонке studio\n",
    "print('Доля  пропущенные значений studio {:.0%}'.format(flat_data['studio'].isna().sum()/flat_data['studio'].count()))  \n",
    "#Теперь подсчитаем студий от общего числа квартир\n",
    "print('Доля  студий от общего числа квартир {:.0%}'.format(flat_data['studio'].sum()/flat_data['studio'].count()))  \n",
    "\n"
   ]
  },
  {
   "cell_type": "markdown",
   "metadata": {},
   "source": [
    "Доля студий такая маленькая, что студиями можно просто пренебречь"
   ]
  },
  {
   "cell_type": "markdown",
   "metadata": {},
   "source": [
    "Заполним пропущенные значения в столбике living_area"
   ]
  },
  {
   "cell_type": "code",
   "execution_count": null,
   "metadata": {},
   "outputs": [],
   "source": [
    "#Вычисляем долю пропущенных значений в колонке living_area \n",
    "print('Доля  пропущенные значений living_area {:.0%}'.format(flat_data['living_area'].isna().sum()/flat_data['living_area'].count()))            \n"
   ]
  },
  {
   "cell_type": "code",
   "execution_count": null,
   "metadata": {},
   "outputs": [],
   "source": [
    "#Вычислим какой процент составляет жилая площадь от общей площади, посчитаем это изветсным значениям в данных\n",
    "knowing_living_area=flat_data.query('living_area != \"NaN\"')\n",
    "ratio_living_area=knowing_living_area['living_area']/knowing_living_area['total_area']\n",
    "#Вывидим среднее значение этой доли\n",
    "print(ratio_living_area.mean())\n"
   ]
  },
  {
   "cell_type": "markdown",
   "metadata": {},
   "source": [
    "Получается жилая площадь составляет 56% от общей площади везде"
   ]
  },
  {
   "cell_type": "code",
   "execution_count": null,
   "metadata": {},
   "outputs": [],
   "source": [
    "#Заменяем пропущенные значения в колонке living_area методом fillna()\n",
    "flat_data['living_area'] = flat_data['living_area'].fillna(flat_data['total_area'] * 0.56) \n",
    "#Снова проверяем долю пропущенных значений в колонке living_area \n",
    "print('Доля  пропущенные значений living_area {:.0%}'.format(flat_data['living_area'].isna().sum()/flat_data['living_area'].count()))\n"
   ]
  },
  {
   "cell_type": "markdown",
   "metadata": {},
   "source": [
    "Проверяем столбик kitchen_area"
   ]
  },
  {
   "cell_type": "code",
   "execution_count": null,
   "metadata": {},
   "outputs": [],
   "source": [
    "#Вычисляем долю пропущенных значений в колонке kitchen_area \n",
    "print('Доля  пропущенные значений kitchen_area {:.0%}'.format(flat_data['kitchen_area'].isna().sum()/flat_data['kitchen_area'].count()))        "
   ]
  },
  {
   "cell_type": "code",
   "execution_count": null,
   "metadata": {},
   "outputs": [],
   "source": [
    "#Вычислим какой процент составляет площадь кухни от общей площади, посчитаем это по изветсным значениям в данных\n",
    "knowing_kitchen_area=flat_data.query('kitchen_area != \"NaN\"')\n",
    "ratio_kitchen_area=knowing_kitchen_area['kitchen_area']/knowing_kitchen_area['total_area']\n",
    "#Вывидим среднее значение этой доли\n",
    "print(ratio_kitchen_area.mean())\n"
   ]
  },
  {
   "cell_type": "markdown",
   "metadata": {},
   "source": [
    "Получается площадь кухни составляет 19% от общей площади "
   ]
  },
  {
   "cell_type": "code",
   "execution_count": null,
   "metadata": {},
   "outputs": [],
   "source": [
    "#Заменяем пропущенные значения в колонке kitchen_area методом fillna()\n",
    "flat_data['kitchen_area'] = flat_data['kitchen_area'].fillna(flat_data['total_area'] * 0.19) \n",
    "#Снова проверяем долю пропущенных значений в колонке living_area \n",
    "print('Доля  пропущенные значений kitchen_area {:.0%}'.format(flat_data['kitchen_area'].isna().sum()/flat_data['kitchen_area'].count()))\n"
   ]
  },
  {
   "cell_type": "code",
   "execution_count": null,
   "metadata": {},
   "outputs": [],
   "source": [
    "#Вычисляем долю пропущенных значений в колонке balcony                  \n",
    "print('Доля  пропущенные значений balcony {:.0%}'.format(flat_data['balcony'].isna().sum()/len(flat_data)))           \n",
    "\n",
    "#Заменяем пропущенные значения в колонке balcony методом fillna(), если человек не указал число \n",
    "#балконов — скорее всего, их нет. Такие пропуски правильно заменить на 0 \n",
    "flat_data['balcony']=flat_data['balcony'].fillna(0)\n",
    "display(flat_data['balcony'].head(10))\n"
   ]
  },
  {
   "cell_type": "code",
   "execution_count": null,
   "metadata": {},
   "outputs": [],
   "source": [
    "#Вычисляем долю пропущенных значений в колонке is_apartment                          \n",
    "print('Доля  пропущенные значений is_apartment {:.1%}'.format(flat_data['is_apartment'].isna().sum()/len(flat_data)))            \n",
    "\n",
    "\n",
    "\n",
    "            "
   ]
  },
  {
   "cell_type": "code",
   "execution_count": null,
   "metadata": {},
   "outputs": [],
   "source": [
    "#Вычисляем долю пропущенных значений в колонке locality_name                   \n",
    "print('Доля  пропущенные значений locality_name {:.1%}'.format(flat_data['locality_name'].isna().sum()/flat_data['locality_name'].count()))            \n",
    "\n",
    "\n"
   ]
  },
  {
   "cell_type": "code",
   "execution_count": null,
   "metadata": {},
   "outputs": [],
   "source": [
    "#Вычисляем долю пропущенных значений в колонке citycenters_nearest                   \n",
    "print('Доля  пропущенные значений citycenters_nearest {:.1%}'.format(flat_data['citycenters_nearest'].isna().sum()/len(flat_data)))            "
   ]
  },
  {
   "cell_type": "markdown",
   "metadata": {},
   "source": [
    "Выясним, сколько пропущено значений расстояния до центра для квартир из Санкт-Петербурга. Эти данные впоследствии понадобятся для анализа."
   ]
  },
  {
   "cell_type": "code",
   "execution_count": null,
   "metadata": {},
   "outputs": [],
   "source": [
    "print(len(flat_data[(flat_data['locality_name'] == 'Санкт-Петербург') & (flat_data['citycenters_nearest'].isna())]) / len(flat_data.reset_index(drop=True).query('locality_name == \"Санкт-Петербург\"'))*100,'%')"
   ]
  },
  {
   "cell_type": "markdown",
   "metadata": {},
   "source": [
    "Т.к. доля пропущенных значений  расстояний до центра для квартир из Санкт-Петербурга очень маленькая, изменять этот столбик не будем"
   ]
  },
  {
   "cell_type": "code",
   "execution_count": null,
   "metadata": {},
   "outputs": [],
   "source": [
    "#Вычисляем долю пропущенных значений в колонке airports_nearest                            \n",
    "print('Доля  пропущенные значений airports_nearest {:.1%}'.format(flat_data['airports_nearest'].isna().sum()/flat_data['airports_nearest'].count()))            "
   ]
  },
  {
   "cell_type": "code",
   "execution_count": null,
   "metadata": {},
   "outputs": [],
   "source": [
    "#Число парков в радиусе 3 км                             \n",
    "print('Доля  пропущенные значений parks_around3000 {:.1%}'.format(flat_data['parks_around3000'].isna().sum()/len(flat_data)))            "
   ]
  },
  {
   "cell_type": "code",
   "execution_count": null,
   "metadata": {},
   "outputs": [],
   "source": [
    "#Расстояние до ближайшего парка                            \n",
    "print('Доля  пропущенные значений parks_nearest {:.1%}'.format(flat_data['parks_nearest'].isna().sum()/len(flat_data)))     \n"
   ]
  },
  {
   "cell_type": "code",
   "execution_count": null,
   "metadata": {},
   "outputs": [],
   "source": [
    "#Число водоемов в радиусе 3 км                            \n",
    "print('Доля  пропущенные значений ponds_around3000 {:.1%}'.format(flat_data['ponds_around3000'].isna().sum()/len(flat_data)))            "
   ]
  },
  {
   "cell_type": "code",
   "execution_count": null,
   "metadata": {},
   "outputs": [],
   "source": [
    "#Расстояние до ближайшего водоема\n",
    "                           \n",
    "print('Доля  пропущенные значений ponds_nearest {:.1%}'.format(flat_data['ponds_nearest'].isna().sum()/len(flat_data)))            "
   ]
  },
  {
   "cell_type": "code",
   "execution_count": null,
   "metadata": {},
   "outputs": [],
   "source": [
    "print('Доля  пропущенные значений days_exposition {:.1%}'.format(flat_data['days_exposition'].isna().sum()/len(flat_data)))            \n",
    "#Заменим пропуски на медианные значения\n",
    "flat_data.loc[flat_data['days_exposition'].isna(), 'days_exposition'] = flat_data['days_exposition'].describe()[5]\n",
    "#Проверим сколько осталось пропущенных значений\n",
    "flat_data['days_exposition'].isna().sum()"
   ]
  },
  {
   "cell_type": "markdown",
   "metadata": {},
   "source": [
    "Заменяли пропущенные значения в столбиках, которые в дальнейшем будут нужны при расчетах. Причины появления пропусков могут в не аккуратности заполнения данных людьми, а также при копировании данных могли быть произойти сбои. "
   ]
  },
  {
   "cell_type": "markdown",
   "metadata": {},
   "source": [
    "#### Замена типа данных"
   ]
  },
  {
   "cell_type": "code",
   "execution_count": null,
   "metadata": {},
   "outputs": [],
   "source": [
    "#Тип данных  меняем в столбике first_day_exposition со строчного на datetime\n",
    "flat_data['first_day_exposition'] = pandas.to_datetime(flat_data['first_day_exposition'], format='%Y-%m-%dT%H:%M:%S') \n",
    "#Проверяем, как мы изменили тип данных\n",
    "display(flat_data['first_day_exposition'].head())\n"
   ]
  },
  {
   "cell_type": "markdown",
   "metadata": {},
   "source": [
    "## Расчёты и добавление результатов в таблицу"
   ]
  },
  {
   "cell_type": "code",
   "execution_count": null,
   "metadata": {},
   "outputs": [],
   "source": [
    "#Добавляем столбик цена 1 кв. метра\n",
    "flat_data['sqm_price']=flat_data['last_price']/flat_data['total_area']"
   ]
  },
  {
   "cell_type": "code",
   "execution_count": null,
   "metadata": {},
   "outputs": [],
   "source": [
    "#Добавляем столбики в таблицу день недели, месяц и год публикации объявления\n",
    "flat_data['weekday']=flat_data['first_day_exposition'].dt.weekday\n",
    "flat_data['month']=flat_data['first_day_exposition'].dt.month\n",
    "flat_data['year']=flat_data['first_day_exposition'].dt.year"
   ]
  },
  {
   "cell_type": "code",
   "execution_count": null,
   "metadata": {},
   "outputs": [],
   "source": [
    "#Добавляем столбик этаж квартиры (первый, последний, другой):\n",
    "flat_data.loc[flat_data['floor'] == 1, 'floor_category'] = 'первый'\n",
    "flat_data.loc[flat_data['floor'] == flat_data['floors_total'], 'floor_category'] = 'последний'\n",
    "flat_data.loc[flat_data['floor_category'].isna(), 'floor_category'] = 'другой'"
   ]
  },
  {
   "cell_type": "code",
   "execution_count": null,
   "metadata": {},
   "outputs": [],
   "source": [
    "#Добавляем столбики в таблицу соотношения жилой и общей площади, а также отношение площади кухни к общей\n",
    "flat_data['ratio_living_area']=flat_data['living_area']/flat_data['total_area']\n",
    "flat_data['ratio_kitchen_area']=flat_data['kitchen_area']/flat_data['total_area']\n"
   ]
  },
  {
   "cell_type": "markdown",
   "metadata": {},
   "source": [
    "## Исследовательский анализ данных"
   ]
  },
  {
   "cell_type": "markdown",
   "metadata": {},
   "source": [
    "Создаём функцию, определяющую границы \"усов\" для задаваемого признака"
   ]
  },
  {
   "cell_type": "code",
   "execution_count": null,
   "metadata": {
    "scrolled": true
   },
   "outputs": [],
   "source": [
    "# функция, получающая на вход название признака, и возвращающая границы \"усов\"\n",
    "def det_whiskers(column):\n",
    "    stat = flat_data[column].describe()\n",
    "    \n",
    "    # межквартирльный размах\n",
    "    iqr = stat[6] - stat[4]\n",
    "    \n",
    "    # левый и правый \"ус\"   \n",
    "    left_whisker = round(stat[4] - 1.5 * iqr, 2)\n",
    "    right_whisker = round(stat[6] + 1.5 * iqr, 2)\n",
    "\n",
    "    # левый \"ус\" не должен быть меньше минимального значения\n",
    "    if left_whisker < stat[3]: left_whisker = stat[3] \n",
    "        \n",
    "    # правый \"ус\" не должен быть больше максимального значения\n",
    "    if right_whisker > stat[7]: right_whisker = stat[7]\n",
    "        \n",
    "    return [left_whisker, right_whisker]"
   ]
  },
  {
   "cell_type": "markdown",
   "metadata": {},
   "source": [
    "#### Исследуем параметр площадь total_area              "
   ]
  },
  {
   "cell_type": "code",
   "execution_count": null,
   "metadata": {},
   "outputs": [],
   "source": [
    "det_whiskers('total_area')"
   ]
  },
  {
   "cell_type": "code",
   "execution_count": null,
   "metadata": {},
   "outputs": [],
   "source": [
    "#Построим диаграмму размаха, ограничив площадь 150 кв.м\n",
    "flat_data.boxplot(column='total_area')\n",
    "plt.title('Диаграмма размаха')\n",
    "plt.ylabel('Общая площадь, кв.м')\n",
    "plt.ylim(0, 150)\n",
    "plt.show()"
   ]
  },
  {
   "cell_type": "code",
   "execution_count": null,
   "metadata": {},
   "outputs": [],
   "source": [
    "#Построим гистограмму для объектов с площадью меньше или равно 150 кв.м\n",
    "flat_data.plot(y='total_area', kind='hist', xlim=(0, 150), bins=90, title='Гистограмма общей площади', label='Общая площадь, кв.м')\n"
   ]
  },
  {
   "cell_type": "markdown",
   "metadata": {},
   "source": [
    "Здесь можно увидеть, что в основном площади квартир находятся в области около 40-60 метров"
   ]
  },
  {
   "cell_type": "markdown",
   "metadata": {},
   "source": [
    "#### Исследуем параметр цена last_price              "
   ]
  },
  {
   "cell_type": "code",
   "execution_count": null,
   "metadata": {},
   "outputs": [],
   "source": [
    "det_whiskers('last_price')\n",
    "\n",
    "\n"
   ]
  },
  {
   "cell_type": "code",
   "execution_count": null,
   "metadata": {},
   "outputs": [],
   "source": [
    "#Построим диаграмму размаха, ограничив цену 11,8 млн руб\n",
    "flat_data.boxplot(column='last_price')\n",
    "plt.title('Диаграмма размаха')\n",
    "plt.ylabel('Общая площадь, кв.м')\n",
    "plt.ylim(0, 13000000)\n",
    "plt.show()"
   ]
  },
  {
   "cell_type": "code",
   "execution_count": null,
   "metadata": {},
   "outputs": [],
   "source": [
    "#Построим гистограмму для объектов с площадью менее 120 кв.м\n",
    "flat_data.plot(y='last_price', kind='hist', xlim=(0, 13000000), bins=650, title='Гистограмма цен на момент снятия публикации', label='Цены, 10 млн руб')\n"
   ]
  },
  {
   "cell_type": "markdown",
   "metadata": {},
   "source": [
    "Цены квартир в основном находятся в интервале от 2,7 до 6 млн рублей"
   ]
  },
  {
   "cell_type": "markdown",
   "metadata": {},
   "source": [
    "#### Исследуем параметр число комнат rooms              "
   ]
  },
  {
   "cell_type": "code",
   "execution_count": null,
   "metadata": {},
   "outputs": [],
   "source": [
    "det_whiskers('rooms')\n",
    "  "
   ]
  },
  {
   "cell_type": "code",
   "execution_count": null,
   "metadata": {},
   "outputs": [],
   "source": [
    "#Построим диаграмму размаха\n",
    "flat_data.boxplot(column='rooms')\n",
    "plt.title('Диаграмма размаха')\n",
    "plt.ylabel('Число комнат, шт.')\n",
    "plt.ylim(0, 6)\n",
    "plt.show()"
   ]
  },
  {
   "cell_type": "code",
   "execution_count": null,
   "metadata": {},
   "outputs": [],
   "source": [
    "#Построим гистограмму для комнат\n",
    "flat_data.plot(y='rooms', kind='hist', xlim=(0, 6), bins=flat_data['rooms'].max(), title='Гистограмма числа комнат', label='Число комнат, шт.')\n"
   ]
  },
  {
   "cell_type": "markdown",
   "metadata": {},
   "source": [
    "На гистограмме видно, что квартиры в основном 2 и 3 комнатные."
   ]
  },
  {
   "cell_type": "markdown",
   "metadata": {},
   "source": [
    "#### Исследуем параметр высота потолка ceiling_height              "
   ]
  },
  {
   "cell_type": "code",
   "execution_count": null,
   "metadata": {},
   "outputs": [],
   "source": [
    "det_whiskers('ceiling_height')\n",
    "\n",
    "\n",
    "     "
   ]
  },
  {
   "cell_type": "code",
   "execution_count": null,
   "metadata": {},
   "outputs": [],
   "source": [
    "#Построим диаграмму размаха\n",
    "flat_data.boxplot(column='ceiling_height')\n",
    "plt.title('Диаграмма размаха')\n",
    "plt.ylabel('Высота потолка, м.')\n",
    "plt.ylim(2.25, 3.05)\n",
    "plt.show()"
   ]
  },
  {
   "cell_type": "code",
   "execution_count": null,
   "metadata": {},
   "outputs": [],
   "source": [
    "#Строим гистограмму для высот потолка\n",
    "flat_data.plot(y='ceiling_height', kind='hist', xlim=(2.25, 3.05), bins=750, title='Гистограмма высоты потолков', label='Высота потолка, м')\n"
   ]
  },
  {
   "cell_type": "markdown",
   "metadata": {},
   "source": [
    "#### Сроки продажи квартиры days_exposition    "
   ]
  },
  {
   "cell_type": "code",
   "execution_count": null,
   "metadata": {},
   "outputs": [],
   "source": [
    "det_whiskers('days_exposition')"
   ]
  },
  {
   "cell_type": "code",
   "execution_count": null,
   "metadata": {},
   "outputs": [],
   "source": [
    "#Построим диаграмму размаха\n",
    "flat_data.boxplot(column='days_exposition')\n",
    "plt.title('Диаграмма размаха')\n",
    "plt.ylabel('Срок размещения публикации, дней')\n",
    "plt.ylim(1, 430)\n",
    "plt.show()"
   ]
  },
  {
   "cell_type": "code",
   "execution_count": null,
   "metadata": {},
   "outputs": [],
   "source": [
    "#Строим гистограмму сроков продажи\n",
    "flat_data.plot(y='days_exposition', kind='hist', range=(1, 430), bins=8, title='Гистограмма срока публикации', label='Срок размещения публикации, дней')\n"
   ]
  },
  {
   "cell_type": "code",
   "execution_count": null,
   "metadata": {},
   "outputs": [],
   "source": [
    "#Подсчитываем среднее значение и медианну для days_exposition\n",
    "flat_data['days_exposition'].describe()"
   ]
  },
  {
   "cell_type": "code",
   "execution_count": null,
   "metadata": {},
   "outputs": [],
   "source": [
    "#Продажи, которые прошли слишком быстро\n",
    "flat_data['days_exposition'] < 30\n",
    "#Продажи, которые прошли очень медленно\n",
    "flat_data['days_exposition'] > det_whiskers('days_exposition')[1]"
   ]
  },
  {
   "cell_type": "markdown",
   "metadata": {},
   "source": [
    "####  Уберем редкие и выбивающиеся значения"
   ]
  },
  {
   "cell_type": "code",
   "execution_count": null,
   "metadata": {},
   "outputs": [],
   "source": [
    "good_flat_data = flat_data[(flat_data['total_area'] <= det_whiskers('total_area')[1]) & \n",
    "     (flat_data['last_price'] <= det_whiskers('last_price')[1]) &\n",
    "     (flat_data['rooms'] <= det_whiskers('rooms')[1]) &\n",
    "     (flat_data['ceiling_height'] <= det_whiskers('ceiling_height')[1]) &\n",
    "     (flat_data['days_exposition'] <= det_whiskers('days_exposition')[1]) &\n",
    "     (flat_data['days_exposition'] > 30)].reset_index(drop=True)\n",
    "\n",
    "print('Доля чистых значений составила: {:.1%}'. format(len(good_flat_data) / len(flat_data)))"
   ]
  },
  {
   "cell_type": "markdown",
   "metadata": {},
   "source": [
    "####  Исследуем зависимость  цены от площади, числа комнат, удалённости от центра,  на каком этаже расположена квартира: первом, последнем или другом, зависимость от даты размещения: дня недели, месяца и года."
   ]
  },
  {
   "cell_type": "code",
   "execution_count": null,
   "metadata": {},
   "outputs": [],
   "source": [
    "#Строим матрицу корреляции по нужным столбикам\n",
    "good_flat_data[['total_area', 'rooms', 'citycenters_nearest', 'floor_category', 'last_price',]].corr()\n"
   ]
  },
  {
   "cell_type": "code",
   "execution_count": null,
   "metadata": {},
   "outputs": [],
   "source": [
    "#Строим матрицу диаграмм рессеивания \n",
    "\n",
    "pandas.plotting.scatter_matrix(good_flat_data[['total_area', 'rooms', 'citycenters_nearest', 'floor_category', 'last_price']],figsize=(15,15))"
   ]
  },
  {
   "cell_type": "markdown",
   "metadata": {},
   "source": [
    "Заметим, что цена больше зависит от общей площади, а не от количества комнат. Так же видно, что с ростом растояния до центра цена падает"
   ]
  },
  {
   "cell_type": "code",
   "execution_count": null,
   "metadata": {
    "scrolled": true
   },
   "outputs": [],
   "source": [
    "#Зависимость от категории этажа \n",
    "good_flat_data.plot(x = \"floor_category\", y = 'last_price', figsize = (25,10))"
   ]
  },
  {
   "cell_type": "markdown",
   "metadata": {},
   "source": [
    "Посмотрим зависимость цены от даты размещения: дня недели, месяца и года"
   ]
  },
  {
   "cell_type": "code",
   "execution_count": null,
   "metadata": {},
   "outputs": [],
   "source": [
    "print(good_flat_data[['weekday', 'month', 'year','last_price']].corr())"
   ]
  },
  {
   "cell_type": "markdown",
   "metadata": {},
   "source": [
    "На гистограмме зависимости средней цены от категории этажа видно, есть небольшая связь, люди предпочитают покупать квартиры не на 1 этаже и не на последнем этаже. "
   ]
  },
  {
   "cell_type": "code",
   "execution_count": null,
   "metadata": {},
   "outputs": [],
   "source": [
    "ax = good_flat_data.groupby('weekday')['last_price'].median()\\\n",
    "    .sort_values()\\\n",
    "    .plot(kind = 'bar')\n",
    "ax.tick_params(axis='x', rotation=0)\n",
    "plt.show()"
   ]
  },
  {
   "cell_type": "markdown",
   "metadata": {},
   "source": [
    "По гистограмме видно, что дни не влияют на цену продажи квартир."
   ]
  },
  {
   "cell_type": "code",
   "execution_count": null,
   "metadata": {},
   "outputs": [],
   "source": [
    "ax = good_flat_data.groupby('month')['last_price'].median().sort_values().plot(kind = 'bar')\n",
    "ax.tick_params(axis='x', rotation=0)\n",
    "plt.show()"
   ]
  },
  {
   "cell_type": "markdown",
   "metadata": {},
   "source": [
    "По гистограмме видно, что значение месяца не влияет на цену продажи квартир."
   ]
  },
  {
   "cell_type": "code",
   "execution_count": null,
   "metadata": {},
   "outputs": [],
   "source": [
    "ax = good_flat_data[(det_whiskers('year')[0]<=good_flat_data['year']) & (good_flat_data['year']<=det_whiskers('year')[1])].groupby('year')['last_price'].median().sort_values().plot(kind = 'bar')\n",
    "ax.tick_params(axis='x', rotation=0)\n",
    "plt.show()"
   ]
  },
  {
   "cell_type": "markdown",
   "metadata": {},
   "source": [
    "По графику видно, что год слабо влияет на цену квартир"
   ]
  },
  {
   "cell_type": "markdown",
   "metadata": {},
   "source": [
    "####  Выберем 10 населенных пунктов с наибольшим числом объявлений и посчитаем среднюю цену квадратного метра в этих населённых пунктах. "
   ]
  },
  {
   "cell_type": "code",
   "execution_count": null,
   "metadata": {},
   "outputs": [],
   "source": [
    "locality_name_sorted=good_flat_data.pivot_table(index='locality_name', values='sqm_price', aggfunc=['count', 'mean'])\n",
    "locality_name_sorted.columns=['count', 'mean']\n",
    "locality_name_sorted=locality_name_sorted.sort_values(by='count', ascending=False)\n",
    "locality_name_sorted=locality_name_sorted[:10]\n",
    "print(locality_name_sorted)\n",
    "\n"
   ]
  },
  {
   "cell_type": "markdown",
   "metadata": {},
   "source": [
    "Самая высокая цена в Санкт-Петербурге, а сама низкая в Выборге из топ 10 по количеству объявлений\n"
   ]
  },
  {
   "cell_type": "markdown",
   "metadata": {},
   "source": [
    "####  Проанализируем Санкт-Петербург"
   ]
  },
  {
   "cell_type": "markdown",
   "metadata": {},
   "source": [
    "\n",
    "\n",
    "Выделим объявления относящиеся к Санкт-Петербургу\n"
   ]
  },
  {
   "cell_type": "code",
   "execution_count": null,
   "metadata": {},
   "outputs": [],
   "source": [
    "only_spb=good_flat_data.query('locality_name==\"Санкт-Петербург\"')\n"
   ]
  },
  {
   "cell_type": "markdown",
   "metadata": {},
   "source": [
    "Добавим столбец с расстоянием до центра Санкт-Петербурга в км. Выделим объявления относящиеся к Петербургу и получим среднюю цену в зависимости от удаления от центра\n"
   ]
  },
  {
   "cell_type": "code",
   "execution_count": null,
   "metadata": {},
   "outputs": [],
   "source": [
    "only_spb['citycenters_nearest_km']=only_spb['citycenters_nearest']/1000\n",
    "only_spb['citycenters_nearest_km']=only_spb['citycenters_nearest_km'].round(0)\n",
    "citycenters_nearest_km_spb=only_spb.pivot_table(index='citycenters_nearest_km', values='last_price', aggfunc='mean')\n",
    "citycenters_nearest_km_spb.plot(kind='bar', figsize=(15,5))\n",
    "only_spb"
   ]
  },
  {
   "cell_type": "markdown",
   "metadata": {},
   "source": [
    "Четко виден перепад после 9 км, поэтому будем считать центром все что находится в радиусе  9 км"
   ]
  },
  {
   "cell_type": "markdown",
   "metadata": {},
   "source": [
    "\n",
    "Построим матрицу рассеивания для недвижимости в центре Питера\n"
   ]
  },
  {
   "cell_type": "code",
   "execution_count": null,
   "metadata": {},
   "outputs": [],
   "source": [
    "spb_center =  only_spb.query('citycenters_nearest_km <9')\n",
    "pandas.plotting.scatter_matrix(spb_center[['rooms', 'floor', 'citycenters_nearest','first_day_exposition','last_price']], figsize=(15,15))"
   ]
  },
  {
   "cell_type": "markdown",
   "metadata": {},
   "source": [
    "Заметим, что цена зависит от отдаленности от центра, корреляция есть, но она небольшая. Так же цена сильно зависит от количества комнат, можно сделать вывод, что в центре на цену больше влияет количество комнат"
   ]
  },
  {
   "cell_type": "markdown",
   "metadata": {},
   "source": [
    "Посмотрим распределения по отдельным величинам\n"
   ]
  },
  {
   "cell_type": "code",
   "execution_count": null,
   "metadata": {
    "scrolled": true
   },
   "outputs": [],
   "source": [
    "#Создадим функцию\n",
    "list_of_columns_spb = ['last_price','rooms','total_area','ceiling_height','first_day_exposition']\n",
    "def frame_plot(frame, list_of_columns):\n",
    "    for column in list_of_columns:\n",
    "        frame[column].hist(bins = 15,figsize = (15,5))\n",
    "        plt.title(column)\n",
    "        plt.show()\n",
    "        print()\n",
    "frame_plot(spb_center, list_of_columns_spb)\n"
   ]
  },
  {
   "cell_type": "markdown",
   "metadata": {},
   "source": [
    "######  Вывод"
   ]
  },
  {
   "cell_type": "markdown",
   "metadata": {},
   "source": [
    "\n",
    "\n",
    "Цена недвижимости:\n",
    "\n",
    "Гитограмме сдвинулась  в сторону более дорогого жилья, которое видно по перевесу правой части графика\n",
    "\n",
    "Количество комнат:\n",
    "\n",
    "относительно всех объявлений здесь виден количественный перевес 2-комнатных квартир\n",
    "\n",
    "Общая площадь:\n",
    "\n",
    "Большой разницы не наблюдается\n",
    "\n",
    "Высота потолков:\n",
    "\n",
    "На графике преобладает высота потолка 2.55 и 3 метра. \n",
    "День загрузки объявления:\n",
    "\n",
    "В Санкт-Петербурге основной период объявлений был длинее и длился около года с весны 2017 года по весну 2018"
   ]
  },
  {
   "cell_type": "markdown",
   "metadata": {},
   "source": [
    "## Общий вывод"
   ]
  },
  {
   "cell_type": "markdown",
   "metadata": {},
   "source": [
    "\n",
    "\n",
    "Предоставленные данные были грязными, но после очистки мы смогли их проанализировать и пришли к следующим выводам:\n",
    "\n",
    "Цена зависит от общей площади и удаления от центра.\n",
    "    В центре Питера общая площадь меньше влияет на цену, в отличии от количества комнат, которые выходят на первых план\n",
    "    Основной объем объявлений был вывешен в период 2017 - 2019.\n",
    "    Большенство квартир имеют высоту потолка не превосходящую 2.55 и 3 метра\n",
    "    Чаще встречаются 1-комнатные и 2-комнатные квартиры\n",
    "    По большей части объекты продаются в течение 79-120 дней\n",
    "\n"
   ]
  }
 ],
 "metadata": {
  "ExecuteTimeLog": [
   {
    "duration": 699,
    "start_time": "2022-02-20T07:03:13.026Z"
   },
   {
    "duration": 72,
    "start_time": "2022-02-20T07:04:04.890Z"
   },
   {
    "duration": 65,
    "start_time": "2022-02-20T07:04:40.622Z"
   },
   {
    "duration": 63,
    "start_time": "2022-02-20T07:09:25.689Z"
   },
   {
    "duration": 68,
    "start_time": "2022-02-20T07:10:00.327Z"
   },
   {
    "duration": 695,
    "start_time": "2022-02-20T07:10:07.962Z"
   },
   {
    "duration": 59,
    "start_time": "2022-02-20T07:10:08.659Z"
   },
   {
    "duration": 66,
    "start_time": "2022-02-20T07:10:41.923Z"
   },
   {
    "duration": 63,
    "start_time": "2022-02-20T07:12:54.691Z"
   },
   {
    "duration": 63,
    "start_time": "2022-02-20T07:13:15.606Z"
   },
   {
    "duration": 62,
    "start_time": "2022-02-20T07:13:23.583Z"
   },
   {
    "duration": 65,
    "start_time": "2022-02-20T07:13:50.391Z"
   },
   {
    "duration": 95,
    "start_time": "2022-02-20T07:15:57.667Z"
   },
   {
    "duration": 105,
    "start_time": "2022-02-20T07:16:17.026Z"
   },
   {
    "duration": 149,
    "start_time": "2022-02-20T07:22:38.720Z"
   },
   {
    "duration": 101,
    "start_time": "2022-02-20T07:26:57.182Z"
   },
   {
    "duration": 101,
    "start_time": "2022-02-20T07:27:17.442Z"
   },
   {
    "duration": 87,
    "start_time": "2022-02-20T07:29:30.652Z"
   },
   {
    "duration": 84,
    "start_time": "2022-02-20T07:29:39.452Z"
   },
   {
    "duration": 7,
    "start_time": "2022-02-20T07:29:47.660Z"
   },
   {
    "duration": 7,
    "start_time": "2022-02-20T07:35:37.054Z"
   },
   {
    "duration": 9,
    "start_time": "2022-02-20T07:37:27.071Z"
   },
   {
    "duration": 7,
    "start_time": "2022-02-20T07:37:55.290Z"
   },
   {
    "duration": 80,
    "start_time": "2022-02-20T07:40:56.280Z"
   },
   {
    "duration": 10,
    "start_time": "2022-02-20T07:41:20.097Z"
   },
   {
    "duration": 362,
    "start_time": "2022-02-20T07:49:22.244Z"
   },
   {
    "duration": 280,
    "start_time": "2022-02-20T07:49:48.048Z"
   },
   {
    "duration": 289,
    "start_time": "2022-02-20T07:50:18.486Z"
   },
   {
    "duration": 360,
    "start_time": "2022-02-20T07:51:12.254Z"
   },
   {
    "duration": 338,
    "start_time": "2022-02-20T07:52:01.263Z"
   },
   {
    "duration": 83,
    "start_time": "2022-02-20T07:52:09.427Z"
   },
   {
    "duration": 84,
    "start_time": "2022-02-20T07:53:57.783Z"
   },
   {
    "duration": 8,
    "start_time": "2022-02-20T07:54:53.005Z"
   },
   {
    "duration": 4,
    "start_time": "2022-02-20T07:57:05.174Z"
   },
   {
    "duration": 10,
    "start_time": "2022-02-20T07:57:49.888Z"
   },
   {
    "duration": 302,
    "start_time": "2022-02-20T08:00:52.826Z"
   },
   {
    "duration": 749,
    "start_time": "2022-02-20T08:01:13.670Z"
   },
   {
    "duration": 110,
    "start_time": "2022-02-20T08:01:14.421Z"
   },
   {
    "duration": 7,
    "start_time": "2022-02-20T08:01:14.533Z"
   },
   {
    "duration": 458,
    "start_time": "2022-02-20T08:01:14.542Z"
   },
   {
    "duration": 9,
    "start_time": "2022-02-20T08:01:33.604Z"
   },
   {
    "duration": 10,
    "start_time": "2022-02-20T08:01:53.423Z"
   },
   {
    "duration": 317,
    "start_time": "2022-02-20T08:03:30.974Z"
   },
   {
    "duration": 307,
    "start_time": "2022-02-20T08:03:50.190Z"
   },
   {
    "duration": 11,
    "start_time": "2022-02-20T08:04:15.408Z"
   },
   {
    "duration": 13,
    "start_time": "2022-02-20T08:04:35.316Z"
   },
   {
    "duration": 10,
    "start_time": "2022-02-20T08:04:43.646Z"
   },
   {
    "duration": 12,
    "start_time": "2022-02-20T08:07:50.828Z"
   },
   {
    "duration": 14,
    "start_time": "2022-02-20T08:09:57.195Z"
   },
   {
    "duration": 25,
    "start_time": "2022-02-20T08:10:04.250Z"
   },
   {
    "duration": 23,
    "start_time": "2022-02-20T08:13:34.447Z"
   },
   {
    "duration": 13,
    "start_time": "2022-02-20T08:16:14.818Z"
   },
   {
    "duration": 104,
    "start_time": "2022-02-20T08:23:42.739Z"
   },
   {
    "duration": 99,
    "start_time": "2022-02-20T08:25:38.255Z"
   },
   {
    "duration": 8,
    "start_time": "2022-02-20T08:28:11.337Z"
   },
   {
    "duration": 18,
    "start_time": "2022-02-20T08:31:40.349Z"
   },
   {
    "duration": 13,
    "start_time": "2022-02-20T08:32:19.179Z"
   },
   {
    "duration": 12,
    "start_time": "2022-02-20T08:33:06.140Z"
   },
   {
    "duration": 13,
    "start_time": "2022-02-20T08:34:33.950Z"
   },
   {
    "duration": 15,
    "start_time": "2022-02-20T08:35:46.222Z"
   },
   {
    "duration": 14,
    "start_time": "2022-02-20T08:36:26.931Z"
   },
   {
    "duration": 13,
    "start_time": "2022-02-20T08:37:13.477Z"
   },
   {
    "duration": 809,
    "start_time": "2022-02-20T08:37:21.387Z"
   },
   {
    "duration": 105,
    "start_time": "2022-02-20T08:37:22.198Z"
   },
   {
    "duration": 16,
    "start_time": "2022-02-20T08:37:22.306Z"
   },
   {
    "duration": 16,
    "start_time": "2022-02-20T08:37:22.323Z"
   },
   {
    "duration": 11,
    "start_time": "2022-02-20T08:37:22.341Z"
   },
   {
    "duration": 13,
    "start_time": "2022-02-20T08:37:22.354Z"
   },
   {
    "duration": 14,
    "start_time": "2022-02-20T08:41:13.102Z"
   },
   {
    "duration": 9,
    "start_time": "2022-02-20T08:41:54.103Z"
   },
   {
    "duration": 10,
    "start_time": "2022-02-20T08:42:30.803Z"
   },
   {
    "duration": 874,
    "start_time": "2022-02-20T08:50:50.572Z"
   },
   {
    "duration": 110,
    "start_time": "2022-02-20T08:50:51.448Z"
   },
   {
    "duration": 6,
    "start_time": "2022-02-20T08:50:51.561Z"
   },
   {
    "duration": 21,
    "start_time": "2022-02-20T08:50:51.569Z"
   },
   {
    "duration": 31,
    "start_time": "2022-02-20T08:50:51.592Z"
   },
   {
    "duration": 9,
    "start_time": "2022-02-20T08:50:51.625Z"
   },
   {
    "duration": 100,
    "start_time": "2022-02-20T08:52:22.335Z"
   },
   {
    "duration": 106,
    "start_time": "2022-02-20T08:52:58.115Z"
   },
   {
    "duration": 12,
    "start_time": "2022-02-20T08:54:09.125Z"
   },
   {
    "duration": 12,
    "start_time": "2022-02-20T08:56:01.442Z"
   },
   {
    "duration": 16,
    "start_time": "2022-02-20T08:57:50.123Z"
   },
   {
    "duration": 94,
    "start_time": "2022-02-20T09:00:29.302Z"
   },
   {
    "duration": 81,
    "start_time": "2022-02-20T09:00:35.608Z"
   },
   {
    "duration": 30,
    "start_time": "2022-02-20T09:00:45.919Z"
   },
   {
    "duration": 30,
    "start_time": "2022-02-20T09:06:03.570Z"
   },
   {
    "duration": 768,
    "start_time": "2022-02-20T09:18:12.374Z"
   },
   {
    "duration": 118,
    "start_time": "2022-02-20T09:18:13.144Z"
   },
   {
    "duration": 8,
    "start_time": "2022-02-20T09:18:13.264Z"
   },
   {
    "duration": 26,
    "start_time": "2022-02-20T09:18:13.274Z"
   },
   {
    "duration": 28,
    "start_time": "2022-02-20T09:18:13.302Z"
   },
   {
    "duration": 21,
    "start_time": "2022-02-20T09:18:13.332Z"
   },
   {
    "duration": 47,
    "start_time": "2022-02-20T09:18:13.355Z"
   },
   {
    "duration": 13,
    "start_time": "2022-02-20T09:18:59.321Z"
   },
   {
    "duration": 1039,
    "start_time": "2022-02-20T09:19:19.542Z"
   },
   {
    "duration": 156,
    "start_time": "2022-02-20T09:19:20.584Z"
   },
   {
    "duration": 8,
    "start_time": "2022-02-20T09:19:20.742Z"
   },
   {
    "duration": 17,
    "start_time": "2022-02-20T09:19:20.752Z"
   },
   {
    "duration": 12,
    "start_time": "2022-02-20T09:19:20.771Z"
   },
   {
    "duration": 45,
    "start_time": "2022-02-20T09:19:20.785Z"
   },
   {
    "duration": 35,
    "start_time": "2022-02-20T09:19:20.832Z"
   },
   {
    "duration": 11,
    "start_time": "2022-02-20T09:21:15.925Z"
   },
   {
    "duration": 354,
    "start_time": "2022-02-20T09:28:32.029Z"
   },
   {
    "duration": 749,
    "start_time": "2022-02-20T09:28:46.733Z"
   },
   {
    "duration": 100,
    "start_time": "2022-02-20T09:28:47.484Z"
   },
   {
    "duration": 314,
    "start_time": "2022-02-20T09:28:47.586Z"
   },
   {
    "duration": -49361,
    "start_time": "2022-02-20T09:29:37.263Z"
   },
   {
    "duration": -49364,
    "start_time": "2022-02-20T09:29:37.267Z"
   },
   {
    "duration": -49369,
    "start_time": "2022-02-20T09:29:37.273Z"
   },
   {
    "duration": -49370,
    "start_time": "2022-02-20T09:29:37.275Z"
   },
   {
    "duration": -49372,
    "start_time": "2022-02-20T09:29:37.278Z"
   },
   {
    "duration": -49374,
    "start_time": "2022-02-20T09:29:37.281Z"
   },
   {
    "duration": 9,
    "start_time": "2022-02-20T09:29:21.522Z"
   },
   {
    "duration": 4,
    "start_time": "2022-02-20T09:29:53.649Z"
   },
   {
    "duration": 11,
    "start_time": "2022-02-20T09:31:58.213Z"
   },
   {
    "duration": 8,
    "start_time": "2022-02-20T09:32:06.305Z"
   },
   {
    "duration": 9,
    "start_time": "2022-02-20T09:32:28.522Z"
   },
   {
    "duration": 771,
    "start_time": "2022-02-20T09:33:40.159Z"
   },
   {
    "duration": 103,
    "start_time": "2022-02-20T09:33:40.932Z"
   },
   {
    "duration": 8,
    "start_time": "2022-02-20T09:33:41.037Z"
   },
   {
    "duration": 7,
    "start_time": "2022-02-20T09:33:41.047Z"
   },
   {
    "duration": 13,
    "start_time": "2022-02-20T09:33:41.056Z"
   },
   {
    "duration": 46,
    "start_time": "2022-02-20T09:33:41.071Z"
   },
   {
    "duration": 12,
    "start_time": "2022-02-20T09:33:41.119Z"
   },
   {
    "duration": 12,
    "start_time": "2022-02-20T09:33:41.133Z"
   },
   {
    "duration": 7,
    "start_time": "2022-02-20T09:33:41.147Z"
   },
   {
    "duration": 11,
    "start_time": "2022-02-20T09:35:02.146Z"
   },
   {
    "duration": 7,
    "start_time": "2022-02-20T09:35:13.671Z"
   },
   {
    "duration": 11,
    "start_time": "2022-02-20T09:37:20.499Z"
   },
   {
    "duration": 7,
    "start_time": "2022-02-20T09:38:45.385Z"
   },
   {
    "duration": 7,
    "start_time": "2022-02-20T09:38:48.506Z"
   },
   {
    "duration": 735,
    "start_time": "2022-02-20T09:40:44.576Z"
   },
   {
    "duration": 109,
    "start_time": "2022-02-20T09:40:45.313Z"
   },
   {
    "duration": 10,
    "start_time": "2022-02-20T09:40:45.425Z"
   },
   {
    "duration": 9,
    "start_time": "2022-02-20T09:40:45.437Z"
   },
   {
    "duration": 13,
    "start_time": "2022-02-20T09:40:45.448Z"
   },
   {
    "duration": 11,
    "start_time": "2022-02-20T09:40:45.463Z"
   },
   {
    "duration": 52,
    "start_time": "2022-02-20T09:40:45.477Z"
   },
   {
    "duration": 14,
    "start_time": "2022-02-20T09:40:45.532Z"
   },
   {
    "duration": 8,
    "start_time": "2022-02-20T09:40:45.548Z"
   },
   {
    "duration": 12,
    "start_time": "2022-02-20T09:40:45.557Z"
   },
   {
    "duration": 5,
    "start_time": "2022-02-20T09:40:45.571Z"
   },
   {
    "duration": 8,
    "start_time": "2022-02-20T09:40:58.653Z"
   },
   {
    "duration": 8,
    "start_time": "2022-02-20T09:41:11.842Z"
   },
   {
    "duration": 101,
    "start_time": "2022-02-20T09:41:54.895Z"
   },
   {
    "duration": 455,
    "start_time": "2022-02-20T09:42:20.664Z"
   },
   {
    "duration": 102,
    "start_time": "2022-02-20T09:42:31.901Z"
   },
   {
    "duration": 90,
    "start_time": "2022-02-20T09:42:53.301Z"
   },
   {
    "duration": 6806,
    "start_time": "2022-02-20T09:43:29.674Z"
   },
   {
    "duration": 6127,
    "start_time": "2022-02-20T09:44:16.322Z"
   },
   {
    "duration": 775,
    "start_time": "2022-02-20T09:44:33.156Z"
   },
   {
    "duration": 104,
    "start_time": "2022-02-20T09:44:33.932Z"
   },
   {
    "duration": 9,
    "start_time": "2022-02-20T09:44:34.039Z"
   },
   {
    "duration": 9,
    "start_time": "2022-02-20T09:44:34.050Z"
   },
   {
    "duration": 15,
    "start_time": "2022-02-20T09:44:34.061Z"
   },
   {
    "duration": 45,
    "start_time": "2022-02-20T09:44:34.078Z"
   },
   {
    "duration": 11,
    "start_time": "2022-02-20T09:44:34.125Z"
   },
   {
    "duration": 10,
    "start_time": "2022-02-20T09:44:34.139Z"
   },
   {
    "duration": 7,
    "start_time": "2022-02-20T09:44:34.151Z"
   },
   {
    "duration": 9,
    "start_time": "2022-02-20T09:44:34.160Z"
   },
   {
    "duration": 7,
    "start_time": "2022-02-20T09:44:34.171Z"
   },
   {
    "duration": 7,
    "start_time": "2022-02-20T09:46:58.506Z"
   },
   {
    "duration": 8,
    "start_time": "2022-02-20T09:48:54.389Z"
   },
   {
    "duration": 9,
    "start_time": "2022-02-20T09:49:26.184Z"
   },
   {
    "duration": 5,
    "start_time": "2022-02-20T09:49:55.768Z"
   },
   {
    "duration": 8,
    "start_time": "2022-02-20T09:51:10.216Z"
   },
   {
    "duration": 9,
    "start_time": "2022-02-20T09:51:21.479Z"
   },
   {
    "duration": 13,
    "start_time": "2022-02-20T09:51:46.049Z"
   },
   {
    "duration": 12,
    "start_time": "2022-02-20T09:52:14.546Z"
   },
   {
    "duration": 8,
    "start_time": "2022-02-20T09:53:33.199Z"
   },
   {
    "duration": 759,
    "start_time": "2022-02-20T09:53:42.432Z"
   },
   {
    "duration": 114,
    "start_time": "2022-02-20T09:53:43.193Z"
   },
   {
    "duration": 17,
    "start_time": "2022-02-20T09:53:43.309Z"
   },
   {
    "duration": 8,
    "start_time": "2022-02-20T09:53:43.328Z"
   },
   {
    "duration": 16,
    "start_time": "2022-02-20T09:53:43.339Z"
   },
   {
    "duration": 12,
    "start_time": "2022-02-20T09:53:43.357Z"
   },
   {
    "duration": 11,
    "start_time": "2022-02-20T09:53:43.371Z"
   },
   {
    "duration": 43,
    "start_time": "2022-02-20T09:53:43.385Z"
   },
   {
    "duration": 7,
    "start_time": "2022-02-20T09:53:43.430Z"
   },
   {
    "duration": 8,
    "start_time": "2022-02-20T09:53:43.439Z"
   },
   {
    "duration": 10,
    "start_time": "2022-02-20T09:53:43.448Z"
   },
   {
    "duration": 6,
    "start_time": "2022-02-20T09:53:43.461Z"
   },
   {
    "duration": 49,
    "start_time": "2022-02-20T09:53:43.469Z"
   },
   {
    "duration": 8,
    "start_time": "2022-02-20T09:53:43.520Z"
   },
   {
    "duration": 8,
    "start_time": "2022-02-20T09:53:52.793Z"
   },
   {
    "duration": 11,
    "start_time": "2022-02-20T09:54:45.429Z"
   },
   {
    "duration": 10,
    "start_time": "2022-02-20T09:54:53.234Z"
   },
   {
    "duration": 9,
    "start_time": "2022-02-20T09:55:11.394Z"
   },
   {
    "duration": 229,
    "start_time": "2022-02-20T09:56:06.333Z"
   },
   {
    "duration": 206,
    "start_time": "2022-02-20T09:56:31.677Z"
   },
   {
    "duration": 438,
    "start_time": "2022-02-20T09:56:44.594Z"
   },
   {
    "duration": 250,
    "start_time": "2022-02-20T09:57:17.423Z"
   },
   {
    "duration": 208,
    "start_time": "2022-02-20T09:57:32.980Z"
   },
   {
    "duration": 203,
    "start_time": "2022-02-20T09:57:56.938Z"
   },
   {
    "duration": 6,
    "start_time": "2022-02-20T10:06:41.731Z"
   },
   {
    "duration": 6,
    "start_time": "2022-02-20T10:07:02.557Z"
   },
   {
    "duration": 5,
    "start_time": "2022-02-20T10:13:17.172Z"
   },
   {
    "duration": 7,
    "start_time": "2022-02-20T10:14:16.725Z"
   },
   {
    "duration": 6,
    "start_time": "2022-02-20T10:14:50.297Z"
   },
   {
    "duration": 159,
    "start_time": "2022-02-20T11:30:56.074Z"
   },
   {
    "duration": 314,
    "start_time": "2022-02-20T11:33:45.609Z"
   },
   {
    "duration": 10,
    "start_time": "2022-02-20T11:34:17.047Z"
   },
   {
    "duration": 17,
    "start_time": "2022-02-20T11:34:51.327Z"
   },
   {
    "duration": 29,
    "start_time": "2022-02-20T11:34:58.122Z"
   },
   {
    "duration": 308,
    "start_time": "2022-02-20T11:36:03.591Z"
   },
   {
    "duration": 8,
    "start_time": "2022-02-20T11:36:24.218Z"
   },
   {
    "duration": 10,
    "start_time": "2022-02-20T11:40:19.824Z"
   },
   {
    "duration": 10,
    "start_time": "2022-02-20T11:40:53.722Z"
   },
   {
    "duration": 775,
    "start_time": "2022-02-20T11:41:21.825Z"
   },
   {
    "duration": 106,
    "start_time": "2022-02-20T11:41:22.602Z"
   },
   {
    "duration": 7,
    "start_time": "2022-02-20T11:41:22.719Z"
   },
   {
    "duration": 41,
    "start_time": "2022-02-20T11:41:22.727Z"
   },
   {
    "duration": 14,
    "start_time": "2022-02-20T11:41:22.770Z"
   },
   {
    "duration": 36,
    "start_time": "2022-02-20T11:41:22.785Z"
   },
   {
    "duration": 44,
    "start_time": "2022-02-20T11:41:22.824Z"
   },
   {
    "duration": 18,
    "start_time": "2022-02-20T11:41:22.870Z"
   },
   {
    "duration": 26,
    "start_time": "2022-02-20T11:41:22.889Z"
   },
   {
    "duration": 33,
    "start_time": "2022-02-20T11:41:22.917Z"
   },
   {
    "duration": 18,
    "start_time": "2022-02-20T11:41:22.951Z"
   },
   {
    "duration": 50,
    "start_time": "2022-02-20T11:41:22.971Z"
   },
   {
    "duration": 15,
    "start_time": "2022-02-20T11:41:23.023Z"
   },
   {
    "duration": 16,
    "start_time": "2022-02-20T11:41:23.040Z"
   },
   {
    "duration": 32,
    "start_time": "2022-02-20T11:41:23.058Z"
   },
   {
    "duration": 11,
    "start_time": "2022-02-20T11:41:23.092Z"
   },
   {
    "duration": 223,
    "start_time": "2022-02-20T11:41:23.104Z"
   },
   {
    "duration": 1817,
    "start_time": "2022-02-20T11:41:23.328Z"
   },
   {
    "duration": 14,
    "start_time": "2022-02-20T11:41:53.417Z"
   },
   {
    "duration": 752,
    "start_time": "2022-02-20T11:42:02.152Z"
   },
   {
    "duration": 114,
    "start_time": "2022-02-20T11:42:02.906Z"
   },
   {
    "duration": 5,
    "start_time": "2022-02-20T11:42:03.023Z"
   },
   {
    "duration": 41,
    "start_time": "2022-02-20T11:42:03.029Z"
   },
   {
    "duration": 28,
    "start_time": "2022-02-20T11:42:03.071Z"
   },
   {
    "duration": 20,
    "start_time": "2022-02-20T11:42:03.101Z"
   },
   {
    "duration": 23,
    "start_time": "2022-02-20T11:42:03.123Z"
   },
   {
    "duration": 18,
    "start_time": "2022-02-20T11:42:03.149Z"
   },
   {
    "duration": 26,
    "start_time": "2022-02-20T11:42:03.169Z"
   },
   {
    "duration": 24,
    "start_time": "2022-02-20T11:42:03.196Z"
   },
   {
    "duration": 14,
    "start_time": "2022-02-20T11:42:03.221Z"
   },
   {
    "duration": 28,
    "start_time": "2022-02-20T11:42:03.236Z"
   },
   {
    "duration": 19,
    "start_time": "2022-02-20T11:42:03.266Z"
   },
   {
    "duration": 16,
    "start_time": "2022-02-20T11:42:03.287Z"
   },
   {
    "duration": 34,
    "start_time": "2022-02-20T11:42:03.305Z"
   },
   {
    "duration": 33,
    "start_time": "2022-02-20T11:42:03.342Z"
   },
   {
    "duration": 235,
    "start_time": "2022-02-20T11:42:03.377Z"
   },
   {
    "duration": 15,
    "start_time": "2022-02-20T11:42:03.614Z"
   },
   {
    "duration": 13,
    "start_time": "2022-02-20T11:42:28.649Z"
   },
   {
    "duration": 10,
    "start_time": "2022-02-20T11:47:40.971Z"
   },
   {
    "duration": 11,
    "start_time": "2022-02-20T11:48:10.308Z"
   },
   {
    "duration": 7,
    "start_time": "2022-02-20T11:48:43.627Z"
   },
   {
    "duration": 7,
    "start_time": "2022-02-20T11:48:58.469Z"
   },
   {
    "duration": 761,
    "start_time": "2022-02-20T11:49:06.956Z"
   },
   {
    "duration": 100,
    "start_time": "2022-02-20T11:49:07.719Z"
   },
   {
    "duration": 5,
    "start_time": "2022-02-20T11:49:07.822Z"
   },
   {
    "duration": 16,
    "start_time": "2022-02-20T11:49:07.828Z"
   },
   {
    "duration": 9,
    "start_time": "2022-02-20T11:49:07.846Z"
   },
   {
    "duration": 9,
    "start_time": "2022-02-20T11:49:07.857Z"
   },
   {
    "duration": 21,
    "start_time": "2022-02-20T11:49:07.868Z"
   },
   {
    "duration": 16,
    "start_time": "2022-02-20T11:49:07.919Z"
   },
   {
    "duration": 11,
    "start_time": "2022-02-20T11:49:07.937Z"
   },
   {
    "duration": 13,
    "start_time": "2022-02-20T11:49:07.950Z"
   },
   {
    "duration": 7,
    "start_time": "2022-02-20T11:49:07.964Z"
   },
   {
    "duration": 11,
    "start_time": "2022-02-20T11:49:07.972Z"
   },
   {
    "duration": 38,
    "start_time": "2022-02-20T11:49:07.985Z"
   },
   {
    "duration": 7,
    "start_time": "2022-02-20T11:49:08.025Z"
   },
   {
    "duration": 7,
    "start_time": "2022-02-20T11:49:08.034Z"
   },
   {
    "duration": 9,
    "start_time": "2022-02-20T11:49:08.043Z"
   },
   {
    "duration": 259,
    "start_time": "2022-02-20T11:49:08.054Z"
   },
   {
    "duration": 2143,
    "start_time": "2022-02-20T11:49:08.318Z"
   },
   {
    "duration": 1693,
    "start_time": "2022-02-20T11:49:25.753Z"
   },
   {
    "duration": 1702,
    "start_time": "2022-02-20T11:49:34.210Z"
   },
   {
    "duration": 2140,
    "start_time": "2022-02-20T11:49:59.626Z"
   },
   {
    "duration": 814,
    "start_time": "2022-02-20T11:50:06.531Z"
   },
   {
    "duration": 127,
    "start_time": "2022-02-20T11:50:07.348Z"
   },
   {
    "duration": 5,
    "start_time": "2022-02-20T11:50:07.477Z"
   },
   {
    "duration": 12,
    "start_time": "2022-02-20T11:50:07.484Z"
   },
   {
    "duration": 20,
    "start_time": "2022-02-20T11:50:07.498Z"
   },
   {
    "duration": 9,
    "start_time": "2022-02-20T11:50:07.526Z"
   },
   {
    "duration": 15,
    "start_time": "2022-02-20T11:50:07.537Z"
   },
   {
    "duration": 11,
    "start_time": "2022-02-20T11:50:07.555Z"
   },
   {
    "duration": 12,
    "start_time": "2022-02-20T11:50:07.568Z"
   },
   {
    "duration": 54,
    "start_time": "2022-02-20T11:50:07.582Z"
   },
   {
    "duration": 8,
    "start_time": "2022-02-20T11:50:07.638Z"
   },
   {
    "duration": 8,
    "start_time": "2022-02-20T11:50:07.648Z"
   },
   {
    "duration": 8,
    "start_time": "2022-02-20T11:50:07.659Z"
   },
   {
    "duration": 26,
    "start_time": "2022-02-20T11:50:07.669Z"
   },
   {
    "duration": 37,
    "start_time": "2022-02-20T11:50:07.697Z"
   },
   {
    "duration": 22,
    "start_time": "2022-02-20T11:50:07.736Z"
   },
   {
    "duration": 248,
    "start_time": "2022-02-20T11:50:07.760Z"
   },
   {
    "duration": 2241,
    "start_time": "2022-02-20T11:50:08.010Z"
   },
   {
    "duration": 12,
    "start_time": "2022-02-20T11:50:55.610Z"
   },
   {
    "duration": 10,
    "start_time": "2022-02-20T11:52:29.791Z"
   },
   {
    "duration": 107,
    "start_time": "2022-02-20T11:52:57.161Z"
   },
   {
    "duration": 106,
    "start_time": "2022-02-20T11:53:17.214Z"
   },
   {
    "duration": 13,
    "start_time": "2022-02-20T11:53:47.091Z"
   },
   {
    "duration": 38,
    "start_time": "2022-02-20T11:57:18.245Z"
   },
   {
    "duration": 12,
    "start_time": "2022-02-20T12:02:02.947Z"
   },
   {
    "duration": 11,
    "start_time": "2022-02-20T12:07:11.897Z"
   },
   {
    "duration": 5,
    "start_time": "2022-02-20T12:07:58.796Z"
   },
   {
    "duration": 6,
    "start_time": "2022-02-20T12:08:33.469Z"
   },
   {
    "duration": 4,
    "start_time": "2022-02-20T12:08:40.413Z"
   },
   {
    "duration": 5,
    "start_time": "2022-02-20T12:11:14.734Z"
   },
   {
    "duration": 6,
    "start_time": "2022-02-20T12:13:59.468Z"
   },
   {
    "duration": 32,
    "start_time": "2022-02-20T12:19:01.861Z"
   },
   {
    "duration": 4,
    "start_time": "2022-02-20T12:23:21.598Z"
   },
   {
    "duration": 6,
    "start_time": "2022-02-20T12:23:42.234Z"
   },
   {
    "duration": 83,
    "start_time": "2022-02-20T12:25:22.690Z"
   },
   {
    "duration": 204,
    "start_time": "2022-02-20T12:25:31.906Z"
   },
   {
    "duration": 200,
    "start_time": "2022-02-20T12:25:50.009Z"
   },
   {
    "duration": 233,
    "start_time": "2022-02-20T12:25:56.139Z"
   },
   {
    "duration": 173,
    "start_time": "2022-02-20T12:26:01.236Z"
   },
   {
    "duration": 172,
    "start_time": "2022-02-20T12:26:09.222Z"
   },
   {
    "duration": 243,
    "start_time": "2022-02-20T12:26:15.067Z"
   },
   {
    "duration": 197,
    "start_time": "2022-02-20T12:26:22.243Z"
   },
   {
    "duration": 475,
    "start_time": "2022-02-20T12:26:30.836Z"
   },
   {
    "duration": 202,
    "start_time": "2022-02-20T12:26:39.898Z"
   },
   {
    "duration": 189,
    "start_time": "2022-02-20T12:26:52.766Z"
   },
   {
    "duration": 173,
    "start_time": "2022-02-20T12:29:06.871Z"
   },
   {
    "duration": 283,
    "start_time": "2022-02-20T12:29:15.013Z"
   },
   {
    "duration": 362,
    "start_time": "2022-02-20T12:29:24.571Z"
   },
   {
    "duration": 170,
    "start_time": "2022-02-20T12:29:31.601Z"
   },
   {
    "duration": 220,
    "start_time": "2022-02-20T12:31:23.415Z"
   },
   {
    "duration": 241,
    "start_time": "2022-02-20T12:31:31.307Z"
   },
   {
    "duration": 242,
    "start_time": "2022-02-20T12:31:35.205Z"
   },
   {
    "duration": 4,
    "start_time": "2022-02-20T12:35:03.559Z"
   },
   {
    "duration": 4,
    "start_time": "2022-02-20T12:35:44.932Z"
   },
   {
    "duration": 4,
    "start_time": "2022-02-20T12:36:08.795Z"
   },
   {
    "duration": 12,
    "start_time": "2022-02-20T14:01:48.097Z"
   },
   {
    "duration": 95,
    "start_time": "2022-02-20T14:04:00.148Z"
   },
   {
    "duration": 270,
    "start_time": "2022-02-20T14:06:02.547Z"
   },
   {
    "duration": 93,
    "start_time": "2022-02-20T14:06:08.019Z"
   },
   {
    "duration": 87,
    "start_time": "2022-02-20T14:06:11.925Z"
   },
   {
    "duration": 135,
    "start_time": "2022-02-20T14:06:20.700Z"
   },
   {
    "duration": 90,
    "start_time": "2022-02-20T14:09:56.829Z"
   },
   {
    "duration": 255,
    "start_time": "2022-02-20T14:10:05.493Z"
   },
   {
    "duration": 1011,
    "start_time": "2022-02-20T14:10:47.518Z"
   },
   {
    "duration": 263,
    "start_time": "2022-02-20T14:11:06.448Z"
   },
   {
    "duration": 158,
    "start_time": "2022-02-20T14:15:14.182Z"
   },
   {
    "duration": 155,
    "start_time": "2022-02-20T14:15:48.476Z"
   },
   {
    "duration": 1053,
    "start_time": "2022-02-20T14:15:57.499Z"
   },
   {
    "duration": 265,
    "start_time": "2022-02-20T14:16:20.431Z"
   },
   {
    "duration": 4,
    "start_time": "2022-02-20T14:25:19.976Z"
   },
   {
    "duration": 9,
    "start_time": "2022-02-20T14:25:32.600Z"
   },
   {
    "duration": 696,
    "start_time": "2022-02-20T14:28:04.935Z"
   },
   {
    "duration": 453,
    "start_time": "2022-02-20T14:29:05.347Z"
   },
   {
    "duration": 995,
    "start_time": "2022-02-20T14:30:32.560Z"
   },
   {
    "duration": 316,
    "start_time": "2022-02-20T14:31:20.412Z"
   },
   {
    "duration": 542,
    "start_time": "2022-02-20T14:32:24.976Z"
   },
   {
    "duration": 157,
    "start_time": "2022-02-20T14:37:05.147Z"
   },
   {
    "duration": 299,
    "start_time": "2022-02-20T14:38:23.678Z"
   },
   {
    "duration": 328,
    "start_time": "2022-02-20T14:40:13.965Z"
   },
   {
    "duration": 461,
    "start_time": "2022-02-20T14:40:25.509Z"
   },
   {
    "duration": 405,
    "start_time": "2022-02-20T14:41:36.822Z"
   },
   {
    "duration": 490,
    "start_time": "2022-02-20T14:41:55.851Z"
   },
   {
    "duration": 55,
    "start_time": "2022-02-20T14:48:57.937Z"
   },
   {
    "duration": 16,
    "start_time": "2022-02-20T14:50:00.321Z"
   },
   {
    "duration": 11,
    "start_time": "2022-02-20T14:50:24.664Z"
   },
   {
    "duration": 7,
    "start_time": "2022-02-20T14:50:43.591Z"
   },
   {
    "duration": 10,
    "start_time": "2022-02-20T14:53:39.222Z"
   },
   {
    "duration": 11,
    "start_time": "2022-02-20T14:53:52.477Z"
   },
   {
    "duration": 393,
    "start_time": "2022-02-20T14:54:50.743Z"
   },
   {
    "duration": 332,
    "start_time": "2022-02-20T14:55:00.417Z"
   },
   {
    "duration": 366,
    "start_time": "2022-02-20T14:55:07.678Z"
   },
   {
    "duration": 6,
    "start_time": "2022-02-20T16:13:56.545Z"
   },
   {
    "duration": 8439,
    "start_time": "2022-02-20T16:16:16.115Z"
   },
   {
    "duration": 9305,
    "start_time": "2022-02-20T16:17:17.214Z"
   },
   {
    "duration": 7624,
    "start_time": "2022-02-20T16:17:58.591Z"
   },
   {
    "duration": 999,
    "start_time": "2022-02-20T16:19:08.363Z"
   },
   {
    "duration": 131,
    "start_time": "2022-02-20T16:19:09.364Z"
   },
   {
    "duration": 23,
    "start_time": "2022-02-20T16:19:09.501Z"
   },
   {
    "duration": 11,
    "start_time": "2022-02-20T16:19:09.527Z"
   },
   {
    "duration": 18,
    "start_time": "2022-02-20T16:19:09.542Z"
   },
   {
    "duration": 22,
    "start_time": "2022-02-20T16:19:09.563Z"
   },
   {
    "duration": 33,
    "start_time": "2022-02-20T16:19:09.588Z"
   },
   {
    "duration": 19,
    "start_time": "2022-02-20T16:19:09.624Z"
   },
   {
    "duration": 126,
    "start_time": "2022-02-20T16:19:09.646Z"
   },
   {
    "duration": -49518,
    "start_time": "2022-02-20T16:19:59.293Z"
   },
   {
    "duration": -49537,
    "start_time": "2022-02-20T16:19:59.313Z"
   },
   {
    "duration": -49543,
    "start_time": "2022-02-20T16:19:59.320Z"
   },
   {
    "duration": -49545,
    "start_time": "2022-02-20T16:19:59.324Z"
   },
   {
    "duration": -49548,
    "start_time": "2022-02-20T16:19:59.329Z"
   },
   {
    "duration": -49554,
    "start_time": "2022-02-20T16:19:59.336Z"
   },
   {
    "duration": -49558,
    "start_time": "2022-02-20T16:19:59.341Z"
   },
   {
    "duration": -49570,
    "start_time": "2022-02-20T16:19:59.355Z"
   },
   {
    "duration": -49574,
    "start_time": "2022-02-20T16:19:59.360Z"
   },
   {
    "duration": -49580,
    "start_time": "2022-02-20T16:19:59.367Z"
   },
   {
    "duration": -49583,
    "start_time": "2022-02-20T16:19:59.372Z"
   },
   {
    "duration": -49587,
    "start_time": "2022-02-20T16:19:59.377Z"
   },
   {
    "duration": -49592,
    "start_time": "2022-02-20T16:19:59.384Z"
   },
   {
    "duration": -49594,
    "start_time": "2022-02-20T16:19:59.388Z"
   },
   {
    "duration": -49597,
    "start_time": "2022-02-20T16:19:59.392Z"
   },
   {
    "duration": -49599,
    "start_time": "2022-02-20T16:19:59.395Z"
   },
   {
    "duration": -49609,
    "start_time": "2022-02-20T16:19:59.407Z"
   },
   {
    "duration": -49613,
    "start_time": "2022-02-20T16:19:59.412Z"
   },
   {
    "duration": -49621,
    "start_time": "2022-02-20T16:19:59.421Z"
   },
   {
    "duration": -49623,
    "start_time": "2022-02-20T16:19:59.425Z"
   },
   {
    "duration": 381,
    "start_time": "2022-02-20T16:19:20.877Z"
   },
   {
    "duration": 6,
    "start_time": "2022-02-20T16:19:44.269Z"
   },
   {
    "duration": 12,
    "start_time": "2022-02-20T16:19:46.583Z"
   },
   {
    "duration": 93,
    "start_time": "2022-02-20T16:20:19.267Z"
   },
   {
    "duration": 6,
    "start_time": "2022-02-20T16:23:11.102Z"
   },
   {
    "duration": 5,
    "start_time": "2022-02-20T16:27:04.428Z"
   },
   {
    "duration": 13,
    "start_time": "2022-02-20T16:27:07.796Z"
   },
   {
    "duration": 5,
    "start_time": "2022-02-20T16:30:53.026Z"
   },
   {
    "duration": 11,
    "start_time": "2022-02-20T16:30:54.744Z"
   },
   {
    "duration": 174,
    "start_time": "2022-02-20T16:33:33.106Z"
   },
   {
    "duration": 242,
    "start_time": "2022-02-20T16:38:33.223Z"
   },
   {
    "duration": 416,
    "start_time": "2022-02-20T16:38:48.176Z"
   },
   {
    "duration": 314,
    "start_time": "2022-02-20T16:40:27.191Z"
   },
   {
    "duration": 106,
    "start_time": "2022-02-20T16:42:03.924Z"
   },
   {
    "duration": 528,
    "start_time": "2022-02-20T16:42:11.343Z"
   },
   {
    "duration": 598,
    "start_time": "2022-02-20T16:43:10.534Z"
   },
   {
    "duration": 585,
    "start_time": "2022-02-20T16:43:46.681Z"
   },
   {
    "duration": 615,
    "start_time": "2022-02-20T16:44:04.416Z"
   },
   {
    "duration": 277,
    "start_time": "2022-02-20T16:44:49.052Z"
   },
   {
    "duration": 11,
    "start_time": "2022-02-20T16:47:15.315Z"
   },
   {
    "duration": 163,
    "start_time": "2022-02-20T16:50:11.658Z"
   },
   {
    "duration": 553,
    "start_time": "2022-02-20T16:51:53.069Z"
   },
   {
    "duration": 290,
    "start_time": "2022-02-20T16:53:05.445Z"
   },
   {
    "duration": 1223,
    "start_time": "2022-02-20T16:53:54.406Z"
   },
   {
    "duration": 1346,
    "start_time": "2022-02-20T16:55:42.677Z"
   },
   {
    "duration": 1306,
    "start_time": "2022-02-20T16:56:44.525Z"
   },
   {
    "duration": 13,
    "start_time": "2022-02-20T16:59:05.954Z"
   },
   {
    "duration": 294,
    "start_time": "2022-02-20T17:00:02.793Z"
   },
   {
    "duration": 280,
    "start_time": "2022-02-20T17:00:19.268Z"
   },
   {
    "duration": 1000,
    "start_time": "2022-02-20T17:01:17.187Z"
   },
   {
    "duration": 136,
    "start_time": "2022-02-20T17:01:18.190Z"
   },
   {
    "duration": 10,
    "start_time": "2022-02-20T17:01:18.329Z"
   },
   {
    "duration": 25,
    "start_time": "2022-02-20T17:01:18.342Z"
   },
   {
    "duration": 13,
    "start_time": "2022-02-20T17:01:18.370Z"
   },
   {
    "duration": 46,
    "start_time": "2022-02-20T17:01:18.384Z"
   },
   {
    "duration": 18,
    "start_time": "2022-02-20T17:01:18.432Z"
   },
   {
    "duration": 14,
    "start_time": "2022-02-20T17:01:18.454Z"
   },
   {
    "duration": 125,
    "start_time": "2022-02-20T17:01:18.470Z"
   },
   {
    "duration": -49573,
    "start_time": "2022-02-20T17:02:08.172Z"
   },
   {
    "duration": -49593,
    "start_time": "2022-02-20T17:02:08.193Z"
   },
   {
    "duration": -49597,
    "start_time": "2022-02-20T17:02:08.199Z"
   },
   {
    "duration": -49601,
    "start_time": "2022-02-20T17:02:08.204Z"
   },
   {
    "duration": -49610,
    "start_time": "2022-02-20T17:02:08.214Z"
   },
   {
    "duration": -49614,
    "start_time": "2022-02-20T17:02:08.219Z"
   },
   {
    "duration": -49622,
    "start_time": "2022-02-20T17:02:08.228Z"
   },
   {
    "duration": -49627,
    "start_time": "2022-02-20T17:02:08.234Z"
   },
   {
    "duration": -49635,
    "start_time": "2022-02-20T17:02:08.243Z"
   },
   {
    "duration": -49639,
    "start_time": "2022-02-20T17:02:08.248Z"
   },
   {
    "duration": -49642,
    "start_time": "2022-02-20T17:02:08.253Z"
   },
   {
    "duration": -49651,
    "start_time": "2022-02-20T17:02:08.263Z"
   },
   {
    "duration": -49654,
    "start_time": "2022-02-20T17:02:08.267Z"
   },
   {
    "duration": -49662,
    "start_time": "2022-02-20T17:02:08.278Z"
   },
   {
    "duration": -49665,
    "start_time": "2022-02-20T17:02:08.283Z"
   },
   {
    "duration": -49670,
    "start_time": "2022-02-20T17:02:08.289Z"
   },
   {
    "duration": -49678,
    "start_time": "2022-02-20T17:02:08.299Z"
   },
   {
    "duration": -49682,
    "start_time": "2022-02-20T17:02:08.305Z"
   },
   {
    "duration": -49690,
    "start_time": "2022-02-20T17:02:08.314Z"
   },
   {
    "duration": -49694,
    "start_time": "2022-02-20T17:02:08.320Z"
   },
   {
    "duration": -49702,
    "start_time": "2022-02-20T17:02:08.330Z"
   },
   {
    "duration": -49705,
    "start_time": "2022-02-20T17:02:08.335Z"
   },
   {
    "duration": -49714,
    "start_time": "2022-02-20T17:02:08.345Z"
   },
   {
    "duration": -49718,
    "start_time": "2022-02-20T17:02:08.351Z"
   },
   {
    "duration": -49726,
    "start_time": "2022-02-20T17:02:08.360Z"
   },
   {
    "duration": -49731,
    "start_time": "2022-02-20T17:02:08.366Z"
   },
   {
    "duration": 545,
    "start_time": "2022-02-20T17:01:39.002Z"
   },
   {
    "duration": 303,
    "start_time": "2022-02-20T17:01:50.588Z"
   },
   {
    "duration": 4,
    "start_time": "2022-02-20T17:01:56.004Z"
   },
   {
    "duration": 9,
    "start_time": "2022-02-20T17:01:58.907Z"
   },
   {
    "duration": 156,
    "start_time": "2022-02-20T17:02:03.865Z"
   },
   {
    "duration": 415,
    "start_time": "2022-02-20T17:02:06.030Z"
   },
   {
    "duration": 16,
    "start_time": "2022-02-20T17:02:09.831Z"
   },
   {
    "duration": 304,
    "start_time": "2022-02-20T17:02:12.687Z"
   },
   {
    "duration": 11,
    "start_time": "2022-02-20T17:04:50.369Z"
   },
   {
    "duration": 14,
    "start_time": "2022-02-20T17:05:18.024Z"
   },
   {
    "duration": 12,
    "start_time": "2022-02-20T17:06:25.510Z"
   },
   {
    "duration": 1301,
    "start_time": "2022-02-20T17:06:27.468Z"
   },
   {
    "duration": 165,
    "start_time": "2022-02-20T17:06:32.936Z"
   },
   {
    "duration": 8,
    "start_time": "2022-02-20T17:07:54.349Z"
   },
   {
    "duration": 9,
    "start_time": "2022-02-20T17:09:17.427Z"
   },
   {
    "duration": 15,
    "start_time": "2022-02-20T17:09:36.665Z"
   },
   {
    "duration": 204,
    "start_time": "2022-02-20T17:10:58.300Z"
   },
   {
    "duration": 240,
    "start_time": "2022-02-20T17:13:12.043Z"
   },
   {
    "duration": 262,
    "start_time": "2022-02-20T17:13:34.883Z"
   },
   {
    "duration": 11,
    "start_time": "2022-02-20T17:14:21.782Z"
   },
   {
    "duration": 9,
    "start_time": "2022-02-20T17:16:13.409Z"
   },
   {
    "duration": 17,
    "start_time": "2022-02-20T17:17:33.523Z"
   },
   {
    "duration": 160,
    "start_time": "2022-02-20T17:18:28.596Z"
   },
   {
    "duration": 2086,
    "start_time": "2022-02-20T17:21:01.505Z"
   },
   {
    "duration": 12,
    "start_time": "2022-02-20T17:21:30.088Z"
   },
   {
    "duration": 2833,
    "start_time": "2022-02-20T17:22:10.300Z"
   },
   {
    "duration": 2025,
    "start_time": "2022-02-20T17:23:02.968Z"
   },
   {
    "duration": 12,
    "start_time": "2022-02-20T17:24:12.447Z"
   },
   {
    "duration": 15,
    "start_time": "2022-02-20T17:26:14.154Z"
   },
   {
    "duration": 11,
    "start_time": "2022-02-20T17:27:38.253Z"
   },
   {
    "duration": 13,
    "start_time": "2022-02-20T17:28:15.076Z"
   },
   {
    "duration": 169,
    "start_time": "2022-02-20T17:29:25.706Z"
   },
   {
    "duration": 375,
    "start_time": "2022-02-20T17:31:11.311Z"
   },
   {
    "duration": 259,
    "start_time": "2022-02-20T17:31:33.914Z"
   },
   {
    "duration": 330,
    "start_time": "2022-02-20T17:31:46.543Z"
   },
   {
    "duration": 354,
    "start_time": "2022-02-20T17:32:15.398Z"
   },
   {
    "duration": 257,
    "start_time": "2022-02-20T17:32:29.045Z"
   },
   {
    "duration": 315,
    "start_time": "2022-02-20T17:32:42.640Z"
   },
   {
    "duration": 313,
    "start_time": "2022-02-20T17:32:48.752Z"
   },
   {
    "duration": 481,
    "start_time": "2022-02-20T17:32:54.993Z"
   },
   {
    "duration": 255,
    "start_time": "2022-02-20T17:33:07.506Z"
   },
   {
    "duration": 238,
    "start_time": "2022-02-20T17:35:09.486Z"
   },
   {
    "duration": 16,
    "start_time": "2022-02-20T17:35:53.124Z"
   },
   {
    "duration": 94,
    "start_time": "2022-02-20T17:39:34.868Z"
   },
   {
    "duration": 13,
    "start_time": "2022-02-20T17:39:44.822Z"
   },
   {
    "duration": 6429,
    "start_time": "2022-02-20T17:43:40.169Z"
   },
   {
    "duration": 7496,
    "start_time": "2022-02-20T17:44:35.572Z"
   },
   {
    "duration": 7088,
    "start_time": "2022-02-20T17:45:43.903Z"
   },
   {
    "duration": 869,
    "start_time": "2022-02-20T17:45:58.734Z"
   },
   {
    "duration": 115,
    "start_time": "2022-02-20T17:45:59.605Z"
   },
   {
    "duration": 11,
    "start_time": "2022-02-20T17:45:59.722Z"
   },
   {
    "duration": 16,
    "start_time": "2022-02-20T17:45:59.739Z"
   },
   {
    "duration": 10,
    "start_time": "2022-02-20T17:45:59.757Z"
   },
   {
    "duration": 22,
    "start_time": "2022-02-20T17:45:59.770Z"
   },
   {
    "duration": 37,
    "start_time": "2022-02-20T17:45:59.794Z"
   },
   {
    "duration": 20,
    "start_time": "2022-02-20T17:45:59.835Z"
   },
   {
    "duration": 105,
    "start_time": "2022-02-20T17:45:59.858Z"
   },
   {
    "duration": -49531,
    "start_time": "2022-02-20T17:46:49.498Z"
   },
   {
    "duration": -49531,
    "start_time": "2022-02-20T17:46:49.503Z"
   },
   {
    "duration": -49541,
    "start_time": "2022-02-20T17:46:49.515Z"
   },
   {
    "duration": -49545,
    "start_time": "2022-02-20T17:46:49.521Z"
   },
   {
    "duration": -49554,
    "start_time": "2022-02-20T17:46:49.531Z"
   },
   {
    "duration": -49561,
    "start_time": "2022-02-20T17:46:49.539Z"
   },
   {
    "duration": -49569,
    "start_time": "2022-02-20T17:46:49.549Z"
   },
   {
    "duration": -49577,
    "start_time": "2022-02-20T17:46:49.559Z"
   },
   {
    "duration": -49582,
    "start_time": "2022-02-20T17:46:49.565Z"
   },
   {
    "duration": -49586,
    "start_time": "2022-02-20T17:46:49.570Z"
   },
   {
    "duration": -49622,
    "start_time": "2022-02-20T17:46:49.608Z"
   },
   {
    "duration": -49628,
    "start_time": "2022-02-20T17:46:49.615Z"
   },
   {
    "duration": -49633,
    "start_time": "2022-02-20T17:46:49.622Z"
   },
   {
    "duration": -49642,
    "start_time": "2022-02-20T17:46:49.632Z"
   },
   {
    "duration": -49644,
    "start_time": "2022-02-20T17:46:49.636Z"
   },
   {
    "duration": -49653,
    "start_time": "2022-02-20T17:46:49.646Z"
   },
   {
    "duration": -49657,
    "start_time": "2022-02-20T17:46:49.651Z"
   },
   {
    "duration": -49664,
    "start_time": "2022-02-20T17:46:49.660Z"
   },
   {
    "duration": -49669,
    "start_time": "2022-02-20T17:46:49.666Z"
   },
   {
    "duration": -49672,
    "start_time": "2022-02-20T17:46:49.671Z"
   },
   {
    "duration": -49681,
    "start_time": "2022-02-20T17:46:49.681Z"
   },
   {
    "duration": -49685,
    "start_time": "2022-02-20T17:46:49.687Z"
   },
   {
    "duration": -49693,
    "start_time": "2022-02-20T17:46:49.697Z"
   },
   {
    "duration": -49700,
    "start_time": "2022-02-20T17:46:49.705Z"
   },
   {
    "duration": -49708,
    "start_time": "2022-02-20T17:46:49.715Z"
   },
   {
    "duration": -49713,
    "start_time": "2022-02-20T17:46:49.721Z"
   },
   {
    "duration": -49722,
    "start_time": "2022-02-20T17:46:49.732Z"
   },
   {
    "duration": -49726,
    "start_time": "2022-02-20T17:46:49.737Z"
   },
   {
    "duration": -49735,
    "start_time": "2022-02-20T17:46:49.747Z"
   },
   {
    "duration": -49739,
    "start_time": "2022-02-20T17:46:49.752Z"
   },
   {
    "duration": -49739,
    "start_time": "2022-02-20T17:46:49.762Z"
   },
   {
    "duration": -49741,
    "start_time": "2022-02-20T17:46:49.767Z"
   },
   {
    "duration": -49749,
    "start_time": "2022-02-20T17:46:49.776Z"
   },
   {
    "duration": -49753,
    "start_time": "2022-02-20T17:46:49.781Z"
   },
   {
    "duration": -49757,
    "start_time": "2022-02-20T17:46:49.787Z"
   },
   {
    "duration": -49765,
    "start_time": "2022-02-20T17:46:49.796Z"
   },
   {
    "duration": -49767,
    "start_time": "2022-02-20T17:46:49.800Z"
   },
   {
    "duration": -49776,
    "start_time": "2022-02-20T17:46:49.810Z"
   },
   {
    "duration": -49780,
    "start_time": "2022-02-20T17:46:49.815Z"
   },
   {
    "duration": -49784,
    "start_time": "2022-02-20T17:46:49.820Z"
   },
   {
    "duration": -49792,
    "start_time": "2022-02-20T17:46:49.830Z"
   },
   {
    "duration": -49797,
    "start_time": "2022-02-20T17:46:49.836Z"
   },
   {
    "duration": 7526,
    "start_time": "2022-02-20T17:46:06.032Z"
   },
   {
    "duration": 7815,
    "start_time": "2022-02-20T17:47:43.176Z"
   },
   {
    "duration": 6689,
    "start_time": "2022-02-20T17:53:37.090Z"
   },
   {
    "duration": 7450,
    "start_time": "2022-02-20T17:54:33.979Z"
   },
   {
    "duration": 7556,
    "start_time": "2022-02-20T17:55:19.174Z"
   },
   {
    "duration": 366,
    "start_time": "2022-02-21T06:25:41.232Z"
   },
   {
    "duration": 785,
    "start_time": "2022-02-21T06:25:47.477Z"
   },
   {
    "duration": 110,
    "start_time": "2022-02-21T06:25:48.264Z"
   },
   {
    "duration": 9,
    "start_time": "2022-02-21T06:25:48.376Z"
   },
   {
    "duration": 8,
    "start_time": "2022-02-21T06:25:48.386Z"
   },
   {
    "duration": 12,
    "start_time": "2022-02-21T06:25:48.395Z"
   },
   {
    "duration": 18,
    "start_time": "2022-02-21T06:25:48.408Z"
   },
   {
    "duration": 37,
    "start_time": "2022-02-21T06:25:48.428Z"
   },
   {
    "duration": 11,
    "start_time": "2022-02-21T06:25:48.468Z"
   },
   {
    "duration": 136,
    "start_time": "2022-02-21T06:25:48.481Z"
   },
   {
    "duration": -298,
    "start_time": "2022-02-21T06:25:48.918Z"
   },
   {
    "duration": -302,
    "start_time": "2022-02-21T06:25:48.922Z"
   },
   {
    "duration": -306,
    "start_time": "2022-02-21T06:25:48.927Z"
   },
   {
    "duration": -311,
    "start_time": "2022-02-21T06:25:48.933Z"
   },
   {
    "duration": -315,
    "start_time": "2022-02-21T06:25:48.938Z"
   },
   {
    "duration": -319,
    "start_time": "2022-02-21T06:25:48.942Z"
   },
   {
    "duration": -325,
    "start_time": "2022-02-21T06:25:48.949Z"
   },
   {
    "duration": -328,
    "start_time": "2022-02-21T06:25:48.953Z"
   },
   {
    "duration": -332,
    "start_time": "2022-02-21T06:25:48.958Z"
   },
   {
    "duration": -339,
    "start_time": "2022-02-21T06:25:48.966Z"
   },
   {
    "duration": -342,
    "start_time": "2022-02-21T06:25:48.970Z"
   },
   {
    "duration": -369,
    "start_time": "2022-02-21T06:25:48.997Z"
   },
   {
    "duration": -395,
    "start_time": "2022-02-21T06:25:49.024Z"
   },
   {
    "duration": -402,
    "start_time": "2022-02-21T06:25:49.032Z"
   },
   {
    "duration": -404,
    "start_time": "2022-02-21T06:25:49.035Z"
   },
   {
    "duration": -408,
    "start_time": "2022-02-21T06:25:49.039Z"
   },
   {
    "duration": -414,
    "start_time": "2022-02-21T06:25:49.046Z"
   },
   {
    "duration": -417,
    "start_time": "2022-02-21T06:25:49.050Z"
   },
   {
    "duration": -420,
    "start_time": "2022-02-21T06:25:49.054Z"
   },
   {
    "duration": -422,
    "start_time": "2022-02-21T06:25:49.057Z"
   },
   {
    "duration": -430,
    "start_time": "2022-02-21T06:25:49.065Z"
   },
   {
    "duration": -434,
    "start_time": "2022-02-21T06:25:49.070Z"
   },
   {
    "duration": -438,
    "start_time": "2022-02-21T06:25:49.075Z"
   },
   {
    "duration": -444,
    "start_time": "2022-02-21T06:25:49.082Z"
   },
   {
    "duration": -446,
    "start_time": "2022-02-21T06:25:49.085Z"
   },
   {
    "duration": -449,
    "start_time": "2022-02-21T06:25:49.089Z"
   },
   {
    "duration": -452,
    "start_time": "2022-02-21T06:25:49.093Z"
   },
   {
    "duration": -457,
    "start_time": "2022-02-21T06:25:49.099Z"
   },
   {
    "duration": -460,
    "start_time": "2022-02-21T06:25:49.103Z"
   },
   {
    "duration": -463,
    "start_time": "2022-02-21T06:25:49.107Z"
   },
   {
    "duration": -469,
    "start_time": "2022-02-21T06:25:49.114Z"
   },
   {
    "duration": -471,
    "start_time": "2022-02-21T06:25:49.117Z"
   },
   {
    "duration": -474,
    "start_time": "2022-02-21T06:25:49.121Z"
   },
   {
    "duration": -477,
    "start_time": "2022-02-21T06:25:49.125Z"
   },
   {
    "duration": -483,
    "start_time": "2022-02-21T06:25:49.132Z"
   },
   {
    "duration": -487,
    "start_time": "2022-02-21T06:25:49.137Z"
   },
   {
    "duration": -490,
    "start_time": "2022-02-21T06:25:49.141Z"
   },
   {
    "duration": -495,
    "start_time": "2022-02-21T06:25:49.147Z"
   },
   {
    "duration": -498,
    "start_time": "2022-02-21T06:25:49.151Z"
   },
   {
    "duration": -500,
    "start_time": "2022-02-21T06:25:49.154Z"
   },
   {
    "duration": -504,
    "start_time": "2022-02-21T06:25:49.159Z"
   },
   {
    "duration": -509,
    "start_time": "2022-02-21T06:25:49.165Z"
   },
   {
    "duration": 151,
    "start_time": "2022-02-21T06:26:20.108Z"
   },
   {
    "duration": 1111,
    "start_time": "2022-02-21T06:26:23.709Z"
   },
   {
    "duration": 339,
    "start_time": "2022-02-21T06:26:38.776Z"
   },
   {
    "duration": 4,
    "start_time": "2022-02-21T06:26:53.575Z"
   },
   {
    "duration": 9,
    "start_time": "2022-02-21T06:26:57.154Z"
   },
   {
    "duration": 160,
    "start_time": "2022-02-21T06:27:00.304Z"
   },
   {
    "duration": 278,
    "start_time": "2022-02-21T06:27:03.051Z"
   },
   {
    "duration": 11,
    "start_time": "2022-02-21T06:27:06.551Z"
   },
   {
    "duration": 9,
    "start_time": "2022-02-21T06:27:10.374Z"
   },
   {
    "duration": 8,
    "start_time": "2022-02-21T06:27:22.713Z"
   },
   {
    "duration": 10,
    "start_time": "2022-02-21T06:27:34.821Z"
   },
   {
    "duration": 8,
    "start_time": "2022-02-21T06:27:37.054Z"
   },
   {
    "duration": 7,
    "start_time": "2022-02-21T06:27:47.343Z"
   },
   {
    "duration": 132,
    "start_time": "2022-02-21T06:27:50.090Z"
   },
   {
    "duration": 241,
    "start_time": "2022-02-21T06:27:54.062Z"
   },
   {
    "duration": 9,
    "start_time": "2022-02-21T06:27:57.197Z"
   },
   {
    "duration": 8,
    "start_time": "2022-02-21T06:27:59.360Z"
   },
   {
    "duration": 9,
    "start_time": "2022-02-21T06:28:03.980Z"
   },
   {
    "duration": 1711,
    "start_time": "2022-02-21T06:28:19.154Z"
   },
   {
    "duration": 146,
    "start_time": "2022-02-21T06:28:22.462Z"
   },
   {
    "duration": 13,
    "start_time": "2022-02-21T06:28:41.771Z"
   },
   {
    "duration": 12,
    "start_time": "2022-02-21T06:28:44.546Z"
   },
   {
    "duration": 9,
    "start_time": "2022-02-21T06:28:48.753Z"
   },
   {
    "duration": 162,
    "start_time": "2022-02-21T06:28:52.947Z"
   },
   {
    "duration": 227,
    "start_time": "2022-02-21T06:28:55.317Z"
   },
   {
    "duration": 10,
    "start_time": "2022-02-21T06:29:10.747Z"
   },
   {
    "duration": 13,
    "start_time": "2022-02-21T06:29:20.093Z"
   },
   {
    "duration": 54148,
    "start_time": "2022-02-21T06:32:57.581Z"
   },
   {
    "duration": -306,
    "start_time": "2022-02-21T06:41:53.996Z"
   },
   {
    "duration": 55539,
    "start_time": "2022-02-21T06:41:56.323Z"
   },
   {
    "duration": 29,
    "start_time": "2022-02-21T06:44:32.235Z"
   },
   {
    "duration": -299,
    "start_time": "2022-02-21T06:47:01.158Z"
   },
   {
    "duration": -299,
    "start_time": "2022-02-21T06:48:02.133Z"
   },
   {
    "duration": 55111,
    "start_time": "2022-02-21T06:48:11.204Z"
   },
   {
    "duration": 102,
    "start_time": "2022-02-21T06:53:31.634Z"
   },
   {
    "duration": 2177,
    "start_time": "2022-02-21T06:53:43.941Z"
   },
   {
    "duration": 2171,
    "start_time": "2022-02-21T06:57:22.440Z"
   },
   {
    "duration": 2075,
    "start_time": "2022-02-21T06:57:56.442Z"
   },
   {
    "duration": 291,
    "start_time": "2022-02-21T06:59:11.180Z"
   },
   {
    "duration": 318,
    "start_time": "2022-02-21T06:59:42.244Z"
   },
   {
    "duration": 293,
    "start_time": "2022-02-21T07:01:51.299Z"
   },
   {
    "duration": 2243,
    "start_time": "2022-02-21T07:02:02.384Z"
   },
   {
    "duration": 1664,
    "start_time": "2022-02-21T07:03:20.948Z"
   },
   {
    "duration": 550,
    "start_time": "2022-02-21T07:03:45.354Z"
   },
   {
    "duration": 304,
    "start_time": "2022-02-21T07:03:59.293Z"
   },
   {
    "duration": 1250,
    "start_time": "2022-02-21T07:04:10.254Z"
   },
   {
    "duration": 102,
    "start_time": "2022-02-21T07:04:11.506Z"
   },
   {
    "duration": 8,
    "start_time": "2022-02-21T07:04:11.611Z"
   },
   {
    "duration": 7,
    "start_time": "2022-02-21T07:04:11.621Z"
   },
   {
    "duration": 30,
    "start_time": "2022-02-21T07:04:11.630Z"
   },
   {
    "duration": 14,
    "start_time": "2022-02-21T07:04:11.662Z"
   },
   {
    "duration": 11,
    "start_time": "2022-02-21T07:04:11.677Z"
   },
   {
    "duration": 10,
    "start_time": "2022-02-21T07:04:11.691Z"
   },
   {
    "duration": 133,
    "start_time": "2022-02-21T07:04:11.703Z"
   },
   {
    "duration": -249,
    "start_time": "2022-02-21T07:04:12.088Z"
   },
   {
    "duration": -259,
    "start_time": "2022-02-21T07:04:12.099Z"
   },
   {
    "duration": -264,
    "start_time": "2022-02-21T07:04:12.104Z"
   },
   {
    "duration": -283,
    "start_time": "2022-02-21T07:04:12.124Z"
   },
   {
    "duration": -288,
    "start_time": "2022-02-21T07:04:12.132Z"
   },
   {
    "duration": -294,
    "start_time": "2022-02-21T07:04:12.138Z"
   },
   {
    "duration": -300,
    "start_time": "2022-02-21T07:04:12.145Z"
   },
   {
    "duration": -304,
    "start_time": "2022-02-21T07:04:12.150Z"
   },
   {
    "duration": -306,
    "start_time": "2022-02-21T07:04:12.153Z"
   },
   {
    "duration": -311,
    "start_time": "2022-02-21T07:04:12.158Z"
   },
   {
    "duration": -318,
    "start_time": "2022-02-21T07:04:12.166Z"
   },
   {
    "duration": -321,
    "start_time": "2022-02-21T07:04:12.170Z"
   },
   {
    "duration": -325,
    "start_time": "2022-02-21T07:04:12.175Z"
   },
   {
    "duration": -330,
    "start_time": "2022-02-21T07:04:12.181Z"
   },
   {
    "duration": -333,
    "start_time": "2022-02-21T07:04:12.185Z"
   },
   {
    "duration": -336,
    "start_time": "2022-02-21T07:04:12.189Z"
   },
   {
    "duration": -344,
    "start_time": "2022-02-21T07:04:12.197Z"
   },
   {
    "duration": -347,
    "start_time": "2022-02-21T07:04:12.201Z"
   },
   {
    "duration": -350,
    "start_time": "2022-02-21T07:04:12.205Z"
   },
   {
    "duration": -355,
    "start_time": "2022-02-21T07:04:12.211Z"
   },
   {
    "duration": -360,
    "start_time": "2022-02-21T07:04:12.217Z"
   },
   {
    "duration": -364,
    "start_time": "2022-02-21T07:04:12.222Z"
   },
   {
    "duration": -369,
    "start_time": "2022-02-21T07:04:12.228Z"
   },
   {
    "duration": -372,
    "start_time": "2022-02-21T07:04:12.232Z"
   },
   {
    "duration": -375,
    "start_time": "2022-02-21T07:04:12.236Z"
   },
   {
    "duration": -380,
    "start_time": "2022-02-21T07:04:12.241Z"
   },
   {
    "duration": -384,
    "start_time": "2022-02-21T07:04:12.246Z"
   },
   {
    "duration": -388,
    "start_time": "2022-02-21T07:04:12.251Z"
   },
   {
    "duration": -404,
    "start_time": "2022-02-21T07:04:12.268Z"
   },
   {
    "duration": -407,
    "start_time": "2022-02-21T07:04:12.272Z"
   },
   {
    "duration": -412,
    "start_time": "2022-02-21T07:04:12.278Z"
   },
   {
    "duration": -415,
    "start_time": "2022-02-21T07:04:12.283Z"
   },
   {
    "duration": -416,
    "start_time": "2022-02-21T07:04:12.287Z"
   },
   {
    "duration": -422,
    "start_time": "2022-02-21T07:04:12.294Z"
   },
   {
    "duration": -425,
    "start_time": "2022-02-21T07:04:12.298Z"
   },
   {
    "duration": -428,
    "start_time": "2022-02-21T07:04:12.302Z"
   },
   {
    "duration": -432,
    "start_time": "2022-02-21T07:04:12.307Z"
   },
   {
    "duration": -437,
    "start_time": "2022-02-21T07:04:12.313Z"
   },
   {
    "duration": -440,
    "start_time": "2022-02-21T07:04:12.317Z"
   },
   {
    "duration": -443,
    "start_time": "2022-02-21T07:04:12.321Z"
   },
   {
    "duration": -449,
    "start_time": "2022-02-21T07:04:12.328Z"
   },
   {
    "duration": -452,
    "start_time": "2022-02-21T07:04:12.332Z"
   },
   {
    "duration": -455,
    "start_time": "2022-02-21T07:04:12.336Z"
   },
   {
    "duration": 6815,
    "start_time": "2022-02-21T07:04:18.363Z"
   },
   {
    "duration": 6874,
    "start_time": "2022-02-21T07:04:34.713Z"
   },
   {
    "duration": 7157,
    "start_time": "2022-02-21T07:05:43.802Z"
   },
   {
    "duration": 11933,
    "start_time": "2022-02-21T07:06:24.063Z"
   },
   {
    "duration": 473,
    "start_time": "2022-02-21T07:09:45.733Z"
   },
   {
    "duration": 357,
    "start_time": "2022-02-21T07:09:57.800Z"
   },
   {
    "duration": 683,
    "start_time": "2022-02-21T07:10:27.087Z"
   },
   {
    "duration": 1223,
    "start_time": "2022-02-21T07:10:43.188Z"
   },
   {
    "duration": 105,
    "start_time": "2022-02-21T07:10:44.413Z"
   },
   {
    "duration": 9,
    "start_time": "2022-02-21T07:10:44.520Z"
   },
   {
    "duration": 10,
    "start_time": "2022-02-21T07:10:44.531Z"
   },
   {
    "duration": 19,
    "start_time": "2022-02-21T07:10:44.543Z"
   },
   {
    "duration": 15,
    "start_time": "2022-02-21T07:10:44.564Z"
   },
   {
    "duration": 11,
    "start_time": "2022-02-21T07:10:44.581Z"
   },
   {
    "duration": 21,
    "start_time": "2022-02-21T07:10:44.594Z"
   },
   {
    "duration": 98,
    "start_time": "2022-02-21T07:10:44.617Z"
   },
   {
    "duration": -279,
    "start_time": "2022-02-21T07:10:44.997Z"
   },
   {
    "duration": -284,
    "start_time": "2022-02-21T07:10:45.003Z"
   },
   {
    "duration": -296,
    "start_time": "2022-02-21T07:10:45.016Z"
   },
   {
    "duration": -301,
    "start_time": "2022-02-21T07:10:45.022Z"
   },
   {
    "duration": -309,
    "start_time": "2022-02-21T07:10:45.032Z"
   },
   {
    "duration": -314,
    "start_time": "2022-02-21T07:10:45.038Z"
   },
   {
    "duration": -322,
    "start_time": "2022-02-21T07:10:45.047Z"
   },
   {
    "duration": -325,
    "start_time": "2022-02-21T07:10:45.052Z"
   },
   {
    "duration": -332,
    "start_time": "2022-02-21T07:10:45.060Z"
   },
   {
    "duration": -336,
    "start_time": "2022-02-21T07:10:45.065Z"
   },
   {
    "duration": -340,
    "start_time": "2022-02-21T07:10:45.070Z"
   },
   {
    "duration": -349,
    "start_time": "2022-02-21T07:10:45.080Z"
   },
   {
    "duration": -354,
    "start_time": "2022-02-21T07:10:45.086Z"
   },
   {
    "duration": -361,
    "start_time": "2022-02-21T07:10:45.094Z"
   },
   {
    "duration": -364,
    "start_time": "2022-02-21T07:10:45.098Z"
   },
   {
    "duration": -369,
    "start_time": "2022-02-21T07:10:45.104Z"
   },
   {
    "duration": -397,
    "start_time": "2022-02-21T07:10:45.134Z"
   },
   {
    "duration": -401,
    "start_time": "2022-02-21T07:10:45.139Z"
   },
   {
    "duration": -408,
    "start_time": "2022-02-21T07:10:45.147Z"
   },
   {
    "duration": -411,
    "start_time": "2022-02-21T07:10:45.151Z"
   },
   {
    "duration": -416,
    "start_time": "2022-02-21T07:10:45.157Z"
   },
   {
    "duration": -422,
    "start_time": "2022-02-21T07:10:45.165Z"
   },
   {
    "duration": -425,
    "start_time": "2022-02-21T07:10:45.169Z"
   },
   {
    "duration": -428,
    "start_time": "2022-02-21T07:10:45.173Z"
   },
   {
    "duration": -435,
    "start_time": "2022-02-21T07:10:45.181Z"
   },
   {
    "duration": -440,
    "start_time": "2022-02-21T07:10:45.187Z"
   },
   {
    "duration": -447,
    "start_time": "2022-02-21T07:10:45.195Z"
   },
   {
    "duration": -450,
    "start_time": "2022-02-21T07:10:45.199Z"
   },
   {
    "duration": -454,
    "start_time": "2022-02-21T07:10:45.204Z"
   },
   {
    "duration": -461,
    "start_time": "2022-02-21T07:10:45.212Z"
   },
   {
    "duration": -465,
    "start_time": "2022-02-21T07:10:45.217Z"
   },
   {
    "duration": -467,
    "start_time": "2022-02-21T07:10:45.220Z"
   },
   {
    "duration": -475,
    "start_time": "2022-02-21T07:10:45.229Z"
   },
   {
    "duration": -479,
    "start_time": "2022-02-21T07:10:45.234Z"
   },
   {
    "duration": -482,
    "start_time": "2022-02-21T07:10:45.238Z"
   },
   {
    "duration": -491,
    "start_time": "2022-02-21T07:10:45.248Z"
   },
   {
    "duration": -494,
    "start_time": "2022-02-21T07:10:45.252Z"
   },
   {
    "duration": -496,
    "start_time": "2022-02-21T07:10:45.256Z"
   },
   {
    "duration": -504,
    "start_time": "2022-02-21T07:10:45.265Z"
   },
   {
    "duration": -509,
    "start_time": "2022-02-21T07:10:45.271Z"
   },
   {
    "duration": -517,
    "start_time": "2022-02-21T07:10:45.280Z"
   },
   {
    "duration": -521,
    "start_time": "2022-02-21T07:10:45.285Z"
   },
   {
    "duration": -531,
    "start_time": "2022-02-21T07:10:45.296Z"
   },
   {
    "duration": -533,
    "start_time": "2022-02-21T07:10:45.299Z"
   },
   {
    "duration": 1356,
    "start_time": "2022-02-21T07:10:59.172Z"
   },
   {
    "duration": 332,
    "start_time": "2022-02-21T07:11:18.937Z"
   },
   {
    "duration": 9164,
    "start_time": "2022-02-21T07:11:42.286Z"
   },
   {
    "duration": 4,
    "start_time": "2022-02-21T07:12:03.516Z"
   },
   {
    "duration": 9,
    "start_time": "2022-02-21T07:12:06.782Z"
   },
   {
    "duration": 8,
    "start_time": "2022-02-21T07:12:13.983Z"
   },
   {
    "duration": 8,
    "start_time": "2022-02-21T07:12:16.698Z"
   },
   {
    "duration": 9,
    "start_time": "2022-02-21T07:12:22.966Z"
   },
   {
    "duration": 8,
    "start_time": "2022-02-21T07:12:33.280Z"
   },
   {
    "duration": 10469,
    "start_time": "2022-02-21T07:12:50.984Z"
   },
   {
    "duration": 9,
    "start_time": "2022-02-21T07:13:24.683Z"
   },
   {
    "duration": 8,
    "start_time": "2022-02-21T07:13:35.661Z"
   },
   {
    "duration": 155,
    "start_time": "2022-02-21T07:13:38.007Z"
   },
   {
    "duration": 1081,
    "start_time": "2022-02-21T07:13:40.330Z"
   },
   {
    "duration": 373,
    "start_time": "2022-02-21T07:13:44.597Z"
   },
   {
    "duration": 299,
    "start_time": "2022-02-21T07:13:51.070Z"
   },
   {
    "duration": 9,
    "start_time": "2022-02-21T07:13:56.968Z"
   },
   {
    "duration": 217,
    "start_time": "2022-02-21T07:13:59.164Z"
   },
   {
    "duration": 244,
    "start_time": "2022-02-21T07:14:01.437Z"
   },
   {
    "duration": 8,
    "start_time": "2022-02-21T07:14:04.841Z"
   },
   {
    "duration": 11,
    "start_time": "2022-02-21T07:14:09.561Z"
   },
   {
    "duration": 152,
    "start_time": "2022-02-21T07:14:11.102Z"
   },
   {
    "duration": 1719,
    "start_time": "2022-02-21T07:14:12.982Z"
   },
   {
    "duration": 14,
    "start_time": "2022-02-21T07:14:18.958Z"
   },
   {
    "duration": 10,
    "start_time": "2022-02-21T07:14:21.004Z"
   },
   {
    "duration": 159,
    "start_time": "2022-02-21T07:14:22.151Z"
   },
   {
    "duration": 209,
    "start_time": "2022-02-21T07:14:24.265Z"
   },
   {
    "duration": 9,
    "start_time": "2022-02-21T07:14:29.741Z"
   },
   {
    "duration": 9906,
    "start_time": "2022-02-21T07:14:32.735Z"
   },
   {
    "duration": 275,
    "start_time": "2022-02-21T07:14:58.221Z"
   },
   {
    "duration": 8,
    "start_time": "2022-02-21T07:15:58.717Z"
   },
   {
    "duration": 12,
    "start_time": "2022-02-21T07:16:12.533Z"
   },
   {
    "duration": 4299,
    "start_time": "2022-02-21T07:16:15.905Z"
   },
   {
    "duration": 4225,
    "start_time": "2022-02-21T07:16:53.606Z"
   },
   {
    "duration": 2437,
    "start_time": "2022-02-21T07:18:11.381Z"
   },
   {
    "duration": 2963,
    "start_time": "2022-02-21T07:18:22.168Z"
   },
   {
    "duration": 4168,
    "start_time": "2022-02-21T07:18:47.579Z"
   },
   {
    "duration": 6100,
    "start_time": "2022-02-21T07:20:29.565Z"
   },
   {
    "duration": -830,
    "start_time": "2022-02-21T07:23:44.401Z"
   },
   {
    "duration": -275,
    "start_time": "2022-02-21T07:25:23.465Z"
   },
   {
    "duration": 1942,
    "start_time": "2022-02-21T07:25:23.384Z"
   },
   {
    "duration": 4512,
    "start_time": "2022-02-21T07:25:50.039Z"
   },
   {
    "duration": 47,
    "start_time": "2022-02-21T07:31:20.070Z"
   },
   {
    "duration": 31,
    "start_time": "2022-02-21T07:34:18.445Z"
   },
   {
    "duration": 42,
    "start_time": "2022-02-21T07:34:27.597Z"
   },
   {
    "duration": 30,
    "start_time": "2022-02-21T07:34:57.321Z"
   },
   {
    "duration": 289,
    "start_time": "2022-02-21T07:37:30.117Z"
   },
   {
    "duration": 243,
    "start_time": "2022-02-21T07:38:06.013Z"
   },
   {
    "duration": 1934,
    "start_time": "2022-02-21T07:38:34.078Z"
   },
   {
    "duration": 660,
    "start_time": "2022-02-21T07:38:54.813Z"
   },
   {
    "duration": 11,
    "start_time": "2022-02-21T07:40:43.427Z"
   },
   {
    "duration": 27,
    "start_time": "2022-02-21T07:43:52.296Z"
   },
   {
    "duration": 859,
    "start_time": "2022-02-21T07:44:36.876Z"
   },
   {
    "duration": 406,
    "start_time": "2022-02-21T07:45:17.606Z"
   },
   {
    "duration": 285,
    "start_time": "2022-02-21T07:49:47.945Z"
   },
   {
    "duration": 12,
    "start_time": "2022-02-21T07:51:12.993Z"
   },
   {
    "duration": 7,
    "start_time": "2022-02-21T07:51:32.152Z"
   },
   {
    "duration": 8,
    "start_time": "2022-02-21T07:52:10.075Z"
   },
   {
    "duration": 9,
    "start_time": "2022-02-21T07:52:19.669Z"
   },
   {
    "duration": 18,
    "start_time": "2022-02-21T07:52:59.666Z"
   },
   {
    "duration": 27,
    "start_time": "2022-02-21T07:53:09.074Z"
   },
   {
    "duration": 11,
    "start_time": "2022-02-21T07:54:25.575Z"
   },
   {
    "duration": 8,
    "start_time": "2022-02-21T07:56:03.542Z"
   },
   {
    "duration": 11,
    "start_time": "2022-02-21T07:57:09.937Z"
   },
   {
    "duration": 84,
    "start_time": "2022-02-21T07:59:58.242Z"
   },
   {
    "duration": 9,
    "start_time": "2022-02-21T08:00:09.661Z"
   },
   {
    "duration": 29,
    "start_time": "2022-02-21T08:00:36.239Z"
   },
   {
    "duration": 28,
    "start_time": "2022-02-21T08:02:33.740Z"
   },
   {
    "duration": 12,
    "start_time": "2022-02-21T08:02:44.615Z"
   },
   {
    "duration": 10,
    "start_time": "2022-02-21T08:03:27.102Z"
   },
   {
    "duration": 105,
    "start_time": "2022-02-21T08:06:49.300Z"
   },
   {
    "duration": 9593,
    "start_time": "2022-02-21T08:06:59.863Z"
   },
   {
    "duration": 317,
    "start_time": "2022-02-21T08:07:16.500Z"
   },
   {
    "duration": 24,
    "start_time": "2022-02-21T08:08:33.019Z"
   },
   {
    "duration": 22,
    "start_time": "2022-02-21T08:09:08.927Z"
   },
   {
    "duration": 19,
    "start_time": "2022-02-21T08:09:39.170Z"
   },
   {
    "duration": 19,
    "start_time": "2022-02-21T08:10:32.585Z"
   },
   {
    "duration": 17,
    "start_time": "2022-02-21T08:11:22.642Z"
   },
   {
    "duration": 1265,
    "start_time": "2022-02-21T08:11:37.332Z"
   },
   {
    "duration": 102,
    "start_time": "2022-02-21T08:11:38.598Z"
   },
   {
    "duration": 9,
    "start_time": "2022-02-21T08:11:38.702Z"
   },
   {
    "duration": 11,
    "start_time": "2022-02-21T08:11:38.712Z"
   },
   {
    "duration": 11,
    "start_time": "2022-02-21T08:11:38.724Z"
   },
   {
    "duration": 31,
    "start_time": "2022-02-21T08:11:38.737Z"
   },
   {
    "duration": 11,
    "start_time": "2022-02-21T08:11:38.770Z"
   },
   {
    "duration": 10,
    "start_time": "2022-02-21T08:11:38.784Z"
   },
   {
    "duration": 89,
    "start_time": "2022-02-21T08:11:38.797Z"
   },
   {
    "duration": -275,
    "start_time": "2022-02-21T08:11:39.163Z"
   },
   {
    "duration": -279,
    "start_time": "2022-02-21T08:11:39.168Z"
   },
   {
    "duration": -285,
    "start_time": "2022-02-21T08:11:39.175Z"
   },
   {
    "duration": -290,
    "start_time": "2022-02-21T08:11:39.183Z"
   },
   {
    "duration": -295,
    "start_time": "2022-02-21T08:11:39.189Z"
   },
   {
    "duration": -302,
    "start_time": "2022-02-21T08:11:39.197Z"
   },
   {
    "duration": -305,
    "start_time": "2022-02-21T08:11:39.201Z"
   },
   {
    "duration": -309,
    "start_time": "2022-02-21T08:11:39.206Z"
   },
   {
    "duration": -316,
    "start_time": "2022-02-21T08:11:39.214Z"
   },
   {
    "duration": -319,
    "start_time": "2022-02-21T08:11:39.218Z"
   },
   {
    "duration": -323,
    "start_time": "2022-02-21T08:11:39.223Z"
   },
   {
    "duration": -329,
    "start_time": "2022-02-21T08:11:39.230Z"
   },
   {
    "duration": -333,
    "start_time": "2022-02-21T08:11:39.235Z"
   },
   {
    "duration": -335,
    "start_time": "2022-02-21T08:11:39.238Z"
   },
   {
    "duration": -341,
    "start_time": "2022-02-21T08:11:39.245Z"
   },
   {
    "duration": -344,
    "start_time": "2022-02-21T08:11:39.249Z"
   },
   {
    "duration": -347,
    "start_time": "2022-02-21T08:11:39.253Z"
   },
   {
    "duration": -354,
    "start_time": "2022-02-21T08:11:39.261Z"
   },
   {
    "duration": -357,
    "start_time": "2022-02-21T08:11:39.265Z"
   },
   {
    "duration": -360,
    "start_time": "2022-02-21T08:11:39.269Z"
   },
   {
    "duration": -363,
    "start_time": "2022-02-21T08:11:39.273Z"
   },
   {
    "duration": -370,
    "start_time": "2022-02-21T08:11:39.281Z"
   },
   {
    "duration": -373,
    "start_time": "2022-02-21T08:11:39.285Z"
   },
   {
    "duration": -376,
    "start_time": "2022-02-21T08:11:39.289Z"
   },
   {
    "duration": -383,
    "start_time": "2022-02-21T08:11:39.297Z"
   },
   {
    "duration": -386,
    "start_time": "2022-02-21T08:11:39.301Z"
   },
   {
    "duration": -389,
    "start_time": "2022-02-21T08:11:39.305Z"
   },
   {
    "duration": -395,
    "start_time": "2022-02-21T08:11:39.312Z"
   },
   {
    "duration": -398,
    "start_time": "2022-02-21T08:11:39.316Z"
   },
   {
    "duration": -419,
    "start_time": "2022-02-21T08:11:39.338Z"
   },
   {
    "duration": -425,
    "start_time": "2022-02-21T08:11:39.346Z"
   },
   {
    "duration": -427,
    "start_time": "2022-02-21T08:11:39.349Z"
   },
   {
    "duration": -429,
    "start_time": "2022-02-21T08:11:39.352Z"
   },
   {
    "duration": -437,
    "start_time": "2022-02-21T08:11:39.361Z"
   },
   {
    "duration": -440,
    "start_time": "2022-02-21T08:11:39.365Z"
   },
   {
    "duration": -442,
    "start_time": "2022-02-21T08:11:39.368Z"
   },
   {
    "duration": -445,
    "start_time": "2022-02-21T08:11:39.372Z"
   },
   {
    "duration": -453,
    "start_time": "2022-02-21T08:11:39.381Z"
   },
   {
    "duration": -455,
    "start_time": "2022-02-21T08:11:39.384Z"
   },
   {
    "duration": -459,
    "start_time": "2022-02-21T08:11:39.388Z"
   },
   {
    "duration": -466,
    "start_time": "2022-02-21T08:11:39.396Z"
   },
   {
    "duration": -441,
    "start_time": "2022-02-21T08:11:39.400Z"
   },
   {
    "duration": -445,
    "start_time": "2022-02-21T08:11:39.405Z"
   },
   {
    "duration": -451,
    "start_time": "2022-02-21T08:11:39.412Z"
   },
   {
    "duration": -454,
    "start_time": "2022-02-21T08:11:39.416Z"
   },
   {
    "duration": 409,
    "start_time": "2022-02-21T08:11:47.948Z"
   },
   {
    "duration": 23539,
    "start_time": "2022-02-21T08:41:29.275Z"
   },
   {
    "duration": 705,
    "start_time": "2022-02-21T08:42:24.225Z"
   },
   {
    "duration": 329,
    "start_time": "2022-02-21T08:42:44.388Z"
   },
   {
    "duration": 1204,
    "start_time": "2022-02-21T08:42:51.394Z"
   },
   {
    "duration": 103,
    "start_time": "2022-02-21T08:42:52.600Z"
   },
   {
    "duration": 8,
    "start_time": "2022-02-21T08:42:52.704Z"
   },
   {
    "duration": 12,
    "start_time": "2022-02-21T08:42:52.714Z"
   },
   {
    "duration": 11,
    "start_time": "2022-02-21T08:42:52.727Z"
   },
   {
    "duration": 29,
    "start_time": "2022-02-21T08:42:52.739Z"
   },
   {
    "duration": 12,
    "start_time": "2022-02-21T08:42:52.770Z"
   },
   {
    "duration": 11,
    "start_time": "2022-02-21T08:42:52.785Z"
   },
   {
    "duration": 111,
    "start_time": "2022-02-21T08:42:52.798Z"
   },
   {
    "duration": 47,
    "start_time": "2022-02-21T08:42:52.865Z"
   },
   {
    "duration": 37,
    "start_time": "2022-02-21T08:42:52.877Z"
   },
   {
    "duration": 32,
    "start_time": "2022-02-21T08:42:52.882Z"
   },
   {
    "duration": 21,
    "start_time": "2022-02-21T08:42:52.894Z"
   },
   {
    "duration": 19,
    "start_time": "2022-02-21T08:42:52.897Z"
   },
   {
    "duration": 8,
    "start_time": "2022-02-21T08:42:52.909Z"
   },
   {
    "duration": -31,
    "start_time": "2022-02-21T08:42:52.949Z"
   },
   {
    "duration": -38,
    "start_time": "2022-02-21T08:42:52.957Z"
   },
   {
    "duration": -42,
    "start_time": "2022-02-21T08:42:52.962Z"
   },
   {
    "duration": -44,
    "start_time": "2022-02-21T08:42:52.965Z"
   },
   {
    "duration": -53,
    "start_time": "2022-02-21T08:42:52.975Z"
   },
   {
    "duration": -55,
    "start_time": "2022-02-21T08:42:52.978Z"
   },
   {
    "duration": -58,
    "start_time": "2022-02-21T08:42:52.982Z"
   },
   {
    "duration": -67,
    "start_time": "2022-02-21T08:42:52.992Z"
   },
   {
    "duration": -71,
    "start_time": "2022-02-21T08:42:52.997Z"
   },
   {
    "duration": -75,
    "start_time": "2022-02-21T08:42:53.002Z"
   },
   {
    "duration": -83,
    "start_time": "2022-02-21T08:42:53.011Z"
   },
   {
    "duration": -85,
    "start_time": "2022-02-21T08:42:53.014Z"
   },
   {
    "duration": -89,
    "start_time": "2022-02-21T08:42:53.019Z"
   },
   {
    "duration": -124,
    "start_time": "2022-02-21T08:42:53.055Z"
   },
   {
    "duration": -130,
    "start_time": "2022-02-21T08:42:53.062Z"
   },
   {
    "duration": -133,
    "start_time": "2022-02-21T08:42:53.066Z"
   },
   {
    "duration": -140,
    "start_time": "2022-02-21T08:42:53.074Z"
   },
   {
    "duration": -144,
    "start_time": "2022-02-21T08:42:53.079Z"
   },
   {
    "duration": -148,
    "start_time": "2022-02-21T08:42:53.083Z"
   },
   {
    "duration": -154,
    "start_time": "2022-02-21T08:42:53.090Z"
   },
   {
    "duration": -158,
    "start_time": "2022-02-21T08:42:53.095Z"
   },
   {
    "duration": -161,
    "start_time": "2022-02-21T08:42:53.099Z"
   },
   {
    "duration": -168,
    "start_time": "2022-02-21T08:42:53.107Z"
   },
   {
    "duration": -171,
    "start_time": "2022-02-21T08:42:53.111Z"
   },
   {
    "duration": -174,
    "start_time": "2022-02-21T08:42:53.115Z"
   },
   {
    "duration": -181,
    "start_time": "2022-02-21T08:42:53.123Z"
   },
   {
    "duration": -185,
    "start_time": "2022-02-21T08:42:53.128Z"
   },
   {
    "duration": -202,
    "start_time": "2022-02-21T08:42:53.146Z"
   },
   {
    "duration": -206,
    "start_time": "2022-02-21T08:42:53.151Z"
   },
   {
    "duration": -214,
    "start_time": "2022-02-21T08:42:53.159Z"
   },
   {
    "duration": -218,
    "start_time": "2022-02-21T08:42:53.164Z"
   },
   {
    "duration": -221,
    "start_time": "2022-02-21T08:42:53.168Z"
   },
   {
    "duration": -228,
    "start_time": "2022-02-21T08:42:53.176Z"
   },
   {
    "duration": -231,
    "start_time": "2022-02-21T08:42:53.180Z"
   },
   {
    "duration": -226,
    "start_time": "2022-02-21T08:42:53.185Z"
   },
   {
    "duration": -233,
    "start_time": "2022-02-21T08:42:53.193Z"
   },
   {
    "duration": -237,
    "start_time": "2022-02-21T08:42:53.198Z"
   },
   {
    "duration": -246,
    "start_time": "2022-02-21T08:42:53.208Z"
   },
   {
    "duration": -250,
    "start_time": "2022-02-21T08:42:53.212Z"
   },
   {
    "duration": -253,
    "start_time": "2022-02-21T08:42:53.216Z"
   },
   {
    "duration": 22,
    "start_time": "2022-02-21T08:43:03.040Z"
   },
   {
    "duration": 591,
    "start_time": "2022-02-21T08:43:20.955Z"
   },
   {
    "duration": 5,
    "start_time": "2022-02-21T08:46:36.284Z"
   },
   {
    "duration": 361,
    "start_time": "2022-02-21T08:46:40.506Z"
   },
   {
    "duration": 355,
    "start_time": "2022-02-21T08:47:21.685Z"
   },
   {
    "duration": 12,
    "start_time": "2022-02-21T08:47:26.900Z"
   },
   {
    "duration": 217,
    "start_time": "2022-02-21T08:47:32.854Z"
   },
   {
    "duration": 28,
    "start_time": "2022-02-21T08:49:07.713Z"
   },
   {
    "duration": 14,
    "start_time": "2022-02-21T08:51:25.230Z"
   },
   {
    "duration": 13,
    "start_time": "2022-02-21T08:51:54.313Z"
   },
   {
    "duration": 23,
    "start_time": "2022-02-21T08:51:59.978Z"
   },
   {
    "duration": 20,
    "start_time": "2022-02-21T08:53:51.712Z"
   },
   {
    "duration": 18,
    "start_time": "2022-02-21T08:54:36.721Z"
   },
   {
    "duration": 17,
    "start_time": "2022-02-21T08:55:12.454Z"
   },
   {
    "duration": 12,
    "start_time": "2022-02-21T08:57:47.389Z"
   },
   {
    "duration": 25,
    "start_time": "2022-02-21T09:02:10.715Z"
   },
   {
    "duration": 22,
    "start_time": "2022-02-21T09:03:25.545Z"
   },
   {
    "duration": 5,
    "start_time": "2022-02-21T09:03:37.478Z"
   },
   {
    "duration": 23,
    "start_time": "2022-02-21T09:03:39.264Z"
   },
   {
    "duration": 22,
    "start_time": "2022-02-21T09:05:37.874Z"
   },
   {
    "duration": 14,
    "start_time": "2022-02-21T09:05:54.160Z"
   },
   {
    "duration": 314,
    "start_time": "2022-02-21T09:06:05.953Z"
   },
   {
    "duration": 12736,
    "start_time": "2022-02-21T09:06:10.815Z"
   },
   {
    "duration": 26,
    "start_time": "2022-02-21T09:07:25.304Z"
   },
   {
    "duration": 19,
    "start_time": "2022-02-21T09:08:08.582Z"
   },
   {
    "duration": 319,
    "start_time": "2022-02-21T09:21:28.542Z"
   },
   {
    "duration": 8,
    "start_time": "2022-02-21T09:23:03.642Z"
   },
   {
    "duration": 312,
    "start_time": "2022-02-21T12:48:53.256Z"
   },
   {
    "duration": 2310,
    "start_time": "2022-02-21T12:49:01.591Z"
   },
   {
    "duration": 161,
    "start_time": "2022-02-21T12:49:03.905Z"
   },
   {
    "duration": 11,
    "start_time": "2022-02-21T12:49:04.070Z"
   },
   {
    "duration": 24,
    "start_time": "2022-02-21T12:49:04.085Z"
   },
   {
    "duration": 8,
    "start_time": "2022-02-21T12:49:04.127Z"
   },
   {
    "duration": 31,
    "start_time": "2022-02-21T12:49:04.138Z"
   },
   {
    "duration": 18,
    "start_time": "2022-02-21T12:49:04.171Z"
   },
   {
    "duration": 47,
    "start_time": "2022-02-21T12:49:04.192Z"
   },
   {
    "duration": 994,
    "start_time": "2022-02-21T12:49:04.242Z"
   },
   {
    "duration": -452,
    "start_time": "2022-02-21T12:49:05.692Z"
   },
   {
    "duration": -454,
    "start_time": "2022-02-21T12:49:05.696Z"
   },
   {
    "duration": -461,
    "start_time": "2022-02-21T12:49:05.704Z"
   },
   {
    "duration": -462,
    "start_time": "2022-02-21T12:49:05.707Z"
   },
   {
    "duration": -487,
    "start_time": "2022-02-21T12:49:05.734Z"
   },
   {
    "duration": -492,
    "start_time": "2022-02-21T12:49:05.741Z"
   },
   {
    "duration": -495,
    "start_time": "2022-02-21T12:49:05.746Z"
   },
   {
    "duration": -501,
    "start_time": "2022-02-21T12:49:05.754Z"
   },
   {
    "duration": -504,
    "start_time": "2022-02-21T12:49:05.758Z"
   },
   {
    "duration": -507,
    "start_time": "2022-02-21T12:49:05.763Z"
   },
   {
    "duration": -513,
    "start_time": "2022-02-21T12:49:05.772Z"
   },
   {
    "duration": -516,
    "start_time": "2022-02-21T12:49:05.776Z"
   },
   {
    "duration": -519,
    "start_time": "2022-02-21T12:49:05.781Z"
   },
   {
    "duration": -525,
    "start_time": "2022-02-21T12:49:05.788Z"
   },
   {
    "duration": -528,
    "start_time": "2022-02-21T12:49:05.793Z"
   },
   {
    "duration": -536,
    "start_time": "2022-02-21T12:49:05.802Z"
   },
   {
    "duration": -538,
    "start_time": "2022-02-21T12:49:05.806Z"
   },
   {
    "duration": -541,
    "start_time": "2022-02-21T12:49:05.810Z"
   },
   {
    "duration": -547,
    "start_time": "2022-02-21T12:49:05.818Z"
   },
   {
    "duration": -550,
    "start_time": "2022-02-21T12:49:05.822Z"
   },
   {
    "duration": -553,
    "start_time": "2022-02-21T12:49:05.827Z"
   },
   {
    "duration": -560,
    "start_time": "2022-02-21T12:49:05.835Z"
   },
   {
    "duration": -514,
    "start_time": "2022-02-21T12:49:05.839Z"
   },
   {
    "duration": -516,
    "start_time": "2022-02-21T12:49:05.843Z"
   },
   {
    "duration": -523,
    "start_time": "2022-02-21T12:49:05.851Z"
   },
   {
    "duration": -525,
    "start_time": "2022-02-21T12:49:05.855Z"
   },
   {
    "duration": -528,
    "start_time": "2022-02-21T12:49:05.859Z"
   },
   {
    "duration": -547,
    "start_time": "2022-02-21T12:49:05.880Z"
   },
   {
    "duration": -553,
    "start_time": "2022-02-21T12:49:05.888Z"
   },
   {
    "duration": -569,
    "start_time": "2022-02-21T12:49:05.906Z"
   },
   {
    "duration": -575,
    "start_time": "2022-02-21T12:49:05.913Z"
   },
   {
    "duration": -582,
    "start_time": "2022-02-21T12:49:05.922Z"
   },
   {
    "duration": -585,
    "start_time": "2022-02-21T12:49:05.926Z"
   },
   {
    "duration": -589,
    "start_time": "2022-02-21T12:49:05.932Z"
   },
   {
    "duration": -596,
    "start_time": "2022-02-21T12:49:05.940Z"
   },
   {
    "duration": -600,
    "start_time": "2022-02-21T12:49:05.945Z"
   },
   {
    "duration": -607,
    "start_time": "2022-02-21T12:49:05.954Z"
   },
   {
    "duration": -608,
    "start_time": "2022-02-21T12:49:05.957Z"
   },
   {
    "duration": -611,
    "start_time": "2022-02-21T12:49:05.961Z"
   },
   {
    "duration": -617,
    "start_time": "2022-02-21T12:49:05.969Z"
   },
   {
    "duration": -620,
    "start_time": "2022-02-21T12:49:05.973Z"
   },
   {
    "duration": 10,
    "start_time": "2022-02-21T13:03:07.432Z"
   },
   {
    "duration": 11,
    "start_time": "2022-02-21T13:03:27.561Z"
   },
   {
    "duration": 481,
    "start_time": "2022-02-21T13:03:42.799Z"
   },
   {
    "duration": 333,
    "start_time": "2022-02-21T13:03:52.212Z"
   },
   {
    "duration": 6,
    "start_time": "2022-02-21T16:44:11.979Z"
   },
   {
    "duration": 7,
    "start_time": "2022-02-21T16:44:32.879Z"
   },
   {
    "duration": 15,
    "start_time": "2022-02-21T16:57:07.711Z"
   },
   {
    "duration": 15,
    "start_time": "2022-02-21T16:57:21.537Z"
   },
   {
    "duration": 445,
    "start_time": "2022-02-21T16:57:44.517Z"
   },
   {
    "duration": 7077,
    "start_time": "2022-02-21T16:58:31.767Z"
   },
   {
    "duration": 6938,
    "start_time": "2022-02-21T16:59:02.706Z"
   },
   {
    "duration": 6737,
    "start_time": "2022-02-21T16:59:37.082Z"
   },
   {
    "duration": 81,
    "start_time": "2022-02-21T17:00:33.864Z"
   },
   {
    "duration": 103,
    "start_time": "2022-02-21T17:00:57.693Z"
   },
   {
    "duration": 16,
    "start_time": "2022-02-21T17:01:38.378Z"
   },
   {
    "duration": 9,
    "start_time": "2022-02-21T17:03:14.955Z"
   },
   {
    "duration": 9,
    "start_time": "2022-02-21T17:03:32.537Z"
   },
   {
    "duration": 6,
    "start_time": "2022-02-21T17:03:55.447Z"
   },
   {
    "duration": 26,
    "start_time": "2022-02-21T17:04:48.958Z"
   },
   {
    "duration": 20,
    "start_time": "2022-02-21T17:04:57.450Z"
   },
   {
    "duration": 7,
    "start_time": "2022-02-21T17:05:27.963Z"
   },
   {
    "duration": 6,
    "start_time": "2022-02-21T17:06:19.312Z"
   },
   {
    "duration": 6,
    "start_time": "2022-02-21T17:06:36.328Z"
   },
   {
    "duration": 8,
    "start_time": "2022-02-21T17:07:00.478Z"
   },
   {
    "duration": 7,
    "start_time": "2022-02-21T17:07:11.065Z"
   },
   {
    "duration": 18,
    "start_time": "2022-02-21T17:07:23.104Z"
   },
   {
    "duration": 19,
    "start_time": "2022-02-21T17:08:13.993Z"
   },
   {
    "duration": 6,
    "start_time": "2022-02-21T17:09:35.548Z"
   },
   {
    "duration": 13,
    "start_time": "2022-02-21T17:09:50.267Z"
   },
   {
    "duration": 1222,
    "start_time": "2022-02-22T07:30:27.819Z"
   },
   {
    "duration": 104,
    "start_time": "2022-02-22T07:30:29.043Z"
   },
   {
    "duration": 7,
    "start_time": "2022-02-22T07:30:29.149Z"
   },
   {
    "duration": 9,
    "start_time": "2022-02-22T07:30:29.158Z"
   },
   {
    "duration": 311,
    "start_time": "2022-02-22T07:30:29.169Z"
   },
   {
    "duration": 5,
    "start_time": "2022-02-22T07:30:29.481Z"
   },
   {
    "duration": 3829,
    "start_time": "2022-02-22T07:30:29.488Z"
   },
   {
    "duration": 3544,
    "start_time": "2022-02-22T07:30:33.319Z"
   },
   {
    "duration": 11,
    "start_time": "2022-02-22T07:30:36.865Z"
   },
   {
    "duration": 7,
    "start_time": "2022-02-22T07:30:36.877Z"
   },
   {
    "duration": 10,
    "start_time": "2022-02-22T07:30:36.885Z"
   },
   {
    "duration": 6,
    "start_time": "2022-02-22T07:30:36.896Z"
   },
   {
    "duration": 15,
    "start_time": "2022-02-22T07:30:36.931Z"
   },
   {
    "duration": 4,
    "start_time": "2022-02-22T07:30:36.948Z"
   },
   {
    "duration": 15,
    "start_time": "2022-02-22T07:30:36.953Z"
   },
   {
    "duration": 5,
    "start_time": "2022-02-22T07:30:36.970Z"
   },
   {
    "duration": 7,
    "start_time": "2022-02-22T07:30:36.977Z"
   },
   {
    "duration": 9,
    "start_time": "2022-02-22T07:30:36.986Z"
   },
   {
    "duration": 37,
    "start_time": "2022-02-22T07:30:36.997Z"
   },
   {
    "duration": 12,
    "start_time": "2022-02-22T07:30:37.036Z"
   },
   {
    "duration": 10,
    "start_time": "2022-02-22T07:30:37.050Z"
   },
   {
    "duration": 14,
    "start_time": "2022-02-22T07:30:37.061Z"
   },
   {
    "duration": 24,
    "start_time": "2022-02-22T07:30:37.078Z"
   },
   {
    "duration": 27,
    "start_time": "2022-02-22T07:30:37.104Z"
   },
   {
    "duration": 6,
    "start_time": "2022-02-22T07:30:37.132Z"
   },
   {
    "duration": 10,
    "start_time": "2022-02-22T07:30:37.140Z"
   },
   {
    "duration": 172,
    "start_time": "2022-02-22T07:30:37.152Z"
   },
   {
    "duration": 270,
    "start_time": "2022-02-22T07:30:37.330Z"
   },
   {
    "duration": 11,
    "start_time": "2022-02-22T07:30:37.602Z"
   },
   {
    "duration": 19,
    "start_time": "2022-02-22T07:30:37.615Z"
   },
   {
    "duration": 8,
    "start_time": "2022-02-22T07:30:37.636Z"
   },
   {
    "duration": 159,
    "start_time": "2022-02-22T07:30:37.646Z"
   },
   {
    "duration": 1056,
    "start_time": "2022-02-22T07:30:37.807Z"
   },
   {
    "duration": 9,
    "start_time": "2022-02-22T07:30:38.865Z"
   },
   {
    "duration": 8,
    "start_time": "2022-02-22T07:30:38.875Z"
   },
   {
    "duration": 7,
    "start_time": "2022-02-22T07:30:38.885Z"
   },
   {
    "duration": 154,
    "start_time": "2022-02-22T07:30:38.894Z"
   },
   {
    "duration": 229,
    "start_time": "2022-02-22T07:30:39.050Z"
   },
   {
    "duration": 9,
    "start_time": "2022-02-22T07:30:39.281Z"
   },
   {
    "duration": 9,
    "start_time": "2022-02-22T07:30:39.291Z"
   },
   {
    "duration": 8,
    "start_time": "2022-02-22T07:30:39.301Z"
   },
   {
    "duration": 145,
    "start_time": "2022-02-22T07:30:39.330Z"
   },
   {
    "duration": 1597,
    "start_time": "2022-02-22T07:30:39.476Z"
   },
   {
    "duration": 9,
    "start_time": "2022-02-22T07:30:41.075Z"
   },
   {
    "duration": 11,
    "start_time": "2022-02-22T07:30:41.085Z"
   },
   {
    "duration": 7,
    "start_time": "2022-02-22T07:30:41.097Z"
   },
   {
    "duration": 168,
    "start_time": "2022-02-22T07:30:41.106Z"
   },
   {
    "duration": 216,
    "start_time": "2022-02-22T07:30:41.276Z"
   },
   {
    "duration": 8,
    "start_time": "2022-02-22T07:30:41.494Z"
   },
   {
    "duration": 7,
    "start_time": "2022-02-22T07:30:41.504Z"
   },
   {
    "duration": 26,
    "start_time": "2022-02-22T07:30:41.513Z"
   },
   {
    "duration": 266,
    "start_time": "2022-02-22T07:30:41.541Z"
   },
   {
    "duration": -801,
    "start_time": "2022-02-22T07:30:42.610Z"
   },
   {
    "duration": 11,
    "start_time": "2022-02-22T07:30:44.530Z"
   },
   {
    "duration": 10,
    "start_time": "2022-02-22T07:31:03.578Z"
   },
   {
    "duration": 255347,
    "start_time": "2022-02-22T07:31:26.766Z"
   },
   {
    "duration": 366,
    "start_time": "2022-02-22T11:30:23.451Z"
   },
   {
    "duration": 2224,
    "start_time": "2022-02-22T11:30:41.725Z"
   },
   {
    "duration": 250,
    "start_time": "2022-02-22T11:30:43.953Z"
   },
   {
    "duration": 14,
    "start_time": "2022-02-22T11:30:44.207Z"
   },
   {
    "duration": 16,
    "start_time": "2022-02-22T11:30:44.226Z"
   },
   {
    "duration": 55,
    "start_time": "2022-02-22T11:30:44.245Z"
   },
   {
    "duration": 757,
    "start_time": "2022-02-22T11:30:44.304Z"
   },
   {
    "duration": 10,
    "start_time": "2022-02-22T11:30:45.064Z"
   },
   {
    "duration": 7061,
    "start_time": "2022-02-22T11:30:45.097Z"
   },
   {
    "duration": 6233,
    "start_time": "2022-02-22T11:30:52.163Z"
   },
   {
    "duration": 14,
    "start_time": "2022-02-22T11:30:58.398Z"
   },
   {
    "duration": 7,
    "start_time": "2022-02-22T11:30:58.414Z"
   },
   {
    "duration": 15,
    "start_time": "2022-02-22T11:30:58.424Z"
   },
   {
    "duration": 6,
    "start_time": "2022-02-22T11:30:58.441Z"
   },
   {
    "duration": 57,
    "start_time": "2022-02-22T11:30:58.450Z"
   },
   {
    "duration": 6,
    "start_time": "2022-02-22T11:30:58.509Z"
   },
   {
    "duration": 11,
    "start_time": "2022-02-22T11:30:58.517Z"
   },
   {
    "duration": 8,
    "start_time": "2022-02-22T11:30:58.531Z"
   },
   {
    "duration": 10,
    "start_time": "2022-02-22T11:30:58.542Z"
   },
   {
    "duration": 42,
    "start_time": "2022-02-22T11:30:58.555Z"
   },
   {
    "duration": 23,
    "start_time": "2022-02-22T11:30:58.600Z"
   },
   {
    "duration": 15,
    "start_time": "2022-02-22T11:30:58.625Z"
   },
   {
    "duration": 6,
    "start_time": "2022-02-22T11:30:58.642Z"
   },
   {
    "duration": 18,
    "start_time": "2022-02-22T11:30:58.695Z"
   },
   {
    "duration": 34,
    "start_time": "2022-02-22T11:30:58.717Z"
   },
   {
    "duration": 8,
    "start_time": "2022-02-22T11:30:58.754Z"
   },
   {
    "duration": 7,
    "start_time": "2022-02-22T11:30:58.795Z"
   },
   {
    "duration": 19,
    "start_time": "2022-02-22T11:30:58.805Z"
   },
   {
    "duration": 269,
    "start_time": "2022-02-22T11:30:58.827Z"
   },
   {
    "duration": 479,
    "start_time": "2022-02-22T11:30:59.099Z"
   },
   {
    "duration": 22,
    "start_time": "2022-02-22T11:30:59.581Z"
   },
   {
    "duration": 11,
    "start_time": "2022-02-22T11:30:59.605Z"
   },
   {
    "duration": 12,
    "start_time": "2022-02-22T11:30:59.618Z"
   },
   {
    "duration": 265,
    "start_time": "2022-02-22T11:30:59.632Z"
   },
   {
    "duration": 1870,
    "start_time": "2022-02-22T11:30:59.899Z"
   },
   {
    "duration": 21,
    "start_time": "2022-02-22T11:31:01.772Z"
   },
   {
    "duration": 12,
    "start_time": "2022-02-22T11:31:01.796Z"
   },
   {
    "duration": 27,
    "start_time": "2022-02-22T11:31:01.811Z"
   },
   {
    "duration": 254,
    "start_time": "2022-02-22T11:31:01.842Z"
   },
   {
    "duration": 556,
    "start_time": "2022-02-22T11:31:02.099Z"
   },
   {
    "duration": 12,
    "start_time": "2022-02-22T11:31:02.658Z"
   },
   {
    "duration": 27,
    "start_time": "2022-02-22T11:31:02.673Z"
   },
   {
    "duration": 12,
    "start_time": "2022-02-22T11:31:02.702Z"
   },
   {
    "duration": 254,
    "start_time": "2022-02-22T11:31:02.717Z"
   },
   {
    "duration": 2860,
    "start_time": "2022-02-22T11:31:02.973Z"
   },
   {
    "duration": 14,
    "start_time": "2022-02-22T11:31:05.837Z"
   },
   {
    "duration": 45,
    "start_time": "2022-02-22T11:31:05.854Z"
   },
   {
    "duration": 11,
    "start_time": "2022-02-22T11:31:05.901Z"
   },
   {
    "duration": 274,
    "start_time": "2022-02-22T11:31:05.914Z"
   },
   {
    "duration": 535,
    "start_time": "2022-02-22T11:31:06.194Z"
   },
   {
    "duration": 11,
    "start_time": "2022-02-22T11:31:06.731Z"
   },
   {
    "duration": 13,
    "start_time": "2022-02-22T11:31:06.745Z"
   },
   {
    "duration": 42,
    "start_time": "2022-02-22T11:31:06.761Z"
   },
   {
    "duration": 6,
    "start_time": "2022-02-22T11:31:43.265Z"
   },
   {
    "duration": 478,
    "start_time": "2022-02-22T17:44:00.100Z"
   },
   {
    "duration": 460,
    "start_time": "2022-02-22T17:44:16.427Z"
   },
   {
    "duration": 15,
    "start_time": "2022-02-22T17:45:59.469Z"
   },
   {
    "duration": 11,
    "start_time": "2022-02-22T17:46:22.008Z"
   },
   {
    "duration": 1572,
    "start_time": "2022-02-22T17:46:29.035Z"
   },
   {
    "duration": 161,
    "start_time": "2022-02-22T17:46:30.609Z"
   },
   {
    "duration": 24,
    "start_time": "2022-02-22T17:46:30.773Z"
   },
   {
    "duration": 15,
    "start_time": "2022-02-22T17:46:30.800Z"
   },
   {
    "duration": 481,
    "start_time": "2022-02-22T17:46:30.817Z"
   },
   {
    "duration": 6,
    "start_time": "2022-02-22T17:46:31.301Z"
   },
   {
    "duration": 7004,
    "start_time": "2022-02-22T17:46:31.310Z"
   },
   {
    "duration": 6754,
    "start_time": "2022-02-22T17:46:38.319Z"
   },
   {
    "duration": 22,
    "start_time": "2022-02-22T17:46:45.078Z"
   },
   {
    "duration": 10,
    "start_time": "2022-02-22T17:46:45.102Z"
   },
   {
    "duration": 22,
    "start_time": "2022-02-22T17:46:45.115Z"
   },
   {
    "duration": 18,
    "start_time": "2022-02-22T17:46:45.139Z"
   },
   {
    "duration": 43,
    "start_time": "2022-02-22T17:46:45.160Z"
   },
   {
    "duration": 6,
    "start_time": "2022-02-22T17:46:45.206Z"
   },
   {
    "duration": 11,
    "start_time": "2022-02-22T17:46:45.214Z"
   },
   {
    "duration": 8,
    "start_time": "2022-02-22T17:46:45.228Z"
   },
   {
    "duration": 15,
    "start_time": "2022-02-22T17:46:45.238Z"
   },
   {
    "duration": 6,
    "start_time": "2022-02-22T17:46:45.294Z"
   },
   {
    "duration": 19,
    "start_time": "2022-02-22T17:46:45.303Z"
   },
   {
    "duration": 16,
    "start_time": "2022-02-22T17:46:45.324Z"
   },
   {
    "duration": 50,
    "start_time": "2022-02-22T17:46:45.343Z"
   },
   {
    "duration": 20,
    "start_time": "2022-02-22T17:46:45.397Z"
   },
   {
    "duration": 38,
    "start_time": "2022-02-22T17:46:45.423Z"
   },
   {
    "duration": 7,
    "start_time": "2022-02-22T17:46:45.464Z"
   },
   {
    "duration": 6,
    "start_time": "2022-02-22T17:46:45.495Z"
   },
   {
    "duration": 15,
    "start_time": "2022-02-22T17:46:45.505Z"
   },
   {
    "duration": 295,
    "start_time": "2022-02-22T17:46:45.524Z"
   },
   {
    "duration": 471,
    "start_time": "2022-02-22T17:46:45.822Z"
   },
   {
    "duration": 14,
    "start_time": "2022-02-22T17:46:46.296Z"
   },
   {
    "duration": 10,
    "start_time": "2022-02-22T17:46:46.313Z"
   },
   {
    "duration": 10,
    "start_time": "2022-02-22T17:46:46.326Z"
   },
   {
    "duration": 288,
    "start_time": "2022-02-22T17:46:46.338Z"
   },
   {
    "duration": 1913,
    "start_time": "2022-02-22T17:46:46.628Z"
   },
   {
    "duration": 12,
    "start_time": "2022-02-22T17:46:48.544Z"
   },
   {
    "duration": 34,
    "start_time": "2022-02-22T17:46:48.559Z"
   },
   {
    "duration": 10,
    "start_time": "2022-02-22T17:46:48.596Z"
   },
   {
    "duration": 249,
    "start_time": "2022-02-22T17:46:48.609Z"
   },
   {
    "duration": 423,
    "start_time": "2022-02-22T17:46:48.861Z"
   },
   {
    "duration": 17,
    "start_time": "2022-02-22T17:46:49.288Z"
   },
   {
    "duration": 13,
    "start_time": "2022-02-22T17:46:49.308Z"
   },
   {
    "duration": 14,
    "start_time": "2022-02-22T17:46:49.325Z"
   },
   {
    "duration": 312,
    "start_time": "2022-02-22T17:46:49.342Z"
   },
   {
    "duration": 2947,
    "start_time": "2022-02-22T17:46:49.656Z"
   },
   {
    "duration": 14,
    "start_time": "2022-02-22T17:46:52.606Z"
   },
   {
    "duration": 17,
    "start_time": "2022-02-22T17:46:52.622Z"
   },
   {
    "duration": 11,
    "start_time": "2022-02-22T17:46:52.641Z"
   },
   {
    "duration": 302,
    "start_time": "2022-02-22T17:46:52.655Z"
   },
   {
    "duration": 376,
    "start_time": "2022-02-22T17:46:52.960Z"
   },
   {
    "duration": 14,
    "start_time": "2022-02-22T17:46:53.339Z"
   },
   {
    "duration": 38,
    "start_time": "2022-02-22T17:46:53.356Z"
   },
   {
    "duration": 455,
    "start_time": "2022-02-22T17:47:24.453Z"
   },
   {
    "duration": 1778,
    "start_time": "2022-02-22T17:47:32.405Z"
   },
   {
    "duration": 252,
    "start_time": "2022-02-22T17:47:34.186Z"
   },
   {
    "duration": 15,
    "start_time": "2022-02-22T17:47:34.443Z"
   },
   {
    "duration": 35,
    "start_time": "2022-02-22T17:47:34.461Z"
   },
   {
    "duration": 472,
    "start_time": "2022-02-22T17:47:34.499Z"
   },
   {
    "duration": 21,
    "start_time": "2022-02-22T17:47:34.974Z"
   },
   {
    "duration": 6788,
    "start_time": "2022-02-22T17:47:34.998Z"
   },
   {
    "duration": 6676,
    "start_time": "2022-02-22T17:47:41.790Z"
   },
   {
    "duration": 24,
    "start_time": "2022-02-22T17:47:48.470Z"
   },
   {
    "duration": 7,
    "start_time": "2022-02-22T17:47:48.497Z"
   },
   {
    "duration": 15,
    "start_time": "2022-02-22T17:47:48.507Z"
   },
   {
    "duration": 7,
    "start_time": "2022-02-22T17:47:48.524Z"
   },
   {
    "duration": 84,
    "start_time": "2022-02-22T17:47:48.534Z"
   },
   {
    "duration": 7,
    "start_time": "2022-02-22T17:47:48.620Z"
   },
   {
    "duration": 11,
    "start_time": "2022-02-22T17:47:48.630Z"
   },
   {
    "duration": 13,
    "start_time": "2022-02-22T17:47:48.643Z"
   },
   {
    "duration": 7,
    "start_time": "2022-02-22T17:47:48.659Z"
   },
   {
    "duration": 32,
    "start_time": "2022-02-22T17:47:48.669Z"
   },
   {
    "duration": 26,
    "start_time": "2022-02-22T17:47:48.703Z"
   },
   {
    "duration": 17,
    "start_time": "2022-02-22T17:47:48.732Z"
   },
   {
    "duration": 14,
    "start_time": "2022-02-22T17:47:48.752Z"
   },
   {
    "duration": 26,
    "start_time": "2022-02-22T17:47:48.795Z"
   },
   {
    "duration": 36,
    "start_time": "2022-02-22T17:47:48.827Z"
   },
   {
    "duration": 32,
    "start_time": "2022-02-22T17:47:48.867Z"
   },
   {
    "duration": 6,
    "start_time": "2022-02-22T17:47:48.902Z"
   },
   {
    "duration": 15,
    "start_time": "2022-02-22T17:47:48.910Z"
   },
   {
    "duration": 292,
    "start_time": "2022-02-22T17:47:48.927Z"
   },
   {
    "duration": 492,
    "start_time": "2022-02-22T17:47:49.221Z"
   },
   {
    "duration": 21,
    "start_time": "2022-02-22T17:47:49.716Z"
   },
   {
    "duration": 11,
    "start_time": "2022-02-22T17:47:49.740Z"
   },
   {
    "duration": 45,
    "start_time": "2022-02-22T17:47:49.754Z"
   },
   {
    "duration": 265,
    "start_time": "2022-02-22T17:47:49.801Z"
   },
   {
    "duration": 3155,
    "start_time": "2022-02-22T17:47:50.068Z"
   },
   {
    "duration": 19,
    "start_time": "2022-02-22T17:47:53.226Z"
   },
   {
    "duration": 14,
    "start_time": "2022-02-22T17:47:53.248Z"
   },
   {
    "duration": 36,
    "start_time": "2022-02-22T17:47:53.265Z"
   },
   {
    "duration": 262,
    "start_time": "2022-02-22T17:47:53.303Z"
   },
   {
    "duration": 411,
    "start_time": "2022-02-22T17:47:53.567Z"
   },
   {
    "duration": 23,
    "start_time": "2022-02-22T17:47:53.981Z"
   },
   {
    "duration": 15,
    "start_time": "2022-02-22T17:47:54.009Z"
   },
   {
    "duration": 16,
    "start_time": "2022-02-22T17:47:54.028Z"
   },
   {
    "duration": 396,
    "start_time": "2022-02-22T17:47:54.048Z"
   },
   {
    "duration": 3035,
    "start_time": "2022-02-22T17:47:54.447Z"
   },
   {
    "duration": 19,
    "start_time": "2022-02-22T17:47:57.485Z"
   },
   {
    "duration": 16,
    "start_time": "2022-02-22T17:47:57.507Z"
   },
   {
    "duration": 14,
    "start_time": "2022-02-22T17:47:57.525Z"
   },
   {
    "duration": 311,
    "start_time": "2022-02-22T17:47:57.543Z"
   },
   {
    "duration": 373,
    "start_time": "2022-02-22T17:47:57.856Z"
   },
   {
    "duration": 12,
    "start_time": "2022-02-22T17:47:58.232Z"
   },
   {
    "duration": 14,
    "start_time": "2022-02-22T17:47:58.247Z"
   },
   {
    "duration": 12,
    "start_time": "2022-02-22T17:49:53.146Z"
   },
   {
    "duration": 307,
    "start_time": "2022-02-22T17:50:17.971Z"
   },
   {
    "duration": 1656,
    "start_time": "2022-02-22T17:50:31.997Z"
   },
   {
    "duration": 153,
    "start_time": "2022-02-22T17:50:33.656Z"
   },
   {
    "duration": 11,
    "start_time": "2022-02-22T17:50:33.812Z"
   },
   {
    "duration": 14,
    "start_time": "2022-02-22T17:50:33.826Z"
   },
   {
    "duration": 500,
    "start_time": "2022-02-22T17:50:33.843Z"
   },
   {
    "duration": 8,
    "start_time": "2022-02-22T17:50:34.346Z"
   },
   {
    "duration": 10610,
    "start_time": "2022-02-22T17:50:34.356Z"
   },
   {
    "duration": 10472,
    "start_time": "2022-02-22T17:50:44.972Z"
   },
   {
    "duration": 15,
    "start_time": "2022-02-22T17:50:55.449Z"
   },
   {
    "duration": 31,
    "start_time": "2022-02-22T17:50:55.468Z"
   },
   {
    "duration": 19,
    "start_time": "2022-02-22T17:50:55.501Z"
   },
   {
    "duration": 19,
    "start_time": "2022-02-22T17:50:55.523Z"
   },
   {
    "duration": 49,
    "start_time": "2022-02-22T17:50:55.545Z"
   },
   {
    "duration": 5,
    "start_time": "2022-02-22T17:50:55.597Z"
   },
   {
    "duration": 11,
    "start_time": "2022-02-22T17:50:55.605Z"
   },
   {
    "duration": 12,
    "start_time": "2022-02-22T17:50:55.619Z"
   },
   {
    "duration": 22,
    "start_time": "2022-02-22T17:50:55.634Z"
   },
   {
    "duration": 50,
    "start_time": "2022-02-22T17:50:55.659Z"
   },
   {
    "duration": 27,
    "start_time": "2022-02-22T17:50:55.712Z"
   },
   {
    "duration": 14,
    "start_time": "2022-02-22T17:50:55.742Z"
   },
   {
    "duration": 35,
    "start_time": "2022-02-22T17:50:55.759Z"
   },
   {
    "duration": 22,
    "start_time": "2022-02-22T17:50:55.797Z"
   },
   {
    "duration": 35,
    "start_time": "2022-02-22T17:50:55.825Z"
   },
   {
    "duration": 34,
    "start_time": "2022-02-22T17:50:55.865Z"
   },
   {
    "duration": 14,
    "start_time": "2022-02-22T17:50:55.903Z"
   },
   {
    "duration": 27,
    "start_time": "2022-02-22T17:50:55.920Z"
   },
   {
    "duration": 273,
    "start_time": "2022-02-22T17:50:55.951Z"
   },
   {
    "duration": 491,
    "start_time": "2022-02-22T17:50:56.226Z"
   },
   {
    "duration": 15,
    "start_time": "2022-02-22T17:50:56.720Z"
   },
   {
    "duration": 18,
    "start_time": "2022-02-22T17:50:56.738Z"
   },
   {
    "duration": 11,
    "start_time": "2022-02-22T17:50:56.758Z"
   },
   {
    "duration": 297,
    "start_time": "2022-02-22T17:50:56.794Z"
   },
   {
    "duration": 2103,
    "start_time": "2022-02-22T17:50:57.094Z"
   },
   {
    "duration": 14,
    "start_time": "2022-02-22T17:50:59.200Z"
   },
   {
    "duration": 12,
    "start_time": "2022-02-22T17:50:59.216Z"
   },
   {
    "duration": 22,
    "start_time": "2022-02-22T17:50:59.232Z"
   },
   {
    "duration": 266,
    "start_time": "2022-02-22T17:50:59.256Z"
   },
   {
    "duration": 633,
    "start_time": "2022-02-22T17:50:59.525Z"
   },
   {
    "duration": 13,
    "start_time": "2022-02-22T17:51:00.161Z"
   },
   {
    "duration": 12,
    "start_time": "2022-02-22T17:51:00.194Z"
   },
   {
    "duration": 13,
    "start_time": "2022-02-22T17:51:00.208Z"
   },
   {
    "duration": 276,
    "start_time": "2022-02-22T17:51:00.224Z"
   },
   {
    "duration": 3059,
    "start_time": "2022-02-22T17:51:00.503Z"
   },
   {
    "duration": 30,
    "start_time": "2022-02-22T17:51:03.565Z"
   },
   {
    "duration": 22,
    "start_time": "2022-02-22T17:51:03.598Z"
   },
   {
    "duration": 14,
    "start_time": "2022-02-22T17:51:03.623Z"
   },
   {
    "duration": 298,
    "start_time": "2022-02-22T17:51:03.640Z"
   },
   {
    "duration": 369,
    "start_time": "2022-02-22T17:51:03.940Z"
   },
   {
    "duration": 11,
    "start_time": "2022-02-22T17:51:04.312Z"
   },
   {
    "duration": 11,
    "start_time": "2022-02-22T17:51:04.326Z"
   },
   {
    "duration": 6,
    "start_time": "2022-02-22T17:51:30.366Z"
   },
   {
    "duration": 6,
    "start_time": "2022-02-22T17:52:04.728Z"
   },
   {
    "duration": 8,
    "start_time": "2022-02-22T17:53:02.988Z"
   },
   {
    "duration": 6,
    "start_time": "2022-02-22T17:53:32.715Z"
   },
   {
    "duration": 6,
    "start_time": "2022-02-22T17:53:51.876Z"
   },
   {
    "duration": 6,
    "start_time": "2022-02-22T17:54:02.157Z"
   },
   {
    "duration": 6,
    "start_time": "2022-02-22T17:54:11.580Z"
   },
   {
    "duration": 6,
    "start_time": "2022-02-22T17:54:57.244Z"
   },
   {
    "duration": 22,
    "start_time": "2022-02-22T17:55:01.844Z"
   },
   {
    "duration": 28,
    "start_time": "2022-02-22T17:55:08.763Z"
   },
   {
    "duration": 8,
    "start_time": "2022-02-22T17:55:12.404Z"
   },
   {
    "duration": 10,
    "start_time": "2022-02-22T17:56:41.162Z"
   },
   {
    "duration": 11,
    "start_time": "2022-02-22T17:56:46.060Z"
   },
   {
    "duration": 222,
    "start_time": "2022-02-22T17:57:09.028Z"
   },
   {
    "duration": 12,
    "start_time": "2022-02-22T17:57:54.027Z"
   },
   {
    "duration": 252,
    "start_time": "2022-02-22T17:58:29.250Z"
   },
   {
    "duration": 2878,
    "start_time": "2022-02-22T17:58:32.852Z"
   },
   {
    "duration": 13,
    "start_time": "2022-02-22T17:58:44.638Z"
   },
   {
    "duration": 264,
    "start_time": "2022-02-22T17:58:57.277Z"
   },
   {
    "duration": 255,
    "start_time": "2022-02-22T17:59:06.161Z"
   },
   {
    "duration": 354,
    "start_time": "2022-02-22T17:59:16.889Z"
   },
   {
    "duration": 423,
    "start_time": "2022-02-22T17:59:28.393Z"
   },
   {
    "duration": 375,
    "start_time": "2022-02-22T18:00:31.467Z"
   },
   {
    "duration": 370,
    "start_time": "2022-02-22T18:01:06.031Z"
   },
   {
    "duration": 701,
    "start_time": "2022-02-22T18:01:15.297Z"
   },
   {
    "duration": 18,
    "start_time": "2022-02-22T18:04:50.579Z"
   },
   {
    "duration": 1928,
    "start_time": "2022-02-22T18:04:59.368Z"
   },
   {
    "duration": 165,
    "start_time": "2022-02-22T18:05:01.299Z"
   },
   {
    "duration": 28,
    "start_time": "2022-02-22T18:05:01.467Z"
   },
   {
    "duration": 16,
    "start_time": "2022-02-22T18:05:01.499Z"
   },
   {
    "duration": 552,
    "start_time": "2022-02-22T18:05:01.518Z"
   },
   {
    "duration": 8,
    "start_time": "2022-02-22T18:05:02.072Z"
   },
   {
    "duration": 7053,
    "start_time": "2022-02-22T18:05:02.095Z"
   },
   {
    "duration": 8144,
    "start_time": "2022-02-22T18:05:09.153Z"
   },
   {
    "duration": 13,
    "start_time": "2022-02-22T18:05:17.301Z"
   },
   {
    "duration": 8,
    "start_time": "2022-02-22T18:05:17.317Z"
   },
   {
    "duration": 16,
    "start_time": "2022-02-22T18:05:17.328Z"
   },
   {
    "duration": 50,
    "start_time": "2022-02-22T18:05:17.347Z"
   },
   {
    "duration": 30,
    "start_time": "2022-02-22T18:05:17.400Z"
   },
   {
    "duration": 6,
    "start_time": "2022-02-22T18:05:17.433Z"
   },
   {
    "duration": 11,
    "start_time": "2022-02-22T18:05:17.442Z"
   },
   {
    "duration": 38,
    "start_time": "2022-02-22T18:05:17.456Z"
   },
   {
    "duration": 5,
    "start_time": "2022-02-22T18:05:17.497Z"
   },
   {
    "duration": 20,
    "start_time": "2022-02-22T18:05:17.504Z"
   },
   {
    "duration": 27,
    "start_time": "2022-02-22T18:05:17.527Z"
   },
   {
    "duration": 47,
    "start_time": "2022-02-22T18:05:17.557Z"
   },
   {
    "duration": 6,
    "start_time": "2022-02-22T18:05:17.607Z"
   },
   {
    "duration": 19,
    "start_time": "2022-02-22T18:05:17.615Z"
   },
   {
    "duration": 73,
    "start_time": "2022-02-22T18:05:17.639Z"
   },
   {
    "duration": 7,
    "start_time": "2022-02-22T18:05:17.716Z"
   },
   {
    "duration": 12,
    "start_time": "2022-02-22T18:05:17.725Z"
   },
   {
    "duration": 13,
    "start_time": "2022-02-22T18:05:17.739Z"
   },
   {
    "duration": 305,
    "start_time": "2022-02-22T18:05:17.754Z"
   },
   {
    "duration": 468,
    "start_time": "2022-02-22T18:05:18.062Z"
   },
   {
    "duration": 15,
    "start_time": "2022-02-22T18:05:18.533Z"
   },
   {
    "duration": 10,
    "start_time": "2022-02-22T18:05:18.550Z"
   },
   {
    "duration": 38,
    "start_time": "2022-02-22T18:05:18.562Z"
   },
   {
    "duration": 258,
    "start_time": "2022-02-22T18:05:18.603Z"
   },
   {
    "duration": 1997,
    "start_time": "2022-02-22T18:05:18.863Z"
   },
   {
    "duration": 39,
    "start_time": "2022-02-22T18:05:20.862Z"
   },
   {
    "duration": 10,
    "start_time": "2022-02-22T18:05:20.905Z"
   },
   {
    "duration": 10,
    "start_time": "2022-02-22T18:05:20.918Z"
   },
   {
    "duration": 385,
    "start_time": "2022-02-22T18:05:20.931Z"
   },
   {
    "duration": 433,
    "start_time": "2022-02-22T18:05:21.319Z"
   },
   {
    "duration": 14,
    "start_time": "2022-02-22T18:05:21.756Z"
   },
   {
    "duration": 29,
    "start_time": "2022-02-22T18:05:21.773Z"
   },
   {
    "duration": 13,
    "start_time": "2022-02-22T18:05:21.805Z"
   },
   {
    "duration": 303,
    "start_time": "2022-02-22T18:05:21.822Z"
   },
   {
    "duration": 3039,
    "start_time": "2022-02-22T18:05:22.128Z"
   },
   {
    "duration": 30,
    "start_time": "2022-02-22T18:05:25.170Z"
   },
   {
    "duration": 17,
    "start_time": "2022-02-22T18:05:25.202Z"
   },
   {
    "duration": 18,
    "start_time": "2022-02-22T18:05:25.222Z"
   },
   {
    "duration": 294,
    "start_time": "2022-02-22T18:05:25.243Z"
   },
   {
    "duration": 534,
    "start_time": "2022-02-22T18:05:25.540Z"
   },
   {
    "duration": 21,
    "start_time": "2022-02-22T18:05:26.076Z"
   },
   {
    "duration": 13,
    "start_time": "2022-02-22T18:05:26.099Z"
   },
   {
    "duration": 11,
    "start_time": "2022-02-22T18:06:04.553Z"
   },
   {
    "duration": 13,
    "start_time": "2022-02-22T18:08:08.383Z"
   },
   {
    "duration": 12,
    "start_time": "2022-02-22T18:14:53.137Z"
   },
   {
    "duration": 366,
    "start_time": "2022-02-22T18:17:23.969Z"
   },
   {
    "duration": 367,
    "start_time": "2022-02-22T18:18:17.783Z"
   },
   {
    "duration": 397,
    "start_time": "2022-02-22T18:21:35.261Z"
   },
   {
    "duration": 15,
    "start_time": "2022-02-22T18:22:00.340Z"
   },
   {
    "duration": 11,
    "start_time": "2022-02-22T18:24:14.453Z"
   },
   {
    "duration": 17,
    "start_time": "2022-02-22T18:24:27.327Z"
   },
   {
    "duration": 38,
    "start_time": "2022-02-22T18:25:04.823Z"
   },
   {
    "duration": 59,
    "start_time": "2022-02-22T18:25:25.148Z"
   },
   {
    "duration": 38,
    "start_time": "2022-02-22T18:30:39.511Z"
   },
   {
    "duration": 19,
    "start_time": "2022-02-22T18:30:48.242Z"
   },
   {
    "duration": 44,
    "start_time": "2022-02-22T18:35:26.065Z"
   },
   {
    "duration": 42,
    "start_time": "2022-02-22T18:36:52.299Z"
   },
   {
    "duration": 15,
    "start_time": "2022-02-22T18:37:19.317Z"
   },
   {
    "duration": 12,
    "start_time": "2022-02-22T18:41:26.705Z"
   },
   {
    "duration": 3035,
    "start_time": "2022-02-22T18:42:04.945Z"
   },
   {
    "duration": 6575,
    "start_time": "2022-02-22T18:48:42.288Z"
   },
   {
    "duration": 18,
    "start_time": "2022-02-22T18:48:59.556Z"
   },
   {
    "duration": 2774,
    "start_time": "2022-02-22T18:51:10.030Z"
   },
   {
    "duration": 2811,
    "start_time": "2022-02-22T18:54:41.014Z"
   },
   {
    "duration": 12,
    "start_time": "2022-02-22T18:56:18.913Z"
   },
   {
    "duration": 270,
    "start_time": "2022-02-22T18:56:43.877Z"
   },
   {
    "duration": 18,
    "start_time": "2022-02-22T18:56:52.421Z"
   },
   {
    "duration": 7333,
    "start_time": "2022-02-22T18:57:41.625Z"
   },
   {
    "duration": 40,
    "start_time": "2022-02-22T19:00:14.893Z"
   },
   {
    "duration": 273,
    "start_time": "2022-02-22T19:02:32.783Z"
   },
   {
    "duration": 33,
    "start_time": "2022-02-22T19:04:26.216Z"
   },
   {
    "duration": 291,
    "start_time": "2022-02-22T19:05:02.244Z"
   },
   {
    "duration": 246,
    "start_time": "2022-02-22T19:05:56.969Z"
   },
   {
    "duration": 2187,
    "start_time": "2022-02-22T19:06:10.247Z"
   },
   {
    "duration": 215,
    "start_time": "2022-02-22T19:06:12.438Z"
   },
   {
    "duration": 15,
    "start_time": "2022-02-22T19:06:12.657Z"
   },
   {
    "duration": 24,
    "start_time": "2022-02-22T19:06:12.676Z"
   },
   {
    "duration": 485,
    "start_time": "2022-02-22T19:06:12.703Z"
   },
   {
    "duration": 6,
    "start_time": "2022-02-22T19:06:13.195Z"
   },
   {
    "duration": 10506,
    "start_time": "2022-02-22T19:06:13.203Z"
   },
   {
    "duration": 6494,
    "start_time": "2022-02-22T19:06:23.715Z"
   },
   {
    "duration": 13,
    "start_time": "2022-02-22T19:06:30.213Z"
   },
   {
    "duration": 22,
    "start_time": "2022-02-22T19:06:30.229Z"
   },
   {
    "duration": 26,
    "start_time": "2022-02-22T19:06:30.255Z"
   },
   {
    "duration": 7,
    "start_time": "2022-02-22T19:06:30.295Z"
   },
   {
    "duration": 33,
    "start_time": "2022-02-22T19:06:30.305Z"
   },
   {
    "duration": 8,
    "start_time": "2022-02-22T19:06:30.342Z"
   },
   {
    "duration": 43,
    "start_time": "2022-02-22T19:06:30.353Z"
   },
   {
    "duration": 23,
    "start_time": "2022-02-22T19:06:30.399Z"
   },
   {
    "duration": 48,
    "start_time": "2022-02-22T19:06:30.426Z"
   },
   {
    "duration": 28,
    "start_time": "2022-02-22T19:06:30.477Z"
   },
   {
    "duration": 37,
    "start_time": "2022-02-22T19:06:30.508Z"
   },
   {
    "duration": 19,
    "start_time": "2022-02-22T19:06:30.548Z"
   },
   {
    "duration": 13,
    "start_time": "2022-02-22T19:06:30.570Z"
   },
   {
    "duration": 20,
    "start_time": "2022-02-22T19:06:30.586Z"
   },
   {
    "duration": 36,
    "start_time": "2022-02-22T19:06:30.611Z"
   },
   {
    "duration": 7,
    "start_time": "2022-02-22T19:06:30.651Z"
   },
   {
    "duration": 35,
    "start_time": "2022-02-22T19:06:30.661Z"
   },
   {
    "duration": 26,
    "start_time": "2022-02-22T19:06:30.699Z"
   },
   {
    "duration": 287,
    "start_time": "2022-02-22T19:06:30.728Z"
   },
   {
    "duration": 468,
    "start_time": "2022-02-22T19:06:31.018Z"
   },
   {
    "duration": 13,
    "start_time": "2022-02-22T19:06:31.493Z"
   },
   {
    "duration": 279,
    "start_time": "2022-02-22T19:06:31.509Z"
   },
   {
    "duration": 1933,
    "start_time": "2022-02-22T19:06:31.795Z"
   },
   {
    "duration": 10,
    "start_time": "2022-02-22T19:06:33.730Z"
   },
   {
    "duration": 270,
    "start_time": "2022-02-22T19:06:33.742Z"
   },
   {
    "duration": 421,
    "start_time": "2022-02-22T19:06:34.015Z"
   },
   {
    "duration": 12,
    "start_time": "2022-02-22T19:06:34.438Z"
   },
   {
    "duration": 292,
    "start_time": "2022-02-22T19:06:34.452Z"
   },
   {
    "duration": 3374,
    "start_time": "2022-02-22T19:06:34.747Z"
   },
   {
    "duration": 11,
    "start_time": "2022-02-22T19:06:38.123Z"
   },
   {
    "duration": 613,
    "start_time": "2022-02-22T19:06:38.137Z"
   },
   {
    "duration": 379,
    "start_time": "2022-02-22T19:06:38.752Z"
   },
   {
    "duration": 13,
    "start_time": "2022-02-22T19:06:39.134Z"
   },
   {
    "duration": 11,
    "start_time": "2022-02-22T19:06:39.150Z"
   },
   {
    "duration": 85,
    "start_time": "2022-02-22T19:06:39.164Z"
   },
   {
    "duration": 14,
    "start_time": "2022-02-22T19:06:39.252Z"
   },
   {
    "duration": 8675,
    "start_time": "2022-02-22T19:06:39.294Z"
   },
   {
    "duration": 2665,
    "start_time": "2022-02-22T19:06:47.972Z"
   },
   {
    "duration": 11,
    "start_time": "2022-02-22T19:06:50.640Z"
   },
   {
    "duration": 7102,
    "start_time": "2022-02-22T19:06:50.654Z"
   },
   {
    "duration": 43,
    "start_time": "2022-02-22T19:06:57.759Z"
   },
   {
    "duration": 407,
    "start_time": "2022-02-22T19:06:57.805Z"
   },
   {
    "duration": -8091,
    "start_time": "2022-02-22T19:07:06.311Z"
   },
   {
    "duration": 3352,
    "start_time": "2022-02-22T19:09:26.005Z"
   },
   {
    "duration": 388,
    "start_time": "2022-02-22T19:11:53.965Z"
   },
   {
    "duration": 3394,
    "start_time": "2022-02-22T19:12:26.796Z"
   },
   {
    "duration": 1608,
    "start_time": "2022-02-23T06:41:21.364Z"
   },
   {
    "duration": 156,
    "start_time": "2022-02-23T06:41:22.974Z"
   },
   {
    "duration": 23,
    "start_time": "2022-02-23T06:41:23.132Z"
   },
   {
    "duration": 13,
    "start_time": "2022-02-23T06:41:23.158Z"
   },
   {
    "duration": 485,
    "start_time": "2022-02-23T06:41:23.173Z"
   },
   {
    "duration": 7,
    "start_time": "2022-02-23T06:41:23.660Z"
   },
   {
    "duration": 6751,
    "start_time": "2022-02-23T06:41:23.670Z"
   },
   {
    "duration": 6256,
    "start_time": "2022-02-23T06:41:30.425Z"
   },
   {
    "duration": 11,
    "start_time": "2022-02-23T06:41:36.684Z"
   },
   {
    "duration": 10,
    "start_time": "2022-02-23T06:41:36.697Z"
   },
   {
    "duration": 12,
    "start_time": "2022-02-23T06:41:36.710Z"
   },
   {
    "duration": 6,
    "start_time": "2022-02-23T06:41:36.749Z"
   },
   {
    "duration": 43,
    "start_time": "2022-02-23T06:41:36.758Z"
   },
   {
    "duration": 8,
    "start_time": "2022-02-23T06:41:36.804Z"
   },
   {
    "duration": 35,
    "start_time": "2022-02-23T06:41:36.815Z"
   },
   {
    "duration": 7,
    "start_time": "2022-02-23T06:41:36.853Z"
   },
   {
    "duration": 6,
    "start_time": "2022-02-23T06:41:36.863Z"
   },
   {
    "duration": 10,
    "start_time": "2022-02-23T06:41:36.872Z"
   },
   {
    "duration": 24,
    "start_time": "2022-02-23T06:41:36.885Z"
   },
   {
    "duration": 15,
    "start_time": "2022-02-23T06:41:36.949Z"
   },
   {
    "duration": 9,
    "start_time": "2022-02-23T06:41:36.968Z"
   },
   {
    "duration": 19,
    "start_time": "2022-02-23T06:41:36.980Z"
   },
   {
    "duration": 68,
    "start_time": "2022-02-23T06:41:37.005Z"
   },
   {
    "duration": 7,
    "start_time": "2022-02-23T06:41:37.077Z"
   },
   {
    "duration": 7,
    "start_time": "2022-02-23T06:41:37.087Z"
   },
   {
    "duration": 13,
    "start_time": "2022-02-23T06:41:37.097Z"
   },
   {
    "duration": 297,
    "start_time": "2022-02-23T06:41:37.113Z"
   },
   {
    "duration": 476,
    "start_time": "2022-02-23T06:41:37.414Z"
   },
   {
    "duration": 12,
    "start_time": "2022-02-23T06:41:37.892Z"
   },
   {
    "duration": 247,
    "start_time": "2022-02-23T06:41:37.906Z"
   },
   {
    "duration": 2922,
    "start_time": "2022-02-23T06:41:38.155Z"
   },
   {
    "duration": 13,
    "start_time": "2022-02-23T06:41:41.080Z"
   },
   {
    "duration": 260,
    "start_time": "2022-02-23T06:41:41.096Z"
   },
   {
    "duration": 375,
    "start_time": "2022-02-23T06:41:41.359Z"
   },
   {
    "duration": 19,
    "start_time": "2022-02-23T06:41:41.737Z"
   },
   {
    "duration": 257,
    "start_time": "2022-02-23T06:41:41.759Z"
   },
   {
    "duration": 2816,
    "start_time": "2022-02-23T06:41:42.018Z"
   },
   {
    "duration": 18,
    "start_time": "2022-02-23T06:41:44.837Z"
   },
   {
    "duration": 258,
    "start_time": "2022-02-23T06:41:44.858Z"
   },
   {
    "duration": 334,
    "start_time": "2022-02-23T06:41:45.119Z"
   },
   {
    "duration": 13,
    "start_time": "2022-02-23T06:41:45.456Z"
   },
   {
    "duration": 37,
    "start_time": "2022-02-23T06:41:45.473Z"
   },
   {
    "duration": 53,
    "start_time": "2022-02-23T06:41:45.513Z"
   },
   {
    "duration": 12,
    "start_time": "2022-02-23T06:41:45.569Z"
   },
   {
    "duration": 6830,
    "start_time": "2022-02-23T06:41:45.584Z"
   },
   {
    "duration": 2700,
    "start_time": "2022-02-23T06:41:52.417Z"
   },
   {
    "duration": 31,
    "start_time": "2022-02-23T06:41:55.120Z"
   },
   {
    "duration": 6847,
    "start_time": "2022-02-23T06:41:55.153Z"
   },
   {
    "duration": 49,
    "start_time": "2022-02-23T06:42:02.002Z"
   },
   {
    "duration": 607,
    "start_time": "2022-02-23T06:42:02.054Z"
   },
   {
    "duration": -642,
    "start_time": "2022-02-23T06:42:03.307Z"
   },
   {
    "duration": -644,
    "start_time": "2022-02-23T06:42:03.311Z"
   },
   {
    "duration": -650,
    "start_time": "2022-02-23T06:42:03.319Z"
   },
   {
    "duration": 14,
    "start_time": "2022-02-23T06:47:06.781Z"
   },
   {
    "duration": 606,
    "start_time": "2022-02-23T06:49:25.656Z"
   },
   {
    "duration": 3173,
    "start_time": "2022-02-23T06:51:17.062Z"
   },
   {
    "duration": 3145,
    "start_time": "2022-02-23T06:51:30.242Z"
   },
   {
    "duration": 97,
    "start_time": "2022-02-23T06:52:16.386Z"
   },
   {
    "duration": 2080,
    "start_time": "2022-02-23T06:54:39.733Z"
   },
   {
    "duration": 17,
    "start_time": "2022-02-23T07:33:39.623Z"
   },
   {
    "duration": 404,
    "start_time": "2022-02-23T07:49:09.468Z"
   },
   {
    "duration": 2041,
    "start_time": "2022-02-23T07:49:19.152Z"
   },
   {
    "duration": 220,
    "start_time": "2022-02-23T07:49:21.196Z"
   },
   {
    "duration": 28,
    "start_time": "2022-02-23T07:49:21.420Z"
   },
   {
    "duration": 16,
    "start_time": "2022-02-23T07:49:21.452Z"
   },
   {
    "duration": 466,
    "start_time": "2022-02-23T07:49:21.471Z"
   },
   {
    "duration": 10,
    "start_time": "2022-02-23T07:49:21.939Z"
   },
   {
    "duration": 7144,
    "start_time": "2022-02-23T07:49:21.951Z"
   },
   {
    "duration": 6477,
    "start_time": "2022-02-23T07:49:29.099Z"
   },
   {
    "duration": 11,
    "start_time": "2022-02-23T07:49:35.579Z"
   },
   {
    "duration": 6,
    "start_time": "2022-02-23T07:49:35.593Z"
   },
   {
    "duration": 50,
    "start_time": "2022-02-23T07:49:35.602Z"
   },
   {
    "duration": 7,
    "start_time": "2022-02-23T07:49:35.655Z"
   },
   {
    "duration": 27,
    "start_time": "2022-02-23T07:49:35.665Z"
   },
   {
    "duration": 6,
    "start_time": "2022-02-23T07:49:35.694Z"
   },
   {
    "duration": 8,
    "start_time": "2022-02-23T07:49:35.703Z"
   },
   {
    "duration": 6,
    "start_time": "2022-02-23T07:49:35.749Z"
   },
   {
    "duration": 15,
    "start_time": "2022-02-23T07:49:35.758Z"
   },
   {
    "duration": 29,
    "start_time": "2022-02-23T07:49:35.776Z"
   },
   {
    "duration": 26,
    "start_time": "2022-02-23T07:49:35.807Z"
   },
   {
    "duration": 19,
    "start_time": "2022-02-23T07:49:35.835Z"
   },
   {
    "duration": 12,
    "start_time": "2022-02-23T07:49:35.856Z"
   },
   {
    "duration": 20,
    "start_time": "2022-02-23T07:49:35.871Z"
   },
   {
    "duration": 56,
    "start_time": "2022-02-23T07:49:35.897Z"
   },
   {
    "duration": 7,
    "start_time": "2022-02-23T07:49:35.957Z"
   },
   {
    "duration": 9,
    "start_time": "2022-02-23T07:49:35.967Z"
   },
   {
    "duration": 18,
    "start_time": "2022-02-23T07:49:35.979Z"
   },
   {
    "duration": 278,
    "start_time": "2022-02-23T07:49:36.000Z"
   },
   {
    "duration": 468,
    "start_time": "2022-02-23T07:49:36.280Z"
   },
   {
    "duration": 12,
    "start_time": "2022-02-23T07:49:36.751Z"
   },
   {
    "duration": 366,
    "start_time": "2022-02-23T07:49:36.766Z"
   },
   {
    "duration": 1931,
    "start_time": "2022-02-23T07:49:37.135Z"
   },
   {
    "duration": 10,
    "start_time": "2022-02-23T07:49:39.069Z"
   },
   {
    "duration": 346,
    "start_time": "2022-02-23T07:49:39.081Z"
   },
   {
    "duration": 571,
    "start_time": "2022-02-23T07:49:39.430Z"
   },
   {
    "duration": 13,
    "start_time": "2022-02-23T07:49:40.004Z"
   },
   {
    "duration": 270,
    "start_time": "2022-02-23T07:49:40.020Z"
   },
   {
    "duration": 3019,
    "start_time": "2022-02-23T07:49:40.293Z"
   },
   {
    "duration": 12,
    "start_time": "2022-02-23T07:49:43.314Z"
   },
   {
    "duration": 295,
    "start_time": "2022-02-23T07:49:43.329Z"
   },
   {
    "duration": 343,
    "start_time": "2022-02-23T07:49:43.627Z"
   },
   {
    "duration": 12,
    "start_time": "2022-02-23T07:49:43.972Z"
   },
   {
    "duration": 10,
    "start_time": "2022-02-23T07:49:43.988Z"
   },
   {
    "duration": 75,
    "start_time": "2022-02-23T07:49:44.000Z"
   },
   {
    "duration": 16,
    "start_time": "2022-02-23T07:49:44.077Z"
   },
   {
    "duration": 7186,
    "start_time": "2022-02-23T07:49:44.095Z"
   },
   {
    "duration": 2979,
    "start_time": "2022-02-23T07:49:51.284Z"
   },
   {
    "duration": 16,
    "start_time": "2022-02-23T07:49:54.266Z"
   },
   {
    "duration": 8070,
    "start_time": "2022-02-23T07:49:54.285Z"
   },
   {
    "duration": 43,
    "start_time": "2022-02-23T07:50:02.358Z"
   },
   {
    "duration": 573,
    "start_time": "2022-02-23T07:50:02.404Z"
   },
   {
    "duration": -577,
    "start_time": "2022-02-23T07:50:03.558Z"
   },
   {
    "duration": -581,
    "start_time": "2022-02-23T07:50:03.564Z"
   },
   {
    "duration": -589,
    "start_time": "2022-02-23T07:50:03.574Z"
   },
   {
    "duration": 8,
    "start_time": "2022-02-23T07:50:04.860Z"
   },
   {
    "duration": 12,
    "start_time": "2022-02-23T07:54:41.462Z"
   },
   {
    "duration": 12,
    "start_time": "2022-02-23T07:55:17.224Z"
   },
   {
    "duration": 10,
    "start_time": "2022-02-23T07:56:33.457Z"
   },
   {
    "duration": 8,
    "start_time": "2022-02-23T07:59:18.686Z"
   },
   {
    "duration": 8,
    "start_time": "2022-02-23T07:59:36.622Z"
   },
   {
    "duration": 330,
    "start_time": "2022-02-23T08:00:18.575Z"
   },
   {
    "duration": 316,
    "start_time": "2022-02-23T08:00:37.116Z"
   },
   {
    "duration": 356,
    "start_time": "2022-02-23T08:01:20.028Z"
   },
   {
    "duration": 332,
    "start_time": "2022-02-23T08:02:52.125Z"
   },
   {
    "duration": 8,
    "start_time": "2022-02-23T08:03:38.924Z"
   },
   {
    "duration": 29,
    "start_time": "2022-02-23T08:04:04.679Z"
   },
   {
    "duration": 15,
    "start_time": "2022-02-23T08:04:35.178Z"
   },
   {
    "duration": 11,
    "start_time": "2022-02-23T08:05:19.187Z"
   },
   {
    "duration": 11,
    "start_time": "2022-02-23T08:05:31.576Z"
   },
   {
    "duration": 10,
    "start_time": "2022-02-23T08:05:38.065Z"
   },
   {
    "duration": 97,
    "start_time": "2022-02-23T08:07:31.773Z"
   },
   {
    "duration": 9,
    "start_time": "2022-02-23T08:08:01.564Z"
   },
   {
    "duration": 1526,
    "start_time": "2022-02-23T08:08:48.095Z"
   },
   {
    "duration": 158,
    "start_time": "2022-02-23T08:08:49.624Z"
   },
   {
    "duration": 11,
    "start_time": "2022-02-23T08:08:49.785Z"
   },
   {
    "duration": 14,
    "start_time": "2022-02-23T08:08:49.799Z"
   },
   {
    "duration": 483,
    "start_time": "2022-02-23T08:08:49.816Z"
   },
   {
    "duration": 11,
    "start_time": "2022-02-23T08:08:50.302Z"
   },
   {
    "duration": 10,
    "start_time": "2022-02-23T08:08:50.316Z"
   },
   {
    "duration": 6813,
    "start_time": "2022-02-23T08:08:50.352Z"
   },
   {
    "duration": 6317,
    "start_time": "2022-02-23T08:08:57.169Z"
   },
   {
    "duration": 11,
    "start_time": "2022-02-23T08:09:03.489Z"
   },
   {
    "duration": 5,
    "start_time": "2022-02-23T08:09:03.503Z"
   },
   {
    "duration": 41,
    "start_time": "2022-02-23T08:09:03.510Z"
   },
   {
    "duration": 5,
    "start_time": "2022-02-23T08:09:03.553Z"
   },
   {
    "duration": 26,
    "start_time": "2022-02-23T08:09:03.560Z"
   },
   {
    "duration": 5,
    "start_time": "2022-02-23T08:09:03.588Z"
   },
   {
    "duration": 8,
    "start_time": "2022-02-23T08:09:03.596Z"
   },
   {
    "duration": 5,
    "start_time": "2022-02-23T08:09:03.606Z"
   },
   {
    "duration": 6,
    "start_time": "2022-02-23T08:09:03.648Z"
   },
   {
    "duration": 12,
    "start_time": "2022-02-23T08:09:03.657Z"
   },
   {
    "duration": 19,
    "start_time": "2022-02-23T08:09:03.671Z"
   },
   {
    "duration": 15,
    "start_time": "2022-02-23T08:09:03.693Z"
   },
   {
    "duration": 6,
    "start_time": "2022-02-23T08:09:03.748Z"
   },
   {
    "duration": 18,
    "start_time": "2022-02-23T08:09:03.760Z"
   },
   {
    "duration": 32,
    "start_time": "2022-02-23T08:09:03.781Z"
   },
   {
    "duration": 37,
    "start_time": "2022-02-23T08:09:03.815Z"
   },
   {
    "duration": 7,
    "start_time": "2022-02-23T08:09:03.855Z"
   },
   {
    "duration": 15,
    "start_time": "2022-02-23T08:09:03.865Z"
   },
   {
    "duration": 270,
    "start_time": "2022-02-23T08:09:03.882Z"
   },
   {
    "duration": 461,
    "start_time": "2022-02-23T08:09:04.155Z"
   },
   {
    "duration": 11,
    "start_time": "2022-02-23T08:09:04.618Z"
   },
   {
    "duration": 236,
    "start_time": "2022-02-23T08:09:04.649Z"
   },
   {
    "duration": 2169,
    "start_time": "2022-02-23T08:09:04.888Z"
   },
   {
    "duration": 10,
    "start_time": "2022-02-23T08:09:07.059Z"
   },
   {
    "duration": 420,
    "start_time": "2022-02-23T08:09:07.072Z"
   },
   {
    "duration": 454,
    "start_time": "2022-02-23T08:09:07.494Z"
   },
   {
    "duration": 12,
    "start_time": "2022-02-23T08:09:07.951Z"
   },
   {
    "duration": 270,
    "start_time": "2022-02-23T08:09:07.966Z"
   },
   {
    "duration": 2960,
    "start_time": "2022-02-23T08:09:08.240Z"
   },
   {
    "duration": 12,
    "start_time": "2022-02-23T08:09:11.204Z"
   },
   {
    "duration": 265,
    "start_time": "2022-02-23T08:09:11.218Z"
   },
   {
    "duration": 338,
    "start_time": "2022-02-23T08:09:11.486Z"
   },
   {
    "duration": 24,
    "start_time": "2022-02-23T08:09:11.827Z"
   },
   {
    "duration": 11,
    "start_time": "2022-02-23T08:09:11.853Z"
   },
   {
    "duration": 37,
    "start_time": "2022-02-23T08:09:11.866Z"
   },
   {
    "duration": 44,
    "start_time": "2022-02-23T08:09:11.906Z"
   },
   {
    "duration": 7236,
    "start_time": "2022-02-23T08:09:11.952Z"
   },
   {
    "duration": 2909,
    "start_time": "2022-02-23T08:09:19.191Z"
   },
   {
    "duration": 12,
    "start_time": "2022-02-23T08:09:22.102Z"
   },
   {
    "duration": 6837,
    "start_time": "2022-02-23T08:09:22.117Z"
   },
   {
    "duration": 32,
    "start_time": "2022-02-23T08:09:28.956Z"
   },
   {
    "duration": 433,
    "start_time": "2022-02-23T08:09:28.991Z"
   },
   {
    "duration": -572,
    "start_time": "2022-02-23T08:09:29.999Z"
   },
   {
    "duration": -575,
    "start_time": "2022-02-23T08:09:30.004Z"
   },
   {
    "duration": 3277,
    "start_time": "2022-02-23T08:09:43.814Z"
   },
   {
    "duration": 2099,
    "start_time": "2022-02-23T08:09:52.114Z"
   },
   {
    "duration": 582,
    "start_time": "2022-02-23T08:10:09.974Z"
   },
   {
    "duration": 1252,
    "start_time": "2022-03-05T15:35:31.518Z"
   },
   {
    "duration": 112,
    "start_time": "2022-03-05T15:35:32.772Z"
   },
   {
    "duration": 18,
    "start_time": "2022-03-05T15:35:32.886Z"
   },
   {
    "duration": 10,
    "start_time": "2022-03-05T15:35:32.906Z"
   },
   {
    "duration": 334,
    "start_time": "2022-03-05T15:35:32.918Z"
   },
   {
    "duration": 9,
    "start_time": "2022-03-05T15:35:33.254Z"
   },
   {
    "duration": 9,
    "start_time": "2022-03-05T15:35:33.265Z"
   },
   {
    "duration": 4271,
    "start_time": "2022-03-05T15:35:33.277Z"
   },
   {
    "duration": 4286,
    "start_time": "2022-03-05T15:35:37.550Z"
   },
   {
    "duration": 9,
    "start_time": "2022-03-05T15:35:41.839Z"
   },
   {
    "duration": 5,
    "start_time": "2022-03-05T15:35:41.851Z"
   },
   {
    "duration": 10,
    "start_time": "2022-03-05T15:35:41.859Z"
   },
   {
    "duration": 35,
    "start_time": "2022-03-05T15:35:41.871Z"
   },
   {
    "duration": 23,
    "start_time": "2022-03-05T15:35:41.908Z"
   },
   {
    "duration": 5,
    "start_time": "2022-03-05T15:35:41.934Z"
   },
   {
    "duration": 8,
    "start_time": "2022-03-05T15:35:41.941Z"
   },
   {
    "duration": 6,
    "start_time": "2022-03-05T15:35:41.951Z"
   },
   {
    "duration": 43,
    "start_time": "2022-03-05T15:35:41.959Z"
   },
   {
    "duration": 5,
    "start_time": "2022-03-05T15:35:42.004Z"
   },
   {
    "duration": 19,
    "start_time": "2022-03-05T15:35:42.010Z"
   },
   {
    "duration": 12,
    "start_time": "2022-03-05T15:35:42.031Z"
   },
   {
    "duration": 9,
    "start_time": "2022-03-05T15:35:42.045Z"
   },
   {
    "duration": 15,
    "start_time": "2022-03-05T15:35:42.058Z"
   },
   {
    "duration": 52,
    "start_time": "2022-03-05T15:35:42.075Z"
   },
   {
    "duration": 5,
    "start_time": "2022-03-05T15:35:42.129Z"
   },
   {
    "duration": 6,
    "start_time": "2022-03-05T15:35:42.136Z"
   },
   {
    "duration": 13,
    "start_time": "2022-03-05T15:35:42.144Z"
   },
   {
    "duration": 184,
    "start_time": "2022-03-05T15:35:42.159Z"
   },
   {
    "duration": 289,
    "start_time": "2022-03-05T15:35:42.345Z"
   },
   {
    "duration": 8,
    "start_time": "2022-03-05T15:35:42.636Z"
   },
   {
    "duration": 171,
    "start_time": "2022-03-05T15:35:42.646Z"
   },
   {
    "duration": 1156,
    "start_time": "2022-03-05T15:35:42.819Z"
   },
   {
    "duration": 8,
    "start_time": "2022-03-05T15:35:43.977Z"
   },
   {
    "duration": 159,
    "start_time": "2022-03-05T15:35:43.987Z"
   },
   {
    "duration": 248,
    "start_time": "2022-03-05T15:35:44.148Z"
   },
   {
    "duration": 8,
    "start_time": "2022-03-05T15:35:44.400Z"
   },
   {
    "duration": 165,
    "start_time": "2022-03-05T15:35:44.410Z"
   },
   {
    "duration": 1681,
    "start_time": "2022-03-05T15:35:44.577Z"
   },
   {
    "duration": 11,
    "start_time": "2022-03-05T15:35:46.260Z"
   },
   {
    "duration": 168,
    "start_time": "2022-03-05T15:35:46.273Z"
   },
   {
    "duration": 223,
    "start_time": "2022-03-05T15:35:46.443Z"
   },
   {
    "duration": 9,
    "start_time": "2022-03-05T15:35:46.667Z"
   },
   {
    "duration": 25,
    "start_time": "2022-03-05T15:35:46.678Z"
   },
   {
    "duration": 29,
    "start_time": "2022-03-05T15:35:46.705Z"
   },
   {
    "duration": 14,
    "start_time": "2022-03-05T15:35:46.736Z"
   },
   {
    "duration": 4251,
    "start_time": "2022-03-05T15:35:46.751Z"
   },
   {
    "duration": 1830,
    "start_time": "2022-03-05T15:35:51.005Z"
   },
   {
    "duration": 9,
    "start_time": "2022-03-05T15:35:52.837Z"
   },
   {
    "duration": 4567,
    "start_time": "2022-03-05T15:35:52.848Z"
   },
   {
    "duration": 23,
    "start_time": "2022-03-05T15:35:57.417Z"
   },
   {
    "duration": 354,
    "start_time": "2022-03-05T15:35:57.442Z"
   },
   {
    "duration": 529,
    "start_time": "2022-03-05T15:35:57.269Z"
   },
   {
    "duration": 518,
    "start_time": "2022-03-05T15:35:57.280Z"
   },
   {
    "duration": 14,
    "start_time": "2022-03-05T15:56:29.927Z"
   },
   {
    "duration": 25,
    "start_time": "2022-03-05T16:12:29.331Z"
   },
   {
    "duration": 153,
    "start_time": "2022-03-05T16:13:46.187Z"
   },
   {
    "duration": 141,
    "start_time": "2022-03-05T16:14:04.492Z"
   },
   {
    "duration": 139,
    "start_time": "2022-03-05T16:16:44.347Z"
   },
   {
    "duration": 143,
    "start_time": "2022-03-05T16:16:55.530Z"
   },
   {
    "duration": 352,
    "start_time": "2022-03-05T16:19:22.612Z"
   },
   {
    "duration": 143,
    "start_time": "2022-03-05T16:19:34.264Z"
   },
   {
    "duration": 152,
    "start_time": "2022-03-05T16:19:40.819Z"
   },
   {
    "duration": 145,
    "start_time": "2022-03-05T16:19:44.433Z"
   },
   {
    "duration": 294,
    "start_time": "2022-03-06T06:54:07.712Z"
   },
   {
    "duration": 228,
    "start_time": "2022-03-06T06:54:13.386Z"
   },
   {
    "duration": 1506,
    "start_time": "2022-03-06T06:54:21.873Z"
   },
   {
    "duration": 137,
    "start_time": "2022-03-06T06:54:23.381Z"
   },
   {
    "duration": 10,
    "start_time": "2022-03-06T06:54:23.521Z"
   },
   {
    "duration": 13,
    "start_time": "2022-03-06T06:54:23.550Z"
   },
   {
    "duration": 426,
    "start_time": "2022-03-06T06:54:23.565Z"
   },
   {
    "duration": 11,
    "start_time": "2022-03-06T06:54:23.993Z"
   },
   {
    "duration": 6,
    "start_time": "2022-03-06T06:54:24.007Z"
   },
   {
    "duration": 6214,
    "start_time": "2022-03-06T06:54:24.017Z"
   },
   {
    "duration": 5936,
    "start_time": "2022-03-06T06:54:30.236Z"
   },
   {
    "duration": 12,
    "start_time": "2022-03-06T06:54:36.175Z"
   },
   {
    "duration": 6,
    "start_time": "2022-03-06T06:54:36.191Z"
   },
   {
    "duration": 11,
    "start_time": "2022-03-06T06:54:36.201Z"
   },
   {
    "duration": 6,
    "start_time": "2022-03-06T06:54:36.252Z"
   },
   {
    "duration": 25,
    "start_time": "2022-03-06T06:54:36.261Z"
   },
   {
    "duration": 6,
    "start_time": "2022-03-06T06:54:36.289Z"
   },
   {
    "duration": 6,
    "start_time": "2022-03-06T06:54:36.298Z"
   },
   {
    "duration": 6,
    "start_time": "2022-03-06T06:54:36.352Z"
   },
   {
    "duration": 6,
    "start_time": "2022-03-06T06:54:36.361Z"
   },
   {
    "duration": 6,
    "start_time": "2022-03-06T06:54:36.370Z"
   },
   {
    "duration": 72,
    "start_time": "2022-03-06T06:54:36.379Z"
   },
   {
    "duration": 17,
    "start_time": "2022-03-06T06:54:36.453Z"
   },
   {
    "duration": 7,
    "start_time": "2022-03-06T06:54:36.473Z"
   },
   {
    "duration": 16,
    "start_time": "2022-03-06T06:54:36.487Z"
   },
   {
    "duration": 68,
    "start_time": "2022-03-06T06:54:36.506Z"
   },
   {
    "duration": 9,
    "start_time": "2022-03-06T06:54:36.576Z"
   },
   {
    "duration": 7,
    "start_time": "2022-03-06T06:54:36.587Z"
   },
   {
    "duration": 13,
    "start_time": "2022-03-06T06:54:36.597Z"
   },
   {
    "duration": 248,
    "start_time": "2022-03-06T06:54:36.651Z"
   },
   {
    "duration": 440,
    "start_time": "2022-03-06T06:54:36.902Z"
   },
   {
    "duration": 17,
    "start_time": "2022-03-06T06:54:37.345Z"
   },
   {
    "duration": 232,
    "start_time": "2022-03-06T06:54:37.364Z"
   },
   {
    "duration": 1712,
    "start_time": "2022-03-06T06:54:37.599Z"
   },
   {
    "duration": 12,
    "start_time": "2022-03-06T06:54:39.314Z"
   },
   {
    "duration": 241,
    "start_time": "2022-03-06T06:54:39.328Z"
   },
   {
    "duration": 365,
    "start_time": "2022-03-06T06:54:39.571Z"
   },
   {
    "duration": 20,
    "start_time": "2022-03-06T06:54:39.939Z"
   },
   {
    "duration": 235,
    "start_time": "2022-03-06T06:54:39.961Z"
   },
   {
    "duration": 2596,
    "start_time": "2022-03-06T06:54:40.199Z"
   },
   {
    "duration": 11,
    "start_time": "2022-03-06T06:54:42.797Z"
   },
   {
    "duration": 240,
    "start_time": "2022-03-06T06:54:42.810Z"
   },
   {
    "duration": 318,
    "start_time": "2022-03-06T06:54:43.052Z"
   },
   {
    "duration": 10,
    "start_time": "2022-03-06T06:54:43.373Z"
   },
   {
    "duration": 22,
    "start_time": "2022-03-06T06:54:43.385Z"
   },
   {
    "duration": 52,
    "start_time": "2022-03-06T06:54:43.410Z"
   },
   {
    "duration": 16,
    "start_time": "2022-03-06T06:54:43.464Z"
   },
   {
    "duration": 6815,
    "start_time": "2022-03-06T06:54:43.482Z"
   },
   {
    "duration": 2510,
    "start_time": "2022-03-06T06:54:50.299Z"
   },
   {
    "duration": 11,
    "start_time": "2022-03-06T06:54:52.811Z"
   },
   {
    "duration": 7234,
    "start_time": "2022-03-06T06:54:52.825Z"
   },
   {
    "duration": 230,
    "start_time": "2022-03-06T06:55:00.062Z"
   },
   {
    "duration": 30,
    "start_time": "2022-03-06T06:55:00.295Z"
   },
   {
    "duration": -5088,
    "start_time": "2022-03-06T06:55:05.831Z"
   },
   {
    "duration": -5095,
    "start_time": "2022-03-06T06:55:05.839Z"
   },
   {
    "duration": -5104,
    "start_time": "2022-03-06T06:55:05.849Z"
   },
   {
    "duration": 532,
    "start_time": "2022-03-06T06:55:12.187Z"
   },
   {
    "duration": 560,
    "start_time": "2022-03-06T07:00:04.407Z"
   },
   {
    "duration": 13,
    "start_time": "2022-03-06T07:11:30.208Z"
   },
   {
    "duration": 2064,
    "start_time": "2022-03-06T07:13:43.058Z"
   },
   {
    "duration": 222,
    "start_time": "2022-03-06T07:14:55.138Z"
   },
   {
    "duration": 5,
    "start_time": "2022-03-06T07:15:03.386Z"
   },
   {
    "duration": 338,
    "start_time": "2022-03-06T07:15:23.247Z"
   },
   {
    "duration": 2943,
    "start_time": "2022-03-06T07:59:46.743Z"
   },
   {
    "duration": 84,
    "start_time": "2022-03-06T08:02:59.751Z"
   },
   {
    "duration": 77,
    "start_time": "2022-03-06T08:03:05.848Z"
   },
   {
    "duration": 578,
    "start_time": "2022-03-06T08:08:19.886Z"
   },
   {
    "duration": 432,
    "start_time": "2022-03-06T08:08:34.915Z"
   },
   {
    "duration": 636,
    "start_time": "2022-03-06T08:09:14.453Z"
   },
   {
    "duration": 2439,
    "start_time": "2022-03-06T08:18:45.890Z"
   },
   {
    "duration": 1645,
    "start_time": "2022-03-06T08:19:53.010Z"
   },
   {
    "duration": 2272,
    "start_time": "2022-03-06T08:20:13.751Z"
   },
   {
    "duration": 2172,
    "start_time": "2022-03-06T08:21:42.000Z"
   },
   {
    "duration": 72,
    "start_time": "2022-03-06T08:23:16.626Z"
   },
   {
    "duration": 70,
    "start_time": "2022-03-06T08:23:32.585Z"
   },
   {
    "duration": 454,
    "start_time": "2022-03-06T08:32:42.581Z"
   },
   {
    "duration": 61,
    "start_time": "2022-03-06T08:44:52.291Z"
   },
   {
    "duration": 222,
    "start_time": "2022-03-06T08:44:52.355Z"
   },
   {
    "duration": 229,
    "start_time": "2022-03-06T08:45:58.826Z"
   },
   {
    "duration": 6687,
    "start_time": "2022-03-06T08:46:58.167Z"
   },
   {
    "duration": 224,
    "start_time": "2022-03-06T08:47:50.615Z"
   },
   {
    "duration": 554,
    "start_time": "2022-03-06T08:48:16.748Z"
   },
   {
    "duration": 207,
    "start_time": "2022-03-06T08:53:50.191Z"
   },
   {
    "duration": 259,
    "start_time": "2022-03-06T08:55:51.015Z"
   },
   {
    "duration": 230,
    "start_time": "2022-03-06T08:56:28.239Z"
   },
   {
    "duration": 229,
    "start_time": "2022-03-06T08:56:59.532Z"
   },
   {
    "duration": 2311,
    "start_time": "2022-03-06T09:01:24.477Z"
   },
   {
    "duration": 3817,
    "start_time": "2022-03-06T09:02:50.342Z"
   },
   {
    "duration": 5506,
    "start_time": "2022-03-06T09:03:47.809Z"
   },
   {
    "duration": 231,
    "start_time": "2022-03-06T09:05:23.987Z"
   },
   {
    "duration": 239,
    "start_time": "2022-03-06T09:16:23.497Z"
   },
   {
    "duration": 247,
    "start_time": "2022-03-06T09:16:34.001Z"
   },
   {
    "duration": 72,
    "start_time": "2022-03-06T09:20:23.807Z"
   },
   {
    "duration": 7,
    "start_time": "2022-03-06T09:28:14.662Z"
   },
   {
    "duration": 228,
    "start_time": "2022-03-06T09:29:36.967Z"
   },
   {
    "duration": 13,
    "start_time": "2022-03-06T09:31:32.981Z"
   },
   {
    "duration": 44,
    "start_time": "2022-03-06T09:40:25.000Z"
   },
   {
    "duration": 234,
    "start_time": "2022-03-06T09:40:37.344Z"
   },
   {
    "duration": 1548,
    "start_time": "2022-03-06T09:41:01.735Z"
   },
   {
    "duration": 170,
    "start_time": "2022-03-06T09:41:03.286Z"
   },
   {
    "duration": 11,
    "start_time": "2022-03-06T09:41:03.459Z"
   },
   {
    "duration": 13,
    "start_time": "2022-03-06T09:41:03.473Z"
   },
   {
    "duration": 452,
    "start_time": "2022-03-06T09:41:03.488Z"
   },
   {
    "duration": 14,
    "start_time": "2022-03-06T09:41:03.943Z"
   },
   {
    "duration": 6,
    "start_time": "2022-03-06T09:41:03.960Z"
   },
   {
    "duration": 6269,
    "start_time": "2022-03-06T09:41:03.970Z"
   },
   {
    "duration": 5956,
    "start_time": "2022-03-06T09:41:10.242Z"
   },
   {
    "duration": 10,
    "start_time": "2022-03-06T09:41:16.200Z"
   },
   {
    "duration": 7,
    "start_time": "2022-03-06T09:41:16.212Z"
   },
   {
    "duration": 7,
    "start_time": "2022-03-06T09:41:16.252Z"
   },
   {
    "duration": 6,
    "start_time": "2022-03-06T09:41:16.262Z"
   },
   {
    "duration": 29,
    "start_time": "2022-03-06T09:41:16.272Z"
   },
   {
    "duration": 49,
    "start_time": "2022-03-06T09:41:16.304Z"
   },
   {
    "duration": 7,
    "start_time": "2022-03-06T09:41:16.356Z"
   },
   {
    "duration": 6,
    "start_time": "2022-03-06T09:41:16.366Z"
   },
   {
    "duration": 8,
    "start_time": "2022-03-06T09:41:16.375Z"
   },
   {
    "duration": 6,
    "start_time": "2022-03-06T09:41:16.386Z"
   },
   {
    "duration": 66,
    "start_time": "2022-03-06T09:41:16.395Z"
   },
   {
    "duration": 13,
    "start_time": "2022-03-06T09:41:16.463Z"
   },
   {
    "duration": 16,
    "start_time": "2022-03-06T09:41:16.479Z"
   },
   {
    "duration": 5,
    "start_time": "2022-03-06T09:41:16.500Z"
   },
   {
    "duration": 15,
    "start_time": "2022-03-06T09:41:16.509Z"
   },
   {
    "duration": 43,
    "start_time": "2022-03-06T09:41:16.526Z"
   },
   {
    "duration": 7,
    "start_time": "2022-03-06T09:41:16.571Z"
   },
   {
    "duration": 8,
    "start_time": "2022-03-06T09:41:16.580Z"
   },
   {
    "duration": 11,
    "start_time": "2022-03-06T09:41:16.590Z"
   },
   {
    "duration": 236,
    "start_time": "2022-03-06T09:41:16.604Z"
   },
   {
    "duration": 610,
    "start_time": "2022-03-06T09:41:16.843Z"
   },
   {
    "duration": 11,
    "start_time": "2022-03-06T09:41:17.456Z"
   },
   {
    "duration": 394,
    "start_time": "2022-03-06T09:41:17.469Z"
   },
   {
    "duration": 2938,
    "start_time": "2022-03-06T09:41:17.865Z"
   },
   {
    "duration": 10,
    "start_time": "2022-03-06T09:41:20.806Z"
   },
   {
    "duration": 240,
    "start_time": "2022-03-06T09:41:20.818Z"
   },
   {
    "duration": 356,
    "start_time": "2022-03-06T09:41:21.061Z"
   },
   {
    "duration": 11,
    "start_time": "2022-03-06T09:41:21.419Z"
   },
   {
    "duration": 237,
    "start_time": "2022-03-06T09:41:21.433Z"
   },
   {
    "duration": 2804,
    "start_time": "2022-03-06T09:41:21.672Z"
   },
   {
    "duration": 10,
    "start_time": "2022-03-06T09:41:24.478Z"
   },
   {
    "duration": 262,
    "start_time": "2022-03-06T09:41:24.490Z"
   },
   {
    "duration": 356,
    "start_time": "2022-03-06T09:41:24.754Z"
   },
   {
    "duration": 13,
    "start_time": "2022-03-06T09:41:25.113Z"
   },
   {
    "duration": 32,
    "start_time": "2022-03-06T09:41:25.129Z"
   },
   {
    "duration": 43,
    "start_time": "2022-03-06T09:41:25.164Z"
   },
   {
    "duration": 44,
    "start_time": "2022-03-06T09:41:25.209Z"
   },
   {
    "duration": 6268,
    "start_time": "2022-03-06T09:41:25.255Z"
   },
   {
    "duration": 2570,
    "start_time": "2022-03-06T09:41:31.526Z"
   },
   {
    "duration": 10,
    "start_time": "2022-03-06T09:41:34.098Z"
   },
   {
    "duration": 225,
    "start_time": "2022-03-06T09:41:34.111Z"
   },
   {
    "duration": 89,
    "start_time": "2022-03-06T09:41:34.339Z"
   },
   {
    "duration": -5029,
    "start_time": "2022-03-06T09:41:39.460Z"
   },
   {
    "duration": -5034,
    "start_time": "2022-03-06T09:41:39.467Z"
   },
   {
    "duration": -5044,
    "start_time": "2022-03-06T09:41:39.479Z"
   },
   {
    "duration": -5060,
    "start_time": "2022-03-06T09:41:39.496Z"
   },
   {
    "duration": -5065,
    "start_time": "2022-03-06T09:41:39.503Z"
   },
   {
    "duration": -5074,
    "start_time": "2022-03-06T09:41:39.513Z"
   },
   {
    "duration": -5080,
    "start_time": "2022-03-06T09:41:39.520Z"
   },
   {
    "duration": -5087,
    "start_time": "2022-03-06T09:41:39.529Z"
   },
   {
    "duration": -5094,
    "start_time": "2022-03-06T09:41:39.537Z"
   },
   {
    "duration": 382,
    "start_time": "2022-03-06T09:41:52.906Z"
   },
   {
    "duration": 565,
    "start_time": "2022-03-06T09:42:05.188Z"
   },
   {
    "duration": 561,
    "start_time": "2022-03-06T09:42:14.331Z"
   },
   {
    "duration": 672,
    "start_time": "2022-03-06T09:42:18.155Z"
   },
   {
    "duration": 242,
    "start_time": "2022-03-06T09:42:38.097Z"
   },
   {
    "duration": 39,
    "start_time": "2022-03-06T09:43:49.503Z"
   },
   {
    "duration": 43,
    "start_time": "2022-03-06T09:43:58.715Z"
   },
   {
    "duration": 60,
    "start_time": "2022-03-06T09:44:03.727Z"
   },
   {
    "duration": 36,
    "start_time": "2022-03-06T09:45:59.805Z"
   },
   {
    "duration": 42,
    "start_time": "2022-03-06T09:46:13.541Z"
   },
   {
    "duration": 39,
    "start_time": "2022-03-06T09:46:28.059Z"
   },
   {
    "duration": 37,
    "start_time": "2022-03-06T09:46:36.031Z"
   },
   {
    "duration": 322,
    "start_time": "2022-03-06T09:48:58.084Z"
   },
   {
    "duration": 242,
    "start_time": "2022-03-06T09:51:18.038Z"
   },
   {
    "duration": 219,
    "start_time": "2022-03-06T09:51:26.005Z"
   },
   {
    "duration": 279,
    "start_time": "2022-03-06T09:51:33.295Z"
   },
   {
    "duration": 247,
    "start_time": "2022-03-06T09:53:58.694Z"
   },
   {
    "duration": 241,
    "start_time": "2022-03-06T09:54:03.171Z"
   },
   {
    "duration": 279,
    "start_time": "2022-03-06T09:55:10.182Z"
   },
   {
    "duration": 561,
    "start_time": "2022-03-06T09:55:13.441Z"
   },
   {
    "duration": 298,
    "start_time": "2022-03-06T10:00:28.136Z"
   },
   {
    "duration": 249,
    "start_time": "2022-03-06T10:00:31.649Z"
   },
   {
    "duration": 31,
    "start_time": "2022-03-06T10:04:15.851Z"
   },
   {
    "duration": 37,
    "start_time": "2022-03-06T10:06:43.507Z"
   },
   {
    "duration": 245,
    "start_time": "2022-03-06T10:08:18.904Z"
   },
   {
    "duration": 52,
    "start_time": "2022-03-06T10:08:28.316Z"
   },
   {
    "duration": 50,
    "start_time": "2022-03-06T10:09:03.936Z"
   },
   {
    "duration": 656,
    "start_time": "2022-03-06T10:17:05.649Z"
   },
   {
    "duration": 746,
    "start_time": "2022-03-06T10:17:26.038Z"
   },
   {
    "duration": 3603,
    "start_time": "2022-03-06T10:18:32.348Z"
   },
   {
    "duration": 2398,
    "start_time": "2022-03-06T10:19:39.301Z"
   },
   {
    "duration": 1565,
    "start_time": "2022-03-06T10:19:56.815Z"
   },
   {
    "duration": 142,
    "start_time": "2022-03-06T10:19:58.383Z"
   },
   {
    "duration": 22,
    "start_time": "2022-03-06T10:19:58.529Z"
   },
   {
    "duration": 18,
    "start_time": "2022-03-06T10:19:58.555Z"
   },
   {
    "duration": 636,
    "start_time": "2022-03-06T10:19:58.576Z"
   },
   {
    "duration": 13,
    "start_time": "2022-03-06T10:19:59.215Z"
   },
   {
    "duration": 26,
    "start_time": "2022-03-06T10:19:59.231Z"
   },
   {
    "duration": 7418,
    "start_time": "2022-03-06T10:19:59.262Z"
   },
   {
    "duration": 7521,
    "start_time": "2022-03-06T10:20:06.683Z"
   },
   {
    "duration": 11,
    "start_time": "2022-03-06T10:20:14.207Z"
   },
   {
    "duration": 32,
    "start_time": "2022-03-06T10:20:14.221Z"
   },
   {
    "duration": 40,
    "start_time": "2022-03-06T10:20:14.255Z"
   },
   {
    "duration": 13,
    "start_time": "2022-03-06T10:20:14.297Z"
   },
   {
    "duration": 35,
    "start_time": "2022-03-06T10:20:14.312Z"
   },
   {
    "duration": 6,
    "start_time": "2022-03-06T10:20:14.349Z"
   },
   {
    "duration": 21,
    "start_time": "2022-03-06T10:20:14.357Z"
   },
   {
    "duration": 24,
    "start_time": "2022-03-06T10:20:14.381Z"
   },
   {
    "duration": 16,
    "start_time": "2022-03-06T10:20:14.408Z"
   },
   {
    "duration": 37,
    "start_time": "2022-03-06T10:20:14.427Z"
   },
   {
    "duration": 26,
    "start_time": "2022-03-06T10:20:14.466Z"
   },
   {
    "duration": 23,
    "start_time": "2022-03-06T10:20:14.495Z"
   },
   {
    "duration": 16,
    "start_time": "2022-03-06T10:20:14.521Z"
   },
   {
    "duration": 6,
    "start_time": "2022-03-06T10:20:14.551Z"
   },
   {
    "duration": 31,
    "start_time": "2022-03-06T10:20:14.560Z"
   },
   {
    "duration": 38,
    "start_time": "2022-03-06T10:20:14.593Z"
   },
   {
    "duration": 18,
    "start_time": "2022-03-06T10:20:14.634Z"
   },
   {
    "duration": 5,
    "start_time": "2022-03-06T10:20:14.655Z"
   },
   {
    "duration": 19,
    "start_time": "2022-03-06T10:20:14.663Z"
   },
   {
    "duration": 261,
    "start_time": "2022-03-06T10:20:14.684Z"
   },
   {
    "duration": 680,
    "start_time": "2022-03-06T10:20:14.947Z"
   },
   {
    "duration": 23,
    "start_time": "2022-03-06T10:20:15.629Z"
   },
   {
    "duration": 318,
    "start_time": "2022-03-06T10:20:15.655Z"
   },
   {
    "duration": 3616,
    "start_time": "2022-03-06T10:20:15.976Z"
   },
   {
    "duration": 10,
    "start_time": "2022-03-06T10:20:19.595Z"
   },
   {
    "duration": 245,
    "start_time": "2022-03-06T10:20:19.608Z"
   },
   {
    "duration": 452,
    "start_time": "2022-03-06T10:20:19.856Z"
   },
   {
    "duration": 10,
    "start_time": "2022-03-06T10:20:20.311Z"
   },
   {
    "duration": 357,
    "start_time": "2022-03-06T10:20:20.324Z"
   },
   {
    "duration": 3863,
    "start_time": "2022-03-06T10:20:20.684Z"
   },
   {
    "duration": 13,
    "start_time": "2022-03-06T10:20:24.552Z"
   },
   {
    "duration": 336,
    "start_time": "2022-03-06T10:20:24.567Z"
   },
   {
    "duration": 439,
    "start_time": "2022-03-06T10:20:24.906Z"
   },
   {
    "duration": 15,
    "start_time": "2022-03-06T10:20:25.347Z"
   },
   {
    "duration": 10,
    "start_time": "2022-03-06T10:20:25.364Z"
   },
   {
    "duration": 40,
    "start_time": "2022-03-06T10:20:25.377Z"
   },
   {
    "duration": 17,
    "start_time": "2022-03-06T10:20:25.452Z"
   },
   {
    "duration": 7336,
    "start_time": "2022-03-06T10:20:25.471Z"
   },
   {
    "duration": 2594,
    "start_time": "2022-03-06T10:20:32.810Z"
   },
   {
    "duration": 14,
    "start_time": "2022-03-06T10:20:35.407Z"
   },
   {
    "duration": 227,
    "start_time": "2022-03-06T10:20:35.452Z"
   },
   {
    "duration": 256,
    "start_time": "2022-03-06T10:20:35.682Z"
   },
   {
    "duration": 285,
    "start_time": "2022-03-06T10:20:35.941Z"
   },
   {
    "duration": 481,
    "start_time": "2022-03-06T10:20:36.229Z"
   },
   {
    "duration": -5024,
    "start_time": "2022-03-06T10:20:41.737Z"
   },
   {
    "duration": -5034,
    "start_time": "2022-03-06T10:20:41.749Z"
   },
   {
    "duration": -5043,
    "start_time": "2022-03-06T10:20:41.760Z"
   },
   {
    "duration": -5048,
    "start_time": "2022-03-06T10:20:41.767Z"
   },
   {
    "duration": 273,
    "start_time": "2022-03-06T10:22:03.705Z"
   },
   {
    "duration": 584,
    "start_time": "2022-03-06T10:22:15.706Z"
   },
   {
    "duration": 4007,
    "start_time": "2022-03-06T10:23:04.031Z"
   },
   {
    "duration": 2173,
    "start_time": "2022-03-06T10:23:30.816Z"
   },
   {
    "duration": 680,
    "start_time": "2022-03-06T10:23:48.273Z"
   },
   {
    "duration": 592,
    "start_time": "2022-03-06T10:27:13.689Z"
   },
   {
    "duration": 2925,
    "start_time": "2022-03-06T10:27:33.096Z"
   },
   {
    "duration": 2365,
    "start_time": "2022-03-06T10:27:40.955Z"
   },
   {
    "duration": 1658,
    "start_time": "2022-03-06T10:29:45.178Z"
   },
   {
    "duration": 146,
    "start_time": "2022-03-06T10:29:46.838Z"
   },
   {
    "duration": 11,
    "start_time": "2022-03-06T10:29:46.987Z"
   },
   {
    "duration": 17,
    "start_time": "2022-03-06T10:29:47.000Z"
   },
   {
    "duration": 636,
    "start_time": "2022-03-06T10:29:47.051Z"
   },
   {
    "duration": 14,
    "start_time": "2022-03-06T10:29:47.690Z"
   },
   {
    "duration": 7,
    "start_time": "2022-03-06T10:29:47.707Z"
   },
   {
    "duration": 7007,
    "start_time": "2022-03-06T10:29:47.719Z"
   },
   {
    "duration": 6547,
    "start_time": "2022-03-06T10:29:54.729Z"
   },
   {
    "duration": 11,
    "start_time": "2022-03-06T10:30:01.279Z"
   },
   {
    "duration": 16,
    "start_time": "2022-03-06T10:30:01.292Z"
   },
   {
    "duration": 27,
    "start_time": "2022-03-06T10:30:01.311Z"
   },
   {
    "duration": 36,
    "start_time": "2022-03-06T10:30:01.341Z"
   },
   {
    "duration": 39,
    "start_time": "2022-03-06T10:30:01.380Z"
   },
   {
    "duration": 18,
    "start_time": "2022-03-06T10:30:01.421Z"
   },
   {
    "duration": 45,
    "start_time": "2022-03-06T10:30:01.442Z"
   },
   {
    "duration": 36,
    "start_time": "2022-03-06T10:30:01.489Z"
   },
   {
    "duration": 48,
    "start_time": "2022-03-06T10:30:01.528Z"
   },
   {
    "duration": 44,
    "start_time": "2022-03-06T10:30:01.578Z"
   },
   {
    "duration": 54,
    "start_time": "2022-03-06T10:30:01.625Z"
   },
   {
    "duration": 40,
    "start_time": "2022-03-06T10:30:01.682Z"
   },
   {
    "duration": 33,
    "start_time": "2022-03-06T10:30:01.725Z"
   },
   {
    "duration": 18,
    "start_time": "2022-03-06T10:30:01.766Z"
   },
   {
    "duration": 53,
    "start_time": "2022-03-06T10:30:01.788Z"
   },
   {
    "duration": 61,
    "start_time": "2022-03-06T10:30:01.843Z"
   },
   {
    "duration": 42,
    "start_time": "2022-03-06T10:30:01.906Z"
   },
   {
    "duration": 49,
    "start_time": "2022-03-06T10:30:01.950Z"
   },
   {
    "duration": 38,
    "start_time": "2022-03-06T10:30:02.001Z"
   },
   {
    "duration": 261,
    "start_time": "2022-03-06T10:30:02.041Z"
   },
   {
    "duration": 572,
    "start_time": "2022-03-06T10:30:02.304Z"
   },
   {
    "duration": 11,
    "start_time": "2022-03-06T10:30:02.879Z"
   },
   {
    "duration": 247,
    "start_time": "2022-03-06T10:30:02.892Z"
   },
   {
    "duration": 3288,
    "start_time": "2022-03-06T10:30:03.141Z"
   },
   {
    "duration": 21,
    "start_time": "2022-03-06T10:30:06.432Z"
   },
   {
    "duration": 235,
    "start_time": "2022-03-06T10:30:06.455Z"
   },
   {
    "duration": 390,
    "start_time": "2022-03-06T10:30:06.693Z"
   },
   {
    "duration": 10,
    "start_time": "2022-03-06T10:30:07.086Z"
   },
   {
    "duration": 245,
    "start_time": "2022-03-06T10:30:07.099Z"
   },
   {
    "duration": 2664,
    "start_time": "2022-03-06T10:30:07.351Z"
   },
   {
    "duration": 12,
    "start_time": "2022-03-06T10:30:10.017Z"
   },
   {
    "duration": 256,
    "start_time": "2022-03-06T10:30:10.031Z"
   },
   {
    "duration": 322,
    "start_time": "2022-03-06T10:30:10.290Z"
   },
   {
    "duration": 11,
    "start_time": "2022-03-06T10:30:10.615Z"
   },
   {
    "duration": 29,
    "start_time": "2022-03-06T10:30:10.628Z"
   },
   {
    "duration": 38,
    "start_time": "2022-03-06T10:30:10.659Z"
   },
   {
    "duration": 15,
    "start_time": "2022-03-06T10:30:10.700Z"
   },
   {
    "duration": 7901,
    "start_time": "2022-03-06T10:30:10.718Z"
   },
   {
    "duration": 3103,
    "start_time": "2022-03-06T10:30:18.622Z"
   },
   {
    "duration": 30,
    "start_time": "2022-03-06T10:30:21.727Z"
   },
   {
    "duration": 349,
    "start_time": "2022-03-06T10:30:21.760Z"
   },
   {
    "duration": 375,
    "start_time": "2022-03-06T10:30:22.112Z"
   },
   {
    "duration": 283,
    "start_time": "2022-03-06T10:30:22.489Z"
   },
   {
    "duration": 434,
    "start_time": "2022-03-06T10:30:22.775Z"
   },
   {
    "duration": -5003,
    "start_time": "2022-03-06T10:30:28.215Z"
   },
   {
    "duration": -5006,
    "start_time": "2022-03-06T10:30:28.220Z"
   },
   {
    "duration": -5031,
    "start_time": "2022-03-06T10:30:28.246Z"
   },
   {
    "duration": -5038,
    "start_time": "2022-03-06T10:30:28.254Z"
   },
   {
    "duration": -5045,
    "start_time": "2022-03-06T10:30:28.263Z"
   },
   {
    "duration": 254,
    "start_time": "2022-03-06T10:31:14.017Z"
   },
   {
    "duration": 4,
    "start_time": "2022-03-06T10:31:16.595Z"
   },
   {
    "duration": 704,
    "start_time": "2022-03-06T10:31:21.714Z"
   },
   {
    "duration": 12,
    "start_time": "2022-03-06T10:32:30.435Z"
   },
   {
    "duration": 5818,
    "start_time": "2022-03-06T10:33:37.452Z"
   },
   {
    "duration": 5832,
    "start_time": "2022-03-06T10:33:48.428Z"
   },
   {
    "duration": 832,
    "start_time": "2022-03-06T10:36:37.873Z"
   },
   {
    "duration": 908,
    "start_time": "2022-03-06T10:37:06.160Z"
   },
   {
    "duration": 1583,
    "start_time": "2022-03-06T10:37:18.835Z"
   },
   {
    "duration": 147,
    "start_time": "2022-03-06T10:37:20.420Z"
   },
   {
    "duration": 9,
    "start_time": "2022-03-06T10:37:20.571Z"
   },
   {
    "duration": 15,
    "start_time": "2022-03-06T10:37:20.584Z"
   },
   {
    "duration": 625,
    "start_time": "2022-03-06T10:37:20.601Z"
   },
   {
    "duration": 23,
    "start_time": "2022-03-06T10:37:21.228Z"
   },
   {
    "duration": 7,
    "start_time": "2022-03-06T10:37:21.254Z"
   },
   {
    "duration": 7195,
    "start_time": "2022-03-06T10:37:21.265Z"
   },
   {
    "duration": 6850,
    "start_time": "2022-03-06T10:37:28.464Z"
   },
   {
    "duration": 10,
    "start_time": "2022-03-06T10:37:35.317Z"
   },
   {
    "duration": 27,
    "start_time": "2022-03-06T10:37:35.330Z"
   },
   {
    "duration": 13,
    "start_time": "2022-03-06T10:37:35.359Z"
   },
   {
    "duration": 8,
    "start_time": "2022-03-06T10:37:35.375Z"
   },
   {
    "duration": 65,
    "start_time": "2022-03-06T10:37:35.386Z"
   },
   {
    "duration": 6,
    "start_time": "2022-03-06T10:37:35.454Z"
   },
   {
    "duration": 5,
    "start_time": "2022-03-06T10:37:35.463Z"
   },
   {
    "duration": 7,
    "start_time": "2022-03-06T10:37:35.470Z"
   },
   {
    "duration": 8,
    "start_time": "2022-03-06T10:37:35.480Z"
   },
   {
    "duration": 11,
    "start_time": "2022-03-06T10:37:35.490Z"
   },
   {
    "duration": 64,
    "start_time": "2022-03-06T10:37:35.503Z"
   },
   {
    "duration": 18,
    "start_time": "2022-03-06T10:37:35.570Z"
   },
   {
    "duration": 62,
    "start_time": "2022-03-06T10:37:35.591Z"
   },
   {
    "duration": 7,
    "start_time": "2022-03-06T10:37:35.663Z"
   },
   {
    "duration": 24,
    "start_time": "2022-03-06T10:37:35.674Z"
   },
   {
    "duration": 73,
    "start_time": "2022-03-06T10:37:35.701Z"
   },
   {
    "duration": 9,
    "start_time": "2022-03-06T10:37:35.778Z"
   },
   {
    "duration": 15,
    "start_time": "2022-03-06T10:37:35.791Z"
   },
   {
    "duration": 19,
    "start_time": "2022-03-06T10:37:35.809Z"
   },
   {
    "duration": 378,
    "start_time": "2022-03-06T10:37:35.831Z"
   },
   {
    "duration": 931,
    "start_time": "2022-03-06T10:37:36.213Z"
   },
   {
    "duration": 16,
    "start_time": "2022-03-06T10:37:37.151Z"
   },
   {
    "duration": 259,
    "start_time": "2022-03-06T10:37:37.169Z"
   },
   {
    "duration": 2412,
    "start_time": "2022-03-06T10:37:37.431Z"
   },
   {
    "duration": 10,
    "start_time": "2022-03-06T10:37:39.851Z"
   },
   {
    "duration": 241,
    "start_time": "2022-03-06T10:37:39.863Z"
   },
   {
    "duration": 387,
    "start_time": "2022-03-06T10:37:40.107Z"
   },
   {
    "duration": 13,
    "start_time": "2022-03-06T10:37:40.497Z"
   },
   {
    "duration": 361,
    "start_time": "2022-03-06T10:37:40.513Z"
   },
   {
    "duration": 3433,
    "start_time": "2022-03-06T10:37:40.877Z"
   },
   {
    "duration": 11,
    "start_time": "2022-03-06T10:37:44.313Z"
   },
   {
    "duration": 255,
    "start_time": "2022-03-06T10:37:44.327Z"
   },
   {
    "duration": 328,
    "start_time": "2022-03-06T10:37:44.585Z"
   },
   {
    "duration": 12,
    "start_time": "2022-03-06T10:37:44.916Z"
   },
   {
    "duration": 27,
    "start_time": "2022-03-06T10:37:44.931Z"
   },
   {
    "duration": 36,
    "start_time": "2022-03-06T10:37:44.961Z"
   },
   {
    "duration": 16,
    "start_time": "2022-03-06T10:37:45.000Z"
   },
   {
    "duration": 7016,
    "start_time": "2022-03-06T10:37:45.019Z"
   },
   {
    "duration": 2371,
    "start_time": "2022-03-06T10:37:52.037Z"
   },
   {
    "duration": 10,
    "start_time": "2022-03-06T10:37:54.410Z"
   },
   {
    "duration": 222,
    "start_time": "2022-03-06T10:37:54.423Z"
   },
   {
    "duration": 243,
    "start_time": "2022-03-06T10:37:54.647Z"
   },
   {
    "duration": 284,
    "start_time": "2022-03-06T10:37:54.892Z"
   },
   {
    "duration": 534,
    "start_time": "2022-03-06T10:37:55.179Z"
   },
   {
    "duration": -5013,
    "start_time": "2022-03-06T10:38:00.729Z"
   },
   {
    "duration": -5022,
    "start_time": "2022-03-06T10:38:00.739Z"
   },
   {
    "duration": -5034,
    "start_time": "2022-03-06T10:38:00.752Z"
   },
   {
    "duration": -5043,
    "start_time": "2022-03-06T10:38:00.763Z"
   },
   {
    "duration": 240,
    "start_time": "2022-03-06T10:38:07.912Z"
   },
   {
    "duration": 297,
    "start_time": "2022-03-06T10:38:23.570Z"
   },
   {
    "duration": 608,
    "start_time": "2022-03-06T10:38:36.015Z"
   },
   {
    "duration": 3670,
    "start_time": "2022-03-06T10:38:42.010Z"
   },
   {
    "duration": 2186,
    "start_time": "2022-03-06T10:38:50.686Z"
   },
   {
    "duration": 124,
    "start_time": "2022-03-06T11:22:15.052Z"
   },
   {
    "duration": 12,
    "start_time": "2022-03-06T11:22:35.973Z"
   },
   {
    "duration": 837,
    "start_time": "2022-03-06T11:22:50.663Z"
   },
   {
    "duration": 3237,
    "start_time": "2022-03-06T11:22:54.892Z"
   },
   {
    "duration": 1867,
    "start_time": "2022-03-06T11:23:03.457Z"
   },
   {
    "duration": 186,
    "start_time": "2022-03-06T11:23:05.326Z"
   },
   {
    "duration": 34,
    "start_time": "2022-03-06T11:23:05.518Z"
   },
   {
    "duration": 16,
    "start_time": "2022-03-06T11:23:05.554Z"
   },
   {
    "duration": 470,
    "start_time": "2022-03-06T11:23:05.573Z"
   },
   {
    "duration": 17,
    "start_time": "2022-03-06T11:23:06.046Z"
   },
   {
    "duration": 7,
    "start_time": "2022-03-06T11:23:06.067Z"
   },
   {
    "duration": 6712,
    "start_time": "2022-03-06T11:23:06.078Z"
   },
   {
    "duration": 6198,
    "start_time": "2022-03-06T11:23:12.793Z"
   },
   {
    "duration": 11,
    "start_time": "2022-03-06T11:23:18.994Z"
   },
   {
    "duration": 11,
    "start_time": "2022-03-06T11:23:19.008Z"
   },
   {
    "duration": 41,
    "start_time": "2022-03-06T11:23:19.022Z"
   },
   {
    "duration": 6,
    "start_time": "2022-03-06T11:23:19.066Z"
   },
   {
    "duration": 33,
    "start_time": "2022-03-06T11:23:19.075Z"
   },
   {
    "duration": 7,
    "start_time": "2022-03-06T11:23:19.111Z"
   },
   {
    "duration": 5,
    "start_time": "2022-03-06T11:23:19.152Z"
   },
   {
    "duration": 7,
    "start_time": "2022-03-06T11:23:19.159Z"
   },
   {
    "duration": 5,
    "start_time": "2022-03-06T11:23:19.169Z"
   },
   {
    "duration": 12,
    "start_time": "2022-03-06T11:23:19.177Z"
   },
   {
    "duration": 61,
    "start_time": "2022-03-06T11:23:19.192Z"
   },
   {
    "duration": 14,
    "start_time": "2022-03-06T11:23:19.256Z"
   },
   {
    "duration": 15,
    "start_time": "2022-03-06T11:23:19.277Z"
   },
   {
    "duration": 6,
    "start_time": "2022-03-06T11:23:19.295Z"
   },
   {
    "duration": 58,
    "start_time": "2022-03-06T11:23:19.303Z"
   },
   {
    "duration": 29,
    "start_time": "2022-03-06T11:23:19.363Z"
   },
   {
    "duration": 8,
    "start_time": "2022-03-06T11:23:19.394Z"
   },
   {
    "duration": 7,
    "start_time": "2022-03-06T11:23:19.405Z"
   },
   {
    "duration": 45,
    "start_time": "2022-03-06T11:23:19.415Z"
   },
   {
    "duration": 260,
    "start_time": "2022-03-06T11:23:19.462Z"
   },
   {
    "duration": 707,
    "start_time": "2022-03-06T11:23:19.724Z"
   },
   {
    "duration": 25,
    "start_time": "2022-03-06T11:23:20.435Z"
   },
   {
    "duration": 249,
    "start_time": "2022-03-06T11:23:20.463Z"
   },
   {
    "duration": 2399,
    "start_time": "2022-03-06T11:23:20.714Z"
   },
   {
    "duration": 12,
    "start_time": "2022-03-06T11:23:23.116Z"
   },
   {
    "duration": 235,
    "start_time": "2022-03-06T11:23:23.150Z"
   },
   {
    "duration": 465,
    "start_time": "2022-03-06T11:23:23.387Z"
   },
   {
    "duration": 14,
    "start_time": "2022-03-06T11:23:23.855Z"
   },
   {
    "duration": 265,
    "start_time": "2022-03-06T11:23:23.872Z"
   },
   {
    "duration": 2948,
    "start_time": "2022-03-06T11:23:24.140Z"
   },
   {
    "duration": 10,
    "start_time": "2022-03-06T11:23:27.091Z"
   },
   {
    "duration": 257,
    "start_time": "2022-03-06T11:23:27.104Z"
   },
   {
    "duration": 333,
    "start_time": "2022-03-06T11:23:27.363Z"
   },
   {
    "duration": 12,
    "start_time": "2022-03-06T11:23:27.698Z"
   },
   {
    "duration": 38,
    "start_time": "2022-03-06T11:23:27.713Z"
   },
   {
    "duration": 38,
    "start_time": "2022-03-06T11:23:27.754Z"
   },
   {
    "duration": 16,
    "start_time": "2022-03-06T11:23:27.795Z"
   },
   {
    "duration": 7158,
    "start_time": "2022-03-06T11:23:27.813Z"
   },
   {
    "duration": 2547,
    "start_time": "2022-03-06T11:23:34.974Z"
   },
   {
    "duration": 28,
    "start_time": "2022-03-06T11:23:37.524Z"
   },
   {
    "duration": 229,
    "start_time": "2022-03-06T11:23:37.555Z"
   },
   {
    "duration": 267,
    "start_time": "2022-03-06T11:23:37.786Z"
   },
   {
    "duration": 295,
    "start_time": "2022-03-06T11:23:38.056Z"
   },
   {
    "duration": 395,
    "start_time": "2022-03-06T11:23:38.353Z"
   },
   {
    "duration": -4942,
    "start_time": "2022-03-06T11:23:43.694Z"
   },
   {
    "duration": -4947,
    "start_time": "2022-03-06T11:23:43.701Z"
   },
   {
    "duration": -4956,
    "start_time": "2022-03-06T11:23:43.712Z"
   },
   {
    "duration": -4963,
    "start_time": "2022-03-06T11:23:43.720Z"
   },
   {
    "duration": -4972,
    "start_time": "2022-03-06T11:23:43.731Z"
   },
   {
    "duration": 32,
    "start_time": "2022-03-06T11:24:33.720Z"
   },
   {
    "duration": 10,
    "start_time": "2022-03-06T11:24:37.618Z"
   },
   {
    "duration": 277,
    "start_time": "2022-03-06T11:24:43.461Z"
   },
   {
    "duration": 271,
    "start_time": "2022-03-06T11:25:18.225Z"
   },
   {
    "duration": 267,
    "start_time": "2022-03-06T11:27:58.883Z"
   },
   {
    "duration": 263,
    "start_time": "2022-03-06T11:28:35.512Z"
   },
   {
    "duration": 228,
    "start_time": "2022-03-06T11:28:45.228Z"
   },
   {
    "duration": 14,
    "start_time": "2022-03-06T11:28:49.582Z"
   },
   {
    "duration": 5629,
    "start_time": "2022-03-06T11:29:21.697Z"
   },
   {
    "duration": 620,
    "start_time": "2022-03-06T11:29:44.737Z"
   },
   {
    "duration": 1496,
    "start_time": "2022-03-06T11:29:54.884Z"
   },
   {
    "duration": 152,
    "start_time": "2022-03-06T11:29:56.383Z"
   },
   {
    "duration": 18,
    "start_time": "2022-03-06T11:29:56.538Z"
   },
   {
    "duration": 13,
    "start_time": "2022-03-06T11:29:56.559Z"
   },
   {
    "duration": 451,
    "start_time": "2022-03-06T11:29:56.575Z"
   },
   {
    "duration": 22,
    "start_time": "2022-03-06T11:29:57.029Z"
   },
   {
    "duration": 7,
    "start_time": "2022-03-06T11:29:57.054Z"
   },
   {
    "duration": 7065,
    "start_time": "2022-03-06T11:29:57.065Z"
   },
   {
    "duration": 6034,
    "start_time": "2022-03-06T11:30:04.134Z"
   },
   {
    "duration": 12,
    "start_time": "2022-03-06T11:30:10.170Z"
   },
   {
    "duration": 6,
    "start_time": "2022-03-06T11:30:10.184Z"
   },
   {
    "duration": 10,
    "start_time": "2022-03-06T11:30:10.193Z"
   },
   {
    "duration": 6,
    "start_time": "2022-03-06T11:30:10.205Z"
   },
   {
    "duration": 24,
    "start_time": "2022-03-06T11:30:10.252Z"
   },
   {
    "duration": 6,
    "start_time": "2022-03-06T11:30:10.278Z"
   },
   {
    "duration": 6,
    "start_time": "2022-03-06T11:30:10.286Z"
   },
   {
    "duration": 6,
    "start_time": "2022-03-06T11:30:10.294Z"
   },
   {
    "duration": 5,
    "start_time": "2022-03-06T11:30:10.302Z"
   },
   {
    "duration": 5,
    "start_time": "2022-03-06T11:30:10.352Z"
   },
   {
    "duration": 19,
    "start_time": "2022-03-06T11:30:10.359Z"
   },
   {
    "duration": 11,
    "start_time": "2022-03-06T11:30:10.380Z"
   },
   {
    "duration": 13,
    "start_time": "2022-03-06T11:30:10.394Z"
   },
   {
    "duration": 6,
    "start_time": "2022-03-06T11:30:10.455Z"
   },
   {
    "duration": 17,
    "start_time": "2022-03-06T11:30:10.464Z"
   },
   {
    "duration": 29,
    "start_time": "2022-03-06T11:30:10.483Z"
   },
   {
    "duration": 38,
    "start_time": "2022-03-06T11:30:10.515Z"
   },
   {
    "duration": 5,
    "start_time": "2022-03-06T11:30:10.555Z"
   },
   {
    "duration": 16,
    "start_time": "2022-03-06T11:30:10.563Z"
   },
   {
    "duration": 356,
    "start_time": "2022-03-06T11:30:10.582Z"
   },
   {
    "duration": 857,
    "start_time": "2022-03-06T11:30:10.941Z"
   },
   {
    "duration": 10,
    "start_time": "2022-03-06T11:30:11.801Z"
   },
   {
    "duration": 243,
    "start_time": "2022-03-06T11:30:11.813Z"
   },
   {
    "duration": 2364,
    "start_time": "2022-03-06T11:30:12.059Z"
   },
   {
    "duration": 9,
    "start_time": "2022-03-06T11:30:14.426Z"
   },
   {
    "duration": 234,
    "start_time": "2022-03-06T11:30:14.451Z"
   },
   {
    "duration": 374,
    "start_time": "2022-03-06T11:30:14.687Z"
   },
   {
    "duration": 12,
    "start_time": "2022-03-06T11:30:15.063Z"
   },
   {
    "duration": 347,
    "start_time": "2022-03-06T11:30:15.077Z"
   },
   {
    "duration": 2644,
    "start_time": "2022-03-06T11:30:15.427Z"
   },
   {
    "duration": 11,
    "start_time": "2022-03-06T11:30:18.073Z"
   },
   {
    "duration": 250,
    "start_time": "2022-03-06T11:30:18.087Z"
   },
   {
    "duration": 323,
    "start_time": "2022-03-06T11:30:18.340Z"
   },
   {
    "duration": 12,
    "start_time": "2022-03-06T11:30:18.666Z"
   },
   {
    "duration": 11,
    "start_time": "2022-03-06T11:30:18.681Z"
   },
   {
    "duration": 73,
    "start_time": "2022-03-06T11:30:18.694Z"
   },
   {
    "duration": 14,
    "start_time": "2022-03-06T11:30:18.770Z"
   },
   {
    "duration": 6516,
    "start_time": "2022-03-06T11:30:18.787Z"
   },
   {
    "duration": 2521,
    "start_time": "2022-03-06T11:30:25.305Z"
   },
   {
    "duration": 24,
    "start_time": "2022-03-06T11:30:27.829Z"
   },
   {
    "duration": 211,
    "start_time": "2022-03-06T11:30:27.855Z"
   },
   {
    "duration": 249,
    "start_time": "2022-03-06T11:30:28.069Z"
   },
   {
    "duration": 277,
    "start_time": "2022-03-06T11:30:28.320Z"
   },
   {
    "duration": 370,
    "start_time": "2022-03-06T11:30:28.600Z"
   },
   {
    "duration": -4946,
    "start_time": "2022-03-06T11:30:33.919Z"
   },
   {
    "duration": -4955,
    "start_time": "2022-03-06T11:30:33.929Z"
   },
   {
    "duration": -4966,
    "start_time": "2022-03-06T11:30:33.942Z"
   },
   {
    "duration": -4971,
    "start_time": "2022-03-06T11:30:33.949Z"
   },
   {
    "duration": -4980,
    "start_time": "2022-03-06T11:30:33.959Z"
   },
   {
    "duration": 298,
    "start_time": "2022-03-06T11:31:23.122Z"
   },
   {
    "duration": 696,
    "start_time": "2022-03-06T11:31:29.818Z"
   },
   {
    "duration": 3309,
    "start_time": "2022-03-06T11:32:07.407Z"
   },
   {
    "duration": 2363,
    "start_time": "2022-03-06T11:32:23.660Z"
   },
   {
    "duration": 582,
    "start_time": "2022-03-06T11:36:15.864Z"
   },
   {
    "duration": 578,
    "start_time": "2022-03-06T11:38:02.526Z"
   },
   {
    "duration": 80,
    "start_time": "2022-03-06T11:39:15.345Z"
   },
   {
    "duration": 5698,
    "start_time": "2022-03-06T11:39:24.444Z"
   },
   {
    "duration": 17,
    "start_time": "2022-03-06T11:40:15.465Z"
   },
   {
    "duration": 5754,
    "start_time": "2022-03-06T11:41:15.794Z"
   },
   {
    "duration": 577,
    "start_time": "2022-03-06T11:41:29.186Z"
   },
   {
    "duration": 587,
    "start_time": "2022-03-06T11:43:14.642Z"
   },
   {
    "duration": 588,
    "start_time": "2022-03-06T11:47:19.311Z"
   },
   {
    "duration": 690,
    "start_time": "2022-03-06T11:47:27.579Z"
   },
   {
    "duration": 1554,
    "start_time": "2022-03-06T11:47:36.020Z"
   },
   {
    "duration": 156,
    "start_time": "2022-03-06T11:47:37.578Z"
   },
   {
    "duration": 15,
    "start_time": "2022-03-06T11:47:37.750Z"
   },
   {
    "duration": 16,
    "start_time": "2022-03-06T11:47:37.768Z"
   },
   {
    "duration": 446,
    "start_time": "2022-03-06T11:47:37.787Z"
   },
   {
    "duration": 21,
    "start_time": "2022-03-06T11:47:38.236Z"
   },
   {
    "duration": 6,
    "start_time": "2022-03-06T11:47:38.260Z"
   },
   {
    "duration": 7290,
    "start_time": "2022-03-06T11:47:38.271Z"
   },
   {
    "duration": 6487,
    "start_time": "2022-03-06T11:47:45.564Z"
   },
   {
    "duration": 10,
    "start_time": "2022-03-06T11:47:52.053Z"
   },
   {
    "duration": 6,
    "start_time": "2022-03-06T11:47:52.066Z"
   },
   {
    "duration": 10,
    "start_time": "2022-03-06T11:47:52.075Z"
   },
   {
    "duration": 6,
    "start_time": "2022-03-06T11:47:52.088Z"
   },
   {
    "duration": 75,
    "start_time": "2022-03-06T11:47:52.096Z"
   },
   {
    "duration": 6,
    "start_time": "2022-03-06T11:47:52.174Z"
   },
   {
    "duration": 6,
    "start_time": "2022-03-06T11:47:52.183Z"
   },
   {
    "duration": 13,
    "start_time": "2022-03-06T11:47:52.192Z"
   },
   {
    "duration": 45,
    "start_time": "2022-03-06T11:47:52.208Z"
   },
   {
    "duration": 7,
    "start_time": "2022-03-06T11:47:52.257Z"
   },
   {
    "duration": 20,
    "start_time": "2022-03-06T11:47:52.267Z"
   },
   {
    "duration": 12,
    "start_time": "2022-03-06T11:47:52.290Z"
   },
   {
    "duration": 56,
    "start_time": "2022-03-06T11:47:52.305Z"
   },
   {
    "duration": 5,
    "start_time": "2022-03-06T11:47:52.367Z"
   },
   {
    "duration": 19,
    "start_time": "2022-03-06T11:47:52.376Z"
   },
   {
    "duration": 59,
    "start_time": "2022-03-06T11:47:52.397Z"
   },
   {
    "duration": 8,
    "start_time": "2022-03-06T11:47:52.458Z"
   },
   {
    "duration": 8,
    "start_time": "2022-03-06T11:47:52.468Z"
   },
   {
    "duration": 16,
    "start_time": "2022-03-06T11:47:52.479Z"
   },
   {
    "duration": 273,
    "start_time": "2022-03-06T11:47:52.498Z"
   },
   {
    "duration": 599,
    "start_time": "2022-03-06T11:47:52.774Z"
   },
   {
    "duration": 13,
    "start_time": "2022-03-06T11:47:53.375Z"
   },
   {
    "duration": 337,
    "start_time": "2022-03-06T11:47:53.391Z"
   },
   {
    "duration": 2397,
    "start_time": "2022-03-06T11:47:53.731Z"
   },
   {
    "duration": 9,
    "start_time": "2022-03-06T11:47:56.130Z"
   },
   {
    "duration": 238,
    "start_time": "2022-03-06T11:47:56.152Z"
   },
   {
    "duration": 364,
    "start_time": "2022-03-06T11:47:56.392Z"
   },
   {
    "duration": 11,
    "start_time": "2022-03-06T11:47:56.758Z"
   },
   {
    "duration": 250,
    "start_time": "2022-03-06T11:47:56.771Z"
   },
   {
    "duration": 2676,
    "start_time": "2022-03-06T11:47:57.024Z"
   },
   {
    "duration": 11,
    "start_time": "2022-03-06T11:47:59.702Z"
   },
   {
    "duration": 265,
    "start_time": "2022-03-06T11:47:59.715Z"
   },
   {
    "duration": 323,
    "start_time": "2022-03-06T11:47:59.982Z"
   },
   {
    "duration": 15,
    "start_time": "2022-03-06T11:48:00.308Z"
   },
   {
    "duration": 33,
    "start_time": "2022-03-06T11:48:00.326Z"
   },
   {
    "duration": 39,
    "start_time": "2022-03-06T11:48:00.361Z"
   },
   {
    "duration": 50,
    "start_time": "2022-03-06T11:48:00.403Z"
   },
   {
    "duration": 6273,
    "start_time": "2022-03-06T11:48:00.456Z"
   },
   {
    "duration": 2517,
    "start_time": "2022-03-06T11:48:06.731Z"
   },
   {
    "duration": 11,
    "start_time": "2022-03-06T11:48:09.251Z"
   },
   {
    "duration": 222,
    "start_time": "2022-03-06T11:48:09.264Z"
   },
   {
    "duration": 237,
    "start_time": "2022-03-06T11:48:09.488Z"
   },
   {
    "duration": 273,
    "start_time": "2022-03-06T11:48:09.728Z"
   },
   {
    "duration": 367,
    "start_time": "2022-03-06T11:48:10.004Z"
   },
   {
    "duration": -4947,
    "start_time": "2022-03-06T11:48:15.322Z"
   },
   {
    "duration": -4954,
    "start_time": "2022-03-06T11:48:15.331Z"
   },
   {
    "duration": -4960,
    "start_time": "2022-03-06T11:48:15.339Z"
   },
   {
    "duration": -4973,
    "start_time": "2022-03-06T11:48:15.354Z"
   },
   {
    "duration": -4982,
    "start_time": "2022-03-06T11:48:15.364Z"
   },
   {
    "duration": 312,
    "start_time": "2022-03-06T11:49:00.062Z"
   },
   {
    "duration": 580,
    "start_time": "2022-03-06T11:49:04.381Z"
   },
   {
    "duration": 1311,
    "start_time": "2022-03-06T11:50:45.208Z"
   },
   {
    "duration": 1227,
    "start_time": "2022-03-06T11:51:34.379Z"
   },
   {
    "duration": 854,
    "start_time": "2022-03-06T11:52:38.422Z"
   },
   {
    "duration": 263,
    "start_time": "2022-03-06T11:57:59.074Z"
   },
   {
    "duration": 248,
    "start_time": "2022-03-06T11:58:53.421Z"
   },
   {
    "duration": 266,
    "start_time": "2022-03-06T11:59:04.889Z"
   },
   {
    "duration": 278,
    "start_time": "2022-03-06T11:59:16.036Z"
   },
   {
    "duration": 234,
    "start_time": "2022-03-06T12:01:54.244Z"
   },
   {
    "duration": 260,
    "start_time": "2022-03-06T12:02:13.327Z"
   },
   {
    "duration": 77,
    "start_time": "2022-03-06T12:04:27.905Z"
   },
   {
    "duration": 87,
    "start_time": "2022-03-06T12:04:50.577Z"
   },
   {
    "duration": 259,
    "start_time": "2022-03-06T12:06:18.281Z"
   },
   {
    "duration": 233,
    "start_time": "2022-03-06T12:06:35.439Z"
   },
   {
    "duration": 15,
    "start_time": "2022-03-06T12:13:04.201Z"
   },
   {
    "duration": 726,
    "start_time": "2022-03-06T12:15:15.269Z"
   },
   {
    "duration": 580,
    "start_time": "2022-03-06T12:15:53.261Z"
   },
   {
    "duration": -4959,
    "start_time": "2022-03-06T12:17:41.850Z"
   },
   {
    "duration": 257,
    "start_time": "2022-03-06T12:18:09.179Z"
   },
   {
    "duration": 270,
    "start_time": "2022-03-06T12:19:22.484Z"
   },
   {
    "duration": 34,
    "start_time": "2022-03-06T12:20:03.007Z"
   },
   {
    "duration": 589,
    "start_time": "2022-03-06T12:20:36.716Z"
   },
   {
    "duration": 36,
    "start_time": "2022-03-06T12:20:41.570Z"
   },
   {
    "duration": 574,
    "start_time": "2022-03-06T12:21:54.231Z"
   },
   {
    "duration": 38,
    "start_time": "2022-03-06T12:21:58.316Z"
   },
   {
    "duration": 1637,
    "start_time": "2022-03-06T12:22:17.230Z"
   },
   {
    "duration": 219,
    "start_time": "2022-03-06T12:22:18.870Z"
   },
   {
    "duration": 13,
    "start_time": "2022-03-06T12:22:19.094Z"
   },
   {
    "duration": 40,
    "start_time": "2022-03-06T12:22:19.111Z"
   },
   {
    "duration": 587,
    "start_time": "2022-03-06T12:22:19.154Z"
   },
   {
    "duration": 18,
    "start_time": "2022-03-06T12:22:19.743Z"
   },
   {
    "duration": 7,
    "start_time": "2022-03-06T12:22:19.763Z"
   },
   {
    "duration": 6524,
    "start_time": "2022-03-06T12:22:19.775Z"
   },
   {
    "duration": 5991,
    "start_time": "2022-03-06T12:22:26.302Z"
   },
   {
    "duration": 10,
    "start_time": "2022-03-06T12:22:32.296Z"
   },
   {
    "duration": 8,
    "start_time": "2022-03-06T12:22:32.308Z"
   },
   {
    "duration": 36,
    "start_time": "2022-03-06T12:22:32.318Z"
   },
   {
    "duration": 6,
    "start_time": "2022-03-06T12:22:32.356Z"
   },
   {
    "duration": 24,
    "start_time": "2022-03-06T12:22:32.364Z"
   },
   {
    "duration": 5,
    "start_time": "2022-03-06T12:22:32.391Z"
   },
   {
    "duration": 6,
    "start_time": "2022-03-06T12:22:32.398Z"
   },
   {
    "duration": 7,
    "start_time": "2022-03-06T12:22:32.450Z"
   },
   {
    "duration": 9,
    "start_time": "2022-03-06T12:22:32.460Z"
   },
   {
    "duration": 12,
    "start_time": "2022-03-06T12:22:32.471Z"
   },
   {
    "duration": 16,
    "start_time": "2022-03-06T12:22:32.485Z"
   },
   {
    "duration": 50,
    "start_time": "2022-03-06T12:22:32.504Z"
   },
   {
    "duration": 15,
    "start_time": "2022-03-06T12:22:32.556Z"
   },
   {
    "duration": 6,
    "start_time": "2022-03-06T12:22:32.577Z"
   },
   {
    "duration": 17,
    "start_time": "2022-03-06T12:22:32.586Z"
   },
   {
    "duration": 66,
    "start_time": "2022-03-06T12:22:32.606Z"
   },
   {
    "duration": 7,
    "start_time": "2022-03-06T12:22:32.675Z"
   },
   {
    "duration": 16,
    "start_time": "2022-03-06T12:22:32.684Z"
   },
   {
    "duration": 14,
    "start_time": "2022-03-06T12:22:32.702Z"
   },
   {
    "duration": 379,
    "start_time": "2022-03-06T12:22:32.718Z"
   },
   {
    "duration": 599,
    "start_time": "2022-03-06T12:22:33.101Z"
   },
   {
    "duration": 11,
    "start_time": "2022-03-06T12:22:33.702Z"
   },
   {
    "duration": 248,
    "start_time": "2022-03-06T12:22:33.715Z"
   },
   {
    "duration": 2511,
    "start_time": "2022-03-06T12:22:33.965Z"
   },
   {
    "duration": 9,
    "start_time": "2022-03-06T12:22:36.479Z"
   },
   {
    "duration": 226,
    "start_time": "2022-03-06T12:22:36.490Z"
   },
   {
    "duration": 381,
    "start_time": "2022-03-06T12:22:36.718Z"
   },
   {
    "duration": 11,
    "start_time": "2022-03-06T12:22:37.101Z"
   },
   {
    "duration": 258,
    "start_time": "2022-03-06T12:22:37.114Z"
   },
   {
    "duration": 2859,
    "start_time": "2022-03-06T12:22:37.374Z"
   },
   {
    "duration": 19,
    "start_time": "2022-03-06T12:22:40.235Z"
   },
   {
    "duration": 252,
    "start_time": "2022-03-06T12:22:40.256Z"
   },
   {
    "duration": 317,
    "start_time": "2022-03-06T12:22:40.510Z"
   },
   {
    "duration": 24,
    "start_time": "2022-03-06T12:22:40.829Z"
   },
   {
    "duration": 13,
    "start_time": "2022-03-06T12:22:40.856Z"
   },
   {
    "duration": 35,
    "start_time": "2022-03-06T12:22:40.871Z"
   },
   {
    "duration": 43,
    "start_time": "2022-03-06T12:22:40.909Z"
   },
   {
    "duration": 7068,
    "start_time": "2022-03-06T12:22:40.955Z"
   },
   {
    "duration": 2640,
    "start_time": "2022-03-06T12:22:48.025Z"
   },
   {
    "duration": 11,
    "start_time": "2022-03-06T12:22:50.667Z"
   },
   {
    "duration": 223,
    "start_time": "2022-03-06T12:22:50.680Z"
   },
   {
    "duration": 229,
    "start_time": "2022-03-06T12:22:50.905Z"
   },
   {
    "duration": 271,
    "start_time": "2022-03-06T12:22:51.137Z"
   },
   {
    "duration": 350,
    "start_time": "2022-03-06T12:22:51.411Z"
   },
   {
    "duration": -4928,
    "start_time": "2022-03-06T12:22:56.691Z"
   },
   {
    "duration": -4937,
    "start_time": "2022-03-06T12:22:56.702Z"
   },
   {
    "duration": -4941,
    "start_time": "2022-03-06T12:22:56.708Z"
   },
   {
    "duration": -4946,
    "start_time": "2022-03-06T12:22:56.715Z"
   },
   {
    "duration": -4953,
    "start_time": "2022-03-06T12:22:56.724Z"
   },
   {
    "duration": 239,
    "start_time": "2022-03-06T12:23:02.866Z"
   },
   {
    "duration": 598,
    "start_time": "2022-03-06T12:23:10.577Z"
   },
   {
    "duration": 33,
    "start_time": "2022-03-06T12:23:14.299Z"
   },
   {
    "duration": 103,
    "start_time": "2022-03-06T12:25:19.078Z"
   },
   {
    "duration": 495,
    "start_time": "2022-03-06T12:25:27.902Z"
   },
   {
    "duration": 308,
    "start_time": "2022-03-06T12:25:41.172Z"
   },
   {
    "duration": 95,
    "start_time": "2022-03-06T12:27:02.855Z"
   },
   {
    "duration": 85,
    "start_time": "2022-03-06T12:27:24.810Z"
   },
   {
    "duration": 821,
    "start_time": "2022-03-06T12:27:37.021Z"
   },
   {
    "duration": 31,
    "start_time": "2022-03-06T12:28:44.035Z"
   },
   {
    "duration": 597,
    "start_time": "2022-03-06T12:30:47.127Z"
   },
   {
    "duration": 585,
    "start_time": "2022-03-06T12:31:25.200Z"
   },
   {
    "duration": 24440,
    "start_time": "2022-03-06T12:52:07.800Z"
   },
   {
    "duration": 690,
    "start_time": "2022-03-06T12:52:39.514Z"
   },
   {
    "duration": 5900,
    "start_time": "2022-03-06T13:18:39.009Z"
   },
   {
    "duration": 5874,
    "start_time": "2022-03-06T13:19:25.533Z"
   },
   {
    "duration": 57,
    "start_time": "2022-03-06T13:20:08.908Z"
   },
   {
    "duration": 74,
    "start_time": "2022-03-06T13:22:55.434Z"
   },
   {
    "duration": 80,
    "start_time": "2022-03-06T13:23:04.013Z"
   },
   {
    "duration": 18,
    "start_time": "2022-03-06T13:23:11.794Z"
   },
   {
    "duration": 16,
    "start_time": "2022-03-06T13:23:34.809Z"
   },
   {
    "duration": 6,
    "start_time": "2022-03-06T13:23:38.165Z"
   },
   {
    "duration": 6,
    "start_time": "2022-03-06T13:23:43.402Z"
   },
   {
    "duration": 14,
    "start_time": "2022-03-06T13:26:13.492Z"
   },
   {
    "duration": 17,
    "start_time": "2022-03-06T13:35:46.441Z"
   },
   {
    "duration": 8,
    "start_time": "2022-03-06T13:36:25.370Z"
   },
   {
    "duration": 6,
    "start_time": "2022-03-06T13:37:25.780Z"
   },
   {
    "duration": 238,
    "start_time": "2022-03-06T13:41:45.304Z"
   },
   {
    "duration": 14,
    "start_time": "2022-03-06T13:42:44.728Z"
   },
   {
    "duration": 14,
    "start_time": "2022-03-06T13:44:10.518Z"
   },
   {
    "duration": 14,
    "start_time": "2022-03-06T13:44:32.607Z"
   },
   {
    "duration": 9,
    "start_time": "2022-03-06T13:46:51.117Z"
   },
   {
    "duration": 8,
    "start_time": "2022-03-06T13:47:38.495Z"
   },
   {
    "duration": 70,
    "start_time": "2022-03-06T13:51:19.005Z"
   },
   {
    "duration": 18,
    "start_time": "2022-03-06T13:51:59.220Z"
   },
   {
    "duration": 1626,
    "start_time": "2022-03-06T13:52:06.493Z"
   },
   {
    "duration": 152,
    "start_time": "2022-03-06T13:52:08.121Z"
   },
   {
    "duration": 10,
    "start_time": "2022-03-06T13:52:08.276Z"
   },
   {
    "duration": 32,
    "start_time": "2022-03-06T13:52:08.289Z"
   },
   {
    "duration": 448,
    "start_time": "2022-03-06T13:52:08.323Z"
   },
   {
    "duration": 13,
    "start_time": "2022-03-06T13:52:08.773Z"
   },
   {
    "duration": 20,
    "start_time": "2022-03-06T13:52:08.789Z"
   },
   {
    "duration": 19,
    "start_time": "2022-03-06T13:52:08.814Z"
   },
   {
    "duration": 501,
    "start_time": "2022-03-06T13:52:08.836Z"
   },
   {
    "duration": -4884,
    "start_time": "2022-03-06T13:52:14.226Z"
   },
   {
    "duration": -4932,
    "start_time": "2022-03-06T13:52:14.276Z"
   },
   {
    "duration": -4944,
    "start_time": "2022-03-06T13:52:14.290Z"
   },
   {
    "duration": -4956,
    "start_time": "2022-03-06T13:52:14.303Z"
   },
   {
    "duration": -4968,
    "start_time": "2022-03-06T13:52:14.317Z"
   },
   {
    "duration": -4976,
    "start_time": "2022-03-06T13:52:14.326Z"
   },
   {
    "duration": -4988,
    "start_time": "2022-03-06T13:52:14.340Z"
   },
   {
    "duration": -5000,
    "start_time": "2022-03-06T13:52:14.353Z"
   },
   {
    "duration": -5009,
    "start_time": "2022-03-06T13:52:14.364Z"
   },
   {
    "duration": -5015,
    "start_time": "2022-03-06T13:52:14.371Z"
   },
   {
    "duration": -5023,
    "start_time": "2022-03-06T13:52:14.380Z"
   },
   {
    "duration": -5028,
    "start_time": "2022-03-06T13:52:14.387Z"
   },
   {
    "duration": -5037,
    "start_time": "2022-03-06T13:52:14.397Z"
   },
   {
    "duration": -5044,
    "start_time": "2022-03-06T13:52:14.405Z"
   },
   {
    "duration": -5051,
    "start_time": "2022-03-06T13:52:14.416Z"
   },
   {
    "duration": -5057,
    "start_time": "2022-03-06T13:52:14.424Z"
   },
   {
    "duration": -5066,
    "start_time": "2022-03-06T13:52:14.435Z"
   },
   {
    "duration": -5076,
    "start_time": "2022-03-06T13:52:14.447Z"
   },
   {
    "duration": -5083,
    "start_time": "2022-03-06T13:52:14.455Z"
   },
   {
    "duration": -5093,
    "start_time": "2022-03-06T13:52:14.467Z"
   },
   {
    "duration": -5100,
    "start_time": "2022-03-06T13:52:14.476Z"
   },
   {
    "duration": -5109,
    "start_time": "2022-03-06T13:52:14.487Z"
   },
   {
    "duration": -5120,
    "start_time": "2022-03-06T13:52:14.500Z"
   },
   {
    "duration": -5127,
    "start_time": "2022-03-06T13:52:14.509Z"
   },
   {
    "duration": -5136,
    "start_time": "2022-03-06T13:52:14.520Z"
   },
   {
    "duration": -5147,
    "start_time": "2022-03-06T13:52:14.532Z"
   },
   {
    "duration": -5188,
    "start_time": "2022-03-06T13:52:14.575Z"
   },
   {
    "duration": -5195,
    "start_time": "2022-03-06T13:52:14.584Z"
   },
   {
    "duration": -5204,
    "start_time": "2022-03-06T13:52:14.595Z"
   },
   {
    "duration": -5209,
    "start_time": "2022-03-06T13:52:14.602Z"
   },
   {
    "duration": -5218,
    "start_time": "2022-03-06T13:52:14.613Z"
   },
   {
    "duration": -5170,
    "start_time": "2022-03-06T13:52:14.620Z"
   },
   {
    "duration": -5178,
    "start_time": "2022-03-06T13:52:14.630Z"
   },
   {
    "duration": -5185,
    "start_time": "2022-03-06T13:52:14.638Z"
   },
   {
    "duration": -5193,
    "start_time": "2022-03-06T13:52:14.648Z"
   },
   {
    "duration": -5200,
    "start_time": "2022-03-06T13:52:14.657Z"
   },
   {
    "duration": -5210,
    "start_time": "2022-03-06T13:52:14.669Z"
   },
   {
    "duration": -5219,
    "start_time": "2022-03-06T13:52:14.680Z"
   },
   {
    "duration": -5225,
    "start_time": "2022-03-06T13:52:14.688Z"
   },
   {
    "duration": -5234,
    "start_time": "2022-03-06T13:52:14.698Z"
   },
   {
    "duration": -5240,
    "start_time": "2022-03-06T13:52:14.706Z"
   },
   {
    "duration": -5249,
    "start_time": "2022-03-06T13:52:14.716Z"
   },
   {
    "duration": -5255,
    "start_time": "2022-03-06T13:52:14.724Z"
   },
   {
    "duration": -5263,
    "start_time": "2022-03-06T13:52:14.734Z"
   },
   {
    "duration": -5270,
    "start_time": "2022-03-06T13:52:14.742Z"
   },
   {
    "duration": -5280,
    "start_time": "2022-03-06T13:52:14.753Z"
   },
   {
    "duration": -5290,
    "start_time": "2022-03-06T13:52:14.765Z"
   },
   {
    "duration": -5297,
    "start_time": "2022-03-06T13:52:14.773Z"
   },
   {
    "duration": -5308,
    "start_time": "2022-03-06T13:52:14.786Z"
   },
   {
    "duration": -5318,
    "start_time": "2022-03-06T13:52:14.798Z"
   },
   {
    "duration": -5327,
    "start_time": "2022-03-06T13:52:14.808Z"
   },
   {
    "duration": -5339,
    "start_time": "2022-03-06T13:52:14.821Z"
   },
   {
    "duration": 7,
    "start_time": "2022-03-06T13:54:12.901Z"
   },
   {
    "duration": 17,
    "start_time": "2022-03-06T13:54:15.169Z"
   },
   {
    "duration": 9,
    "start_time": "2022-03-06T13:54:18.205Z"
   },
   {
    "duration": 11,
    "start_time": "2022-03-06T13:54:33.229Z"
   },
   {
    "duration": 15,
    "start_time": "2022-03-06T13:55:14.575Z"
   },
   {
    "duration": 10,
    "start_time": "2022-03-06T13:57:14.727Z"
   },
   {
    "duration": 6,
    "start_time": "2022-03-06T13:57:43.446Z"
   },
   {
    "duration": 6,
    "start_time": "2022-03-06T13:58:19.095Z"
   },
   {
    "duration": 6,
    "start_time": "2022-03-06T13:58:30.150Z"
   },
   {
    "duration": 14,
    "start_time": "2022-03-06T13:58:35.233Z"
   },
   {
    "duration": 9,
    "start_time": "2022-03-06T13:59:26.374Z"
   },
   {
    "duration": 8,
    "start_time": "2022-03-06T13:59:42.967Z"
   },
   {
    "duration": 9,
    "start_time": "2022-03-06T14:00:03.301Z"
   },
   {
    "duration": 7,
    "start_time": "2022-03-06T14:00:11.497Z"
   },
   {
    "duration": 8,
    "start_time": "2022-03-06T14:00:14.181Z"
   },
   {
    "duration": 6,
    "start_time": "2022-03-06T14:00:19.548Z"
   },
   {
    "duration": 1593,
    "start_time": "2022-03-06T14:00:29.225Z"
   },
   {
    "duration": 172,
    "start_time": "2022-03-06T14:00:30.821Z"
   },
   {
    "duration": 11,
    "start_time": "2022-03-06T14:00:30.996Z"
   },
   {
    "duration": 21,
    "start_time": "2022-03-06T14:00:31.010Z"
   },
   {
    "duration": 477,
    "start_time": "2022-03-06T14:00:31.054Z"
   },
   {
    "duration": 25,
    "start_time": "2022-03-06T14:00:31.533Z"
   },
   {
    "duration": 20,
    "start_time": "2022-03-06T14:00:31.561Z"
   },
   {
    "duration": 9,
    "start_time": "2022-03-06T14:00:31.584Z"
   },
   {
    "duration": 24,
    "start_time": "2022-03-06T14:00:31.599Z"
   },
   {
    "duration": 27,
    "start_time": "2022-03-06T14:00:31.627Z"
   },
   {
    "duration": 8,
    "start_time": "2022-03-06T14:00:31.657Z"
   },
   {
    "duration": 37,
    "start_time": "2022-03-06T14:00:31.668Z"
   },
   {
    "duration": 10,
    "start_time": "2022-03-06T14:00:31.708Z"
   },
   {
    "duration": 38,
    "start_time": "2022-03-06T14:00:31.721Z"
   },
   {
    "duration": 9,
    "start_time": "2022-03-06T14:00:31.764Z"
   },
   {
    "duration": 17,
    "start_time": "2022-03-06T14:00:31.775Z"
   },
   {
    "duration": 17,
    "start_time": "2022-03-06T14:00:31.795Z"
   },
   {
    "duration": 44,
    "start_time": "2022-03-06T14:00:31.815Z"
   },
   {
    "duration": 8,
    "start_time": "2022-03-06T14:00:31.862Z"
   },
   {
    "duration": 20,
    "start_time": "2022-03-06T14:00:31.872Z"
   },
   {
    "duration": 12,
    "start_time": "2022-03-06T14:00:31.895Z"
   },
   {
    "duration": 9,
    "start_time": "2022-03-06T14:00:31.910Z"
   },
   {
    "duration": 39,
    "start_time": "2022-03-06T14:00:31.921Z"
   },
   {
    "duration": 45,
    "start_time": "2022-03-06T14:00:31.964Z"
   },
   {
    "duration": 28,
    "start_time": "2022-03-06T14:00:32.011Z"
   },
   {
    "duration": 6,
    "start_time": "2022-03-06T14:00:32.041Z"
   },
   {
    "duration": 23,
    "start_time": "2022-03-06T14:00:32.067Z"
   },
   {
    "duration": 32,
    "start_time": "2022-03-06T14:00:32.094Z"
   },
   {
    "duration": 32,
    "start_time": "2022-03-06T14:00:32.128Z"
   },
   {
    "duration": 16,
    "start_time": "2022-03-06T14:00:32.162Z"
   },
   {
    "duration": 19,
    "start_time": "2022-03-06T14:00:32.181Z"
   },
   {
    "duration": 277,
    "start_time": "2022-03-06T14:00:32.203Z"
   },
   {
    "duration": 718,
    "start_time": "2022-03-06T14:00:32.484Z"
   },
   {
    "duration": 11,
    "start_time": "2022-03-06T14:00:33.205Z"
   },
   {
    "duration": 340,
    "start_time": "2022-03-06T14:00:33.218Z"
   },
   {
    "duration": 2715,
    "start_time": "2022-03-06T14:00:33.561Z"
   },
   {
    "duration": 11,
    "start_time": "2022-03-06T14:00:36.279Z"
   },
   {
    "duration": 251,
    "start_time": "2022-03-06T14:00:36.293Z"
   },
   {
    "duration": 424,
    "start_time": "2022-03-06T14:00:36.547Z"
   },
   {
    "duration": 16,
    "start_time": "2022-03-06T14:00:36.974Z"
   },
   {
    "duration": 276,
    "start_time": "2022-03-06T14:00:36.993Z"
   },
   {
    "duration": 3164,
    "start_time": "2022-03-06T14:00:37.272Z"
   },
   {
    "duration": 20,
    "start_time": "2022-03-06T14:00:40.438Z"
   },
   {
    "duration": 250,
    "start_time": "2022-03-06T14:00:40.461Z"
   },
   {
    "duration": 337,
    "start_time": "2022-03-06T14:00:40.714Z"
   },
   {
    "duration": 16,
    "start_time": "2022-03-06T14:00:41.054Z"
   },
   {
    "duration": 13,
    "start_time": "2022-03-06T14:00:41.073Z"
   },
   {
    "duration": 68,
    "start_time": "2022-03-06T14:00:41.088Z"
   },
   {
    "duration": 19,
    "start_time": "2022-03-06T14:00:41.159Z"
   },
   {
    "duration": 7293,
    "start_time": "2022-03-06T14:00:41.181Z"
   },
   {
    "duration": 3104,
    "start_time": "2022-03-06T14:00:48.477Z"
   },
   {
    "duration": 11,
    "start_time": "2022-03-06T14:00:51.583Z"
   },
   {
    "duration": 257,
    "start_time": "2022-03-06T14:00:51.597Z"
   },
   {
    "duration": 258,
    "start_time": "2022-03-06T14:00:51.859Z"
   },
   {
    "duration": 291,
    "start_time": "2022-03-06T14:00:52.120Z"
   },
   {
    "duration": 381,
    "start_time": "2022-03-06T14:00:52.414Z"
   },
   {
    "duration": -4885,
    "start_time": "2022-03-06T14:00:57.683Z"
   },
   {
    "duration": -4900,
    "start_time": "2022-03-06T14:00:57.700Z"
   },
   {
    "duration": -4907,
    "start_time": "2022-03-06T14:00:57.709Z"
   },
   {
    "duration": -4916,
    "start_time": "2022-03-06T14:00:57.720Z"
   },
   {
    "duration": 5,
    "start_time": "2022-03-06T14:01:45.802Z"
   },
   {
    "duration": 6,
    "start_time": "2022-03-06T14:02:10.447Z"
   },
   {
    "duration": 19,
    "start_time": "2022-03-06T14:02:29.065Z"
   },
   {
    "duration": 11,
    "start_time": "2022-03-06T14:02:33.151Z"
   },
   {
    "duration": 17,
    "start_time": "2022-03-06T14:02:40.800Z"
   },
   {
    "duration": 11,
    "start_time": "2022-03-06T14:02:42.894Z"
   },
   {
    "duration": 6,
    "start_time": "2022-03-06T14:02:45.434Z"
   },
   {
    "duration": 46,
    "start_time": "2022-03-06T14:03:16.301Z"
   },
   {
    "duration": 60,
    "start_time": "2022-03-06T14:03:38.541Z"
   },
   {
    "duration": 57,
    "start_time": "2022-03-06T14:05:01.458Z"
   },
   {
    "duration": 6,
    "start_time": "2022-03-06T14:05:28.469Z"
   },
   {
    "duration": 53,
    "start_time": "2022-03-06T14:06:04.069Z"
   },
   {
    "duration": 45,
    "start_time": "2022-03-06T14:07:31.455Z"
   },
   {
    "duration": 83,
    "start_time": "2022-03-06T14:08:11.474Z"
   },
   {
    "duration": 9,
    "start_time": "2022-03-06T14:08:26.265Z"
   },
   {
    "duration": 8,
    "start_time": "2022-03-06T14:08:38.795Z"
   },
   {
    "duration": 7,
    "start_time": "2022-03-06T14:08:47.126Z"
   },
   {
    "duration": 102,
    "start_time": "2022-03-06T14:10:09.638Z"
   },
   {
    "duration": 8,
    "start_time": "2022-03-06T14:11:55.985Z"
   },
   {
    "duration": 52,
    "start_time": "2022-03-06T14:12:38.288Z"
   },
   {
    "duration": 1761,
    "start_time": "2022-03-06T14:13:02.656Z"
   },
   {
    "duration": 176,
    "start_time": "2022-03-06T14:13:04.420Z"
   },
   {
    "duration": 11,
    "start_time": "2022-03-06T14:13:04.599Z"
   },
   {
    "duration": 40,
    "start_time": "2022-03-06T14:13:04.612Z"
   },
   {
    "duration": 486,
    "start_time": "2022-03-06T14:13:04.656Z"
   },
   {
    "duration": 18,
    "start_time": "2022-03-06T14:13:05.145Z"
   },
   {
    "duration": 17,
    "start_time": "2022-03-06T14:13:05.167Z"
   },
   {
    "duration": 8,
    "start_time": "2022-03-06T14:13:05.191Z"
   },
   {
    "duration": 61,
    "start_time": "2022-03-06T14:13:05.203Z"
   },
   {
    "duration": 12,
    "start_time": "2022-03-06T14:13:05.267Z"
   },
   {
    "duration": 6,
    "start_time": "2022-03-06T14:13:05.281Z"
   },
   {
    "duration": 17,
    "start_time": "2022-03-06T14:13:05.290Z"
   },
   {
    "duration": 43,
    "start_time": "2022-03-06T14:13:05.309Z"
   },
   {
    "duration": 15,
    "start_time": "2022-03-06T14:13:05.354Z"
   },
   {
    "duration": 14,
    "start_time": "2022-03-06T14:13:05.373Z"
   },
   {
    "duration": 12,
    "start_time": "2022-03-06T14:13:05.391Z"
   },
   {
    "duration": 5,
    "start_time": "2022-03-06T14:13:05.406Z"
   },
   {
    "duration": 33,
    "start_time": "2022-03-06T14:13:05.452Z"
   },
   {
    "duration": 6,
    "start_time": "2022-03-06T14:13:05.488Z"
   },
   {
    "duration": 6,
    "start_time": "2022-03-06T14:13:05.496Z"
   },
   {
    "duration": 49,
    "start_time": "2022-03-06T14:13:05.504Z"
   },
   {
    "duration": 7,
    "start_time": "2022-03-06T14:13:05.558Z"
   },
   {
    "duration": 19,
    "start_time": "2022-03-06T14:13:05.574Z"
   },
   {
    "duration": 21,
    "start_time": "2022-03-06T14:13:05.596Z"
   },
   {
    "duration": 57,
    "start_time": "2022-03-06T14:13:05.619Z"
   },
   {
    "duration": 12,
    "start_time": "2022-03-06T14:13:05.678Z"
   },
   {
    "duration": 20,
    "start_time": "2022-03-06T14:13:05.693Z"
   },
   {
    "duration": 74,
    "start_time": "2022-03-06T14:13:05.715Z"
   },
   {
    "duration": 6,
    "start_time": "2022-03-06T14:13:05.792Z"
   },
   {
    "duration": 10,
    "start_time": "2022-03-06T14:13:05.801Z"
   },
   {
    "duration": 16,
    "start_time": "2022-03-06T14:13:05.814Z"
   },
   {
    "duration": 386,
    "start_time": "2022-03-06T14:13:05.852Z"
   },
   {
    "duration": 729,
    "start_time": "2022-03-06T14:13:06.240Z"
   },
   {
    "duration": 11,
    "start_time": "2022-03-06T14:13:06.973Z"
   },
   {
    "duration": 305,
    "start_time": "2022-03-06T14:13:06.987Z"
   },
   {
    "duration": 3358,
    "start_time": "2022-03-06T14:13:07.295Z"
   },
   {
    "duration": 11,
    "start_time": "2022-03-06T14:13:10.656Z"
   },
   {
    "duration": 250,
    "start_time": "2022-03-06T14:13:10.669Z"
   },
   {
    "duration": 388,
    "start_time": "2022-03-06T14:13:10.921Z"
   },
   {
    "duration": 11,
    "start_time": "2022-03-06T14:13:11.312Z"
   },
   {
    "duration": 267,
    "start_time": "2022-03-06T14:13:11.326Z"
   },
   {
    "duration": 3031,
    "start_time": "2022-03-06T14:13:11.597Z"
   },
   {
    "duration": 33,
    "start_time": "2022-03-06T14:13:14.631Z"
   },
   {
    "duration": 263,
    "start_time": "2022-03-06T14:13:14.667Z"
   },
   {
    "duration": 410,
    "start_time": "2022-03-06T14:13:14.933Z"
   },
   {
    "duration": 15,
    "start_time": "2022-03-06T14:13:15.351Z"
   },
   {
    "duration": 23,
    "start_time": "2022-03-06T14:13:15.370Z"
   },
   {
    "duration": 67,
    "start_time": "2022-03-06T14:13:15.395Z"
   },
   {
    "duration": 22,
    "start_time": "2022-03-06T14:13:15.473Z"
   },
   {
    "duration": 8207,
    "start_time": "2022-03-06T14:13:15.498Z"
   },
   {
    "duration": 2507,
    "start_time": "2022-03-06T14:13:23.708Z"
   },
   {
    "duration": 13,
    "start_time": "2022-03-06T14:13:26.217Z"
   },
   {
    "duration": 303,
    "start_time": "2022-03-06T14:13:26.252Z"
   },
   {
    "duration": 276,
    "start_time": "2022-03-06T14:13:26.558Z"
   },
   {
    "duration": 318,
    "start_time": "2022-03-06T14:13:26.837Z"
   },
   {
    "duration": 450,
    "start_time": "2022-03-06T14:13:27.158Z"
   },
   {
    "duration": -4854,
    "start_time": "2022-03-06T14:13:32.464Z"
   },
   {
    "duration": -4873,
    "start_time": "2022-03-06T14:13:32.485Z"
   },
   {
    "duration": -4883,
    "start_time": "2022-03-06T14:13:32.496Z"
   },
   {
    "duration": -4888,
    "start_time": "2022-03-06T14:13:32.503Z"
   },
   {
    "duration": 15,
    "start_time": "2022-03-06T14:14:10.926Z"
   },
   {
    "duration": 17,
    "start_time": "2022-03-06T14:14:21.661Z"
   },
   {
    "duration": 305,
    "start_time": "2022-03-06T15:38:07.485Z"
   },
   {
    "duration": 308,
    "start_time": "2022-03-06T15:38:19.982Z"
   },
   {
    "duration": 88,
    "start_time": "2022-03-06T15:39:02.450Z"
   },
   {
    "duration": 276,
    "start_time": "2022-03-06T15:39:48.669Z"
   },
   {
    "duration": 298,
    "start_time": "2022-03-06T15:40:00.606Z"
   },
   {
    "duration": 258,
    "start_time": "2022-03-06T15:40:34.079Z"
   },
   {
    "duration": 229,
    "start_time": "2022-03-06T15:40:40.462Z"
   },
   {
    "duration": 237,
    "start_time": "2022-03-06T15:40:59.776Z"
   },
   {
    "duration": 1541,
    "start_time": "2022-03-06T15:41:08.289Z"
   },
   {
    "duration": 75,
    "start_time": "2022-03-06T15:41:17.532Z"
   },
   {
    "duration": 135,
    "start_time": "2022-03-06T15:41:21.695Z"
   },
   {
    "duration": 1531,
    "start_time": "2022-03-06T15:41:26.989Z"
   },
   {
    "duration": 136,
    "start_time": "2022-03-06T15:41:28.522Z"
   },
   {
    "duration": 26,
    "start_time": "2022-03-06T15:41:28.661Z"
   },
   {
    "duration": 14,
    "start_time": "2022-03-06T15:41:28.689Z"
   },
   {
    "duration": 470,
    "start_time": "2022-03-06T15:41:28.706Z"
   },
   {
    "duration": 12,
    "start_time": "2022-03-06T15:41:29.178Z"
   },
   {
    "duration": 7,
    "start_time": "2022-03-06T15:41:29.192Z"
   },
   {
    "duration": 14,
    "start_time": "2022-03-06T15:41:29.204Z"
   },
   {
    "duration": 18,
    "start_time": "2022-03-06T15:41:29.221Z"
   },
   {
    "duration": 42,
    "start_time": "2022-03-06T15:41:29.241Z"
   },
   {
    "duration": 6,
    "start_time": "2022-03-06T15:41:29.286Z"
   },
   {
    "duration": 28,
    "start_time": "2022-03-06T15:41:29.294Z"
   },
   {
    "duration": 8,
    "start_time": "2022-03-06T15:41:29.324Z"
   },
   {
    "duration": 10,
    "start_time": "2022-03-06T15:41:29.335Z"
   },
   {
    "duration": 42,
    "start_time": "2022-03-06T15:41:29.347Z"
   },
   {
    "duration": 13,
    "start_time": "2022-03-06T15:41:29.392Z"
   },
   {
    "duration": 5,
    "start_time": "2022-03-06T15:41:29.407Z"
   },
   {
    "duration": 22,
    "start_time": "2022-03-06T15:41:29.415Z"
   },
   {
    "duration": 5,
    "start_time": "2022-03-06T15:41:29.440Z"
   },
   {
    "duration": 6,
    "start_time": "2022-03-06T15:41:29.483Z"
   },
   {
    "duration": 10,
    "start_time": "2022-03-06T15:41:29.491Z"
   },
   {
    "duration": 11,
    "start_time": "2022-03-06T15:41:29.503Z"
   },
   {
    "duration": 6,
    "start_time": "2022-03-06T15:41:29.520Z"
   },
   {
    "duration": 55,
    "start_time": "2022-03-06T15:41:29.529Z"
   },
   {
    "duration": 15,
    "start_time": "2022-03-06T15:41:29.587Z"
   },
   {
    "duration": 10,
    "start_time": "2022-03-06T15:41:29.604Z"
   },
   {
    "duration": 17,
    "start_time": "2022-03-06T15:41:29.616Z"
   },
   {
    "duration": 59,
    "start_time": "2022-03-06T15:41:29.636Z"
   },
   {
    "duration": 7,
    "start_time": "2022-03-06T15:41:29.697Z"
   },
   {
    "duration": 14,
    "start_time": "2022-03-06T15:41:29.707Z"
   },
   {
    "duration": 14,
    "start_time": "2022-03-06T15:41:29.723Z"
   },
   {
    "duration": 248,
    "start_time": "2022-03-06T15:41:29.739Z"
   },
   {
    "duration": 594,
    "start_time": "2022-03-06T15:41:29.990Z"
   },
   {
    "duration": 13,
    "start_time": "2022-03-06T15:41:30.588Z"
   },
   {
    "duration": 243,
    "start_time": "2022-03-06T15:41:30.604Z"
   },
   {
    "duration": 2355,
    "start_time": "2022-03-06T15:41:30.850Z"
   },
   {
    "duration": 12,
    "start_time": "2022-03-06T15:41:33.208Z"
   },
   {
    "duration": 245,
    "start_time": "2022-03-06T15:41:33.223Z"
   },
   {
    "duration": 383,
    "start_time": "2022-03-06T15:41:33.471Z"
   },
   {
    "duration": 25,
    "start_time": "2022-03-06T15:41:33.858Z"
   },
   {
    "duration": 245,
    "start_time": "2022-03-06T15:41:33.886Z"
   },
   {
    "duration": 2729,
    "start_time": "2022-03-06T15:41:34.134Z"
   },
   {
    "duration": 21,
    "start_time": "2022-03-06T15:41:36.866Z"
   },
   {
    "duration": 249,
    "start_time": "2022-03-06T15:41:36.889Z"
   },
   {
    "duration": 330,
    "start_time": "2022-03-06T15:41:37.141Z"
   },
   {
    "duration": 17,
    "start_time": "2022-03-06T15:41:37.474Z"
   },
   {
    "duration": 19,
    "start_time": "2022-03-06T15:41:37.493Z"
   },
   {
    "duration": 40,
    "start_time": "2022-03-06T15:41:37.515Z"
   },
   {
    "duration": 36,
    "start_time": "2022-03-06T15:41:37.557Z"
   },
   {
    "duration": 6088,
    "start_time": "2022-03-06T15:41:37.595Z"
   },
   {
    "duration": 2257,
    "start_time": "2022-03-06T15:41:43.686Z"
   },
   {
    "duration": 10,
    "start_time": "2022-03-06T15:41:45.946Z"
   },
   {
    "duration": 209,
    "start_time": "2022-03-06T15:41:45.983Z"
   },
   {
    "duration": 235,
    "start_time": "2022-03-06T15:41:46.195Z"
   },
   {
    "duration": 380,
    "start_time": "2022-03-06T15:41:46.432Z"
   },
   {
    "duration": 385,
    "start_time": "2022-03-06T15:41:46.815Z"
   },
   {
    "duration": -4743,
    "start_time": "2022-03-06T15:41:51.946Z"
   },
   {
    "duration": -4755,
    "start_time": "2022-03-06T15:41:51.960Z"
   },
   {
    "duration": -4765,
    "start_time": "2022-03-06T15:41:51.972Z"
   },
   {
    "duration": -4772,
    "start_time": "2022-03-06T15:41:51.980Z"
   },
   {
    "duration": -4780,
    "start_time": "2022-03-06T15:41:51.990Z"
   },
   {
    "duration": 29,
    "start_time": "2022-03-06T15:42:13.300Z"
   },
   {
    "duration": 10,
    "start_time": "2022-03-06T15:42:17.179Z"
   },
   {
    "duration": 233,
    "start_time": "2022-03-06T15:42:25.196Z"
   },
   {
    "duration": 298,
    "start_time": "2022-03-06T15:42:41.171Z"
   },
   {
    "duration": 10,
    "start_time": "2022-03-06T15:42:44.924Z"
   },
   {
    "duration": 263,
    "start_time": "2022-03-06T15:42:55.366Z"
   },
   {
    "duration": 558,
    "start_time": "2022-03-06T15:43:29.464Z"
   },
   {
    "duration": 712,
    "start_time": "2022-03-06T15:44:11.461Z"
   },
   {
    "duration": 3136,
    "start_time": "2022-03-06T15:44:16.338Z"
   },
   {
    "duration": 1987,
    "start_time": "2022-03-06T15:44:26.390Z"
   },
   {
    "duration": 2827,
    "start_time": "2022-03-06T15:51:00.401Z"
   },
   {
    "duration": 616,
    "start_time": "2022-03-06T15:53:17.835Z"
   },
   {
    "duration": 279,
    "start_time": "2022-03-06T15:54:32.588Z"
   },
   {
    "duration": 258,
    "start_time": "2022-03-06T16:03:22.651Z"
   },
   {
    "duration": 265,
    "start_time": "2022-03-06T16:03:47.012Z"
   },
   {
    "duration": 267,
    "start_time": "2022-03-06T16:08:28.200Z"
   },
   {
    "duration": 291,
    "start_time": "2022-03-06T16:08:37.376Z"
   },
   {
    "duration": 255,
    "start_time": "2022-03-06T16:09:17.493Z"
   },
   {
    "duration": 85,
    "start_time": "2022-03-06T16:10:07.359Z"
   },
   {
    "duration": 230,
    "start_time": "2022-03-06T16:12:49.009Z"
   },
   {
    "duration": 35,
    "start_time": "2022-03-06T16:14:42.453Z"
   },
   {
    "duration": 5,
    "start_time": "2022-03-06T16:15:26.101Z"
   },
   {
    "duration": 17,
    "start_time": "2022-03-06T16:15:30.260Z"
   },
   {
    "duration": 19,
    "start_time": "2022-03-06T16:15:34.935Z"
   },
   {
    "duration": 7,
    "start_time": "2022-03-06T16:15:37.706Z"
   },
   {
    "duration": 32,
    "start_time": "2022-03-06T16:16:20.275Z"
   },
   {
    "duration": 95,
    "start_time": "2022-03-06T16:18:45.577Z"
   },
   {
    "duration": 17,
    "start_time": "2022-03-06T16:18:52.149Z"
   },
   {
    "duration": 567,
    "start_time": "2022-03-06T16:22:31.437Z"
   },
   {
    "duration": 569,
    "start_time": "2022-03-06T16:32:50.424Z"
   },
   {
    "duration": 516,
    "start_time": "2022-03-06T16:34:07.592Z"
   },
   {
    "duration": 663,
    "start_time": "2022-03-06T16:38:14.935Z"
   },
   {
    "duration": 521,
    "start_time": "2022-03-06T16:38:50.514Z"
   },
   {
    "duration": 701,
    "start_time": "2022-03-06T16:39:00.458Z"
   },
   {
    "duration": 657,
    "start_time": "2022-03-06T16:39:07.416Z"
   },
   {
    "duration": 1603,
    "start_time": "2022-03-06T16:54:36.389Z"
   },
   {
    "duration": 1934,
    "start_time": "2022-03-06T16:54:50.637Z"
   },
   {
    "duration": 554,
    "start_time": "2022-03-06T16:55:13.656Z"
   },
   {
    "duration": 282,
    "start_time": "2022-03-06T16:55:35.669Z"
   },
   {
    "duration": 6,
    "start_time": "2022-03-06T16:58:37.432Z"
   },
   {
    "duration": 6,
    "start_time": "2022-03-06T16:59:06.357Z"
   },
   {
    "duration": 4604,
    "start_time": "2022-03-06T17:00:37.835Z"
   },
   {
    "duration": 4430,
    "start_time": "2022-03-06T17:01:28.388Z"
   },
   {
    "duration": 109,
    "start_time": "2022-03-06T17:02:12.163Z"
   },
   {
    "duration": 268,
    "start_time": "2022-03-06T17:02:34.394Z"
   },
   {
    "duration": 1501,
    "start_time": "2022-03-06T17:11:54.416Z"
   },
   {
    "duration": 174,
    "start_time": "2022-03-06T17:11:55.920Z"
   },
   {
    "duration": 10,
    "start_time": "2022-03-06T17:11:56.097Z"
   },
   {
    "duration": 21,
    "start_time": "2022-03-06T17:11:56.110Z"
   },
   {
    "duration": 466,
    "start_time": "2022-03-06T17:11:56.134Z"
   },
   {
    "duration": 11,
    "start_time": "2022-03-06T17:11:56.602Z"
   },
   {
    "duration": 7,
    "start_time": "2022-03-06T17:11:56.615Z"
   },
   {
    "duration": 14,
    "start_time": "2022-03-06T17:11:56.625Z"
   },
   {
    "duration": 21,
    "start_time": "2022-03-06T17:11:56.643Z"
   },
   {
    "duration": 6,
    "start_time": "2022-03-06T17:11:56.667Z"
   },
   {
    "duration": 9,
    "start_time": "2022-03-06T17:11:56.676Z"
   },
   {
    "duration": 22,
    "start_time": "2022-03-06T17:11:56.687Z"
   },
   {
    "duration": 8,
    "start_time": "2022-03-06T17:11:56.711Z"
   },
   {
    "duration": 11,
    "start_time": "2022-03-06T17:11:56.721Z"
   },
   {
    "duration": 7,
    "start_time": "2022-03-06T17:11:56.734Z"
   },
   {
    "duration": 16,
    "start_time": "2022-03-06T17:11:56.743Z"
   },
   {
    "duration": 10,
    "start_time": "2022-03-06T17:11:56.762Z"
   },
   {
    "duration": 30,
    "start_time": "2022-03-06T17:11:56.774Z"
   },
   {
    "duration": 6,
    "start_time": "2022-03-06T17:11:56.806Z"
   },
   {
    "duration": 9,
    "start_time": "2022-03-06T17:11:56.815Z"
   },
   {
    "duration": 9,
    "start_time": "2022-03-06T17:11:56.826Z"
   },
   {
    "duration": 7,
    "start_time": "2022-03-06T17:11:56.837Z"
   },
   {
    "duration": 12,
    "start_time": "2022-03-06T17:11:56.850Z"
   },
   {
    "duration": 25,
    "start_time": "2022-03-06T17:11:56.866Z"
   },
   {
    "duration": 14,
    "start_time": "2022-03-06T17:11:56.893Z"
   },
   {
    "duration": 7,
    "start_time": "2022-03-06T17:11:56.910Z"
   },
   {
    "duration": 24,
    "start_time": "2022-03-06T17:11:56.920Z"
   },
   {
    "duration": 73,
    "start_time": "2022-03-06T17:11:56.947Z"
   },
   {
    "duration": 60,
    "start_time": "2022-03-06T17:11:57.024Z"
   },
   {
    "duration": 9,
    "start_time": "2022-03-06T17:11:57.087Z"
   },
   {
    "duration": 18,
    "start_time": "2022-03-06T17:11:57.099Z"
   },
   {
    "duration": 463,
    "start_time": "2022-03-06T17:11:57.119Z"
   },
   {
    "duration": 813,
    "start_time": "2022-03-06T17:11:57.585Z"
   },
   {
    "duration": 13,
    "start_time": "2022-03-06T17:11:58.401Z"
   },
   {
    "duration": 261,
    "start_time": "2022-03-06T17:11:58.416Z"
   },
   {
    "duration": 2807,
    "start_time": "2022-03-06T17:11:58.679Z"
   },
   {
    "duration": 10,
    "start_time": "2022-03-06T17:12:01.488Z"
   },
   {
    "duration": 248,
    "start_time": "2022-03-06T17:12:01.501Z"
   },
   {
    "duration": 427,
    "start_time": "2022-03-06T17:12:01.751Z"
   },
   {
    "duration": 11,
    "start_time": "2022-03-06T17:12:02.182Z"
   },
   {
    "duration": 273,
    "start_time": "2022-03-06T17:12:02.195Z"
   },
   {
    "duration": 2843,
    "start_time": "2022-03-06T17:12:02.470Z"
   },
   {
    "duration": 14,
    "start_time": "2022-03-06T17:12:05.316Z"
   },
   {
    "duration": 262,
    "start_time": "2022-03-06T17:12:05.333Z"
   },
   {
    "duration": 342,
    "start_time": "2022-03-06T17:12:05.597Z"
   },
   {
    "duration": 12,
    "start_time": "2022-03-06T17:12:05.941Z"
   },
   {
    "duration": 35,
    "start_time": "2022-03-06T17:12:05.956Z"
   },
   {
    "duration": 54,
    "start_time": "2022-03-06T17:12:05.994Z"
   },
   {
    "duration": 45,
    "start_time": "2022-03-06T17:12:06.052Z"
   },
   {
    "duration": 6787,
    "start_time": "2022-03-06T17:12:06.100Z"
   },
   {
    "duration": 2385,
    "start_time": "2022-03-06T17:12:12.890Z"
   },
   {
    "duration": 16,
    "start_time": "2022-03-06T17:12:15.278Z"
   },
   {
    "duration": 240,
    "start_time": "2022-03-06T17:12:15.296Z"
   },
   {
    "duration": 246,
    "start_time": "2022-03-06T17:12:15.539Z"
   },
   {
    "duration": 277,
    "start_time": "2022-03-06T17:12:15.787Z"
   },
   {
    "duration": 372,
    "start_time": "2022-03-06T17:12:16.066Z"
   },
   {
    "duration": -4704,
    "start_time": "2022-03-06T17:12:21.145Z"
   },
   {
    "duration": -4710,
    "start_time": "2022-03-06T17:12:21.153Z"
   },
   {
    "duration": -4715,
    "start_time": "2022-03-06T17:12:21.161Z"
   },
   {
    "duration": -4727,
    "start_time": "2022-03-06T17:12:21.175Z"
   },
   {
    "duration": -4735,
    "start_time": "2022-03-06T17:12:21.185Z"
   },
   {
    "duration": -4739,
    "start_time": "2022-03-06T17:12:21.191Z"
   },
   {
    "duration": 82,
    "start_time": "2022-03-06T17:17:04.343Z"
   },
   {
    "duration": 242,
    "start_time": "2022-03-06T17:17:28.851Z"
   },
   {
    "duration": 12,
    "start_time": "2022-03-06T17:17:39.771Z"
   },
   {
    "duration": 532,
    "start_time": "2022-03-06T17:17:54.474Z"
   },
   {
    "duration": 75132,
    "start_time": "2022-03-06T17:19:42.856Z"
   },
   {
    "duration": 3328,
    "start_time": "2022-03-06T17:30:14.662Z"
   },
   {
    "duration": 3374,
    "start_time": "2022-03-06T17:32:30.552Z"
   },
   {
    "duration": -4683,
    "start_time": "2022-03-06T17:39:17.266Z"
   },
   {
    "duration": 10,
    "start_time": "2022-03-06T17:39:19.197Z"
   },
   {
    "duration": 37,
    "start_time": "2022-03-06T17:39:28.066Z"
   },
   {
    "duration": 37,
    "start_time": "2022-03-06T17:40:06.893Z"
   },
   {
    "duration": 263,
    "start_time": "2022-03-06T17:45:36.777Z"
   },
   {
    "duration": 42,
    "start_time": "2022-03-06T17:50:15.958Z"
   },
   {
    "duration": 267,
    "start_time": "2022-03-06T17:51:10.682Z"
   },
   {
    "duration": 253,
    "start_time": "2022-03-06T17:52:16.511Z"
   },
   {
    "duration": 248,
    "start_time": "2022-03-06T17:52:48.773Z"
   },
   {
    "duration": 6029,
    "start_time": "2022-03-06T18:03:22.423Z"
   },
   {
    "duration": 359,
    "start_time": "2022-03-07T06:18:08.489Z"
   },
   {
    "duration": 234,
    "start_time": "2022-03-07T06:21:48.985Z"
   },
   {
    "duration": 226,
    "start_time": "2022-03-07T06:21:59.729Z"
   },
   {
    "duration": 1568,
    "start_time": "2022-03-07T06:22:07.613Z"
   },
   {
    "duration": 147,
    "start_time": "2022-03-07T06:22:09.183Z"
   },
   {
    "duration": 18,
    "start_time": "2022-03-07T06:22:09.333Z"
   },
   {
    "duration": 12,
    "start_time": "2022-03-07T06:22:09.354Z"
   },
   {
    "duration": 432,
    "start_time": "2022-03-07T06:22:09.369Z"
   },
   {
    "duration": 11,
    "start_time": "2022-03-07T06:22:09.804Z"
   },
   {
    "duration": 6,
    "start_time": "2022-03-07T06:22:09.817Z"
   },
   {
    "duration": 25,
    "start_time": "2022-03-07T06:22:09.827Z"
   },
   {
    "duration": 21,
    "start_time": "2022-03-07T06:22:09.857Z"
   },
   {
    "duration": 7,
    "start_time": "2022-03-07T06:22:09.881Z"
   },
   {
    "duration": 9,
    "start_time": "2022-03-07T06:22:09.890Z"
   },
   {
    "duration": 57,
    "start_time": "2022-03-07T06:22:09.902Z"
   },
   {
    "duration": 8,
    "start_time": "2022-03-07T06:22:09.961Z"
   },
   {
    "duration": 9,
    "start_time": "2022-03-07T06:22:09.972Z"
   },
   {
    "duration": 6,
    "start_time": "2022-03-07T06:22:09.984Z"
   },
   {
    "duration": 10,
    "start_time": "2022-03-07T06:22:09.992Z"
   },
   {
    "duration": 52,
    "start_time": "2022-03-07T06:22:10.004Z"
   },
   {
    "duration": 24,
    "start_time": "2022-03-07T06:22:10.058Z"
   },
   {
    "duration": 5,
    "start_time": "2022-03-07T06:22:10.085Z"
   },
   {
    "duration": 12,
    "start_time": "2022-03-07T06:22:10.092Z"
   },
   {
    "duration": 7,
    "start_time": "2022-03-07T06:22:10.106Z"
   },
   {
    "duration": 39,
    "start_time": "2022-03-07T06:22:10.115Z"
   },
   {
    "duration": 6,
    "start_time": "2022-03-07T06:22:10.159Z"
   },
   {
    "duration": 16,
    "start_time": "2022-03-07T06:22:10.169Z"
   },
   {
    "duration": 14,
    "start_time": "2022-03-07T06:22:10.187Z"
   },
   {
    "duration": 49,
    "start_time": "2022-03-07T06:22:10.205Z"
   },
   {
    "duration": 22,
    "start_time": "2022-03-07T06:22:10.257Z"
   },
   {
    "duration": 35,
    "start_time": "2022-03-07T06:22:10.281Z"
   },
   {
    "duration": 32,
    "start_time": "2022-03-07T06:22:10.319Z"
   },
   {
    "duration": 6,
    "start_time": "2022-03-07T06:22:10.353Z"
   },
   {
    "duration": 13,
    "start_time": "2022-03-07T06:22:10.361Z"
   },
   {
    "duration": 255,
    "start_time": "2022-03-07T06:22:10.376Z"
   },
   {
    "duration": 561,
    "start_time": "2022-03-07T06:22:10.633Z"
   },
   {
    "duration": 10,
    "start_time": "2022-03-07T06:22:11.196Z"
   },
   {
    "duration": 243,
    "start_time": "2022-03-07T06:22:11.208Z"
   },
   {
    "duration": 2258,
    "start_time": "2022-03-07T06:22:11.454Z"
   },
   {
    "duration": 9,
    "start_time": "2022-03-07T06:22:13.715Z"
   },
   {
    "duration": 219,
    "start_time": "2022-03-07T06:22:13.726Z"
   },
   {
    "duration": 349,
    "start_time": "2022-03-07T06:22:13.951Z"
   },
   {
    "duration": 15,
    "start_time": "2022-03-07T06:22:14.302Z"
   },
   {
    "duration": 232,
    "start_time": "2022-03-07T06:22:14.320Z"
   },
   {
    "duration": 2714,
    "start_time": "2022-03-07T06:22:14.555Z"
   },
   {
    "duration": 11,
    "start_time": "2022-03-07T06:22:17.271Z"
   },
   {
    "duration": 241,
    "start_time": "2022-03-07T06:22:17.284Z"
   },
   {
    "duration": 313,
    "start_time": "2022-03-07T06:22:17.527Z"
   },
   {
    "duration": 19,
    "start_time": "2022-03-07T06:22:17.842Z"
   },
   {
    "duration": 14,
    "start_time": "2022-03-07T06:22:17.863Z"
   },
   {
    "duration": 37,
    "start_time": "2022-03-07T06:22:17.880Z"
   },
   {
    "duration": 44,
    "start_time": "2022-03-07T06:22:17.920Z"
   },
   {
    "duration": 5986,
    "start_time": "2022-03-07T06:22:17.966Z"
   },
   {
    "duration": 2342,
    "start_time": "2022-03-07T06:22:23.954Z"
   },
   {
    "duration": 11,
    "start_time": "2022-03-07T06:22:26.298Z"
   },
   {
    "duration": 228,
    "start_time": "2022-03-07T06:22:26.312Z"
   },
   {
    "duration": 228,
    "start_time": "2022-03-07T06:22:26.542Z"
   },
   {
    "duration": 268,
    "start_time": "2022-03-07T06:22:26.772Z"
   },
   {
    "duration": 369,
    "start_time": "2022-03-07T06:22:27.043Z"
   },
   {
    "duration": -5246,
    "start_time": "2022-03-07T06:22:32.660Z"
   },
   {
    "duration": -5255,
    "start_time": "2022-03-07T06:22:32.671Z"
   },
   {
    "duration": -5272,
    "start_time": "2022-03-07T06:22:32.689Z"
   },
   {
    "duration": -5283,
    "start_time": "2022-03-07T06:22:32.701Z"
   },
   {
    "duration": -5291,
    "start_time": "2022-03-07T06:22:32.710Z"
   },
   {
    "duration": 293,
    "start_time": "2022-03-07T06:23:25.093Z"
   },
   {
    "duration": 10,
    "start_time": "2022-03-07T06:23:31.151Z"
   },
   {
    "duration": 237,
    "start_time": "2022-03-07T06:23:33.222Z"
   },
   {
    "duration": 265,
    "start_time": "2022-03-07T06:24:03.759Z"
   },
   {
    "duration": 5751,
    "start_time": "2022-03-07T06:24:25.318Z"
   },
   {
    "duration": 6570,
    "start_time": "2022-03-07T06:25:18.194Z"
   },
   {
    "duration": 6210,
    "start_time": "2022-03-07T06:25:33.843Z"
   },
   {
    "duration": 271,
    "start_time": "2022-03-07T06:25:42.093Z"
   },
   {
    "duration": 240,
    "start_time": "2022-03-07T06:25:57.678Z"
   },
   {
    "duration": 316,
    "start_time": "2022-03-07T06:26:50.668Z"
   },
   {
    "duration": 279,
    "start_time": "2022-03-07T06:26:59.878Z"
   },
   {
    "duration": 110,
    "start_time": "2022-03-07T06:27:49.799Z"
   },
   {
    "duration": 253,
    "start_time": "2022-03-07T06:27:59.705Z"
   },
   {
    "duration": 291,
    "start_time": "2022-03-07T06:28:16.922Z"
   },
   {
    "duration": 323,
    "start_time": "2022-03-07T06:29:25.228Z"
   },
   {
    "duration": 268,
    "start_time": "2022-03-07T06:29:46.483Z"
   },
   {
    "duration": 7457,
    "start_time": "2022-03-07T06:35:49.592Z"
   },
   {
    "duration": 3560,
    "start_time": "2022-03-07T06:36:42.985Z"
   },
   {
    "duration": 5831,
    "start_time": "2022-03-07T06:39:05.937Z"
   },
   {
    "duration": 5737,
    "start_time": "2022-03-07T06:39:15.812Z"
   },
   {
    "duration": 5864,
    "start_time": "2022-03-07T06:42:16.666Z"
   },
   {
    "duration": 5696,
    "start_time": "2022-03-07T06:43:24.624Z"
   },
   {
    "duration": 248,
    "start_time": "2022-03-07T06:43:36.925Z"
   },
   {
    "duration": 233,
    "start_time": "2022-03-07T06:45:36.583Z"
   },
   {
    "duration": 255,
    "start_time": "2022-03-07T06:45:57.365Z"
   },
   {
    "duration": 250,
    "start_time": "2022-03-07T06:46:20.133Z"
   },
   {
    "duration": 242,
    "start_time": "2022-03-07T06:48:26.332Z"
   },
   {
    "duration": 252,
    "start_time": "2022-03-07T06:48:43.713Z"
   },
   {
    "duration": 297,
    "start_time": "2022-03-07T06:49:33.026Z"
   },
   {
    "duration": 261,
    "start_time": "2022-03-07T06:50:09.970Z"
   },
   {
    "duration": 242,
    "start_time": "2022-03-07T06:50:21.992Z"
   },
   {
    "duration": 260,
    "start_time": "2022-03-07T06:50:52.244Z"
   },
   {
    "duration": 5745,
    "start_time": "2022-03-07T06:53:12.413Z"
   },
   {
    "duration": 5869,
    "start_time": "2022-03-07T06:54:52.677Z"
   },
   {
    "duration": 6009,
    "start_time": "2022-03-07T06:56:00.592Z"
   },
   {
    "duration": 5715,
    "start_time": "2022-03-07T07:35:10.920Z"
   },
   {
    "duration": 87,
    "start_time": "2022-03-07T07:44:48.610Z"
   },
   {
    "duration": 107,
    "start_time": "2022-03-07T07:45:11.003Z"
   },
   {
    "duration": 83,
    "start_time": "2022-03-07T07:45:36.795Z"
   },
   {
    "duration": 82,
    "start_time": "2022-03-07T07:45:40.731Z"
   },
   {
    "duration": 77,
    "start_time": "2022-03-07T07:45:44.266Z"
   },
   {
    "duration": 87,
    "start_time": "2022-03-07T07:45:50.607Z"
   },
   {
    "duration": 79,
    "start_time": "2022-03-07T07:45:58.447Z"
   },
   {
    "duration": 91,
    "start_time": "2022-03-07T07:46:08.144Z"
   },
   {
    "duration": 222,
    "start_time": "2022-03-07T07:46:16.899Z"
   },
   {
    "duration": 258,
    "start_time": "2022-03-07T07:47:16.617Z"
   },
   {
    "duration": 108,
    "start_time": "2022-03-07T07:50:33.886Z"
   },
   {
    "duration": 6015,
    "start_time": "2022-03-07T07:52:05.303Z"
   },
   {
    "duration": 286,
    "start_time": "2022-03-07T08:01:14.511Z"
   },
   {
    "duration": 1513,
    "start_time": "2022-03-07T08:01:31.072Z"
   },
   {
    "duration": 146,
    "start_time": "2022-03-07T08:01:32.589Z"
   },
   {
    "duration": 20,
    "start_time": "2022-03-07T08:01:32.739Z"
   },
   {
    "duration": 15,
    "start_time": "2022-03-07T08:01:32.762Z"
   },
   {
    "duration": 445,
    "start_time": "2022-03-07T08:01:32.780Z"
   },
   {
    "duration": 25,
    "start_time": "2022-03-07T08:01:33.228Z"
   },
   {
    "duration": 6,
    "start_time": "2022-03-07T08:01:33.255Z"
   },
   {
    "duration": 7,
    "start_time": "2022-03-07T08:01:33.264Z"
   },
   {
    "duration": 18,
    "start_time": "2022-03-07T08:01:33.274Z"
   },
   {
    "duration": 7,
    "start_time": "2022-03-07T08:01:33.294Z"
   },
   {
    "duration": 50,
    "start_time": "2022-03-07T08:01:33.303Z"
   },
   {
    "duration": 22,
    "start_time": "2022-03-07T08:01:33.355Z"
   },
   {
    "duration": 12,
    "start_time": "2022-03-07T08:01:33.380Z"
   },
   {
    "duration": 11,
    "start_time": "2022-03-07T08:01:33.394Z"
   },
   {
    "duration": 15,
    "start_time": "2022-03-07T08:01:33.407Z"
   },
   {
    "duration": 31,
    "start_time": "2022-03-07T08:01:33.425Z"
   },
   {
    "duration": 6,
    "start_time": "2022-03-07T08:01:33.458Z"
   },
   {
    "duration": 23,
    "start_time": "2022-03-07T08:01:33.467Z"
   },
   {
    "duration": 5,
    "start_time": "2022-03-07T08:01:33.493Z"
   },
   {
    "duration": 6,
    "start_time": "2022-03-07T08:01:33.501Z"
   },
   {
    "duration": 6,
    "start_time": "2022-03-07T08:01:33.553Z"
   },
   {
    "duration": 5,
    "start_time": "2022-03-07T08:01:33.561Z"
   },
   {
    "duration": 5,
    "start_time": "2022-03-07T08:01:33.572Z"
   },
   {
    "duration": 17,
    "start_time": "2022-03-07T08:01:33.580Z"
   },
   {
    "duration": 59,
    "start_time": "2022-03-07T08:01:33.600Z"
   },
   {
    "duration": 5,
    "start_time": "2022-03-07T08:01:33.661Z"
   },
   {
    "duration": 21,
    "start_time": "2022-03-07T08:01:33.668Z"
   },
   {
    "duration": 63,
    "start_time": "2022-03-07T08:01:33.691Z"
   },
   {
    "duration": 7,
    "start_time": "2022-03-07T08:01:33.757Z"
   },
   {
    "duration": 7,
    "start_time": "2022-03-07T08:01:33.766Z"
   },
   {
    "duration": 13,
    "start_time": "2022-03-07T08:01:33.776Z"
   },
   {
    "duration": 260,
    "start_time": "2022-03-07T08:01:33.791Z"
   },
   {
    "duration": 558,
    "start_time": "2022-03-07T08:01:34.053Z"
   },
   {
    "duration": 10,
    "start_time": "2022-03-07T08:01:34.613Z"
   },
   {
    "duration": 233,
    "start_time": "2022-03-07T08:01:34.626Z"
   },
   {
    "duration": 2406,
    "start_time": "2022-03-07T08:01:34.861Z"
   },
   {
    "duration": 10,
    "start_time": "2022-03-07T08:01:37.269Z"
   },
   {
    "duration": 230,
    "start_time": "2022-03-07T08:01:37.281Z"
   },
   {
    "duration": 359,
    "start_time": "2022-03-07T08:01:37.513Z"
   },
   {
    "duration": 10,
    "start_time": "2022-03-07T08:01:37.874Z"
   },
   {
    "duration": 243,
    "start_time": "2022-03-07T08:01:37.887Z"
   },
   {
    "duration": 2632,
    "start_time": "2022-03-07T08:01:38.132Z"
   },
   {
    "duration": 13,
    "start_time": "2022-03-07T08:01:40.767Z"
   },
   {
    "duration": 244,
    "start_time": "2022-03-07T08:01:40.782Z"
   },
   {
    "duration": 328,
    "start_time": "2022-03-07T08:01:41.029Z"
   },
   {
    "duration": 13,
    "start_time": "2022-03-07T08:01:41.360Z"
   },
   {
    "duration": 14,
    "start_time": "2022-03-07T08:01:41.376Z"
   },
   {
    "duration": 80,
    "start_time": "2022-03-07T08:01:41.393Z"
   },
   {
    "duration": 16,
    "start_time": "2022-03-07T08:01:41.476Z"
   },
   {
    "duration": 6187,
    "start_time": "2022-03-07T08:01:41.495Z"
   },
   {
    "duration": 2485,
    "start_time": "2022-03-07T08:01:47.685Z"
   },
   {
    "duration": 11,
    "start_time": "2022-03-07T08:01:50.173Z"
   },
   {
    "duration": 230,
    "start_time": "2022-03-07T08:01:50.187Z"
   },
   {
    "duration": 233,
    "start_time": "2022-03-07T08:01:50.420Z"
   },
   {
    "duration": 267,
    "start_time": "2022-03-07T08:01:50.656Z"
   },
   {
    "duration": 423,
    "start_time": "2022-03-07T08:01:50.925Z"
   },
   {
    "duration": -5442,
    "start_time": "2022-03-07T08:01:56.793Z"
   },
   {
    "duration": -5454,
    "start_time": "2022-03-07T08:01:56.806Z"
   },
   {
    "duration": -5466,
    "start_time": "2022-03-07T08:01:56.819Z"
   },
   {
    "duration": -5471,
    "start_time": "2022-03-07T08:01:56.826Z"
   },
   {
    "duration": -5481,
    "start_time": "2022-03-07T08:01:56.837Z"
   },
   {
    "duration": 248,
    "start_time": "2022-03-07T08:02:01.477Z"
   },
   {
    "duration": 11,
    "start_time": "2022-03-07T08:02:07.630Z"
   },
   {
    "duration": 7,
    "start_time": "2022-03-07T08:02:10.014Z"
   },
   {
    "duration": 4,
    "start_time": "2022-03-07T08:04:07.033Z"
   },
   {
    "duration": 6,
    "start_time": "2022-03-07T08:04:49.722Z"
   },
   {
    "duration": 237,
    "start_time": "2022-03-07T08:05:39.273Z"
   },
   {
    "duration": 6,
    "start_time": "2022-03-07T08:06:32.470Z"
   },
   {
    "duration": 487,
    "start_time": "2022-03-07T08:10:22.708Z"
   },
   {
    "duration": 1558,
    "start_time": "2022-03-07T08:14:21.326Z"
   },
   {
    "duration": 146,
    "start_time": "2022-03-07T08:14:22.887Z"
   },
   {
    "duration": 21,
    "start_time": "2022-03-07T08:14:23.036Z"
   },
   {
    "duration": 13,
    "start_time": "2022-03-07T08:14:23.060Z"
   },
   {
    "duration": 426,
    "start_time": "2022-03-07T08:14:23.075Z"
   },
   {
    "duration": 13,
    "start_time": "2022-03-07T08:14:23.503Z"
   },
   {
    "duration": 7,
    "start_time": "2022-03-07T08:14:23.518Z"
   },
   {
    "duration": 6,
    "start_time": "2022-03-07T08:14:23.550Z"
   },
   {
    "duration": 17,
    "start_time": "2022-03-07T08:14:23.559Z"
   },
   {
    "duration": 7,
    "start_time": "2022-03-07T08:14:23.578Z"
   },
   {
    "duration": 5,
    "start_time": "2022-03-07T08:14:23.588Z"
   },
   {
    "duration": 62,
    "start_time": "2022-03-07T08:14:23.596Z"
   },
   {
    "duration": 8,
    "start_time": "2022-03-07T08:14:23.660Z"
   },
   {
    "duration": 10,
    "start_time": "2022-03-07T08:14:23.670Z"
   },
   {
    "duration": 6,
    "start_time": "2022-03-07T08:14:23.683Z"
   },
   {
    "duration": 8,
    "start_time": "2022-03-07T08:14:23.691Z"
   },
   {
    "duration": 53,
    "start_time": "2022-03-07T08:14:23.701Z"
   },
   {
    "duration": 22,
    "start_time": "2022-03-07T08:14:23.757Z"
   },
   {
    "duration": 5,
    "start_time": "2022-03-07T08:14:23.782Z"
   },
   {
    "duration": 8,
    "start_time": "2022-03-07T08:14:23.789Z"
   },
   {
    "duration": 6,
    "start_time": "2022-03-07T08:14:23.799Z"
   },
   {
    "duration": 49,
    "start_time": "2022-03-07T08:14:23.807Z"
   },
   {
    "duration": 4,
    "start_time": "2022-03-07T08:14:23.862Z"
   },
   {
    "duration": 16,
    "start_time": "2022-03-07T08:14:23.870Z"
   },
   {
    "duration": 14,
    "start_time": "2022-03-07T08:14:23.888Z"
   },
   {
    "duration": 47,
    "start_time": "2022-03-07T08:14:23.904Z"
   },
   {
    "duration": 20,
    "start_time": "2022-03-07T08:14:23.953Z"
   },
   {
    "duration": 29,
    "start_time": "2022-03-07T08:14:23.975Z"
   },
   {
    "duration": 6,
    "start_time": "2022-03-07T08:14:24.006Z"
   },
   {
    "duration": 6,
    "start_time": "2022-03-07T08:14:24.015Z"
   },
   {
    "duration": 40,
    "start_time": "2022-03-07T08:14:24.023Z"
   },
   {
    "duration": 254,
    "start_time": "2022-03-07T08:14:24.065Z"
   },
   {
    "duration": 565,
    "start_time": "2022-03-07T08:14:24.322Z"
   },
   {
    "duration": 11,
    "start_time": "2022-03-07T08:14:24.889Z"
   },
   {
    "duration": 239,
    "start_time": "2022-03-07T08:14:24.902Z"
   },
   {
    "duration": 2314,
    "start_time": "2022-03-07T08:14:25.143Z"
   },
   {
    "duration": 9,
    "start_time": "2022-03-07T08:14:27.460Z"
   },
   {
    "duration": 244,
    "start_time": "2022-03-07T08:14:27.472Z"
   },
   {
    "duration": 381,
    "start_time": "2022-03-07T08:14:27.719Z"
   },
   {
    "duration": 9,
    "start_time": "2022-03-07T08:14:28.103Z"
   },
   {
    "duration": 258,
    "start_time": "2022-03-07T08:14:28.114Z"
   },
   {
    "duration": 2649,
    "start_time": "2022-03-07T08:14:28.375Z"
   },
   {
    "duration": 27,
    "start_time": "2022-03-07T08:14:31.027Z"
   },
   {
    "duration": 249,
    "start_time": "2022-03-07T08:14:31.057Z"
   },
   {
    "duration": 335,
    "start_time": "2022-03-07T08:14:31.308Z"
   },
   {
    "duration": 16,
    "start_time": "2022-03-07T08:14:31.645Z"
   },
   {
    "duration": 13,
    "start_time": "2022-03-07T08:14:31.663Z"
   },
   {
    "duration": 37,
    "start_time": "2022-03-07T08:14:31.678Z"
   },
   {
    "duration": 15,
    "start_time": "2022-03-07T08:14:31.751Z"
   },
   {
    "duration": 6570,
    "start_time": "2022-03-07T08:14:31.769Z"
   },
   {
    "duration": 2401,
    "start_time": "2022-03-07T08:14:38.341Z"
   },
   {
    "duration": 11,
    "start_time": "2022-03-07T08:14:40.751Z"
   },
   {
    "duration": 220,
    "start_time": "2022-03-07T08:14:40.765Z"
   },
   {
    "duration": 235,
    "start_time": "2022-03-07T08:14:40.988Z"
   },
   {
    "duration": 278,
    "start_time": "2022-03-07T08:14:41.226Z"
   },
   {
    "duration": 415,
    "start_time": "2022-03-07T08:14:41.507Z"
   },
   {
    "duration": -5425,
    "start_time": "2022-03-07T08:14:47.350Z"
   },
   {
    "duration": -5430,
    "start_time": "2022-03-07T08:14:47.357Z"
   },
   {
    "duration": -5440,
    "start_time": "2022-03-07T08:14:47.369Z"
   },
   {
    "duration": -5447,
    "start_time": "2022-03-07T08:14:47.379Z"
   },
   {
    "duration": -5453,
    "start_time": "2022-03-07T08:14:47.387Z"
   },
   {
    "duration": 241,
    "start_time": "2022-03-07T08:14:50.671Z"
   },
   {
    "duration": 9,
    "start_time": "2022-03-07T08:14:54.361Z"
   },
   {
    "duration": 2933,
    "start_time": "2022-03-07T08:16:18.501Z"
   },
   {
    "duration": 2165,
    "start_time": "2022-03-07T08:16:21.437Z"
   },
   {
    "duration": 79329,
    "start_time": "2022-03-07T08:16:23.605Z"
   },
   {
    "duration": 44,
    "start_time": "2022-03-07T08:17:42.936Z"
   },
   {
    "duration": 79755,
    "start_time": "2022-03-07T08:18:48.778Z"
   },
   {
    "duration": 10,
    "start_time": "2022-03-07T08:28:11.019Z"
   },
   {
    "duration": 1510,
    "start_time": "2022-03-07T08:29:10.488Z"
   },
   {
    "duration": 141,
    "start_time": "2022-03-07T08:29:12.001Z"
   },
   {
    "duration": 11,
    "start_time": "2022-03-07T08:29:12.151Z"
   },
   {
    "duration": 13,
    "start_time": "2022-03-07T08:29:12.165Z"
   },
   {
    "duration": 472,
    "start_time": "2022-03-07T08:29:12.181Z"
   },
   {
    "duration": 10,
    "start_time": "2022-03-07T08:29:12.656Z"
   },
   {
    "duration": 7,
    "start_time": "2022-03-07T08:29:12.669Z"
   },
   {
    "duration": 9,
    "start_time": "2022-03-07T08:29:12.680Z"
   },
   {
    "duration": 19,
    "start_time": "2022-03-07T08:29:12.692Z"
   },
   {
    "duration": 8,
    "start_time": "2022-03-07T08:29:12.752Z"
   },
   {
    "duration": 5,
    "start_time": "2022-03-07T08:29:12.763Z"
   },
   {
    "duration": 16,
    "start_time": "2022-03-07T08:29:12.771Z"
   },
   {
    "duration": 8,
    "start_time": "2022-03-07T08:29:12.789Z"
   },
   {
    "duration": 56,
    "start_time": "2022-03-07T08:29:12.799Z"
   },
   {
    "duration": 7,
    "start_time": "2022-03-07T08:29:12.858Z"
   },
   {
    "duration": 11,
    "start_time": "2022-03-07T08:29:12.868Z"
   },
   {
    "duration": 6,
    "start_time": "2022-03-07T08:29:12.882Z"
   },
   {
    "duration": 71,
    "start_time": "2022-03-07T08:29:12.891Z"
   },
   {
    "duration": 6,
    "start_time": "2022-03-07T08:29:12.964Z"
   },
   {
    "duration": 7,
    "start_time": "2022-03-07T08:29:12.972Z"
   },
   {
    "duration": 5,
    "start_time": "2022-03-07T08:29:12.981Z"
   },
   {
    "duration": 5,
    "start_time": "2022-03-07T08:29:12.989Z"
   },
   {
    "duration": 5,
    "start_time": "2022-03-07T08:29:13.000Z"
   },
   {
    "duration": 17,
    "start_time": "2022-03-07T08:29:13.053Z"
   },
   {
    "duration": 16,
    "start_time": "2022-03-07T08:29:13.072Z"
   },
   {
    "duration": 8,
    "start_time": "2022-03-07T08:29:13.091Z"
   },
   {
    "duration": 61,
    "start_time": "2022-03-07T08:29:13.102Z"
   },
   {
    "duration": 38,
    "start_time": "2022-03-07T08:29:13.166Z"
   },
   {
    "duration": 7,
    "start_time": "2022-03-07T08:29:13.206Z"
   },
   {
    "duration": 6,
    "start_time": "2022-03-07T08:29:13.215Z"
   },
   {
    "duration": 39,
    "start_time": "2022-03-07T08:29:13.224Z"
   },
   {
    "duration": 266,
    "start_time": "2022-03-07T08:29:13.266Z"
   },
   {
    "duration": 575,
    "start_time": "2022-03-07T08:29:13.534Z"
   },
   {
    "duration": 13,
    "start_time": "2022-03-07T08:29:14.112Z"
   },
   {
    "duration": 244,
    "start_time": "2022-03-07T08:29:14.128Z"
   },
   {
    "duration": 2435,
    "start_time": "2022-03-07T08:29:14.375Z"
   },
   {
    "duration": 12,
    "start_time": "2022-03-07T08:29:16.813Z"
   },
   {
    "duration": 257,
    "start_time": "2022-03-07T08:29:16.828Z"
   },
   {
    "duration": 384,
    "start_time": "2022-03-07T08:29:17.089Z"
   },
   {
    "duration": 13,
    "start_time": "2022-03-07T08:29:17.477Z"
   },
   {
    "duration": 260,
    "start_time": "2022-03-07T08:29:17.494Z"
   },
   {
    "duration": 2743,
    "start_time": "2022-03-07T08:29:17.756Z"
   },
   {
    "duration": 11,
    "start_time": "2022-03-07T08:29:20.501Z"
   },
   {
    "duration": 257,
    "start_time": "2022-03-07T08:29:20.515Z"
   },
   {
    "duration": 326,
    "start_time": "2022-03-07T08:29:20.775Z"
   },
   {
    "duration": 11,
    "start_time": "2022-03-07T08:29:21.104Z"
   },
   {
    "duration": 34,
    "start_time": "2022-03-07T08:29:21.118Z"
   },
   {
    "duration": 43,
    "start_time": "2022-03-07T08:29:21.155Z"
   },
   {
    "duration": 16,
    "start_time": "2022-03-07T08:29:21.200Z"
   },
   {
    "duration": 6803,
    "start_time": "2022-03-07T08:29:21.218Z"
   },
   {
    "duration": 2410,
    "start_time": "2022-03-07T08:29:28.024Z"
   },
   {
    "duration": 25,
    "start_time": "2022-03-07T08:29:30.436Z"
   },
   {
    "duration": 217,
    "start_time": "2022-03-07T08:29:30.464Z"
   },
   {
    "duration": 239,
    "start_time": "2022-03-07T08:29:30.683Z"
   },
   {
    "duration": 291,
    "start_time": "2022-03-07T08:29:30.925Z"
   },
   {
    "duration": 409,
    "start_time": "2022-03-07T08:29:31.219Z"
   },
   {
    "duration": -5439,
    "start_time": "2022-03-07T08:29:37.070Z"
   },
   {
    "duration": -5454,
    "start_time": "2022-03-07T08:29:37.086Z"
   },
   {
    "duration": -5466,
    "start_time": "2022-03-07T08:29:37.100Z"
   },
   {
    "duration": -5476,
    "start_time": "2022-03-07T08:29:37.111Z"
   },
   {
    "duration": -5495,
    "start_time": "2022-03-07T08:29:37.131Z"
   },
   {
    "duration": 327,
    "start_time": "2022-03-07T08:31:04.765Z"
   },
   {
    "duration": 35,
    "start_time": "2022-03-07T08:31:08.295Z"
   },
   {
    "duration": 9,
    "start_time": "2022-03-07T08:31:13.006Z"
   },
   {
    "duration": 80572,
    "start_time": "2022-03-07T08:31:15.049Z"
   },
   {
    "duration": 2665,
    "start_time": "2022-03-07T08:32:35.624Z"
   },
   {
    "duration": 1981,
    "start_time": "2022-03-07T08:32:38.292Z"
   },
   {
    "duration": 580,
    "start_time": "2022-03-07T08:33:00.393Z"
   },
   {
    "duration": 615,
    "start_time": "2022-03-07T08:35:55.811Z"
   },
   {
    "duration": 3014,
    "start_time": "2022-03-07T08:35:59.601Z"
   },
   {
    "duration": 587,
    "start_time": "2022-03-07T08:36:22.370Z"
   },
   {
    "duration": 1558,
    "start_time": "2022-03-07T08:50:42.781Z"
   },
   {
    "duration": 144,
    "start_time": "2022-03-07T08:50:44.342Z"
   },
   {
    "duration": 11,
    "start_time": "2022-03-07T08:50:44.489Z"
   },
   {
    "duration": 14,
    "start_time": "2022-03-07T08:50:44.503Z"
   },
   {
    "duration": 477,
    "start_time": "2022-03-07T08:50:44.520Z"
   },
   {
    "duration": 15,
    "start_time": "2022-03-07T08:50:45.000Z"
   },
   {
    "duration": 35,
    "start_time": "2022-03-07T08:50:45.018Z"
   },
   {
    "duration": 7,
    "start_time": "2022-03-07T08:50:45.059Z"
   },
   {
    "duration": 19,
    "start_time": "2022-03-07T08:50:45.071Z"
   },
   {
    "duration": 8,
    "start_time": "2022-03-07T08:50:45.093Z"
   },
   {
    "duration": 50,
    "start_time": "2022-03-07T08:50:45.104Z"
   },
   {
    "duration": 15,
    "start_time": "2022-03-07T08:50:45.156Z"
   },
   {
    "duration": 8,
    "start_time": "2022-03-07T08:50:45.173Z"
   },
   {
    "duration": 10,
    "start_time": "2022-03-07T08:50:45.184Z"
   },
   {
    "duration": 6,
    "start_time": "2022-03-07T08:50:45.196Z"
   },
   {
    "duration": 8,
    "start_time": "2022-03-07T08:50:45.252Z"
   },
   {
    "duration": 5,
    "start_time": "2022-03-07T08:50:45.263Z"
   },
   {
    "duration": 24,
    "start_time": "2022-03-07T08:50:45.271Z"
   },
   {
    "duration": 6,
    "start_time": "2022-03-07T08:50:45.297Z"
   },
   {
    "duration": 45,
    "start_time": "2022-03-07T08:50:45.306Z"
   },
   {
    "duration": 6,
    "start_time": "2022-03-07T08:50:45.353Z"
   },
   {
    "duration": 6,
    "start_time": "2022-03-07T08:50:45.362Z"
   },
   {
    "duration": 6,
    "start_time": "2022-03-07T08:50:45.374Z"
   },
   {
    "duration": 68,
    "start_time": "2022-03-07T08:50:45.383Z"
   },
   {
    "duration": 15,
    "start_time": "2022-03-07T08:50:45.454Z"
   },
   {
    "duration": 4,
    "start_time": "2022-03-07T08:50:45.472Z"
   },
   {
    "duration": 21,
    "start_time": "2022-03-07T08:50:45.479Z"
   },
   {
    "duration": 64,
    "start_time": "2022-03-07T08:50:45.503Z"
   },
   {
    "duration": 8,
    "start_time": "2022-03-07T08:50:45.569Z"
   },
   {
    "duration": 20,
    "start_time": "2022-03-07T08:50:45.579Z"
   },
   {
    "duration": 21,
    "start_time": "2022-03-07T08:50:45.602Z"
   },
   {
    "duration": 381,
    "start_time": "2022-03-07T08:50:45.626Z"
   },
   {
    "duration": 977,
    "start_time": "2022-03-07T08:50:46.011Z"
   },
   {
    "duration": 15,
    "start_time": "2022-03-07T08:50:46.991Z"
   },
   {
    "duration": 310,
    "start_time": "2022-03-07T08:50:47.009Z"
   },
   {
    "duration": 2495,
    "start_time": "2022-03-07T08:50:47.321Z"
   },
   {
    "duration": 9,
    "start_time": "2022-03-07T08:50:49.818Z"
   },
   {
    "duration": 239,
    "start_time": "2022-03-07T08:50:49.830Z"
   },
   {
    "duration": 372,
    "start_time": "2022-03-07T08:50:50.071Z"
   },
   {
    "duration": 15,
    "start_time": "2022-03-07T08:50:50.445Z"
   },
   {
    "duration": 244,
    "start_time": "2022-03-07T08:50:50.462Z"
   },
   {
    "duration": 2650,
    "start_time": "2022-03-07T08:50:50.709Z"
   },
   {
    "duration": 11,
    "start_time": "2022-03-07T08:50:53.362Z"
   },
   {
    "duration": 253,
    "start_time": "2022-03-07T08:50:53.375Z"
   },
   {
    "duration": 321,
    "start_time": "2022-03-07T08:50:53.630Z"
   },
   {
    "duration": 12,
    "start_time": "2022-03-07T08:50:53.954Z"
   },
   {
    "duration": 14,
    "start_time": "2022-03-07T08:50:53.968Z"
   },
   {
    "duration": 68,
    "start_time": "2022-03-07T08:50:53.984Z"
   },
   {
    "duration": 15,
    "start_time": "2022-03-07T08:50:54.054Z"
   },
   {
    "duration": 5934,
    "start_time": "2022-03-07T08:50:54.071Z"
   },
   {
    "duration": 2545,
    "start_time": "2022-03-07T08:51:00.009Z"
   },
   {
    "duration": 14,
    "start_time": "2022-03-07T08:51:02.558Z"
   },
   {
    "duration": 232,
    "start_time": "2022-03-07T08:51:02.575Z"
   },
   {
    "duration": 244,
    "start_time": "2022-03-07T08:51:02.811Z"
   },
   {
    "duration": 277,
    "start_time": "2022-03-07T08:51:03.058Z"
   },
   {
    "duration": 389,
    "start_time": "2022-03-07T08:51:03.338Z"
   },
   {
    "duration": -5432,
    "start_time": "2022-03-07T08:51:09.162Z"
   },
   {
    "duration": -5446,
    "start_time": "2022-03-07T08:51:09.178Z"
   },
   {
    "duration": -5455,
    "start_time": "2022-03-07T08:51:09.190Z"
   },
   {
    "duration": -5467,
    "start_time": "2022-03-07T08:51:09.204Z"
   },
   {
    "duration": -5478,
    "start_time": "2022-03-07T08:51:09.217Z"
   },
   {
    "duration": 30,
    "start_time": "2022-03-07T08:51:49.289Z"
   },
   {
    "duration": 9,
    "start_time": "2022-03-07T08:51:54.253Z"
   },
   {
    "duration": 572,
    "start_time": "2022-03-07T08:51:58.116Z"
   },
   {
    "duration": 2819,
    "start_time": "2022-03-07T08:52:02.527Z"
   },
   {
    "duration": 2006,
    "start_time": "2022-03-07T08:52:11.145Z"
   },
   {
    "duration": 86,
    "start_time": "2022-03-07T09:05:48.498Z"
   },
   {
    "duration": 88,
    "start_time": "2022-03-07T09:06:40.848Z"
   },
   {
    "duration": 78,
    "start_time": "2022-03-07T09:06:51.135Z"
   },
   {
    "duration": 263,
    "start_time": "2022-03-07T09:07:53.608Z"
   },
   {
    "duration": 83,
    "start_time": "2022-03-07T09:08:17.951Z"
   },
   {
    "duration": 276,
    "start_time": "2022-03-07T09:08:56.720Z"
   },
   {
    "duration": 85,
    "start_time": "2022-03-07T09:09:47.602Z"
   },
   {
    "duration": 77,
    "start_time": "2022-03-07T09:10:02.901Z"
   },
   {
    "duration": 300,
    "start_time": "2022-03-07T09:10:32.577Z"
   },
   {
    "duration": 88,
    "start_time": "2022-03-07T09:11:55.971Z"
   },
   {
    "duration": 274,
    "start_time": "2022-03-07T09:12:06.631Z"
   },
   {
    "duration": 5,
    "start_time": "2022-03-07T09:12:20.777Z"
   },
   {
    "duration": 13,
    "start_time": "2022-03-07T09:12:24.437Z"
   },
   {
    "duration": 277,
    "start_time": "2022-03-07T09:13:10.409Z"
   },
   {
    "duration": 257,
    "start_time": "2022-03-07T09:13:40.698Z"
   },
   {
    "duration": 78,
    "start_time": "2022-03-07T09:14:14.280Z"
   },
   {
    "duration": 70,
    "start_time": "2022-03-07T09:14:23.046Z"
   },
   {
    "duration": 266,
    "start_time": "2022-03-07T09:15:22.515Z"
   },
   {
    "duration": 87,
    "start_time": "2022-03-07T09:15:36.032Z"
   },
   {
    "duration": 315,
    "start_time": "2022-03-07T09:16:00.465Z"
   },
   {
    "duration": 247,
    "start_time": "2022-03-07T09:20:36.962Z"
   },
   {
    "duration": 85,
    "start_time": "2022-03-07T09:23:10.561Z"
   },
   {
    "duration": 232,
    "start_time": "2022-03-07T09:23:32.606Z"
   },
   {
    "duration": 348,
    "start_time": "2022-03-07T09:24:24.073Z"
   },
   {
    "duration": 232,
    "start_time": "2022-03-07T09:24:40.325Z"
   },
   {
    "duration": 234,
    "start_time": "2022-03-07T09:25:29.062Z"
   },
   {
    "duration": 249,
    "start_time": "2022-03-07T09:28:27.592Z"
   },
   {
    "duration": 18,
    "start_time": "2022-03-07T09:29:38.645Z"
   },
   {
    "duration": 228,
    "start_time": "2022-03-07T09:30:27.607Z"
   },
   {
    "duration": 596,
    "start_time": "2022-03-07T09:32:11.334Z"
   },
   {
    "duration": 2696,
    "start_time": "2022-03-07T09:32:18.905Z"
   },
   {
    "duration": 572,
    "start_time": "2022-03-07T09:47:53.915Z"
   },
   {
    "duration": 15,
    "start_time": "2022-03-07T10:22:18.250Z"
   },
   {
    "duration": 260,
    "start_time": "2022-03-07T10:23:14.985Z"
   },
   {
    "duration": 783,
    "start_time": "2022-03-07T10:24:16.656Z"
   },
   {
    "duration": 308,
    "start_time": "2022-03-07T10:25:00.897Z"
   },
   {
    "duration": 685,
    "start_time": "2022-03-07T10:26:06.797Z"
   },
   {
    "duration": 1270,
    "start_time": "2022-03-08T07:41:30.185Z"
   },
   {
    "duration": 99,
    "start_time": "2022-03-08T07:41:31.457Z"
   },
   {
    "duration": 8,
    "start_time": "2022-03-08T07:41:31.558Z"
   },
   {
    "duration": 10,
    "start_time": "2022-03-08T07:41:31.578Z"
   },
   {
    "duration": 315,
    "start_time": "2022-03-08T07:41:31.589Z"
   },
   {
    "duration": 8,
    "start_time": "2022-03-08T07:41:31.906Z"
   },
   {
    "duration": 8,
    "start_time": "2022-03-08T07:41:31.916Z"
   },
   {
    "duration": 14,
    "start_time": "2022-03-08T07:41:31.927Z"
   },
   {
    "duration": 16,
    "start_time": "2022-03-08T07:41:31.943Z"
   },
   {
    "duration": 19,
    "start_time": "2022-03-08T07:41:31.960Z"
   },
   {
    "duration": 4,
    "start_time": "2022-03-08T07:41:31.981Z"
   },
   {
    "duration": 28,
    "start_time": "2022-03-08T07:41:31.987Z"
   },
   {
    "duration": 6,
    "start_time": "2022-03-08T07:41:32.016Z"
   },
   {
    "duration": 8,
    "start_time": "2022-03-08T07:41:32.024Z"
   },
   {
    "duration": 5,
    "start_time": "2022-03-08T07:41:32.033Z"
   },
   {
    "duration": 11,
    "start_time": "2022-03-08T07:41:32.040Z"
   },
   {
    "duration": 26,
    "start_time": "2022-03-08T07:41:32.052Z"
   },
   {
    "duration": 18,
    "start_time": "2022-03-08T07:41:32.080Z"
   },
   {
    "duration": 4,
    "start_time": "2022-03-08T07:41:32.100Z"
   },
   {
    "duration": 25,
    "start_time": "2022-03-08T07:41:32.105Z"
   },
   {
    "duration": 6,
    "start_time": "2022-03-08T07:41:32.132Z"
   },
   {
    "duration": 10,
    "start_time": "2022-03-08T07:41:32.140Z"
   },
   {
    "duration": 7,
    "start_time": "2022-03-08T07:41:32.153Z"
   },
   {
    "duration": 27,
    "start_time": "2022-03-08T07:41:32.162Z"
   },
   {
    "duration": 11,
    "start_time": "2022-03-08T07:41:32.191Z"
   },
   {
    "duration": 6,
    "start_time": "2022-03-08T07:41:32.203Z"
   },
   {
    "duration": 15,
    "start_time": "2022-03-08T07:41:32.211Z"
   },
   {
    "duration": 58,
    "start_time": "2022-03-08T07:41:32.228Z"
   },
   {
    "duration": 6,
    "start_time": "2022-03-08T07:41:32.288Z"
   },
   {
    "duration": 6,
    "start_time": "2022-03-08T07:41:32.296Z"
   },
   {
    "duration": 16,
    "start_time": "2022-03-08T07:41:32.304Z"
   },
   {
    "duration": 184,
    "start_time": "2022-03-08T07:41:32.322Z"
   },
   {
    "duration": 410,
    "start_time": "2022-03-08T07:41:32.508Z"
   },
   {
    "duration": 9,
    "start_time": "2022-03-08T07:41:32.920Z"
   },
   {
    "duration": 188,
    "start_time": "2022-03-08T07:41:32.931Z"
   },
   {
    "duration": 1621,
    "start_time": "2022-03-08T07:41:33.122Z"
   },
   {
    "duration": 9,
    "start_time": "2022-03-08T07:41:34.745Z"
   },
   {
    "duration": 165,
    "start_time": "2022-03-08T07:41:34.755Z"
   },
   {
    "duration": 266,
    "start_time": "2022-03-08T07:41:34.922Z"
   },
   {
    "duration": 9,
    "start_time": "2022-03-08T07:41:35.190Z"
   },
   {
    "duration": 183,
    "start_time": "2022-03-08T07:41:35.201Z"
   },
   {
    "duration": 1812,
    "start_time": "2022-03-08T07:41:35.386Z"
   },
   {
    "duration": 10,
    "start_time": "2022-03-08T07:41:37.200Z"
   },
   {
    "duration": 187,
    "start_time": "2022-03-08T07:41:37.212Z"
   },
   {
    "duration": 228,
    "start_time": "2022-03-08T07:41:37.401Z"
   },
   {
    "duration": 10,
    "start_time": "2022-03-08T07:41:37.631Z"
   },
   {
    "duration": 34,
    "start_time": "2022-03-08T07:41:37.643Z"
   },
   {
    "duration": 30,
    "start_time": "2022-03-08T07:41:37.679Z"
   },
   {
    "duration": 12,
    "start_time": "2022-03-08T07:41:37.711Z"
   },
   {
    "duration": 4318,
    "start_time": "2022-03-08T07:41:37.726Z"
   },
   {
    "duration": 1440,
    "start_time": "2022-03-08T07:41:42.046Z"
   },
   {
    "duration": 11,
    "start_time": "2022-03-08T07:41:43.488Z"
   },
   {
    "duration": 168,
    "start_time": "2022-03-08T07:41:43.501Z"
   },
   {
    "duration": 170,
    "start_time": "2022-03-08T07:41:43.671Z"
   },
   {
    "duration": 197,
    "start_time": "2022-03-08T07:41:43.843Z"
   },
   {
    "duration": 170,
    "start_time": "2022-03-08T07:41:44.042Z"
   },
   {
    "duration": 22,
    "start_time": "2022-03-08T07:41:44.214Z"
   },
   {
    "duration": 9,
    "start_time": "2022-03-08T07:41:44.238Z"
   },
   {
    "duration": 431,
    "start_time": "2022-03-08T07:41:44.249Z"
   },
   {
    "duration": 2141,
    "start_time": "2022-03-08T07:41:44.682Z"
   },
   {
    "duration": 1405,
    "start_time": "2022-03-08T07:41:46.825Z"
   },
   {
    "duration": 132,
    "start_time": "2022-03-08T07:43:25.868Z"
   },
   {
    "duration": 254,
    "start_time": "2022-03-09T12:58:57.646Z"
   },
   {
    "duration": 222,
    "start_time": "2022-03-09T13:19:21.037Z"
   },
   {
    "duration": 48,
    "start_time": "2022-03-21T09:23:16.953Z"
   },
   {
    "duration": 47,
    "start_time": "2022-03-21T15:03:51.793Z"
   },
   {
    "duration": 1389,
    "start_time": "2022-03-21T15:03:55.881Z"
   },
   {
    "duration": 123,
    "start_time": "2022-03-21T15:03:57.272Z"
   },
   {
    "duration": 4,
    "start_time": "2022-03-21T15:03:57.396Z"
   },
   {
    "duration": 13,
    "start_time": "2022-03-21T15:03:57.402Z"
   },
   {
    "duration": 190,
    "start_time": "2022-03-21T15:03:57.417Z"
   },
   {
    "duration": 7,
    "start_time": "2022-03-21T15:03:57.608Z"
   },
   {
    "duration": 10,
    "start_time": "2022-03-21T15:03:57.617Z"
   },
   {
    "duration": 13,
    "start_time": "2022-03-21T15:03:57.628Z"
   },
   {
    "duration": 16,
    "start_time": "2022-03-21T15:03:57.642Z"
   },
   {
    "duration": 20,
    "start_time": "2022-03-21T15:03:57.661Z"
   },
   {
    "duration": 5,
    "start_time": "2022-03-21T15:03:57.682Z"
   },
   {
    "duration": 18,
    "start_time": "2022-03-21T15:03:57.688Z"
   },
   {
    "duration": 5,
    "start_time": "2022-03-21T15:03:57.708Z"
   },
   {
    "duration": 11,
    "start_time": "2022-03-21T15:03:57.714Z"
   },
   {
    "duration": 8,
    "start_time": "2022-03-21T15:03:57.726Z"
   },
   {
    "duration": 10,
    "start_time": "2022-03-21T15:03:57.735Z"
   },
   {
    "duration": 5,
    "start_time": "2022-03-21T15:03:57.747Z"
   },
   {
    "duration": 41,
    "start_time": "2022-03-21T15:03:57.753Z"
   },
   {
    "duration": 4,
    "start_time": "2022-03-21T15:03:57.796Z"
   },
   {
    "duration": 5,
    "start_time": "2022-03-21T15:03:57.801Z"
   },
   {
    "duration": 4,
    "start_time": "2022-03-21T15:03:57.808Z"
   },
   {
    "duration": 8,
    "start_time": "2022-03-21T15:03:57.814Z"
   },
   {
    "duration": 8,
    "start_time": "2022-03-21T15:03:57.823Z"
   },
   {
    "duration": 13,
    "start_time": "2022-03-21T15:03:57.833Z"
   },
   {
    "duration": 43,
    "start_time": "2022-03-21T15:03:57.847Z"
   },
   {
    "duration": 5,
    "start_time": "2022-03-21T15:03:57.892Z"
   },
   {
    "duration": 15,
    "start_time": "2022-03-21T15:03:57.898Z"
   },
   {
    "duration": 9,
    "start_time": "2022-03-21T15:03:57.918Z"
   },
   {
    "duration": 5,
    "start_time": "2022-03-21T15:03:57.929Z"
   },
   {
    "duration": 3,
    "start_time": "2022-03-21T15:03:57.935Z"
   },
   {
    "duration": 8,
    "start_time": "2022-03-21T15:03:57.940Z"
   },
   {
    "duration": 162,
    "start_time": "2022-03-21T15:03:57.949Z"
   },
   {
    "duration": 257,
    "start_time": "2022-03-21T15:03:58.113Z"
   },
   {
    "duration": 12,
    "start_time": "2022-03-21T15:03:58.371Z"
   },
   {
    "duration": 127,
    "start_time": "2022-03-21T15:03:58.384Z"
   },
   {
    "duration": 1031,
    "start_time": "2022-03-21T15:03:58.513Z"
   },
   {
    "duration": 6,
    "start_time": "2022-03-21T15:03:59.545Z"
   },
   {
    "duration": 117,
    "start_time": "2022-03-21T15:03:59.553Z"
   },
   {
    "duration": 161,
    "start_time": "2022-03-21T15:03:59.672Z"
   },
   {
    "duration": 6,
    "start_time": "2022-03-21T15:03:59.835Z"
   },
   {
    "duration": 124,
    "start_time": "2022-03-21T15:03:59.843Z"
   },
   {
    "duration": 1374,
    "start_time": "2022-03-21T15:03:59.968Z"
   },
   {
    "duration": 9,
    "start_time": "2022-03-21T15:04:01.343Z"
   },
   {
    "duration": 142,
    "start_time": "2022-03-21T15:04:01.354Z"
   },
   {
    "duration": 157,
    "start_time": "2022-03-21T15:04:01.498Z"
   },
   {
    "duration": 8,
    "start_time": "2022-03-21T15:04:01.657Z"
   },
   {
    "duration": 24,
    "start_time": "2022-03-21T15:04:01.667Z"
   },
   {
    "duration": 32,
    "start_time": "2022-03-21T15:04:01.693Z"
   },
   {
    "duration": 11,
    "start_time": "2022-03-21T15:04:01.726Z"
   },
   {
    "duration": 1442,
    "start_time": "2022-03-21T15:04:01.739Z"
   },
   {
    "duration": 675,
    "start_time": "2022-03-21T15:04:03.183Z"
   },
   {
    "duration": 21,
    "start_time": "2022-03-21T15:04:03.860Z"
   },
   {
    "duration": 85,
    "start_time": "2022-03-21T15:04:03.883Z"
   },
   {
    "duration": 112,
    "start_time": "2022-03-21T15:04:03.969Z"
   },
   {
    "duration": 125,
    "start_time": "2022-03-21T15:04:04.082Z"
   },
   {
    "duration": 102,
    "start_time": "2022-03-21T15:04:04.208Z"
   },
   {
    "duration": 19,
    "start_time": "2022-03-21T15:04:04.312Z"
   },
   {
    "duration": 7,
    "start_time": "2022-03-21T15:04:04.333Z"
   },
   {
    "duration": 289,
    "start_time": "2022-03-21T15:04:04.342Z"
   },
   {
    "duration": 1060,
    "start_time": "2022-03-21T15:04:04.633Z"
   },
   {
    "duration": 813,
    "start_time": "2022-03-21T15:04:05.695Z"
   },
   {
    "duration": 52,
    "start_time": "2022-03-26T17:45:01.560Z"
   },
   {
    "duration": 1528,
    "start_time": "2022-03-26T17:45:07.531Z"
   },
   {
    "duration": 137,
    "start_time": "2022-03-26T17:45:09.061Z"
   },
   {
    "duration": 5,
    "start_time": "2022-03-26T17:45:09.200Z"
   },
   {
    "duration": 30,
    "start_time": "2022-03-26T17:45:09.207Z"
   },
   {
    "duration": 244,
    "start_time": "2022-03-26T17:45:09.239Z"
   },
   {
    "duration": 9,
    "start_time": "2022-03-26T17:45:09.485Z"
   },
   {
    "duration": 5,
    "start_time": "2022-03-26T17:45:09.496Z"
   },
   {
    "duration": 9,
    "start_time": "2022-03-26T17:45:09.502Z"
   },
   {
    "duration": 29,
    "start_time": "2022-03-26T17:45:09.513Z"
   },
   {
    "duration": 6,
    "start_time": "2022-03-26T17:45:09.545Z"
   },
   {
    "duration": 11,
    "start_time": "2022-03-26T17:45:09.552Z"
   },
   {
    "duration": 21,
    "start_time": "2022-03-26T17:45:09.565Z"
   },
   {
    "duration": 6,
    "start_time": "2022-03-26T17:45:09.588Z"
   },
   {
    "duration": 38,
    "start_time": "2022-03-26T17:45:09.596Z"
   },
   {
    "duration": 5,
    "start_time": "2022-03-26T17:45:09.636Z"
   },
   {
    "duration": 15,
    "start_time": "2022-03-26T17:45:09.642Z"
   },
   {
    "duration": 12,
    "start_time": "2022-03-26T17:45:09.659Z"
   },
   {
    "duration": 36,
    "start_time": "2022-03-26T17:45:09.673Z"
   },
   {
    "duration": 6,
    "start_time": "2022-03-26T17:45:09.711Z"
   },
   {
    "duration": 19,
    "start_time": "2022-03-26T17:45:09.719Z"
   },
   {
    "duration": 7,
    "start_time": "2022-03-26T17:45:09.740Z"
   },
   {
    "duration": 9,
    "start_time": "2022-03-26T17:45:09.748Z"
   },
   {
    "duration": 10,
    "start_time": "2022-03-26T17:45:09.759Z"
   },
   {
    "duration": 15,
    "start_time": "2022-03-26T17:45:09.771Z"
   },
   {
    "duration": 12,
    "start_time": "2022-03-26T17:45:09.788Z"
   },
   {
    "duration": 34,
    "start_time": "2022-03-26T17:45:09.801Z"
   },
   {
    "duration": 17,
    "start_time": "2022-03-26T17:45:09.837Z"
   },
   {
    "duration": 10,
    "start_time": "2022-03-26T17:45:09.859Z"
   },
   {
    "duration": 5,
    "start_time": "2022-03-26T17:45:09.870Z"
   },
   {
    "duration": 5,
    "start_time": "2022-03-26T17:45:09.877Z"
   },
   {
    "duration": 11,
    "start_time": "2022-03-26T17:45:09.884Z"
   },
   {
    "duration": 192,
    "start_time": "2022-03-26T17:45:09.897Z"
   },
   {
    "duration": 298,
    "start_time": "2022-03-26T17:45:10.091Z"
   },
   {
    "duration": 9,
    "start_time": "2022-03-26T17:45:10.390Z"
   },
   {
    "duration": 150,
    "start_time": "2022-03-26T17:45:10.401Z"
   },
   {
    "duration": 1198,
    "start_time": "2022-03-26T17:45:10.552Z"
   },
   {
    "duration": 9,
    "start_time": "2022-03-26T17:45:11.752Z"
   },
   {
    "duration": 136,
    "start_time": "2022-03-26T17:45:11.763Z"
   },
   {
    "duration": 202,
    "start_time": "2022-03-26T17:45:11.901Z"
   },
   {
    "duration": 10,
    "start_time": "2022-03-26T17:45:12.105Z"
   },
   {
    "duration": 157,
    "start_time": "2022-03-26T17:45:12.117Z"
   },
   {
    "duration": 1385,
    "start_time": "2022-03-26T17:45:12.277Z"
   },
   {
    "duration": 9,
    "start_time": "2022-03-26T17:45:13.665Z"
   },
   {
    "duration": 161,
    "start_time": "2022-03-26T17:45:13.676Z"
   },
   {
    "duration": 169,
    "start_time": "2022-03-26T17:45:13.839Z"
   },
   {
    "duration": 23,
    "start_time": "2022-03-26T17:45:14.010Z"
   },
   {
    "duration": 10,
    "start_time": "2022-03-26T17:45:14.035Z"
   },
   {
    "duration": 37,
    "start_time": "2022-03-26T17:45:14.046Z"
   },
   {
    "duration": 12,
    "start_time": "2022-03-26T17:45:14.085Z"
   },
   {
    "duration": 1757,
    "start_time": "2022-03-26T17:45:14.099Z"
   },
   {
    "duration": 733,
    "start_time": "2022-03-26T17:45:15.858Z"
   },
   {
    "duration": 10,
    "start_time": "2022-03-26T17:45:16.593Z"
   },
   {
    "duration": 120,
    "start_time": "2022-03-26T17:45:16.605Z"
   },
   {
    "duration": 128,
    "start_time": "2022-03-26T17:45:16.727Z"
   },
   {
    "duration": 154,
    "start_time": "2022-03-26T17:45:16.857Z"
   },
   {
    "duration": 134,
    "start_time": "2022-03-26T17:45:17.013Z"
   },
   {
    "duration": 20,
    "start_time": "2022-03-26T17:45:17.149Z"
   },
   {
    "duration": 8,
    "start_time": "2022-03-26T17:45:17.171Z"
   },
   {
    "duration": 366,
    "start_time": "2022-03-26T17:45:17.181Z"
   },
   {
    "duration": 328,
    "start_time": "2022-03-26T17:45:17.549Z"
   },
   {
    "duration": 1264,
    "start_time": "2022-03-26T17:45:17.879Z"
   },
   {
    "duration": 969,
    "start_time": "2022-03-26T17:45:19.145Z"
   },
   {
    "duration": 325,
    "start_time": "2022-03-26T17:45:42.681Z"
   },
   {
    "duration": 1270,
    "start_time": "2022-03-26T17:48:06.064Z"
   },
   {
    "duration": 134,
    "start_time": "2022-03-26T17:48:07.336Z"
   },
   {
    "duration": 4,
    "start_time": "2022-03-26T17:48:07.472Z"
   },
   {
    "duration": 13,
    "start_time": "2022-03-26T17:48:07.478Z"
   },
   {
    "duration": 255,
    "start_time": "2022-03-26T17:48:07.493Z"
   },
   {
    "duration": 9,
    "start_time": "2022-03-26T17:48:07.750Z"
   },
   {
    "duration": 9,
    "start_time": "2022-03-26T17:48:07.761Z"
   },
   {
    "duration": 10,
    "start_time": "2022-03-26T17:48:07.772Z"
   },
   {
    "duration": 12,
    "start_time": "2022-03-26T17:48:07.784Z"
   },
   {
    "duration": 32,
    "start_time": "2022-03-26T17:48:07.800Z"
   },
   {
    "duration": 4,
    "start_time": "2022-03-26T17:48:07.835Z"
   },
   {
    "duration": 19,
    "start_time": "2022-03-26T17:48:07.841Z"
   },
   {
    "duration": 6,
    "start_time": "2022-03-26T17:48:07.862Z"
   },
   {
    "duration": 11,
    "start_time": "2022-03-26T17:48:07.869Z"
   },
   {
    "duration": 5,
    "start_time": "2022-03-26T17:48:07.881Z"
   },
   {
    "duration": 11,
    "start_time": "2022-03-26T17:48:07.888Z"
   },
   {
    "duration": 5,
    "start_time": "2022-03-26T17:48:07.931Z"
   },
   {
    "duration": 20,
    "start_time": "2022-03-26T17:48:07.937Z"
   },
   {
    "duration": 4,
    "start_time": "2022-03-26T17:48:07.959Z"
   },
   {
    "duration": 7,
    "start_time": "2022-03-26T17:48:07.965Z"
   },
   {
    "duration": 6,
    "start_time": "2022-03-26T17:48:07.974Z"
   },
   {
    "duration": 6,
    "start_time": "2022-03-26T17:48:07.982Z"
   },
   {
    "duration": 9,
    "start_time": "2022-03-26T17:48:07.989Z"
   },
   {
    "duration": 45,
    "start_time": "2022-03-26T17:48:07.999Z"
   },
   {
    "duration": 11,
    "start_time": "2022-03-26T17:48:08.045Z"
   },
   {
    "duration": 8,
    "start_time": "2022-03-26T17:48:08.057Z"
   },
   {
    "duration": 15,
    "start_time": "2022-03-26T17:48:08.067Z"
   },
   {
    "duration": 10,
    "start_time": "2022-03-26T17:48:08.086Z"
   },
   {
    "duration": 37,
    "start_time": "2022-03-26T17:48:08.098Z"
   },
   {
    "duration": 5,
    "start_time": "2022-03-26T17:48:08.137Z"
   },
   {
    "duration": 11,
    "start_time": "2022-03-26T17:48:08.144Z"
   },
   {
    "duration": 182,
    "start_time": "2022-03-26T17:48:08.157Z"
   },
   {
    "duration": 303,
    "start_time": "2022-03-26T17:48:08.341Z"
   },
   {
    "duration": 9,
    "start_time": "2022-03-26T17:48:08.647Z"
   },
   {
    "duration": 154,
    "start_time": "2022-03-26T17:48:08.657Z"
   },
   {
    "duration": 1226,
    "start_time": "2022-03-26T17:48:08.814Z"
   },
   {
    "duration": 9,
    "start_time": "2022-03-26T17:48:10.042Z"
   },
   {
    "duration": 140,
    "start_time": "2022-03-26T17:48:10.054Z"
   },
   {
    "duration": 202,
    "start_time": "2022-03-26T17:48:10.197Z"
   },
   {
    "duration": 9,
    "start_time": "2022-03-26T17:48:10.401Z"
   },
   {
    "duration": 165,
    "start_time": "2022-03-26T17:48:10.412Z"
   },
   {
    "duration": 1368,
    "start_time": "2022-03-26T17:48:10.579Z"
   },
   {
    "duration": 9,
    "start_time": "2022-03-26T17:48:11.949Z"
   },
   {
    "duration": 157,
    "start_time": "2022-03-26T17:48:11.960Z"
   },
   {
    "duration": 175,
    "start_time": "2022-03-26T17:48:12.118Z"
   },
   {
    "duration": 10,
    "start_time": "2022-03-26T17:48:12.295Z"
   },
   {
    "duration": 26,
    "start_time": "2022-03-26T17:48:12.306Z"
   },
   {
    "duration": 32,
    "start_time": "2022-03-26T17:48:12.334Z"
   },
   {
    "duration": 12,
    "start_time": "2022-03-26T17:48:12.368Z"
   },
   {
    "duration": 1819,
    "start_time": "2022-03-26T17:48:12.382Z"
   },
   {
    "duration": 786,
    "start_time": "2022-03-26T17:48:14.203Z"
   },
   {
    "duration": 9,
    "start_time": "2022-03-26T17:48:14.991Z"
   },
   {
    "duration": 146,
    "start_time": "2022-03-26T17:48:15.003Z"
   },
   {
    "duration": 139,
    "start_time": "2022-03-26T17:48:15.151Z"
   },
   {
    "duration": 163,
    "start_time": "2022-03-26T17:48:15.292Z"
   },
   {
    "duration": 130,
    "start_time": "2022-03-26T17:48:15.457Z"
   },
   {
    "duration": 19,
    "start_time": "2022-03-26T17:48:15.589Z"
   },
   {
    "duration": 22,
    "start_time": "2022-03-26T17:48:15.610Z"
   },
   {
    "duration": 330,
    "start_time": "2022-03-26T17:48:15.634Z"
   },
   {
    "duration": 336,
    "start_time": "2022-03-26T17:48:15.966Z"
   },
   {
    "duration": 1227,
    "start_time": "2022-03-26T17:48:16.304Z"
   },
   {
    "duration": 983,
    "start_time": "2022-03-26T17:48:17.533Z"
   },
   {
    "duration": 321,
    "start_time": "2022-03-26T17:48:56.016Z"
   },
   {
    "duration": 343,
    "start_time": "2022-03-26T17:49:22.742Z"
   },
   {
    "duration": 355,
    "start_time": "2022-03-26T17:49:40.623Z"
   },
   {
    "duration": 47,
    "start_time": "2022-04-08T10:38:19.714Z"
   },
   {
    "duration": 1867,
    "start_time": "2022-10-24T16:22:20.690Z"
   },
   {
    "duration": 112,
    "start_time": "2022-10-24T16:22:22.559Z"
   },
   {
    "duration": 42,
    "start_time": "2022-10-24T16:22:22.672Z"
   },
   {
    "duration": 0,
    "start_time": "2022-10-24T16:22:22.717Z"
   },
   {
    "duration": 0,
    "start_time": "2022-10-24T16:22:22.718Z"
   },
   {
    "duration": 0,
    "start_time": "2022-10-24T16:22:22.719Z"
   },
   {
    "duration": 0,
    "start_time": "2022-10-24T16:22:22.720Z"
   },
   {
    "duration": 0,
    "start_time": "2022-10-24T16:22:22.721Z"
   },
   {
    "duration": 0,
    "start_time": "2022-10-24T16:22:22.722Z"
   },
   {
    "duration": 1,
    "start_time": "2022-10-24T16:22:22.723Z"
   },
   {
    "duration": 0,
    "start_time": "2022-10-24T16:22:22.725Z"
   },
   {
    "duration": 0,
    "start_time": "2022-10-24T16:22:22.726Z"
   },
   {
    "duration": 0,
    "start_time": "2022-10-24T16:22:22.726Z"
   },
   {
    "duration": 0,
    "start_time": "2022-10-24T16:22:22.728Z"
   },
   {
    "duration": 1,
    "start_time": "2022-10-24T16:22:22.728Z"
   },
   {
    "duration": 0,
    "start_time": "2022-10-24T16:22:22.730Z"
   },
   {
    "duration": 0,
    "start_time": "2022-10-24T16:22:22.731Z"
   },
   {
    "duration": 0,
    "start_time": "2022-10-24T16:22:22.732Z"
   },
   {
    "duration": 0,
    "start_time": "2022-10-24T16:22:22.733Z"
   },
   {
    "duration": 0,
    "start_time": "2022-10-24T16:22:22.734Z"
   },
   {
    "duration": 0,
    "start_time": "2022-10-24T16:22:22.735Z"
   },
   {
    "duration": 0,
    "start_time": "2022-10-24T16:22:22.736Z"
   },
   {
    "duration": 0,
    "start_time": "2022-10-24T16:22:22.737Z"
   },
   {
    "duration": 0,
    "start_time": "2022-10-24T16:22:22.738Z"
   },
   {
    "duration": 0,
    "start_time": "2022-10-24T16:22:22.739Z"
   },
   {
    "duration": 0,
    "start_time": "2022-10-24T16:22:22.740Z"
   },
   {
    "duration": 0,
    "start_time": "2022-10-24T16:22:22.741Z"
   },
   {
    "duration": 0,
    "start_time": "2022-10-24T16:22:22.742Z"
   },
   {
    "duration": 0,
    "start_time": "2022-10-24T16:22:22.743Z"
   },
   {
    "duration": 0,
    "start_time": "2022-10-24T16:22:22.744Z"
   },
   {
    "duration": 0,
    "start_time": "2022-10-24T16:22:22.755Z"
   },
   {
    "duration": 0,
    "start_time": "2022-10-24T16:22:22.756Z"
   },
   {
    "duration": 0,
    "start_time": "2022-10-24T16:22:22.757Z"
   },
   {
    "duration": 0,
    "start_time": "2022-10-24T16:22:22.759Z"
   },
   {
    "duration": 0,
    "start_time": "2022-10-24T16:22:22.760Z"
   },
   {
    "duration": 0,
    "start_time": "2022-10-24T16:22:22.762Z"
   },
   {
    "duration": 0,
    "start_time": "2022-10-24T16:22:22.763Z"
   },
   {
    "duration": 0,
    "start_time": "2022-10-24T16:22:22.764Z"
   },
   {
    "duration": 0,
    "start_time": "2022-10-24T16:22:22.765Z"
   },
   {
    "duration": 0,
    "start_time": "2022-10-24T16:22:22.766Z"
   },
   {
    "duration": 0,
    "start_time": "2022-10-24T16:22:22.767Z"
   },
   {
    "duration": 0,
    "start_time": "2022-10-24T16:22:22.768Z"
   },
   {
    "duration": 0,
    "start_time": "2022-10-24T16:22:22.823Z"
   },
   {
    "duration": 0,
    "start_time": "2022-10-24T16:22:22.824Z"
   },
   {
    "duration": 0,
    "start_time": "2022-10-24T16:22:22.825Z"
   },
   {
    "duration": 0,
    "start_time": "2022-10-24T16:22:22.825Z"
   },
   {
    "duration": 0,
    "start_time": "2022-10-24T16:22:22.826Z"
   },
   {
    "duration": 0,
    "start_time": "2022-10-24T16:22:22.827Z"
   },
   {
    "duration": 0,
    "start_time": "2022-10-24T16:22:22.828Z"
   },
   {
    "duration": 0,
    "start_time": "2022-10-24T16:22:22.829Z"
   },
   {
    "duration": 0,
    "start_time": "2022-10-24T16:22:22.830Z"
   },
   {
    "duration": 0,
    "start_time": "2022-10-24T16:22:22.831Z"
   },
   {
    "duration": 0,
    "start_time": "2022-10-24T16:22:22.832Z"
   },
   {
    "duration": 0,
    "start_time": "2022-10-24T16:22:22.833Z"
   },
   {
    "duration": 0,
    "start_time": "2022-10-24T16:22:22.834Z"
   },
   {
    "duration": 0,
    "start_time": "2022-10-24T16:22:22.835Z"
   },
   {
    "duration": 0,
    "start_time": "2022-10-24T16:22:22.836Z"
   },
   {
    "duration": 0,
    "start_time": "2022-10-24T16:22:22.837Z"
   },
   {
    "duration": 0,
    "start_time": "2022-10-24T16:22:22.838Z"
   },
   {
    "duration": 0,
    "start_time": "2022-10-24T16:22:22.839Z"
   },
   {
    "duration": 0,
    "start_time": "2022-10-24T16:22:22.840Z"
   },
   {
    "duration": 0,
    "start_time": "2022-10-24T16:22:22.841Z"
   },
   {
    "duration": 116,
    "start_time": "2022-10-24T16:23:34.347Z"
   },
   {
    "duration": 106,
    "start_time": "2022-10-24T16:23:42.801Z"
   },
   {
    "duration": 13,
    "start_time": "2022-10-24T16:23:49.205Z"
   }
  ],
  "kernelspec": {
   "display_name": "Python 3 (ipykernel)",
   "language": "python",
   "name": "python3"
  },
  "language_info": {
   "codemirror_mode": {
    "name": "ipython",
    "version": 3
   },
   "file_extension": ".py",
   "mimetype": "text/x-python",
   "name": "python",
   "nbconvert_exporter": "python",
   "pygments_lexer": "ipython3",
   "version": "3.9.5"
  },
  "toc": {
   "base_numbering": 1,
   "nav_menu": {},
   "number_sections": true,
   "sideBar": true,
   "skip_h1_title": true,
   "title_cell": "Содержание",
   "title_sidebar": "Contents",
   "toc_cell": true,
   "toc_position": {},
   "toc_section_display": true,
   "toc_window_display": false
  }
 },
 "nbformat": 4,
 "nbformat_minor": 4
}

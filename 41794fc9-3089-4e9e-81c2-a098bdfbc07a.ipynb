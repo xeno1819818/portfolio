{
 "cells": [
  {
   "cell_type": "markdown",
   "metadata": {},
   "source": [
    "<div style=\"border:solid green 2px; padding: 20px\">\n",
    "\n",
    "<b>Привет, Андрей! Поздравляю с выполнением очередного проекта!</b>\n",
    "\n",
    "Меня зовут Петр Раздобреев и я буду проверять твою работу. Попробую помочь сделать тебе её еще лучше! В Практикуме принято общени на ты, но если это дискомфортно, то сообщи об этом)\n",
    "\n",
    "Ниже ты найдешь мои комментарии - пожалуйста, не перемещай, не изменяй и не удаляй их. Я буду использовать цветовую разметку:\n",
    "\n",
    "<div class=\"alert alert-danger\">\n",
    "<b>Комментарий ревьюера:</b>☁️Так выделены самые важные замечания. Без их отработки проект не будет принят. </div>\n",
    "\n",
    "<div class=\"alert alert-warning\">\n",
    "<b>Комментарий ревьюера:</b>⛅️ Так выделены небольшие замечания.Такие замечания в проекте допустимы, это пространство для улучшений в будущем.\n",
    "</div>\n",
    "\n",
    "<div class=\"alert alert-success\">\n",
    "<b>Комментарий ревьюера:</b>☀️Так я выделяю успешные идеи.</div>\n",
    "\n",
    "Давай работать над проектом в диалоге: если ты что-то меняешь в проекте или отвечаешь на мои комменатри — пиши об этом. Мне будет легче отследить изменения, если ты выделишь свои комментарии:\n",
    "<div class=\"alert alert-info\"> <b>Комментарий студента:</b> Например, вот так.</div>\n",
    "\n",
    "Всё это поможет выполнить повторную проверку твоего проекта оперативнее. \n",
    "    \n",
    "\n"
   ]
  },
  {
   "cell_type": "markdown",
   "metadata": {},
   "source": [
    "# Анализ объектов общественного питания в Москве"
   ]
  },
  {
   "cell_type": "markdown",
   "metadata": {},
   "source": [
    "Описание проекта\n",
    "\n",
    "Вы решили открыть небольшое кафе в Москве. Оно оригинальное — гостей должны обслуживать роботы. Проект многообещающий, но дорогой. Вместе с партнёрами вы решились обратиться к инвесторам. Их интересует текущее положение дел на рынке — сможете ли вы снискать популярность на долгое время, когда все зеваки насмотрятся на роботов-официантов?\n",
    "Вы — гуру аналитики, и партнёры просят вас подготовить исследование рынка. У вас есть открытые данные о заведениях общественного питания в Москве.\n",
    "\n",
    "Описание данных\n",
    "таблица rest_data:\n",
    "\n",
    "    id — идентификатор объекта;\n",
    "    object_name — название объекта общественного питания;\n",
    "    chain — сетевой ресторан;\n",
    "    object_type — тип объекта общественного питания;\n",
    "    address — адрес;\n",
    "    number — количество посадочных мест."
   ]
  },
  {
   "cell_type": "code",
   "execution_count": 32,
   "metadata": {},
   "outputs": [],
   "source": [
    "import pandas as pd\n",
    "import numpy as np\n",
    "import seaborn as sbn\n",
    "import matplotlib.pyplot as plt\n",
    "from scipy import stats as st\n",
    "import plotly.express as px\n",
    "from plotly import graph_objects as go\n"
   ]
  },
  {
   "cell_type": "markdown",
   "metadata": {},
   "source": [
    "## Загрузка данных и подготовка их к анализу"
   ]
  },
  {
   "cell_type": "code",
   "execution_count": 33,
   "metadata": {},
   "outputs": [
    {
     "data": {
      "text/html": [
       "<div>\n",
       "<style scoped>\n",
       "    .dataframe tbody tr th:only-of-type {\n",
       "        vertical-align: middle;\n",
       "    }\n",
       "\n",
       "    .dataframe tbody tr th {\n",
       "        vertical-align: top;\n",
       "    }\n",
       "\n",
       "    .dataframe thead th {\n",
       "        text-align: right;\n",
       "    }\n",
       "</style>\n",
       "<table border=\"1\" class=\"dataframe\">\n",
       "  <thead>\n",
       "    <tr style=\"text-align: right;\">\n",
       "      <th></th>\n",
       "      <th>id</th>\n",
       "      <th>object_name</th>\n",
       "      <th>chain</th>\n",
       "      <th>object_type</th>\n",
       "      <th>address</th>\n",
       "      <th>number</th>\n",
       "    </tr>\n",
       "  </thead>\n",
       "  <tbody>\n",
       "    <tr>\n",
       "      <th>0</th>\n",
       "      <td>151635</td>\n",
       "      <td>СМЕТАНА</td>\n",
       "      <td>нет</td>\n",
       "      <td>кафе</td>\n",
       "      <td>город Москва, улица Егора Абакумова, дом 9</td>\n",
       "      <td>48</td>\n",
       "    </tr>\n",
       "    <tr>\n",
       "      <th>1</th>\n",
       "      <td>77874</td>\n",
       "      <td>Родник</td>\n",
       "      <td>нет</td>\n",
       "      <td>кафе</td>\n",
       "      <td>город Москва, улица Талалихина, дом 2/1, корпус 1</td>\n",
       "      <td>35</td>\n",
       "    </tr>\n",
       "    <tr>\n",
       "      <th>2</th>\n",
       "      <td>24309</td>\n",
       "      <td>Кафе «Академия»</td>\n",
       "      <td>нет</td>\n",
       "      <td>кафе</td>\n",
       "      <td>город Москва, Абельмановская улица, дом 6</td>\n",
       "      <td>95</td>\n",
       "    </tr>\n",
       "    <tr>\n",
       "      <th>3</th>\n",
       "      <td>21894</td>\n",
       "      <td>ПИЦЦЕТОРИЯ</td>\n",
       "      <td>да</td>\n",
       "      <td>кафе</td>\n",
       "      <td>город Москва, Абрамцевская улица, дом 1</td>\n",
       "      <td>40</td>\n",
       "    </tr>\n",
       "    <tr>\n",
       "      <th>4</th>\n",
       "      <td>119365</td>\n",
       "      <td>Кафе «Вишневая метель»</td>\n",
       "      <td>нет</td>\n",
       "      <td>кафе</td>\n",
       "      <td>город Москва, Абрамцевская улица, дом 9, корпус 1</td>\n",
       "      <td>50</td>\n",
       "    </tr>\n",
       "  </tbody>\n",
       "</table>\n",
       "</div>"
      ],
      "text/plain": [
       "       id             object_name chain object_type  \\\n",
       "0  151635                 СМЕТАНА   нет        кафе   \n",
       "1   77874                  Родник   нет        кафе   \n",
       "2   24309         Кафе «Академия»   нет        кафе   \n",
       "3   21894              ПИЦЦЕТОРИЯ    да        кафе   \n",
       "4  119365  Кафе «Вишневая метель»   нет        кафе   \n",
       "\n",
       "                                             address  number  \n",
       "0         город Москва, улица Егора Абакумова, дом 9      48  \n",
       "1  город Москва, улица Талалихина, дом 2/1, корпус 1      35  \n",
       "2          город Москва, Абельмановская улица, дом 6      95  \n",
       "3            город Москва, Абрамцевская улица, дом 1      40  \n",
       "4  город Москва, Абрамцевская улица, дом 9, корпус 1      50  "
      ]
     },
     "execution_count": 33,
     "metadata": {},
     "output_type": "execute_result"
    }
   ],
   "source": [
    "rest_data=pd.read_csv('/datasets/rest_data.csv')\n",
    "rest_data.head()"
   ]
  },
  {
   "cell_type": "code",
   "execution_count": 34,
   "metadata": {},
   "outputs": [
    {
     "name": "stdout",
     "output_type": "stream",
     "text": [
      "<class 'pandas.core.frame.DataFrame'>\n",
      "RangeIndex: 15366 entries, 0 to 15365\n",
      "Data columns (total 6 columns):\n",
      " #   Column       Non-Null Count  Dtype \n",
      "---  ------       --------------  ----- \n",
      " 0   id           15366 non-null  int64 \n",
      " 1   object_name  15366 non-null  object\n",
      " 2   chain        15366 non-null  object\n",
      " 3   object_type  15366 non-null  object\n",
      " 4   address      15366 non-null  object\n",
      " 5   number       15366 non-null  int64 \n",
      "dtypes: int64(2), object(4)\n",
      "memory usage: 720.4+ KB\n"
     ]
    }
   ],
   "source": [
    "rest_data.info()"
   ]
  },
  {
   "cell_type": "markdown",
   "metadata": {},
   "source": [
    "По общей информации таблицы видно, что типы данных соотвествуют своему смыслу."
   ]
  },
  {
   "cell_type": "markdown",
   "metadata": {},
   "source": [
    "### Проверяем наличие пропущенных значений в таблице"
   ]
  },
  {
   "cell_type": "code",
   "execution_count": 35,
   "metadata": {},
   "outputs": [
    {
     "data": {
      "text/plain": [
       "id             0\n",
       "object_name    0\n",
       "chain          0\n",
       "object_type    0\n",
       "address        0\n",
       "number         0\n",
       "dtype: int64"
      ]
     },
     "execution_count": 35,
     "metadata": {},
     "output_type": "execute_result"
    }
   ],
   "source": [
    "rest_data.isna().sum()"
   ]
  },
  {
   "cell_type": "markdown",
   "metadata": {},
   "source": [
    "### Проверяем наличие дубликатов в таблице"
   ]
  },
  {
   "cell_type": "code",
   "execution_count": 36,
   "metadata": {},
   "outputs": [
    {
     "data": {
      "text/plain": [
       "82"
      ]
     },
     "execution_count": 36,
     "metadata": {},
     "output_type": "execute_result"
    }
   ],
   "source": [
    "rest_data[rest_data.columns[rest_data.columns != 'id']].duplicated().sum()"
   ]
  },
  {
   "cell_type": "code",
   "execution_count": 37,
   "metadata": {},
   "outputs": [],
   "source": [
    "#Удаляем дубликаты\n",
    "rest_data = rest_data.drop_duplicates(subset=['object_name', 'address', 'chain', 'object_type', 'number'])"
   ]
  },
  {
   "cell_type": "code",
   "execution_count": 38,
   "metadata": {},
   "outputs": [
    {
     "data": {
      "text/plain": [
       "0"
      ]
     },
     "execution_count": 38,
     "metadata": {},
     "output_type": "execute_result"
    }
   ],
   "source": [
    "#Проверяем наши изменения\n",
    "rest_data[rest_data.columns[rest_data.columns != 'id']].duplicated().sum()"
   ]
  },
  {
   "cell_type": "markdown",
   "metadata": {},
   "source": [
    "Выводы:\n",
    "\n",
    "Данные отобразились нормально. Типы данных соответствуют своим значениям. Пропущенные значения и дубликаты в таблице не обнаружены. Переходим к анализу данных."
   ]
  },
  {
   "cell_type": "markdown",
   "metadata": {},
   "source": [
    "## Анализ данных"
   ]
  },
  {
   "cell_type": "markdown",
   "metadata": {},
   "source": [
    "### Исследуем соотношение видов объектов общественного питания по количеству"
   ]
  },
  {
   "cell_type": "code",
   "execution_count": 39,
   "metadata": {},
   "outputs": [
    {
     "data": {
      "text/html": [
       "<div>\n",
       "<style scoped>\n",
       "    .dataframe tbody tr th:only-of-type {\n",
       "        vertical-align: middle;\n",
       "    }\n",
       "\n",
       "    .dataframe tbody tr th {\n",
       "        vertical-align: top;\n",
       "    }\n",
       "\n",
       "    .dataframe thead th {\n",
       "        text-align: right;\n",
       "    }\n",
       "</style>\n",
       "<table border=\"1\" class=\"dataframe\">\n",
       "  <thead>\n",
       "    <tr style=\"text-align: right;\">\n",
       "      <th>object_type</th>\n",
       "      <th>бар</th>\n",
       "      <th>буфет</th>\n",
       "      <th>закусочная</th>\n",
       "      <th>кафе</th>\n",
       "      <th>кафетерий</th>\n",
       "      <th>магазин (отдел кулинарии)</th>\n",
       "      <th>предприятие быстрого обслуживания</th>\n",
       "      <th>ресторан</th>\n",
       "      <th>столовая</th>\n",
       "    </tr>\n",
       "  </thead>\n",
       "  <tbody>\n",
       "    <tr>\n",
       "      <th>object_name</th>\n",
       "      <td>855</td>\n",
       "      <td>577</td>\n",
       "      <td>349</td>\n",
       "      <td>6071</td>\n",
       "      <td>395</td>\n",
       "      <td>273</td>\n",
       "      <td>1898</td>\n",
       "      <td>2282</td>\n",
       "      <td>2584</td>\n",
       "    </tr>\n",
       "  </tbody>\n",
       "</table>\n",
       "</div>"
      ],
      "text/plain": [
       "object_type  бар  буфет  закусочная  кафе  кафетерий  \\\n",
       "object_name  855    577         349  6071        395   \n",
       "\n",
       "object_type  магазин (отдел кулинарии)  предприятие быстрого обслуживания  \\\n",
       "object_name                        273                               1898   \n",
       "\n",
       "object_type  ресторан  столовая  \n",
       "object_name      2282      2584  "
      ]
     },
     "execution_count": 39,
     "metadata": {},
     "output_type": "execute_result"
    }
   ],
   "source": [
    "#Создадим сводную таблицу, в которой посчитаем количество объектов по каждому типу \n",
    "object_type_count=rest_data.pivot_table(columns='object_type', values='object_name', aggfunc='count')\n",
    "object_type_count\n"
   ]
  },
  {
   "cell_type": "code",
   "execution_count": 40,
   "metadata": {},
   "outputs": [
    {
     "data": {
      "text/plain": [
       "object_name    15284\n",
       "dtype: int64"
      ]
     },
     "execution_count": 40,
     "metadata": {},
     "output_type": "execute_result"
    }
   ],
   "source": [
    "object_type_count.sum(axis=1)"
   ]
  },
  {
   "cell_type": "code",
   "execution_count": 41,
   "metadata": {
    "scrolled": true
   },
   "outputs": [
    {
     "data": {
      "image/png": "[encoded data removed]",
      "text/plain": [
       "<Figure size 1800x720 with 1 Axes>"
      ]
     },
     "metadata": {
      "needs_background": "light"
     },
     "output_type": "display_data"
    }
   ],
   "source": [
    "#Построим график столбчатую диаграмму\n",
    "sbn.set_style()\n",
    "plt.figure(figsize=(25, 10))\n",
    "plt.rcParams['font.size'] = '16'\n",
    "\n",
    "sbn.barplot(data=object_type_count.sort_values(by='object_name', ascending=True, axis=1))\n",
    "plt.title('Количество типов объектов общественного питания')\n",
    "plt.ylabel('Количество объектов, шт')\n",
    "plt.xticks(rotation=25)\n",
    "plt.show()\n"
   ]
  },
  {
   "cell_type": "markdown",
   "metadata": {},
   "source": [
    "Большая часть объектов общественного питания представлена кафе, столовыми, ресторанами и предприятиями быстрого обслуживания. Львиную долю объектов составляют кафе, их доля 40%. Столовых - 17%, ресторанов - 15%,  предприятий быстрого обслуживания - 12,5%.\n"
   ]
  },
  {
   "cell_type": "markdown",
   "metadata": {},
   "source": [
    "### Исследуем соотношение сетевых и несетевых заведений по количеству"
   ]
  },
  {
   "cell_type": "code",
   "execution_count": 42,
   "metadata": {},
   "outputs": [
    {
     "data": {
      "text/html": [
       "<div>\n",
       "<style scoped>\n",
       "    .dataframe tbody tr th:only-of-type {\n",
       "        vertical-align: middle;\n",
       "    }\n",
       "\n",
       "    .dataframe tbody tr th {\n",
       "        vertical-align: top;\n",
       "    }\n",
       "\n",
       "    .dataframe thead th {\n",
       "        text-align: right;\n",
       "    }\n",
       "</style>\n",
       "<table border=\"1\" class=\"dataframe\">\n",
       "  <thead>\n",
       "    <tr style=\"text-align: right;\">\n",
       "      <th></th>\n",
       "      <th>object_name</th>\n",
       "    </tr>\n",
       "    <tr>\n",
       "      <th>chain</th>\n",
       "      <th></th>\n",
       "    </tr>\n",
       "  </thead>\n",
       "  <tbody>\n",
       "    <tr>\n",
       "      <th>да</th>\n",
       "      <td>2964</td>\n",
       "    </tr>\n",
       "    <tr>\n",
       "      <th>нет</th>\n",
       "      <td>12320</td>\n",
       "    </tr>\n",
       "  </tbody>\n",
       "</table>\n",
       "</div>"
      ],
      "text/plain": [
       "       object_name\n",
       "chain             \n",
       "да            2964\n",
       "нет          12320"
      ]
     },
     "execution_count": 42,
     "metadata": {},
     "output_type": "execute_result"
    }
   ],
   "source": [
    "#Создадим сводную таблицу для подсчета сетевых и не сетевых заведений\n",
    "\n",
    "chain_count=rest_data.pivot_table(index='chain', values='object_name', aggfunc='count')\n",
    "chain_count"
   ]
  },
  {
   "cell_type": "code",
   "execution_count": 43,
   "metadata": {},
   "outputs": [
    {
     "data": {
      "application/vnd.plotly.v1+json": {
       "config": {
        "plotlyServerURL": "https://plot.ly"
       },
       "data": [
        {
         "labels": [
          "сетевые",
          "не сетевые"
         ],
         "type": "pie",
         "values": [
          2964,
          12320
         ]
        }
       ],
       "layout": {
        "template": {
         "data": {
          "bar": [
           {
            "error_x": {
             "color": "#2a3f5f"
            },
            "error_y": {
             "color": "#2a3f5f"
            },
            "marker": {
             "line": {
              "color": "#E5ECF6",
              "width": 0.5
             },
             "pattern": {
              "fillmode": "overlay",
              "size": 10,
              "solidity": 0.2
             }
            },
            "type": "bar"
           }
          ],
          "barpolar": [
           {
            "marker": {
             "line": {
              "color": "#E5ECF6",
              "width": 0.5
             },
             "pattern": {
              "fillmode": "overlay",
              "size": 10,
              "solidity": 0.2
             }
            },
            "type": "barpolar"
           }
          ],
          "carpet": [
           {
            "aaxis": {
             "endlinecolor": "#2a3f5f",
             "gridcolor": "white",
             "linecolor": "white",
             "minorgridcolor": "white",
             "startlinecolor": "#2a3f5f"
            },
            "baxis": {
             "endlinecolor": "#2a3f5f",
             "gridcolor": "white",
             "linecolor": "white",
             "minorgridcolor": "white",
             "startlinecolor": "#2a3f5f"
            },
            "type": "carpet"
           }
          ],
          "choropleth": [
           {
            "colorbar": {
             "outlinewidth": 0,
             "ticks": ""
            },
            "type": "choropleth"
           }
          ],
          "contour": [
           {
            "colorbar": {
             "outlinewidth": 0,
             "ticks": ""
            },
            "colorscale": [
             [
              0,
              "#0d0887"
             ],
             [
              0.1111111111111111,
              "#46039f"
             ],
             [
              0.2222222222222222,
              "#7201a8"
             ],
             [
              0.3333333333333333,
              "#9c179e"
             ],
             [
              0.4444444444444444,
              "#bd3786"
             ],
             [
              0.5555555555555556,
              "#d8576b"
             ],
             [
              0.6666666666666666,
              "#ed7953"
             ],
             [
              0.7777777777777778,
              "#fb9f3a"
             ],
             [
              0.8888888888888888,
              "#fdca26"
             ],
             [
              1,
              "#f0f921"
             ]
            ],
            "type": "contour"
           }
          ],
          "contourcarpet": [
           {
            "colorbar": {
             "outlinewidth": 0,
             "ticks": ""
            },
            "type": "contourcarpet"
           }
          ],
          "heatmap": [
           {
            "colorbar": {
             "outlinewidth": 0,
             "ticks": ""
            },
            "colorscale": [
             [
              0,
              "#0d0887"
             ],
             [
              0.1111111111111111,
              "#46039f"
             ],
             [
              0.2222222222222222,
              "#7201a8"
             ],
             [
              0.3333333333333333,
              "#9c179e"
             ],
             [
              0.4444444444444444,
              "#bd3786"
             ],
             [
              0.5555555555555556,
              "#d8576b"
             ],
             [
              0.6666666666666666,
              "#ed7953"
             ],
             [
              0.7777777777777778,
              "#fb9f3a"
             ],
             [
              0.8888888888888888,
              "#fdca26"
             ],
             [
              1,
              "#f0f921"
             ]
            ],
            "type": "heatmap"
           }
          ],
          "heatmapgl": [
           {
            "colorbar": {
             "outlinewidth": 0,
             "ticks": ""
            },
            "colorscale": [
             [
              0,
              "#0d0887"
             ],
             [
              0.1111111111111111,
              "#46039f"
             ],
             [
              0.2222222222222222,
              "#7201a8"
             ],
             [
              0.3333333333333333,
              "#9c179e"
             ],
             [
              0.4444444444444444,
              "#bd3786"
             ],
             [
              0.5555555555555556,
              "#d8576b"
             ],
             [
              0.6666666666666666,
              "#ed7953"
             ],
             [
              0.7777777777777778,
              "#fb9f3a"
             ],
             [
              0.8888888888888888,
              "#fdca26"
             ],
             [
              1,
              "#f0f921"
             ]
            ],
            "type": "heatmapgl"
           }
          ],
          "histogram": [
           {
            "marker": {
             "pattern": {
              "fillmode": "overlay",
              "size": 10,
              "solidity": 0.2
             }
            },
            "type": "histogram"
           }
          ],
          "histogram2d": [
           {
            "colorbar": {
             "outlinewidth": 0,
             "ticks": ""
            },
            "colorscale": [
             [
              0,
              "#0d0887"
             ],
             [
              0.1111111111111111,
              "#46039f"
             ],
             [
              0.2222222222222222,
              "#7201a8"
             ],
             [
              0.3333333333333333,
              "#9c179e"
             ],
             [
              0.4444444444444444,
              "#bd3786"
             ],
             [
              0.5555555555555556,
              "#d8576b"
             ],
             [
              0.6666666666666666,
              "#ed7953"
             ],
             [
              0.7777777777777778,
              "#fb9f3a"
             ],
             [
              0.8888888888888888,
              "#fdca26"
             ],
             [
              1,
              "#f0f921"
             ]
            ],
            "type": "histogram2d"
           }
          ],
          "histogram2dcontour": [
           {
            "colorbar": {
             "outlinewidth": 0,
             "ticks": ""
            },
            "colorscale": [
             [
              0,
              "#0d0887"
             ],
             [
              0.1111111111111111,
              "#46039f"
             ],
             [
              0.2222222222222222,
              "#7201a8"
             ],
             [
              0.3333333333333333,
              "#9c179e"
             ],
             [
              0.4444444444444444,
              "#bd3786"
             ],
             [
              0.5555555555555556,
              "#d8576b"
             ],
             [
              0.6666666666666666,
              "#ed7953"
             ],
             [
              0.7777777777777778,
              "#fb9f3a"
             ],
             [
              0.8888888888888888,
              "#fdca26"
             ],
             [
              1,
              "#f0f921"
             ]
            ],
            "type": "histogram2dcontour"
           }
          ],
          "mesh3d": [
           {
            "colorbar": {
             "outlinewidth": 0,
             "ticks": ""
            },
            "type": "mesh3d"
           }
          ],
          "parcoords": [
           {
            "line": {
             "colorbar": {
              "outlinewidth": 0,
              "ticks": ""
             }
            },
            "type": "parcoords"
           }
          ],
          "pie": [
           {
            "automargin": true,
            "type": "pie"
           }
          ],
          "scatter": [
           {
            "marker": {
             "colorbar": {
              "outlinewidth": 0,
              "ticks": ""
             }
            },
            "type": "scatter"
           }
          ],
          "scatter3d": [
           {
            "line": {
             "colorbar": {
              "outlinewidth": 0,
              "ticks": ""
             }
            },
            "marker": {
             "colorbar": {
              "outlinewidth": 0,
              "ticks": ""
             }
            },
            "type": "scatter3d"
           }
          ],
          "scattercarpet": [
           {
            "marker": {
             "colorbar": {
              "outlinewidth": 0,
              "ticks": ""
             }
            },
            "type": "scattercarpet"
           }
          ],
          "scattergeo": [
           {
            "marker": {
             "colorbar": {
              "outlinewidth": 0,
              "ticks": ""
             }
            },
            "type": "scattergeo"
           }
          ],
          "scattergl": [
           {
            "marker": {
             "colorbar": {
              "outlinewidth": 0,
              "ticks": ""
             }
            },
            "type": "scattergl"
           }
          ],
          "scattermapbox": [
           {
            "marker": {
             "colorbar": {
              "outlinewidth": 0,
              "ticks": ""
             }
            },
            "type": "scattermapbox"
           }
          ],
          "scatterpolar": [
           {
            "marker": {
             "colorbar": {
              "outlinewidth": 0,
              "ticks": ""
             }
            },
            "type": "scatterpolar"
           }
          ],
          "scatterpolargl": [
           {
            "marker": {
             "colorbar": {
              "outlinewidth": 0,
              "ticks": ""
             }
            },
            "type": "scatterpolargl"
           }
          ],
          "scatterternary": [
           {
            "marker": {
             "colorbar": {
              "outlinewidth": 0,
              "ticks": ""
             }
            },
            "type": "scatterternary"
           }
          ],
          "surface": [
           {
            "colorbar": {
             "outlinewidth": 0,
             "ticks": ""
            },
            "colorscale": [
             [
              0,
              "#0d0887"
             ],
             [
              0.1111111111111111,
              "#46039f"
             ],
             [
              0.2222222222222222,
              "#7201a8"
             ],
             [
              0.3333333333333333,
              "#9c179e"
             ],
             [
              0.4444444444444444,
              "#bd3786"
             ],
             [
              0.5555555555555556,
              "#d8576b"
             ],
             [
              0.6666666666666666,
              "#ed7953"
             ],
             [
              0.7777777777777778,
              "#fb9f3a"
             ],
             [
              0.8888888888888888,
              "#fdca26"
             ],
             [
              1,
              "#f0f921"
             ]
            ],
            "type": "surface"
           }
          ],
          "table": [
           {
            "cells": {
             "fill": {
              "color": "#EBF0F8"
             },
             "line": {
              "color": "white"
             }
            },
            "header": {
             "fill": {
              "color": "#C8D4E3"
             },
             "line": {
              "color": "white"
             }
            },
            "type": "table"
           }
          ]
         },
         "layout": {
          "annotationdefaults": {
           "arrowcolor": "#2a3f5f",
           "arrowhead": 0,
           "arrowwidth": 1
          },
          "autotypenumbers": "strict",
          "coloraxis": {
           "colorbar": {
            "outlinewidth": 0,
            "ticks": ""
           }
          },
          "colorscale": {
           "diverging": [
            [
             0,
             "#8e0152"
            ],
            [
             0.1,
             "#c51b7d"
            ],
            [
             0.2,
             "#de77ae"
            ],
            [
             0.3,
             "#f1b6da"
            ],
            [
             0.4,
             "#fde0ef"
            ],
            [
             0.5,
             "#f7f7f7"
            ],
            [
             0.6,
             "#e6f5d0"
            ],
            [
             0.7,
             "#b8e186"
            ],
            [
             0.8,
             "#7fbc41"
            ],
            [
             0.9,
             "#4d9221"
            ],
            [
             1,
             "#276419"
            ]
           ],
           "sequential": [
            [
             0,
             "#0d0887"
            ],
            [
             0.1111111111111111,
             "#46039f"
            ],
            [
             0.2222222222222222,
             "#7201a8"
            ],
            [
             0.3333333333333333,
             "#9c179e"
            ],
            [
             0.4444444444444444,
             "#bd3786"
            ],
            [
             0.5555555555555556,
             "#d8576b"
            ],
            [
             0.6666666666666666,
             "#ed7953"
            ],
            [
             0.7777777777777778,
             "#fb9f3a"
            ],
            [
             0.8888888888888888,
             "#fdca26"
            ],
            [
             1,
             "#f0f921"
            ]
           ],
           "sequentialminus": [
            [
             0,
             "#0d0887"
            ],
            [
             0.1111111111111111,
             "#46039f"
            ],
            [
             0.2222222222222222,
             "#7201a8"
            ],
            [
             0.3333333333333333,
             "#9c179e"
            ],
            [
             0.4444444444444444,
             "#bd3786"
            ],
            [
             0.5555555555555556,
             "#d8576b"
            ],
            [
             0.6666666666666666,
             "#ed7953"
            ],
            [
             0.7777777777777778,
             "#fb9f3a"
            ],
            [
             0.8888888888888888,
             "#fdca26"
            ],
            [
             1,
             "#f0f921"
            ]
           ]
          },
          "colorway": [
           "#636efa",
           "#EF553B",
           "#00cc96",
           "#ab63fa",
           "#FFA15A",
           "#19d3f3",
           "#FF6692",
           "#B6E880",
           "#FF97FF",
           "#FECB52"
          ],
          "font": {
           "color": "#2a3f5f"
          },
          "geo": {
           "bgcolor": "white",
           "lakecolor": "white",
           "landcolor": "#E5ECF6",
           "showlakes": true,
           "showland": true,
           "subunitcolor": "white"
          },
          "hoverlabel": {
           "align": "left"
          },
          "hovermode": "closest",
          "mapbox": {
           "style": "light"
          },
          "paper_bgcolor": "white",
          "plot_bgcolor": "#E5ECF6",
          "polar": {
           "angularaxis": {
            "gridcolor": "white",
            "linecolor": "white",
            "ticks": ""
           },
           "bgcolor": "#E5ECF6",
           "radialaxis": {
            "gridcolor": "white",
            "linecolor": "white",
            "ticks": ""
           }
          },
          "scene": {
           "xaxis": {
            "backgroundcolor": "#E5ECF6",
            "gridcolor": "white",
            "gridwidth": 2,
            "linecolor": "white",
            "showbackground": true,
            "ticks": "",
            "zerolinecolor": "white"
           },
           "yaxis": {
            "backgroundcolor": "#E5ECF6",
            "gridcolor": "white",
            "gridwidth": 2,
            "linecolor": "white",
            "showbackground": true,
            "ticks": "",
            "zerolinecolor": "white"
           },
           "zaxis": {
            "backgroundcolor": "#E5ECF6",
            "gridcolor": "white",
            "gridwidth": 2,
            "linecolor": "white",
            "showbackground": true,
            "ticks": "",
            "zerolinecolor": "white"
           }
          },
          "shapedefaults": {
           "line": {
            "color": "#2a3f5f"
           }
          },
          "ternary": {
           "aaxis": {
            "gridcolor": "white",
            "linecolor": "white",
            "ticks": ""
           },
           "baxis": {
            "gridcolor": "white",
            "linecolor": "white",
            "ticks": ""
           },
           "bgcolor": "#E5ECF6",
           "caxis": {
            "gridcolor": "white",
            "linecolor": "white",
            "ticks": ""
           }
          },
          "title": {
           "x": 0.05
          },
          "xaxis": {
           "automargin": true,
           "gridcolor": "white",
           "linecolor": "white",
           "ticks": "",
           "title": {
            "standoff": 15
           },
           "zerolinecolor": "white",
           "zerolinewidth": 2
          },
          "yaxis": {
           "automargin": true,
           "gridcolor": "white",
           "linecolor": "white",
           "ticks": "",
           "title": {
            "standoff": 15
           },
           "zerolinecolor": "white",
           "zerolinewidth": 2
          }
         }
        },
        "title": {
         "text": "Количество сетевых и не сетевых объектов общественного питания"
        }
       }
      },
      "text/html": [
       "<div>                            <div id=\"802db6ba-e667-45d7-9e6b-b56b98909446\" class=\"plotly-graph-div\" style=\"height:525px; width:100%;\"></div>            <script type=\"text/javascript\">                require([\"plotly\"], function(Plotly) {                    window.PLOTLYENV=window.PLOTLYENV || {};                                    if (document.getElementById(\"802db6ba-e667-45d7-9e6b-b56b98909446\")) {                    Plotly.newPlot(                        \"802db6ba-e667-45d7-9e6b-b56b98909446\",                        [{\"labels\":[\"\\u0441\\u0435\\u0442\\u0435\\u0432\\u044b\\u0435\",\"\\u043d\\u0435 \\u0441\\u0435\\u0442\\u0435\\u0432\\u044b\\u0435\"],\"values\":[2964,12320],\"type\":\"pie\"}],                        {\"template\":{\"data\":{\"bar\":[{\"error_x\":{\"color\":\"#2a3f5f\"},\"error_y\":{\"color\":\"#2a3f5f\"},\"marker\":{\"line\":{\"color\":\"#E5ECF6\",\"width\":0.5},\"pattern\":{\"fillmode\":\"overlay\",\"size\":10,\"solidity\":0.2}},\"type\":\"bar\"}],\"barpolar\":[{\"marker\":{\"line\":{\"color\":\"#E5ECF6\",\"width\":0.5},\"pattern\":{\"fillmode\":\"overlay\",\"size\":10,\"solidity\":0.2}},\"type\":\"barpolar\"}],\"carpet\":[{\"aaxis\":{\"endlinecolor\":\"#2a3f5f\",\"gridcolor\":\"white\",\"linecolor\":\"white\",\"minorgridcolor\":\"white\",\"startlinecolor\":\"#2a3f5f\"},\"baxis\":{\"endlinecolor\":\"#2a3f5f\",\"gridcolor\":\"white\",\"linecolor\":\"white\",\"minorgridcolor\":\"white\",\"startlinecolor\":\"#2a3f5f\"},\"type\":\"carpet\"}],\"choropleth\":[{\"colorbar\":{\"outlinewidth\":0,\"ticks\":\"\"},\"type\":\"choropleth\"}],\"contour\":[{\"colorbar\":{\"outlinewidth\":0,\"ticks\":\"\"},\"colorscale\":[[0.0,\"#0d0887\"],[0.1111111111111111,\"#46039f\"],[0.2222222222222222,\"#7201a8\"],[0.3333333333333333,\"#9c179e\"],[0.4444444444444444,\"#bd3786\"],[0.5555555555555556,\"#d8576b\"],[0.6666666666666666,\"#ed7953\"],[0.7777777777777778,\"#fb9f3a\"],[0.8888888888888888,\"#fdca26\"],[1.0,\"#f0f921\"]],\"type\":\"contour\"}],\"contourcarpet\":[{\"colorbar\":{\"outlinewidth\":0,\"ticks\":\"\"},\"type\":\"contourcarpet\"}],\"heatmap\":[{\"colorbar\":{\"outlinewidth\":0,\"ticks\":\"\"},\"colorscale\":[[0.0,\"#0d0887\"],[0.1111111111111111,\"#46039f\"],[0.2222222222222222,\"#7201a8\"],[0.3333333333333333,\"#9c179e\"],[0.4444444444444444,\"#bd3786\"],[0.5555555555555556,\"#d8576b\"],[0.6666666666666666,\"#ed7953\"],[0.7777777777777778,\"#fb9f3a\"],[0.8888888888888888,\"#fdca26\"],[1.0,\"#f0f921\"]],\"type\":\"heatmap\"}],\"heatmapgl\":[{\"colorbar\":{\"outlinewidth\":0,\"ticks\":\"\"},\"colorscale\":[[0.0,\"#0d0887\"],[0.1111111111111111,\"#46039f\"],[0.2222222222222222,\"#7201a8\"],[0.3333333333333333,\"#9c179e\"],[0.4444444444444444,\"#bd3786\"],[0.5555555555555556,\"#d8576b\"],[0.6666666666666666,\"#ed7953\"],[0.7777777777777778,\"#fb9f3a\"],[0.8888888888888888,\"#fdca26\"],[1.0,\"#f0f921\"]],\"type\":\"heatmapgl\"}],\"histogram\":[{\"marker\":{\"pattern\":{\"fillmode\":\"overlay\",\"size\":10,\"solidity\":0.2}},\"type\":\"histogram\"}],\"histogram2d\":[{\"colorbar\":{\"outlinewidth\":0,\"ticks\":\"\"},\"colorscale\":[[0.0,\"#0d0887\"],[0.1111111111111111,\"#46039f\"],[0.2222222222222222,\"#7201a8\"],[0.3333333333333333,\"#9c179e\"],[0.4444444444444444,\"#bd3786\"],[0.5555555555555556,\"#d8576b\"],[0.6666666666666666,\"#ed7953\"],[0.7777777777777778,\"#fb9f3a\"],[0.8888888888888888,\"#fdca26\"],[1.0,\"#f0f921\"]],\"type\":\"histogram2d\"}],\"histogram2dcontour\":[{\"colorbar\":{\"outlinewidth\":0,\"ticks\":\"\"},\"colorscale\":[[0.0,\"#0d0887\"],[0.1111111111111111,\"#46039f\"],[0.2222222222222222,\"#7201a8\"],[0.3333333333333333,\"#9c179e\"],[0.4444444444444444,\"#bd3786\"],[0.5555555555555556,\"#d8576b\"],[0.6666666666666666,\"#ed7953\"],[0.7777777777777778,\"#fb9f3a\"],[0.8888888888888888,\"#fdca26\"],[1.0,\"#f0f921\"]],\"type\":\"histogram2dcontour\"}],\"mesh3d\":[{\"colorbar\":{\"outlinewidth\":0,\"ticks\":\"\"},\"type\":\"mesh3d\"}],\"parcoords\":[{\"line\":{\"colorbar\":{\"outlinewidth\":0,\"ticks\":\"\"}},\"type\":\"parcoords\"}],\"pie\":[{\"automargin\":true,\"type\":\"pie\"}],\"scatter\":[{\"marker\":{\"colorbar\":{\"outlinewidth\":0,\"ticks\":\"\"}},\"type\":\"scatter\"}],\"scatter3d\":[{\"line\":{\"colorbar\":{\"outlinewidth\":0,\"ticks\":\"\"}},\"marker\":{\"colorbar\":{\"outlinewidth\":0,\"ticks\":\"\"}},\"type\":\"scatter3d\"}],\"scattercarpet\":[{\"marker\":{\"colorbar\":{\"outlinewidth\":0,\"ticks\":\"\"}},\"type\":\"scattercarpet\"}],\"scattergeo\":[{\"marker\":{\"colorbar\":{\"outlinewidth\":0,\"ticks\":\"\"}},\"type\":\"scattergeo\"}],\"scattergl\":[{\"marker\":{\"colorbar\":{\"outlinewidth\":0,\"ticks\":\"\"}},\"type\":\"scattergl\"}],\"scattermapbox\":[{\"marker\":{\"colorbar\":{\"outlinewidth\":0,\"ticks\":\"\"}},\"type\":\"scattermapbox\"}],\"scatterpolar\":[{\"marker\":{\"colorbar\":{\"outlinewidth\":0,\"ticks\":\"\"}},\"type\":\"scatterpolar\"}],\"scatterpolargl\":[{\"marker\":{\"colorbar\":{\"outlinewidth\":0,\"ticks\":\"\"}},\"type\":\"scatterpolargl\"}],\"scatterternary\":[{\"marker\":{\"colorbar\":{\"outlinewidth\":0,\"ticks\":\"\"}},\"type\":\"scatterternary\"}],\"surface\":[{\"colorbar\":{\"outlinewidth\":0,\"ticks\":\"\"},\"colorscale\":[[0.0,\"#0d0887\"],[0.1111111111111111,\"#46039f\"],[0.2222222222222222,\"#7201a8\"],[0.3333333333333333,\"#9c179e\"],[0.4444444444444444,\"#bd3786\"],[0.5555555555555556,\"#d8576b\"],[0.6666666666666666,\"#ed7953\"],[0.7777777777777778,\"#fb9f3a\"],[0.8888888888888888,\"#fdca26\"],[1.0,\"#f0f921\"]],\"type\":\"surface\"}],\"table\":[{\"cells\":{\"fill\":{\"color\":\"#EBF0F8\"},\"line\":{\"color\":\"white\"}},\"header\":{\"fill\":{\"color\":\"#C8D4E3\"},\"line\":{\"color\":\"white\"}},\"type\":\"table\"}]},\"layout\":{\"annotationdefaults\":{\"arrowcolor\":\"#2a3f5f\",\"arrowhead\":0,\"arrowwidth\":1},\"autotypenumbers\":\"strict\",\"coloraxis\":{\"colorbar\":{\"outlinewidth\":0,\"ticks\":\"\"}},\"colorscale\":{\"diverging\":[[0,\"#8e0152\"],[0.1,\"#c51b7d\"],[0.2,\"#de77ae\"],[0.3,\"#f1b6da\"],[0.4,\"#fde0ef\"],[0.5,\"#f7f7f7\"],[0.6,\"#e6f5d0\"],[0.7,\"#b8e186\"],[0.8,\"#7fbc41\"],[0.9,\"#4d9221\"],[1,\"#276419\"]],\"sequential\":[[0.0,\"#0d0887\"],[0.1111111111111111,\"#46039f\"],[0.2222222222222222,\"#7201a8\"],[0.3333333333333333,\"#9c179e\"],[0.4444444444444444,\"#bd3786\"],[0.5555555555555556,\"#d8576b\"],[0.6666666666666666,\"#ed7953\"],[0.7777777777777778,\"#fb9f3a\"],[0.8888888888888888,\"#fdca26\"],[1.0,\"#f0f921\"]],\"sequentialminus\":[[0.0,\"#0d0887\"],[0.1111111111111111,\"#46039f\"],[0.2222222222222222,\"#7201a8\"],[0.3333333333333333,\"#9c179e\"],[0.4444444444444444,\"#bd3786\"],[0.5555555555555556,\"#d8576b\"],[0.6666666666666666,\"#ed7953\"],[0.7777777777777778,\"#fb9f3a\"],[0.8888888888888888,\"#fdca26\"],[1.0,\"#f0f921\"]]},\"colorway\":[\"#636efa\",\"#EF553B\",\"#00cc96\",\"#ab63fa\",\"#FFA15A\",\"#19d3f3\",\"#FF6692\",\"#B6E880\",\"#FF97FF\",\"#FECB52\"],\"font\":{\"color\":\"#2a3f5f\"},\"geo\":{\"bgcolor\":\"white\",\"lakecolor\":\"white\",\"landcolor\":\"#E5ECF6\",\"showlakes\":true,\"showland\":true,\"subunitcolor\":\"white\"},\"hoverlabel\":{\"align\":\"left\"},\"hovermode\":\"closest\",\"mapbox\":{\"style\":\"light\"},\"paper_bgcolor\":\"white\",\"plot_bgcolor\":\"#E5ECF6\",\"polar\":{\"angularaxis\":{\"gridcolor\":\"white\",\"linecolor\":\"white\",\"ticks\":\"\"},\"bgcolor\":\"#E5ECF6\",\"radialaxis\":{\"gridcolor\":\"white\",\"linecolor\":\"white\",\"ticks\":\"\"}},\"scene\":{\"xaxis\":{\"backgroundcolor\":\"#E5ECF6\",\"gridcolor\":\"white\",\"gridwidth\":2,\"linecolor\":\"white\",\"showbackground\":true,\"ticks\":\"\",\"zerolinecolor\":\"white\"},\"yaxis\":{\"backgroundcolor\":\"#E5ECF6\",\"gridcolor\":\"white\",\"gridwidth\":2,\"linecolor\":\"white\",\"showbackground\":true,\"ticks\":\"\",\"zerolinecolor\":\"white\"},\"zaxis\":{\"backgroundcolor\":\"#E5ECF6\",\"gridcolor\":\"white\",\"gridwidth\":2,\"linecolor\":\"white\",\"showbackground\":true,\"ticks\":\"\",\"zerolinecolor\":\"white\"}},\"shapedefaults\":{\"line\":{\"color\":\"#2a3f5f\"}},\"ternary\":{\"aaxis\":{\"gridcolor\":\"white\",\"linecolor\":\"white\",\"ticks\":\"\"},\"baxis\":{\"gridcolor\":\"white\",\"linecolor\":\"white\",\"ticks\":\"\"},\"bgcolor\":\"#E5ECF6\",\"caxis\":{\"gridcolor\":\"white\",\"linecolor\":\"white\",\"ticks\":\"\"}},\"title\":{\"x\":0.05},\"xaxis\":{\"automargin\":true,\"gridcolor\":\"white\",\"linecolor\":\"white\",\"ticks\":\"\",\"title\":{\"standoff\":15},\"zerolinecolor\":\"white\",\"zerolinewidth\":2},\"yaxis\":{\"automargin\":true,\"gridcolor\":\"white\",\"linecolor\":\"white\",\"ticks\":\"\",\"title\":{\"standoff\":15},\"zerolinecolor\":\"white\",\"zerolinewidth\":2}}},\"title\":{\"text\":\"\\u041a\\u043e\\u043b\\u0438\\u0447\\u0435\\u0441\\u0442\\u0432\\u043e \\u0441\\u0435\\u0442\\u0435\\u0432\\u044b\\u0445 \\u0438 \\u043d\\u0435 \\u0441\\u0435\\u0442\\u0435\\u0432\\u044b\\u0445 \\u043e\\u0431\\u044a\\u0435\\u043a\\u0442\\u043e\\u0432 \\u043e\\u0431\\u0449\\u0435\\u0441\\u0442\\u0432\\u0435\\u043d\\u043d\\u043e\\u0433\\u043e \\u043f\\u0438\\u0442\\u0430\\u043d\\u0438\\u044f\"}},                        {\"responsive\": true}                    ).then(function(){\n",
       "                            \n",
       "var gd = document.getElementById('802db6ba-e667-45d7-9e6b-b56b98909446');\n",
       "var x = new MutationObserver(function (mutations, observer) {{\n",
       "        var display = window.getComputedStyle(gd).display;\n",
       "        if (!display || display === 'none') {{\n",
       "            console.log([gd, 'removed!']);\n",
       "            Plotly.purge(gd);\n",
       "            observer.disconnect();\n",
       "        }}\n",
       "}});\n",
       "\n",
       "// Listen for the removal of the full notebook cells\n",
       "var notebookContainer = gd.closest('#notebook-container');\n",
       "if (notebookContainer) {{\n",
       "    x.observe(notebookContainer, {childList: true});\n",
       "}}\n",
       "\n",
       "// Listen for the clearing of the current output cell\n",
       "var outputEl = gd.closest('.output');\n",
       "if (outputEl) {{\n",
       "    x.observe(outputEl, {childList: true});\n",
       "}}\n",
       "\n",
       "                        })                };                });            </script>        </div>"
      ]
     },
     "metadata": {},
     "output_type": "display_data"
    },
    {
     "data": {
      "text/plain": [
       "<Figure size 720x360 with 0 Axes>"
      ]
     },
     "metadata": {},
     "output_type": "display_data"
    }
   ],
   "source": [
    "#Построим круговую диаграмму соотношения сетевых и не сетевых объектов общественного питания\n",
    "plt.figure(figsize=(10, 5))\n",
    "plt.rcParams['font.size'] = '20'\n",
    "\n",
    "fig=go.Figure(data=[go.Pie(labels=['сетевые', 'не сетевые'], values=chain_count['object_name'])])\n",
    "fig.update_layout(title_text='Количество сетевых и не сетевых объектов общественного питания', )\n",
    "fig.show() \n",
    "\n"
   ]
  },
  {
   "cell_type": "markdown",
   "metadata": {},
   "source": [
    "Большую часть составляют не сетевые объекты, их доля 80%. Сетевые только 20%. "
   ]
  },
  {
   "cell_type": "markdown",
   "metadata": {},
   "source": [
    "### Какими типами объектов представлены сетевые заведения"
   ]
  },
  {
   "cell_type": "code",
   "execution_count": 44,
   "metadata": {},
   "outputs": [
    {
     "data": {
      "image/png": "[encoded data removed]",
      "text/plain": [
       "<Figure size 1800x720 with 1 Axes>"
      ]
     },
     "metadata": {
      "needs_background": "light"
     },
     "output_type": "display_data"
    }
   ],
   "source": [
    "#Строим сводную таблицу только для сетевых объектов общественного питания и сделаем диаграмму их распределения по типам объектов\n",
    "object_type_chain=rest_data[rest_data['chain']=='да'].pivot_table(columns='object_type', values='object_name', aggfunc='count')\n",
    "\n",
    "plt.figure(figsize=(25, 10))\n",
    "plt.rcParams['font.size'] = '16'\n",
    "sbn.barplot(data=object_type_chain.sort_values(by='object_name', axis=1))\n",
    "plt.title('Количество сетевых объектов общественного питания по типам заведений')\n",
    "plt.ylabel('Количество объектов, шт')\n",
    "plt.xticks(rotation=25)\n",
    "plt.show()\n"
   ]
  },
  {
   "cell_type": "code",
   "execution_count": 63,
   "metadata": {},
   "outputs": [
    {
     "data": {
      "text/html": [
       "<div>\n",
       "<style scoped>\n",
       "    .dataframe tbody tr th:only-of-type {\n",
       "        vertical-align: middle;\n",
       "    }\n",
       "\n",
       "    .dataframe tbody tr th {\n",
       "        vertical-align: top;\n",
       "    }\n",
       "\n",
       "    .dataframe thead th {\n",
       "        text-align: right;\n",
       "    }\n",
       "</style>\n",
       "<table border=\"1\" class=\"dataframe\">\n",
       "  <thead>\n",
       "    <tr style=\"text-align: right;\">\n",
       "      <th>object_type</th>\n",
       "      <th>бар</th>\n",
       "      <th>буфет</th>\n",
       "      <th>закусочная</th>\n",
       "      <th>кафе</th>\n",
       "      <th>кафетерий</th>\n",
       "      <th>магазин (отдел кулинарии)</th>\n",
       "      <th>предприятие быстрого обслуживания</th>\n",
       "      <th>ресторан</th>\n",
       "      <th>столовая</th>\n",
       "    </tr>\n",
       "  </thead>\n",
       "  <tbody>\n",
       "    <tr>\n",
       "      <th>object_name</th>\n",
       "      <td>37</td>\n",
       "      <td>11</td>\n",
       "      <td>56</td>\n",
       "      <td>1396</td>\n",
       "      <td>52</td>\n",
       "      <td>78</td>\n",
       "      <td>788</td>\n",
       "      <td>543</td>\n",
       "      <td>3</td>\n",
       "    </tr>\n",
       "  </tbody>\n",
       "</table>\n",
       "</div>"
      ],
      "text/plain": [
       "object_type  бар  буфет  закусочная  кафе  кафетерий  \\\n",
       "object_name   37     11          56  1396         52   \n",
       "\n",
       "object_type  магазин (отдел кулинарии)  предприятие быстрого обслуживания  \\\n",
       "object_name                         78                                788   \n",
       "\n",
       "object_type  ресторан  столовая  \n",
       "object_name       543         3  "
      ]
     },
     "execution_count": 63,
     "metadata": {},
     "output_type": "execute_result"
    }
   ],
   "source": [
    "object_type_chain"
   ]
  },
  {
   "cell_type": "markdown",
   "metadata": {},
   "source": [
    "Здесь ситуация немного изменилась, ушли из сетевой группы столовые, остались кафе, рестораны и предприятия быстрого обслуживания. Львиная доля опять принадлежит кафе, она составляет 47%. На 2 место перешли предприятия быстрого обслуживания, их доля 27%. На 3 месте - рестораны, 18,3%."
   ]
  },
  {
   "cell_type": "markdown",
   "metadata": {},
   "source": [
    "### Что характерно для сетевых заведений: много заведений с небольшим числом посадочных мест в каждом или мало заведений с большим количеством посадочных мест?"
   ]
  },
  {
   "cell_type": "code",
   "execution_count": 45,
   "metadata": {},
   "outputs": [
    {
     "data": {
      "text/html": [
       "<div>\n",
       "<style scoped>\n",
       "    .dataframe tbody tr th:only-of-type {\n",
       "        vertical-align: middle;\n",
       "    }\n",
       "\n",
       "    .dataframe tbody tr th {\n",
       "        vertical-align: top;\n",
       "    }\n",
       "\n",
       "    .dataframe thead th {\n",
       "        text-align: right;\n",
       "    }\n",
       "</style>\n",
       "<table border=\"1\" class=\"dataframe\">\n",
       "  <thead>\n",
       "    <tr style=\"text-align: right;\">\n",
       "      <th></th>\n",
       "      <th>object_name</th>\n",
       "    </tr>\n",
       "    <tr>\n",
       "      <th>number</th>\n",
       "      <th></th>\n",
       "    </tr>\n",
       "  </thead>\n",
       "  <tbody>\n",
       "    <tr>\n",
       "      <th>0</th>\n",
       "      <td>265</td>\n",
       "    </tr>\n",
       "    <tr>\n",
       "      <th>1</th>\n",
       "      <td>15</td>\n",
       "    </tr>\n",
       "    <tr>\n",
       "      <th>2</th>\n",
       "      <td>29</td>\n",
       "    </tr>\n",
       "    <tr>\n",
       "      <th>3</th>\n",
       "      <td>16</td>\n",
       "    </tr>\n",
       "    <tr>\n",
       "      <th>4</th>\n",
       "      <td>44</td>\n",
       "    </tr>\n",
       "  </tbody>\n",
       "</table>\n",
       "</div>"
      ],
      "text/plain": [
       "        object_name\n",
       "number             \n",
       "0               265\n",
       "1                15\n",
       "2                29\n",
       "3                16\n",
       "4                44"
      ]
     },
     "execution_count": 45,
     "metadata": {},
     "output_type": "execute_result"
    }
   ],
   "source": [
    "#Строим сводную таблицу, в которой посчитаем распределения количество объектов общественного питания и число посадочных мест \n",
    "object_type_chain_number=rest_data[rest_data['chain']=='да'].pivot_table(index='number', values='object_name', aggfunc='count')\n",
    "object_type_chain_number.head()"
   ]
  },
  {
   "cell_type": "code",
   "execution_count": 46,
   "metadata": {},
   "outputs": [
    {
     "data": {
      "image/png": "[encoded data removed]",
      "text/plain": [
       "<Figure size 2520x1080 with 1 Axes>"
      ]
     },
     "metadata": {
      "needs_background": "light"
     },
     "output_type": "display_data"
    }
   ],
   "source": [
    "#Строим распределение количества объектов общественного питания и числа посадочных мест \n",
    "\n",
    "plt.rcParams['font.size'] = '30'\n",
    "plt.figure(figsize=(35, 15))\n",
    "sbn.scatterplot(data=object_type_chain_number,  x=object_type_chain_number.index, y='object_name', color='blue', s=100)\n",
    "plt.title('Зависимость распределения числа посадочных мест от количества объектов общественного питания')\n",
    "plt.ylabel('Количество объектов, шт')\n",
    "plt.show()"
   ]
  },
  {
   "cell_type": "markdown",
   "metadata": {},
   "source": [
    "По графику видно, что для сетевых заведений характерно малое число объектов с большим количеством посадочных мест."
   ]
  },
  {
   "cell_type": "markdown",
   "metadata": {},
   "source": [
    "### Посчитаем среднее количество посадочных мест "
   ]
  },
  {
   "cell_type": "code",
   "execution_count": 47,
   "metadata": {},
   "outputs": [
    {
     "data": {
      "text/html": [
       "<div>\n",
       "<style scoped>\n",
       "    .dataframe tbody tr th:only-of-type {\n",
       "        vertical-align: middle;\n",
       "    }\n",
       "\n",
       "    .dataframe tbody tr th {\n",
       "        vertical-align: top;\n",
       "    }\n",
       "\n",
       "    .dataframe thead th {\n",
       "        text-align: right;\n",
       "    }\n",
       "</style>\n",
       "<table border=\"1\" class=\"dataframe\">\n",
       "  <thead>\n",
       "    <tr style=\"text-align: right;\">\n",
       "      <th>object_type</th>\n",
       "      <th>магазин (отдел кулинарии)</th>\n",
       "      <th>закусочная</th>\n",
       "      <th>кафетерий</th>\n",
       "      <th>предприятие быстрого обслуживания</th>\n",
       "      <th>кафе</th>\n",
       "      <th>бар</th>\n",
       "      <th>буфет</th>\n",
       "      <th>ресторан</th>\n",
       "      <th>столовая</th>\n",
       "    </tr>\n",
       "  </thead>\n",
       "  <tbody>\n",
       "    <tr>\n",
       "      <th>number</th>\n",
       "      <td>5.589744</td>\n",
       "      <td>7.825215</td>\n",
       "      <td>9.18481</td>\n",
       "      <td>20.808219</td>\n",
       "      <td>39.785703</td>\n",
       "      <td>43.533333</td>\n",
       "      <td>51.509532</td>\n",
       "      <td>96.88475</td>\n",
       "      <td>130.337848</td>\n",
       "    </tr>\n",
       "  </tbody>\n",
       "</table>\n",
       "</div>"
      ],
      "text/plain": [
       "object_type  магазин (отдел кулинарии)  закусочная  кафетерий  \\\n",
       "number                        5.589744    7.825215    9.18481   \n",
       "\n",
       "object_type  предприятие быстрого обслуживания       кафе        бар  \\\n",
       "number                               20.808219  39.785703  43.533333   \n",
       "\n",
       "object_type      буфет  ресторан    столовая  \n",
       "number       51.509532  96.88475  130.337848  "
      ]
     },
     "execution_count": 47,
     "metadata": {},
     "output_type": "execute_result"
    }
   ],
   "source": [
    "object_type_number=rest_data.pivot_table(columns='object_type', values='number', aggfunc='mean')\n",
    "object_type_number.sort_values(by='number', axis=1)"
   ]
  },
  {
   "cell_type": "code",
   "execution_count": 48,
   "metadata": {},
   "outputs": [
    {
     "data": {
      "image/png": "[encoded data removed]",
      "text/plain": [
       "<Figure size 2520x1080 with 1 Axes>"
      ]
     },
     "metadata": {
      "needs_background": "light"
     },
     "output_type": "display_data"
    }
   ],
   "source": [
    "#Строим распределение средного количества посадочных мест по типам объектов\n",
    "plt.rcParams['font.size'] = '30'\n",
    "plt.figure(figsize=(35, 15))\n",
    "sbn.barplot(data=object_type_number.sort_values(by='number', axis=1))\n",
    "plt.title('Количество посадочных мест по типам объектов общественного питания')\n",
    "plt.ylabel('Количество посадочных мест, шт')\n",
    "plt.xticks(rotation=45)\n",
    "plt.show()\n"
   ]
  },
  {
   "cell_type": "markdown",
   "metadata": {},
   "source": [
    "В среднем больше всего посадочных мест в столовых."
   ]
  },
  {
   "cell_type": "markdown",
   "metadata": {},
   "source": [
    "<div class=\"alert alert-success\">\n",
    "<b>Комментарий ревьюера:</b>☀️\n",
    "    \n",
    "* Здесь лучше бы подшли ящики с усами, при помощи них можно было посмотреть не только на среднее число мест в каждом типе заведения, но оценить и квартили, медиану, насколько значительные выбросы бывают.\n",
    "* Понравилось, что ты добавила таблицу с числами, чтобы точнее понимать сколько мест в каждом типе заведений, можно подписывать и столбцы, это может показаться сложным, но вот [материал](https://queirozf.com/entries/add-labels-and-text-to-matplotlib-plots-annotation-examples), если решишься попробовать</div>\n"
   ]
  },
  {
   "cell_type": "markdown",
   "metadata": {},
   "source": [
    "### Создадим отдельный столбец с информацией об улице из столбца address"
   ]
  },
  {
   "cell_type": "code",
   "execution_count": 49,
   "metadata": {},
   "outputs": [],
   "source": [
    "\n",
    "def street(address):\n",
    "    t=address.split(', ')\n",
    "    if t[1]=='город Зеленоград' or t[1]=='поселение Сосенское':\n",
    "        return ', '.join(t[1:3])\n",
    "    return t[1]\n",
    "\n",
    "rest_data['street']=rest_data['address'].apply(street)\n",
    "\n"
   ]
  },
  {
   "cell_type": "code",
   "execution_count": 50,
   "metadata": {},
   "outputs": [
    {
     "data": {
      "text/html": [
       "<div>\n",
       "<style scoped>\n",
       "    .dataframe tbody tr th:only-of-type {\n",
       "        vertical-align: middle;\n",
       "    }\n",
       "\n",
       "    .dataframe tbody tr th {\n",
       "        vertical-align: top;\n",
       "    }\n",
       "\n",
       "    .dataframe thead th {\n",
       "        text-align: right;\n",
       "    }\n",
       "</style>\n",
       "<table border=\"1\" class=\"dataframe\">\n",
       "  <thead>\n",
       "    <tr style=\"text-align: right;\">\n",
       "      <th></th>\n",
       "      <th>id</th>\n",
       "      <th>object_name</th>\n",
       "      <th>chain</th>\n",
       "      <th>object_type</th>\n",
       "      <th>address</th>\n",
       "      <th>number</th>\n",
       "      <th>street</th>\n",
       "    </tr>\n",
       "  </thead>\n",
       "  <tbody>\n",
       "    <tr>\n",
       "      <th>0</th>\n",
       "      <td>151635</td>\n",
       "      <td>СМЕТАНА</td>\n",
       "      <td>нет</td>\n",
       "      <td>кафе</td>\n",
       "      <td>город Москва, улица Егора Абакумова, дом 9</td>\n",
       "      <td>48</td>\n",
       "      <td>улица Егора Абакумова</td>\n",
       "    </tr>\n",
       "    <tr>\n",
       "      <th>1</th>\n",
       "      <td>77874</td>\n",
       "      <td>Родник</td>\n",
       "      <td>нет</td>\n",
       "      <td>кафе</td>\n",
       "      <td>город Москва, улица Талалихина, дом 2/1, корпус 1</td>\n",
       "      <td>35</td>\n",
       "      <td>улица Талалихина</td>\n",
       "    </tr>\n",
       "    <tr>\n",
       "      <th>2</th>\n",
       "      <td>24309</td>\n",
       "      <td>Кафе «Академия»</td>\n",
       "      <td>нет</td>\n",
       "      <td>кафе</td>\n",
       "      <td>город Москва, Абельмановская улица, дом 6</td>\n",
       "      <td>95</td>\n",
       "      <td>Абельмановская улица</td>\n",
       "    </tr>\n",
       "    <tr>\n",
       "      <th>3</th>\n",
       "      <td>21894</td>\n",
       "      <td>ПИЦЦЕТОРИЯ</td>\n",
       "      <td>да</td>\n",
       "      <td>кафе</td>\n",
       "      <td>город Москва, Абрамцевская улица, дом 1</td>\n",
       "      <td>40</td>\n",
       "      <td>Абрамцевская улица</td>\n",
       "    </tr>\n",
       "    <tr>\n",
       "      <th>4</th>\n",
       "      <td>119365</td>\n",
       "      <td>Кафе «Вишневая метель»</td>\n",
       "      <td>нет</td>\n",
       "      <td>кафе</td>\n",
       "      <td>город Москва, Абрамцевская улица, дом 9, корпус 1</td>\n",
       "      <td>50</td>\n",
       "      <td>Абрамцевская улица</td>\n",
       "    </tr>\n",
       "  </tbody>\n",
       "</table>\n",
       "</div>"
      ],
      "text/plain": [
       "       id             object_name chain object_type  \\\n",
       "0  151635                 СМЕТАНА   нет        кафе   \n",
       "1   77874                  Родник   нет        кафе   \n",
       "2   24309         Кафе «Академия»   нет        кафе   \n",
       "3   21894              ПИЦЦЕТОРИЯ    да        кафе   \n",
       "4  119365  Кафе «Вишневая метель»   нет        кафе   \n",
       "\n",
       "                                             address  number  \\\n",
       "0         город Москва, улица Егора Абакумова, дом 9      48   \n",
       "1  город Москва, улица Талалихина, дом 2/1, корпус 1      35   \n",
       "2          город Москва, Абельмановская улица, дом 6      95   \n",
       "3            город Москва, Абрамцевская улица, дом 1      40   \n",
       "4  город Москва, Абрамцевская улица, дом 9, корпус 1      50   \n",
       "\n",
       "                  street  \n",
       "0  улица Егора Абакумова  \n",
       "1       улица Талалихина  \n",
       "2   Абельмановская улица  \n",
       "3     Абрамцевская улица  \n",
       "4     Абрамцевская улица  "
      ]
     },
     "execution_count": 50,
     "metadata": {},
     "output_type": "execute_result"
    }
   ],
   "source": [
    "rest_data.head()"
   ]
  },
  {
   "cell_type": "code",
   "execution_count": 51,
   "metadata": {},
   "outputs": [
    {
     "data": {
      "text/html": [
       "<div>\n",
       "<style scoped>\n",
       "    .dataframe tbody tr th:only-of-type {\n",
       "        vertical-align: middle;\n",
       "    }\n",
       "\n",
       "    .dataframe tbody tr th {\n",
       "        vertical-align: top;\n",
       "    }\n",
       "\n",
       "    .dataframe thead th {\n",
       "        text-align: right;\n",
       "    }\n",
       "</style>\n",
       "<table border=\"1\" class=\"dataframe\">\n",
       "  <thead>\n",
       "    <tr style=\"text-align: right;\">\n",
       "      <th></th>\n",
       "      <th>id</th>\n",
       "      <th>object_name</th>\n",
       "      <th>chain</th>\n",
       "      <th>object_type</th>\n",
       "      <th>address</th>\n",
       "      <th>number</th>\n",
       "      <th>street</th>\n",
       "    </tr>\n",
       "  </thead>\n",
       "  <tbody>\n",
       "    <tr>\n",
       "      <th>0</th>\n",
       "      <td>151635</td>\n",
       "      <td>СМЕТАНА</td>\n",
       "      <td>нет</td>\n",
       "      <td>кафе</td>\n",
       "      <td>город Москва, улица Егора Абакумова, дом 9</td>\n",
       "      <td>48</td>\n",
       "      <td>улица Егора Абакумова</td>\n",
       "    </tr>\n",
       "    <tr>\n",
       "      <th>1</th>\n",
       "      <td>77874</td>\n",
       "      <td>Родник</td>\n",
       "      <td>нет</td>\n",
       "      <td>кафе</td>\n",
       "      <td>город Москва, улица Талалихина, дом 2/1, корпус 1</td>\n",
       "      <td>35</td>\n",
       "      <td>улица Талалихина</td>\n",
       "    </tr>\n",
       "    <tr>\n",
       "      <th>2</th>\n",
       "      <td>24309</td>\n",
       "      <td>Кафе «Академия»</td>\n",
       "      <td>нет</td>\n",
       "      <td>кафе</td>\n",
       "      <td>город Москва, Абельмановская улица, дом 6</td>\n",
       "      <td>95</td>\n",
       "      <td>Абельмановская улица</td>\n",
       "    </tr>\n",
       "    <tr>\n",
       "      <th>3</th>\n",
       "      <td>21894</td>\n",
       "      <td>ПИЦЦЕТОРИЯ</td>\n",
       "      <td>да</td>\n",
       "      <td>кафе</td>\n",
       "      <td>город Москва, Абрамцевская улица, дом 1</td>\n",
       "      <td>40</td>\n",
       "      <td>Абрамцевская улица</td>\n",
       "    </tr>\n",
       "    <tr>\n",
       "      <th>4</th>\n",
       "      <td>119365</td>\n",
       "      <td>Кафе «Вишневая метель»</td>\n",
       "      <td>нет</td>\n",
       "      <td>кафе</td>\n",
       "      <td>город Москва, Абрамцевская улица, дом 9, корпус 1</td>\n",
       "      <td>50</td>\n",
       "      <td>Абрамцевская улица</td>\n",
       "    </tr>\n",
       "    <tr>\n",
       "      <th>...</th>\n",
       "      <td>...</td>\n",
       "      <td>...</td>\n",
       "      <td>...</td>\n",
       "      <td>...</td>\n",
       "      <td>...</td>\n",
       "      <td>...</td>\n",
       "      <td>...</td>\n",
       "    </tr>\n",
       "    <tr>\n",
       "      <th>15361</th>\n",
       "      <td>208537</td>\n",
       "      <td>Шоколадница</td>\n",
       "      <td>да</td>\n",
       "      <td>кафе</td>\n",
       "      <td>город Москва, 3-й Крутицкий переулок, дом 18</td>\n",
       "      <td>50</td>\n",
       "      <td>3-й Крутицкий переулок</td>\n",
       "    </tr>\n",
       "    <tr>\n",
       "      <th>15362</th>\n",
       "      <td>209264</td>\n",
       "      <td>Шоколадница</td>\n",
       "      <td>да</td>\n",
       "      <td>кафе</td>\n",
       "      <td>город Москва, улица Земляной Вал, дом 33</td>\n",
       "      <td>10</td>\n",
       "      <td>улица Земляной Вал</td>\n",
       "    </tr>\n",
       "    <tr>\n",
       "      <th>15363</th>\n",
       "      <td>209186</td>\n",
       "      <td>Шоколадница</td>\n",
       "      <td>да</td>\n",
       "      <td>кафе</td>\n",
       "      <td>город Москва, улица Земляной Вал, дом 33</td>\n",
       "      <td>20</td>\n",
       "      <td>улица Земляной Вал</td>\n",
       "    </tr>\n",
       "    <tr>\n",
       "      <th>15364</th>\n",
       "      <td>221900</td>\n",
       "      <td>Шоколадница</td>\n",
       "      <td>да</td>\n",
       "      <td>кафе</td>\n",
       "      <td>город Москва, поселение Московский, Киевское ш...</td>\n",
       "      <td>36</td>\n",
       "      <td>поселение Московский</td>\n",
       "    </tr>\n",
       "    <tr>\n",
       "      <th>15365</th>\n",
       "      <td>222535</td>\n",
       "      <td>Шоколадница</td>\n",
       "      <td>да</td>\n",
       "      <td>кафе</td>\n",
       "      <td>город Москва, Ходынский бульвар, дом 4</td>\n",
       "      <td>10</td>\n",
       "      <td>Ходынский бульвар</td>\n",
       "    </tr>\n",
       "  </tbody>\n",
       "</table>\n",
       "<p>15284 rows × 7 columns</p>\n",
       "</div>"
      ],
      "text/plain": [
       "           id             object_name chain object_type  \\\n",
       "0      151635                 СМЕТАНА   нет        кафе   \n",
       "1       77874                  Родник   нет        кафе   \n",
       "2       24309         Кафе «Академия»   нет        кафе   \n",
       "3       21894              ПИЦЦЕТОРИЯ    да        кафе   \n",
       "4      119365  Кафе «Вишневая метель»   нет        кафе   \n",
       "...       ...                     ...   ...         ...   \n",
       "15361  208537             Шоколадница    да        кафе   \n",
       "15362  209264             Шоколадница    да        кафе   \n",
       "15363  209186             Шоколадница    да        кафе   \n",
       "15364  221900             Шоколадница    да        кафе   \n",
       "15365  222535             Шоколадница    да        кафе   \n",
       "\n",
       "                                                 address  number  \\\n",
       "0             город Москва, улица Егора Абакумова, дом 9      48   \n",
       "1      город Москва, улица Талалихина, дом 2/1, корпус 1      35   \n",
       "2              город Москва, Абельмановская улица, дом 6      95   \n",
       "3                город Москва, Абрамцевская улица, дом 1      40   \n",
       "4      город Москва, Абрамцевская улица, дом 9, корпус 1      50   \n",
       "...                                                  ...     ...   \n",
       "15361       город Москва, 3-й Крутицкий переулок, дом 18      50   \n",
       "15362           город Москва, улица Земляной Вал, дом 33      10   \n",
       "15363           город Москва, улица Земляной Вал, дом 33      20   \n",
       "15364  город Москва, поселение Московский, Киевское ш...      36   \n",
       "15365             город Москва, Ходынский бульвар, дом 4      10   \n",
       "\n",
       "                       street  \n",
       "0       улица Егора Абакумова  \n",
       "1            улица Талалихина  \n",
       "2        Абельмановская улица  \n",
       "3          Абрамцевская улица  \n",
       "4          Абрамцевская улица  \n",
       "...                       ...  \n",
       "15361  3-й Крутицкий переулок  \n",
       "15362      улица Земляной Вал  \n",
       "15363      улица Земляной Вал  \n",
       "15364    поселение Московский  \n",
       "15365       Ходынский бульвар  \n",
       "\n",
       "[15284 rows x 7 columns]"
      ]
     },
     "execution_count": 51,
     "metadata": {},
     "output_type": "execute_result"
    }
   ],
   "source": [
    "rest_data"
   ]
  },
  {
   "cell_type": "markdown",
   "metadata": {},
   "source": [
    "### Построим график топ-10 улиц по количеству объектов общественного питания"
   ]
  },
  {
   "cell_type": "code",
   "execution_count": 52,
   "metadata": {},
   "outputs": [
    {
     "data": {
      "text/html": [
       "<div>\n",
       "<style scoped>\n",
       "    .dataframe tbody tr th:only-of-type {\n",
       "        vertical-align: middle;\n",
       "    }\n",
       "\n",
       "    .dataframe tbody tr th {\n",
       "        vertical-align: top;\n",
       "    }\n",
       "\n",
       "    .dataframe thead th {\n",
       "        text-align: right;\n",
       "    }\n",
       "</style>\n",
       "<table border=\"1\" class=\"dataframe\">\n",
       "  <thead>\n",
       "    <tr style=\"text-align: right;\">\n",
       "      <th></th>\n",
       "      <th>object_type</th>\n",
       "    </tr>\n",
       "    <tr>\n",
       "      <th>street</th>\n",
       "      <th></th>\n",
       "    </tr>\n",
       "  </thead>\n",
       "  <tbody>\n",
       "    <tr>\n",
       "      <th>проспект Мира</th>\n",
       "      <td>204</td>\n",
       "    </tr>\n",
       "    <tr>\n",
       "      <th>Профсоюзная улица</th>\n",
       "      <td>181</td>\n",
       "    </tr>\n",
       "    <tr>\n",
       "      <th>Ленинградский проспект</th>\n",
       "      <td>170</td>\n",
       "    </tr>\n",
       "    <tr>\n",
       "      <th>Пресненская набережная</th>\n",
       "      <td>167</td>\n",
       "    </tr>\n",
       "    <tr>\n",
       "      <th>Варшавское шоссе</th>\n",
       "      <td>161</td>\n",
       "    </tr>\n",
       "    <tr>\n",
       "      <th>Ленинский проспект</th>\n",
       "      <td>147</td>\n",
       "    </tr>\n",
       "    <tr>\n",
       "      <th>проспект Вернадского</th>\n",
       "      <td>128</td>\n",
       "    </tr>\n",
       "    <tr>\n",
       "      <th>Кутузовский проспект</th>\n",
       "      <td>114</td>\n",
       "    </tr>\n",
       "    <tr>\n",
       "      <th>Каширское шоссе</th>\n",
       "      <td>111</td>\n",
       "    </tr>\n",
       "    <tr>\n",
       "      <th>Кировоградская улица</th>\n",
       "      <td>108</td>\n",
       "    </tr>\n",
       "  </tbody>\n",
       "</table>\n",
       "</div>"
      ],
      "text/plain": [
       "                        object_type\n",
       "street                             \n",
       "проспект Мира                   204\n",
       "Профсоюзная улица               181\n",
       "Ленинградский проспект          170\n",
       "Пресненская набережная          167\n",
       "Варшавское шоссе                161\n",
       "Ленинский проспект              147\n",
       "проспект Вернадского            128\n",
       "Кутузовский проспект            114\n",
       "Каширское шоссе                 111\n",
       "Кировоградская улица            108"
      ]
     },
     "execution_count": 52,
     "metadata": {},
     "output_type": "execute_result"
    }
   ],
   "source": [
    "#Создадим сводную таблицу распределения объектов общественного питания по улицам\n",
    "rest_data_street=rest_data.pivot_table(index='street', values='object_type', aggfunc='count')\n",
    "rest_data_street_top_10=rest_data_street.sort_values(by='object_type', ascending=False).head(10)\n",
    "rest_data_street_top_10"
   ]
  },
  {
   "cell_type": "code",
   "execution_count": 53,
   "metadata": {},
   "outputs": [
    {
     "data": {
      "image/png": "[encoded data removed]",
      "text/plain": [
       "<Figure size 2520x1080 with 1 Axes>"
      ]
     },
     "metadata": {
      "needs_background": "light"
     },
     "output_type": "display_data"
    }
   ],
   "source": [
    "#Строим график топ-10 улиц \n",
    "plt.rcParams['font.size'] = '30'\n",
    "plt.figure(figsize=(35, 15))\n",
    "sbn.barplot(x='object_type', y=rest_data_street_top_10.index,  data=rest_data_street_top_10)\n",
    "plt.title('10 улиц с наибольшим количеством объектов общественного питания')\n",
    "plt.ylabel('Улицы')\n",
    "plt.xlabel('Количество объектов')\n",
    "plt.xticks(rotation=25)\n",
    "plt.show()"
   ]
  },
  {
   "cell_type": "code",
   "execution_count": 54,
   "metadata": {},
   "outputs": [
    {
     "data": {
      "text/html": [
       "<div>\n",
       "<style scoped>\n",
       "    .dataframe tbody tr th:only-of-type {\n",
       "        vertical-align: middle;\n",
       "    }\n",
       "\n",
       "    .dataframe tbody tr th {\n",
       "        vertical-align: top;\n",
       "    }\n",
       "\n",
       "    .dataframe thead th {\n",
       "        text-align: right;\n",
       "    }\n",
       "</style>\n",
       "<table border=\"1\" class=\"dataframe\">\n",
       "  <thead>\n",
       "    <tr style=\"text-align: right;\">\n",
       "      <th></th>\n",
       "      <th>streetname</th>\n",
       "      <th>areaid</th>\n",
       "      <th>okrug</th>\n",
       "      <th>area</th>\n",
       "    </tr>\n",
       "  </thead>\n",
       "  <tbody>\n",
       "    <tr>\n",
       "      <th>0</th>\n",
       "      <td>Выставочный переулок</td>\n",
       "      <td>17</td>\n",
       "      <td>ЦАО</td>\n",
       "      <td>Пресненский район</td>\n",
       "    </tr>\n",
       "    <tr>\n",
       "      <th>1</th>\n",
       "      <td>улица Гашека</td>\n",
       "      <td>17</td>\n",
       "      <td>ЦАО</td>\n",
       "      <td>Пресненский район</td>\n",
       "    </tr>\n",
       "    <tr>\n",
       "      <th>2</th>\n",
       "      <td>Большая Никитская улица</td>\n",
       "      <td>17</td>\n",
       "      <td>ЦАО</td>\n",
       "      <td>Пресненский район</td>\n",
       "    </tr>\n",
       "    <tr>\n",
       "      <th>3</th>\n",
       "      <td>Глубокий переулок</td>\n",
       "      <td>17</td>\n",
       "      <td>ЦАО</td>\n",
       "      <td>Пресненский район</td>\n",
       "    </tr>\n",
       "    <tr>\n",
       "      <th>4</th>\n",
       "      <td>Большой Гнездниковский переулок</td>\n",
       "      <td>17</td>\n",
       "      <td>ЦАО</td>\n",
       "      <td>Пресненский район</td>\n",
       "    </tr>\n",
       "  </tbody>\n",
       "</table>\n",
       "</div>"
      ],
      "text/plain": [
       "                        streetname  areaid okrug               area\n",
       "0             Выставочный переулок      17   ЦАО  Пресненский район\n",
       "1                     улица Гашека      17   ЦАО  Пресненский район\n",
       "2          Большая Никитская улица      17   ЦАО  Пресненский район\n",
       "3                Глубокий переулок      17   ЦАО  Пресненский район\n",
       "4  Большой Гнездниковский переулок      17   ЦАО  Пресненский район"
      ]
     },
     "execution_count": 54,
     "metadata": {},
     "output_type": "execute_result"
    }
   ],
   "source": [
    "#Воспользуемся информацией из интернета и вставим в данные названия округов и районов, по которым проходят эти улицы\n",
    "from io import BytesIO\n",
    "import requests\n",
    "spreadsheet_id = '1jB0T2q4XbQMUOSVmjCMS8cJDhBjdmhJcWcwsV_WcsQM'\n",
    "file_name = 'https://docs.google.com/spreadsheets/d/{}/export?format=csv'.format(spreadsheet_id)\n",
    "r = requests.get(file_name)\n",
    "streets = pd.read_csv(BytesIO(r.content))\n",
    "streets.head()"
   ]
  },
  {
   "cell_type": "code",
   "execution_count": 55,
   "metadata": {},
   "outputs": [
    {
     "data": {
      "text/html": [
       "<div>\n",
       "<style scoped>\n",
       "    .dataframe tbody tr th:only-of-type {\n",
       "        vertical-align: middle;\n",
       "    }\n",
       "\n",
       "    .dataframe tbody tr th {\n",
       "        vertical-align: top;\n",
       "    }\n",
       "\n",
       "    .dataframe thead th {\n",
       "        text-align: right;\n",
       "    }\n",
       "</style>\n",
       "<table border=\"1\" class=\"dataframe\">\n",
       "  <thead>\n",
       "    <tr style=\"text-align: right;\">\n",
       "      <th></th>\n",
       "      <th>street</th>\n",
       "      <th>area_id</th>\n",
       "      <th>okrug</th>\n",
       "      <th>area</th>\n",
       "    </tr>\n",
       "  </thead>\n",
       "  <tbody>\n",
       "    <tr>\n",
       "      <th>0</th>\n",
       "      <td>Выставочный переулок</td>\n",
       "      <td>17</td>\n",
       "      <td>ЦАО</td>\n",
       "      <td>Пресненский район</td>\n",
       "    </tr>\n",
       "    <tr>\n",
       "      <th>1</th>\n",
       "      <td>улица Гашека</td>\n",
       "      <td>17</td>\n",
       "      <td>ЦАО</td>\n",
       "      <td>Пресненский район</td>\n",
       "    </tr>\n",
       "    <tr>\n",
       "      <th>2</th>\n",
       "      <td>Большая Никитская улица</td>\n",
       "      <td>17</td>\n",
       "      <td>ЦАО</td>\n",
       "      <td>Пресненский район</td>\n",
       "    </tr>\n",
       "    <tr>\n",
       "      <th>3</th>\n",
       "      <td>Глубокий переулок</td>\n",
       "      <td>17</td>\n",
       "      <td>ЦАО</td>\n",
       "      <td>Пресненский район</td>\n",
       "    </tr>\n",
       "    <tr>\n",
       "      <th>4</th>\n",
       "      <td>Большой Гнездниковский переулок</td>\n",
       "      <td>17</td>\n",
       "      <td>ЦАО</td>\n",
       "      <td>Пресненский район</td>\n",
       "    </tr>\n",
       "  </tbody>\n",
       "</table>\n",
       "</div>"
      ],
      "text/plain": [
       "                            street  area_id okrug               area\n",
       "0             Выставочный переулок       17   ЦАО  Пресненский район\n",
       "1                     улица Гашека       17   ЦАО  Пресненский район\n",
       "2          Большая Никитская улица       17   ЦАО  Пресненский район\n",
       "3                Глубокий переулок       17   ЦАО  Пресненский район\n",
       "4  Большой Гнездниковский переулок       17   ЦАО  Пресненский район"
      ]
     },
     "execution_count": 55,
     "metadata": {},
     "output_type": "execute_result"
    }
   ],
   "source": [
    "#Изменим названия на близкие к нашим\n",
    "\n",
    "streets.rename(columns={'streetname' : 'street', 'areaid' : 'area_id'}, inplace = True)\n",
    "streets.head()"
   ]
  },
  {
   "cell_type": "code",
   "execution_count": 56,
   "metadata": {},
   "outputs": [
    {
     "data": {
      "text/html": [
       "<div>\n",
       "<style scoped>\n",
       "    .dataframe tbody tr th:only-of-type {\n",
       "        vertical-align: middle;\n",
       "    }\n",
       "\n",
       "    .dataframe tbody tr th {\n",
       "        vertical-align: top;\n",
       "    }\n",
       "\n",
       "    .dataframe thead th {\n",
       "        text-align: right;\n",
       "    }\n",
       "</style>\n",
       "<table border=\"1\" class=\"dataframe\">\n",
       "  <thead>\n",
       "    <tr style=\"text-align: right;\">\n",
       "      <th></th>\n",
       "      <th>street</th>\n",
       "      <th>object_type</th>\n",
       "      <th>area_id</th>\n",
       "      <th>okrug</th>\n",
       "      <th>area</th>\n",
       "    </tr>\n",
       "  </thead>\n",
       "  <tbody>\n",
       "    <tr>\n",
       "      <th>0</th>\n",
       "      <td>проспект Мира</td>\n",
       "      <td>204</td>\n",
       "      <td>70</td>\n",
       "      <td>СВАО</td>\n",
       "      <td>Алексеевский район</td>\n",
       "    </tr>\n",
       "    <tr>\n",
       "      <th>1</th>\n",
       "      <td>проспект Мира</td>\n",
       "      <td>204</td>\n",
       "      <td>86</td>\n",
       "      <td>СВАО</td>\n",
       "      <td>Ярославский Район</td>\n",
       "    </tr>\n",
       "    <tr>\n",
       "      <th>2</th>\n",
       "      <td>проспект Мира</td>\n",
       "      <td>204</td>\n",
       "      <td>78</td>\n",
       "      <td>СВАО</td>\n",
       "      <td>Район Марьина роща</td>\n",
       "    </tr>\n",
       "    <tr>\n",
       "      <th>3</th>\n",
       "      <td>проспект Мира</td>\n",
       "      <td>204</td>\n",
       "      <td>79</td>\n",
       "      <td>СВАО</td>\n",
       "      <td>Останкинский район</td>\n",
       "    </tr>\n",
       "    <tr>\n",
       "      <th>4</th>\n",
       "      <td>проспект Мира</td>\n",
       "      <td>204</td>\n",
       "      <td>81</td>\n",
       "      <td>СВАО</td>\n",
       "      <td>Район Ростокино</td>\n",
       "    </tr>\n",
       "    <tr>\n",
       "      <th>5</th>\n",
       "      <td>проспект Мира</td>\n",
       "      <td>204</td>\n",
       "      <td>82</td>\n",
       "      <td>СВАО</td>\n",
       "      <td>Район Свиблово</td>\n",
       "    </tr>\n",
       "    <tr>\n",
       "      <th>6</th>\n",
       "      <td>проспект Мира</td>\n",
       "      <td>204</td>\n",
       "      <td>16</td>\n",
       "      <td>ЦАО</td>\n",
       "      <td>Мещанский район</td>\n",
       "    </tr>\n",
       "    <tr>\n",
       "      <th>7</th>\n",
       "      <td>Профсоюзная улица</td>\n",
       "      <td>181</td>\n",
       "      <td>123</td>\n",
       "      <td>ЮЗАО</td>\n",
       "      <td>Академический район</td>\n",
       "    </tr>\n",
       "    <tr>\n",
       "      <th>8</th>\n",
       "      <td>Профсоюзная улица</td>\n",
       "      <td>181</td>\n",
       "      <td>132</td>\n",
       "      <td>ЮЗАО</td>\n",
       "      <td>Район Черемушки</td>\n",
       "    </tr>\n",
       "    <tr>\n",
       "      <th>9</th>\n",
       "      <td>Профсоюзная улица</td>\n",
       "      <td>181</td>\n",
       "      <td>134</td>\n",
       "      <td>ЮЗАО</td>\n",
       "      <td>Район Ясенево</td>\n",
       "    </tr>\n",
       "  </tbody>\n",
       "</table>\n",
       "</div>"
      ],
      "text/plain": [
       "              street  object_type  area_id okrug                 area\n",
       "0      проспект Мира          204       70  СВАО   Алексеевский район\n",
       "1      проспект Мира          204       86  СВАО    Ярославский Район\n",
       "2      проспект Мира          204       78  СВАО   Район Марьина роща\n",
       "3      проспект Мира          204       79  СВАО   Останкинский район\n",
       "4      проспект Мира          204       81  СВАО      Район Ростокино\n",
       "5      проспект Мира          204       82  СВАО       Район Свиблово\n",
       "6      проспект Мира          204       16   ЦАО      Мещанский район\n",
       "7  Профсоюзная улица          181      123  ЮЗАО  Академический район\n",
       "8  Профсоюзная улица          181      132  ЮЗАО      Район Черемушки\n",
       "9  Профсоюзная улица          181      134  ЮЗАО        Район Ясенево"
      ]
     },
     "execution_count": 56,
     "metadata": {},
     "output_type": "execute_result"
    }
   ],
   "source": [
    "#Получим таблицу с названиями округов и районов\n",
    "\n",
    "moscow_streets_top10=rest_data_street_top_10.merge(streets, on='street', how='left')\n",
    "moscow_streets_top10.head(10)"
   ]
  },
  {
   "cell_type": "markdown",
   "metadata": {},
   "source": [
    "Улицы расположены в Северном административном округе, Северо-Восточном административном округе, Юго-Западном административном округе , Центральном административном округе и Южном административном округе, в районах, которые находятся в центре или ближе к центру города. см. таблицу выше."
   ]
  },
  {
   "cell_type": "markdown",
   "metadata": {},
   "source": [
    "### Найдем число улиц с одним объектом общественного питания"
   ]
  },
  {
   "cell_type": "code",
   "execution_count": 57,
   "metadata": {},
   "outputs": [
    {
     "data": {
      "text/html": [
       "<div>\n",
       "<style scoped>\n",
       "    .dataframe tbody tr th:only-of-type {\n",
       "        vertical-align: middle;\n",
       "    }\n",
       "\n",
       "    .dataframe tbody tr th {\n",
       "        vertical-align: top;\n",
       "    }\n",
       "\n",
       "    .dataframe thead th {\n",
       "        text-align: right;\n",
       "    }\n",
       "</style>\n",
       "<table border=\"1\" class=\"dataframe\">\n",
       "  <thead>\n",
       "    <tr style=\"text-align: right;\">\n",
       "      <th></th>\n",
       "      <th>street</th>\n",
       "      <th>object_type</th>\n",
       "      <th>area_id</th>\n",
       "      <th>okrug</th>\n",
       "      <th>area</th>\n",
       "    </tr>\n",
       "  </thead>\n",
       "  <tbody>\n",
       "    <tr>\n",
       "      <th>2</th>\n",
       "      <td>1-й Балтийский переулок</td>\n",
       "      <td>1</td>\n",
       "      <td>54.0</td>\n",
       "      <td>САО</td>\n",
       "      <td>Район Аэропорт</td>\n",
       "    </tr>\n",
       "    <tr>\n",
       "      <th>3</th>\n",
       "      <td>1-й Басманный переулок</td>\n",
       "      <td>1</td>\n",
       "      <td>13.0</td>\n",
       "      <td>ЦАО</td>\n",
       "      <td>Басманный район</td>\n",
       "    </tr>\n",
       "    <tr>\n",
       "      <th>4</th>\n",
       "      <td>1-й Басманный переулок</td>\n",
       "      <td>1</td>\n",
       "      <td>15.0</td>\n",
       "      <td>ЦАО</td>\n",
       "      <td>Красносельский район</td>\n",
       "    </tr>\n",
       "    <tr>\n",
       "      <th>5</th>\n",
       "      <td>1-й Ботанический проезд</td>\n",
       "      <td>1</td>\n",
       "      <td>82.0</td>\n",
       "      <td>СВАО</td>\n",
       "      <td>Район Свиблово</td>\n",
       "    </tr>\n",
       "    <tr>\n",
       "      <th>8</th>\n",
       "      <td>1-й Вешняковский проезд</td>\n",
       "      <td>1</td>\n",
       "      <td>120.0</td>\n",
       "      <td>ЮВАО</td>\n",
       "      <td>Рязанский район</td>\n",
       "    </tr>\n",
       "  </tbody>\n",
       "</table>\n",
       "</div>"
      ],
      "text/plain": [
       "                    street  object_type  area_id okrug                  area\n",
       "2  1-й Балтийский переулок            1     54.0   САО        Район Аэропорт\n",
       "3   1-й Басманный переулок            1     13.0   ЦАО       Басманный район\n",
       "4   1-й Басманный переулок            1     15.0   ЦАО  Красносельский район\n",
       "5  1-й Ботанический проезд            1     82.0  СВАО        Район Свиблово\n",
       "8  1-й Вешняковский проезд            1    120.0  ЮВАО       Рязанский район"
      ]
     },
     "execution_count": 57,
     "metadata": {},
     "output_type": "execute_result"
    }
   ],
   "source": [
    "#Получим таблицу с названиями округов и районов\n",
    "\n",
    "moscow_streets=rest_data_street.merge(streets, on='street', how='left')\n",
    "\n",
    "moscow_streets_1_object=moscow_streets[moscow_streets['object_type']==1]\n",
    "moscow_streets_1_object.head()"
   ]
  },
  {
   "cell_type": "code",
   "execution_count": 58,
   "metadata": {},
   "outputs": [
    {
     "data": {
      "text/plain": [
       "722"
      ]
     },
     "execution_count": 58,
     "metadata": {},
     "output_type": "execute_result"
    }
   ],
   "source": [
    "#Посчитаем число улиц с 1 объектом питания \n",
    "len(moscow_streets_1_object)"
   ]
  },
  {
   "cell_type": "markdown",
   "metadata": {},
   "source": [
    "Улиц с 1 объектом питания 722. Улицы находятся в по всей Москве, но они не популярны для посещения."
   ]
  },
  {
   "cell_type": "markdown",
   "metadata": {},
   "source": [
    "### Распределение количества посадочных мест для улиц с большим количеством объектов общественного питания"
   ]
  },
  {
   "cell_type": "markdown",
   "metadata": {},
   "source": [
    "####  Сделаем срез исходной таблицы только с топ-10 улицами "
   ]
  },
  {
   "cell_type": "code",
   "execution_count": 59,
   "metadata": {},
   "outputs": [
    {
     "data": {
      "text/html": [
       "<div>\n",
       "<style scoped>\n",
       "    .dataframe tbody tr th:only-of-type {\n",
       "        vertical-align: middle;\n",
       "    }\n",
       "\n",
       "    .dataframe tbody tr th {\n",
       "        vertical-align: top;\n",
       "    }\n",
       "\n",
       "    .dataframe thead th {\n",
       "        text-align: right;\n",
       "    }\n",
       "</style>\n",
       "<table border=\"1\" class=\"dataframe\">\n",
       "  <thead>\n",
       "    <tr style=\"text-align: right;\">\n",
       "      <th></th>\n",
       "      <th>id</th>\n",
       "      <th>object_name</th>\n",
       "      <th>chain</th>\n",
       "      <th>object_type</th>\n",
       "      <th>address</th>\n",
       "      <th>number</th>\n",
       "      <th>street</th>\n",
       "    </tr>\n",
       "  </thead>\n",
       "  <tbody>\n",
       "    <tr>\n",
       "      <th>151</th>\n",
       "      <td>155973</td>\n",
       "      <td>Кафе «Андерсон»</td>\n",
       "      <td>да</td>\n",
       "      <td>кафе</td>\n",
       "      <td>город Москва, Варшавское шоссе, дом 2</td>\n",
       "      <td>150</td>\n",
       "      <td>Варшавское шоссе</td>\n",
       "    </tr>\n",
       "    <tr>\n",
       "      <th>152</th>\n",
       "      <td>23618</td>\n",
       "      <td>Кафе «Subway»</td>\n",
       "      <td>да</td>\n",
       "      <td>кафе</td>\n",
       "      <td>город Москва, Варшавское шоссе, дом 7, корпус 1</td>\n",
       "      <td>36</td>\n",
       "      <td>Варшавское шоссе</td>\n",
       "    </tr>\n",
       "    <tr>\n",
       "      <th>153</th>\n",
       "      <td>155852</td>\n",
       "      <td>Кафе «Ламаджо»</td>\n",
       "      <td>нет</td>\n",
       "      <td>кафе</td>\n",
       "      <td>город Москва, Варшавское шоссе, дом 29</td>\n",
       "      <td>30</td>\n",
       "      <td>Варшавское шоссе</td>\n",
       "    </tr>\n",
       "    <tr>\n",
       "      <th>154</th>\n",
       "      <td>152556</td>\n",
       "      <td>Шаурма в пите</td>\n",
       "      <td>нет</td>\n",
       "      <td>предприятие быстрого обслуживания</td>\n",
       "      <td>город Москва, Варшавское шоссе, дом 72, корпус 2</td>\n",
       "      <td>0</td>\n",
       "      <td>Варшавское шоссе</td>\n",
       "    </tr>\n",
       "    <tr>\n",
       "      <th>155</th>\n",
       "      <td>120658</td>\n",
       "      <td>Выпечка</td>\n",
       "      <td>нет</td>\n",
       "      <td>кафетерий</td>\n",
       "      <td>город Москва, Варшавское шоссе, дом 100</td>\n",
       "      <td>2</td>\n",
       "      <td>Варшавское шоссе</td>\n",
       "    </tr>\n",
       "  </tbody>\n",
       "</table>\n",
       "</div>"
      ],
      "text/plain": [
       "         id      object_name chain                        object_type  \\\n",
       "151  155973  Кафе «Андерсон»    да                               кафе   \n",
       "152   23618    Кафе «Subway»    да                               кафе   \n",
       "153  155852   Кафе «Ламаджо»   нет                               кафе   \n",
       "154  152556    Шаурма в пите   нет  предприятие быстрого обслуживания   \n",
       "155  120658          Выпечка   нет                          кафетерий   \n",
       "\n",
       "                                              address  number  \\\n",
       "151             город Москва, Варшавское шоссе, дом 2     150   \n",
       "152   город Москва, Варшавское шоссе, дом 7, корпус 1      36   \n",
       "153            город Москва, Варшавское шоссе, дом 29      30   \n",
       "154  город Москва, Варшавское шоссе, дом 72, корпус 2       0   \n",
       "155           город Москва, Варшавское шоссе, дом 100       2   \n",
       "\n",
       "               street  \n",
       "151  Варшавское шоссе  \n",
       "152  Варшавское шоссе  \n",
       "153  Варшавское шоссе  \n",
       "154  Варшавское шоссе  \n",
       "155  Варшавское шоссе  "
      ]
     },
     "execution_count": 59,
     "metadata": {},
     "output_type": "execute_result"
    }
   ],
   "source": [
    "rest_data_top_10=rest_data[rest_data['street'].isin(rest_data_street_top_10.index)]\n",
    "rest_data_top_10.head()"
   ]
  },
  {
   "cell_type": "markdown",
   "metadata": {},
   "source": [
    "####  Посмотрим на распределение посадочных мест по топ-10 улицам"
   ]
  },
  {
   "cell_type": "code",
   "execution_count": 60,
   "metadata": {},
   "outputs": [
    {
     "data": {
      "image/png": "[encoded data removed]",
      "text/plain": [
       "<Figure size 720x720 with 1 Axes>"
      ]
     },
     "metadata": {
      "needs_background": "light"
     },
     "output_type": "display_data"
    }
   ],
   "source": [
    "plt.rcParams['font.size'] = '14'\n",
    "plt.figure(figsize=(10, 10))\n",
    "rest_data_top_10['number'].value_counts().hist(bins=25)\n",
    "plt.title('Распределение числа посадочных мест на топ-10 улицах')\n",
    "plt.grid(True)\n",
    "plt.ylabel('Частота значений')\n",
    "plt.xlabel('Количество посадочных мест')\n",
    "plt.xticks(rotation=25)\n",
    "plt.show()\n"
   ]
  },
  {
   "cell_type": "markdown",
   "metadata": {},
   "source": [
    "В основном значения посадочных мест находятся в пределах от 0 до 60 "
   ]
  },
  {
   "cell_type": "markdown",
   "metadata": {},
   "source": [
    "####  Для рекомендаций по открытию нового заведения посчитаем распределение медианных значений посадочных мест по топ-10 улицам"
   ]
  },
  {
   "cell_type": "code",
   "execution_count": 61,
   "metadata": {},
   "outputs": [
    {
     "data": {
      "text/html": [
       "<div>\n",
       "<style scoped>\n",
       "    .dataframe tbody tr th:only-of-type {\n",
       "        vertical-align: middle;\n",
       "    }\n",
       "\n",
       "    .dataframe tbody tr th {\n",
       "        vertical-align: top;\n",
       "    }\n",
       "\n",
       "    .dataframe thead th {\n",
       "        text-align: right;\n",
       "    }\n",
       "</style>\n",
       "<table border=\"1\" class=\"dataframe\">\n",
       "  <thead>\n",
       "    <tr style=\"text-align: right;\">\n",
       "      <th></th>\n",
       "      <th>median_number</th>\n",
       "    </tr>\n",
       "    <tr>\n",
       "      <th>street</th>\n",
       "      <th></th>\n",
       "    </tr>\n",
       "  </thead>\n",
       "  <tbody>\n",
       "    <tr>\n",
       "      <th>проспект Мира</th>\n",
       "      <td>46.5</td>\n",
       "    </tr>\n",
       "    <tr>\n",
       "      <th>Ленинский проспект</th>\n",
       "      <td>45.0</td>\n",
       "    </tr>\n",
       "    <tr>\n",
       "      <th>Кутузовский проспект</th>\n",
       "      <td>40.0</td>\n",
       "    </tr>\n",
       "    <tr>\n",
       "      <th>Ленинградский проспект</th>\n",
       "      <td>40.0</td>\n",
       "    </tr>\n",
       "    <tr>\n",
       "      <th>проспект Вернадского</th>\n",
       "      <td>40.0</td>\n",
       "    </tr>\n",
       "    <tr>\n",
       "      <th>Варшавское шоссе</th>\n",
       "      <td>30.0</td>\n",
       "    </tr>\n",
       "    <tr>\n",
       "      <th>Кировоградская улица</th>\n",
       "      <td>30.0</td>\n",
       "    </tr>\n",
       "    <tr>\n",
       "      <th>Пресненская набережная</th>\n",
       "      <td>30.0</td>\n",
       "    </tr>\n",
       "    <tr>\n",
       "      <th>Каширское шоссе</th>\n",
       "      <td>25.0</td>\n",
       "    </tr>\n",
       "    <tr>\n",
       "      <th>Профсоюзная улица</th>\n",
       "      <td>24.0</td>\n",
       "    </tr>\n",
       "  </tbody>\n",
       "</table>\n",
       "</div>"
      ],
      "text/plain": [
       "                        median_number\n",
       "street                               \n",
       "проспект Мира                    46.5\n",
       "Ленинский проспект               45.0\n",
       "Кутузовский проспект             40.0\n",
       "Ленинградский проспект           40.0\n",
       "проспект Вернадского             40.0\n",
       "Варшавское шоссе                 30.0\n",
       "Кировоградская улица             30.0\n",
       "Пресненская набережная           30.0\n",
       "Каширское шоссе                  25.0\n",
       "Профсоюзная улица                24.0"
      ]
     },
     "execution_count": 61,
     "metadata": {},
     "output_type": "execute_result"
    }
   ],
   "source": [
    "#Создадим сводную таблицу с медианными значениями посадочных мест для каждой улицы\n",
    "\n",
    "rest_data_top_10_number=rest_data_top_10.pivot_table(index='street', values='number', aggfunc='median')\n",
    "rest_data_top_10_number.columns=['median_number']\n",
    "rest_data_top_10_number.sort_values(by='median_number', ascending=False)"
   ]
  },
  {
   "cell_type": "code",
   "execution_count": 62,
   "metadata": {},
   "outputs": [
    {
     "data": {
      "text/html": [
       "<div>\n",
       "<style scoped>\n",
       "    .dataframe tbody tr th:only-of-type {\n",
       "        vertical-align: middle;\n",
       "    }\n",
       "\n",
       "    .dataframe tbody tr th {\n",
       "        vertical-align: top;\n",
       "    }\n",
       "\n",
       "    .dataframe thead th {\n",
       "        text-align: right;\n",
       "    }\n",
       "</style>\n",
       "<table border=\"1\" class=\"dataframe\">\n",
       "  <thead>\n",
       "    <tr style=\"text-align: right;\">\n",
       "      <th></th>\n",
       "      <th>object_type</th>\n",
       "      <th>median_number</th>\n",
       "    </tr>\n",
       "    <tr>\n",
       "      <th>street</th>\n",
       "      <th></th>\n",
       "      <th></th>\n",
       "    </tr>\n",
       "  </thead>\n",
       "  <tbody>\n",
       "    <tr>\n",
       "      <th>проспект Мира</th>\n",
       "      <td>204</td>\n",
       "      <td>46.5</td>\n",
       "    </tr>\n",
       "    <tr>\n",
       "      <th>Профсоюзная улица</th>\n",
       "      <td>181</td>\n",
       "      <td>24.0</td>\n",
       "    </tr>\n",
       "    <tr>\n",
       "      <th>Ленинградский проспект</th>\n",
       "      <td>170</td>\n",
       "      <td>40.0</td>\n",
       "    </tr>\n",
       "    <tr>\n",
       "      <th>Пресненская набережная</th>\n",
       "      <td>167</td>\n",
       "      <td>30.0</td>\n",
       "    </tr>\n",
       "    <tr>\n",
       "      <th>Варшавское шоссе</th>\n",
       "      <td>161</td>\n",
       "      <td>30.0</td>\n",
       "    </tr>\n",
       "    <tr>\n",
       "      <th>Ленинский проспект</th>\n",
       "      <td>147</td>\n",
       "      <td>45.0</td>\n",
       "    </tr>\n",
       "    <tr>\n",
       "      <th>проспект Вернадского</th>\n",
       "      <td>128</td>\n",
       "      <td>40.0</td>\n",
       "    </tr>\n",
       "    <tr>\n",
       "      <th>Кутузовский проспект</th>\n",
       "      <td>114</td>\n",
       "      <td>40.0</td>\n",
       "    </tr>\n",
       "    <tr>\n",
       "      <th>Каширское шоссе</th>\n",
       "      <td>111</td>\n",
       "      <td>25.0</td>\n",
       "    </tr>\n",
       "    <tr>\n",
       "      <th>Кировоградская улица</th>\n",
       "      <td>108</td>\n",
       "      <td>30.0</td>\n",
       "    </tr>\n",
       "  </tbody>\n",
       "</table>\n",
       "</div>"
      ],
      "text/plain": [
       "                        object_type  median_number\n",
       "street                                            \n",
       "проспект Мира                   204           46.5\n",
       "Профсоюзная улица               181           24.0\n",
       "Ленинградский проспект          170           40.0\n",
       "Пресненская набережная          167           30.0\n",
       "Варшавское шоссе                161           30.0\n",
       "Ленинский проспект              147           45.0\n",
       "проспект Вернадского            128           40.0\n",
       "Кутузовский проспект            114           40.0\n",
       "Каширское шоссе                 111           25.0\n",
       "Кировоградская улица            108           30.0"
      ]
     },
     "execution_count": 62,
     "metadata": {},
     "output_type": "execute_result"
    }
   ],
   "source": [
    "#Соединим  таблицу с количеством объектов и таблицу с медианными значениями для каждой улицы\n",
    "\n",
    "street_top_10_number=rest_data_street_top_10.merge(rest_data_top_10_number, on='street', how='left')\n",
    "street_top_10_number.sort_values(by='object_type',  ascending=False)"
   ]
  },
  {
   "cell_type": "markdown",
   "metadata": {},
   "source": [
    "Медианное количество посадочных мест необязательно соответсвует положению улицы по числу объектов. Выберем для рекомендации число посадочных мест 40-50."
   ]
  },
  {
   "cell_type": "markdown",
   "metadata": {},
   "source": [
    "Общий вывод:"
   ]
  },
  {
   "cell_type": "markdown",
   "metadata": {},
   "source": [
    "В Москве, объекты общественного питания представлены в основном кафе, столовыми, ресторанами и предприятиями быстрого обслуживания. Львиную долю составляют кафе 40%. 80% заведений относятся не к сетевым объектам. Среди сетевых заведений большую часть составляют кафе 50%. Больше всего посадочных мест в столовых. Самая большая концентрация заведений общественного питания находится на улицах проспект Мира, Профсоюзная улица, Ленинградский проспект, Пресненская набережная, Варшавское шоссе, Ленинский проспект , проспект Вернадского, Кутузовский проспект, Каширское шоссе, Ходынский бульвар, это районы центра или ближе к центру Москвы.\n",
    "\n",
    "Рекомендуется для открытия нового объекта сделать кафе с числом посадочных мест 40-45, в районах центра или ближе к цетру Москвы, на прохоходящих по ним, улицам: проспект Мира, Профсоюзная улица, Ленинградский проспект, Пресненская набережная, Варшавское шоссе, Ленинский проспект , проспект Вернадского, Кутузовский проспект, Каширское шоссе, Кировоградская улица.\n"
   ]
  },
  {
   "cell_type": "markdown",
   "metadata": {},
   "source": [
    "## Подготовка презентации"
   ]
  },
  {
   "cell_type": "markdown",
   "metadata": {},
   "source": [
    "Презентация: https://disk.yandex.ru/i/A214wji5JSPoOg"
   ]
  },
  {
   "cell_type": "markdown",
   "metadata": {},
   "source": [
    "<div class=\"alert alert-success\">\n",
    "<b>Комментарий ревьюера:</b>☀️\n",
    "    \n",
    "\n",
    "\n",
    "Разумные рекомендации, превосходная работа. Если интересно, то используя геокодер (или датасет с координитами для адресов) и геовизуализацию можно построить распределение кафе на территории Москвы и выделить интересующие нас районы, затем в этих районах можно отобразить доступные площащи для аренды, спарсив какой-нибудь сайт объявлений и таким образом выбрать нужное местоположение. https://geocoder.readthedocs.io/ + https://python-visualization.github.io/folium/quickstart.html. Этим можно заняться, если захочется вернуться к проекту\n",
    "    \n",
    "    \n",
    "**Касательно презентации:**     \n",
    "* Можно было бы добавить слайд с постановкой задач, выводы исследования, автора\n",
    "* Рекомендую добавить нумерацию слайдов, чтобы заказчики могли задать вопрос по твоей презентации не с \"верните на вон тот слайд с ...\", а просто по номеру слайда\n",
    "* Хотелось бы ссылок на источник информации\n",
    "* Рекомендую добавлять рамку для отделения графиков от остальной части презентации и их выравнивать от слайда к слайду, а сейчас при переключении есть ощущения, что графики всегда в разных местах\n",
    "   \n",
    "Для оформления презентаций могу порекомендовать сервис https://readymag.com/. Там множество визуальных элементов и можно включать кучу сеток, чтобы выравнивать контент по слайдам или вот ещё классный есть: https://www.canva.com/ru_ru/\n",
    "</div>"
   ]
  },
  {
   "cell_type": "code",
   "execution_count": null,
   "metadata": {},
   "outputs": [],
   "source": []
  }
 ],
 "metadata": {
  "ExecuteTimeLog": [
   {
    "duration": 1338,
    "start_time": "2022-05-15T13:05:40.478Z"
   },
   {
    "duration": 158,
    "start_time": "2022-05-15T13:05:57.927Z"
   },
   {
    "duration": 62,
    "start_time": "2022-05-15T13:06:16.179Z"
   },
   {
    "duration": 13,
    "start_time": "2022-05-15T13:06:24.399Z"
   },
   {
    "duration": 7,
    "start_time": "2022-05-15T13:06:32.616Z"
   },
   {
    "duration": 17,
    "start_time": "2022-05-15T13:06:39.949Z"
   },
   {
    "duration": 19,
    "start_time": "2022-05-15T13:06:51.694Z"
   },
   {
    "duration": 287,
    "start_time": "2022-05-15T14:06:11.121Z"
   },
   {
    "duration": 1326,
    "start_time": "2022-05-16T10:24:52.604Z"
   },
   {
    "duration": 62,
    "start_time": "2022-05-16T10:24:53.932Z"
   },
   {
    "duration": 24,
    "start_time": "2022-05-16T10:24:53.995Z"
   },
   {
    "duration": 8,
    "start_time": "2022-05-16T10:24:54.021Z"
   },
   {
    "duration": 20,
    "start_time": "2022-05-16T10:24:54.031Z"
   },
   {
    "duration": 16,
    "start_time": "2022-05-16T10:24:54.052Z"
   },
   {
    "duration": 337,
    "start_time": "2022-05-16T10:24:54.069Z"
   },
   {
    "duration": 145,
    "start_time": "2022-05-16T10:24:54.408Z"
   },
   {
    "duration": 324,
    "start_time": "2022-05-16T10:24:54.555Z"
   },
   {
    "duration": 32,
    "start_time": "2022-05-16T10:24:54.882Z"
   },
   {
    "duration": 340,
    "start_time": "2022-05-16T10:24:54.917Z"
   },
   {
    "duration": 22,
    "start_time": "2022-05-16T10:24:55.259Z"
   },
   {
    "duration": 456,
    "start_time": "2022-05-16T10:24:55.283Z"
   },
   {
    "duration": 15,
    "start_time": "2022-05-16T10:24:55.741Z"
   },
   {
    "duration": 12,
    "start_time": "2022-05-16T10:24:55.757Z"
   },
   {
    "duration": 21,
    "start_time": "2022-05-16T10:24:55.771Z"
   },
   {
    "duration": 697,
    "start_time": "2022-05-16T10:24:55.794Z"
   },
   {
    "duration": 18,
    "start_time": "2022-05-16T10:24:56.493Z"
   },
   {
    "duration": 9,
    "start_time": "2022-05-16T10:24:56.513Z"
   },
   {
    "duration": 13,
    "start_time": "2022-05-16T10:24:56.524Z"
   },
   {
    "duration": 22,
    "start_time": "2022-05-16T10:24:56.539Z"
   },
   {
    "duration": 12,
    "start_time": "2022-05-16T10:24:56.563Z"
   },
   {
    "duration": 343,
    "start_time": "2022-05-16T10:25:42.949Z"
   },
   {
    "duration": 586,
    "start_time": "2022-05-16T10:25:49.741Z"
   },
   {
    "duration": 816,
    "start_time": "2022-05-16T10:26:14.353Z"
   },
   {
    "duration": 2,
    "start_time": "2022-05-16T10:27:59.539Z"
   },
   {
    "duration": 16,
    "start_time": "2022-05-16T10:41:57.915Z"
   },
   {
    "duration": 104,
    "start_time": "2022-05-16T10:48:44.515Z"
   },
   {
    "duration": 1205,
    "start_time": "2022-05-16T10:48:51.917Z"
   },
   {
    "duration": 232,
    "start_time": "2022-05-16T10:48:53.124Z"
   },
   {
    "duration": 14,
    "start_time": "2022-05-16T10:48:53.358Z"
   },
   {
    "duration": 9,
    "start_time": "2022-05-16T10:48:53.374Z"
   },
   {
    "duration": 23,
    "start_time": "2022-05-16T10:48:53.384Z"
   },
   {
    "duration": 17,
    "start_time": "2022-05-16T10:48:53.409Z"
   },
   {
    "duration": 119,
    "start_time": "2022-05-16T10:48:53.428Z"
   },
   {
    "duration": 0,
    "start_time": "2022-05-16T10:48:53.549Z"
   },
   {
    "duration": 0,
    "start_time": "2022-05-16T10:48:53.551Z"
   },
   {
    "duration": 0,
    "start_time": "2022-05-16T10:48:53.552Z"
   },
   {
    "duration": 0,
    "start_time": "2022-05-16T10:48:53.553Z"
   },
   {
    "duration": 0,
    "start_time": "2022-05-16T10:48:53.554Z"
   },
   {
    "duration": 0,
    "start_time": "2022-05-16T10:48:53.555Z"
   },
   {
    "duration": 0,
    "start_time": "2022-05-16T10:48:53.556Z"
   },
   {
    "duration": 0,
    "start_time": "2022-05-16T10:48:53.557Z"
   },
   {
    "duration": 0,
    "start_time": "2022-05-16T10:48:53.558Z"
   },
   {
    "duration": 0,
    "start_time": "2022-05-16T10:48:53.559Z"
   },
   {
    "duration": 0,
    "start_time": "2022-05-16T10:48:53.561Z"
   },
   {
    "duration": 0,
    "start_time": "2022-05-16T10:48:53.561Z"
   },
   {
    "duration": 0,
    "start_time": "2022-05-16T10:48:53.562Z"
   },
   {
    "duration": 0,
    "start_time": "2022-05-16T10:48:53.563Z"
   },
   {
    "duration": 0,
    "start_time": "2022-05-16T10:48:53.564Z"
   },
   {
    "duration": 13,
    "start_time": "2022-05-16T10:49:18.565Z"
   },
   {
    "duration": 439,
    "start_time": "2022-05-16T10:49:40.946Z"
   },
   {
    "duration": 76,
    "start_time": "2022-05-16T10:50:23.471Z"
   },
   {
    "duration": 150,
    "start_time": "2022-05-16T10:50:29.758Z"
   },
   {
    "duration": 66,
    "start_time": "2022-05-16T10:51:02.057Z"
   },
   {
    "duration": 77,
    "start_time": "2022-05-16T10:51:49.995Z"
   },
   {
    "duration": 25,
    "start_time": "2022-05-16T10:52:12.577Z"
   },
   {
    "duration": 227,
    "start_time": "2022-05-16T10:52:37.883Z"
   },
   {
    "duration": 271,
    "start_time": "2022-05-16T10:52:46.027Z"
   },
   {
    "duration": 229,
    "start_time": "2022-05-16T11:53:30.844Z"
   },
   {
    "duration": 21,
    "start_time": "2022-05-16T11:54:49.529Z"
   },
   {
    "duration": 53,
    "start_time": "2022-05-16T11:55:11.956Z"
   },
   {
    "duration": 16,
    "start_time": "2022-05-16T11:55:55.233Z"
   },
   {
    "duration": 16,
    "start_time": "2022-05-16T11:56:38.130Z"
   },
   {
    "duration": 15,
    "start_time": "2022-05-16T11:56:44.417Z"
   },
   {
    "duration": 19,
    "start_time": "2022-05-16T11:56:53.174Z"
   },
   {
    "duration": 76,
    "start_time": "2022-05-16T11:57:38.121Z"
   },
   {
    "duration": 10,
    "start_time": "2022-05-16T11:57:57.362Z"
   },
   {
    "duration": 10,
    "start_time": "2022-05-16T11:58:16.327Z"
   },
   {
    "duration": 15,
    "start_time": "2022-05-16T11:58:21.980Z"
   },
   {
    "duration": 95,
    "start_time": "2022-05-16T11:58:45.789Z"
   },
   {
    "duration": 10,
    "start_time": "2022-05-16T12:02:50.246Z"
   },
   {
    "duration": 24,
    "start_time": "2022-05-16T12:03:24.754Z"
   },
   {
    "duration": 16,
    "start_time": "2022-05-16T12:03:42.160Z"
   },
   {
    "duration": 15,
    "start_time": "2022-05-16T12:05:06.418Z"
   },
   {
    "duration": 25,
    "start_time": "2022-05-16T12:09:50.473Z"
   },
   {
    "duration": 17,
    "start_time": "2022-05-16T12:11:18.373Z"
   },
   {
    "duration": 15,
    "start_time": "2022-05-16T12:11:51.780Z"
   },
   {
    "duration": 68,
    "start_time": "2022-05-16T12:12:13.997Z"
   },
   {
    "duration": 16,
    "start_time": "2022-05-16T12:12:30.010Z"
   },
   {
    "duration": 15,
    "start_time": "2022-05-16T12:13:04.567Z"
   },
   {
    "duration": 15,
    "start_time": "2022-05-16T12:13:57.791Z"
   },
   {
    "duration": 1466,
    "start_time": "2022-05-16T12:14:30.404Z"
   },
   {
    "duration": 1766,
    "start_time": "2022-05-16T12:15:05.853Z"
   },
   {
    "duration": 4,
    "start_time": "2022-05-16T12:15:50.274Z"
   },
   {
    "duration": 4,
    "start_time": "2022-05-16T12:16:10.235Z"
   },
   {
    "duration": 4,
    "start_time": "2022-05-16T12:16:51.020Z"
   },
   {
    "duration": 9,
    "start_time": "2022-05-16T12:17:15.978Z"
   },
   {
    "duration": 13,
    "start_time": "2022-05-16T12:17:39.661Z"
   },
   {
    "duration": 273,
    "start_time": "2022-05-16T12:18:09.193Z"
   },
   {
    "duration": 258,
    "start_time": "2022-05-16T12:18:26.530Z"
   },
   {
    "duration": 111,
    "start_time": "2022-05-16T12:18:27.147Z"
   },
   {
    "duration": 17,
    "start_time": "2022-05-16T12:20:08.963Z"
   },
   {
    "duration": 10,
    "start_time": "2022-05-16T12:20:39.280Z"
   },
   {
    "duration": 15,
    "start_time": "2022-05-16T12:20:55.210Z"
   },
   {
    "duration": 15,
    "start_time": "2022-05-16T12:21:52.481Z"
   },
   {
    "duration": 12,
    "start_time": "2022-05-16T12:22:26.703Z"
   },
   {
    "duration": 58,
    "start_time": "2022-05-16T12:29:21.810Z"
   },
   {
    "duration": 1256,
    "start_time": "2022-05-16T12:29:29.952Z"
   },
   {
    "duration": 13,
    "start_time": "2022-05-16T12:30:53.439Z"
   },
   {
    "duration": 7,
    "start_time": "2022-05-16T12:31:20.365Z"
   },
   {
    "duration": 9,
    "start_time": "2022-05-16T12:33:49.912Z"
   },
   {
    "duration": 4,
    "start_time": "2022-05-16T12:34:00.689Z"
   },
   {
    "duration": 4,
    "start_time": "2022-05-16T12:34:09.959Z"
   },
   {
    "duration": 16,
    "start_time": "2022-05-16T12:34:53.703Z"
   },
   {
    "duration": 14,
    "start_time": "2022-05-16T12:35:05.153Z"
   },
   {
    "duration": 1168,
    "start_time": "2022-05-16T12:35:32.529Z"
   },
   {
    "duration": 97,
    "start_time": "2022-05-16T12:35:33.699Z"
   },
   {
    "duration": 13,
    "start_time": "2022-05-16T12:35:33.798Z"
   },
   {
    "duration": 11,
    "start_time": "2022-05-16T12:35:33.813Z"
   },
   {
    "duration": 19,
    "start_time": "2022-05-16T12:35:33.825Z"
   },
   {
    "duration": 15,
    "start_time": "2022-05-16T12:35:33.845Z"
   },
   {
    "duration": 301,
    "start_time": "2022-05-16T12:35:33.862Z"
   },
   {
    "duration": 130,
    "start_time": "2022-05-16T12:35:34.164Z"
   },
   {
    "duration": 127,
    "start_time": "2022-05-16T12:35:34.296Z"
   },
   {
    "duration": 0,
    "start_time": "2022-05-16T12:35:34.425Z"
   },
   {
    "duration": 0,
    "start_time": "2022-05-16T12:35:34.427Z"
   },
   {
    "duration": 0,
    "start_time": "2022-05-16T12:35:34.428Z"
   },
   {
    "duration": 0,
    "start_time": "2022-05-16T12:35:34.429Z"
   },
   {
    "duration": 0,
    "start_time": "2022-05-16T12:35:34.430Z"
   },
   {
    "duration": 0,
    "start_time": "2022-05-16T12:35:34.431Z"
   },
   {
    "duration": 0,
    "start_time": "2022-05-16T12:35:34.432Z"
   },
   {
    "duration": 0,
    "start_time": "2022-05-16T12:35:34.433Z"
   },
   {
    "duration": 0,
    "start_time": "2022-05-16T12:35:34.433Z"
   },
   {
    "duration": 0,
    "start_time": "2022-05-16T12:35:34.435Z"
   },
   {
    "duration": 0,
    "start_time": "2022-05-16T12:35:34.435Z"
   },
   {
    "duration": 0,
    "start_time": "2022-05-16T12:35:34.436Z"
   },
   {
    "duration": 0,
    "start_time": "2022-05-16T12:35:34.437Z"
   },
   {
    "duration": 0,
    "start_time": "2022-05-16T12:35:34.438Z"
   },
   {
    "duration": 0,
    "start_time": "2022-05-16T12:35:34.438Z"
   },
   {
    "duration": 11,
    "start_time": "2022-05-16T12:35:39.845Z"
   },
   {
    "duration": 23,
    "start_time": "2022-05-16T12:38:30.458Z"
   },
   {
    "duration": 10,
    "start_time": "2022-05-16T12:41:03.138Z"
   },
   {
    "duration": 9,
    "start_time": "2022-05-16T12:41:26.403Z"
   },
   {
    "duration": 3,
    "start_time": "2022-05-16T12:41:27.456Z"
   },
   {
    "duration": 280,
    "start_time": "2022-05-16T12:41:27.659Z"
   },
   {
    "duration": 15,
    "start_time": "2022-05-16T12:41:27.941Z"
   },
   {
    "duration": 1196,
    "start_time": "2022-05-16T14:03:02.508Z"
   },
   {
    "duration": 63,
    "start_time": "2022-05-16T14:03:03.706Z"
   },
   {
    "duration": 13,
    "start_time": "2022-05-16T14:03:03.771Z"
   },
   {
    "duration": 9,
    "start_time": "2022-05-16T14:03:03.786Z"
   },
   {
    "duration": 27,
    "start_time": "2022-05-16T14:03:03.796Z"
   },
   {
    "duration": 16,
    "start_time": "2022-05-16T14:03:03.825Z"
   },
   {
    "duration": 297,
    "start_time": "2022-05-16T14:03:03.842Z"
   },
   {
    "duration": 128,
    "start_time": "2022-05-16T14:03:04.141Z"
   },
   {
    "duration": 14,
    "start_time": "2022-05-16T14:03:04.271Z"
   },
   {
    "duration": 4,
    "start_time": "2022-05-16T14:03:04.287Z"
   },
   {
    "duration": 290,
    "start_time": "2022-05-16T14:03:04.307Z"
   },
   {
    "duration": 17,
    "start_time": "2022-05-16T14:03:04.599Z"
   },
   {
    "duration": 602,
    "start_time": "2022-05-16T14:03:04.618Z"
   },
   {
    "duration": 20,
    "start_time": "2022-05-16T14:03:05.221Z"
   },
   {
    "duration": 687,
    "start_time": "2022-05-16T14:03:05.242Z"
   },
   {
    "duration": 14,
    "start_time": "2022-05-16T14:03:05.931Z"
   },
   {
    "duration": 9,
    "start_time": "2022-05-16T14:03:05.947Z"
   },
   {
    "duration": 20,
    "start_time": "2022-05-16T14:03:05.958Z"
   },
   {
    "duration": 706,
    "start_time": "2022-05-16T14:03:05.980Z"
   },
   {
    "duration": 7,
    "start_time": "2022-05-16T14:03:06.688Z"
   },
   {
    "duration": 13,
    "start_time": "2022-05-16T14:03:06.697Z"
   },
   {
    "duration": 14,
    "start_time": "2022-05-16T14:03:06.712Z"
   },
   {
    "duration": 20,
    "start_time": "2022-05-16T14:03:06.727Z"
   },
   {
    "duration": 11,
    "start_time": "2022-05-16T14:03:06.749Z"
   },
   {
    "duration": 139,
    "start_time": "2022-05-16T14:07:55.608Z"
   },
   {
    "duration": 11,
    "start_time": "2022-05-16T14:09:43.247Z"
   },
   {
    "duration": 9,
    "start_time": "2022-05-16T14:10:06.509Z"
   },
   {
    "duration": 9,
    "start_time": "2022-05-16T14:11:57.491Z"
   },
   {
    "duration": 445,
    "start_time": "2022-05-16T14:12:43.893Z"
   },
   {
    "duration": 18,
    "start_time": "2022-05-16T14:12:59.840Z"
   },
   {
    "duration": 8,
    "start_time": "2022-05-16T14:13:33.564Z"
   },
   {
    "duration": 8,
    "start_time": "2022-05-16T14:13:44.354Z"
   },
   {
    "duration": 127,
    "start_time": "2022-05-16T14:13:47.312Z"
   },
   {
    "duration": 6,
    "start_time": "2022-05-16T14:13:48.398Z"
   },
   {
    "duration": 16,
    "start_time": "2022-05-16T14:15:14.266Z"
   },
   {
    "duration": 81,
    "start_time": "2022-05-16T14:15:33.428Z"
   },
   {
    "duration": 13,
    "start_time": "2022-05-16T14:15:41.082Z"
   },
   {
    "duration": 9,
    "start_time": "2022-05-16T14:16:53.553Z"
   },
   {
    "duration": 9,
    "start_time": "2022-05-16T14:17:08.847Z"
   },
   {
    "duration": 2,
    "start_time": "2022-05-16T14:17:50.054Z"
   },
   {
    "duration": 13,
    "start_time": "2022-05-16T14:17:50.988Z"
   },
   {
    "duration": 9,
    "start_time": "2022-05-16T14:17:51.585Z"
   },
   {
    "duration": 263,
    "start_time": "2022-05-16T14:17:54.809Z"
   },
   {
    "duration": 2,
    "start_time": "2022-05-16T14:17:55.350Z"
   },
   {
    "duration": 13,
    "start_time": "2022-05-16T14:17:56.708Z"
   },
   {
    "duration": 8,
    "start_time": "2022-05-16T14:17:59.345Z"
   },
   {
    "duration": 8,
    "start_time": "2022-05-16T14:19:57.037Z"
   },
   {
    "duration": 10,
    "start_time": "2022-05-16T14:20:25.089Z"
   },
   {
    "duration": 10,
    "start_time": "2022-05-16T14:21:55.163Z"
   },
   {
    "duration": 11,
    "start_time": "2022-05-16T14:23:23.670Z"
   },
   {
    "duration": 12,
    "start_time": "2022-05-16T14:23:32.888Z"
   },
   {
    "duration": 10,
    "start_time": "2022-05-16T14:23:40.408Z"
   },
   {
    "duration": 10,
    "start_time": "2022-05-16T14:23:52.675Z"
   },
   {
    "duration": 12,
    "start_time": "2022-05-16T14:24:35.479Z"
   },
   {
    "duration": 13,
    "start_time": "2022-05-16T14:24:51.450Z"
   },
   {
    "duration": 12,
    "start_time": "2022-05-16T14:25:08.005Z"
   },
   {
    "duration": 8,
    "start_time": "2022-05-16T14:25:21.555Z"
   },
   {
    "duration": 11,
    "start_time": "2022-05-16T14:25:37.777Z"
   },
   {
    "duration": 14,
    "start_time": "2022-05-16T14:26:45.129Z"
   },
   {
    "duration": 25,
    "start_time": "2022-05-16T14:28:52.064Z"
   },
   {
    "duration": 14,
    "start_time": "2022-05-16T14:29:10.519Z"
   },
   {
    "duration": 13,
    "start_time": "2022-05-16T14:29:20.428Z"
   },
   {
    "duration": 13,
    "start_time": "2022-05-16T14:29:29.210Z"
   },
   {
    "duration": 5,
    "start_time": "2022-05-16T14:31:56.659Z"
   },
   {
    "duration": 14,
    "start_time": "2022-05-16T14:45:48.905Z"
   },
   {
    "duration": 14,
    "start_time": "2022-05-16T14:46:24.174Z"
   },
   {
    "duration": 12,
    "start_time": "2022-05-16T14:46:25.149Z"
   },
   {
    "duration": 13,
    "start_time": "2022-05-16T14:49:12.437Z"
   },
   {
    "duration": 18,
    "start_time": "2022-05-16T14:49:22.651Z"
   },
   {
    "duration": 13,
    "start_time": "2022-05-16T14:55:10.928Z"
   },
   {
    "duration": 312,
    "start_time": "2022-05-16T14:57:12.896Z"
   },
   {
    "duration": 7,
    "start_time": "2022-05-16T14:59:39.652Z"
   },
   {
    "duration": 6,
    "start_time": "2022-05-16T15:00:18.320Z"
   },
   {
    "duration": 600,
    "start_time": "2022-05-16T15:08:47.397Z"
   },
   {
    "duration": 747,
    "start_time": "2022-05-16T15:14:58.487Z"
   },
   {
    "duration": 11,
    "start_time": "2022-05-16T15:17:50.654Z"
   },
   {
    "duration": 654,
    "start_time": "2022-05-16T15:20:36.613Z"
   },
   {
    "duration": 6,
    "start_time": "2022-05-16T15:22:44.837Z"
   },
   {
    "duration": 13,
    "start_time": "2022-05-16T15:26:13.503Z"
   },
   {
    "duration": 12,
    "start_time": "2022-05-16T15:29:10.836Z"
   },
   {
    "duration": 47,
    "start_time": "2022-05-16T16:48:36.783Z"
   },
   {
    "duration": 1419,
    "start_time": "2022-05-16T16:56:21.489Z"
   },
   {
    "duration": 61,
    "start_time": "2022-05-16T16:56:22.910Z"
   },
   {
    "duration": 14,
    "start_time": "2022-05-16T16:56:22.972Z"
   },
   {
    "duration": 25,
    "start_time": "2022-05-16T16:56:22.988Z"
   },
   {
    "duration": 20,
    "start_time": "2022-05-16T16:56:23.014Z"
   },
   {
    "duration": 16,
    "start_time": "2022-05-16T16:56:23.035Z"
   },
   {
    "duration": 4,
    "start_time": "2022-05-16T16:56:23.053Z"
   },
   {
    "duration": 328,
    "start_time": "2022-05-16T16:56:23.059Z"
   },
   {
    "duration": 19,
    "start_time": "2022-05-16T16:56:23.389Z"
   },
   {
    "duration": 153,
    "start_time": "2022-05-16T16:56:23.411Z"
   },
   {
    "duration": 362,
    "start_time": "2022-05-16T16:56:23.565Z"
   },
   {
    "duration": 14,
    "start_time": "2022-05-16T16:56:23.929Z"
   },
   {
    "duration": 652,
    "start_time": "2022-05-16T16:56:23.945Z"
   },
   {
    "duration": 24,
    "start_time": "2022-05-16T16:56:24.599Z"
   },
   {
    "duration": 684,
    "start_time": "2022-05-16T16:56:24.625Z"
   },
   {
    "duration": 16,
    "start_time": "2022-05-16T16:56:25.312Z"
   },
   {
    "duration": 10,
    "start_time": "2022-05-16T16:56:25.330Z"
   },
   {
    "duration": 19,
    "start_time": "2022-05-16T16:56:25.342Z"
   },
   {
    "duration": 667,
    "start_time": "2022-05-16T16:56:25.363Z"
   },
   {
    "duration": 7,
    "start_time": "2022-05-16T16:56:26.032Z"
   },
   {
    "duration": 7,
    "start_time": "2022-05-16T16:56:26.040Z"
   },
   {
    "duration": 12,
    "start_time": "2022-05-16T16:56:26.048Z"
   },
   {
    "duration": 20,
    "start_time": "2022-05-16T16:56:26.061Z"
   },
   {
    "duration": 35,
    "start_time": "2022-05-16T16:56:26.082Z"
   },
   {
    "duration": 180,
    "start_time": "2022-05-16T17:01:44.878Z"
   },
   {
    "duration": 252,
    "start_time": "2022-05-16T17:06:29.460Z"
   },
   {
    "duration": 676,
    "start_time": "2022-05-16T17:07:31.152Z"
   },
   {
    "duration": 621,
    "start_time": "2022-05-16T17:07:51.931Z"
   },
   {
    "duration": 116,
    "start_time": "2022-05-16T17:08:25.718Z"
   },
   {
    "duration": 584,
    "start_time": "2022-05-16T17:08:54.788Z"
   },
   {
    "duration": 546,
    "start_time": "2022-05-16T17:12:02.513Z"
   },
   {
    "duration": 544,
    "start_time": "2022-05-16T17:12:34.019Z"
   },
   {
    "duration": 382,
    "start_time": "2022-05-16T17:12:48.318Z"
   },
   {
    "duration": 5,
    "start_time": "2022-05-16T17:14:32.611Z"
   },
   {
    "duration": 7,
    "start_time": "2022-05-16T17:15:09.081Z"
   },
   {
    "duration": 6,
    "start_time": "2022-05-16T17:15:36.574Z"
   },
   {
    "duration": 5,
    "start_time": "2022-05-16T17:15:44.874Z"
   },
   {
    "duration": 235,
    "start_time": "2022-05-16T17:17:38.776Z"
   },
   {
    "duration": 206,
    "start_time": "2022-05-16T17:18:07.950Z"
   },
   {
    "duration": 239,
    "start_time": "2022-05-16T17:20:23.432Z"
   },
   {
    "duration": 220,
    "start_time": "2022-05-16T17:20:32.079Z"
   },
   {
    "duration": 211,
    "start_time": "2022-05-16T17:20:41.547Z"
   },
   {
    "duration": 161,
    "start_time": "2022-05-16T17:23:55.420Z"
   },
   {
    "duration": 330,
    "start_time": "2022-05-16T17:24:32.039Z"
   },
   {
    "duration": 209,
    "start_time": "2022-05-16T17:30:29.357Z"
   },
   {
    "duration": 196,
    "start_time": "2022-05-16T17:30:53.273Z"
   },
   {
    "duration": 320,
    "start_time": "2022-05-16T17:43:46.515Z"
   },
   {
    "duration": 239,
    "start_time": "2022-05-16T17:44:32.714Z"
   },
   {
    "duration": 226,
    "start_time": "2022-05-16T17:44:48.142Z"
   },
   {
    "duration": 269,
    "start_time": "2022-05-16T17:45:02.998Z"
   },
   {
    "duration": 204,
    "start_time": "2022-05-16T17:45:12.347Z"
   },
   {
    "duration": 190,
    "start_time": "2022-05-16T17:45:28.474Z"
   },
   {
    "duration": 386,
    "start_time": "2022-05-16T17:50:02.364Z"
   },
   {
    "duration": 19,
    "start_time": "2022-05-16T17:50:12.340Z"
   },
   {
    "duration": 15,
    "start_time": "2022-05-16T17:50:52.493Z"
   },
   {
    "duration": 12,
    "start_time": "2022-05-16T17:51:27.689Z"
   },
   {
    "duration": 17,
    "start_time": "2022-05-16T17:52:19.051Z"
   },
   {
    "duration": 6,
    "start_time": "2022-05-16T17:57:08.090Z"
   },
   {
    "duration": 525,
    "start_time": "2022-05-16T18:01:58.219Z"
   },
   {
    "duration": 8,
    "start_time": "2022-05-16T18:05:29.644Z"
   },
   {
    "duration": 20,
    "start_time": "2022-05-16T18:10:08.257Z"
   },
   {
    "duration": 575,
    "start_time": "2022-05-16T18:11:24.327Z"
   },
   {
    "duration": 569,
    "start_time": "2022-05-16T18:11:35.622Z"
   },
   {
    "duration": 740,
    "start_time": "2022-05-16T18:11:42.776Z"
   },
   {
    "duration": 541,
    "start_time": "2022-05-16T18:11:51.127Z"
   },
   {
    "duration": 528,
    "start_time": "2022-05-16T18:12:00.051Z"
   },
   {
    "duration": 546,
    "start_time": "2022-05-16T18:12:07.828Z"
   },
   {
    "duration": 508,
    "start_time": "2022-05-16T18:12:46.691Z"
   },
   {
    "duration": 520,
    "start_time": "2022-05-16T18:12:53.126Z"
   },
   {
    "duration": 540,
    "start_time": "2022-05-16T18:13:02.147Z"
   },
   {
    "duration": 80,
    "start_time": "2022-05-16T18:13:29.352Z"
   },
   {
    "duration": 527,
    "start_time": "2022-05-16T18:13:34.274Z"
   },
   {
    "duration": 562,
    "start_time": "2022-05-16T18:13:45.508Z"
   },
   {
    "duration": 531,
    "start_time": "2022-05-16T18:13:57.244Z"
   },
   {
    "duration": 573,
    "start_time": "2022-05-16T18:14:03.276Z"
   },
   {
    "duration": 548,
    "start_time": "2022-05-16T18:14:12.000Z"
   },
   {
    "duration": 513,
    "start_time": "2022-05-16T18:18:46.267Z"
   },
   {
    "duration": 526,
    "start_time": "2022-05-16T18:18:54.052Z"
   },
   {
    "duration": 592,
    "start_time": "2022-05-16T18:19:08.813Z"
   },
   {
    "duration": 533,
    "start_time": "2022-05-16T18:19:16.073Z"
   },
   {
    "duration": 9,
    "start_time": "2022-05-16T18:20:39.701Z"
   },
   {
    "duration": 1621,
    "start_time": "2022-05-16T18:21:09.589Z"
   },
   {
    "duration": 1988,
    "start_time": "2022-05-17T06:36:18.699Z"
   },
   {
    "duration": 83,
    "start_time": "2022-05-17T06:36:20.689Z"
   },
   {
    "duration": 20,
    "start_time": "2022-05-17T06:36:20.774Z"
   },
   {
    "duration": 15,
    "start_time": "2022-05-17T06:36:20.797Z"
   },
   {
    "duration": 58,
    "start_time": "2022-05-17T06:36:20.814Z"
   },
   {
    "duration": 26,
    "start_time": "2022-05-17T06:36:20.874Z"
   },
   {
    "duration": 7,
    "start_time": "2022-05-17T06:36:20.902Z"
   },
   {
    "duration": 552,
    "start_time": "2022-05-17T06:36:20.911Z"
   },
   {
    "duration": 20,
    "start_time": "2022-05-17T06:36:21.465Z"
   },
   {
    "duration": 251,
    "start_time": "2022-05-17T06:36:21.488Z"
   },
   {
    "duration": 610,
    "start_time": "2022-05-17T06:36:21.742Z"
   },
   {
    "duration": 20,
    "start_time": "2022-05-17T06:36:22.354Z"
   },
   {
    "duration": 981,
    "start_time": "2022-05-17T06:36:22.376Z"
   },
   {
    "duration": 2240,
    "start_time": "2022-05-17T06:36:23.359Z"
   },
   {
    "duration": 28,
    "start_time": "2022-05-17T06:36:25.603Z"
   },
   {
    "duration": 1258,
    "start_time": "2022-05-17T06:36:25.651Z"
   },
   {
    "duration": 24,
    "start_time": "2022-05-17T06:36:26.911Z"
   },
   {
    "duration": 25,
    "start_time": "2022-05-17T06:36:26.938Z"
   },
   {
    "duration": 29,
    "start_time": "2022-05-17T06:36:26.965Z"
   },
   {
    "duration": 1063,
    "start_time": "2022-05-17T06:36:26.996Z"
   },
   {
    "duration": 10,
    "start_time": "2022-05-17T06:36:28.061Z"
   },
   {
    "duration": 10,
    "start_time": "2022-05-17T06:36:28.073Z"
   },
   {
    "duration": 19,
    "start_time": "2022-05-17T06:36:28.085Z"
   },
   {
    "duration": 391,
    "start_time": "2022-05-17T06:36:28.107Z"
   },
   {
    "duration": 24,
    "start_time": "2022-05-17T06:36:28.501Z"
   },
   {
    "duration": 39,
    "start_time": "2022-05-17T06:36:28.527Z"
   },
   {
    "duration": 204,
    "start_time": "2022-05-17T06:37:27.489Z"
   },
   {
    "duration": 246,
    "start_time": "2022-05-17T06:37:40.966Z"
   },
   {
    "duration": 1023,
    "start_time": "2022-05-17T06:38:29.392Z"
   },
   {
    "duration": 200,
    "start_time": "2022-05-17T06:38:52.725Z"
   },
   {
    "duration": 985,
    "start_time": "2022-05-17T06:39:03.673Z"
   },
   {
    "duration": 950,
    "start_time": "2022-05-17T06:39:20.143Z"
   },
   {
    "duration": 915,
    "start_time": "2022-05-17T06:40:19.359Z"
   },
   {
    "duration": 14,
    "start_time": "2022-05-17T07:03:53.074Z"
   },
   {
    "duration": 12,
    "start_time": "2022-05-17T07:04:27.463Z"
   },
   {
    "duration": 10,
    "start_time": "2022-05-17T07:05:20.677Z"
   },
   {
    "duration": 10,
    "start_time": "2022-05-17T07:05:36.864Z"
   },
   {
    "duration": 50,
    "start_time": "2022-05-17T19:29:23.047Z"
   },
   {
    "duration": 2009,
    "start_time": "2022-05-17T19:30:51.638Z"
   },
   {
    "duration": 107,
    "start_time": "2022-05-17T19:30:53.649Z"
   },
   {
    "duration": 14,
    "start_time": "2022-05-17T19:30:53.757Z"
   },
   {
    "duration": 10,
    "start_time": "2022-05-17T19:30:53.773Z"
   },
   {
    "duration": 20,
    "start_time": "2022-05-17T19:30:53.785Z"
   },
   {
    "duration": 27,
    "start_time": "2022-05-17T19:30:53.807Z"
   },
   {
    "duration": 5,
    "start_time": "2022-05-17T19:30:53.835Z"
   },
   {
    "duration": 395,
    "start_time": "2022-05-17T19:30:53.842Z"
   },
   {
    "duration": 13,
    "start_time": "2022-05-17T19:30:54.239Z"
   },
   {
    "duration": 138,
    "start_time": "2022-05-17T19:30:54.254Z"
   },
   {
    "duration": 367,
    "start_time": "2022-05-17T19:30:54.394Z"
   },
   {
    "duration": 16,
    "start_time": "2022-05-17T19:30:54.763Z"
   },
   {
    "duration": 637,
    "start_time": "2022-05-17T19:30:54.780Z"
   },
   {
    "duration": 24,
    "start_time": "2022-05-17T19:30:55.419Z"
   },
   {
    "duration": 686,
    "start_time": "2022-05-17T19:30:55.444Z"
   },
   {
    "duration": 19,
    "start_time": "2022-05-17T19:30:56.132Z"
   },
   {
    "duration": 13,
    "start_time": "2022-05-17T19:30:56.152Z"
   },
   {
    "duration": 22,
    "start_time": "2022-05-17T19:30:56.167Z"
   },
   {
    "duration": 671,
    "start_time": "2022-05-17T19:30:56.191Z"
   },
   {
    "duration": 8,
    "start_time": "2022-05-17T19:30:56.863Z"
   },
   {
    "duration": 9,
    "start_time": "2022-05-17T19:30:56.872Z"
   },
   {
    "duration": 17,
    "start_time": "2022-05-17T19:30:56.883Z"
   },
   {
    "duration": 205,
    "start_time": "2022-05-17T19:30:56.902Z"
   },
   {
    "duration": 21,
    "start_time": "2022-05-17T19:30:57.109Z"
   },
   {
    "duration": 12,
    "start_time": "2022-05-17T19:30:57.131Z"
   },
   {
    "duration": 74,
    "start_time": "2022-05-19T14:25:06.810Z"
   },
   {
    "duration": 1587,
    "start_time": "2022-05-19T14:25:11.186Z"
   },
   {
    "duration": 122,
    "start_time": "2022-05-19T14:25:12.779Z"
   },
   {
    "duration": 20,
    "start_time": "2022-05-19T14:25:12.902Z"
   },
   {
    "duration": 23,
    "start_time": "2022-05-19T14:25:12.924Z"
   },
   {
    "duration": 179,
    "start_time": "2022-05-19T14:25:12.951Z"
   },
   {
    "duration": 0,
    "start_time": "2022-05-19T14:25:13.132Z"
   },
   {
    "duration": 0,
    "start_time": "2022-05-19T14:25:13.134Z"
   },
   {
    "duration": 0,
    "start_time": "2022-05-19T14:25:13.136Z"
   },
   {
    "duration": 0,
    "start_time": "2022-05-19T14:25:13.137Z"
   },
   {
    "duration": 0,
    "start_time": "2022-05-19T14:25:13.139Z"
   },
   {
    "duration": 1,
    "start_time": "2022-05-19T14:25:13.140Z"
   },
   {
    "duration": 0,
    "start_time": "2022-05-19T14:25:13.142Z"
   },
   {
    "duration": 0,
    "start_time": "2022-05-19T14:25:13.143Z"
   },
   {
    "duration": 0,
    "start_time": "2022-05-19T14:25:13.145Z"
   },
   {
    "duration": 0,
    "start_time": "2022-05-19T14:25:13.168Z"
   },
   {
    "duration": 0,
    "start_time": "2022-05-19T14:25:13.169Z"
   },
   {
    "duration": 0,
    "start_time": "2022-05-19T14:25:13.170Z"
   },
   {
    "duration": 0,
    "start_time": "2022-05-19T14:25:13.171Z"
   },
   {
    "duration": 0,
    "start_time": "2022-05-19T14:25:13.172Z"
   },
   {
    "duration": 0,
    "start_time": "2022-05-19T14:25:13.173Z"
   },
   {
    "duration": 0,
    "start_time": "2022-05-19T14:25:13.174Z"
   },
   {
    "duration": 0,
    "start_time": "2022-05-19T14:25:13.175Z"
   },
   {
    "duration": 0,
    "start_time": "2022-05-19T14:25:13.176Z"
   },
   {
    "duration": 0,
    "start_time": "2022-05-19T14:25:13.177Z"
   },
   {
    "duration": 0,
    "start_time": "2022-05-19T14:25:13.178Z"
   },
   {
    "duration": 13,
    "start_time": "2022-05-19T14:27:22.391Z"
   },
   {
    "duration": 1312,
    "start_time": "2022-05-19T14:27:53.214Z"
   },
   {
    "duration": 81,
    "start_time": "2022-05-19T14:27:54.528Z"
   },
   {
    "duration": 16,
    "start_time": "2022-05-19T14:27:54.614Z"
   },
   {
    "duration": 11,
    "start_time": "2022-05-19T14:27:54.631Z"
   },
   {
    "duration": 159,
    "start_time": "2022-05-19T14:27:54.644Z"
   },
   {
    "duration": 0,
    "start_time": "2022-05-19T14:27:54.805Z"
   },
   {
    "duration": 0,
    "start_time": "2022-05-19T14:27:54.806Z"
   },
   {
    "duration": 0,
    "start_time": "2022-05-19T14:27:54.807Z"
   },
   {
    "duration": 0,
    "start_time": "2022-05-19T14:27:54.808Z"
   },
   {
    "duration": 1,
    "start_time": "2022-05-19T14:27:54.809Z"
   },
   {
    "duration": 0,
    "start_time": "2022-05-19T14:27:54.811Z"
   },
   {
    "duration": 0,
    "start_time": "2022-05-19T14:27:54.812Z"
   },
   {
    "duration": 0,
    "start_time": "2022-05-19T14:27:54.813Z"
   },
   {
    "duration": 0,
    "start_time": "2022-05-19T14:27:54.814Z"
   },
   {
    "duration": 0,
    "start_time": "2022-05-19T14:27:54.815Z"
   },
   {
    "duration": 0,
    "start_time": "2022-05-19T14:27:54.816Z"
   },
   {
    "duration": 0,
    "start_time": "2022-05-19T14:27:54.817Z"
   },
   {
    "duration": 0,
    "start_time": "2022-05-19T14:27:54.818Z"
   },
   {
    "duration": 0,
    "start_time": "2022-05-19T14:27:54.819Z"
   },
   {
    "duration": 0,
    "start_time": "2022-05-19T14:27:54.820Z"
   },
   {
    "duration": 0,
    "start_time": "2022-05-19T14:27:54.821Z"
   },
   {
    "duration": 0,
    "start_time": "2022-05-19T14:27:54.822Z"
   },
   {
    "duration": 0,
    "start_time": "2022-05-19T14:27:54.823Z"
   },
   {
    "duration": 0,
    "start_time": "2022-05-19T14:27:54.824Z"
   },
   {
    "duration": 0,
    "start_time": "2022-05-19T14:27:54.825Z"
   },
   {
    "duration": 277,
    "start_time": "2022-05-19T14:30:48.032Z"
   },
   {
    "duration": 29,
    "start_time": "2022-05-19T14:32:23.781Z"
   },
   {
    "duration": 25,
    "start_time": "2022-05-19T14:33:18.696Z"
   },
   {
    "duration": 28,
    "start_time": "2022-05-19T14:33:40.201Z"
   },
   {
    "duration": 11,
    "start_time": "2022-05-19T14:33:49.128Z"
   },
   {
    "duration": 105,
    "start_time": "2022-05-19T14:34:08.248Z"
   },
   {
    "duration": 7,
    "start_time": "2022-05-19T14:36:59.805Z"
   },
   {
    "duration": 13,
    "start_time": "2022-05-19T14:37:25.864Z"
   },
   {
    "duration": 11,
    "start_time": "2022-05-19T14:37:35.428Z"
   },
   {
    "duration": 14,
    "start_time": "2022-05-19T14:38:02.846Z"
   },
   {
    "duration": 27,
    "start_time": "2022-05-19T14:44:06.625Z"
   },
   {
    "duration": 11,
    "start_time": "2022-05-19T14:46:35.812Z"
   },
   {
    "duration": 4,
    "start_time": "2022-05-19T14:46:51.083Z"
   },
   {
    "duration": 46,
    "start_time": "2022-05-19T14:47:14.875Z"
   },
   {
    "duration": 8,
    "start_time": "2022-05-19T14:47:56.305Z"
   },
   {
    "duration": 5,
    "start_time": "2022-05-19T14:48:11.608Z"
   },
   {
    "duration": 22,
    "start_time": "2022-05-19T14:49:03.055Z"
   },
   {
    "duration": 8,
    "start_time": "2022-05-19T14:50:38.661Z"
   },
   {
    "duration": 45,
    "start_time": "2022-05-19T14:52:11.760Z"
   },
   {
    "duration": 22,
    "start_time": "2022-05-19T14:52:21.645Z"
   },
   {
    "duration": 21,
    "start_time": "2022-05-19T14:52:43.748Z"
   },
   {
    "duration": 22,
    "start_time": "2022-05-19T14:52:44.754Z"
   },
   {
    "duration": 22,
    "start_time": "2022-05-19T14:52:56.303Z"
   },
   {
    "duration": 15,
    "start_time": "2022-05-19T14:53:47.948Z"
   },
   {
    "duration": 12,
    "start_time": "2022-05-19T14:53:49.426Z"
   },
   {
    "duration": 14,
    "start_time": "2022-05-19T14:53:51.942Z"
   },
   {
    "duration": 1290,
    "start_time": "2022-05-19T14:53:57.202Z"
   },
   {
    "duration": 68,
    "start_time": "2022-05-19T14:53:58.494Z"
   },
   {
    "duration": 16,
    "start_time": "2022-05-19T14:53:58.564Z"
   },
   {
    "duration": 10,
    "start_time": "2022-05-19T14:53:58.582Z"
   },
   {
    "duration": 26,
    "start_time": "2022-05-19T14:53:58.594Z"
   },
   {
    "duration": 15,
    "start_time": "2022-05-19T14:53:58.622Z"
   },
   {
    "duration": 40,
    "start_time": "2022-05-19T14:53:58.639Z"
   },
   {
    "duration": 16,
    "start_time": "2022-05-19T14:53:58.681Z"
   },
   {
    "duration": 5,
    "start_time": "2022-05-19T14:53:58.698Z"
   },
   {
    "duration": 476,
    "start_time": "2022-05-19T14:53:58.707Z"
   },
   {
    "duration": 15,
    "start_time": "2022-05-19T14:53:59.185Z"
   },
   {
    "duration": 166,
    "start_time": "2022-05-19T14:53:59.202Z"
   },
   {
    "duration": 403,
    "start_time": "2022-05-19T14:53:59.369Z"
   },
   {
    "duration": 16,
    "start_time": "2022-05-19T14:53:59.774Z"
   },
   {
    "duration": 608,
    "start_time": "2022-05-19T14:53:59.792Z"
   },
   {
    "duration": 22,
    "start_time": "2022-05-19T14:54:00.402Z"
   },
   {
    "duration": 795,
    "start_time": "2022-05-19T14:54:00.426Z"
   },
   {
    "duration": 17,
    "start_time": "2022-05-19T14:54:01.223Z"
   },
   {
    "duration": 41,
    "start_time": "2022-05-19T14:54:01.242Z"
   },
   {
    "duration": 33,
    "start_time": "2022-05-19T14:54:01.285Z"
   },
   {
    "duration": 737,
    "start_time": "2022-05-19T14:54:01.320Z"
   },
   {
    "duration": 8,
    "start_time": "2022-05-19T14:54:02.064Z"
   },
   {
    "duration": 22,
    "start_time": "2022-05-19T14:54:02.073Z"
   },
   {
    "duration": 19,
    "start_time": "2022-05-19T14:54:02.097Z"
   },
   {
    "duration": 246,
    "start_time": "2022-05-19T14:54:02.118Z"
   },
   {
    "duration": 21,
    "start_time": "2022-05-19T14:54:02.366Z"
   },
   {
    "duration": 20,
    "start_time": "2022-05-19T14:54:02.389Z"
   },
   {
    "duration": 37,
    "start_time": "2022-05-19T14:54:52.396Z"
   },
   {
    "duration": 18,
    "start_time": "2022-05-19T14:54:56.047Z"
   },
   {
    "duration": 1380,
    "start_time": "2022-05-19T14:55:03.744Z"
   },
   {
    "duration": 73,
    "start_time": "2022-05-19T14:55:05.126Z"
   },
   {
    "duration": 14,
    "start_time": "2022-05-19T14:55:05.201Z"
   },
   {
    "duration": 8,
    "start_time": "2022-05-19T14:55:05.217Z"
   },
   {
    "duration": 47,
    "start_time": "2022-05-19T14:55:05.228Z"
   },
   {
    "duration": 23,
    "start_time": "2022-05-19T14:55:05.277Z"
   },
   {
    "duration": 17,
    "start_time": "2022-05-19T14:55:05.302Z"
   },
   {
    "duration": 45,
    "start_time": "2022-05-19T14:55:05.321Z"
   },
   {
    "duration": 6,
    "start_time": "2022-05-19T14:55:05.368Z"
   },
   {
    "duration": 415,
    "start_time": "2022-05-19T14:55:05.376Z"
   },
   {
    "duration": 15,
    "start_time": "2022-05-19T14:55:05.793Z"
   },
   {
    "duration": 177,
    "start_time": "2022-05-19T14:55:05.810Z"
   },
   {
    "duration": 416,
    "start_time": "2022-05-19T14:55:05.989Z"
   },
   {
    "duration": 16,
    "start_time": "2022-05-19T14:55:06.408Z"
   },
   {
    "duration": 685,
    "start_time": "2022-05-19T14:55:06.425Z"
   },
   {
    "duration": 21,
    "start_time": "2022-05-19T14:55:07.112Z"
   },
   {
    "duration": 803,
    "start_time": "2022-05-19T14:55:07.134Z"
   },
   {
    "duration": 138,
    "start_time": "2022-05-19T14:55:07.939Z"
   },
   {
    "duration": 0,
    "start_time": "2022-05-19T14:55:08.078Z"
   },
   {
    "duration": 0,
    "start_time": "2022-05-19T14:55:08.080Z"
   },
   {
    "duration": 0,
    "start_time": "2022-05-19T14:55:08.082Z"
   },
   {
    "duration": 0,
    "start_time": "2022-05-19T14:55:08.084Z"
   },
   {
    "duration": 0,
    "start_time": "2022-05-19T14:55:08.086Z"
   },
   {
    "duration": 0,
    "start_time": "2022-05-19T14:55:08.087Z"
   },
   {
    "duration": 0,
    "start_time": "2022-05-19T14:55:08.089Z"
   },
   {
    "duration": 0,
    "start_time": "2022-05-19T14:55:08.091Z"
   },
   {
    "duration": 0,
    "start_time": "2022-05-19T14:55:08.092Z"
   },
   {
    "duration": 20,
    "start_time": "2022-05-19T14:55:18.943Z"
   },
   {
    "duration": 14,
    "start_time": "2022-05-19T14:56:29.444Z"
   },
   {
    "duration": 16,
    "start_time": "2022-05-19T14:56:30.054Z"
   },
   {
    "duration": 35,
    "start_time": "2022-05-19T14:58:50.101Z"
   },
   {
    "duration": 16,
    "start_time": "2022-05-19T15:03:21.552Z"
   },
   {
    "duration": 22,
    "start_time": "2022-05-19T15:03:27.009Z"
   },
   {
    "duration": 625,
    "start_time": "2022-05-19T15:03:32.272Z"
   },
   {
    "duration": 13,
    "start_time": "2022-05-19T15:05:35.451Z"
   },
   {
    "duration": 1225,
    "start_time": "2022-05-19T15:06:25.420Z"
   },
   {
    "duration": 70,
    "start_time": "2022-05-19T15:06:26.647Z"
   },
   {
    "duration": 15,
    "start_time": "2022-05-19T15:06:26.719Z"
   },
   {
    "duration": 8,
    "start_time": "2022-05-19T15:06:26.737Z"
   },
   {
    "duration": 30,
    "start_time": "2022-05-19T15:06:26.764Z"
   },
   {
    "duration": 13,
    "start_time": "2022-05-19T15:06:26.796Z"
   },
   {
    "duration": 23,
    "start_time": "2022-05-19T15:06:26.811Z"
   },
   {
    "duration": 31,
    "start_time": "2022-05-19T15:06:26.836Z"
   },
   {
    "duration": 6,
    "start_time": "2022-05-19T15:06:26.868Z"
   },
   {
    "duration": 397,
    "start_time": "2022-05-19T15:06:26.876Z"
   },
   {
    "duration": 14,
    "start_time": "2022-05-19T15:06:27.275Z"
   },
   {
    "duration": 216,
    "start_time": "2022-05-19T15:06:27.290Z"
   },
   {
    "duration": 376,
    "start_time": "2022-05-19T15:06:27.508Z"
   },
   {
    "duration": 15,
    "start_time": "2022-05-19T15:06:27.886Z"
   },
   {
    "duration": 635,
    "start_time": "2022-05-19T15:06:27.903Z"
   },
   {
    "duration": 27,
    "start_time": "2022-05-19T15:06:28.540Z"
   },
   {
    "duration": 777,
    "start_time": "2022-05-19T15:06:28.569Z"
   },
   {
    "duration": 17,
    "start_time": "2022-05-19T15:06:29.348Z"
   },
   {
    "duration": 21,
    "start_time": "2022-05-19T15:06:29.367Z"
   },
   {
    "duration": 22,
    "start_time": "2022-05-19T15:06:29.390Z"
   },
   {
    "duration": 721,
    "start_time": "2022-05-19T15:06:29.414Z"
   },
   {
    "duration": 8,
    "start_time": "2022-05-19T15:06:30.137Z"
   },
   {
    "duration": 21,
    "start_time": "2022-05-19T15:06:30.147Z"
   },
   {
    "duration": 24,
    "start_time": "2022-05-19T15:06:30.169Z"
   },
   {
    "duration": 226,
    "start_time": "2022-05-19T15:06:30.194Z"
   },
   {
    "duration": 16,
    "start_time": "2022-05-19T15:06:30.422Z"
   },
   {
    "duration": 31,
    "start_time": "2022-05-19T15:06:30.440Z"
   },
   {
    "duration": 2488,
    "start_time": "2022-05-19T15:44:25.946Z"
   },
   {
    "duration": 1781,
    "start_time": "2022-05-19T15:44:37.944Z"
   },
   {
    "duration": 38,
    "start_time": "2022-05-19T16:06:06.890Z"
   },
   {
    "duration": 715,
    "start_time": "2022-05-19T16:06:24.812Z"
   },
   {
    "duration": 771,
    "start_time": "2022-05-19T16:07:05.224Z"
   },
   {
    "duration": 11,
    "start_time": "2022-05-19T16:07:33.118Z"
   },
   {
    "duration": 9,
    "start_time": "2022-05-19T16:09:20.340Z"
   },
   {
    "duration": 8,
    "start_time": "2022-05-19T16:10:57.530Z"
   },
   {
    "duration": 19,
    "start_time": "2022-05-19T16:11:06.691Z"
   },
   {
    "duration": 13,
    "start_time": "2022-05-19T16:11:32.805Z"
   },
   {
    "duration": 21,
    "start_time": "2022-05-19T16:12:26.069Z"
   },
   {
    "duration": 1183,
    "start_time": "2022-05-19T16:17:48.628Z"
   },
   {
    "duration": 12,
    "start_time": "2022-05-19T16:18:42.342Z"
   },
   {
    "duration": 17,
    "start_time": "2022-05-19T16:23:41.781Z"
   },
   {
    "duration": 9,
    "start_time": "2022-05-19T16:27:57.887Z"
   },
   {
    "duration": 19,
    "start_time": "2022-05-19T16:28:08.802Z"
   },
   {
    "duration": 22,
    "start_time": "2022-05-19T16:28:15.127Z"
   },
   {
    "duration": 8,
    "start_time": "2022-05-19T16:29:21.809Z"
   },
   {
    "duration": 24,
    "start_time": "2022-05-19T16:31:50.713Z"
   },
   {
    "duration": 153,
    "start_time": "2022-05-19T16:34:51.422Z"
   },
   {
    "duration": 10,
    "start_time": "2022-05-19T16:34:55.948Z"
   },
   {
    "duration": 31,
    "start_time": "2022-05-19T16:35:06.361Z"
   },
   {
    "duration": 7,
    "start_time": "2022-05-19T16:37:31.378Z"
   },
   {
    "duration": 17,
    "start_time": "2022-05-19T16:38:03.418Z"
   },
   {
    "duration": 546,
    "start_time": "2022-05-19T16:38:50.179Z"
   },
   {
    "duration": 18,
    "start_time": "2022-05-19T16:39:21.361Z"
   },
   {
    "duration": 9,
    "start_time": "2022-05-19T16:39:32.411Z"
   },
   {
    "duration": 686,
    "start_time": "2022-05-19T16:41:39.191Z"
   },
   {
    "duration": 1283,
    "start_time": "2022-05-19T16:41:48.939Z"
   },
   {
    "duration": 76,
    "start_time": "2022-05-19T16:41:50.224Z"
   },
   {
    "duration": 14,
    "start_time": "2022-05-19T16:41:50.302Z"
   },
   {
    "duration": 8,
    "start_time": "2022-05-19T16:41:50.319Z"
   },
   {
    "duration": 42,
    "start_time": "2022-05-19T16:41:50.328Z"
   },
   {
    "duration": 17,
    "start_time": "2022-05-19T16:41:50.372Z"
   },
   {
    "duration": 18,
    "start_time": "2022-05-19T16:41:50.391Z"
   },
   {
    "duration": 19,
    "start_time": "2022-05-19T16:41:50.411Z"
   },
   {
    "duration": 5,
    "start_time": "2022-05-19T16:41:50.432Z"
   },
   {
    "duration": 409,
    "start_time": "2022-05-19T16:41:50.468Z"
   },
   {
    "duration": 15,
    "start_time": "2022-05-19T16:41:50.879Z"
   },
   {
    "duration": 149,
    "start_time": "2022-05-19T16:41:50.896Z"
   },
   {
    "duration": 438,
    "start_time": "2022-05-19T16:41:51.047Z"
   },
   {
    "duration": 15,
    "start_time": "2022-05-19T16:41:51.486Z"
   },
   {
    "duration": 714,
    "start_time": "2022-05-19T16:41:51.503Z"
   },
   {
    "duration": 22,
    "start_time": "2022-05-19T16:41:52.219Z"
   },
   {
    "duration": 793,
    "start_time": "2022-05-19T16:41:52.243Z"
   },
   {
    "duration": 17,
    "start_time": "2022-05-19T16:41:53.038Z"
   },
   {
    "duration": 22,
    "start_time": "2022-05-19T16:41:53.056Z"
   },
   {
    "duration": 49,
    "start_time": "2022-05-19T16:41:53.080Z"
   },
   {
    "duration": 738,
    "start_time": "2022-05-19T16:41:53.131Z"
   },
   {
    "duration": 1239,
    "start_time": "2022-05-19T16:41:53.876Z"
   },
   {
    "duration": 8,
    "start_time": "2022-05-19T16:41:55.117Z"
   },
   {
    "duration": 19,
    "start_time": "2022-05-19T16:41:55.127Z"
   },
   {
    "duration": 159,
    "start_time": "2022-05-19T16:41:55.148Z"
   },
   {
    "duration": 0,
    "start_time": "2022-05-19T16:41:55.309Z"
   },
   {
    "duration": 0,
    "start_time": "2022-05-19T16:41:55.311Z"
   },
   {
    "duration": 0,
    "start_time": "2022-05-19T16:41:55.312Z"
   },
   {
    "duration": 0,
    "start_time": "2022-05-19T16:41:55.313Z"
   },
   {
    "duration": 0,
    "start_time": "2022-05-19T16:41:55.314Z"
   },
   {
    "duration": 0,
    "start_time": "2022-05-19T16:41:55.315Z"
   },
   {
    "duration": 0,
    "start_time": "2022-05-19T16:41:55.316Z"
   },
   {
    "duration": 8,
    "start_time": "2022-05-19T16:42:10.327Z"
   },
   {
    "duration": 18,
    "start_time": "2022-05-19T16:42:57.897Z"
   },
   {
    "duration": 19,
    "start_time": "2022-05-19T16:46:03.070Z"
   },
   {
    "duration": 13,
    "start_time": "2022-05-19T16:46:21.702Z"
   },
   {
    "duration": 226,
    "start_time": "2022-05-19T16:46:31.979Z"
   },
   {
    "duration": 11,
    "start_time": "2022-05-19T16:47:37.418Z"
   },
   {
    "duration": 11,
    "start_time": "2022-05-19T16:47:54.588Z"
   },
   {
    "duration": 3,
    "start_time": "2022-05-19T16:48:26.391Z"
   },
   {
    "duration": 5,
    "start_time": "2022-05-19T16:48:28.841Z"
   },
   {
    "duration": 13,
    "start_time": "2022-05-19T16:48:49.115Z"
   },
   {
    "duration": 6,
    "start_time": "2022-05-19T16:50:14.463Z"
   },
   {
    "duration": 21,
    "start_time": "2022-05-19T16:50:27.975Z"
   },
   {
    "duration": 21,
    "start_time": "2022-05-19T16:50:40.178Z"
   },
   {
    "duration": 22,
    "start_time": "2022-05-19T16:50:52.875Z"
   },
   {
    "duration": 11,
    "start_time": "2022-05-19T16:52:03.926Z"
   },
   {
    "duration": 15,
    "start_time": "2022-05-19T16:55:37.592Z"
   },
   {
    "duration": 11,
    "start_time": "2022-05-19T16:55:39.149Z"
   },
   {
    "duration": 27,
    "start_time": "2022-05-19T16:55:50.265Z"
   },
   {
    "duration": 10,
    "start_time": "2022-05-19T16:55:51.893Z"
   },
   {
    "duration": 22,
    "start_time": "2022-05-19T16:56:00.666Z"
   },
   {
    "duration": 11,
    "start_time": "2022-05-19T16:56:01.289Z"
   },
   {
    "duration": 11,
    "start_time": "2022-05-19T16:56:04.933Z"
   },
   {
    "duration": 16,
    "start_time": "2022-05-19T16:56:29.442Z"
   },
   {
    "duration": 11,
    "start_time": "2022-05-19T16:56:29.975Z"
   },
   {
    "duration": 10,
    "start_time": "2022-05-19T16:56:33.220Z"
   },
   {
    "duration": 12,
    "start_time": "2022-05-19T16:57:15.039Z"
   },
   {
    "duration": 16,
    "start_time": "2022-05-19T16:57:51.147Z"
   },
   {
    "duration": 10,
    "start_time": "2022-05-19T16:57:52.383Z"
   },
   {
    "duration": 11,
    "start_time": "2022-05-19T16:57:54.015Z"
   },
   {
    "duration": 20,
    "start_time": "2022-05-19T16:58:12.212Z"
   },
   {
    "duration": 722,
    "start_time": "2022-05-19T16:58:14.641Z"
   },
   {
    "duration": 1051,
    "start_time": "2022-05-19T16:58:15.365Z"
   },
   {
    "duration": 10,
    "start_time": "2022-05-19T16:58:18.126Z"
   },
   {
    "duration": 21,
    "start_time": "2022-05-19T16:58:18.762Z"
   },
   {
    "duration": 15,
    "start_time": "2022-05-19T16:58:20.151Z"
   },
   {
    "duration": 7,
    "start_time": "2022-05-19T16:58:24.062Z"
   },
   {
    "duration": 27,
    "start_time": "2022-05-19T16:58:24.956Z"
   },
   {
    "duration": 21,
    "start_time": "2022-05-19T16:58:44.621Z"
   },
   {
    "duration": 11,
    "start_time": "2022-05-19T16:58:57.415Z"
   },
   {
    "duration": 28,
    "start_time": "2022-05-19T16:59:17.650Z"
   },
   {
    "duration": 10,
    "start_time": "2022-05-19T16:59:18.397Z"
   },
   {
    "duration": 11,
    "start_time": "2022-05-19T16:59:24.280Z"
   },
   {
    "duration": 27,
    "start_time": "2022-05-19T16:59:28.891Z"
   },
   {
    "duration": 689,
    "start_time": "2022-05-19T16:59:30.947Z"
   },
   {
    "duration": 1032,
    "start_time": "2022-05-19T16:59:34.810Z"
   },
   {
    "duration": 11,
    "start_time": "2022-05-19T16:59:37.525Z"
   },
   {
    "duration": 25,
    "start_time": "2022-05-19T16:59:40.768Z"
   },
   {
    "duration": 14,
    "start_time": "2022-05-19T16:59:43.716Z"
   },
   {
    "duration": 18,
    "start_time": "2022-05-19T17:00:03.115Z"
   },
   {
    "duration": 11,
    "start_time": "2022-05-19T17:00:03.950Z"
   },
   {
    "duration": 11,
    "start_time": "2022-05-19T17:00:11.540Z"
   },
   {
    "duration": 20,
    "start_time": "2022-05-19T17:00:15.507Z"
   },
   {
    "duration": 819,
    "start_time": "2022-05-19T17:00:18.927Z"
   },
   {
    "duration": 940,
    "start_time": "2022-05-19T17:00:19.748Z"
   },
   {
    "duration": 9,
    "start_time": "2022-05-19T17:00:22.985Z"
   },
   {
    "duration": 16,
    "start_time": "2022-05-19T17:00:23.201Z"
   },
   {
    "duration": 19,
    "start_time": "2022-05-19T17:00:24.107Z"
   },
   {
    "duration": 26,
    "start_time": "2022-05-19T17:01:10.553Z"
   },
   {
    "duration": 16,
    "start_time": "2022-05-19T17:01:13.514Z"
   },
   {
    "duration": 14,
    "start_time": "2022-05-19T17:01:13.533Z"
   },
   {
    "duration": 30,
    "start_time": "2022-05-19T17:01:13.549Z"
   },
   {
    "duration": 26,
    "start_time": "2022-05-19T17:01:13.581Z"
   },
   {
    "duration": 767,
    "start_time": "2022-05-19T17:01:13.611Z"
   },
   {
    "duration": 1005,
    "start_time": "2022-05-19T17:01:14.380Z"
   },
   {
    "duration": 8,
    "start_time": "2022-05-19T17:01:15.387Z"
   },
   {
    "duration": 18,
    "start_time": "2022-05-19T17:01:15.397Z"
   },
   {
    "duration": 14,
    "start_time": "2022-05-19T17:01:15.416Z"
   },
   {
    "duration": 3,
    "start_time": "2022-05-19T17:01:15.432Z"
   },
   {
    "duration": 53,
    "start_time": "2022-05-19T17:01:15.437Z"
   },
   {
    "duration": 9,
    "start_time": "2022-05-19T17:01:15.492Z"
   },
   {
    "duration": 0,
    "start_time": "2022-05-19T17:01:15.503Z"
   },
   {
    "duration": 0,
    "start_time": "2022-05-19T17:01:15.505Z"
   },
   {
    "duration": 0,
    "start_time": "2022-05-19T17:01:15.506Z"
   },
   {
    "duration": 0,
    "start_time": "2022-05-19T17:01:15.506Z"
   },
   {
    "duration": 18,
    "start_time": "2022-05-19T17:01:36.276Z"
   },
   {
    "duration": 14,
    "start_time": "2022-05-19T17:01:36.296Z"
   },
   {
    "duration": 11,
    "start_time": "2022-05-19T17:01:36.311Z"
   },
   {
    "duration": 20,
    "start_time": "2022-05-19T17:01:36.324Z"
   },
   {
    "duration": 700,
    "start_time": "2022-05-19T17:01:36.346Z"
   },
   {
    "duration": 869,
    "start_time": "2022-05-19T17:01:37.047Z"
   },
   {
    "duration": 8,
    "start_time": "2022-05-19T17:01:37.918Z"
   },
   {
    "duration": 25,
    "start_time": "2022-05-19T17:01:37.927Z"
   },
   {
    "duration": 20,
    "start_time": "2022-05-19T17:01:37.953Z"
   },
   {
    "duration": 4,
    "start_time": "2022-05-19T17:01:37.983Z"
   },
   {
    "duration": 24,
    "start_time": "2022-05-19T17:01:37.988Z"
   },
   {
    "duration": 9,
    "start_time": "2022-05-19T17:01:38.014Z"
   },
   {
    "duration": 0,
    "start_time": "2022-05-19T17:01:38.025Z"
   },
   {
    "duration": 0,
    "start_time": "2022-05-19T17:01:38.027Z"
   },
   {
    "duration": 0,
    "start_time": "2022-05-19T17:01:38.027Z"
   },
   {
    "duration": 0,
    "start_time": "2022-05-19T17:01:38.029Z"
   },
   {
    "duration": 14,
    "start_time": "2022-05-19T17:05:44.237Z"
   },
   {
    "duration": 9,
    "start_time": "2022-05-19T17:06:27.010Z"
   },
   {
    "duration": 9,
    "start_time": "2022-05-19T17:07:41.604Z"
   },
   {
    "duration": 10,
    "start_time": "2022-05-19T17:08:57.626Z"
   },
   {
    "duration": 16,
    "start_time": "2022-05-19T17:12:16.498Z"
   },
   {
    "duration": 11,
    "start_time": "2022-05-19T17:12:18.086Z"
   },
   {
    "duration": 18,
    "start_time": "2022-05-19T17:12:41.240Z"
   },
   {
    "duration": 10,
    "start_time": "2022-05-19T17:12:42.082Z"
   },
   {
    "duration": 16,
    "start_time": "2022-05-19T17:12:59.779Z"
   },
   {
    "duration": 16,
    "start_time": "2022-05-19T17:13:01.053Z"
   },
   {
    "duration": 24,
    "start_time": "2022-05-19T17:13:17.746Z"
   },
   {
    "duration": 14,
    "start_time": "2022-05-19T17:13:18.260Z"
   },
   {
    "duration": 25,
    "start_time": "2022-05-19T17:13:28.889Z"
   },
   {
    "duration": 10,
    "start_time": "2022-05-19T17:13:29.897Z"
   },
   {
    "duration": 17,
    "start_time": "2022-05-19T17:13:41.524Z"
   },
   {
    "duration": 10,
    "start_time": "2022-05-19T17:13:42.526Z"
   },
   {
    "duration": 17,
    "start_time": "2022-05-19T17:13:49.477Z"
   },
   {
    "duration": 12,
    "start_time": "2022-05-19T17:13:50.128Z"
   },
   {
    "duration": 17,
    "start_time": "2022-05-19T17:13:54.004Z"
   },
   {
    "duration": 9,
    "start_time": "2022-05-19T17:13:54.529Z"
   },
   {
    "duration": 23,
    "start_time": "2022-05-19T17:14:00.727Z"
   },
   {
    "duration": 711,
    "start_time": "2022-05-19T17:14:00.752Z"
   },
   {
    "duration": 1250,
    "start_time": "2022-05-19T17:14:01.465Z"
   },
   {
    "duration": 9,
    "start_time": "2022-05-19T17:14:02.717Z"
   },
   {
    "duration": 19,
    "start_time": "2022-05-19T17:14:02.728Z"
   },
   {
    "duration": 4,
    "start_time": "2022-05-19T17:14:02.749Z"
   },
   {
    "duration": 33,
    "start_time": "2022-05-19T17:14:02.754Z"
   },
   {
    "duration": 10,
    "start_time": "2022-05-19T17:14:02.790Z"
   },
   {
    "duration": 0,
    "start_time": "2022-05-19T17:14:02.802Z"
   },
   {
    "duration": 0,
    "start_time": "2022-05-19T17:14:02.803Z"
   },
   {
    "duration": 0,
    "start_time": "2022-05-19T17:14:02.805Z"
   },
   {
    "duration": 0,
    "start_time": "2022-05-19T17:14:02.806Z"
   },
   {
    "duration": 16,
    "start_time": "2022-05-19T17:16:36.479Z"
   },
   {
    "duration": 10,
    "start_time": "2022-05-19T17:16:37.159Z"
   },
   {
    "duration": 31,
    "start_time": "2022-05-19T17:16:45.149Z"
   },
   {
    "duration": 692,
    "start_time": "2022-05-19T17:16:45.182Z"
   },
   {
    "duration": 797,
    "start_time": "2022-05-19T17:16:45.877Z"
   },
   {
    "duration": 9,
    "start_time": "2022-05-19T17:16:46.677Z"
   },
   {
    "duration": 20,
    "start_time": "2022-05-19T17:16:46.688Z"
   },
   {
    "duration": 44,
    "start_time": "2022-05-19T17:16:46.709Z"
   },
   {
    "duration": 42,
    "start_time": "2022-05-19T17:16:46.755Z"
   },
   {
    "duration": 9,
    "start_time": "2022-05-19T17:16:46.799Z"
   },
   {
    "duration": 0,
    "start_time": "2022-05-19T17:16:46.810Z"
   },
   {
    "duration": 0,
    "start_time": "2022-05-19T17:16:46.811Z"
   },
   {
    "duration": 0,
    "start_time": "2022-05-19T17:16:46.812Z"
   },
   {
    "duration": 0,
    "start_time": "2022-05-19T17:16:46.813Z"
   },
   {
    "duration": 19,
    "start_time": "2022-05-19T17:17:18.875Z"
   },
   {
    "duration": 9,
    "start_time": "2022-05-19T17:17:28.692Z"
   },
   {
    "duration": 6,
    "start_time": "2022-05-19T17:18:03.475Z"
   },
   {
    "duration": 16,
    "start_time": "2022-05-19T17:27:03.342Z"
   },
   {
    "duration": 11,
    "start_time": "2022-05-19T17:27:36.936Z"
   },
   {
    "duration": 15,
    "start_time": "2022-05-19T17:28:09.952Z"
   },
   {
    "duration": 21,
    "start_time": "2022-05-19T17:30:18.970Z"
   },
   {
    "duration": 23,
    "start_time": "2022-05-19T17:30:30.668Z"
   },
   {
    "duration": 12,
    "start_time": "2022-05-19T17:30:58.339Z"
   },
   {
    "duration": 13,
    "start_time": "2022-05-19T17:31:31.916Z"
   },
   {
    "duration": 7,
    "start_time": "2022-05-19T17:32:17.588Z"
   },
   {
    "duration": 54,
    "start_time": "2022-05-19T17:35:04.273Z"
   },
   {
    "duration": 11,
    "start_time": "2022-05-19T17:35:17.508Z"
   },
   {
    "duration": 1138,
    "start_time": "2022-05-20T15:11:53.665Z"
   },
   {
    "duration": 73,
    "start_time": "2022-05-20T15:11:54.805Z"
   },
   {
    "duration": 13,
    "start_time": "2022-05-20T15:11:54.880Z"
   },
   {
    "duration": 8,
    "start_time": "2022-05-20T15:11:54.896Z"
   },
   {
    "duration": 21,
    "start_time": "2022-05-20T15:11:54.906Z"
   },
   {
    "duration": 12,
    "start_time": "2022-05-20T15:11:54.929Z"
   },
   {
    "duration": 14,
    "start_time": "2022-05-20T15:11:54.942Z"
   },
   {
    "duration": 14,
    "start_time": "2022-05-20T15:11:54.957Z"
   },
   {
    "duration": 4,
    "start_time": "2022-05-20T15:11:54.973Z"
   },
   {
    "duration": 373,
    "start_time": "2022-05-20T15:11:54.979Z"
   },
   {
    "duration": 13,
    "start_time": "2022-05-20T15:11:55.354Z"
   },
   {
    "duration": 138,
    "start_time": "2022-05-20T15:11:55.369Z"
   },
   {
    "duration": 352,
    "start_time": "2022-05-20T15:11:55.508Z"
   },
   {
    "duration": 13,
    "start_time": "2022-05-20T15:11:55.861Z"
   },
   {
    "duration": 608,
    "start_time": "2022-05-20T15:11:55.875Z"
   },
   {
    "duration": 28,
    "start_time": "2022-05-20T15:11:56.484Z"
   },
   {
    "duration": 699,
    "start_time": "2022-05-20T15:11:56.513Z"
   },
   {
    "duration": 15,
    "start_time": "2022-05-20T15:11:57.214Z"
   },
   {
    "duration": 29,
    "start_time": "2022-05-20T15:11:57.231Z"
   },
   {
    "duration": 26,
    "start_time": "2022-05-20T15:11:57.262Z"
   },
   {
    "duration": 645,
    "start_time": "2022-05-20T15:11:57.290Z"
   },
   {
    "duration": 757,
    "start_time": "2022-05-20T15:11:57.937Z"
   },
   {
    "duration": 7,
    "start_time": "2022-05-20T15:11:58.696Z"
   },
   {
    "duration": 17,
    "start_time": "2022-05-20T15:11:58.705Z"
   },
   {
    "duration": 15,
    "start_time": "2022-05-20T15:11:58.723Z"
   },
   {
    "duration": 3,
    "start_time": "2022-05-20T15:11:58.739Z"
   },
   {
    "duration": 12,
    "start_time": "2022-05-20T15:11:58.744Z"
   },
   {
    "duration": 212,
    "start_time": "2022-05-20T15:11:58.759Z"
   },
   {
    "duration": 15,
    "start_time": "2022-05-20T15:11:58.973Z"
   },
   {
    "duration": 25,
    "start_time": "2022-05-20T15:11:58.990Z"
   },
   {
    "duration": 10,
    "start_time": "2022-05-20T15:13:13.958Z"
   },
   {
    "duration": 13,
    "start_time": "2022-05-20T15:13:44.329Z"
   },
   {
    "duration": 4,
    "start_time": "2022-05-20T15:15:10.911Z"
   },
   {
    "duration": 4,
    "start_time": "2022-05-20T15:15:52.522Z"
   },
   {
    "duration": 4,
    "start_time": "2022-05-20T15:20:28.108Z"
   },
   {
    "duration": 127,
    "start_time": "2022-05-20T15:26:36.017Z"
   },
   {
    "duration": 14,
    "start_time": "2022-05-20T15:27:18.292Z"
   },
   {
    "duration": 18,
    "start_time": "2022-05-20T15:28:03.964Z"
   },
   {
    "duration": 13,
    "start_time": "2022-05-20T15:28:57.485Z"
   },
   {
    "duration": 17,
    "start_time": "2022-05-20T15:29:26.915Z"
   },
   {
    "duration": 1704,
    "start_time": "2022-05-20T15:29:34.084Z"
   },
   {
    "duration": 1934,
    "start_time": "2022-05-20T15:30:32.686Z"
   },
   {
    "duration": 1635,
    "start_time": "2022-05-20T15:31:41.738Z"
   },
   {
    "duration": 17,
    "start_time": "2022-05-20T15:32:22.385Z"
   },
   {
    "duration": 19,
    "start_time": "2022-05-20T15:33:48.286Z"
   },
   {
    "duration": 13,
    "start_time": "2022-05-20T15:34:19.522Z"
   },
   {
    "duration": 1719,
    "start_time": "2022-05-20T15:34:31.431Z"
   },
   {
    "duration": 12,
    "start_time": "2022-05-20T15:36:15.682Z"
   },
   {
    "duration": 601,
    "start_time": "2022-05-20T15:38:52.829Z"
   },
   {
    "duration": 13,
    "start_time": "2022-05-20T15:41:53.091Z"
   },
   {
    "duration": 2024,
    "start_time": "2022-05-20T15:44:21.510Z"
   },
   {
    "duration": 9,
    "start_time": "2022-05-20T15:44:36.265Z"
   },
   {
    "duration": 3,
    "start_time": "2022-05-20T15:45:27.292Z"
   },
   {
    "duration": 1869,
    "start_time": "2022-05-20T15:45:27.712Z"
   },
   {
    "duration": 9,
    "start_time": "2022-05-20T15:45:29.583Z"
   },
   {
    "duration": 10,
    "start_time": "2022-05-20T15:45:53.936Z"
   },
   {
    "duration": 13,
    "start_time": "2022-05-20T15:46:04.940Z"
   },
   {
    "duration": 2965,
    "start_time": "2022-05-20T15:46:35.842Z"
   },
   {
    "duration": 19,
    "start_time": "2022-05-20T15:46:38.809Z"
   },
   {
    "duration": 12,
    "start_time": "2022-05-20T15:46:50.795Z"
   },
   {
    "duration": 2805,
    "start_time": "2022-05-20T15:49:02.522Z"
   },
   {
    "duration": 13,
    "start_time": "2022-05-20T15:49:05.329Z"
   },
   {
    "duration": 1203,
    "start_time": "2022-05-20T15:51:31.858Z"
   },
   {
    "duration": 81,
    "start_time": "2022-05-20T15:51:33.062Z"
   },
   {
    "duration": 13,
    "start_time": "2022-05-20T15:51:33.145Z"
   },
   {
    "duration": 15,
    "start_time": "2022-05-20T15:51:33.160Z"
   },
   {
    "duration": 44,
    "start_time": "2022-05-20T15:51:33.176Z"
   },
   {
    "duration": 13,
    "start_time": "2022-05-20T15:51:33.226Z"
   },
   {
    "duration": 16,
    "start_time": "2022-05-20T15:51:33.241Z"
   },
   {
    "duration": 22,
    "start_time": "2022-05-20T15:51:33.259Z"
   },
   {
    "duration": 6,
    "start_time": "2022-05-20T15:51:33.283Z"
   },
   {
    "duration": 403,
    "start_time": "2022-05-20T15:51:33.292Z"
   },
   {
    "duration": 27,
    "start_time": "2022-05-20T15:51:33.697Z"
   },
   {
    "duration": 159,
    "start_time": "2022-05-20T15:51:33.726Z"
   },
   {
    "duration": 379,
    "start_time": "2022-05-20T15:51:33.886Z"
   },
   {
    "duration": 14,
    "start_time": "2022-05-20T15:51:34.267Z"
   },
   {
    "duration": 630,
    "start_time": "2022-05-20T15:51:34.282Z"
   },
   {
    "duration": 27,
    "start_time": "2022-05-20T15:51:34.913Z"
   },
   {
    "duration": 783,
    "start_time": "2022-05-20T15:51:34.942Z"
   },
   {
    "duration": 5,
    "start_time": "2022-05-20T15:51:35.727Z"
   },
   {
    "duration": 21802,
    "start_time": "2022-05-20T15:51:35.733Z"
   },
   {
    "duration": 691,
    "start_time": "2022-05-20T15:51:57.574Z"
   },
   {
    "duration": 1277,
    "start_time": "2022-05-20T15:51:58.266Z"
   },
   {
    "duration": 9,
    "start_time": "2022-05-20T15:51:59.544Z"
   },
   {
    "duration": 21,
    "start_time": "2022-05-20T15:51:59.554Z"
   },
   {
    "duration": 15,
    "start_time": "2022-05-20T15:51:59.576Z"
   },
   {
    "duration": 3,
    "start_time": "2022-05-20T15:51:59.592Z"
   },
   {
    "duration": 26,
    "start_time": "2022-05-20T15:51:59.598Z"
   },
   {
    "duration": 230,
    "start_time": "2022-05-20T15:51:59.626Z"
   },
   {
    "duration": 16,
    "start_time": "2022-05-20T15:51:59.858Z"
   },
   {
    "duration": 17,
    "start_time": "2022-05-20T15:51:59.875Z"
   },
   {
    "duration": 34,
    "start_time": "2022-05-20T15:51:59.894Z"
   },
   {
    "duration": 25,
    "start_time": "2022-05-20T15:51:59.930Z"
   },
   {
    "duration": 10,
    "start_time": "2022-05-20T15:52:10.684Z"
   },
   {
    "duration": 15,
    "start_time": "2022-05-20T15:52:41.746Z"
   },
   {
    "duration": 18,
    "start_time": "2022-05-20T15:53:15.727Z"
   },
   {
    "duration": 18,
    "start_time": "2022-05-20T15:54:00.010Z"
   },
   {
    "duration": 24,
    "start_time": "2022-05-20T15:54:11.520Z"
   },
   {
    "duration": 665,
    "start_time": "2022-05-20T15:54:30.953Z"
   },
   {
    "duration": 1040,
    "start_time": "2022-05-20T15:54:41.325Z"
   },
   {
    "duration": 14,
    "start_time": "2022-05-20T15:54:42.528Z"
   },
   {
    "duration": 19,
    "start_time": "2022-05-20T15:54:56.375Z"
   },
   {
    "duration": 16,
    "start_time": "2022-05-20T15:55:08.553Z"
   },
   {
    "duration": 4,
    "start_time": "2022-05-20T15:55:24.631Z"
   },
   {
    "duration": 16,
    "start_time": "2022-05-20T15:55:31.538Z"
   },
   {
    "duration": 273,
    "start_time": "2022-05-20T15:55:31.556Z"
   },
   {
    "duration": 16,
    "start_time": "2022-05-20T15:55:31.831Z"
   },
   {
    "duration": 21,
    "start_time": "2022-05-20T15:55:31.850Z"
   },
   {
    "duration": 10,
    "start_time": "2022-05-20T15:56:51.198Z"
   },
   {
    "duration": 18,
    "start_time": "2022-05-20T15:57:21.078Z"
   },
   {
    "duration": 17,
    "start_time": "2022-05-20T15:57:36.062Z"
   },
   {
    "duration": 15,
    "start_time": "2022-05-20T15:58:48.629Z"
   },
   {
    "duration": 9,
    "start_time": "2022-05-20T15:59:10.902Z"
   },
   {
    "duration": 717,
    "start_time": "2022-05-20T15:59:53.750Z"
   },
   {
    "duration": 1222,
    "start_time": "2022-05-20T15:59:54.469Z"
   },
   {
    "duration": 12,
    "start_time": "2022-05-20T15:59:55.693Z"
   },
   {
    "duration": 43,
    "start_time": "2022-05-20T15:59:55.708Z"
   },
   {
    "duration": 17,
    "start_time": "2022-05-20T15:59:55.752Z"
   },
   {
    "duration": 5,
    "start_time": "2022-05-20T15:59:55.771Z"
   },
   {
    "duration": 13,
    "start_time": "2022-05-20T15:59:55.778Z"
   },
   {
    "duration": 253,
    "start_time": "2022-05-20T15:59:55.793Z"
   },
   {
    "duration": 16,
    "start_time": "2022-05-20T15:59:56.048Z"
   },
   {
    "duration": 14,
    "start_time": "2022-05-20T15:59:56.067Z"
   },
   {
    "duration": 23708,
    "start_time": "2022-05-20T16:05:02.678Z"
   },
   {
    "duration": 11,
    "start_time": "2022-05-20T16:05:26.388Z"
   },
   {
    "duration": 22,
    "start_time": "2022-05-20T16:05:34.260Z"
   },
   {
    "duration": 28,
    "start_time": "2022-05-20T16:07:56.932Z"
   },
   {
    "duration": 136,
    "start_time": "2022-05-20T16:08:49.572Z"
   },
   {
    "duration": 15,
    "start_time": "2022-05-20T16:08:58.574Z"
   },
   {
    "duration": 23648,
    "start_time": "2022-05-20T16:13:42.943Z"
   },
   {
    "duration": 42,
    "start_time": "2022-05-20T16:14:06.623Z"
   },
   {
    "duration": 22,
    "start_time": "2022-05-20T16:14:06.667Z"
   },
   {
    "duration": 2053,
    "start_time": "2022-05-20T16:16:07.985Z"
   },
   {
    "duration": 0,
    "start_time": "2022-05-20T16:16:10.039Z"
   },
   {
    "duration": 24693,
    "start_time": "2022-05-20T16:18:10.169Z"
   },
   {
    "duration": 16,
    "start_time": "2022-05-20T16:18:34.864Z"
   },
   {
    "duration": 13,
    "start_time": "2022-05-20T16:18:34.882Z"
   },
   {
    "duration": 24178,
    "start_time": "2022-05-20T16:19:21.607Z"
   },
   {
    "duration": 18,
    "start_time": "2022-05-20T16:19:45.818Z"
   },
   {
    "duration": 22,
    "start_time": "2022-05-20T16:20:21.103Z"
   },
   {
    "duration": 32,
    "start_time": "2022-05-20T16:22:04.727Z"
   },
   {
    "duration": 23,
    "start_time": "2022-05-20T16:22:44.743Z"
   },
   {
    "duration": 23920,
    "start_time": "2022-05-20T16:22:58.831Z"
   },
   {
    "duration": 8,
    "start_time": "2022-05-20T16:23:22.753Z"
   },
   {
    "duration": 19,
    "start_time": "2022-05-20T16:23:22.762Z"
   },
   {
    "duration": 2021,
    "start_time": "2022-05-20T16:24:21.538Z"
   },
   {
    "duration": 23302,
    "start_time": "2022-05-20T16:25:28.962Z"
   },
   {
    "duration": 8,
    "start_time": "2022-05-20T16:25:52.266Z"
   },
   {
    "duration": 22,
    "start_time": "2022-05-20T16:26:38.784Z"
   },
   {
    "duration": 41,
    "start_time": "2022-05-20T16:27:43.452Z"
   },
   {
    "duration": 6,
    "start_time": "2022-05-20T16:27:51.810Z"
   },
   {
    "duration": 2562,
    "start_time": "2022-05-20T16:29:01.400Z"
   },
   {
    "duration": 5,
    "start_time": "2022-05-20T16:30:20.038Z"
   },
   {
    "duration": 5,
    "start_time": "2022-05-20T16:30:34.995Z"
   },
   {
    "duration": 4,
    "start_time": "2022-05-20T16:30:44.405Z"
   },
   {
    "duration": 2283,
    "start_time": "2022-05-20T16:31:28.780Z"
   },
   {
    "duration": 14,
    "start_time": "2022-05-20T16:31:57.352Z"
   },
   {
    "duration": 14,
    "start_time": "2022-05-20T16:33:47.806Z"
   },
   {
    "duration": 7,
    "start_time": "2022-05-20T16:35:04.942Z"
   },
   {
    "duration": 7,
    "start_time": "2022-05-20T16:35:17.305Z"
   },
   {
    "duration": 12,
    "start_time": "2022-05-20T16:36:46.830Z"
   },
   {
    "duration": 10,
    "start_time": "2022-05-20T16:37:12.257Z"
   },
   {
    "duration": 20,
    "start_time": "2022-05-20T16:37:14.803Z"
   },
   {
    "duration": 12,
    "start_time": "2022-05-20T16:37:58.674Z"
   },
   {
    "duration": 7,
    "start_time": "2022-05-20T16:38:07.932Z"
   },
   {
    "duration": 2144,
    "start_time": "2022-05-20T16:40:01.962Z"
   },
   {
    "duration": 21,
    "start_time": "2022-05-20T16:40:29.208Z"
   },
   {
    "duration": 18,
    "start_time": "2022-05-20T16:40:38.281Z"
   },
   {
    "duration": 25122,
    "start_time": "2022-05-20T16:41:07.545Z"
   },
   {
    "duration": 11,
    "start_time": "2022-05-20T16:42:07.981Z"
   },
   {
    "duration": 11,
    "start_time": "2022-05-20T16:42:24.033Z"
   },
   {
    "duration": 19,
    "start_time": "2022-05-20T16:50:21.658Z"
   },
   {
    "duration": 9,
    "start_time": "2022-05-20T16:51:23.108Z"
   },
   {
    "duration": 11,
    "start_time": "2022-05-20T16:52:18.554Z"
   },
   {
    "duration": 22,
    "start_time": "2022-05-20T16:54:07.873Z"
   },
   {
    "duration": 15,
    "start_time": "2022-05-20T16:54:23.163Z"
   },
   {
    "duration": 17,
    "start_time": "2022-05-20T16:54:34.343Z"
   },
   {
    "duration": 22859,
    "start_time": "2022-05-20T16:55:11.400Z"
   },
   {
    "duration": 9,
    "start_time": "2022-05-20T16:55:34.261Z"
   },
   {
    "duration": 21,
    "start_time": "2022-05-20T16:55:34.272Z"
   },
   {
    "duration": 33,
    "start_time": "2022-05-20T16:55:34.294Z"
   },
   {
    "duration": 2102,
    "start_time": "2022-05-20T16:56:17.780Z"
   },
   {
    "duration": 2042,
    "start_time": "2022-05-20T16:56:23.580Z"
   },
   {
    "duration": 2171,
    "start_time": "2022-05-20T16:57:19.794Z"
   },
   {
    "duration": 2162,
    "start_time": "2022-05-20T16:57:40.769Z"
   },
   {
    "duration": 65,
    "start_time": "2022-05-20T16:59:24.273Z"
   },
   {
    "duration": 44,
    "start_time": "2022-05-20T17:00:06.540Z"
   },
   {
    "duration": 8,
    "start_time": "2022-05-20T17:00:14.056Z"
   },
   {
    "duration": 23872,
    "start_time": "2022-05-20T17:03:37.682Z"
   },
   {
    "duration": 12,
    "start_time": "2022-05-20T17:04:01.560Z"
   },
   {
    "duration": 12,
    "start_time": "2022-05-20T17:04:06.186Z"
   },
   {
    "duration": 20,
    "start_time": "2022-05-20T17:04:08.383Z"
   },
   {
    "duration": 3,
    "start_time": "2022-05-20T17:06:24.081Z"
   },
   {
    "duration": 3,
    "start_time": "2022-05-20T17:06:42.928Z"
   },
   {
    "duration": 35,
    "start_time": "2022-05-20T17:07:02.218Z"
   },
   {
    "duration": 3,
    "start_time": "2022-05-20T17:07:53.693Z"
   },
   {
    "duration": 24901,
    "start_time": "2022-05-20T17:08:17.154Z"
   },
   {
    "duration": 9,
    "start_time": "2022-05-20T17:08:42.056Z"
   },
   {
    "duration": 21,
    "start_time": "2022-05-20T17:08:46.180Z"
   },
   {
    "duration": 657,
    "start_time": "2022-05-20T17:08:46.204Z"
   },
   {
    "duration": 1333,
    "start_time": "2022-05-20T17:08:46.863Z"
   },
   {
    "duration": 14,
    "start_time": "2022-05-20T17:08:48.199Z"
   },
   {
    "duration": 40,
    "start_time": "2022-05-20T17:08:48.214Z"
   },
   {
    "duration": 18,
    "start_time": "2022-05-20T17:08:48.256Z"
   },
   {
    "duration": 4,
    "start_time": "2022-05-20T17:08:48.275Z"
   },
   {
    "duration": 14,
    "start_time": "2022-05-20T17:08:48.281Z"
   },
   {
    "duration": 243,
    "start_time": "2022-05-20T17:08:48.296Z"
   },
   {
    "duration": 21,
    "start_time": "2022-05-20T17:08:48.543Z"
   },
   {
    "duration": 28,
    "start_time": "2022-05-20T17:08:48.566Z"
   },
   {
    "duration": 23865,
    "start_time": "2022-05-20T17:10:20.774Z"
   },
   {
    "duration": 10,
    "start_time": "2022-05-20T17:10:44.648Z"
   },
   {
    "duration": 18,
    "start_time": "2022-05-20T17:10:53.740Z"
   },
   {
    "duration": 2116,
    "start_time": "2022-05-20T17:11:19.084Z"
   },
   {
    "duration": 2029,
    "start_time": "2022-05-20T17:11:42.405Z"
   },
   {
    "duration": 0,
    "start_time": "2022-05-20T17:11:44.436Z"
   },
   {
    "duration": 23269,
    "start_time": "2022-05-20T17:12:04.730Z"
   },
   {
    "duration": 16,
    "start_time": "2022-05-20T17:12:28.001Z"
   },
   {
    "duration": 26,
    "start_time": "2022-05-20T17:12:28.019Z"
   },
   {
    "duration": 629,
    "start_time": "2022-05-20T17:12:28.047Z"
   },
   {
    "duration": 1160,
    "start_time": "2022-05-20T17:12:28.677Z"
   },
   {
    "duration": 7,
    "start_time": "2022-05-20T17:12:29.839Z"
   },
   {
    "duration": 21,
    "start_time": "2022-05-20T17:12:29.848Z"
   },
   {
    "duration": 15,
    "start_time": "2022-05-20T17:12:29.870Z"
   },
   {
    "duration": 4,
    "start_time": "2022-05-20T17:12:29.887Z"
   },
   {
    "duration": 28,
    "start_time": "2022-05-20T17:12:29.893Z"
   },
   {
    "duration": 225,
    "start_time": "2022-05-20T17:12:29.922Z"
   },
   {
    "duration": 15,
    "start_time": "2022-05-20T17:12:30.148Z"
   },
   {
    "duration": 30,
    "start_time": "2022-05-20T17:12:30.165Z"
   },
   {
    "duration": 10,
    "start_time": "2022-05-20T17:12:33.239Z"
   },
   {
    "duration": 17,
    "start_time": "2022-05-20T17:12:34.951Z"
   },
   {
    "duration": 15,
    "start_time": "2022-05-20T17:13:58.580Z"
   },
   {
    "duration": 26,
    "start_time": "2022-05-20T17:14:04.507Z"
   },
   {
    "duration": 4,
    "start_time": "2022-05-20T17:14:08.702Z"
   },
   {
    "duration": 11,
    "start_time": "2022-05-20T17:17:51.813Z"
   },
   {
    "duration": 10,
    "start_time": "2022-05-20T17:18:14.123Z"
   },
   {
    "duration": 9,
    "start_time": "2022-05-20T17:18:40.780Z"
   },
   {
    "duration": 3,
    "start_time": "2022-05-20T17:19:42.962Z"
   },
   {
    "duration": 3,
    "start_time": "2022-05-20T17:19:54.093Z"
   },
   {
    "duration": 141,
    "start_time": "2022-05-20T17:20:20.403Z"
   },
   {
    "duration": 18,
    "start_time": "2022-05-20T17:20:24.896Z"
   },
   {
    "duration": 11,
    "start_time": "2022-05-20T17:21:41.399Z"
   },
   {
    "duration": 17,
    "start_time": "2022-05-20T17:29:15.639Z"
   },
   {
    "duration": 17,
    "start_time": "2022-05-20T17:29:30.688Z"
   },
   {
    "duration": 18,
    "start_time": "2022-05-20T17:29:44.748Z"
   },
   {
    "duration": 12,
    "start_time": "2022-05-20T17:30:35.691Z"
   },
   {
    "duration": 16,
    "start_time": "2022-05-20T17:31:12.099Z"
   },
   {
    "duration": 14,
    "start_time": "2022-05-20T17:33:21.815Z"
   },
   {
    "duration": 1363,
    "start_time": "2022-05-21T06:32:50.367Z"
   },
   {
    "duration": 630,
    "start_time": "2022-05-21T06:32:51.732Z"
   },
   {
    "duration": 12,
    "start_time": "2022-05-21T06:32:52.364Z"
   },
   {
    "duration": 8,
    "start_time": "2022-05-21T06:32:52.378Z"
   },
   {
    "duration": 23,
    "start_time": "2022-05-21T06:32:52.387Z"
   },
   {
    "duration": 12,
    "start_time": "2022-05-21T06:32:52.412Z"
   },
   {
    "duration": 32,
    "start_time": "2022-05-21T06:32:52.426Z"
   },
   {
    "duration": 15,
    "start_time": "2022-05-21T06:32:52.459Z"
   },
   {
    "duration": 4,
    "start_time": "2022-05-21T06:32:52.476Z"
   },
   {
    "duration": 381,
    "start_time": "2022-05-21T06:32:52.481Z"
   },
   {
    "duration": 12,
    "start_time": "2022-05-21T06:32:52.864Z"
   },
   {
    "duration": 152,
    "start_time": "2022-05-21T06:32:52.878Z"
   },
   {
    "duration": 371,
    "start_time": "2022-05-21T06:32:53.033Z"
   },
   {
    "duration": 14,
    "start_time": "2022-05-21T06:32:53.406Z"
   },
   {
    "duration": 614,
    "start_time": "2022-05-21T06:32:53.422Z"
   },
   {
    "duration": 28,
    "start_time": "2022-05-21T06:32:54.040Z"
   },
   {
    "duration": 718,
    "start_time": "2022-05-21T06:32:54.070Z"
   },
   {
    "duration": 21902,
    "start_time": "2022-05-21T06:32:54.790Z"
   },
   {
    "duration": 9,
    "start_time": "2022-05-21T06:33:16.694Z"
   },
   {
    "duration": 19,
    "start_time": "2022-05-21T06:33:16.705Z"
   },
   {
    "duration": 668,
    "start_time": "2022-05-21T06:33:16.726Z"
   },
   {
    "duration": 1434,
    "start_time": "2022-05-21T06:33:17.395Z"
   },
   {
    "duration": 9,
    "start_time": "2022-05-21T06:33:18.830Z"
   },
   {
    "duration": 28,
    "start_time": "2022-05-21T06:33:18.840Z"
   },
   {
    "duration": 15,
    "start_time": "2022-05-21T06:33:18.870Z"
   },
   {
    "duration": 3,
    "start_time": "2022-05-21T06:33:18.886Z"
   },
   {
    "duration": 14,
    "start_time": "2022-05-21T06:33:18.890Z"
   },
   {
    "duration": 216,
    "start_time": "2022-05-21T06:33:18.906Z"
   },
   {
    "duration": 29,
    "start_time": "2022-05-21T06:33:19.123Z"
   },
   {
    "duration": 23,
    "start_time": "2022-05-21T06:33:19.154Z"
   },
   {
    "duration": 12,
    "start_time": "2022-05-21T06:34:25.877Z"
   },
   {
    "duration": 22086,
    "start_time": "2022-05-21T06:35:35.868Z"
   },
   {
    "duration": 9,
    "start_time": "2022-05-21T06:35:57.956Z"
   },
   {
    "duration": 135,
    "start_time": "2022-05-21T06:36:13.774Z"
   },
   {
    "duration": 0,
    "start_time": "2022-05-21T06:36:13.911Z"
   },
   {
    "duration": 0,
    "start_time": "2022-05-21T06:36:13.912Z"
   },
   {
    "duration": 0,
    "start_time": "2022-05-21T06:36:13.914Z"
   },
   {
    "duration": 0,
    "start_time": "2022-05-21T06:36:13.915Z"
   },
   {
    "duration": 0,
    "start_time": "2022-05-21T06:36:13.917Z"
   },
   {
    "duration": 0,
    "start_time": "2022-05-21T06:36:13.918Z"
   },
   {
    "duration": 0,
    "start_time": "2022-05-21T06:36:13.919Z"
   },
   {
    "duration": 0,
    "start_time": "2022-05-21T06:36:13.921Z"
   },
   {
    "duration": 0,
    "start_time": "2022-05-21T06:36:13.922Z"
   },
   {
    "duration": 0,
    "start_time": "2022-05-21T06:36:13.944Z"
   },
   {
    "duration": 0,
    "start_time": "2022-05-21T06:36:13.945Z"
   },
   {
    "duration": 0,
    "start_time": "2022-05-21T06:36:13.946Z"
   },
   {
    "duration": 14,
    "start_time": "2022-05-21T06:36:43.175Z"
   },
   {
    "duration": 22671,
    "start_time": "2022-05-21T06:36:51.793Z"
   },
   {
    "duration": 22795,
    "start_time": "2022-05-21T06:37:19.906Z"
   },
   {
    "duration": 9,
    "start_time": "2022-05-21T06:37:42.703Z"
   },
   {
    "duration": 33,
    "start_time": "2022-05-21T06:37:42.714Z"
   },
   {
    "duration": 643,
    "start_time": "2022-05-21T06:37:42.748Z"
   },
   {
    "duration": 1095,
    "start_time": "2022-05-21T06:37:43.393Z"
   },
   {
    "duration": 7,
    "start_time": "2022-05-21T06:37:44.490Z"
   },
   {
    "duration": 17,
    "start_time": "2022-05-21T06:37:44.499Z"
   },
   {
    "duration": 14,
    "start_time": "2022-05-21T06:37:44.518Z"
   },
   {
    "duration": 5,
    "start_time": "2022-05-21T06:37:44.534Z"
   },
   {
    "duration": 33,
    "start_time": "2022-05-21T06:37:44.540Z"
   },
   {
    "duration": 215,
    "start_time": "2022-05-21T06:37:44.574Z"
   },
   {
    "duration": 17,
    "start_time": "2022-05-21T06:37:44.790Z"
   },
   {
    "duration": 16,
    "start_time": "2022-05-21T06:37:44.809Z"
   },
   {
    "duration": 2829,
    "start_time": "2022-05-21T06:38:19.469Z"
   },
   {
    "duration": 2667,
    "start_time": "2022-05-21T06:38:45.668Z"
   },
   {
    "duration": 2637,
    "start_time": "2022-05-21T06:39:02.969Z"
   },
   {
    "duration": 21951,
    "start_time": "2022-05-21T06:39:18.526Z"
   },
   {
    "duration": 11,
    "start_time": "2022-05-21T06:39:43.394Z"
   },
   {
    "duration": 20,
    "start_time": "2022-05-21T06:39:43.407Z"
   },
   {
    "duration": 664,
    "start_time": "2022-05-21T06:39:43.429Z"
   },
   {
    "duration": 1258,
    "start_time": "2022-05-21T06:39:44.095Z"
   },
   {
    "duration": 10,
    "start_time": "2022-05-21T06:39:45.354Z"
   },
   {
    "duration": 18,
    "start_time": "2022-05-21T06:39:45.365Z"
   },
   {
    "duration": 18,
    "start_time": "2022-05-21T06:39:45.385Z"
   },
   {
    "duration": 4,
    "start_time": "2022-05-21T06:39:45.404Z"
   },
   {
    "duration": 34,
    "start_time": "2022-05-21T06:39:45.409Z"
   },
   {
    "duration": 220,
    "start_time": "2022-05-21T06:39:45.447Z"
   },
   {
    "duration": 13,
    "start_time": "2022-05-21T06:39:45.669Z"
   },
   {
    "duration": 10,
    "start_time": "2022-05-21T06:39:45.684Z"
   },
   {
    "duration": 24905,
    "start_time": "2022-05-21T06:42:20.421Z"
   },
   {
    "duration": 15,
    "start_time": "2022-05-21T06:42:45.328Z"
   },
   {
    "duration": 40,
    "start_time": "2022-05-21T06:42:45.345Z"
   },
   {
    "duration": 720,
    "start_time": "2022-05-21T06:42:45.388Z"
   },
   {
    "duration": 995,
    "start_time": "2022-05-21T06:42:46.110Z"
   },
   {
    "duration": 10,
    "start_time": "2022-05-21T06:42:47.107Z"
   },
   {
    "duration": 32,
    "start_time": "2022-05-21T06:42:47.120Z"
   },
   {
    "duration": 51,
    "start_time": "2022-05-21T06:42:47.153Z"
   },
   {
    "duration": 5,
    "start_time": "2022-05-21T06:42:47.206Z"
   },
   {
    "duration": 17,
    "start_time": "2022-05-21T06:42:47.213Z"
   },
   {
    "duration": 234,
    "start_time": "2022-05-21T06:42:47.232Z"
   },
   {
    "duration": 21,
    "start_time": "2022-05-21T06:42:47.467Z"
   },
   {
    "duration": 14,
    "start_time": "2022-05-21T06:42:47.490Z"
   },
   {
    "duration": 18,
    "start_time": "2022-05-21T06:45:08.093Z"
   },
   {
    "duration": 31,
    "start_time": "2022-05-21T06:46:19.424Z"
   },
   {
    "duration": 20,
    "start_time": "2022-05-21T06:46:45.278Z"
   },
   {
    "duration": 13,
    "start_time": "2022-05-21T06:48:41.406Z"
   },
   {
    "duration": 22,
    "start_time": "2022-05-21T06:49:26.239Z"
   },
   {
    "duration": 38,
    "start_time": "2022-05-21T06:49:38.264Z"
   },
   {
    "duration": 12,
    "start_time": "2022-05-21T06:49:43.720Z"
   },
   {
    "duration": 13,
    "start_time": "2022-05-21T06:53:34.396Z"
   },
   {
    "duration": 11,
    "start_time": "2022-05-21T06:53:44.766Z"
   },
   {
    "duration": 20,
    "start_time": "2022-05-21T06:53:56.309Z"
   },
   {
    "duration": 11,
    "start_time": "2022-05-21T06:54:19.269Z"
   },
   {
    "duration": 12,
    "start_time": "2022-05-21T06:55:19.837Z"
   },
   {
    "duration": 29,
    "start_time": "2022-05-21T06:55:29.522Z"
   },
   {
    "duration": 30,
    "start_time": "2022-05-21T06:55:40.373Z"
   },
   {
    "duration": 13,
    "start_time": "2022-05-21T06:55:54.888Z"
   },
   {
    "duration": 28,
    "start_time": "2022-05-21T07:00:56.373Z"
   },
   {
    "duration": 41,
    "start_time": "2022-05-21T07:01:27.209Z"
   },
   {
    "duration": 13,
    "start_time": "2022-05-21T07:01:34.610Z"
   },
   {
    "duration": 21089,
    "start_time": "2022-05-21T07:02:35.208Z"
   },
   {
    "duration": 21073,
    "start_time": "2022-05-21T07:03:02.067Z"
   },
   {
    "duration": 9,
    "start_time": "2022-05-21T07:03:23.142Z"
   },
   {
    "duration": 23,
    "start_time": "2022-05-21T07:03:23.153Z"
   },
   {
    "duration": 594,
    "start_time": "2022-05-21T07:03:23.178Z"
   },
   {
    "duration": 1334,
    "start_time": "2022-05-21T07:03:23.775Z"
   },
   {
    "duration": 10,
    "start_time": "2022-05-21T07:03:25.111Z"
   },
   {
    "duration": 18,
    "start_time": "2022-05-21T07:03:25.122Z"
   },
   {
    "duration": 17,
    "start_time": "2022-05-21T07:03:25.142Z"
   },
   {
    "duration": 4,
    "start_time": "2022-05-21T07:03:25.160Z"
   },
   {
    "duration": 14,
    "start_time": "2022-05-21T07:03:25.165Z"
   },
   {
    "duration": 201,
    "start_time": "2022-05-21T07:03:25.180Z"
   },
   {
    "duration": 15,
    "start_time": "2022-05-21T07:03:25.382Z"
   },
   {
    "duration": 12,
    "start_time": "2022-05-21T07:03:25.399Z"
   },
   {
    "duration": 15,
    "start_time": "2022-05-21T07:03:29.280Z"
   },
   {
    "duration": 18,
    "start_time": "2022-05-21T07:03:35.106Z"
   },
   {
    "duration": 1939,
    "start_time": "2022-05-21T07:04:15.924Z"
   },
   {
    "duration": 12,
    "start_time": "2022-05-21T07:05:47.678Z"
   },
   {
    "duration": 12,
    "start_time": "2022-05-21T07:05:55.240Z"
   },
   {
    "duration": 12,
    "start_time": "2022-05-21T07:07:59.688Z"
   },
   {
    "duration": 18,
    "start_time": "2022-05-21T07:08:16.638Z"
   },
   {
    "duration": 18,
    "start_time": "2022-05-21T07:08:45.684Z"
   },
   {
    "duration": 11,
    "start_time": "2022-05-21T07:09:05.815Z"
   },
   {
    "duration": 11,
    "start_time": "2022-05-21T07:11:10.028Z"
   },
   {
    "duration": 10,
    "start_time": "2022-05-21T07:11:14.312Z"
   },
   {
    "duration": 19,
    "start_time": "2022-05-21T07:11:51.524Z"
   },
   {
    "duration": 9,
    "start_time": "2022-05-21T07:11:53.240Z"
   },
   {
    "duration": 13,
    "start_time": "2022-05-21T07:11:53.251Z"
   },
   {
    "duration": 548,
    "start_time": "2022-05-21T07:11:53.266Z"
   },
   {
    "duration": 1911,
    "start_time": "2022-05-21T07:11:53.816Z"
   },
   {
    "duration": 8,
    "start_time": "2022-05-21T07:11:55.730Z"
   },
   {
    "duration": 14,
    "start_time": "2022-05-21T07:11:55.740Z"
   },
   {
    "duration": 12,
    "start_time": "2022-05-21T07:11:55.756Z"
   },
   {
    "duration": 3,
    "start_time": "2022-05-21T07:11:55.770Z"
   },
   {
    "duration": 23,
    "start_time": "2022-05-21T07:11:55.775Z"
   },
   {
    "duration": 198,
    "start_time": "2022-05-21T07:11:55.800Z"
   },
   {
    "duration": 12,
    "start_time": "2022-05-21T07:11:56.000Z"
   },
   {
    "duration": 9,
    "start_time": "2022-05-21T07:11:56.014Z"
   },
   {
    "duration": 21,
    "start_time": "2022-05-21T07:15:19.088Z"
   },
   {
    "duration": 12,
    "start_time": "2022-05-21T07:15:39.002Z"
   },
   {
    "duration": 12,
    "start_time": "2022-05-21T07:16:01.095Z"
   },
   {
    "duration": 16,
    "start_time": "2022-05-21T07:17:37.000Z"
   },
   {
    "duration": 11,
    "start_time": "2022-05-21T07:21:44.718Z"
   },
   {
    "duration": 28,
    "start_time": "2022-05-21T07:21:58.488Z"
   },
   {
    "duration": 19,
    "start_time": "2022-05-21T07:24:25.375Z"
   },
   {
    "duration": 12,
    "start_time": "2022-05-21T07:24:41.879Z"
   },
   {
    "duration": 12,
    "start_time": "2022-05-21T07:25:29.989Z"
   },
   {
    "duration": 2091,
    "start_time": "2022-05-21T07:26:00.779Z"
   },
   {
    "duration": 10,
    "start_time": "2022-05-21T07:26:18.390Z"
   },
   {
    "duration": 13,
    "start_time": "2022-05-21T07:26:55.576Z"
   },
   {
    "duration": 13,
    "start_time": "2022-05-21T07:27:14.020Z"
   },
   {
    "duration": 19,
    "start_time": "2022-05-21T07:27:54.029Z"
   },
   {
    "duration": 1190,
    "start_time": "2022-05-21T07:28:00.707Z"
   },
   {
    "duration": 81,
    "start_time": "2022-05-21T07:28:01.899Z"
   },
   {
    "duration": 13,
    "start_time": "2022-05-21T07:28:01.982Z"
   },
   {
    "duration": 11,
    "start_time": "2022-05-21T07:28:01.997Z"
   },
   {
    "duration": 45,
    "start_time": "2022-05-21T07:28:02.010Z"
   },
   {
    "duration": 19,
    "start_time": "2022-05-21T07:28:02.057Z"
   },
   {
    "duration": 47,
    "start_time": "2022-05-21T07:28:02.078Z"
   },
   {
    "duration": 27,
    "start_time": "2022-05-21T07:28:02.126Z"
   },
   {
    "duration": 5,
    "start_time": "2022-05-21T07:28:02.154Z"
   },
   {
    "duration": 357,
    "start_time": "2022-05-21T07:28:02.160Z"
   },
   {
    "duration": 13,
    "start_time": "2022-05-21T07:28:02.519Z"
   },
   {
    "duration": 156,
    "start_time": "2022-05-21T07:28:02.533Z"
   },
   {
    "duration": 363,
    "start_time": "2022-05-21T07:28:02.691Z"
   },
   {
    "duration": 15,
    "start_time": "2022-05-21T07:28:03.057Z"
   },
   {
    "duration": 659,
    "start_time": "2022-05-21T07:28:03.073Z"
   },
   {
    "duration": 31,
    "start_time": "2022-05-21T07:28:03.733Z"
   },
   {
    "duration": 707,
    "start_time": "2022-05-21T07:28:03.766Z"
   },
   {
    "duration": 117,
    "start_time": "2022-05-21T07:28:04.475Z"
   },
   {
    "duration": 0,
    "start_time": "2022-05-21T07:28:04.594Z"
   },
   {
    "duration": 0,
    "start_time": "2022-05-21T07:28:04.595Z"
   },
   {
    "duration": 0,
    "start_time": "2022-05-21T07:28:04.596Z"
   },
   {
    "duration": 0,
    "start_time": "2022-05-21T07:28:04.597Z"
   },
   {
    "duration": 0,
    "start_time": "2022-05-21T07:28:04.598Z"
   },
   {
    "duration": 0,
    "start_time": "2022-05-21T07:28:04.599Z"
   },
   {
    "duration": 0,
    "start_time": "2022-05-21T07:28:04.600Z"
   },
   {
    "duration": 0,
    "start_time": "2022-05-21T07:28:04.601Z"
   },
   {
    "duration": 0,
    "start_time": "2022-05-21T07:28:04.602Z"
   },
   {
    "duration": 0,
    "start_time": "2022-05-21T07:28:04.603Z"
   },
   {
    "duration": 0,
    "start_time": "2022-05-21T07:28:04.604Z"
   },
   {
    "duration": 0,
    "start_time": "2022-05-21T07:28:04.605Z"
   },
   {
    "duration": 24436,
    "start_time": "2022-05-21T07:30:39.767Z"
   },
   {
    "duration": 15,
    "start_time": "2022-05-21T07:31:59.803Z"
   },
   {
    "duration": 10,
    "start_time": "2022-05-21T07:32:07.575Z"
   },
   {
    "duration": 4,
    "start_time": "2022-05-21T07:32:12.714Z"
   },
   {
    "duration": 4,
    "start_time": "2022-05-21T07:32:35.179Z"
   },
   {
    "duration": 22607,
    "start_time": "2022-05-21T07:32:50.409Z"
   },
   {
    "duration": 10,
    "start_time": "2022-05-21T07:33:13.018Z"
   },
   {
    "duration": 29,
    "start_time": "2022-05-21T07:33:13.029Z"
   },
   {
    "duration": 625,
    "start_time": "2022-05-21T07:33:13.059Z"
   },
   {
    "duration": 1774,
    "start_time": "2022-05-21T07:33:13.686Z"
   },
   {
    "duration": 9,
    "start_time": "2022-05-21T07:33:15.461Z"
   },
   {
    "duration": 16,
    "start_time": "2022-05-21T07:33:15.472Z"
   },
   {
    "duration": 15,
    "start_time": "2022-05-21T07:33:15.489Z"
   },
   {
    "duration": 4,
    "start_time": "2022-05-21T07:33:15.505Z"
   },
   {
    "duration": 33,
    "start_time": "2022-05-21T07:33:15.510Z"
   },
   {
    "duration": 227,
    "start_time": "2022-05-21T07:33:15.544Z"
   },
   {
    "duration": 16,
    "start_time": "2022-05-21T07:33:15.773Z"
   },
   {
    "duration": 12,
    "start_time": "2022-05-21T07:33:15.790Z"
   },
   {
    "duration": 80,
    "start_time": "2022-05-21T07:36:09.243Z"
   },
   {
    "duration": 2937,
    "start_time": "2022-05-21T07:36:14.735Z"
   },
   {
    "duration": 2898,
    "start_time": "2022-05-21T07:36:33.689Z"
   },
   {
    "duration": 24529,
    "start_time": "2022-05-21T07:36:44.973Z"
   },
   {
    "duration": 14,
    "start_time": "2022-05-21T07:42:43.127Z"
   },
   {
    "duration": 27,
    "start_time": "2022-05-21T07:44:06.084Z"
   },
   {
    "duration": 745,
    "start_time": "2022-05-21T07:44:23.773Z"
   },
   {
    "duration": 882,
    "start_time": "2022-05-21T07:44:24.520Z"
   },
   {
    "duration": 8,
    "start_time": "2022-05-21T07:44:25.405Z"
   },
   {
    "duration": 16,
    "start_time": "2022-05-21T07:44:25.416Z"
   },
   {
    "duration": 22,
    "start_time": "2022-05-21T07:44:25.435Z"
   },
   {
    "duration": 18,
    "start_time": "2022-05-21T07:44:25.458Z"
   },
   {
    "duration": 12,
    "start_time": "2022-05-21T07:44:25.478Z"
   },
   {
    "duration": 213,
    "start_time": "2022-05-21T07:44:25.492Z"
   },
   {
    "duration": 15,
    "start_time": "2022-05-21T07:44:25.707Z"
   },
   {
    "duration": 34,
    "start_time": "2022-05-21T07:44:25.725Z"
   },
   {
    "duration": 22,
    "start_time": "2022-05-21T07:47:12.469Z"
   },
   {
    "duration": 775,
    "start_time": "2022-05-21T07:47:21.625Z"
   },
   {
    "duration": 866,
    "start_time": "2022-05-21T07:47:22.403Z"
   },
   {
    "duration": 7,
    "start_time": "2022-05-21T07:47:23.271Z"
   },
   {
    "duration": 15,
    "start_time": "2022-05-21T07:47:23.280Z"
   },
   {
    "duration": 16,
    "start_time": "2022-05-21T07:47:23.297Z"
   },
   {
    "duration": 4,
    "start_time": "2022-05-21T07:47:23.314Z"
   },
   {
    "duration": 35,
    "start_time": "2022-05-21T07:47:23.319Z"
   },
   {
    "duration": 202,
    "start_time": "2022-05-21T07:47:23.356Z"
   },
   {
    "duration": 16,
    "start_time": "2022-05-21T07:47:23.560Z"
   },
   {
    "duration": 11,
    "start_time": "2022-05-21T07:47:23.578Z"
   },
   {
    "duration": 1569,
    "start_time": "2022-05-21T15:55:01.471Z"
   },
   {
    "duration": 344,
    "start_time": "2022-05-21T15:55:03.044Z"
   },
   {
    "duration": 16,
    "start_time": "2022-05-21T15:55:03.390Z"
   },
   {
    "duration": 23,
    "start_time": "2022-05-21T15:55:03.408Z"
   },
   {
    "duration": 37,
    "start_time": "2022-05-21T15:55:03.433Z"
   },
   {
    "duration": 42,
    "start_time": "2022-05-21T15:55:03.472Z"
   },
   {
    "duration": 23,
    "start_time": "2022-05-21T15:55:03.517Z"
   },
   {
    "duration": 30,
    "start_time": "2022-05-21T15:55:03.545Z"
   },
   {
    "duration": 20,
    "start_time": "2022-05-21T15:55:03.576Z"
   },
   {
    "duration": 423,
    "start_time": "2022-05-21T15:55:03.599Z"
   },
   {
    "duration": 28,
    "start_time": "2022-05-21T15:55:04.024Z"
   },
   {
    "duration": 154,
    "start_time": "2022-05-21T15:55:04.053Z"
   },
   {
    "duration": 486,
    "start_time": "2022-05-21T15:55:04.209Z"
   },
   {
    "duration": 21,
    "start_time": "2022-05-21T15:55:04.697Z"
   },
   {
    "duration": 705,
    "start_time": "2022-05-21T15:55:04.720Z"
   },
   {
    "duration": 39,
    "start_time": "2022-05-21T15:55:05.427Z"
   },
   {
    "duration": 750,
    "start_time": "2022-05-21T15:55:05.475Z"
   },
   {
    "duration": 5,
    "start_time": "2022-05-21T15:55:06.226Z"
   },
   {
    "duration": 28336,
    "start_time": "2022-05-21T15:55:06.232Z"
   },
   {
    "duration": 14,
    "start_time": "2022-05-21T15:55:34.574Z"
   },
   {
    "duration": 42,
    "start_time": "2022-05-21T15:55:34.590Z"
   },
   {
    "duration": 745,
    "start_time": "2022-05-21T15:55:34.634Z"
   },
   {
    "duration": 1258,
    "start_time": "2022-05-21T15:55:35.381Z"
   },
   {
    "duration": 17,
    "start_time": "2022-05-21T15:55:36.642Z"
   },
   {
    "duration": 46,
    "start_time": "2022-05-21T15:55:36.661Z"
   },
   {
    "duration": 17,
    "start_time": "2022-05-21T15:55:36.709Z"
   },
   {
    "duration": 7,
    "start_time": "2022-05-21T15:55:36.728Z"
   },
   {
    "duration": 59,
    "start_time": "2022-05-21T15:55:36.738Z"
   },
   {
    "duration": 320,
    "start_time": "2022-05-21T15:55:36.799Z"
   },
   {
    "duration": 33,
    "start_time": "2022-05-21T15:55:37.121Z"
   },
   {
    "duration": 56,
    "start_time": "2022-05-21T15:55:37.163Z"
   },
   {
    "duration": 20,
    "start_time": "2022-05-21T15:57:35.871Z"
   },
   {
    "duration": 18,
    "start_time": "2022-05-21T15:57:45.884Z"
   },
   {
    "duration": 37,
    "start_time": "2022-05-21T15:58:42.429Z"
   },
   {
    "duration": 25280,
    "start_time": "2022-05-21T15:59:14.268Z"
   },
   {
    "duration": 26225,
    "start_time": "2022-05-21T16:00:09.325Z"
   },
   {
    "duration": 25699,
    "start_time": "2022-05-21T16:00:48.986Z"
   },
   {
    "duration": 15,
    "start_time": "2022-05-21T16:01:27.483Z"
   },
   {
    "duration": 7,
    "start_time": "2022-05-21T16:01:38.191Z"
   },
   {
    "duration": 3057,
    "start_time": "2022-05-21T16:02:08.508Z"
   },
   {
    "duration": 42,
    "start_time": "2022-05-21T16:02:24.708Z"
   },
   {
    "duration": 28848,
    "start_time": "2022-05-21T16:02:28.685Z"
   },
   {
    "duration": 25072,
    "start_time": "2022-05-21T16:03:12.000Z"
   },
   {
    "duration": 26376,
    "start_time": "2022-05-21T16:03:48.182Z"
   },
   {
    "duration": 24827,
    "start_time": "2022-05-21T16:07:14.130Z"
   },
   {
    "duration": 24323,
    "start_time": "2022-05-21T16:07:45.415Z"
   },
   {
    "duration": 2178,
    "start_time": "2022-05-21T16:08:54.177Z"
   },
   {
    "duration": 15,
    "start_time": "2022-05-21T16:09:27.522Z"
   },
   {
    "duration": 61,
    "start_time": "2022-05-21T17:09:24.479Z"
   },
   {
    "duration": 1492,
    "start_time": "2022-05-21T17:09:29.910Z"
   },
   {
    "duration": 110,
    "start_time": "2022-05-21T17:09:31.405Z"
   },
   {
    "duration": 18,
    "start_time": "2022-05-21T17:09:31.517Z"
   },
   {
    "duration": 10,
    "start_time": "2022-05-21T17:09:31.537Z"
   },
   {
    "duration": 33,
    "start_time": "2022-05-21T17:09:31.549Z"
   },
   {
    "duration": 15,
    "start_time": "2022-05-21T17:09:31.585Z"
   },
   {
    "duration": 17,
    "start_time": "2022-05-21T17:09:31.602Z"
   },
   {
    "duration": 17,
    "start_time": "2022-05-21T17:09:31.620Z"
   },
   {
    "duration": 6,
    "start_time": "2022-05-21T17:09:31.665Z"
   },
   {
    "duration": 411,
    "start_time": "2022-05-21T17:09:31.675Z"
   },
   {
    "duration": 15,
    "start_time": "2022-05-21T17:09:32.087Z"
   },
   {
    "duration": 154,
    "start_time": "2022-05-21T17:09:32.103Z"
   },
   {
    "duration": 403,
    "start_time": "2022-05-21T17:09:32.259Z"
   },
   {
    "duration": 15,
    "start_time": "2022-05-21T17:09:32.664Z"
   },
   {
    "duration": 687,
    "start_time": "2022-05-21T17:09:32.687Z"
   },
   {
    "duration": 21,
    "start_time": "2022-05-21T17:09:33.375Z"
   },
   {
    "duration": 790,
    "start_time": "2022-05-21T17:09:33.397Z"
   },
   {
    "duration": 4,
    "start_time": "2022-05-21T17:09:34.189Z"
   },
   {
    "duration": 23938,
    "start_time": "2022-05-21T17:09:34.195Z"
   },
   {
    "duration": 2343,
    "start_time": "2022-05-21T17:09:58.135Z"
   },
   {
    "duration": 0,
    "start_time": "2022-05-21T17:10:00.480Z"
   },
   {
    "duration": 0,
    "start_time": "2022-05-21T17:10:00.482Z"
   },
   {
    "duration": 0,
    "start_time": "2022-05-21T17:10:00.483Z"
   },
   {
    "duration": 0,
    "start_time": "2022-05-21T17:10:00.484Z"
   },
   {
    "duration": 0,
    "start_time": "2022-05-21T17:10:00.486Z"
   },
   {
    "duration": 0,
    "start_time": "2022-05-21T17:10:00.487Z"
   },
   {
    "duration": 1,
    "start_time": "2022-05-21T17:10:00.488Z"
   },
   {
    "duration": 0,
    "start_time": "2022-05-21T17:10:00.490Z"
   },
   {
    "duration": 0,
    "start_time": "2022-05-21T17:10:00.490Z"
   },
   {
    "duration": 0,
    "start_time": "2022-05-21T17:10:00.491Z"
   },
   {
    "duration": 1,
    "start_time": "2022-05-21T17:10:00.492Z"
   },
   {
    "duration": 0,
    "start_time": "2022-05-21T17:10:00.494Z"
   },
   {
    "duration": 24318,
    "start_time": "2022-05-21T17:10:28.163Z"
   },
   {
    "duration": 2137,
    "start_time": "2022-05-21T17:10:52.484Z"
   },
   {
    "duration": 0,
    "start_time": "2022-05-21T17:10:54.623Z"
   },
   {
    "duration": 28433,
    "start_time": "2022-05-21T17:13:10.701Z"
   },
   {
    "duration": 6,
    "start_time": "2022-05-21T17:13:39.137Z"
   },
   {
    "duration": 26,
    "start_time": "2022-05-21T17:13:39.145Z"
   },
   {
    "duration": 19,
    "start_time": "2022-05-21T17:14:01.048Z"
   },
   {
    "duration": 12,
    "start_time": "2022-05-21T17:14:09.715Z"
   },
   {
    "duration": 11,
    "start_time": "2022-05-21T17:14:19.155Z"
   },
   {
    "duration": 26,
    "start_time": "2022-05-21T17:14:24.497Z"
   },
   {
    "duration": 28549,
    "start_time": "2022-05-21T17:16:05.874Z"
   },
   {
    "duration": 11,
    "start_time": "2022-05-21T17:16:34.425Z"
   },
   {
    "duration": 12,
    "start_time": "2022-05-21T17:16:57.173Z"
   },
   {
    "duration": 16,
    "start_time": "2022-05-21T17:17:39.197Z"
   },
   {
    "duration": 14,
    "start_time": "2022-05-21T17:17:49.522Z"
   },
   {
    "duration": 2107,
    "start_time": "2022-05-21T17:18:02.449Z"
   },
   {
    "duration": 33,
    "start_time": "2022-05-21T17:25:18.263Z"
   },
   {
    "duration": 12,
    "start_time": "2022-05-21T17:25:50.162Z"
   },
   {
    "duration": 23782,
    "start_time": "2022-05-21T17:26:07.696Z"
   },
   {
    "duration": 3,
    "start_time": "2022-05-21T17:26:31.479Z"
   },
   {
    "duration": 12,
    "start_time": "2022-05-21T17:26:31.483Z"
   },
   {
    "duration": 11,
    "start_time": "2022-05-21T17:26:33.398Z"
   },
   {
    "duration": 19,
    "start_time": "2022-05-21T17:27:24.389Z"
   },
   {
    "duration": 24,
    "start_time": "2022-05-21T17:27:44.905Z"
   },
   {
    "duration": 20,
    "start_time": "2022-05-21T17:28:04.632Z"
   },
   {
    "duration": 36,
    "start_time": "2022-05-21T17:29:15.349Z"
   },
   {
    "duration": 58,
    "start_time": "2022-05-21T17:30:26.203Z"
   },
   {
    "duration": 26,
    "start_time": "2022-05-21T17:30:40.784Z"
   },
   {
    "duration": 42,
    "start_time": "2022-05-21T17:36:04.420Z"
   },
   {
    "duration": 39,
    "start_time": "2022-05-21T17:37:36.703Z"
   },
   {
    "duration": 43,
    "start_time": "2022-05-21T17:39:11.200Z"
   },
   {
    "duration": 22,
    "start_time": "2022-05-21T17:39:41.346Z"
   },
   {
    "duration": 26,
    "start_time": "2022-05-21T17:40:18.860Z"
   },
   {
    "duration": 2833,
    "start_time": "2022-05-21T17:49:50.582Z"
   },
   {
    "duration": 27,
    "start_time": "2022-05-21T17:53:22.532Z"
   },
   {
    "duration": 26,
    "start_time": "2022-05-21T17:53:48.953Z"
   },
   {
    "duration": 33,
    "start_time": "2022-05-21T17:55:59.655Z"
   },
   {
    "duration": 17,
    "start_time": "2022-05-21T17:56:00.231Z"
   },
   {
    "duration": 132,
    "start_time": "2022-05-21T17:57:06.455Z"
   },
   {
    "duration": 25,
    "start_time": "2022-05-21T17:57:06.590Z"
   },
   {
    "duration": 14,
    "start_time": "2022-05-21T17:57:06.617Z"
   },
   {
    "duration": 331,
    "start_time": "2022-05-21T17:57:06.633Z"
   },
   {
    "duration": 0,
    "start_time": "2022-05-21T17:57:06.974Z"
   },
   {
    "duration": 0,
    "start_time": "2022-05-21T17:57:06.976Z"
   },
   {
    "duration": 0,
    "start_time": "2022-05-21T17:57:06.977Z"
   },
   {
    "duration": 0,
    "start_time": "2022-05-21T17:57:06.979Z"
   },
   {
    "duration": 0,
    "start_time": "2022-05-21T17:57:06.980Z"
   },
   {
    "duration": 0,
    "start_time": "2022-05-21T17:57:06.981Z"
   },
   {
    "duration": 0,
    "start_time": "2022-05-21T17:57:06.983Z"
   },
   {
    "duration": 0,
    "start_time": "2022-05-21T17:57:06.983Z"
   },
   {
    "duration": 0,
    "start_time": "2022-05-21T17:57:06.985Z"
   },
   {
    "duration": 0,
    "start_time": "2022-05-21T17:57:06.986Z"
   },
   {
    "duration": 1200,
    "start_time": "2022-05-21T17:57:34.715Z"
   },
   {
    "duration": 75,
    "start_time": "2022-05-21T17:57:35.917Z"
   },
   {
    "duration": 14,
    "start_time": "2022-05-21T17:57:35.994Z"
   },
   {
    "duration": 16,
    "start_time": "2022-05-21T17:57:36.010Z"
   },
   {
    "duration": 37,
    "start_time": "2022-05-21T17:57:36.027Z"
   },
   {
    "duration": 18,
    "start_time": "2022-05-21T17:57:36.070Z"
   },
   {
    "duration": 16,
    "start_time": "2022-05-21T17:57:36.090Z"
   },
   {
    "duration": 16,
    "start_time": "2022-05-21T17:57:36.108Z"
   },
   {
    "duration": 5,
    "start_time": "2022-05-21T17:57:36.125Z"
   },
   {
    "duration": 411,
    "start_time": "2022-05-21T17:57:36.132Z"
   },
   {
    "duration": 34,
    "start_time": "2022-05-21T17:57:36.544Z"
   },
   {
    "duration": 146,
    "start_time": "2022-05-21T17:57:36.580Z"
   },
   {
    "duration": 409,
    "start_time": "2022-05-21T17:57:36.727Z"
   },
   {
    "duration": 39,
    "start_time": "2022-05-21T17:57:37.138Z"
   },
   {
    "duration": 622,
    "start_time": "2022-05-21T17:57:37.179Z"
   },
   {
    "duration": 21,
    "start_time": "2022-05-21T17:57:37.802Z"
   },
   {
    "duration": 807,
    "start_time": "2022-05-21T17:57:37.825Z"
   },
   {
    "duration": 45,
    "start_time": "2022-05-21T17:57:38.634Z"
   },
   {
    "duration": 41,
    "start_time": "2022-05-21T17:57:38.681Z"
   },
   {
    "duration": 26,
    "start_time": "2022-05-21T17:57:38.724Z"
   },
   {
    "duration": 195,
    "start_time": "2022-05-21T17:57:38.752Z"
   },
   {
    "duration": 0,
    "start_time": "2022-05-21T17:57:38.949Z"
   },
   {
    "duration": 0,
    "start_time": "2022-05-21T17:57:38.952Z"
   },
   {
    "duration": 0,
    "start_time": "2022-05-21T17:57:38.954Z"
   },
   {
    "duration": 0,
    "start_time": "2022-05-21T17:57:38.965Z"
   },
   {
    "duration": 0,
    "start_time": "2022-05-21T17:57:38.966Z"
   },
   {
    "duration": 0,
    "start_time": "2022-05-21T17:57:38.968Z"
   },
   {
    "duration": 0,
    "start_time": "2022-05-21T17:57:38.969Z"
   },
   {
    "duration": 1,
    "start_time": "2022-05-21T17:57:38.971Z"
   },
   {
    "duration": 0,
    "start_time": "2022-05-21T17:57:38.984Z"
   },
   {
    "duration": 0,
    "start_time": "2022-05-21T17:57:38.986Z"
   },
   {
    "duration": 30,
    "start_time": "2022-05-21T17:59:23.582Z"
   },
   {
    "duration": 26,
    "start_time": "2022-05-21T17:59:51.822Z"
   },
   {
    "duration": 26,
    "start_time": "2022-05-21T18:00:00.095Z"
   },
   {
    "duration": 60,
    "start_time": "2022-05-21T18:00:26.254Z"
   },
   {
    "duration": 27,
    "start_time": "2022-05-21T18:01:28.214Z"
   },
   {
    "duration": 33,
    "start_time": "2022-05-21T18:05:19.573Z"
   },
   {
    "duration": 107,
    "start_time": "2022-05-21T18:05:54.211Z"
   },
   {
    "duration": 19,
    "start_time": "2022-05-21T18:05:56.995Z"
   },
   {
    "duration": 94,
    "start_time": "2022-05-21T18:06:36.375Z"
   },
   {
    "duration": 99,
    "start_time": "2022-05-21T18:07:38.259Z"
   },
   {
    "duration": 117,
    "start_time": "2022-05-21T18:07:51.525Z"
   },
   {
    "duration": 19,
    "start_time": "2022-05-21T18:08:32.274Z"
   },
   {
    "duration": 23,
    "start_time": "2022-05-21T18:08:33.602Z"
   },
   {
    "duration": 19,
    "start_time": "2022-05-21T18:09:03.209Z"
   },
   {
    "duration": 16,
    "start_time": "2022-05-21T18:09:04.620Z"
   },
   {
    "duration": 18,
    "start_time": "2022-05-21T18:09:17.830Z"
   },
   {
    "duration": 16,
    "start_time": "2022-05-21T18:09:18.593Z"
   },
   {
    "duration": 1396,
    "start_time": "2022-05-22T06:32:22.896Z"
   },
   {
    "duration": 112,
    "start_time": "2022-05-22T06:32:24.294Z"
   },
   {
    "duration": 12,
    "start_time": "2022-05-22T06:32:24.408Z"
   },
   {
    "duration": 15,
    "start_time": "2022-05-22T06:32:24.422Z"
   },
   {
    "duration": 21,
    "start_time": "2022-05-22T06:32:24.442Z"
   },
   {
    "duration": 11,
    "start_time": "2022-05-22T06:32:24.464Z"
   },
   {
    "duration": 13,
    "start_time": "2022-05-22T06:32:24.477Z"
   },
   {
    "duration": 15,
    "start_time": "2022-05-22T06:32:24.491Z"
   },
   {
    "duration": 25,
    "start_time": "2022-05-22T06:32:24.508Z"
   },
   {
    "duration": 402,
    "start_time": "2022-05-22T06:32:24.538Z"
   },
   {
    "duration": 12,
    "start_time": "2022-05-22T06:32:24.942Z"
   },
   {
    "duration": 125,
    "start_time": "2022-05-22T06:32:24.956Z"
   },
   {
    "duration": 379,
    "start_time": "2022-05-22T06:32:25.082Z"
   },
   {
    "duration": 13,
    "start_time": "2022-05-22T06:32:25.463Z"
   },
   {
    "duration": 637,
    "start_time": "2022-05-22T06:32:25.478Z"
   },
   {
    "duration": 29,
    "start_time": "2022-05-22T06:32:26.117Z"
   },
   {
    "duration": 700,
    "start_time": "2022-05-22T06:32:26.147Z"
   },
   {
    "duration": 18,
    "start_time": "2022-05-22T06:32:26.849Z"
   },
   {
    "duration": 29,
    "start_time": "2022-05-22T06:32:26.869Z"
   },
   {
    "duration": 12,
    "start_time": "2022-05-22T06:32:26.901Z"
   },
   {
    "duration": 170,
    "start_time": "2022-05-22T06:32:26.928Z"
   },
   {
    "duration": 0,
    "start_time": "2022-05-22T06:32:27.100Z"
   },
   {
    "duration": 0,
    "start_time": "2022-05-22T06:32:27.101Z"
   },
   {
    "duration": 0,
    "start_time": "2022-05-22T06:32:27.103Z"
   },
   {
    "duration": 0,
    "start_time": "2022-05-22T06:32:27.104Z"
   },
   {
    "duration": 0,
    "start_time": "2022-05-22T06:32:27.105Z"
   },
   {
    "duration": 0,
    "start_time": "2022-05-22T06:32:27.106Z"
   },
   {
    "duration": 0,
    "start_time": "2022-05-22T06:32:27.107Z"
   },
   {
    "duration": 0,
    "start_time": "2022-05-22T06:32:27.108Z"
   },
   {
    "duration": 0,
    "start_time": "2022-05-22T06:32:27.109Z"
   },
   {
    "duration": 0,
    "start_time": "2022-05-22T06:32:27.110Z"
   },
   {
    "duration": 17,
    "start_time": "2022-05-22T06:35:57.393Z"
   },
   {
    "duration": 15,
    "start_time": "2022-05-22T06:36:09.906Z"
   },
   {
    "duration": 106,
    "start_time": "2022-05-22T06:36:56.083Z"
   },
   {
    "duration": 15,
    "start_time": "2022-05-22T06:36:57.983Z"
   },
   {
    "duration": 1225,
    "start_time": "2022-05-22T06:37:02.734Z"
   },
   {
    "duration": 68,
    "start_time": "2022-05-22T06:37:03.961Z"
   },
   {
    "duration": 19,
    "start_time": "2022-05-22T06:37:04.031Z"
   },
   {
    "duration": 18,
    "start_time": "2022-05-22T06:37:04.053Z"
   },
   {
    "duration": 20,
    "start_time": "2022-05-22T06:37:04.073Z"
   },
   {
    "duration": 15,
    "start_time": "2022-05-22T06:37:04.094Z"
   },
   {
    "duration": 34,
    "start_time": "2022-05-22T06:37:04.111Z"
   },
   {
    "duration": 17,
    "start_time": "2022-05-22T06:37:04.147Z"
   },
   {
    "duration": 6,
    "start_time": "2022-05-22T06:37:04.165Z"
   },
   {
    "duration": 401,
    "start_time": "2022-05-22T06:37:04.174Z"
   },
   {
    "duration": 16,
    "start_time": "2022-05-22T06:37:04.577Z"
   },
   {
    "duration": 162,
    "start_time": "2022-05-22T06:37:04.595Z"
   },
   {
    "duration": 386,
    "start_time": "2022-05-22T06:37:04.759Z"
   },
   {
    "duration": 16,
    "start_time": "2022-05-22T06:37:05.147Z"
   },
   {
    "duration": 656,
    "start_time": "2022-05-22T06:37:05.165Z"
   },
   {
    "duration": 24,
    "start_time": "2022-05-22T06:37:05.823Z"
   },
   {
    "duration": 769,
    "start_time": "2022-05-22T06:37:05.849Z"
   },
   {
    "duration": 23,
    "start_time": "2022-05-22T06:37:06.619Z"
   },
   {
    "duration": 40,
    "start_time": "2022-05-22T06:37:06.644Z"
   },
   {
    "duration": 12,
    "start_time": "2022-05-22T06:37:06.686Z"
   },
   {
    "duration": 175,
    "start_time": "2022-05-22T06:37:06.700Z"
   },
   {
    "duration": 0,
    "start_time": "2022-05-22T06:37:06.877Z"
   },
   {
    "duration": 0,
    "start_time": "2022-05-22T06:37:06.878Z"
   },
   {
    "duration": 0,
    "start_time": "2022-05-22T06:37:06.880Z"
   },
   {
    "duration": 0,
    "start_time": "2022-05-22T06:37:06.881Z"
   },
   {
    "duration": 0,
    "start_time": "2022-05-22T06:37:06.882Z"
   },
   {
    "duration": 0,
    "start_time": "2022-05-22T06:37:06.882Z"
   },
   {
    "duration": 0,
    "start_time": "2022-05-22T06:37:06.883Z"
   },
   {
    "duration": 0,
    "start_time": "2022-05-22T06:37:06.884Z"
   },
   {
    "duration": 0,
    "start_time": "2022-05-22T06:37:06.885Z"
   },
   {
    "duration": 0,
    "start_time": "2022-05-22T06:37:06.886Z"
   },
   {
    "duration": 12,
    "start_time": "2022-05-22T06:37:51.158Z"
   },
   {
    "duration": 14,
    "start_time": "2022-05-22T06:37:51.766Z"
   },
   {
    "duration": 10,
    "start_time": "2022-05-22T06:38:00.898Z"
   },
   {
    "duration": 38,
    "start_time": "2022-05-22T06:38:00.910Z"
   },
   {
    "duration": 628,
    "start_time": "2022-05-22T06:38:00.950Z"
   },
   {
    "duration": 1397,
    "start_time": "2022-05-22T06:38:01.580Z"
   },
   {
    "duration": 8,
    "start_time": "2022-05-22T06:38:02.978Z"
   },
   {
    "duration": 16,
    "start_time": "2022-05-22T06:38:02.987Z"
   },
   {
    "duration": 14,
    "start_time": "2022-05-22T06:38:03.005Z"
   },
   {
    "duration": 5,
    "start_time": "2022-05-22T06:38:03.020Z"
   },
   {
    "duration": 33,
    "start_time": "2022-05-22T06:38:03.030Z"
   },
   {
    "duration": 213,
    "start_time": "2022-05-22T06:38:03.064Z"
   },
   {
    "duration": 15,
    "start_time": "2022-05-22T06:38:03.279Z"
   },
   {
    "duration": 14,
    "start_time": "2022-05-22T06:38:03.295Z"
   },
   {
    "duration": 117,
    "start_time": "2022-05-22T06:39:21.444Z"
   },
   {
    "duration": 18,
    "start_time": "2022-05-22T06:39:22.292Z"
   },
   {
    "duration": 17,
    "start_time": "2022-05-22T06:39:32.564Z"
   },
   {
    "duration": 15,
    "start_time": "2022-05-22T06:39:33.171Z"
   },
   {
    "duration": 19,
    "start_time": "2022-05-22T06:40:07.003Z"
   },
   {
    "duration": 28,
    "start_time": "2022-05-22T06:40:07.615Z"
   },
   {
    "duration": 26,
    "start_time": "2022-05-22T06:40:16.511Z"
   },
   {
    "duration": 17,
    "start_time": "2022-05-22T06:40:16.982Z"
   },
   {
    "duration": 24,
    "start_time": "2022-05-22T06:40:40.819Z"
   },
   {
    "duration": 15,
    "start_time": "2022-05-22T06:40:41.365Z"
   },
   {
    "duration": 10,
    "start_time": "2022-05-22T06:41:05.913Z"
   },
   {
    "duration": 20,
    "start_time": "2022-05-22T06:41:26.296Z"
   },
   {
    "duration": 49,
    "start_time": "2022-05-22T06:42:10.693Z"
   },
   {
    "duration": 30,
    "start_time": "2022-05-22T06:42:35.613Z"
   },
   {
    "duration": 23,
    "start_time": "2022-05-22T06:42:49.802Z"
   },
   {
    "duration": 102,
    "start_time": "2022-05-22T06:51:45.669Z"
   },
   {
    "duration": 22,
    "start_time": "2022-05-22T06:52:11.756Z"
   },
   {
    "duration": 17,
    "start_time": "2022-05-22T06:52:16.353Z"
   },
   {
    "duration": 9,
    "start_time": "2022-05-22T06:52:39.343Z"
   },
   {
    "duration": 46,
    "start_time": "2022-05-22T06:52:39.354Z"
   },
   {
    "duration": 690,
    "start_time": "2022-05-22T06:52:39.402Z"
   },
   {
    "duration": 1316,
    "start_time": "2022-05-22T06:52:40.095Z"
   },
   {
    "duration": 8,
    "start_time": "2022-05-22T06:52:41.412Z"
   },
   {
    "duration": 17,
    "start_time": "2022-05-22T06:52:41.422Z"
   },
   {
    "duration": 17,
    "start_time": "2022-05-22T06:52:41.440Z"
   },
   {
    "duration": 3,
    "start_time": "2022-05-22T06:52:41.459Z"
   },
   {
    "duration": 11,
    "start_time": "2022-05-22T06:52:41.464Z"
   },
   {
    "duration": 192,
    "start_time": "2022-05-22T06:52:41.478Z"
   },
   {
    "duration": 14,
    "start_time": "2022-05-22T06:52:41.671Z"
   },
   {
    "duration": 13,
    "start_time": "2022-05-22T06:52:41.687Z"
   },
   {
    "duration": 101,
    "start_time": "2022-05-22T06:53:43.957Z"
   },
   {
    "duration": 16,
    "start_time": "2022-05-22T06:53:44.894Z"
   },
   {
    "duration": 93,
    "start_time": "2022-05-22T06:55:59.414Z"
   },
   {
    "duration": 130,
    "start_time": "2022-05-22T06:56:22.386Z"
   },
   {
    "duration": 98,
    "start_time": "2022-05-22T06:56:27.926Z"
   },
   {
    "duration": 128,
    "start_time": "2022-05-22T06:56:52.386Z"
   },
   {
    "duration": 19,
    "start_time": "2022-05-22T06:57:08.603Z"
   },
   {
    "duration": 12,
    "start_time": "2022-05-22T06:57:10.450Z"
   },
   {
    "duration": 9,
    "start_time": "2022-05-22T06:57:21.164Z"
   },
   {
    "duration": 32,
    "start_time": "2022-05-22T06:57:21.176Z"
   },
   {
    "duration": 671,
    "start_time": "2022-05-22T06:57:21.211Z"
   },
   {
    "duration": 1035,
    "start_time": "2022-05-22T06:57:21.883Z"
   },
   {
    "duration": 8,
    "start_time": "2022-05-22T06:57:22.920Z"
   },
   {
    "duration": 16,
    "start_time": "2022-05-22T06:57:22.930Z"
   },
   {
    "duration": 18,
    "start_time": "2022-05-22T06:57:22.947Z"
   },
   {
    "duration": 4,
    "start_time": "2022-05-22T06:57:22.967Z"
   },
   {
    "duration": 13,
    "start_time": "2022-05-22T06:57:22.972Z"
   },
   {
    "duration": 218,
    "start_time": "2022-05-22T06:57:22.986Z"
   },
   {
    "duration": 22,
    "start_time": "2022-05-22T06:57:23.206Z"
   },
   {
    "duration": 13,
    "start_time": "2022-05-22T06:57:23.230Z"
   },
   {
    "duration": 13,
    "start_time": "2022-05-22T06:58:32.490Z"
   },
   {
    "duration": 20,
    "start_time": "2022-05-22T06:58:32.505Z"
   },
   {
    "duration": 14,
    "start_time": "2022-05-22T06:58:32.527Z"
   },
   {
    "duration": 24,
    "start_time": "2022-05-22T06:58:32.543Z"
   },
   {
    "duration": 690,
    "start_time": "2022-05-22T06:58:32.568Z"
   },
   {
    "duration": 1142,
    "start_time": "2022-05-22T06:58:33.259Z"
   },
   {
    "duration": 9,
    "start_time": "2022-05-22T06:58:34.402Z"
   },
   {
    "duration": 17,
    "start_time": "2022-05-22T06:58:34.413Z"
   },
   {
    "duration": 19,
    "start_time": "2022-05-22T06:58:34.432Z"
   },
   {
    "duration": 3,
    "start_time": "2022-05-22T06:58:34.454Z"
   },
   {
    "duration": 16,
    "start_time": "2022-05-22T06:58:34.459Z"
   },
   {
    "duration": 209,
    "start_time": "2022-05-22T06:58:34.476Z"
   },
   {
    "duration": 16,
    "start_time": "2022-05-22T06:58:34.687Z"
   },
   {
    "duration": 28,
    "start_time": "2022-05-22T06:58:34.705Z"
   },
   {
    "duration": 116,
    "start_time": "2022-05-22T07:02:16.956Z"
   },
   {
    "duration": 16,
    "start_time": "2022-05-22T07:05:30.440Z"
   },
   {
    "duration": 16,
    "start_time": "2022-05-22T07:05:38.812Z"
   },
   {
    "duration": 19,
    "start_time": "2022-05-22T07:05:39.554Z"
   },
   {
    "duration": 9,
    "start_time": "2022-05-22T07:05:45.035Z"
   },
   {
    "duration": 41,
    "start_time": "2022-05-22T07:05:45.046Z"
   },
   {
    "duration": 676,
    "start_time": "2022-05-22T07:05:45.089Z"
   },
   {
    "duration": 1173,
    "start_time": "2022-05-22T07:05:45.767Z"
   },
   {
    "duration": 8,
    "start_time": "2022-05-22T07:05:46.942Z"
   },
   {
    "duration": 36,
    "start_time": "2022-05-22T07:05:46.952Z"
   },
   {
    "duration": 19,
    "start_time": "2022-05-22T07:05:46.990Z"
   },
   {
    "duration": 12,
    "start_time": "2022-05-22T07:05:47.010Z"
   },
   {
    "duration": 22,
    "start_time": "2022-05-22T07:05:47.023Z"
   },
   {
    "duration": 199,
    "start_time": "2022-05-22T07:05:47.047Z"
   },
   {
    "duration": 17,
    "start_time": "2022-05-22T07:05:47.248Z"
   },
   {
    "duration": 49,
    "start_time": "2022-05-22T07:05:47.266Z"
   },
   {
    "duration": 16,
    "start_time": "2022-05-22T07:07:15.871Z"
   },
   {
    "duration": 24,
    "start_time": "2022-05-22T07:07:15.889Z"
   },
   {
    "duration": 18,
    "start_time": "2022-05-22T07:07:15.914Z"
   },
   {
    "duration": 32,
    "start_time": "2022-05-22T07:07:15.933Z"
   },
   {
    "duration": 762,
    "start_time": "2022-05-22T07:07:15.967Z"
   },
   {
    "duration": 1066,
    "start_time": "2022-05-22T07:07:16.730Z"
   },
   {
    "duration": 9,
    "start_time": "2022-05-22T07:07:17.797Z"
   },
   {
    "duration": 30,
    "start_time": "2022-05-22T07:07:17.807Z"
   },
   {
    "duration": 24,
    "start_time": "2022-05-22T07:07:17.839Z"
   },
   {
    "duration": 4,
    "start_time": "2022-05-22T07:07:17.864Z"
   },
   {
    "duration": 16,
    "start_time": "2022-05-22T07:07:17.869Z"
   },
   {
    "duration": 205,
    "start_time": "2022-05-22T07:07:17.886Z"
   },
   {
    "duration": 15,
    "start_time": "2022-05-22T07:07:18.093Z"
   },
   {
    "duration": 25,
    "start_time": "2022-05-22T07:07:18.111Z"
   },
   {
    "duration": 16,
    "start_time": "2022-05-22T07:09:02.396Z"
   },
   {
    "duration": 14,
    "start_time": "2022-05-22T07:09:02.880Z"
   },
   {
    "duration": 10,
    "start_time": "2022-05-22T07:09:06.546Z"
   },
   {
    "duration": 36,
    "start_time": "2022-05-22T07:09:17.411Z"
   },
   {
    "duration": 734,
    "start_time": "2022-05-22T07:09:24.666Z"
   },
   {
    "duration": 1044,
    "start_time": "2022-05-22T07:09:25.466Z"
   },
   {
    "duration": 10,
    "start_time": "2022-05-22T07:09:27.338Z"
   },
   {
    "duration": 16,
    "start_time": "2022-05-22T07:09:28.081Z"
   },
   {
    "duration": 25,
    "start_time": "2022-05-22T07:15:07.562Z"
   },
   {
    "duration": 28,
    "start_time": "2022-05-22T07:15:12.023Z"
   },
   {
    "duration": 25,
    "start_time": "2022-05-22T07:15:25.602Z"
   },
   {
    "duration": 21,
    "start_time": "2022-05-22T07:15:26.246Z"
   },
   {
    "duration": 19,
    "start_time": "2022-05-22T07:15:32.544Z"
   },
   {
    "duration": 19,
    "start_time": "2022-05-22T07:15:33.084Z"
   },
   {
    "duration": 13,
    "start_time": "2022-05-22T07:15:44.494Z"
   },
   {
    "duration": 53,
    "start_time": "2022-05-22T07:15:44.509Z"
   },
   {
    "duration": 870,
    "start_time": "2022-05-22T07:15:44.564Z"
   },
   {
    "duration": 1230,
    "start_time": "2022-05-22T07:15:45.438Z"
   },
   {
    "duration": 12,
    "start_time": "2022-05-22T07:15:46.670Z"
   },
   {
    "duration": 17,
    "start_time": "2022-05-22T07:15:46.684Z"
   },
   {
    "duration": 40,
    "start_time": "2022-05-22T07:15:46.703Z"
   },
   {
    "duration": 5,
    "start_time": "2022-05-22T07:15:46.746Z"
   },
   {
    "duration": 26,
    "start_time": "2022-05-22T07:15:46.753Z"
   },
   {
    "duration": 222,
    "start_time": "2022-05-22T07:15:46.781Z"
   },
   {
    "duration": 30,
    "start_time": "2022-05-22T07:15:47.005Z"
   },
   {
    "duration": 28,
    "start_time": "2022-05-22T07:15:47.038Z"
   },
   {
    "duration": 20,
    "start_time": "2022-05-22T07:17:28.387Z"
   },
   {
    "duration": 14,
    "start_time": "2022-05-22T07:17:29.193Z"
   },
   {
    "duration": 17,
    "start_time": "2022-05-22T07:17:43.509Z"
   },
   {
    "duration": 15,
    "start_time": "2022-05-22T07:17:43.966Z"
   },
   {
    "duration": 22,
    "start_time": "2022-05-22T07:18:35.353Z"
   },
   {
    "duration": 19,
    "start_time": "2022-05-22T07:18:41.179Z"
   },
   {
    "duration": 11,
    "start_time": "2022-05-22T07:18:58.949Z"
   },
   {
    "duration": 43,
    "start_time": "2022-05-22T07:18:58.962Z"
   },
   {
    "duration": 667,
    "start_time": "2022-05-22T07:18:59.008Z"
   },
   {
    "duration": 1008,
    "start_time": "2022-05-22T07:18:59.677Z"
   },
   {
    "duration": 13,
    "start_time": "2022-05-22T07:19:00.688Z"
   },
   {
    "duration": 29,
    "start_time": "2022-05-22T07:19:00.703Z"
   },
   {
    "duration": 23,
    "start_time": "2022-05-22T07:19:00.735Z"
   },
   {
    "duration": 4,
    "start_time": "2022-05-22T07:19:00.760Z"
   },
   {
    "duration": 28,
    "start_time": "2022-05-22T07:19:00.766Z"
   },
   {
    "duration": 209,
    "start_time": "2022-05-22T07:19:00.797Z"
   },
   {
    "duration": 27,
    "start_time": "2022-05-22T07:19:01.009Z"
   },
   {
    "duration": 28,
    "start_time": "2022-05-22T07:19:01.038Z"
   },
   {
    "duration": 15,
    "start_time": "2022-05-22T07:19:39.260Z"
   },
   {
    "duration": 14,
    "start_time": "2022-05-22T07:19:40.076Z"
   },
   {
    "duration": 1512,
    "start_time": "2022-05-22T07:20:27.597Z"
   },
   {
    "duration": 94,
    "start_time": "2022-05-22T07:20:29.111Z"
   },
   {
    "duration": 28,
    "start_time": "2022-05-22T07:20:29.207Z"
   },
   {
    "duration": 80,
    "start_time": "2022-05-22T07:20:29.238Z"
   },
   {
    "duration": 28,
    "start_time": "2022-05-22T07:20:29.321Z"
   },
   {
    "duration": 19,
    "start_time": "2022-05-22T07:20:29.351Z"
   },
   {
    "duration": 21,
    "start_time": "2022-05-22T07:20:29.372Z"
   },
   {
    "duration": 41,
    "start_time": "2022-05-22T07:20:29.395Z"
   },
   {
    "duration": 12,
    "start_time": "2022-05-22T07:20:29.438Z"
   },
   {
    "duration": 499,
    "start_time": "2022-05-22T07:20:29.453Z"
   },
   {
    "duration": 20,
    "start_time": "2022-05-22T07:20:29.954Z"
   },
   {
    "duration": 196,
    "start_time": "2022-05-22T07:20:29.976Z"
   },
   {
    "duration": 536,
    "start_time": "2022-05-22T07:20:30.174Z"
   },
   {
    "duration": 25,
    "start_time": "2022-05-22T07:20:30.712Z"
   },
   {
    "duration": 805,
    "start_time": "2022-05-22T07:20:30.739Z"
   },
   {
    "duration": 26,
    "start_time": "2022-05-22T07:20:31.546Z"
   },
   {
    "duration": 924,
    "start_time": "2022-05-22T07:20:31.573Z"
   },
   {
    "duration": 33,
    "start_time": "2022-05-22T07:20:32.499Z"
   },
   {
    "duration": 21,
    "start_time": "2022-05-22T07:20:32.534Z"
   },
   {
    "duration": 13,
    "start_time": "2022-05-22T07:20:32.557Z"
   },
   {
    "duration": 63,
    "start_time": "2022-05-22T07:20:32.572Z"
   },
   {
    "duration": 914,
    "start_time": "2022-05-22T07:20:32.636Z"
   },
   {
    "duration": 1164,
    "start_time": "2022-05-22T07:20:33.552Z"
   },
   {
    "duration": 9,
    "start_time": "2022-05-22T07:20:34.718Z"
   },
   {
    "duration": 26,
    "start_time": "2022-05-22T07:20:34.729Z"
   },
   {
    "duration": 26,
    "start_time": "2022-05-22T07:20:34.757Z"
   },
   {
    "duration": 10,
    "start_time": "2022-05-22T07:20:34.785Z"
   },
   {
    "duration": 34,
    "start_time": "2022-05-22T07:20:34.799Z"
   },
   {
    "duration": 287,
    "start_time": "2022-05-22T07:20:34.835Z"
   },
   {
    "duration": 19,
    "start_time": "2022-05-22T07:20:35.127Z"
   },
   {
    "duration": 21,
    "start_time": "2022-05-22T07:20:35.147Z"
   },
   {
    "duration": 25,
    "start_time": "2022-05-22T07:21:10.799Z"
   },
   {
    "duration": 16,
    "start_time": "2022-05-22T07:21:11.892Z"
   },
   {
    "duration": 11,
    "start_time": "2022-05-22T07:21:27.739Z"
   },
   {
    "duration": 47,
    "start_time": "2022-05-22T07:21:27.754Z"
   },
   {
    "duration": 697,
    "start_time": "2022-05-22T07:21:27.803Z"
   },
   {
    "duration": 1135,
    "start_time": "2022-05-22T07:21:28.502Z"
   },
   {
    "duration": 9,
    "start_time": "2022-05-22T07:21:29.638Z"
   },
   {
    "duration": 17,
    "start_time": "2022-05-22T07:21:29.648Z"
   },
   {
    "duration": 20,
    "start_time": "2022-05-22T07:21:29.667Z"
   },
   {
    "duration": 4,
    "start_time": "2022-05-22T07:21:29.689Z"
   },
   {
    "duration": 40,
    "start_time": "2022-05-22T07:21:29.695Z"
   },
   {
    "duration": 208,
    "start_time": "2022-05-22T07:21:29.739Z"
   },
   {
    "duration": 17,
    "start_time": "2022-05-22T07:21:29.949Z"
   },
   {
    "duration": 20,
    "start_time": "2022-05-22T07:21:29.968Z"
   },
   {
    "duration": 17,
    "start_time": "2022-05-22T07:22:34.248Z"
   },
   {
    "duration": 14,
    "start_time": "2022-05-22T07:22:34.696Z"
   },
   {
    "duration": 24,
    "start_time": "2022-05-22T07:23:55.224Z"
   },
   {
    "duration": 18,
    "start_time": "2022-05-22T07:23:55.817Z"
   },
   {
    "duration": 17,
    "start_time": "2022-05-22T07:24:01.210Z"
   },
   {
    "duration": 39,
    "start_time": "2022-05-22T07:24:01.229Z"
   },
   {
    "duration": 1000,
    "start_time": "2022-05-22T07:24:01.270Z"
   },
   {
    "duration": 1050,
    "start_time": "2022-05-22T07:24:02.273Z"
   },
   {
    "duration": 25,
    "start_time": "2022-05-22T07:24:03.331Z"
   },
   {
    "duration": 45,
    "start_time": "2022-05-22T07:24:03.363Z"
   },
   {
    "duration": 34,
    "start_time": "2022-05-22T07:24:03.410Z"
   },
   {
    "duration": 5,
    "start_time": "2022-05-22T07:24:03.447Z"
   },
   {
    "duration": 47,
    "start_time": "2022-05-22T07:24:03.453Z"
   },
   {
    "duration": 310,
    "start_time": "2022-05-22T07:24:03.503Z"
   },
   {
    "duration": 28,
    "start_time": "2022-05-22T07:24:03.816Z"
   },
   {
    "duration": 29,
    "start_time": "2022-05-22T07:24:03.847Z"
   },
   {
    "duration": 9,
    "start_time": "2022-05-22T07:25:39.105Z"
   },
   {
    "duration": 28,
    "start_time": "2022-05-22T07:25:39.117Z"
   },
   {
    "duration": 654,
    "start_time": "2022-05-22T07:25:39.148Z"
   },
   {
    "duration": 999,
    "start_time": "2022-05-22T07:25:39.804Z"
   },
   {
    "duration": 8,
    "start_time": "2022-05-22T07:25:40.805Z"
   },
   {
    "duration": 19,
    "start_time": "2022-05-22T07:25:40.814Z"
   },
   {
    "duration": 15,
    "start_time": "2022-05-22T07:25:40.835Z"
   },
   {
    "duration": 4,
    "start_time": "2022-05-22T07:25:40.852Z"
   },
   {
    "duration": 22,
    "start_time": "2022-05-22T07:25:40.858Z"
   },
   {
    "duration": 211,
    "start_time": "2022-05-22T07:25:40.881Z"
   },
   {
    "duration": 18,
    "start_time": "2022-05-22T07:25:41.094Z"
   },
   {
    "duration": 24,
    "start_time": "2022-05-22T07:25:41.114Z"
   },
   {
    "duration": 16,
    "start_time": "2022-05-22T07:26:49.850Z"
   },
   {
    "duration": 17,
    "start_time": "2022-05-22T07:26:50.626Z"
   },
   {
    "duration": 13,
    "start_time": "2022-05-22T07:26:53.862Z"
   },
   {
    "duration": 9,
    "start_time": "2022-05-22T07:26:53.880Z"
   },
   {
    "duration": 668,
    "start_time": "2022-05-22T07:26:53.892Z"
   },
   {
    "duration": 0,
    "start_time": "2022-05-22T07:26:54.562Z"
   },
   {
    "duration": 0,
    "start_time": "2022-05-22T07:26:54.563Z"
   },
   {
    "duration": 0,
    "start_time": "2022-05-22T07:26:54.565Z"
   },
   {
    "duration": 0,
    "start_time": "2022-05-22T07:26:54.567Z"
   },
   {
    "duration": 0,
    "start_time": "2022-05-22T07:26:54.568Z"
   },
   {
    "duration": 0,
    "start_time": "2022-05-22T07:26:54.569Z"
   },
   {
    "duration": 0,
    "start_time": "2022-05-22T07:26:54.571Z"
   },
   {
    "duration": 0,
    "start_time": "2022-05-22T07:26:54.573Z"
   },
   {
    "duration": 0,
    "start_time": "2022-05-22T07:26:54.574Z"
   },
   {
    "duration": 0,
    "start_time": "2022-05-22T07:26:54.575Z"
   },
   {
    "duration": 17,
    "start_time": "2022-05-22T07:28:00.106Z"
   },
   {
    "duration": 22,
    "start_time": "2022-05-22T07:28:00.125Z"
   },
   {
    "duration": 23,
    "start_time": "2022-05-22T07:28:00.149Z"
   },
   {
    "duration": 9,
    "start_time": "2022-05-22T07:28:00.175Z"
   },
   {
    "duration": 20,
    "start_time": "2022-05-22T07:28:00.186Z"
   },
   {
    "duration": 674,
    "start_time": "2022-05-22T07:28:00.208Z"
   },
   {
    "duration": 1115,
    "start_time": "2022-05-22T07:28:00.884Z"
   },
   {
    "duration": 9,
    "start_time": "2022-05-22T07:28:02.001Z"
   },
   {
    "duration": 44,
    "start_time": "2022-05-22T07:28:02.012Z"
   },
   {
    "duration": 23,
    "start_time": "2022-05-22T07:28:02.059Z"
   },
   {
    "duration": 5,
    "start_time": "2022-05-22T07:28:02.084Z"
   },
   {
    "duration": 63,
    "start_time": "2022-05-22T07:28:02.091Z"
   },
   {
    "duration": 212,
    "start_time": "2022-05-22T07:28:02.155Z"
   },
   {
    "duration": 20,
    "start_time": "2022-05-22T07:28:02.370Z"
   },
   {
    "duration": 27,
    "start_time": "2022-05-22T07:28:02.392Z"
   },
   {
    "duration": 20,
    "start_time": "2022-05-22T07:29:04.109Z"
   },
   {
    "duration": 16,
    "start_time": "2022-05-22T07:30:06.012Z"
   },
   {
    "duration": 17,
    "start_time": "2022-05-22T07:30:10.688Z"
   },
   {
    "duration": 478,
    "start_time": "2022-05-22T07:31:22.490Z"
   },
   {
    "duration": 19,
    "start_time": "2022-05-22T07:32:01.911Z"
   },
   {
    "duration": 15,
    "start_time": "2022-05-22T07:32:02.769Z"
   },
   {
    "duration": 388,
    "start_time": "2022-05-22T07:32:10.601Z"
   },
   {
    "duration": 9,
    "start_time": "2022-05-22T07:33:08.252Z"
   },
   {
    "duration": 31,
    "start_time": "2022-05-22T07:33:19.935Z"
   },
   {
    "duration": 0,
    "start_time": "2022-05-22T07:33:19.968Z"
   },
   {
    "duration": 0,
    "start_time": "2022-05-22T07:33:19.970Z"
   },
   {
    "duration": 0,
    "start_time": "2022-05-22T07:33:19.971Z"
   },
   {
    "duration": 0,
    "start_time": "2022-05-22T07:33:19.972Z"
   },
   {
    "duration": 0,
    "start_time": "2022-05-22T07:33:19.973Z"
   },
   {
    "duration": 0,
    "start_time": "2022-05-22T07:33:19.974Z"
   },
   {
    "duration": 0,
    "start_time": "2022-05-22T07:33:19.975Z"
   },
   {
    "duration": 0,
    "start_time": "2022-05-22T07:33:19.976Z"
   },
   {
    "duration": 18,
    "start_time": "2022-05-22T07:33:19.979Z"
   },
   {
    "duration": 29,
    "start_time": "2022-05-22T07:33:19.999Z"
   },
   {
    "duration": 16,
    "start_time": "2022-05-22T07:33:20.031Z"
   },
   {
    "duration": 210,
    "start_time": "2022-05-22T07:33:20.050Z"
   },
   {
    "duration": 106,
    "start_time": "2022-05-22T07:33:20.261Z"
   },
   {
    "duration": 0,
    "start_time": "2022-05-22T07:33:20.369Z"
   },
   {
    "duration": 42,
    "start_time": "2022-05-22T07:33:41.520Z"
   },
   {
    "duration": 0,
    "start_time": "2022-05-22T07:33:41.564Z"
   },
   {
    "duration": 0,
    "start_time": "2022-05-22T07:33:41.565Z"
   },
   {
    "duration": 0,
    "start_time": "2022-05-22T07:33:41.566Z"
   },
   {
    "duration": 0,
    "start_time": "2022-05-22T07:33:41.567Z"
   },
   {
    "duration": 0,
    "start_time": "2022-05-22T07:33:41.569Z"
   },
   {
    "duration": 0,
    "start_time": "2022-05-22T07:33:41.570Z"
   },
   {
    "duration": 0,
    "start_time": "2022-05-22T07:33:41.571Z"
   },
   {
    "duration": 0,
    "start_time": "2022-05-22T07:33:41.572Z"
   },
   {
    "duration": 0,
    "start_time": "2022-05-22T07:33:41.573Z"
   },
   {
    "duration": 0,
    "start_time": "2022-05-22T07:33:41.574Z"
   },
   {
    "duration": 0,
    "start_time": "2022-05-22T07:33:41.575Z"
   },
   {
    "duration": 0,
    "start_time": "2022-05-22T07:33:41.577Z"
   },
   {
    "duration": 108,
    "start_time": "2022-05-22T07:33:41.579Z"
   },
   {
    "duration": 0,
    "start_time": "2022-05-22T07:33:41.689Z"
   },
   {
    "duration": 22,
    "start_time": "2022-05-22T07:34:07.242Z"
   },
   {
    "duration": 29,
    "start_time": "2022-05-22T07:34:07.267Z"
   },
   {
    "duration": 13,
    "start_time": "2022-05-22T07:34:07.299Z"
   },
   {
    "duration": 28,
    "start_time": "2022-05-22T07:34:07.314Z"
   },
   {
    "duration": 23,
    "start_time": "2022-05-22T07:34:07.345Z"
   },
   {
    "duration": 800,
    "start_time": "2022-05-22T07:34:07.370Z"
   },
   {
    "duration": 1046,
    "start_time": "2022-05-22T07:34:08.172Z"
   },
   {
    "duration": 9,
    "start_time": "2022-05-22T07:34:09.219Z"
   },
   {
    "duration": 43,
    "start_time": "2022-05-22T07:34:09.229Z"
   },
   {
    "duration": 50,
    "start_time": "2022-05-22T07:34:09.274Z"
   },
   {
    "duration": 20,
    "start_time": "2022-05-22T07:34:09.325Z"
   },
   {
    "duration": 34,
    "start_time": "2022-05-22T07:34:09.347Z"
   },
   {
    "duration": 238,
    "start_time": "2022-05-22T07:34:09.382Z"
   },
   {
    "duration": 22,
    "start_time": "2022-05-22T07:34:09.622Z"
   },
   {
    "duration": 40,
    "start_time": "2022-05-22T07:34:09.645Z"
   },
   {
    "duration": 13,
    "start_time": "2022-05-22T07:34:27.972Z"
   },
   {
    "duration": 11,
    "start_time": "2022-05-22T07:35:41.607Z"
   },
   {
    "duration": 12,
    "start_time": "2022-05-22T07:36:33.749Z"
   },
   {
    "duration": 48,
    "start_time": "2022-05-22T07:37:05.742Z"
   },
   {
    "duration": 9,
    "start_time": "2022-05-22T07:37:23.675Z"
   },
   {
    "duration": 4,
    "start_time": "2022-05-22T07:37:55.208Z"
   },
   {
    "duration": 16,
    "start_time": "2022-05-22T07:37:59.123Z"
   },
   {
    "duration": 11,
    "start_time": "2022-05-22T07:38:39.939Z"
   },
   {
    "duration": 4,
    "start_time": "2022-05-22T07:38:43.309Z"
   },
   {
    "duration": 9,
    "start_time": "2022-05-22T07:38:43.826Z"
   },
   {
    "duration": 9,
    "start_time": "2022-05-22T07:38:46.733Z"
   },
   {
    "duration": 1328,
    "start_time": "2022-05-22T07:38:52.915Z"
   },
   {
    "duration": 68,
    "start_time": "2022-05-22T07:38:54.245Z"
   },
   {
    "duration": 16,
    "start_time": "2022-05-22T07:38:54.314Z"
   },
   {
    "duration": 11,
    "start_time": "2022-05-22T07:38:54.333Z"
   },
   {
    "duration": 26,
    "start_time": "2022-05-22T07:38:54.346Z"
   },
   {
    "duration": 18,
    "start_time": "2022-05-22T07:38:54.374Z"
   },
   {
    "duration": 46,
    "start_time": "2022-05-22T07:38:54.394Z"
   },
   {
    "duration": 21,
    "start_time": "2022-05-22T07:38:54.442Z"
   },
   {
    "duration": 7,
    "start_time": "2022-05-22T07:38:54.464Z"
   },
   {
    "duration": 403,
    "start_time": "2022-05-22T07:38:54.473Z"
   },
   {
    "duration": 18,
    "start_time": "2022-05-22T07:38:54.878Z"
   },
   {
    "duration": 162,
    "start_time": "2022-05-22T07:38:54.897Z"
   },
   {
    "duration": 433,
    "start_time": "2022-05-22T07:38:55.060Z"
   },
   {
    "duration": 15,
    "start_time": "2022-05-22T07:38:55.495Z"
   },
   {
    "duration": 623,
    "start_time": "2022-05-22T07:38:55.512Z"
   },
   {
    "duration": 19,
    "start_time": "2022-05-22T07:38:56.137Z"
   },
   {
    "duration": 781,
    "start_time": "2022-05-22T07:38:56.158Z"
   },
   {
    "duration": 14,
    "start_time": "2022-05-22T07:38:56.941Z"
   },
   {
    "duration": 11,
    "start_time": "2022-05-22T07:38:56.957Z"
   },
   {
    "duration": 13,
    "start_time": "2022-05-22T07:38:56.970Z"
   },
   {
    "duration": 15,
    "start_time": "2022-05-22T07:38:56.984Z"
   },
   {
    "duration": 28,
    "start_time": "2022-05-22T07:38:57.000Z"
   },
   {
    "duration": 586,
    "start_time": "2022-05-22T07:38:57.029Z"
   },
   {
    "duration": 1030,
    "start_time": "2022-05-22T07:38:57.618Z"
   },
   {
    "duration": 9,
    "start_time": "2022-05-22T07:38:58.650Z"
   },
   {
    "duration": 15,
    "start_time": "2022-05-22T07:38:58.661Z"
   },
   {
    "duration": 11,
    "start_time": "2022-05-22T07:38:58.678Z"
   },
   {
    "duration": 3,
    "start_time": "2022-05-22T07:38:58.692Z"
   },
   {
    "duration": 38,
    "start_time": "2022-05-22T07:38:58.697Z"
   },
   {
    "duration": 211,
    "start_time": "2022-05-22T07:38:58.738Z"
   },
   {
    "duration": 21,
    "start_time": "2022-05-22T07:38:58.951Z"
   },
   {
    "duration": 11,
    "start_time": "2022-05-22T07:38:58.973Z"
   },
   {
    "duration": 5,
    "start_time": "2022-05-22T07:39:22.061Z"
   },
   {
    "duration": 19,
    "start_time": "2022-05-22T07:39:22.739Z"
   },
   {
    "duration": 19,
    "start_time": "2022-05-22T07:40:04.789Z"
   },
   {
    "duration": 13,
    "start_time": "2022-05-22T07:40:21.911Z"
   },
   {
    "duration": 6,
    "start_time": "2022-05-22T07:40:21.926Z"
   },
   {
    "duration": 21,
    "start_time": "2022-05-22T07:40:21.934Z"
   },
   {
    "duration": 9,
    "start_time": "2022-05-22T07:40:21.957Z"
   },
   {
    "duration": 23,
    "start_time": "2022-05-22T07:40:21.968Z"
   },
   {
    "duration": 38,
    "start_time": "2022-05-22T07:40:21.993Z"
   },
   {
    "duration": 603,
    "start_time": "2022-05-22T07:40:22.033Z"
   },
   {
    "duration": 990,
    "start_time": "2022-05-22T07:40:22.639Z"
   },
   {
    "duration": 9,
    "start_time": "2022-05-22T07:40:23.632Z"
   },
   {
    "duration": 45,
    "start_time": "2022-05-22T07:40:23.643Z"
   },
   {
    "duration": 14,
    "start_time": "2022-05-22T07:40:23.690Z"
   },
   {
    "duration": 17,
    "start_time": "2022-05-22T07:40:23.705Z"
   },
   {
    "duration": 21,
    "start_time": "2022-05-22T07:40:23.725Z"
   },
   {
    "duration": 246,
    "start_time": "2022-05-22T07:40:23.748Z"
   },
   {
    "duration": 21,
    "start_time": "2022-05-22T07:40:23.996Z"
   },
   {
    "duration": 19,
    "start_time": "2022-05-22T07:40:24.027Z"
   },
   {
    "duration": 15,
    "start_time": "2022-05-22T07:41:06.059Z"
   },
   {
    "duration": 15,
    "start_time": "2022-05-22T07:41:06.077Z"
   },
   {
    "duration": 17,
    "start_time": "2022-05-22T07:41:06.093Z"
   },
   {
    "duration": 20,
    "start_time": "2022-05-22T07:41:06.112Z"
   },
   {
    "duration": 839,
    "start_time": "2022-05-22T07:41:06.135Z"
   },
   {
    "duration": 909,
    "start_time": "2022-05-22T07:41:06.976Z"
   },
   {
    "duration": 10,
    "start_time": "2022-05-22T07:41:07.886Z"
   },
   {
    "duration": 16,
    "start_time": "2022-05-22T07:41:07.897Z"
   },
   {
    "duration": 18,
    "start_time": "2022-05-22T07:41:07.915Z"
   },
   {
    "duration": 4,
    "start_time": "2022-05-22T07:41:07.934Z"
   },
   {
    "duration": 15,
    "start_time": "2022-05-22T07:41:07.940Z"
   },
   {
    "duration": 218,
    "start_time": "2022-05-22T07:41:07.957Z"
   },
   {
    "duration": 16,
    "start_time": "2022-05-22T07:41:08.177Z"
   },
   {
    "duration": 12,
    "start_time": "2022-05-22T07:41:08.196Z"
   },
   {
    "duration": 11,
    "start_time": "2022-05-22T07:41:48.595Z"
   },
   {
    "duration": 10,
    "start_time": "2022-05-22T07:41:57.777Z"
   },
   {
    "duration": 14,
    "start_time": "2022-05-22T07:42:00.414Z"
   },
   {
    "duration": 38,
    "start_time": "2022-05-22T07:42:00.430Z"
   },
   {
    "duration": 862,
    "start_time": "2022-05-22T07:42:00.470Z"
   },
   {
    "duration": 1087,
    "start_time": "2022-05-22T07:42:01.336Z"
   },
   {
    "duration": 10,
    "start_time": "2022-05-22T07:42:02.425Z"
   },
   {
    "duration": 42,
    "start_time": "2022-05-22T07:42:02.436Z"
   },
   {
    "duration": 23,
    "start_time": "2022-05-22T07:42:02.481Z"
   },
   {
    "duration": 4,
    "start_time": "2022-05-22T07:42:02.506Z"
   },
   {
    "duration": 14,
    "start_time": "2022-05-22T07:42:02.516Z"
   },
   {
    "duration": 235,
    "start_time": "2022-05-22T07:42:02.532Z"
   },
   {
    "duration": 27,
    "start_time": "2022-05-22T07:42:02.770Z"
   },
   {
    "duration": 30,
    "start_time": "2022-05-22T07:42:02.799Z"
   },
   {
    "duration": 14,
    "start_time": "2022-05-22T07:42:46.955Z"
   },
   {
    "duration": 22,
    "start_time": "2022-05-22T07:42:46.972Z"
   },
   {
    "duration": 27,
    "start_time": "2022-05-22T07:42:46.996Z"
   },
   {
    "duration": 26,
    "start_time": "2022-05-22T07:42:47.025Z"
   },
   {
    "duration": 725,
    "start_time": "2022-05-22T07:42:47.054Z"
   },
   {
    "duration": 1139,
    "start_time": "2022-05-22T07:42:47.781Z"
   },
   {
    "duration": 9,
    "start_time": "2022-05-22T07:42:48.921Z"
   },
   {
    "duration": 18,
    "start_time": "2022-05-22T07:42:48.931Z"
   },
   {
    "duration": 14,
    "start_time": "2022-05-22T07:42:48.951Z"
   },
   {
    "duration": 6,
    "start_time": "2022-05-22T07:42:48.967Z"
   },
   {
    "duration": 21,
    "start_time": "2022-05-22T07:42:48.975Z"
   },
   {
    "duration": 241,
    "start_time": "2022-05-22T07:42:48.998Z"
   },
   {
    "duration": 22,
    "start_time": "2022-05-22T07:42:49.240Z"
   },
   {
    "duration": 17,
    "start_time": "2022-05-22T07:42:49.265Z"
   },
   {
    "duration": 1254,
    "start_time": "2022-05-22T07:44:32.963Z"
   },
   {
    "duration": 66,
    "start_time": "2022-05-22T07:44:34.219Z"
   },
   {
    "duration": 14,
    "start_time": "2022-05-22T07:44:34.286Z"
   },
   {
    "duration": 9,
    "start_time": "2022-05-22T07:44:34.303Z"
   },
   {
    "duration": 32,
    "start_time": "2022-05-22T07:44:34.313Z"
   },
   {
    "duration": 13,
    "start_time": "2022-05-22T07:44:34.347Z"
   },
   {
    "duration": 23,
    "start_time": "2022-05-22T07:44:34.362Z"
   },
   {
    "duration": 53,
    "start_time": "2022-05-22T07:44:34.387Z"
   },
   {
    "duration": 7,
    "start_time": "2022-05-22T07:44:34.442Z"
   },
   {
    "duration": 367,
    "start_time": "2022-05-22T07:44:34.453Z"
   },
   {
    "duration": 18,
    "start_time": "2022-05-22T07:44:34.826Z"
   },
   {
    "duration": 146,
    "start_time": "2022-05-22T07:44:34.848Z"
   },
   {
    "duration": 458,
    "start_time": "2022-05-22T07:44:34.996Z"
   },
   {
    "duration": 16,
    "start_time": "2022-05-22T07:44:35.456Z"
   },
   {
    "duration": 653,
    "start_time": "2022-05-22T07:44:35.474Z"
   },
   {
    "duration": 21,
    "start_time": "2022-05-22T07:44:36.129Z"
   },
   {
    "duration": 851,
    "start_time": "2022-05-22T07:44:36.151Z"
   },
   {
    "duration": 24,
    "start_time": "2022-05-22T07:44:37.004Z"
   },
   {
    "duration": 24,
    "start_time": "2022-05-22T07:44:37.030Z"
   },
   {
    "duration": 27,
    "start_time": "2022-05-22T07:44:37.056Z"
   },
   {
    "duration": 25,
    "start_time": "2022-05-22T07:44:37.085Z"
   },
   {
    "duration": 670,
    "start_time": "2022-05-22T07:44:37.112Z"
   },
   {
    "duration": 1191,
    "start_time": "2022-05-22T07:44:37.783Z"
   },
   {
    "duration": 8,
    "start_time": "2022-05-22T07:44:38.976Z"
   },
   {
    "duration": 16,
    "start_time": "2022-05-22T07:44:38.985Z"
   },
   {
    "duration": 16,
    "start_time": "2022-05-22T07:44:39.003Z"
   },
   {
    "duration": 4,
    "start_time": "2022-05-22T07:44:39.021Z"
   },
   {
    "duration": 17,
    "start_time": "2022-05-22T07:44:39.030Z"
   },
   {
    "duration": 212,
    "start_time": "2022-05-22T07:44:39.049Z"
   },
   {
    "duration": 17,
    "start_time": "2022-05-22T07:44:39.263Z"
   },
   {
    "duration": 14,
    "start_time": "2022-05-22T07:44:39.281Z"
   },
   {
    "duration": 1589,
    "start_time": "2022-05-23T04:57:29.732Z"
   },
   {
    "duration": 132,
    "start_time": "2022-05-23T04:57:31.325Z"
   },
   {
    "duration": 21,
    "start_time": "2022-05-23T04:57:31.458Z"
   },
   {
    "duration": 13,
    "start_time": "2022-05-23T04:57:31.482Z"
   },
   {
    "duration": 43,
    "start_time": "2022-05-23T04:57:31.497Z"
   },
   {
    "duration": 34,
    "start_time": "2022-05-23T04:57:31.542Z"
   },
   {
    "duration": 21,
    "start_time": "2022-05-23T04:57:31.578Z"
   },
   {
    "duration": 27,
    "start_time": "2022-05-23T04:57:31.601Z"
   },
   {
    "duration": 35,
    "start_time": "2022-05-23T04:57:31.630Z"
   },
   {
    "duration": 462,
    "start_time": "2022-05-23T04:57:31.668Z"
   },
   {
    "duration": 21,
    "start_time": "2022-05-23T04:57:32.132Z"
   },
   {
    "duration": 185,
    "start_time": "2022-05-23T04:57:32.165Z"
   },
   {
    "duration": 393,
    "start_time": "2022-05-23T04:57:32.351Z"
   },
   {
    "duration": 21,
    "start_time": "2022-05-23T04:57:32.746Z"
   },
   {
    "duration": 625,
    "start_time": "2022-05-23T04:57:32.769Z"
   },
   {
    "duration": 20,
    "start_time": "2022-05-23T04:57:33.396Z"
   },
   {
    "duration": 772,
    "start_time": "2022-05-23T04:57:33.417Z"
   },
   {
    "duration": 16,
    "start_time": "2022-05-23T04:57:34.191Z"
   },
   {
    "duration": 13,
    "start_time": "2022-05-23T04:57:34.209Z"
   },
   {
    "duration": 18,
    "start_time": "2022-05-23T04:57:34.223Z"
   },
   {
    "duration": 41,
    "start_time": "2022-05-23T04:57:34.243Z"
   },
   {
    "duration": 658,
    "start_time": "2022-05-23T04:57:34.286Z"
   },
   {
    "duration": 1218,
    "start_time": "2022-05-23T04:57:34.945Z"
   },
   {
    "duration": 9,
    "start_time": "2022-05-23T04:57:36.166Z"
   },
   {
    "duration": 18,
    "start_time": "2022-05-23T04:57:36.176Z"
   },
   {
    "duration": 16,
    "start_time": "2022-05-23T04:57:36.196Z"
   },
   {
    "duration": 3,
    "start_time": "2022-05-23T04:57:36.214Z"
   },
   {
    "duration": 46,
    "start_time": "2022-05-23T04:57:36.220Z"
   },
   {
    "duration": 228,
    "start_time": "2022-05-23T04:57:36.267Z"
   },
   {
    "duration": 16,
    "start_time": "2022-05-23T04:57:36.496Z"
   },
   {
    "duration": 12,
    "start_time": "2022-05-23T04:57:36.513Z"
   },
   {
    "duration": 1439,
    "start_time": "2022-05-23T11:21:57.184Z"
   },
   {
    "duration": 107,
    "start_time": "2022-05-23T11:21:58.625Z"
   },
   {
    "duration": 23,
    "start_time": "2022-05-23T11:21:58.734Z"
   },
   {
    "duration": 20,
    "start_time": "2022-05-23T11:21:58.760Z"
   },
   {
    "duration": 41,
    "start_time": "2022-05-23T11:21:58.782Z"
   },
   {
    "duration": 32,
    "start_time": "2022-05-23T11:21:58.826Z"
   },
   {
    "duration": 32,
    "start_time": "2022-05-23T11:21:58.860Z"
   },
   {
    "duration": 36,
    "start_time": "2022-05-23T11:21:58.894Z"
   },
   {
    "duration": 16,
    "start_time": "2022-05-23T11:21:58.936Z"
   },
   {
    "duration": 425,
    "start_time": "2022-05-23T11:21:58.955Z"
   },
   {
    "duration": 17,
    "start_time": "2022-05-23T11:21:59.382Z"
   },
   {
    "duration": 139,
    "start_time": "2022-05-23T11:21:59.401Z"
   },
   {
    "duration": 448,
    "start_time": "2022-05-23T11:21:59.542Z"
   },
   {
    "duration": 15,
    "start_time": "2022-05-23T11:21:59.991Z"
   },
   {
    "duration": 633,
    "start_time": "2022-05-23T11:22:00.008Z"
   },
   {
    "duration": 26,
    "start_time": "2022-05-23T11:22:00.645Z"
   },
   {
    "duration": 827,
    "start_time": "2022-05-23T11:22:00.673Z"
   },
   {
    "duration": 34,
    "start_time": "2022-05-23T11:22:01.501Z"
   },
   {
    "duration": 23,
    "start_time": "2022-05-23T11:22:01.540Z"
   },
   {
    "duration": 58,
    "start_time": "2022-05-23T11:22:01.564Z"
   },
   {
    "duration": 113,
    "start_time": "2022-05-23T11:22:01.623Z"
   },
   {
    "duration": 898,
    "start_time": "2022-05-23T11:22:01.738Z"
   },
   {
    "duration": 1400,
    "start_time": "2022-05-23T11:22:02.637Z"
   },
   {
    "duration": 12,
    "start_time": "2022-05-23T11:22:04.041Z"
   },
   {
    "duration": 37,
    "start_time": "2022-05-23T11:22:04.055Z"
   },
   {
    "duration": 31,
    "start_time": "2022-05-23T11:22:04.093Z"
   },
   {
    "duration": 7,
    "start_time": "2022-05-23T11:22:04.126Z"
   },
   {
    "duration": 45,
    "start_time": "2022-05-23T11:22:04.139Z"
   },
   {
    "duration": 252,
    "start_time": "2022-05-23T11:22:04.186Z"
   },
   {
    "duration": 27,
    "start_time": "2022-05-23T11:22:04.441Z"
   },
   {
    "duration": 31,
    "start_time": "2022-05-23T11:22:04.470Z"
   },
   {
    "duration": 1144,
    "start_time": "2022-05-23T17:13:33.634Z"
   },
   {
    "duration": 482,
    "start_time": "2022-05-23T17:13:34.780Z"
   },
   {
    "duration": 13,
    "start_time": "2022-05-23T17:13:35.264Z"
   },
   {
    "duration": 22,
    "start_time": "2022-05-23T17:13:35.279Z"
   },
   {
    "duration": 30,
    "start_time": "2022-05-23T17:13:35.303Z"
   },
   {
    "duration": 13,
    "start_time": "2022-05-23T17:13:35.334Z"
   },
   {
    "duration": 18,
    "start_time": "2022-05-23T17:13:35.348Z"
   },
   {
    "duration": 15,
    "start_time": "2022-05-23T17:13:35.367Z"
   },
   {
    "duration": 17,
    "start_time": "2022-05-23T17:13:35.384Z"
   },
   {
    "duration": 330,
    "start_time": "2022-05-23T17:13:35.404Z"
   },
   {
    "duration": 13,
    "start_time": "2022-05-23T17:13:35.736Z"
   },
   {
    "duration": 110,
    "start_time": "2022-05-23T17:13:35.750Z"
   },
   {
    "duration": 353,
    "start_time": "2022-05-23T17:13:35.861Z"
   },
   {
    "duration": 14,
    "start_time": "2022-05-23T17:13:36.217Z"
   },
   {
    "duration": 545,
    "start_time": "2022-05-23T17:13:36.232Z"
   },
   {
    "duration": 27,
    "start_time": "2022-05-23T17:13:36.779Z"
   },
   {
    "duration": 658,
    "start_time": "2022-05-23T17:13:36.808Z"
   },
   {
    "duration": 13,
    "start_time": "2022-05-23T17:13:37.468Z"
   },
   {
    "duration": 31,
    "start_time": "2022-05-23T17:13:37.482Z"
   },
   {
    "duration": 46,
    "start_time": "2022-05-23T17:13:37.515Z"
   },
   {
    "duration": 26,
    "start_time": "2022-05-23T17:13:37.562Z"
   },
   {
    "duration": 624,
    "start_time": "2022-05-23T17:13:37.590Z"
   },
   {
    "duration": 1313,
    "start_time": "2022-05-23T17:13:38.216Z"
   },
   {
    "duration": 7,
    "start_time": "2022-05-23T17:13:39.530Z"
   },
   {
    "duration": 21,
    "start_time": "2022-05-23T17:13:39.538Z"
   },
   {
    "duration": 14,
    "start_time": "2022-05-23T17:13:39.560Z"
   },
   {
    "duration": 4,
    "start_time": "2022-05-23T17:13:39.575Z"
   },
   {
    "duration": 31,
    "start_time": "2022-05-23T17:13:39.581Z"
   },
   {
    "duration": 192,
    "start_time": "2022-05-23T17:13:39.614Z"
   },
   {
    "duration": 14,
    "start_time": "2022-05-23T17:13:39.808Z"
   },
   {
    "duration": 62,
    "start_time": "2022-05-23T17:13:39.824Z"
   },
   {
    "duration": 55,
    "start_time": "2022-05-26T11:45:04.533Z"
   },
   {
    "duration": 1237,
    "start_time": "2022-06-12T09:38:43.420Z"
   },
   {
    "duration": 310,
    "start_time": "2022-06-12T09:38:44.659Z"
   },
   {
    "duration": 15,
    "start_time": "2022-06-12T09:38:44.970Z"
   },
   {
    "duration": 25,
    "start_time": "2022-06-12T09:38:44.987Z"
   },
   {
    "duration": 36,
    "start_time": "2022-06-12T09:38:45.014Z"
   },
   {
    "duration": 15,
    "start_time": "2022-06-12T09:38:45.052Z"
   },
   {
    "duration": 15,
    "start_time": "2022-06-12T09:38:45.069Z"
   },
   {
    "duration": 26,
    "start_time": "2022-06-12T09:38:45.086Z"
   },
   {
    "duration": 25,
    "start_time": "2022-06-12T09:38:45.114Z"
   },
   {
    "duration": 334,
    "start_time": "2022-06-12T09:38:45.142Z"
   },
   {
    "duration": 24,
    "start_time": "2022-06-12T09:38:45.478Z"
   },
   {
    "duration": 177,
    "start_time": "2022-06-12T09:38:45.504Z"
   },
   {
    "duration": 445,
    "start_time": "2022-06-12T09:38:45.683Z"
   },
   {
    "duration": 15,
    "start_time": "2022-06-12T09:38:46.129Z"
   },
   {
    "duration": 608,
    "start_time": "2022-06-12T09:38:46.147Z"
   },
   {
    "duration": 22,
    "start_time": "2022-06-12T09:38:46.757Z"
   },
   {
    "duration": 768,
    "start_time": "2022-06-12T09:38:46.780Z"
   },
   {
    "duration": 22,
    "start_time": "2022-06-12T09:38:47.550Z"
   },
   {
    "duration": 28,
    "start_time": "2022-06-12T09:38:47.574Z"
   },
   {
    "duration": 39,
    "start_time": "2022-06-12T09:38:47.603Z"
   },
   {
    "duration": 47,
    "start_time": "2022-06-12T09:38:47.644Z"
   },
   {
    "duration": 726,
    "start_time": "2022-06-12T09:38:47.692Z"
   },
   {
    "duration": 1135,
    "start_time": "2022-06-12T09:38:48.420Z"
   },
   {
    "duration": 12,
    "start_time": "2022-06-12T09:38:49.557Z"
   },
   {
    "duration": 19,
    "start_time": "2022-06-12T09:38:49.571Z"
   },
   {
    "duration": 32,
    "start_time": "2022-06-12T09:38:49.592Z"
   },
   {
    "duration": 6,
    "start_time": "2022-06-12T09:38:49.626Z"
   },
   {
    "duration": 15,
    "start_time": "2022-06-12T09:38:49.635Z"
   },
   {
    "duration": 303,
    "start_time": "2022-06-12T09:38:49.651Z"
   },
   {
    "duration": 16,
    "start_time": "2022-06-12T09:38:49.955Z"
   },
   {
    "duration": 34,
    "start_time": "2022-06-12T09:38:49.973Z"
   },
   {
    "duration": 8,
    "start_time": "2022-07-18T13:58:50.163Z"
   },
   {
    "duration": 73,
    "start_time": "2022-07-18T13:58:50.172Z"
   },
   {
    "duration": 12,
    "start_time": "2022-07-18T13:58:50.247Z"
   },
   {
    "duration": 13,
    "start_time": "2022-07-18T13:58:50.260Z"
   },
   {
    "duration": 23,
    "start_time": "2022-07-18T13:58:50.275Z"
   },
   {
    "duration": 38,
    "start_time": "2022-07-18T13:58:50.300Z"
   },
   {
    "duration": 18,
    "start_time": "2022-07-18T13:58:50.339Z"
   },
   {
    "duration": 15,
    "start_time": "2022-07-18T13:58:50.358Z"
   },
   {
    "duration": 6,
    "start_time": "2022-07-18T13:58:50.374Z"
   },
   {
    "duration": 300,
    "start_time": "2022-07-18T13:58:50.386Z"
   },
   {
    "duration": 12,
    "start_time": "2022-07-18T13:58:50.688Z"
   },
   {
    "duration": 29,
    "start_time": "2022-07-18T13:58:50.702Z"
   },
   {
    "duration": 280,
    "start_time": "2022-07-18T13:58:50.732Z"
   },
   {
    "duration": 17,
    "start_time": "2022-07-18T13:58:51.014Z"
   },
   {
    "duration": 573,
    "start_time": "2022-07-18T13:58:51.033Z"
   },
   {
    "duration": 28,
    "start_time": "2022-07-18T13:58:51.607Z"
   },
   {
    "duration": 677,
    "start_time": "2022-07-18T13:58:51.637Z"
   },
   {
    "duration": 19,
    "start_time": "2022-07-18T13:58:52.316Z"
   },
   {
    "duration": 20,
    "start_time": "2022-07-18T13:58:52.337Z"
   },
   {
    "duration": 16,
    "start_time": "2022-07-18T13:58:52.359Z"
   },
   {
    "duration": 25,
    "start_time": "2022-07-18T13:58:52.377Z"
   },
   {
    "duration": 652,
    "start_time": "2022-07-18T13:58:52.404Z"
   },
   {
    "duration": 892,
    "start_time": "2022-07-18T13:58:53.058Z"
   },
   {
    "duration": 9,
    "start_time": "2022-07-18T13:58:53.952Z"
   },
   {
    "duration": 24,
    "start_time": "2022-07-18T13:58:53.962Z"
   },
   {
    "duration": 22,
    "start_time": "2022-07-18T13:58:53.988Z"
   },
   {
    "duration": 14,
    "start_time": "2022-07-18T13:58:54.011Z"
   },
   {
    "duration": 19,
    "start_time": "2022-07-18T13:58:54.027Z"
   },
   {
    "duration": 231,
    "start_time": "2022-07-18T13:58:54.048Z"
   },
   {
    "duration": 19,
    "start_time": "2022-07-18T13:58:54.281Z"
   },
   {
    "duration": 35,
    "start_time": "2022-07-18T13:58:54.302Z"
   },
   {
    "duration": 8,
    "start_time": "2022-07-18T13:59:09.912Z"
   }
  ],
  "kernelspec": {
   "display_name": "Python 3 (ipykernel)",
   "language": "python",
   "name": "python3"
  },
  "language_info": {
   "codemirror_mode": {
    "name": "ipython",
    "version": 3
   },
   "file_extension": ".py",
   "mimetype": "text/x-python",
   "name": "python",
   "nbconvert_exporter": "python",
   "pygments_lexer": "ipython3",
   "version": "3.9.5"
  },
  "toc": {
   "base_numbering": 1,
   "nav_menu": {},
   "number_sections": true,
   "sideBar": true,
   "skip_h1_title": true,
   "title_cell": "Table of Contents",
   "title_sidebar": "Contents",
   "toc_cell": false,
   "toc_position": {
    "height": "calc(100% - 180px)",
    "left": "10px",
    "top": "150px",
    "width": "204.317px"
   },
   "toc_section_display": true,
   "toc_window_display": false
  }
 },
 "nbformat": 4,
 "nbformat_minor": 2
}

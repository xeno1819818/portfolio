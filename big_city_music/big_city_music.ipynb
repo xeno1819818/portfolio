{
 "cells": [
  {
   "cell_type": "markdown",
   "metadata": {
    "id": "E0vqbgi9ay0H"
   },
   "source": [
    "# Музыка больших городов"
   ]
  },
  {
   "cell_type": "markdown",
   "metadata": {
    "id": "Ml1hmfXC_Zcs"
   },
   "source": [
    "## Обзор данных\n",
    "\n",
    "Составьте первое представление о данных Яндекс.Музыки.\n",
    "\n",
    "\n"
   ]
  },
  {
   "cell_type": "markdown",
   "metadata": {
    "id": "57eAOGIz_Zcs"
   },
   "source": [
    "Основной инструмент аналитика — `pandas`. Импортируйте эту библиотеку."
   ]
  },
  {
   "cell_type": "code",
   "execution_count": 1,
   "metadata": {
    "id": "AXN7PHPN_Zcs"
   },
   "outputs": [],
   "source": [
    "import pandas as pd"
   ]
  },
  {
   "cell_type": "markdown",
   "metadata": {
    "id": "SG23P8tt_Zcs"
   },
   "source": [
    "Прочитайте файл `yandex_music_project.csv` из папки `/datasets` и сохраните его в переменной `df`:"
   ]
  },
  {
   "cell_type": "code",
   "execution_count": 2,
   "metadata": {
    "id": "fFVu7vqh_Zct"
   },
   "outputs": [],
   "source": [
    "df=pd.read_csv('/datasets/yandex_music_project.csv')"
   ]
  },
  {
   "cell_type": "markdown",
   "metadata": {
    "id": "rDoOMd3uTqnZ"
   },
   "source": [
    "Выведите на экран первые десять строк таблицы:"
   ]
  },
  {
   "cell_type": "code",
   "execution_count": 3,
   "metadata": {
    "id": "oWTVX3gW_Zct"
   },
   "outputs": [
    {
     "data": {
      "text/html": [
       "<div>\n",
       "<style scoped>\n",
       "    .dataframe tbody tr th:only-of-type {\n",
       "        vertical-align: middle;\n",
       "    }\n",
       "\n",
       "    .dataframe tbody tr th {\n",
       "        vertical-align: top;\n",
       "    }\n",
       "\n",
       "    .dataframe thead th {\n",
       "        text-align: right;\n",
       "    }\n",
       "</style>\n",
       "<table border=\"1\" class=\"dataframe\">\n",
       "  <thead>\n",
       "    <tr style=\"text-align: right;\">\n",
       "      <th></th>\n",
       "      <th>userID</th>\n",
       "      <th>Track</th>\n",
       "      <th>artist</th>\n",
       "      <th>genre</th>\n",
       "      <th>City</th>\n",
       "      <th>time</th>\n",
       "      <th>Day</th>\n",
       "    </tr>\n",
       "  </thead>\n",
       "  <tbody>\n",
       "    <tr>\n",
       "      <td>0</td>\n",
       "      <td>FFB692EC</td>\n",
       "      <td>Kamigata To Boots</td>\n",
       "      <td>The Mass Missile</td>\n",
       "      <td>rock</td>\n",
       "      <td>Saint-Petersburg</td>\n",
       "      <td>20:28:33</td>\n",
       "      <td>Wednesday</td>\n",
       "    </tr>\n",
       "    <tr>\n",
       "      <td>1</td>\n",
       "      <td>55204538</td>\n",
       "      <td>Delayed Because of Accident</td>\n",
       "      <td>Andreas Rönnberg</td>\n",
       "      <td>rock</td>\n",
       "      <td>Moscow</td>\n",
       "      <td>14:07:09</td>\n",
       "      <td>Friday</td>\n",
       "    </tr>\n",
       "    <tr>\n",
       "      <td>2</td>\n",
       "      <td>20EC38</td>\n",
       "      <td>Funiculì funiculà</td>\n",
       "      <td>Mario Lanza</td>\n",
       "      <td>pop</td>\n",
       "      <td>Saint-Petersburg</td>\n",
       "      <td>20:58:07</td>\n",
       "      <td>Wednesday</td>\n",
       "    </tr>\n",
       "    <tr>\n",
       "      <td>3</td>\n",
       "      <td>A3DD03C9</td>\n",
       "      <td>Dragons in the Sunset</td>\n",
       "      <td>Fire + Ice</td>\n",
       "      <td>folk</td>\n",
       "      <td>Saint-Petersburg</td>\n",
       "      <td>08:37:09</td>\n",
       "      <td>Monday</td>\n",
       "    </tr>\n",
       "    <tr>\n",
       "      <td>4</td>\n",
       "      <td>E2DC1FAE</td>\n",
       "      <td>Soul People</td>\n",
       "      <td>Space Echo</td>\n",
       "      <td>dance</td>\n",
       "      <td>Moscow</td>\n",
       "      <td>08:34:34</td>\n",
       "      <td>Monday</td>\n",
       "    </tr>\n",
       "    <tr>\n",
       "      <td>5</td>\n",
       "      <td>842029A1</td>\n",
       "      <td>Преданная</td>\n",
       "      <td>IMPERVTOR</td>\n",
       "      <td>rusrap</td>\n",
       "      <td>Saint-Petersburg</td>\n",
       "      <td>13:09:41</td>\n",
       "      <td>Friday</td>\n",
       "    </tr>\n",
       "    <tr>\n",
       "      <td>6</td>\n",
       "      <td>4CB90AA5</td>\n",
       "      <td>True</td>\n",
       "      <td>Roman Messer</td>\n",
       "      <td>dance</td>\n",
       "      <td>Moscow</td>\n",
       "      <td>13:00:07</td>\n",
       "      <td>Wednesday</td>\n",
       "    </tr>\n",
       "    <tr>\n",
       "      <td>7</td>\n",
       "      <td>F03E1C1F</td>\n",
       "      <td>Feeling This Way</td>\n",
       "      <td>Polina Griffith</td>\n",
       "      <td>dance</td>\n",
       "      <td>Moscow</td>\n",
       "      <td>20:47:49</td>\n",
       "      <td>Wednesday</td>\n",
       "    </tr>\n",
       "    <tr>\n",
       "      <td>8</td>\n",
       "      <td>8FA1D3BE</td>\n",
       "      <td>И вновь продолжается бой</td>\n",
       "      <td>NaN</td>\n",
       "      <td>ruspop</td>\n",
       "      <td>Moscow</td>\n",
       "      <td>09:17:40</td>\n",
       "      <td>Friday</td>\n",
       "    </tr>\n",
       "    <tr>\n",
       "      <td>9</td>\n",
       "      <td>E772D5C0</td>\n",
       "      <td>Pessimist</td>\n",
       "      <td>NaN</td>\n",
       "      <td>dance</td>\n",
       "      <td>Saint-Petersburg</td>\n",
       "      <td>21:20:49</td>\n",
       "      <td>Wednesday</td>\n",
       "    </tr>\n",
       "  </tbody>\n",
       "</table>\n",
       "</div>"
      ],
      "text/plain": [
       "     userID                        Track            artist   genre  \\\n",
       "0  FFB692EC            Kamigata To Boots  The Mass Missile    rock   \n",
       "1  55204538  Delayed Because of Accident  Andreas Rönnberg    rock   \n",
       "2    20EC38            Funiculì funiculà       Mario Lanza     pop   \n",
       "3  A3DD03C9        Dragons in the Sunset        Fire + Ice    folk   \n",
       "4  E2DC1FAE                  Soul People        Space Echo   dance   \n",
       "5  842029A1                    Преданная         IMPERVTOR  rusrap   \n",
       "6  4CB90AA5                         True      Roman Messer   dance   \n",
       "7  F03E1C1F             Feeling This Way   Polina Griffith   dance   \n",
       "8  8FA1D3BE     И вновь продолжается бой               NaN  ruspop   \n",
       "9  E772D5C0                    Pessimist               NaN   dance   \n",
       "\n",
       "             City        time        Day  \n",
       "0  Saint-Petersburg  20:28:33  Wednesday  \n",
       "1            Moscow  14:07:09     Friday  \n",
       "2  Saint-Petersburg  20:58:07  Wednesday  \n",
       "3  Saint-Petersburg  08:37:09     Monday  \n",
       "4            Moscow  08:34:34     Monday  \n",
       "5  Saint-Petersburg  13:09:41     Friday  \n",
       "6            Moscow  13:00:07  Wednesday  \n",
       "7            Moscow  20:47:49  Wednesday  \n",
       "8            Moscow  09:17:40     Friday  \n",
       "9  Saint-Petersburg  21:20:49  Wednesday  "
      ]
     },
     "metadata": {},
     "output_type": "display_data"
    }
   ],
   "source": [
    "display(df.head(10))"
   ]
  },
  {
   "cell_type": "markdown",
   "metadata": {
    "id": "EO73Kwic_Zct"
   },
   "source": [
    "Одной командой получить общую информацию о таблице:"
   ]
  },
  {
   "cell_type": "code",
   "execution_count": 4,
   "metadata": {
    "id": "DSf2kIb-_Zct"
   },
   "outputs": [
    {
     "name": "stdout",
     "output_type": "stream",
     "text": [
      "<class 'pandas.core.frame.DataFrame'>\n",
      "RangeIndex: 65079 entries, 0 to 65078\n",
      "Data columns (total 7 columns):\n",
      "  userID    65079 non-null object\n",
      "Track       63848 non-null object\n",
      "artist      57876 non-null object\n",
      "genre       63881 non-null object\n",
      "  City      65079 non-null object\n",
      "time        65079 non-null object\n",
      "Day         65079 non-null object\n",
      "dtypes: object(7)\n",
      "memory usage: 3.5+ MB\n"
     ]
    }
   ],
   "source": [
    "df.info()"
   ]
  },
  {
   "cell_type": "markdown",
   "metadata": {
    "id": "TaQ2Iwbr_Zct"
   },
   "source": [
    "Итак, в таблице семь столбцов. Тип данных во всех столбцах — `object`.\n",
    "\n",
    "Согласно документации к данным:\n",
    "* `userID` — идентификатор пользователя;\n",
    "* `Track` — название трека;  \n",
    "* `artist` — имя исполнителя;\n",
    "* `genre` — название жанра;\n",
    "* `City` — город пользователя;\n",
    "* `time` — время начала прослушивания;\n",
    "* `Day` — день недели.\n",
    "\n",
    "В названиях колонок видны три нарушения стиля:\n",
    "1. Строчные буквы сочетаются с прописными.\n",
    "2. Встречаются пробелы.\n",
    "3. Найдите ещё одну проблему в названии колонок и опишите её в этом пункте.\n",
    "\n",
    "\n",
    "\n",
    "Количество значений в столбцах различается. Значит, в данных есть пропущенные значения.\n"
   ]
  },
  {
   "cell_type": "markdown",
   "metadata": {
    "id": "MCB6-dXG_Zct"
   },
   "source": [
    "**Выводы**\n",
    "\n",
    "В каждой строке таблицы — данные о прослушанном треке. Часть колонок описывает саму композицию: название, исполнителя и жанр. Остальные данные рассказывают о пользователе: из какого он города, когда он слушал музыку. \n",
    "\n",
    "Предварительно можно утверждать, что, данных достаточно для проверки гипотез. Но встречаются пропуски в данных, а в названиях колонок — расхождения с хорошим стилем.\n",
    "\n",
    "Чтобы двигаться дальше, нужно устранить проблемы в данных."
   ]
  },
  {
   "cell_type": "markdown",
   "metadata": {
    "id": "SjYF6Ub9_Zct"
   },
   "source": [
    "## Предобработка данных\n",
    "Исправьте стиль в заголовках столбцов, исключите пропуски. Затем проверьте данные на дубликаты."
   ]
  },
  {
   "cell_type": "markdown",
   "metadata": {
    "id": "dIaKXr29_Zct"
   },
   "source": [
    "### Стиль заголовков\n",
    "Выведите на экран названия столбцов:"
   ]
  },
  {
   "cell_type": "code",
   "execution_count": 5,
   "metadata": {
    "id": "oKOTdF_Q_Zct"
   },
   "outputs": [
    {
     "name": "stdout",
     "output_type": "stream",
     "text": [
      "Index(['  userID', 'Track', 'artist', 'genre', '  City  ', 'time', 'Day'], dtype='object')\n"
     ]
    }
   ],
   "source": [
    "print(df.columns)"
   ]
  },
  {
   "cell_type": "markdown",
   "metadata": {
    "id": "zj5534cv_Zct"
   },
   "source": [
    "Приведите названия в соответствие с хорошим стилем:\n",
    "* несколько слов в названии запишите в «змеином_регистре»,\n",
    "* все символы сделайте строчными,\n",
    "* устраните пробелы.\n",
    "\n",
    "Для этого переименуйте колонки так:\n",
    "* `'  userID'` → `'user_id'`;\n",
    "* `'Track'` → `'track'`;\n",
    "* `'  City  '` → `'city'`;\n",
    "* `'Day'` → `'day'`."
   ]
  },
  {
   "cell_type": "code",
   "execution_count": 6,
   "metadata": {
    "id": "ISlFqs5y_Zct"
   },
   "outputs": [],
   "source": [
    "df=df.rename(columns={'  userID' : 'user_id', 'Track' : 'track', '  City  ' : 'city'  , 'Day' : 'day'})"
   ]
  },
  {
   "cell_type": "markdown",
   "metadata": {
    "id": "1dqbh00J_Zct"
   },
   "source": [
    "Проверьте результат. Для этого ещё раз выведите на экран названия столбцов:"
   ]
  },
  {
   "cell_type": "code",
   "execution_count": 7,
   "metadata": {
    "id": "d4NOAmTW_Zct"
   },
   "outputs": [
    {
     "name": "stdout",
     "output_type": "stream",
     "text": [
      "Index(['user_id', 'track', 'artist', 'genre', 'city', 'time', 'day'], dtype='object')\n"
     ]
    }
   ],
   "source": [
    "print(df.columns)"
   ]
  },
  {
   "cell_type": "markdown",
   "metadata": {
    "id": "5ISfbcfY_Zct"
   },
   "source": [
    "### Пропуски значений\n",
    "Сначала посчитайте, сколько в таблице пропущенных значений. Для этого достаточно двух методов `pandas`:"
   ]
  },
  {
   "cell_type": "code",
   "execution_count": 8,
   "metadata": {
    "id": "RskX29qr_Zct"
   },
   "outputs": [
    {
     "name": "stdout",
     "output_type": "stream",
     "text": [
      "user_id       0\n",
      "track      1231\n",
      "artist     7203\n",
      "genre      1198\n",
      "city          0\n",
      "time          0\n",
      "day           0\n",
      "dtype: int64\n"
     ]
    }
   ],
   "source": [
    "print(df.isna().sum())"
   ]
  },
  {
   "cell_type": "markdown",
   "metadata": {
    "id": "qubhgnlO_Zct"
   },
   "source": [
    "Не все пропущенные значения влияют на исследование. Так в `track` и `artist` пропуски не важны для вашей работы. Достаточно заменить их явными обозначениями.\n",
    "\n",
    "Но пропуски в `genre` могут помешать сравнению музыкальных вкусов в Москве и Санкт-Петербурге. На практике было бы правильно установить причину пропусков и восстановить данные. Такой возможности нет в учебном проекте. Придётся:\n",
    "* заполнить и эти пропуски явными обозначениями,\n",
    "* оценить, насколько они повредят расчётам. "
   ]
  },
  {
   "cell_type": "markdown",
   "metadata": {
    "id": "fSv2laPA_Zct"
   },
   "source": [
    "Замените пропущенные значения в столбцах `track`, `artist` и `genre` на строку `'unknown'`. Для этого создайте список `columns_to_replace`, переберите его элементы циклом `for` и для каждого столбца выполните замену пропущенных значений:"
   ]
  },
  {
   "cell_type": "code",
   "execution_count": 9,
   "metadata": {
    "id": "KplB5qWs_Zct"
   },
   "outputs": [],
   "source": [
    "columns_to_replace = ['track', 'artist', 'genre']\n",
    "for index in columns_to_replace:\n",
    "    df[index]=df[index].fillna('unknown')"
   ]
  },
  {
   "cell_type": "markdown",
   "metadata": {
    "id": "Ilsm-MZo_Zct"
   },
   "source": [
    "Убедитесь, что в таблице не осталось пропусков. Для этого ещё раз посчитайте пропущенные значения."
   ]
  },
  {
   "cell_type": "code",
   "execution_count": 10,
   "metadata": {
    "id": "Tq4nYRX4_Zct"
   },
   "outputs": [
    {
     "name": "stdout",
     "output_type": "stream",
     "text": [
      "user_id    0\n",
      "track      0\n",
      "artist     0\n",
      "genre      0\n",
      "city       0\n",
      "time       0\n",
      "day        0\n",
      "dtype: int64\n"
     ]
    }
   ],
   "source": [
    "print(df.isna().sum())"
   ]
  },
  {
   "cell_type": "markdown",
   "metadata": {
    "id": "BWKRtBJ3_Zct"
   },
   "source": [
    "### Дубликаты\n",
    "Посчитайте явные дубликаты в таблице одной командой:"
   ]
  },
  {
   "cell_type": "code",
   "execution_count": 11,
   "metadata": {
    "id": "36eES_S0_Zct"
   },
   "outputs": [
    {
     "name": "stdout",
     "output_type": "stream",
     "text": [
      "3826\n"
     ]
    }
   ],
   "source": [
    "print(df.duplicated().sum())"
   ]
  },
  {
   "cell_type": "markdown",
   "metadata": {
    "id": "Ot25h6XR_Zct"
   },
   "source": [
    "Вызовите специальный метод `pandas`, чтобы удалить явные дубликаты:"
   ]
  },
  {
   "cell_type": "code",
   "execution_count": 12,
   "metadata": {
    "id": "exFHq6tt_Zct"
   },
   "outputs": [],
   "source": [
    "df=df.drop_duplicates().reset_index()"
   ]
  },
  {
   "cell_type": "markdown",
   "metadata": {
    "id": "Im2YwBEG_Zct"
   },
   "source": [
    "Ещё раз посчитайте явные дубликаты в таблице — убедитесь, что полностью от них избавились:"
   ]
  },
  {
   "cell_type": "code",
   "execution_count": 13,
   "metadata": {
    "id": "-8PuNWQ0_Zct"
   },
   "outputs": [
    {
     "name": "stdout",
     "output_type": "stream",
     "text": [
      "0\n"
     ]
    }
   ],
   "source": [
    "print(df.duplicated().sum())"
   ]
  },
  {
   "cell_type": "markdown",
   "metadata": {
    "id": "QlFBsxAr_Zct"
   },
   "source": [
    "Теперь избавьтесь от неявных дубликатов в колонке `genre`. Например, название одного и того же жанра может быть записано немного по-разному. Такие ошибки тоже повлияют на результат исследования."
   ]
  },
  {
   "cell_type": "markdown",
   "metadata": {
    "id": "eSjWwsOh_Zct"
   },
   "source": [
    "Выведите на экран список уникальных названий жанров, отсортированный в алфавитном порядке. Для этого:\n",
    "* извлеките нужный столбец датафрейма, \n",
    "* примените к нему метод сортировки,\n",
    "* для отсортированного столбца вызовите метод, который вернёт уникальные значения из столбца."
   ]
  },
  {
   "cell_type": "code",
   "execution_count": 14,
   "metadata": {
    "id": "JIUcqzZN_Zct"
   },
   "outputs": [
    {
     "name": "stdout",
     "output_type": "stream",
     "text": [
      "['acid' 'acoustic' 'action' 'adult' 'africa' 'afrikaans' 'alternative'\n",
      " 'alternativepunk' 'ambient' 'americana' 'animated' 'anime' 'arabesk'\n",
      " 'arabic' 'arena' 'argentinetango' 'art' 'audiobook' 'author' 'avantgarde'\n",
      " 'axé' 'baile' 'balkan' 'beats' 'bigroom' 'black' 'bluegrass' 'blues'\n",
      " 'bollywood' 'bossa' 'brazilian' 'breakbeat' 'breaks' 'broadway'\n",
      " 'cantautori' 'cantopop' 'canzone' 'caribbean' 'caucasian' 'celtic'\n",
      " 'chamber' 'chanson' 'children' 'chill' 'chinese' 'choral' 'christian'\n",
      " 'christmas' 'classical' 'classicmetal' 'club' 'colombian' 'comedy'\n",
      " 'conjazz' 'contemporary' 'country' 'cuban' 'dance' 'dancehall' 'dancepop'\n",
      " 'dark' 'death' 'deep' 'deutschrock' 'deutschspr' 'dirty' 'disco' 'dnb'\n",
      " 'documentary' 'downbeat' 'downtempo' 'drum' 'dub' 'dubstep' 'eastern'\n",
      " 'easy' 'electronic' 'electropop' 'emo' 'entehno' 'epicmetal' 'estrada'\n",
      " 'ethnic' 'eurofolk' 'european' 'experimental' 'extrememetal' 'fado'\n",
      " 'fairytail' 'film' 'fitness' 'flamenco' 'folk' 'folklore' 'folkmetal'\n",
      " 'folkrock' 'folktronica' 'forró' 'frankreich' 'französisch' 'french'\n",
      " 'funk' 'future' 'gangsta' 'garage' 'german' 'ghazal' 'gitarre' 'glitch'\n",
      " 'gospel' 'gothic' 'grime' 'grunge' 'gypsy' 'handsup' \"hard'n'heavy\"\n",
      " 'hardcore' 'hardstyle' 'hardtechno' 'hip' 'hip-hop' 'hiphop' 'historisch'\n",
      " 'holiday' 'hop' 'horror' 'house' 'hymn' 'idm' 'independent' 'indian'\n",
      " 'indie' 'indipop' 'industrial' 'inspirational' 'instrumental'\n",
      " 'international' 'irish' 'jam' 'japanese' 'jazz' 'jewish' 'jpop' 'jungle'\n",
      " 'k-pop' 'karadeniz' 'karaoke' 'kayokyoku' 'korean' 'laiko' 'latin'\n",
      " 'latino' 'leftfield' 'local' 'lounge' 'loungeelectronic' 'lovers'\n",
      " 'malaysian' 'mandopop' 'marschmusik' 'meditative' 'mediterranean'\n",
      " 'melodic' 'metal' 'metalcore' 'mexican' 'middle' 'minimal'\n",
      " 'miscellaneous' 'modern' 'mood' 'mpb' 'muslim' 'native' 'neoklassik'\n",
      " 'neue' 'new' 'newage' 'newwave' 'nu' 'nujazz' 'numetal' 'oceania' 'old'\n",
      " 'opera' 'orchestral' 'other' 'piano' 'podcasts' 'pop' 'popdance'\n",
      " 'popelectronic' 'popeurodance' 'poprussian' 'post' 'posthardcore'\n",
      " 'postrock' 'power' 'progmetal' 'progressive' 'psychedelic' 'punjabi'\n",
      " 'punk' 'quebecois' 'ragga' 'ram' 'rancheras' 'rap' 'rave' 'reggae'\n",
      " 'reggaeton' 'regional' 'relax' 'religious' 'retro' 'rhythm' 'rnb' 'rnr'\n",
      " 'rock' 'rockabilly' 'rockalternative' 'rockindie' 'rockother' 'romance'\n",
      " 'roots' 'ruspop' 'rusrap' 'rusrock' 'russian' 'salsa' 'samba' 'scenic'\n",
      " 'schlager' 'self' 'sertanejo' 'shanson' 'shoegazing' 'showtunes' 'singer'\n",
      " 'ska' 'skarock' 'slow' 'smooth' 'soft' 'soul' 'soulful' 'sound'\n",
      " 'soundtrack' 'southern' 'specialty' 'speech' 'spiritual' 'sport'\n",
      " 'stonerrock' 'surf' 'swing' 'synthpop' 'synthrock' 'sängerportrait'\n",
      " 'tango' 'tanzorchester' 'taraftar' 'tatar' 'tech' 'techno' 'teen'\n",
      " 'thrash' 'top' 'traditional' 'tradjazz' 'trance' 'tribal' 'trip'\n",
      " 'triphop' 'tropical' 'türk' 'türkçe' 'ukrrock' 'unknown' 'urban' 'uzbek'\n",
      " 'variété' 'vi' 'videogame' 'vocal' 'western' 'world' 'worldbeat' 'ïîï'\n",
      " 'электроника']\n"
     ]
    }
   ],
   "source": [
    "print(df['genre'].sort_values(ascending=True).unique())\n"
   ]
  },
  {
   "cell_type": "markdown",
   "metadata": {
    "id": "qej-Qmuo_Zct"
   },
   "source": [
    "Просмотрите список и найдите неявные дубликаты названия `hiphop`. Это могут быть названия с ошибками или альтернативные названия того же жанра.\n",
    "\n",
    "Вы увидите следующие неявные дубликаты:\n",
    "* *hip*,\n",
    "* *hop*,\n",
    "* *hip-hop*.\n",
    "\n",
    "Чтобы очистить от них таблицу, напишите функцию `replace_wrong_genres()` с двумя параметрами: \n",
    "* `wrong_genres` — список дубликатов,\n",
    "* `correct_genre` — строка с правильным значением.\n",
    "\n",
    "Функция должна исправить колонку `genre` в таблице `df`: заменить каждое значение из списка `wrong_genres` на значение из `correct_genre`."
   ]
  },
  {
   "cell_type": "code",
   "execution_count": 15,
   "metadata": {
    "id": "ErNDkmns_Zct"
   },
   "outputs": [],
   "source": [
    "def replace_wrong_genres(wrong_genres, correct_genre):\n",
    "    for wrong_genres in wrong_values: \n",
    "        df['genre'] = df['genre'].replace(wrong_genres, correct_genre)\n",
    "        "
   ]
  },
  {
   "cell_type": "markdown",
   "metadata": {
    "id": "aDoBJxbA_Zct"
   },
   "source": [
    "Вызовите `replace_wrong_genres()` и передайте ей такие аргументы, чтобы она устранила неявные дубликаты: вместо `hip`, `hop` и `hip-hop` в таблице должно быть значение `hiphop`:"
   ]
  },
  {
   "cell_type": "code",
   "execution_count": 16,
   "metadata": {
    "id": "YN5i2hpmSo09"
   },
   "outputs": [],
   "source": [
    "def replace_wrong_genres(wrong_genres, correct_genre):\n",
    "    for wrong_genre in wrong_genres: \n",
    "        df['genre'] = df['genre'].replace(wrong_genre, correct_genre)\n",
    "duplicates = ['hip', 'hop', 'hip-hop'] \n",
    "genre = 'hiphop' \n",
    "replace_wrong_genres(duplicates, genre) \n"
   ]
  },
  {
   "cell_type": "markdown",
   "metadata": {
    "id": "zQKF16_RG15m"
   },
   "source": [
    "Проверьте, что заменили неправильные названия:\n",
    "\n",
    "*   hip\n",
    "*   hop\n",
    "*   hip-hop\n",
    "\n",
    "Выведите отсортированный список уникальных значений столбца `genre`:"
   ]
  },
  {
   "cell_type": "code",
   "execution_count": 17,
   "metadata": {
    "id": "wvixALnFG15m"
   },
   "outputs": [
    {
     "name": "stdout",
     "output_type": "stream",
     "text": [
      "0              rock\n",
      "1              rock\n",
      "2               pop\n",
      "3              folk\n",
      "4             dance\n",
      "            ...    \n",
      "61248           rnb\n",
      "61249        hiphop\n",
      "61250    industrial\n",
      "61251          rock\n",
      "61252       country\n",
      "Name: genre, Length: 61253, dtype: object\n"
     ]
    }
   ],
   "source": [
    "print(df['genre'])"
   ]
  },
  {
   "cell_type": "code",
   "execution_count": 18,
   "metadata": {},
   "outputs": [
    {
     "data": {
      "text/plain": [
       "array(['acid', 'acoustic', 'action', 'adult', 'africa', 'afrikaans',\n",
       "       'alternative', 'alternativepunk', 'ambient', 'americana',\n",
       "       'animated', 'anime', 'arabesk', 'arabic', 'arena',\n",
       "       'argentinetango', 'art', 'audiobook', 'author', 'avantgarde',\n",
       "       'axé', 'baile', 'balkan', 'beats', 'bigroom', 'black', 'bluegrass',\n",
       "       'blues', 'bollywood', 'bossa', 'brazilian', 'breakbeat', 'breaks',\n",
       "       'broadway', 'cantautori', 'cantopop', 'canzone', 'caribbean',\n",
       "       'caucasian', 'celtic', 'chamber', 'chanson', 'children', 'chill',\n",
       "       'chinese', 'choral', 'christian', 'christmas', 'classical',\n",
       "       'classicmetal', 'club', 'colombian', 'comedy', 'conjazz',\n",
       "       'contemporary', 'country', 'cuban', 'dance', 'dancehall',\n",
       "       'dancepop', 'dark', 'death', 'deep', 'deutschrock', 'deutschspr',\n",
       "       'dirty', 'disco', 'dnb', 'documentary', 'downbeat', 'downtempo',\n",
       "       'drum', 'dub', 'dubstep', 'eastern', 'easy', 'electronic',\n",
       "       'electropop', 'emo', 'entehno', 'epicmetal', 'estrada', 'ethnic',\n",
       "       'eurofolk', 'european', 'experimental', 'extrememetal', 'fado',\n",
       "       'fairytail', 'film', 'fitness', 'flamenco', 'folk', 'folklore',\n",
       "       'folkmetal', 'folkrock', 'folktronica', 'forró', 'frankreich',\n",
       "       'französisch', 'french', 'funk', 'future', 'gangsta', 'garage',\n",
       "       'german', 'ghazal', 'gitarre', 'glitch', 'gospel', 'gothic',\n",
       "       'grime', 'grunge', 'gypsy', 'handsup', \"hard'n'heavy\", 'hardcore',\n",
       "       'hardstyle', 'hardtechno', 'hiphop', 'historisch', 'holiday',\n",
       "       'horror', 'house', 'hymn', 'idm', 'independent', 'indian', 'indie',\n",
       "       'indipop', 'industrial', 'inspirational', 'instrumental',\n",
       "       'international', 'irish', 'jam', 'japanese', 'jazz', 'jewish',\n",
       "       'jpop', 'jungle', 'k-pop', 'karadeniz', 'karaoke', 'kayokyoku',\n",
       "       'korean', 'laiko', 'latin', 'latino', 'leftfield', 'local',\n",
       "       'lounge', 'loungeelectronic', 'lovers', 'malaysian', 'mandopop',\n",
       "       'marschmusik', 'meditative', 'mediterranean', 'melodic', 'metal',\n",
       "       'metalcore', 'mexican', 'middle', 'minimal', 'miscellaneous',\n",
       "       'modern', 'mood', 'mpb', 'muslim', 'native', 'neoklassik', 'neue',\n",
       "       'new', 'newage', 'newwave', 'nu', 'nujazz', 'numetal', 'oceania',\n",
       "       'old', 'opera', 'orchestral', 'other', 'piano', 'podcasts', 'pop',\n",
       "       'popdance', 'popelectronic', 'popeurodance', 'poprussian', 'post',\n",
       "       'posthardcore', 'postrock', 'power', 'progmetal', 'progressive',\n",
       "       'psychedelic', 'punjabi', 'punk', 'quebecois', 'ragga', 'ram',\n",
       "       'rancheras', 'rap', 'rave', 'reggae', 'reggaeton', 'regional',\n",
       "       'relax', 'religious', 'retro', 'rhythm', 'rnb', 'rnr', 'rock',\n",
       "       'rockabilly', 'rockalternative', 'rockindie', 'rockother',\n",
       "       'romance', 'roots', 'ruspop', 'rusrap', 'rusrock', 'russian',\n",
       "       'salsa', 'samba', 'scenic', 'schlager', 'self', 'sertanejo',\n",
       "       'shanson', 'shoegazing', 'showtunes', 'singer', 'ska', 'skarock',\n",
       "       'slow', 'smooth', 'soft', 'soul', 'soulful', 'sound', 'soundtrack',\n",
       "       'southern', 'specialty', 'speech', 'spiritual', 'sport',\n",
       "       'stonerrock', 'surf', 'swing', 'synthpop', 'synthrock',\n",
       "       'sängerportrait', 'tango', 'tanzorchester', 'taraftar', 'tatar',\n",
       "       'tech', 'techno', 'teen', 'thrash', 'top', 'traditional',\n",
       "       'tradjazz', 'trance', 'tribal', 'trip', 'triphop', 'tropical',\n",
       "       'türk', 'türkçe', 'ukrrock', 'unknown', 'urban', 'uzbek',\n",
       "       'variété', 'vi', 'videogame', 'vocal', 'western', 'world',\n",
       "       'worldbeat', 'ïîï', 'электроника'], dtype=object)"
      ]
     },
     "execution_count": 18,
     "metadata": {},
     "output_type": "execute_result"
    }
   ],
   "source": [
    "#код-ревьбера\n",
    "df['genre'].sort_values(ascending=True).unique()"
   ]
  },
  {
   "cell_type": "markdown",
   "metadata": {
    "id": "jz6a9-7HQUDd"
   },
   "source": [
    "**Выводы**\n",
    "\n",
    "Предобработка обнаружила три проблемы в данных:\n",
    "\n",
    "- нарушения в стиле заголовков,\n",
    "- пропущенные значения,\n",
    "- дубликаты — явные и неявные.\n",
    "\n",
    "Вы исправили заголовки, чтобы упростить работу с таблицей. Без дубликатов исследование станет более точным.\n",
    "\n",
    "Пропущенные значения вы заменили на `'unknown'`. Ещё предстоит увидеть, не повредят ли исследованию пропуски в колонке `genre`.\n",
    "\n",
    "Теперь можно перейти к проверке гипотез. "
   ]
  },
  {
   "cell_type": "markdown",
   "metadata": {
    "id": "WttZHXH0SqKk"
   },
   "source": [
    "## Проверка гипотез"
   ]
  },
  {
   "cell_type": "markdown",
   "metadata": {
    "id": "Im936VVi_Zcu"
   },
   "source": [
    "### Сравнение поведения пользователей двух столиц"
   ]
  },
  {
   "cell_type": "markdown",
   "metadata": {
    "id": "nwt_MuaL_Zcu"
   },
   "source": [
    "Первая гипотеза утверждает, что пользователи по-разному слушают музыку в Москве и Санкт-Петербурге. Проверьте это предположение по данным о трёх днях недели — понедельнике, среде и пятнице. Для этого:\n",
    "\n",
    "* Разделите пользователей Москвы и Санкт-Петербурга\n",
    "* Сравните, сколько треков послушала каждая группа пользователей в понедельник, среду и пятницу.\n"
   ]
  },
  {
   "cell_type": "markdown",
   "metadata": {
    "id": "8Dw_YMmT_Zcu"
   },
   "source": [
    "Для тренировки сначала выполните каждый из расчётов по отдельности. \n",
    "\n",
    "Оцените активность пользователей в каждом городе. Сгруппируйте данные по городу и посчитайте прослушивания в каждой группе.\n",
    "\n"
   ]
  },
  {
   "cell_type": "code",
   "execution_count": 19,
   "metadata": {
    "id": "0_Qs96oh_Zcu"
   },
   "outputs": [
    {
     "name": "stdout",
     "output_type": "stream",
     "text": [
      "city\n",
      "Moscow              42741\n",
      "Saint-Petersburg    18512\n",
      "Name: user_id, dtype: int64\n"
     ]
    }
   ],
   "source": [
    "print(df.groupby('city')['user_id'].count())"
   ]
  },
  {
   "cell_type": "markdown",
   "metadata": {
    "id": "dzli3w8o_Zcu"
   },
   "source": [
    "В Москве прослушиваний больше, чем в Петербурге. Из этого не следует, что московские пользователи чаще слушают музыку. Просто самих пользователей в Москве больше.\n",
    "\n",
    "Теперь сгруппируйте данные по дню недели и подсчитайте прослушивания в понедельник, среду и пятницу. Учтите, что в данных есть информация только о прослушиваниях только за эти дни.\n"
   ]
  },
  {
   "cell_type": "code",
   "execution_count": 20,
   "metadata": {
    "id": "uZMKjiJz_Zcu"
   },
   "outputs": [
    {
     "name": "stdout",
     "output_type": "stream",
     "text": [
      "day\n",
      "Friday       21840\n",
      "Monday       21354\n",
      "Wednesday    18059\n",
      "Name: city, dtype: int64\n"
     ]
    }
   ],
   "source": [
    "print(df.groupby('day')['city'].count())"
   ]
  },
  {
   "cell_type": "markdown",
   "metadata": {
    "id": "cC2tNrlL_Zcu"
   },
   "source": [
    "В среднем пользователи из двух городов менее активны по средам. Но картина может измениться, если рассмотреть каждый город в отдельности."
   ]
  },
  {
   "cell_type": "markdown",
   "metadata": {
    "id": "POzs8bGa_Zcu"
   },
   "source": [
    "Вы видели, как работает группировка по городу и по дням недели. Теперь напишите функцию, которая объединит два эти расчёта.\n",
    "\n",
    "Создайте функцию `number_tracks()`, которая посчитает прослушивания для заданного дня и города. Ей понадобятся два параметра:\n",
    "* день недели,\n",
    "* название города.\n",
    "\n",
    "В функции сохраните в переменную строки исходной таблицы, у которых значение:\n",
    "  * в колонке `day` равно параметру `day`,\n",
    "  * в колонке `city` равно параметру `city`.\n",
    "\n",
    "Для этого примените последовательную фильтрацию с логической индексацией.\n",
    "\n",
    "Затем посчитайте значения в столбце `user_id` получившейся таблицы. Результат сохраните в новую переменную. Верните эту переменную из функции."
   ]
  },
  {
   "cell_type": "code",
   "execution_count": 21,
   "metadata": {
    "id": "Nz3GdQB1_Zcu"
   },
   "outputs": [],
   "source": [
    "\n",
    "def number_tracks(day, city):\n",
    "    track_list=df[(df['day'] == day)&(df['city']==city)]\n",
    "    track_list_count = track_list['user_id'].count()\n",
    "    return track_list_count\n",
    "\n",
    "\n",
    "\n",
    "\n"
   ]
  },
  {
   "cell_type": "markdown",
   "metadata": {
    "id": "ytf7xFrFJQ2r"
   },
   "source": [
    "Вызовите `number_tracks()` шесть раз, меняя значение параметров — так, чтобы получить данные для каждого города в каждый из трёх дней."
   ]
  },
  {
   "cell_type": "code",
   "execution_count": 22,
   "metadata": {
    "id": "rJcRATNQ_Zcu"
   },
   "outputs": [
    {
     "name": "stdout",
     "output_type": "stream",
     "text": [
      "15740\n"
     ]
    }
   ],
   "source": [
    "def number_tracks(day, city):\n",
    "    track_list=df[(df['day'] == day)&(df['city']==city)]\n",
    "    track_list_count = track_list['user_id'].count()\n",
    "    return track_list_count\n",
    "print(number_tracks('Monday', 'Moscow'))"
   ]
  },
  {
   "cell_type": "code",
   "execution_count": 23,
   "metadata": {
    "id": "hq_ncZ5T_Zcu"
   },
   "outputs": [
    {
     "name": "stdout",
     "output_type": "stream",
     "text": [
      "5614\n"
     ]
    }
   ],
   "source": [
    "def number_tracks(day, city):\n",
    "    track_list=df[(df['day'] == day)&(df['city']==city)]\n",
    "    track_list_count = track_list['user_id'].count()\n",
    "    return track_list_count\n",
    "print(number_tracks('Monday', 'Saint-Petersburg'))"
   ]
  },
  {
   "cell_type": "code",
   "execution_count": 24,
   "metadata": {
    "id": "_NTy2VPU_Zcu"
   },
   "outputs": [
    {
     "data": {
      "text/plain": [
       "11056"
      ]
     },
     "execution_count": 24,
     "metadata": {},
     "output_type": "execute_result"
    }
   ],
   "source": [
    "def number_tracks(day, city):\n",
    "    track_list=df[(df['day'] == day)&(df['city']==city)]\n",
    "    track_list_count = track_list['user_id'].count()\n",
    "    return track_list_count\n",
    "    print(track_list_count)\n",
    "\n",
    "number_tracks('Wednesday', 'Moscow')\n",
    "\n"
   ]
  },
  {
   "cell_type": "code",
   "execution_count": 25,
   "metadata": {
    "id": "j2y3TAwo_Zcu"
   },
   "outputs": [
    {
     "data": {
      "text/plain": [
       "7003"
      ]
     },
     "execution_count": 25,
     "metadata": {},
     "output_type": "execute_result"
    }
   ],
   "source": [
    "def number_tracks(day, city):\n",
    "    track_list=df[(df['day'] == day)&(df['city']==city)]\n",
    "    track_list_count = track_list['user_id'].count()\n",
    "    return track_list_count\n",
    "    print(track_list_count)\n",
    "\n",
    "number_tracks('Wednesday', 'Saint-Petersburg')\n",
    "\n"
   ]
  },
  {
   "cell_type": "code",
   "execution_count": 26,
   "metadata": {
    "id": "vYDw5u_K_Zcu"
   },
   "outputs": [
    {
     "data": {
      "text/plain": [
       "15945"
      ]
     },
     "execution_count": 26,
     "metadata": {},
     "output_type": "execute_result"
    }
   ],
   "source": [
    "def number_tracks(day, city):\n",
    "    track_list=df[(df['day'] == day)&(df['city']==city)]\n",
    "    track_list_count = track_list['user_id'].count()\n",
    "    return track_list_count\n",
    "    print(track_list_count)\n",
    "\n",
    "number_tracks('Friday', 'Moscow')\n",
    "\n"
   ]
  },
  {
   "cell_type": "code",
   "execution_count": 27,
   "metadata": {
    "id": "8_yzFtW3_Zcu"
   },
   "outputs": [
    {
     "data": {
      "text/plain": [
       "5895"
      ]
     },
     "execution_count": 27,
     "metadata": {},
     "output_type": "execute_result"
    }
   ],
   "source": [
    "def number_tracks(day, city):\n",
    "    track_list=df[(df['day'] == day)&(df['city']==city)]\n",
    "    track_list_count = track_list['user_id'].count()\n",
    "    return track_list_count\n",
    "    print(track_list_count)\n",
    "\n",
    "number_tracks('Friday', 'Saint-Petersburg')\n",
    "\n",
    "\n"
   ]
  },
  {
   "cell_type": "markdown",
   "metadata": {
    "id": "7QXffbO-_Zcu"
   },
   "source": [
    "Создайте c помощью конструктора `pd.DataFrame` таблицу, где\n",
    "* названия колонок — `['city', 'monday', 'wednesday', 'friday']`;\n",
    "* данные — результаты, которые вы получили с помощью `number_tracks`."
   ]
  },
  {
   "cell_type": "code",
   "execution_count": 28,
   "metadata": {
    "id": "APAcLpOr_Zcu"
   },
   "outputs": [
    {
     "data": {
      "text/html": [
       "<div>\n",
       "<style scoped>\n",
       "    .dataframe tbody tr th:only-of-type {\n",
       "        vertical-align: middle;\n",
       "    }\n",
       "\n",
       "    .dataframe tbody tr th {\n",
       "        vertical-align: top;\n",
       "    }\n",
       "\n",
       "    .dataframe thead th {\n",
       "        text-align: right;\n",
       "    }\n",
       "</style>\n",
       "<table border=\"1\" class=\"dataframe\">\n",
       "  <thead>\n",
       "    <tr style=\"text-align: right;\">\n",
       "      <th></th>\n",
       "      <th>city</th>\n",
       "      <th>monday</th>\n",
       "      <th>wednesday</th>\n",
       "      <th>friday</th>\n",
       "    </tr>\n",
       "  </thead>\n",
       "  <tbody>\n",
       "    <tr>\n",
       "      <td>0</td>\n",
       "      <td>Moscow</td>\n",
       "      <td>15740</td>\n",
       "      <td>11056</td>\n",
       "      <td>15945</td>\n",
       "    </tr>\n",
       "    <tr>\n",
       "      <td>1</td>\n",
       "      <td>Saint-Petersburg</td>\n",
       "      <td>5614</td>\n",
       "      <td>7003</td>\n",
       "      <td>5895</td>\n",
       "    </tr>\n",
       "  </tbody>\n",
       "</table>\n",
       "</div>"
      ],
      "text/plain": [
       "               city  monday  wednesday  friday\n",
       "0            Moscow   15740      11056   15945\n",
       "1  Saint-Petersburg    5614       7003    5895"
      ]
     },
     "metadata": {},
     "output_type": "display_data"
    }
   ],
   "source": [
    "data=[['Moscow', 15740, 11056, 15945], ['Saint-Petersburg',5614, 7003, 5895]]\n",
    "columns=['city', 'monday', 'wednesday', 'friday']\n",
    "tabula=pd.DataFrame(data= data, columns=columns)\n",
    "display(tabula)"
   ]
  },
  {
   "cell_type": "markdown",
   "metadata": {
    "id": "-EgPIHYu_Zcu"
   },
   "source": [
    "**Выводы**\n",
    "\n",
    "Данные показывают разницу поведения пользователей:\n",
    "\n",
    "- В Москве пик прослушиваний приходится на понедельник и пятницу, а в среду заметен спад.\n",
    "- В Петербурге, наоборот, больше слушают музыку по средам. Активность в понедельник и пятницу здесь почти в равной мере уступает среде.\n",
    "\n",
    "Значит, данные говорят в пользу первой гипотезы."
   ]
  },
  {
   "cell_type": "markdown",
   "metadata": {
    "id": "atZAxtq4_Zcu"
   },
   "source": [
    "### Музыка в начале и в конце недели"
   ]
  },
  {
   "cell_type": "markdown",
   "metadata": {
    "id": "eXrQqXFH_Zcu"
   },
   "source": [
    "Согласно второй гипотезе, утром в понедельник в Москве преобладают одни жанры, а в Петербурге — другие. Так же и вечером пятницы преобладают разные жанры — в зависимости от города."
   ]
  },
  {
   "cell_type": "markdown",
   "metadata": {
    "id": "S8UcW6Hw_Zcu"
   },
   "source": [
    "Сохраните таблицы с данными в две переменные:\n",
    "* по Москве — в `moscow_general`;\n",
    "* по Санкт-Петербургу — в `spb_general`."
   ]
  },
  {
   "cell_type": "code",
   "execution_count": 29,
   "metadata": {
    "id": "qeaFfM_P_Zcu"
   },
   "outputs": [],
   "source": [
    "moscow_general= df[df['city']=='Moscow']\n",
    "\n",
    "# получение таблицы moscow_general из тех строк таблицы df, \n",
    "# для которых значение в столбце 'city' равно 'Moscow'\n",
    "\n"
   ]
  },
  {
   "cell_type": "code",
   "execution_count": 30,
   "metadata": {
    "id": "ORaVRKto_Zcu"
   },
   "outputs": [],
   "source": [
    "spb_general= df[df['city']=='Saint-Petersburg']\n"
   ]
  },
  {
   "cell_type": "markdown",
   "metadata": {
    "id": "MEJV-CX2_Zcu"
   },
   "source": [
    "Создайте функцию `genre_weekday()` с четырьмя параметрами:\n",
    "* таблица (датафрейм) с данными,\n",
    "* день недели,\n",
    "* начальная временная метка в формате 'hh:mm', \n",
    "* последняя временная метка в формате 'hh:mm'.\n",
    "\n",
    "Функция должна вернуть информацию о топ-10 жанров тех треков, которые прослушивали в указанный день, в промежутке между двумя отметками времени."
   ]
  },
  {
   "cell_type": "code",
   "execution_count": 60,
   "metadata": {
    "id": "laJT9BYl_Zcu"
   },
   "outputs": [],
   "source": [
    "# Объявление функции genre_weekday() с параметрами table, day, time1, time2,\n",
    "# которая возвращает информацию о самых популярных жанрах в указанный день в\n",
    "# заданное время:\n",
    "def genre_weekday(df, day, time1, time2):\n",
    "    genre_df=df[(df['day']==day) & (time1<df['time']) & (df['time']<time2)]\n",
    "   \n",
    "\n",
    "    genre_df_count=genre_df.groupby('genre')['genre'].count()\n",
    "    genre_df_sorted=genre_df.groupby('genre')['genre'].count().sort_values(ascending = False).head(10)\n",
    "    \n",
    "    return genre_df_sorted\n",
    "    \n",
    "#1) в переменную genre_df сохраняются те строки переданного датафрейма table, для\n",
    "#    которых одновременно:\n",
    "#    - значение в столбце day равно значению аргумента day\n",
    "#    - значение в столбце time больше значения аргумента time1\n",
    "#    - значение в столбце time меньше значения аргумента time2\n",
    "#    Используйте последовательную фильтрацию с помощью логической индексации.\n",
    "# 2) сгруппировать датафрейм genre_df по столбцу genre, взять один из его\n",
    "#    столбцов и посчитать методом count() количество записей для каждого из\n",
    "#    присутствующих жанров, получившийся Series записать в переменную\n",
    "#    genre_df_count\n",
    "# 3) отсортировать genre_df_count по убыванию встречаемости и сохранить\n",
    "#    в переменную genre_df_sorted\n",
    "# 4) вернуть Series из 10 первых значений genre_df_sorted, это будут топ-10\n",
    "#    популярных жанров (в указанный день, в заданное время)"
   ]
  },
  {
   "cell_type": "markdown",
   "metadata": {
    "id": "la2s2_PF_Zcu"
   },
   "source": [
    "Cравните результаты функции `genre_weekday()` для Москвы и Санкт-Петербурга в понедельник утром (с 7:00 до 11:00) и в пятницу вечером (с 17:00 до 23:00):"
   ]
  },
  {
   "cell_type": "code",
   "execution_count": 61,
   "metadata": {
    "id": "yz7itPUQ_Zcu",
    "scrolled": true
   },
   "outputs": [
    {
     "data": {
      "text/plain": [
       "Series([], Name: genre, dtype: int64)"
      ]
     },
     "execution_count": 61,
     "metadata": {},
     "output_type": "execute_result"
    }
   ],
   "source": [
    "\n",
    "\n",
    "genre_weekday(moscow_general, 'Monday', '7:00:00', '11:00:00')\n",
    "\n",
    "# вызов функции для утра понедельника в Москве (вместо df — таблица moscow_general)\n",
    "# объекты, хранящие время, являются строками и сравниваются как строки\n",
    "# пример вызова: genre_weekday(moscow_general, 'Monday', '07:00', '11:00')"
   ]
  },
  {
   "cell_type": "code",
   "execution_count": 40,
   "metadata": {
    "id": "kwUcHPdy_Zcu"
   },
   "outputs": [
    {
     "data": {
      "text/plain": [
       "Series([], Name: genre, dtype: int64)"
      ]
     },
     "execution_count": 40,
     "metadata": {},
     "output_type": "execute_result"
    }
   ],
   "source": [
    "genre_weekday(spb_general, 'Monday', '7:00:00', '11:00:00')\n",
    "\n",
    "# вызов функции для утра понедельника в Петербурге (вместо df — таблица spb_general)\n"
   ]
  },
  {
   "cell_type": "code",
   "execution_count": 62,
   "metadata": {
    "id": "EzXVRE1o_Zcu"
   },
   "outputs": [
    {
     "data": {
      "text/plain": [
       "genre\n",
       "pop            713\n",
       "rock           517\n",
       "dance          495\n",
       "electronic     482\n",
       "hiphop         273\n",
       "world          208\n",
       "ruspop         170\n",
       "alternative    163\n",
       "classical      163\n",
       "rusrap         142\n",
       "Name: genre, dtype: int64"
      ]
     },
     "execution_count": 62,
     "metadata": {},
     "output_type": "execute_result"
    }
   ],
   "source": [
    "genre_weekday(moscow_general, 'Friday', '17:00:00', '23:00:00')\n",
    "# вызов функции для вечера пятницы в Москве"
   ]
  },
  {
   "cell_type": "code",
   "execution_count": 42,
   "metadata": {
    "id": "JZaEKu5v_Zcu"
   },
   "outputs": [
    {
     "data": {
      "text/plain": [
       "genre\n",
       "pop            256\n",
       "rock           216\n",
       "electronic     216\n",
       "dance          210\n",
       "hiphop          97\n",
       "alternative     63\n",
       "jazz            61\n",
       "classical       60\n",
       "rusrap          59\n",
       "world           54\n",
       "Name: genre, dtype: int64"
      ]
     },
     "execution_count": 42,
     "metadata": {},
     "output_type": "execute_result"
    }
   ],
   "source": [
    "genre_weekday(spb_general, 'Friday', '17:00:00', '23:00:00')\n",
    "\n",
    "# вызов функции для вечера пятницы в Петербурге"
   ]
  },
  {
   "cell_type": "markdown",
   "metadata": {
    "id": "wrCe4MNX_Zcu"
   },
   "source": [
    "**Выводы**\n",
    "\n",
    "Если сравнить топ-10 жанров в понедельник утром, можно сделать такие выводы:\n",
    "\n",
    "1. В Москве и Петербурге слушают похожую музыку. Единственное отличие — в московский рейтинг вошёл жанр “world”, а в петербургский — джаз и классика.\n",
    "\n",
    "2. В Москве пропущенных значений оказалось так много, что значение `'unknown'` заняло десятое место среди самых популярных жанров. Значит, пропущенные значения занимают существенную долю в данных и угрожают достоверности исследования.\n",
    "\n",
    "Вечер пятницы не меняет эту картину. Некоторые жанры поднимаются немного выше, другие спускаются, но в целом топ-10 остаётся тем же самым.\n",
    "\n",
    "Таким образом, вторая гипотеза подтвердилась лишь частично:\n",
    "* Пользователи слушают похожую музыку в начале недели и в конце.\n",
    "* Разница между Москвой и Петербургом не слишком выражена. В Москве чаще слушают русскую популярную музыку, в Петербурге — джаз.\n",
    "\n",
    "Однако пропуски в данных ставят под сомнение этот результат. В Москве их так много, что рейтинг топ-10 мог бы выглядеть иначе, если бы не утерянные  данные о жанрах."
   ]
  },
  {
   "cell_type": "markdown",
   "metadata": {
    "id": "JolODAqr_Zcu"
   },
   "source": [
    "### Жанровые предпочтения в Москве и Петербурге\n",
    "\n",
    "Гипотеза: Петербург — столица рэпа, музыку этого жанра там слушают чаще, чем в Москве.  А Москва — город контрастов, в котором, тем не менее, преобладает поп-музыка."
   ]
  },
  {
   "cell_type": "markdown",
   "metadata": {
    "id": "DlegSvaT_Zcu"
   },
   "source": [
    "Сгруппируйте таблицу `moscow_general` по жанру и посчитайте прослушивания треков каждого жанра методом `count()`. Затем отсортируйте результат в порядке убывания и сохраните его в таблице `moscow_genres`."
   ]
  },
  {
   "cell_type": "code",
   "execution_count": null,
   "metadata": {
    "id": "r19lIPke_Zcu",
    "scrolled": true
   },
   "outputs": [],
   "source": [
    "moscow_genres=moscow_general.groupby('genre')['genre'].count().sort_values(ascending = False)\n",
    "\n",
    "# одной строкой: группировка таблицы moscow_general по столбцу 'genre', \n",
    "# подсчёт числа значений 'genre' в этой группировке методом count(), \n",
    "# сортировка получившегося Series в порядке убывания и сохранение в moscow_genres"
   ]
  },
  {
   "cell_type": "markdown",
   "metadata": {
    "id": "6kMuomxTiIr8"
   },
   "source": [
    "Выведите на экран первые десять строк `moscow_genres`:"
   ]
  },
  {
   "cell_type": "code",
   "execution_count": null,
   "metadata": {
    "id": "WhCSooF8_Zcv"
   },
   "outputs": [],
   "source": [
    "moscow_genres.head(10)"
   ]
  },
  {
   "cell_type": "markdown",
   "metadata": {
    "id": "cnPG2vnN_Zcv"
   },
   "source": [
    "Теперь повторите то же и для Петербурга.\n",
    "\n",
    "Сгруппируйте таблицу `spb_general` по жанру. Посчитайте прослушивания треков каждого жанра. Результат отсортируйте в порядке убывания и сохраните в таблице `spb_genres`:\n"
   ]
  },
  {
   "cell_type": "code",
   "execution_count": null,
   "metadata": {
    "id": "gluLIpE7_Zcv"
   },
   "outputs": [],
   "source": [
    "spb_genres=spb_general.groupby('genre')['genre'].count().sort_values(ascending=False)\n",
    "# одной строкой: группировка таблицы spb_general по столбцу 'genre', \n",
    "# подсчёт числа значений 'genre' в этой группировке методом count(), \n",
    "# сортировка получившегося Series в порядке убывания и сохранение в spb_genres"
   ]
  },
  {
   "cell_type": "markdown",
   "metadata": {
    "id": "5Doha_ODgyQ8"
   },
   "source": [
    "Выведите на экран первые десять строк `spb_genres`:"
   ]
  },
  {
   "cell_type": "code",
   "execution_count": null,
   "metadata": {
    "id": "uaGJHjVU_Zcv"
   },
   "outputs": [],
   "source": [
    "spb_genres.head(10)"
   ]
  },
  {
   "cell_type": "markdown",
   "metadata": {
    "id": "RY51YJYu_Zcv"
   },
   "source": [
    "**Выводы**"
   ]
  },
  {
   "cell_type": "markdown",
   "metadata": {
    "id": "nVhnJEm__Zcv"
   },
   "source": [
    "Гипотеза частично подтвердилась:\n",
    "* Поп-музыка — самый популярный жанр в Москве, как и предполагала гипотеза. Более того, в топ-10 жанров встречается близкий жанр — русская популярная музыка.\n",
    "* Вопреки ожиданиям, рэп одинаково популярен в Москве и Петербурге. \n"
   ]
  },
  {
   "cell_type": "markdown",
   "metadata": {
    "id": "ykKQ0N65_Zcv"
   },
   "source": [
    "## Итоги исследования"
   ]
  },
  {
   "cell_type": "markdown",
   "metadata": {
    "id": "tjUwbHb3_Zcv"
   },
   "source": [
    "Вы проверили три гипотезы и установили:\n",
    "\n",
    "1. День недели по-разному влияет на активность пользователей в Москве и Петербурге. \n",
    "\n",
    "Первая гипотеза полностью подтвердилась.\n",
    "\n",
    "2. Музыкальные предпочтения не сильно меняются в течение недели — будь то Москва или Петербург. Небольшие различия заметны в начале недели, по понедельникам:\n",
    "* в Москве слушают музыку жанра “world”,\n",
    "* в Петербурге — джаз и классику.\n",
    "\n",
    "Таким образом, вторая гипотеза подтвердилась лишь отчасти. Этот результат мог оказаться иным, если бы не пропуски в данных.\n",
    "\n",
    "3. Во вкусах пользователей Москвы и Петербурга больше общего чем различий. Вопреки ожиданиям, предпочтения жанров в Петербурге напоминают московские.\n",
    "\n",
    "Третья гипотеза не подтвердилась. Если различия в предпочтениях и существуют, на основной массе пользователей они незаметны.\n",
    "\n",
    "**На практике исследования содержат проверки статистических гипотез.**\n",
    "Из данных одного сервиса не всегда можно сделать вывод о всех жителях города.\n",
    "Проверки статистических гипотез покажут, насколько они достоверны, исходя из имеющихся данных. \n",
    "С методами проверок гипотез вы ещё познакомитесь в следующих темах."
   ]
  },
  {
   "cell_type": "code",
   "execution_count": null,
   "metadata": {},
   "outputs": [],
   "source": []
  }
 ],
 "metadata": {
  "ExecuteTimeLog": [
   {
    "duration": 765,
    "start_time": "2022-01-21T16:11:26.465Z"
   },
   {
    "duration": 210,
    "start_time": "2022-01-21T16:11:27.233Z"
   },
   {
    "duration": 35,
    "start_time": "2022-01-21T16:11:27.449Z"
   },
   {
    "duration": 34,
    "start_time": "2022-01-21T16:11:27.487Z"
   },
   {
    "duration": 5,
    "start_time": "2022-01-21T16:11:27.524Z"
   },
   {
    "duration": 62,
    "start_time": "2022-01-21T16:11:27.532Z"
   },
   {
    "duration": 10,
    "start_time": "2022-01-21T16:11:27.599Z"
   },
   {
    "duration": 58,
    "start_time": "2022-01-21T16:11:27.613Z"
   },
   {
    "duration": 65,
    "start_time": "2022-01-21T16:11:27.674Z"
   },
   {
    "duration": 46,
    "start_time": "2022-01-21T16:11:27.742Z"
   },
   {
    "duration": 107,
    "start_time": "2022-01-21T16:11:27.791Z"
   },
   {
    "duration": 107,
    "start_time": "2022-01-21T16:11:27.900Z"
   },
   {
    "duration": 96,
    "start_time": "2022-01-21T16:11:28.010Z"
   },
   {
    "duration": 71,
    "start_time": "2022-01-21T16:11:28.108Z"
   },
   {
    "duration": 4,
    "start_time": "2022-01-21T16:11:28.181Z"
   },
   {
    "duration": 17,
    "start_time": "2022-01-21T16:11:28.187Z"
   },
   {
    "duration": 12,
    "start_time": "2022-01-21T16:11:28.207Z"
   },
   {
    "duration": 23,
    "start_time": "2022-01-21T16:11:28.222Z"
   },
   {
    "duration": 13,
    "start_time": "2022-01-21T16:11:28.270Z"
   },
   {
    "duration": 4,
    "start_time": "2022-01-21T16:11:28.285Z"
   },
   {
    "duration": 8,
    "start_time": "2022-01-21T16:11:28.291Z"
   },
   {
    "duration": 3,
    "start_time": "2022-01-21T16:11:28.304Z"
   },
   {
    "duration": 4,
    "start_time": "2022-01-21T16:11:28.310Z"
   },
   {
    "duration": 6,
    "start_time": "2022-01-21T16:11:28.317Z"
   },
   {
    "duration": 43,
    "start_time": "2022-01-21T16:11:28.326Z"
   },
   {
    "duration": 14,
    "start_time": "2022-01-21T16:11:28.372Z"
   },
   {
    "duration": 9,
    "start_time": "2022-01-21T16:11:28.389Z"
   },
   {
    "duration": 8,
    "start_time": "2022-01-21T16:11:28.400Z"
   },
   {
    "duration": 9,
    "start_time": "2022-01-21T16:11:28.411Z"
   },
   {
    "duration": 7,
    "start_time": "2022-01-21T16:11:28.423Z"
   },
   {
    "duration": 10,
    "start_time": "2022-01-21T16:11:28.432Z"
   },
   {
    "duration": 5,
    "start_time": "2022-01-21T16:11:28.444Z"
   },
   {
    "duration": 19,
    "start_time": "2022-01-21T16:11:28.451Z"
   },
   {
    "duration": 7,
    "start_time": "2022-01-21T16:11:28.473Z"
   },
   {
    "duration": 4,
    "start_time": "2022-01-21T16:11:28.483Z"
   },
   {
    "duration": 6,
    "start_time": "2022-01-21T16:11:28.490Z"
   },
   {
    "duration": 8,
    "start_time": "2022-01-21T16:11:28.499Z"
   },
   {
    "duration": 7,
    "start_time": "2022-01-21T16:11:28.510Z"
   },
   {
    "duration": 13,
    "start_time": "2022-01-21T16:31:04.534Z"
   },
   {
    "duration": 358,
    "start_time": "2022-01-21T16:31:21.234Z"
   },
   {
    "duration": 15,
    "start_time": "2022-01-21T16:31:29.699Z"
   },
   {
    "duration": 91,
    "start_time": "2022-01-21T16:41:07.277Z"
   },
   {
    "duration": 175,
    "start_time": "2022-01-21T16:41:30.697Z"
   },
   {
    "duration": 94,
    "start_time": "2022-01-21T16:41:50.074Z"
   },
   {
    "duration": 98,
    "start_time": "2022-01-21T16:42:02.917Z"
   },
   {
    "duration": 104,
    "start_time": "2022-01-21T16:43:04.324Z"
   },
   {
    "duration": 99,
    "start_time": "2022-01-21T16:46:15.173Z"
   },
   {
    "duration": 106,
    "start_time": "2022-01-21T16:47:06.716Z"
   },
   {
    "duration": 93,
    "start_time": "2022-01-21T16:49:47.220Z"
   },
   {
    "duration": 91,
    "start_time": "2022-01-21T16:50:34.442Z"
   },
   {
    "duration": 106,
    "start_time": "2022-01-21T16:50:40.137Z"
   },
   {
    "duration": 94,
    "start_time": "2022-01-21T16:52:44.960Z"
   },
   {
    "duration": 101,
    "start_time": "2022-01-21T16:54:53.834Z"
   },
   {
    "duration": 153,
    "start_time": "2022-01-21T16:54:59.983Z"
   },
   {
    "duration": 110,
    "start_time": "2022-01-21T16:56:01.516Z"
   },
   {
    "duration": 102,
    "start_time": "2022-01-21T16:56:22.066Z"
   },
   {
    "duration": 115,
    "start_time": "2022-01-21T16:56:46.706Z"
   },
   {
    "duration": 4,
    "start_time": "2022-01-21T16:57:14.857Z"
   },
   {
    "duration": 5,
    "start_time": "2022-01-21T16:57:23.612Z"
   },
   {
    "duration": 5,
    "start_time": "2022-01-21T16:57:40.022Z"
   },
   {
    "duration": 4,
    "start_time": "2022-01-21T16:57:49.172Z"
   },
   {
    "duration": 511,
    "start_time": "2022-01-21T17:01:38.246Z"
   },
   {
    "duration": 325,
    "start_time": "2022-01-21T17:02:46.076Z"
   },
   {
    "duration": 260,
    "start_time": "2022-01-21T17:07:51.649Z"
   },
   {
    "duration": 386,
    "start_time": "2022-01-21T17:08:37.402Z"
   },
   {
    "duration": 280,
    "start_time": "2022-01-21T17:09:18.007Z"
   },
   {
    "duration": 16,
    "start_time": "2022-01-21T17:10:45.850Z"
   },
   {
    "duration": 5,
    "start_time": "2022-01-21T17:14:37.713Z"
   },
   {
    "duration": 291,
    "start_time": "2022-01-21T17:14:45.208Z"
   },
   {
    "duration": 616,
    "start_time": "2022-01-21T17:15:53.025Z"
   },
   {
    "duration": 21,
    "start_time": "2022-01-21T17:16:19.019Z"
   },
   {
    "duration": 19,
    "start_time": "2022-01-21T17:17:12.626Z"
   },
   {
    "duration": 23,
    "start_time": "2022-01-21T17:17:31.499Z"
   },
   {
    "duration": 23,
    "start_time": "2022-01-21T17:18:50.152Z"
   },
   {
    "duration": 21,
    "start_time": "2022-01-21T17:19:10.532Z"
   },
   {
    "duration": 332,
    "start_time": "2022-01-22T06:06:35.197Z"
   },
   {
    "duration": 345,
    "start_time": "2022-01-22T06:06:47.798Z"
   },
   {
    "duration": 708,
    "start_time": "2022-01-22T06:07:16.882Z"
   },
   {
    "duration": 153,
    "start_time": "2022-01-22T06:07:17.592Z"
   },
   {
    "duration": 24,
    "start_time": "2022-01-22T06:07:17.749Z"
   },
   {
    "duration": 47,
    "start_time": "2022-01-22T06:07:17.776Z"
   },
   {
    "duration": 4,
    "start_time": "2022-01-22T06:07:17.825Z"
   },
   {
    "duration": 25,
    "start_time": "2022-01-22T06:07:17.831Z"
   },
   {
    "duration": 4,
    "start_time": "2022-01-22T06:07:17.859Z"
   },
   {
    "duration": 64,
    "start_time": "2022-01-22T06:07:17.867Z"
   },
   {
    "duration": 52,
    "start_time": "2022-01-22T06:07:17.934Z"
   },
   {
    "duration": 38,
    "start_time": "2022-01-22T06:07:17.988Z"
   },
   {
    "duration": 94,
    "start_time": "2022-01-22T06:07:18.029Z"
   },
   {
    "duration": 88,
    "start_time": "2022-01-22T06:07:18.125Z"
   },
   {
    "duration": 73,
    "start_time": "2022-01-22T06:07:18.224Z"
   },
   {
    "duration": 65,
    "start_time": "2022-01-22T06:07:18.299Z"
   },
   {
    "duration": 4,
    "start_time": "2022-01-22T06:07:18.366Z"
   },
   {
    "duration": 14,
    "start_time": "2022-01-22T06:07:18.372Z"
   },
   {
    "duration": 5,
    "start_time": "2022-01-22T06:07:18.388Z"
   },
   {
    "duration": 13,
    "start_time": "2022-01-22T06:07:18.423Z"
   },
   {
    "duration": 11,
    "start_time": "2022-01-22T06:07:18.439Z"
   },
   {
    "duration": 4,
    "start_time": "2022-01-22T06:07:18.452Z"
   },
   {
    "duration": 19,
    "start_time": "2022-01-22T06:07:18.458Z"
   },
   {
    "duration": 57,
    "start_time": "2022-01-22T06:07:18.480Z"
   },
   {
    "duration": 17,
    "start_time": "2022-01-22T06:07:18.542Z"
   },
   {
    "duration": 17,
    "start_time": "2022-01-22T06:07:18.562Z"
   },
   {
    "duration": 52,
    "start_time": "2022-01-22T06:07:18.581Z"
   },
   {
    "duration": 17,
    "start_time": "2022-01-22T06:07:18.636Z"
   },
   {
    "duration": 363,
    "start_time": "2022-01-22T06:07:18.655Z"
   },
   {
    "duration": -34386,
    "start_time": "2022-01-22T06:07:53.406Z"
   },
   {
    "duration": -34391,
    "start_time": "2022-01-22T06:07:53.413Z"
   },
   {
    "duration": -34394,
    "start_time": "2022-01-22T06:07:53.417Z"
   },
   {
    "duration": -34398,
    "start_time": "2022-01-22T06:07:53.422Z"
   },
   {
    "duration": -34399,
    "start_time": "2022-01-22T06:07:53.425Z"
   },
   {
    "duration": -34405,
    "start_time": "2022-01-22T06:07:53.432Z"
   },
   {
    "duration": -34409,
    "start_time": "2022-01-22T06:07:53.437Z"
   },
   {
    "duration": -34411,
    "start_time": "2022-01-22T06:07:53.441Z"
   },
   {
    "duration": -34419,
    "start_time": "2022-01-22T06:07:53.450Z"
   },
   {
    "duration": -34422,
    "start_time": "2022-01-22T06:07:53.454Z"
   },
   {
    "duration": -34425,
    "start_time": "2022-01-22T06:07:53.459Z"
   },
   {
    "duration": 4,
    "start_time": "2022-01-22T06:10:29.417Z"
   },
   {
    "duration": 166,
    "start_time": "2022-01-22T06:10:36.314Z"
   },
   {
    "duration": 284,
    "start_time": "2022-01-22T06:11:07.696Z"
   },
   {
    "duration": 287,
    "start_time": "2022-01-22T06:12:50.536Z"
   },
   {
    "duration": 278,
    "start_time": "2022-01-22T06:12:56.219Z"
   },
   {
    "duration": 318,
    "start_time": "2022-01-22T06:13:31.456Z"
   },
   {
    "duration": 275,
    "start_time": "2022-01-22T06:13:59.346Z"
   },
   {
    "duration": 319,
    "start_time": "2022-01-22T06:17:47.618Z"
   },
   {
    "duration": 278,
    "start_time": "2022-01-22T06:19:06.628Z"
   },
   {
    "duration": 153,
    "start_time": "2022-01-22T06:37:11.671Z"
   },
   {
    "duration": -34413,
    "start_time": "2022-01-22T06:38:04.627Z"
   },
   {
    "duration": 7607,
    "start_time": "2022-01-22T06:38:35.118Z"
   },
   {
    "duration": 8842,
    "start_time": "2022-01-22T06:39:40.176Z"
   },
   {
    "duration": 297,
    "start_time": "2022-01-22T06:40:37.078Z"
   },
   {
    "duration": 107,
    "start_time": "2022-01-22T06:41:54.019Z"
   },
   {
    "duration": 7181,
    "start_time": "2022-01-22T06:46:39.328Z"
   },
   {
    "duration": 7253,
    "start_time": "2022-01-22T06:53:19.571Z"
   },
   {
    "duration": 87,
    "start_time": "2022-01-22T06:54:09.145Z"
   },
   {
    "duration": 157,
    "start_time": "2022-01-22T06:56:23.765Z"
   },
   {
    "duration": 91,
    "start_time": "2022-01-22T06:56:28.409Z"
   },
   {
    "duration": 7299,
    "start_time": "2022-01-22T06:57:33.681Z"
   },
   {
    "duration": 706,
    "start_time": "2022-01-22T06:58:01.880Z"
   },
   {
    "duration": 158,
    "start_time": "2022-01-22T06:58:02.588Z"
   },
   {
    "duration": 23,
    "start_time": "2022-01-22T06:58:02.749Z"
   },
   {
    "duration": 31,
    "start_time": "2022-01-22T06:58:02.775Z"
   },
   {
    "duration": 16,
    "start_time": "2022-01-22T06:58:02.808Z"
   },
   {
    "duration": 25,
    "start_time": "2022-01-22T06:58:02.826Z"
   },
   {
    "duration": 6,
    "start_time": "2022-01-22T06:58:02.853Z"
   },
   {
    "duration": 26,
    "start_time": "2022-01-22T06:58:02.863Z"
   },
   {
    "duration": 86,
    "start_time": "2022-01-22T06:58:02.892Z"
   },
   {
    "duration": 43,
    "start_time": "2022-01-22T06:58:02.980Z"
   },
   {
    "duration": 77,
    "start_time": "2022-01-22T06:58:03.025Z"
   },
   {
    "duration": 130,
    "start_time": "2022-01-22T06:58:03.104Z"
   },
   {
    "duration": 102,
    "start_time": "2022-01-22T06:58:03.237Z"
   },
   {
    "duration": 52,
    "start_time": "2022-01-22T06:58:03.341Z"
   },
   {
    "duration": 4,
    "start_time": "2022-01-22T06:58:03.395Z"
   },
   {
    "duration": 30,
    "start_time": "2022-01-22T06:58:03.401Z"
   },
   {
    "duration": 5,
    "start_time": "2022-01-22T06:58:03.433Z"
   },
   {
    "duration": 14,
    "start_time": "2022-01-22T06:58:03.440Z"
   },
   {
    "duration": 11,
    "start_time": "2022-01-22T06:58:03.456Z"
   },
   {
    "duration": 4,
    "start_time": "2022-01-22T06:58:03.469Z"
   },
   {
    "duration": 64,
    "start_time": "2022-01-22T06:58:03.475Z"
   },
   {
    "duration": 23,
    "start_time": "2022-01-22T06:58:03.542Z"
   },
   {
    "duration": 19,
    "start_time": "2022-01-22T06:58:03.570Z"
   },
   {
    "duration": 38,
    "start_time": "2022-01-22T06:58:03.592Z"
   },
   {
    "duration": 20,
    "start_time": "2022-01-22T06:58:03.632Z"
   },
   {
    "duration": 18,
    "start_time": "2022-01-22T06:58:03.655Z"
   },
   {
    "duration": 372,
    "start_time": "2022-01-22T06:58:03.676Z"
   },
   {
    "duration": -34362,
    "start_time": "2022-01-22T06:58:38.413Z"
   },
   {
    "duration": -34370,
    "start_time": "2022-01-22T06:58:38.424Z"
   },
   {
    "duration": -34373,
    "start_time": "2022-01-22T06:58:38.429Z"
   },
   {
    "duration": -34375,
    "start_time": "2022-01-22T06:58:38.433Z"
   },
   {
    "duration": -34379,
    "start_time": "2022-01-22T06:58:38.440Z"
   },
   {
    "duration": -34383,
    "start_time": "2022-01-22T06:58:38.446Z"
   },
   {
    "duration": -34386,
    "start_time": "2022-01-22T06:58:38.451Z"
   },
   {
    "duration": -34390,
    "start_time": "2022-01-22T06:58:38.458Z"
   },
   {
    "duration": -34391,
    "start_time": "2022-01-22T06:58:38.461Z"
   },
   {
    "duration": -34394,
    "start_time": "2022-01-22T06:58:38.466Z"
   },
   {
    "duration": -34398,
    "start_time": "2022-01-22T06:58:38.472Z"
   },
   {
    "duration": 26,
    "start_time": "2022-01-22T06:58:16.909Z"
   },
   {
    "duration": 27,
    "start_time": "2022-01-22T06:58:50.787Z"
   },
   {
    "duration": 21,
    "start_time": "2022-01-22T06:59:38.800Z"
   },
   {
    "duration": 325,
    "start_time": "2022-01-22T07:23:28.460Z"
   },
   {
    "duration": 311,
    "start_time": "2022-01-22T07:24:39.208Z"
   },
   {
    "duration": 4,
    "start_time": "2022-01-22T07:25:10.543Z"
   },
   {
    "duration": 92,
    "start_time": "2022-01-22T09:07:02.970Z"
   },
   {
    "duration": 5,
    "start_time": "2022-01-22T09:07:31.863Z"
   },
   {
    "duration": 5,
    "start_time": "2022-01-22T09:07:39.450Z"
   },
   {
    "duration": 146,
    "start_time": "2022-01-22T09:08:32.239Z"
   },
   {
    "duration": 23,
    "start_time": "2022-01-22T09:08:36.510Z"
   },
   {
    "duration": 110,
    "start_time": "2022-01-22T09:18:38.863Z"
   },
   {
    "duration": 5,
    "start_time": "2022-01-22T09:18:56.088Z"
   },
   {
    "duration": 477,
    "start_time": "2022-01-22T09:26:39.478Z"
   },
   {
    "duration": 440,
    "start_time": "2022-01-22T09:27:38.583Z"
   },
   {
    "duration": 541,
    "start_time": "2022-01-22T09:29:28.041Z"
   },
   {
    "duration": 514,
    "start_time": "2022-01-22T09:29:54.726Z"
   },
   {
    "duration": 492,
    "start_time": "2022-01-22T09:29:59.497Z"
   },
   {
    "duration": 515,
    "start_time": "2022-01-22T09:32:22.747Z"
   },
   {
    "duration": 507,
    "start_time": "2022-01-22T09:36:16.632Z"
   },
   {
    "duration": 659,
    "start_time": "2022-01-22T09:41:19.029Z"
   },
   {
    "duration": 559,
    "start_time": "2022-01-22T09:41:22.207Z"
   },
   {
    "duration": 6,
    "start_time": "2022-01-22T09:41:34.127Z"
   },
   {
    "duration": 572,
    "start_time": "2022-01-22T09:41:55.696Z"
   },
   {
    "duration": 893,
    "start_time": "2022-01-22T09:43:45.163Z"
   },
   {
    "duration": 5,
    "start_time": "2022-01-22T09:44:55.270Z"
   },
   {
    "duration": 575,
    "start_time": "2022-01-22T09:44:59.947Z"
   },
   {
    "duration": 6,
    "start_time": "2022-01-22T09:45:42.281Z"
   },
   {
    "duration": 560,
    "start_time": "2022-01-22T09:45:48.412Z"
   },
   {
    "duration": 96,
    "start_time": "2022-01-22T09:48:00.572Z"
   },
   {
    "duration": 6,
    "start_time": "2022-01-22T09:48:13.156Z"
   },
   {
    "duration": 717,
    "start_time": "2022-01-22T09:48:19.190Z"
   },
   {
    "duration": 99,
    "start_time": "2022-01-22T09:49:37.447Z"
   },
   {
    "duration": 85,
    "start_time": "2022-01-22T09:50:53.626Z"
   },
   {
    "duration": 119,
    "start_time": "2022-01-22T09:51:32.534Z"
   },
   {
    "duration": 113,
    "start_time": "2022-01-22T09:51:54.139Z"
   },
   {
    "duration": 140,
    "start_time": "2022-01-22T09:52:57.358Z"
   },
   {
    "duration": 99,
    "start_time": "2022-01-22T09:53:15.580Z"
   },
   {
    "duration": 106,
    "start_time": "2022-01-22T09:53:32.885Z"
   },
   {
    "duration": 5,
    "start_time": "2022-01-22T09:57:23.884Z"
   },
   {
    "duration": 565,
    "start_time": "2022-01-22T09:57:44.438Z"
   },
   {
    "duration": 5,
    "start_time": "2022-01-22T09:58:14.699Z"
   },
   {
    "duration": 778,
    "start_time": "2022-01-22T09:58:19.789Z"
   },
   {
    "duration": 5,
    "start_time": "2022-01-22T09:59:38.394Z"
   },
   {
    "duration": 6,
    "start_time": "2022-01-22T10:00:03.704Z"
   },
   {
    "duration": 551,
    "start_time": "2022-01-22T10:00:07.716Z"
   },
   {
    "duration": 6,
    "start_time": "2022-01-22T10:00:51.418Z"
   },
   {
    "duration": 535,
    "start_time": "2022-01-22T10:00:57.561Z"
   },
   {
    "duration": 122,
    "start_time": "2022-01-22T11:25:39.465Z"
   },
   {
    "duration": 264,
    "start_time": "2022-01-22T11:26:04.650Z"
   },
   {
    "duration": 269,
    "start_time": "2022-01-22T11:26:13.664Z"
   },
   {
    "duration": 7505,
    "start_time": "2022-01-22T13:06:23.383Z"
   },
   {
    "duration": 24,
    "start_time": "2022-01-22T13:07:32.479Z"
   },
   {
    "duration": 26,
    "start_time": "2022-01-22T13:07:34.824Z"
   },
   {
    "duration": 289,
    "start_time": "2022-01-22T13:10:08.149Z"
   },
   {
    "duration": 357,
    "start_time": "2022-01-22T13:10:13.564Z"
   },
   {
    "duration": 326,
    "start_time": "2022-01-22T13:13:18.996Z"
   },
   {
    "duration": 303,
    "start_time": "2022-01-22T13:14:09.328Z"
   },
   {
    "duration": 96,
    "start_time": "2022-01-22T13:14:37.628Z"
   },
   {
    "duration": 25,
    "start_time": "2022-01-22T13:14:48.983Z"
   },
   {
    "duration": 341,
    "start_time": "2022-01-22T13:15:41.396Z"
   },
   {
    "duration": 337,
    "start_time": "2022-01-22T15:08:23.499Z"
   },
   {
    "duration": 747,
    "start_time": "2022-01-22T15:08:36.988Z"
   },
   {
    "duration": 183,
    "start_time": "2022-01-22T15:08:37.738Z"
   },
   {
    "duration": 25,
    "start_time": "2022-01-22T15:08:37.924Z"
   },
   {
    "duration": 49,
    "start_time": "2022-01-22T15:08:37.951Z"
   },
   {
    "duration": 4,
    "start_time": "2022-01-22T15:08:38.002Z"
   },
   {
    "duration": 27,
    "start_time": "2022-01-22T15:08:38.008Z"
   },
   {
    "duration": 4,
    "start_time": "2022-01-22T15:08:38.037Z"
   },
   {
    "duration": 65,
    "start_time": "2022-01-22T15:08:38.043Z"
   },
   {
    "duration": 8692,
    "start_time": "2022-01-22T15:08:38.112Z"
   },
   {
    "duration": -34785,
    "start_time": "2022-01-22T15:09:21.591Z"
   },
   {
    "duration": -34791,
    "start_time": "2022-01-22T15:09:21.598Z"
   },
   {
    "duration": -34794,
    "start_time": "2022-01-22T15:09:21.602Z"
   },
   {
    "duration": -34797,
    "start_time": "2022-01-22T15:09:21.606Z"
   },
   {
    "duration": -34804,
    "start_time": "2022-01-22T15:09:21.614Z"
   },
   {
    "duration": -34808,
    "start_time": "2022-01-22T15:09:21.619Z"
   },
   {
    "duration": -34811,
    "start_time": "2022-01-22T15:09:21.623Z"
   },
   {
    "duration": -34817,
    "start_time": "2022-01-22T15:09:21.630Z"
   },
   {
    "duration": -34823,
    "start_time": "2022-01-22T15:09:21.636Z"
   },
   {
    "duration": -34827,
    "start_time": "2022-01-22T15:09:21.641Z"
   },
   {
    "duration": -34833,
    "start_time": "2022-01-22T15:09:21.648Z"
   },
   {
    "duration": -34835,
    "start_time": "2022-01-22T15:09:21.651Z"
   },
   {
    "duration": -34839,
    "start_time": "2022-01-22T15:09:21.656Z"
   },
   {
    "duration": -34842,
    "start_time": "2022-01-22T15:09:21.660Z"
   },
   {
    "duration": -34847,
    "start_time": "2022-01-22T15:09:21.666Z"
   },
   {
    "duration": -34850,
    "start_time": "2022-01-22T15:09:21.670Z"
   },
   {
    "duration": -34854,
    "start_time": "2022-01-22T15:09:21.675Z"
   },
   {
    "duration": -34862,
    "start_time": "2022-01-22T15:09:21.683Z"
   },
   {
    "duration": -34865,
    "start_time": "2022-01-22T15:09:21.687Z"
   },
   {
    "duration": -34869,
    "start_time": "2022-01-22T15:09:21.692Z"
   },
   {
    "duration": -34875,
    "start_time": "2022-01-22T15:09:21.699Z"
   },
   {
    "duration": -34878,
    "start_time": "2022-01-22T15:09:21.703Z"
   },
   {
    "duration": -34883,
    "start_time": "2022-01-22T15:09:21.708Z"
   },
   {
    "duration": -34890,
    "start_time": "2022-01-22T15:09:21.716Z"
   },
   {
    "duration": -34894,
    "start_time": "2022-01-22T15:09:21.721Z"
   },
   {
    "duration": -34898,
    "start_time": "2022-01-22T15:09:21.726Z"
   },
   {
    "duration": -34908,
    "start_time": "2022-01-22T15:09:21.736Z"
   },
   {
    "duration": -34911,
    "start_time": "2022-01-22T15:09:21.740Z"
   },
   {
    "duration": -34920,
    "start_time": "2022-01-22T15:09:21.750Z"
   },
   {
    "duration": 7541,
    "start_time": "2022-01-22T15:09:23.459Z"
   },
   {
    "duration": 42,
    "start_time": "2022-01-22T15:09:42.575Z"
   },
   {
    "duration": 19,
    "start_time": "2022-01-22T15:10:11.454Z"
   },
   {
    "duration": 27,
    "start_time": "2022-01-22T15:10:38.118Z"
   },
   {
    "duration": 21,
    "start_time": "2022-01-22T15:10:41.894Z"
   },
   {
    "duration": 171,
    "start_time": "2022-01-22T15:10:59.753Z"
   },
   {
    "duration": 40,
    "start_time": "2022-01-22T15:11:46.435Z"
   },
   {
    "duration": 21,
    "start_time": "2022-01-22T15:11:49.930Z"
   },
   {
    "duration": 364,
    "start_time": "2022-01-22T15:12:40.293Z"
   },
   {
    "duration": 299,
    "start_time": "2022-01-22T15:12:59.353Z"
   },
   {
    "duration": 7547,
    "start_time": "2022-01-22T15:13:35.851Z"
   },
   {
    "duration": 20,
    "start_time": "2022-01-22T15:13:43.407Z"
   },
   {
    "duration": 8370,
    "start_time": "2022-01-22T15:13:52.891Z"
   },
   {
    "duration": 104,
    "start_time": "2022-01-22T15:14:47.742Z"
   },
   {
    "duration": 7997,
    "start_time": "2022-01-22T15:14:54.160Z"
   },
   {
    "duration": 306,
    "start_time": "2022-01-22T15:15:11.139Z"
   },
   {
    "duration": 18,
    "start_time": "2022-01-22T15:20:33.034Z"
   },
   {
    "duration": 22,
    "start_time": "2022-01-22T15:20:49.893Z"
   },
   {
    "duration": 93,
    "start_time": "2022-01-22T15:26:38.872Z"
   },
   {
    "duration": 341,
    "start_time": "2022-01-22T15:26:55.508Z"
   },
   {
    "duration": 15,
    "start_time": "2022-01-22T15:28:58.547Z"
   },
   {
    "duration": 14,
    "start_time": "2022-01-22T15:29:01.366Z"
   },
   {
    "duration": 17,
    "start_time": "2022-01-22T15:29:03.180Z"
   },
   {
    "duration": 16,
    "start_time": "2022-01-22T15:29:04.346Z"
   },
   {
    "duration": 15,
    "start_time": "2022-01-22T15:33:31.747Z"
   },
   {
    "duration": 16,
    "start_time": "2022-01-22T15:33:47.384Z"
   },
   {
    "duration": 22,
    "start_time": "2022-01-22T15:33:50.037Z"
   },
   {
    "duration": 365,
    "start_time": "2022-01-22T15:34:10.916Z"
   },
   {
    "duration": 329,
    "start_time": "2022-01-22T15:34:24.260Z"
   },
   {
    "duration": 336,
    "start_time": "2022-01-22T16:13:07.295Z"
   },
   {
    "duration": 555,
    "start_time": "2022-01-22T16:13:27.008Z"
   },
   {
    "duration": 128,
    "start_time": "2022-01-22T16:13:27.564Z"
   },
   {
    "duration": 15,
    "start_time": "2022-01-22T16:13:27.694Z"
   },
   {
    "duration": 25,
    "start_time": "2022-01-22T16:13:27.710Z"
   },
   {
    "duration": 3,
    "start_time": "2022-01-22T16:13:27.736Z"
   },
   {
    "duration": 38,
    "start_time": "2022-01-22T16:13:27.741Z"
   },
   {
    "duration": 3,
    "start_time": "2022-01-22T16:13:27.781Z"
   },
   {
    "duration": 21,
    "start_time": "2022-01-22T16:13:27.786Z"
   },
   {
    "duration": 16,
    "start_time": "2022-01-22T16:13:27.809Z"
   },
   {
    "duration": 21,
    "start_time": "2022-01-22T16:13:27.827Z"
   },
   {
    "duration": 71,
    "start_time": "2022-01-22T16:13:27.849Z"
   },
   {
    "duration": 86,
    "start_time": "2022-01-22T16:13:27.921Z"
   },
   {
    "duration": 51,
    "start_time": "2022-01-22T16:13:28.009Z"
   },
   {
    "duration": 43,
    "start_time": "2022-01-22T16:13:28.062Z"
   },
   {
    "duration": 3,
    "start_time": "2022-01-22T16:13:28.107Z"
   },
   {
    "duration": 10,
    "start_time": "2022-01-22T16:13:28.111Z"
   },
   {
    "duration": 4,
    "start_time": "2022-01-22T16:13:28.123Z"
   },
   {
    "duration": 10,
    "start_time": "2022-01-22T16:13:28.129Z"
   },
   {
    "duration": 37,
    "start_time": "2022-01-22T16:13:28.141Z"
   },
   {
    "duration": 3,
    "start_time": "2022-01-22T16:13:28.180Z"
   },
   {
    "duration": 17,
    "start_time": "2022-01-22T16:13:28.184Z"
   },
   {
    "duration": 14,
    "start_time": "2022-01-22T16:13:28.203Z"
   },
   {
    "duration": 13,
    "start_time": "2022-01-22T16:13:28.220Z"
   },
   {
    "duration": 42,
    "start_time": "2022-01-22T16:13:28.235Z"
   },
   {
    "duration": 14,
    "start_time": "2022-01-22T16:13:28.279Z"
   },
   {
    "duration": 14,
    "start_time": "2022-01-22T16:13:28.295Z"
   },
   {
    "duration": 404,
    "start_time": "2022-01-22T16:13:28.310Z"
   },
   {
    "duration": -34703,
    "start_time": "2022-01-22T16:14:03.419Z"
   },
   {
    "duration": -34706,
    "start_time": "2022-01-22T16:14:03.423Z"
   },
   {
    "duration": -34713,
    "start_time": "2022-01-22T16:14:03.431Z"
   },
   {
    "duration": -34740,
    "start_time": "2022-01-22T16:14:03.459Z"
   },
   {
    "duration": -34747,
    "start_time": "2022-01-22T16:14:03.467Z"
   },
   {
    "duration": -34749,
    "start_time": "2022-01-22T16:14:03.470Z"
   },
   {
    "duration": -34754,
    "start_time": "2022-01-22T16:14:03.476Z"
   },
   {
    "duration": -34760,
    "start_time": "2022-01-22T16:14:03.483Z"
   },
   {
    "duration": -34765,
    "start_time": "2022-01-22T16:14:03.489Z"
   },
   {
    "duration": -34772,
    "start_time": "2022-01-22T16:14:03.497Z"
   },
   {
    "duration": -34775,
    "start_time": "2022-01-22T16:14:03.501Z"
   },
   {
    "duration": 297,
    "start_time": "2022-01-22T16:13:49.720Z"
   },
   {
    "duration": 311,
    "start_time": "2022-01-22T16:14:47.575Z"
   },
   {
    "duration": 355,
    "start_time": "2022-01-22T16:16:19.268Z"
   },
   {
    "duration": 309,
    "start_time": "2022-01-22T16:17:38.954Z"
   },
   {
    "duration": 301,
    "start_time": "2022-01-22T16:17:57.221Z"
   },
   {
    "duration": 301,
    "start_time": "2022-01-22T16:20:21.594Z"
   },
   {
    "duration": 15,
    "start_time": "2022-01-22T16:20:37.460Z"
   },
   {
    "duration": 3,
    "start_time": "2022-01-22T16:20:52.220Z"
   },
   {
    "duration": 307,
    "start_time": "2022-01-22T16:24:16.565Z"
   },
   {
    "duration": 330,
    "start_time": "2022-01-22T16:24:31.402Z"
   },
   {
    "duration": 17,
    "start_time": "2022-01-22T16:25:37.627Z"
   },
   {
    "duration": 15,
    "start_time": "2022-01-22T16:25:39.801Z"
   },
   {
    "duration": 98,
    "start_time": "2022-01-22T16:27:54.835Z"
   },
   {
    "duration": 4,
    "start_time": "2022-01-22T16:28:01.378Z"
   },
   {
    "duration": 928,
    "start_time": "2022-01-22T16:28:45.341Z"
   },
   {
    "duration": 17,
    "start_time": "2022-01-22T16:28:56.164Z"
   },
   {
    "duration": 19,
    "start_time": "2022-01-22T16:29:22.147Z"
   },
   {
    "duration": 16,
    "start_time": "2022-01-22T16:29:46.780Z"
   },
   {
    "duration": 334,
    "start_time": "2022-01-22T16:31:07.464Z"
   },
   {
    "duration": 312,
    "start_time": "2022-01-22T16:31:54.496Z"
   },
   {
    "duration": 339,
    "start_time": "2022-01-22T16:32:10.952Z"
   },
   {
    "duration": 711,
    "start_time": "2022-01-22T16:43:01.873Z"
   },
   {
    "duration": 286,
    "start_time": "2022-01-22T16:43:28.600Z"
   },
   {
    "duration": 16,
    "start_time": "2022-01-22T17:03:55.797Z"
   },
   {
    "duration": 11,
    "start_time": "2022-01-22T17:04:25.577Z"
   },
   {
    "duration": 352,
    "start_time": "2022-01-23T07:06:08.819Z"
   },
   {
    "duration": 4,
    "start_time": "2022-01-23T07:06:37.404Z"
   },
   {
    "duration": 292,
    "start_time": "2022-01-23T07:07:15.269Z"
   },
   {
    "duration": 311,
    "start_time": "2022-01-23T07:08:35.604Z"
   },
   {
    "duration": 369,
    "start_time": "2022-01-23T07:08:47.419Z"
   },
   {
    "duration": 586,
    "start_time": "2022-01-23T07:08:53.760Z"
   },
   {
    "duration": 124,
    "start_time": "2022-01-23T07:08:54.348Z"
   },
   {
    "duration": 16,
    "start_time": "2022-01-23T07:08:54.474Z"
   },
   {
    "duration": 23,
    "start_time": "2022-01-23T07:08:54.492Z"
   },
   {
    "duration": 4,
    "start_time": "2022-01-23T07:08:54.517Z"
   },
   {
    "duration": 20,
    "start_time": "2022-01-23T07:08:54.522Z"
   },
   {
    "duration": 29,
    "start_time": "2022-01-23T07:08:54.543Z"
   },
   {
    "duration": 21,
    "start_time": "2022-01-23T07:08:54.574Z"
   },
   {
    "duration": 17,
    "start_time": "2022-01-23T07:08:54.597Z"
   },
   {
    "duration": 22,
    "start_time": "2022-01-23T07:08:54.615Z"
   },
   {
    "duration": 78,
    "start_time": "2022-01-23T07:08:54.639Z"
   },
   {
    "duration": 75,
    "start_time": "2022-01-23T07:08:54.719Z"
   },
   {
    "duration": 49,
    "start_time": "2022-01-23T07:08:54.796Z"
   },
   {
    "duration": 50,
    "start_time": "2022-01-23T07:08:54.847Z"
   },
   {
    "duration": 3,
    "start_time": "2022-01-23T07:08:54.899Z"
   },
   {
    "duration": 12,
    "start_time": "2022-01-23T07:08:54.903Z"
   },
   {
    "duration": 3,
    "start_time": "2022-01-23T07:08:54.917Z"
   },
   {
    "duration": 10,
    "start_time": "2022-01-23T07:08:54.922Z"
   },
   {
    "duration": 8,
    "start_time": "2022-01-23T07:08:54.933Z"
   },
   {
    "duration": 3,
    "start_time": "2022-01-23T07:08:54.972Z"
   },
   {
    "duration": 20,
    "start_time": "2022-01-23T07:08:54.976Z"
   },
   {
    "duration": 14,
    "start_time": "2022-01-23T07:08:54.998Z"
   },
   {
    "duration": 14,
    "start_time": "2022-01-23T07:08:55.015Z"
   },
   {
    "duration": 39,
    "start_time": "2022-01-23T07:08:55.032Z"
   },
   {
    "duration": 16,
    "start_time": "2022-01-23T07:08:55.073Z"
   },
   {
    "duration": 14,
    "start_time": "2022-01-23T07:08:55.091Z"
   },
   {
    "duration": 8,
    "start_time": "2022-01-23T07:08:55.107Z"
   },
   {
    "duration": 12,
    "start_time": "2022-01-23T07:08:55.116Z"
   },
   {
    "duration": 9,
    "start_time": "2022-01-23T07:08:55.130Z"
   },
   {
    "duration": 3,
    "start_time": "2022-01-23T07:08:55.171Z"
   },
   {
    "duration": 670,
    "start_time": "2022-01-23T07:08:55.176Z"
   },
   {
    "duration": -35135,
    "start_time": "2022-01-23T07:09:30.983Z"
   },
   {
    "duration": -35162,
    "start_time": "2022-01-23T07:09:31.012Z"
   },
   {
    "duration": -35166,
    "start_time": "2022-01-23T07:09:31.017Z"
   },
   {
    "duration": -35170,
    "start_time": "2022-01-23T07:09:31.023Z"
   },
   {
    "duration": -35176,
    "start_time": "2022-01-23T07:09:31.030Z"
   },
   {
    "duration": -35178,
    "start_time": "2022-01-23T07:09:31.033Z"
   },
   {
    "duration": -35181,
    "start_time": "2022-01-23T07:09:31.038Z"
   },
   {
    "duration": 3,
    "start_time": "2022-01-23T07:09:08.003Z"
   },
   {
    "duration": 12,
    "start_time": "2022-01-23T07:09:18.794Z"
   },
   {
    "duration": 602,
    "start_time": "2022-01-23T07:09:53.084Z"
   },
   {
    "duration": 861,
    "start_time": "2022-01-23T07:10:43.090Z"
   },
   {
    "duration": 571,
    "start_time": "2022-01-23T07:12:31.247Z"
   },
   {
    "duration": 646,
    "start_time": "2022-01-23T07:13:05.563Z"
   },
   {
    "duration": 634,
    "start_time": "2022-01-23T07:15:08.985Z"
   },
   {
    "duration": 14,
    "start_time": "2022-01-23T07:15:28.261Z"
   },
   {
    "duration": 309,
    "start_time": "2022-01-23T07:15:49.752Z"
   },
   {
    "duration": 1181,
    "start_time": "2022-01-23T07:16:29.314Z"
   },
   {
    "duration": 341,
    "start_time": "2022-01-23T07:17:21.052Z"
   },
   {
    "duration": 4,
    "start_time": "2022-01-23T07:20:39.441Z"
   },
   {
    "duration": 629,
    "start_time": "2022-01-23T07:20:55.151Z"
   },
   {
    "duration": 577,
    "start_time": "2022-01-23T07:21:17.790Z"
   },
   {
    "duration": 129,
    "start_time": "2022-01-23T07:21:18.368Z"
   },
   {
    "duration": 15,
    "start_time": "2022-01-23T07:21:18.499Z"
   },
   {
    "duration": 23,
    "start_time": "2022-01-23T07:21:18.516Z"
   },
   {
    "duration": 3,
    "start_time": "2022-01-23T07:21:18.540Z"
   },
   {
    "duration": 33,
    "start_time": "2022-01-23T07:21:18.545Z"
   },
   {
    "duration": 3,
    "start_time": "2022-01-23T07:21:18.580Z"
   },
   {
    "duration": 22,
    "start_time": "2022-01-23T07:21:18.585Z"
   },
   {
    "duration": 15,
    "start_time": "2022-01-23T07:21:18.609Z"
   },
   {
    "duration": 21,
    "start_time": "2022-01-23T07:21:18.626Z"
   },
   {
    "duration": 74,
    "start_time": "2022-01-23T07:21:18.648Z"
   },
   {
    "duration": 73,
    "start_time": "2022-01-23T07:21:18.724Z"
   },
   {
    "duration": 50,
    "start_time": "2022-01-23T07:21:18.798Z"
   },
   {
    "duration": 49,
    "start_time": "2022-01-23T07:21:18.850Z"
   },
   {
    "duration": 3,
    "start_time": "2022-01-23T07:21:18.900Z"
   },
   {
    "duration": 10,
    "start_time": "2022-01-23T07:21:18.904Z"
   },
   {
    "duration": 3,
    "start_time": "2022-01-23T07:21:18.916Z"
   },
   {
    "duration": 11,
    "start_time": "2022-01-23T07:21:18.920Z"
   },
   {
    "duration": 8,
    "start_time": "2022-01-23T07:21:18.933Z"
   },
   {
    "duration": 32,
    "start_time": "2022-01-23T07:21:18.942Z"
   },
   {
    "duration": 17,
    "start_time": "2022-01-23T07:21:18.975Z"
   },
   {
    "duration": 13,
    "start_time": "2022-01-23T07:21:18.994Z"
   },
   {
    "duration": 25,
    "start_time": "2022-01-23T07:21:19.010Z"
   },
   {
    "duration": 18,
    "start_time": "2022-01-23T07:21:19.037Z"
   },
   {
    "duration": 29,
    "start_time": "2022-01-23T07:21:19.056Z"
   },
   {
    "duration": 19,
    "start_time": "2022-01-23T07:21:19.086Z"
   },
   {
    "duration": 9,
    "start_time": "2022-01-23T07:21:19.106Z"
   },
   {
    "duration": 19,
    "start_time": "2022-01-23T07:21:19.116Z"
   },
   {
    "duration": 18,
    "start_time": "2022-01-23T07:21:19.137Z"
   },
   {
    "duration": 8,
    "start_time": "2022-01-23T07:21:19.156Z"
   },
   {
    "duration": 676,
    "start_time": "2022-01-23T07:21:19.166Z"
   },
   {
    "duration": -35136,
    "start_time": "2022-01-23T07:21:54.980Z"
   },
   {
    "duration": -35168,
    "start_time": "2022-01-23T07:21:55.013Z"
   },
   {
    "duration": -35173,
    "start_time": "2022-01-23T07:21:55.019Z"
   },
   {
    "duration": -35182,
    "start_time": "2022-01-23T07:21:55.028Z"
   },
   {
    "duration": -35187,
    "start_time": "2022-01-23T07:21:55.034Z"
   },
   {
    "duration": -35195,
    "start_time": "2022-01-23T07:21:55.043Z"
   },
   {
    "duration": -35199,
    "start_time": "2022-01-23T07:21:55.048Z"
   },
   {
    "duration": 616,
    "start_time": "2022-01-23T07:21:37.022Z"
   },
   {
    "duration": 3,
    "start_time": "2022-01-23T07:22:27.920Z"
   },
   {
    "duration": 13,
    "start_time": "2022-01-23T07:22:35.227Z"
   },
   {
    "duration": 3,
    "start_time": "2022-01-23T07:23:44.137Z"
   },
   {
    "duration": 608,
    "start_time": "2022-01-23T07:23:51.215Z"
   },
   {
    "duration": 5,
    "start_time": "2022-01-23T07:25:05.105Z"
   },
   {
    "duration": 854,
    "start_time": "2022-01-23T07:25:09.615Z"
   },
   {
    "duration": 3,
    "start_time": "2022-01-23T07:26:43.524Z"
   },
   {
    "duration": 14,
    "start_time": "2022-01-23T07:26:48.378Z"
   },
   {
    "duration": 12,
    "start_time": "2022-01-23T07:26:59.576Z"
   },
   {
    "duration": 4,
    "start_time": "2022-01-23T07:29:20.931Z"
   },
   {
    "duration": 15,
    "start_time": "2022-01-23T07:29:22.971Z"
   },
   {
    "duration": 15,
    "start_time": "2022-01-23T07:31:08.865Z"
   },
   {
    "duration": 17,
    "start_time": "2022-01-23T07:31:42.717Z"
   },
   {
    "duration": 13,
    "start_time": "2022-01-23T07:32:25.632Z"
   },
   {
    "duration": 340,
    "start_time": "2022-01-23T07:32:40.600Z"
   },
   {
    "duration": 308,
    "start_time": "2022-01-23T07:32:46.931Z"
   },
   {
    "duration": 8,
    "start_time": "2022-01-23T07:32:59.525Z"
   },
   {
    "duration": 4,
    "start_time": "2022-01-23T07:33:02.166Z"
   },
   {
    "duration": 5,
    "start_time": "2022-01-23T07:33:26.660Z"
   },
   {
    "duration": 6,
    "start_time": "2022-01-23T07:33:28.205Z"
   },
   {
    "duration": 127,
    "start_time": "2022-01-23T07:34:12.378Z"
   },
   {
    "duration": 9,
    "start_time": "2022-01-23T07:34:14.468Z"
   },
   {
    "duration": 3,
    "start_time": "2022-01-23T07:34:58.789Z"
   },
   {
    "duration": 13,
    "start_time": "2022-01-23T07:35:06.391Z"
   },
   {
    "duration": 5,
    "start_time": "2022-01-23T07:35:09.848Z"
   },
   {
    "duration": 352,
    "start_time": "2022-01-29T11:43:02.330Z"
   },
   {
    "duration": 733,
    "start_time": "2022-01-29T11:43:11.784Z"
   },
   {
    "duration": 192,
    "start_time": "2022-01-29T11:43:12.520Z"
   },
   {
    "duration": 26,
    "start_time": "2022-01-29T11:43:12.715Z"
   },
   {
    "duration": 38,
    "start_time": "2022-01-29T11:43:12.763Z"
   },
   {
    "duration": 5,
    "start_time": "2022-01-29T11:43:12.805Z"
   },
   {
    "duration": 64,
    "start_time": "2022-01-29T11:43:12.812Z"
   },
   {
    "duration": 6,
    "start_time": "2022-01-29T11:43:12.879Z"
   },
   {
    "duration": 65,
    "start_time": "2022-01-29T11:43:12.887Z"
   },
   {
    "duration": 111,
    "start_time": "2022-01-29T11:43:12.975Z"
   },
   {
    "duration": 206,
    "start_time": "2022-01-29T11:43:13.091Z"
   },
   {
    "duration": 191,
    "start_time": "2022-01-29T11:43:13.300Z"
   },
   {
    "duration": 171,
    "start_time": "2022-01-29T11:43:13.495Z"
   },
   {
    "duration": 111,
    "start_time": "2022-01-29T11:43:13.670Z"
   },
   {
    "duration": 58,
    "start_time": "2022-01-29T11:43:13.784Z"
   },
   {
    "duration": 15,
    "start_time": "2022-01-29T11:43:13.845Z"
   },
   {
    "duration": 20,
    "start_time": "2022-01-29T11:43:13.862Z"
   },
   {
    "duration": 7,
    "start_time": "2022-01-29T11:43:13.884Z"
   },
   {
    "duration": 86,
    "start_time": "2022-01-29T11:43:13.893Z"
   },
   {
    "duration": 14,
    "start_time": "2022-01-29T11:43:13.981Z"
   },
   {
    "duration": 13,
    "start_time": "2022-01-29T11:43:13.997Z"
   },
   {
    "duration": 5,
    "start_time": "2022-01-29T11:43:14.012Z"
   },
   {
    "duration": 64,
    "start_time": "2022-01-29T11:43:14.019Z"
   },
   {
    "duration": 18,
    "start_time": "2022-01-29T11:43:14.085Z"
   },
   {
    "duration": 23,
    "start_time": "2022-01-29T11:43:14.106Z"
   },
   {
    "duration": 23,
    "start_time": "2022-01-29T11:43:14.161Z"
   },
   {
    "duration": 23,
    "start_time": "2022-01-29T11:43:14.187Z"
   },
   {
    "duration": 49,
    "start_time": "2022-01-29T11:43:14.216Z"
   },
   {
    "duration": 14,
    "start_time": "2022-01-29T11:43:14.269Z"
   },
   {
    "duration": 18,
    "start_time": "2022-01-29T11:43:14.285Z"
   },
   {
    "duration": 14,
    "start_time": "2022-01-29T11:43:14.305Z"
   },
   {
    "duration": 39,
    "start_time": "2022-01-29T11:43:14.322Z"
   },
   {
    "duration": 37,
    "start_time": "2022-01-29T11:43:14.364Z"
   },
   {
    "duration": 16,
    "start_time": "2022-01-29T11:43:14.403Z"
   },
   {
    "duration": 47,
    "start_time": "2022-01-29T11:43:14.421Z"
   },
   {
    "duration": 20,
    "start_time": "2022-01-29T11:43:14.471Z"
   },
   {
    "duration": 12,
    "start_time": "2022-01-29T11:43:14.493Z"
   },
   {
    "duration": 9,
    "start_time": "2022-01-29T11:43:14.508Z"
   },
   {
    "duration": 46,
    "start_time": "2022-01-29T11:43:14.521Z"
   },
   {
    "duration": 13,
    "start_time": "2022-01-29T11:43:14.570Z"
   },
   {
    "duration": 6,
    "start_time": "2022-01-30T14:05:15.827Z"
   },
   {
    "duration": 289,
    "start_time": "2022-01-30T14:06:18.239Z"
   },
   {
    "duration": 257,
    "start_time": "2022-01-30T14:06:33.104Z"
   },
   {
    "duration": 5,
    "start_time": "2022-01-30T14:07:16.102Z"
   },
   {
    "duration": 616,
    "start_time": "2022-01-30T14:07:52.821Z"
   },
   {
    "duration": 152,
    "start_time": "2022-01-30T14:07:53.439Z"
   },
   {
    "duration": 20,
    "start_time": "2022-01-30T14:07:53.594Z"
   },
   {
    "duration": 27,
    "start_time": "2022-01-30T14:07:53.616Z"
   },
   {
    "duration": 5,
    "start_time": "2022-01-30T14:07:53.645Z"
   },
   {
    "duration": 25,
    "start_time": "2022-01-30T14:07:53.651Z"
   },
   {
    "duration": 4,
    "start_time": "2022-01-30T14:07:53.707Z"
   },
   {
    "duration": 26,
    "start_time": "2022-01-30T14:07:53.714Z"
   },
   {
    "duration": 22,
    "start_time": "2022-01-30T14:07:53.742Z"
   },
   {
    "duration": 47,
    "start_time": "2022-01-30T14:07:53.766Z"
   },
   {
    "duration": 66,
    "start_time": "2022-01-30T14:07:53.815Z"
   },
   {
    "duration": 89,
    "start_time": "2022-01-30T14:07:53.883Z"
   },
   {
    "duration": 67,
    "start_time": "2022-01-30T14:07:53.974Z"
   },
   {
    "duration": 44,
    "start_time": "2022-01-30T14:07:54.044Z"
   },
   {
    "duration": 3,
    "start_time": "2022-01-30T14:07:54.107Z"
   },
   {
    "duration": 13,
    "start_time": "2022-01-30T14:07:54.112Z"
   },
   {
    "duration": 10,
    "start_time": "2022-01-30T14:07:54.127Z"
   },
   {
    "duration": 47,
    "start_time": "2022-01-30T14:07:54.139Z"
   },
   {
    "duration": 29,
    "start_time": "2022-01-30T14:07:54.188Z"
   },
   {
    "duration": 12,
    "start_time": "2022-01-30T14:07:54.220Z"
   },
   {
    "duration": 4,
    "start_time": "2022-01-30T14:07:54.234Z"
   },
   {
    "duration": 21,
    "start_time": "2022-01-30T14:07:54.240Z"
   },
   {
    "duration": 52,
    "start_time": "2022-01-30T14:07:54.266Z"
   },
   {
    "duration": 23,
    "start_time": "2022-01-30T14:07:54.320Z"
   },
   {
    "duration": 28,
    "start_time": "2022-01-30T14:07:54.345Z"
   },
   {
    "duration": 35,
    "start_time": "2022-01-30T14:07:54.376Z"
   },
   {
    "duration": 19,
    "start_time": "2022-01-30T14:07:54.414Z"
   },
   {
    "duration": 11,
    "start_time": "2022-01-30T14:07:54.435Z"
   },
   {
    "duration": 19,
    "start_time": "2022-01-30T14:07:54.448Z"
   },
   {
    "duration": 43,
    "start_time": "2022-01-30T14:07:54.469Z"
   },
   {
    "duration": 5,
    "start_time": "2022-01-30T14:07:54.514Z"
   },
   {
    "duration": 1580,
    "start_time": "2022-01-30T14:07:54.521Z"
   },
   {
    "duration": -39587,
    "start_time": "2022-01-30T14:08:35.691Z"
   },
   {
    "duration": -39590,
    "start_time": "2022-01-30T14:08:35.695Z"
   },
   {
    "duration": -39595,
    "start_time": "2022-01-30T14:08:35.701Z"
   },
   {
    "duration": -39602,
    "start_time": "2022-01-30T14:08:35.709Z"
   },
   {
    "duration": -39606,
    "start_time": "2022-01-30T14:08:35.715Z"
   },
   {
    "duration": -39612,
    "start_time": "2022-01-30T14:08:35.722Z"
   },
   {
    "duration": -39617,
    "start_time": "2022-01-30T14:08:35.728Z"
   },
   {
    "duration": 1391,
    "start_time": "2022-01-30T14:08:04.612Z"
   },
   {
    "duration": 5,
    "start_time": "2022-01-30T14:08:29.988Z"
   },
   {
    "duration": 694,
    "start_time": "2022-01-30T14:08:38.802Z"
   },
   {
    "duration": 5,
    "start_time": "2022-01-30T14:08:48.941Z"
   },
   {
    "duration": 507,
    "start_time": "2022-01-30T14:08:56.221Z"
   },
   {
    "duration": 4,
    "start_time": "2022-01-30T14:09:54.331Z"
   },
   {
    "duration": 19,
    "start_time": "2022-01-30T14:09:57.906Z"
   },
   {
    "duration": 14,
    "start_time": "2022-01-30T14:10:02.481Z"
   },
   {
    "duration": 21,
    "start_time": "2022-01-30T14:10:08.122Z"
   },
   {
    "duration": 15,
    "start_time": "2022-01-30T14:10:11.050Z"
   },
   {
    "duration": 5,
    "start_time": "2022-01-30T14:27:13.781Z"
   },
   {
    "duration": 4,
    "start_time": "2022-01-30T14:27:36.369Z"
   },
   {
    "duration": 533,
    "start_time": "2022-01-30T14:27:47.052Z"
   },
   {
    "duration": 5,
    "start_time": "2022-01-30T14:28:36.635Z"
   },
   {
    "duration": 499,
    "start_time": "2022-01-30T14:28:47.182Z"
   },
   {
    "duration": 6,
    "start_time": "2022-01-30T14:29:29.682Z"
   },
   {
    "duration": 1325,
    "start_time": "2022-01-30T14:29:32.799Z"
   },
   {
    "duration": 4,
    "start_time": "2022-01-30T14:29:42.315Z"
   },
   {
    "duration": 556,
    "start_time": "2022-01-30T14:29:48.025Z"
   },
   {
    "duration": 4,
    "start_time": "2022-01-30T14:33:19.688Z"
   },
   {
    "duration": 506,
    "start_time": "2022-01-30T14:33:27.997Z"
   },
   {
    "duration": 4,
    "start_time": "2022-01-30T14:33:47.750Z"
   },
   {
    "duration": 529,
    "start_time": "2022-01-30T14:33:50.381Z"
   },
   {
    "duration": 5,
    "start_time": "2022-01-30T14:34:20.537Z"
   },
   {
    "duration": 513,
    "start_time": "2022-01-30T14:34:28.761Z"
   },
   {
    "duration": 5,
    "start_time": "2022-01-30T14:34:35.997Z"
   },
   {
    "duration": 672,
    "start_time": "2022-01-30T14:34:38.210Z"
   },
   {
    "duration": 4,
    "start_time": "2022-01-30T14:40:19.385Z"
   },
   {
    "duration": 18,
    "start_time": "2022-01-30T14:40:22.574Z"
   },
   {
    "duration": 19,
    "start_time": "2022-01-30T14:40:25.451Z"
   }
  ],
  "colab": {
   "collapsed_sections": [
    "E0vqbgi9ay0H",
    "VUC88oWjTJw2"
   ],
   "name": "yandex_music_project_2021.2.ipynb",
   "provenance": []
  },
  "kernelspec": {
   "display_name": "Python 3 (ipykernel)",
   "language": "python",
   "name": "python3"
  },
  "language_info": {
   "codemirror_mode": {
    "name": "ipython",
    "version": 3
   },
   "file_extension": ".py",
   "mimetype": "text/x-python",
   "name": "python",
   "nbconvert_exporter": "python",
   "pygments_lexer": "ipython3",
   "version": "3.9.5"
  },
  "toc": {
   "base_numbering": 1,
   "nav_menu": {},
   "number_sections": true,
   "sideBar": true,
   "skip_h1_title": true,
   "title_cell": "Table of Contents",
   "title_sidebar": "Contents",
   "toc_cell": false,
   "toc_position": {
    "height": "calc(100% - 180px)",
    "left": "10px",
    "top": "150px",
    "width": "188.05px"
   },
   "toc_section_display": true,
   "toc_window_display": false
  }
 },
 "nbformat": 4,
 "nbformat_minor": 1
}

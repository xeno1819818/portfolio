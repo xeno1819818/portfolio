{
 "cells": [
  {
   "cell_type": "markdown",
   "metadata": {},
   "source": [
    "# Анализ оттока клиентов фитнесс-клуба «Культурист-датасаентист» "
   ]
  },
  {
   "cell_type": "markdown",
   "metadata": {},
   "source": [
    "Описание проекта\n",
    "\n",
    "Сеть фитнес-центров «Культурист-датасаентист» разрабатывает стратегию взаимодействия с клиентами на основе аналитических данных.\n",
    "Распространённая проблема фитнес-клубов и других сервисов — отток клиентов. Как понять, что клиент больше не с вами? Можно записать в отток тех, кто попросил закрыть договор или удалил аккаунт. Однако клиенты не всегда уходят демонстративно: чаще перестают пользоваться сервисом тихо.\n",
    "Индикаторы оттока зависят от специфики отрасли. Когда пользователь редко, но стабильно закупается в интернет-магазине — не похоже, что он «отвалился». А вот если две недели не заходит на канал с ежедневно обновляемым контентом, дела плохи: подписчик заскучал и, кажется, оставил вас.\n",
    "Для фитнес-центра можно считать, что клиент попал в отток, если за последний месяц ни разу не посетил спортзал. Конечно, не исключено, что он уехал на Бали и по приезде обязательно продолжит ходить на фитнес. Однако чаще бывает наоборот. Если клиент начал новую жизнь с понедельника, немного походил в спортзал, а потом пропал — скорее всего, он не вернётся.\n",
    "Чтобы бороться с оттоком, отдел по работе с клиентами «Культуриста-датасаентиста» перевёл в электронный вид множество клиентских анкет. Ваша задача — провести анализ и подготовить план действий по удержанию клиентов. \n",
    "    \n",
    "Данные клиента за предыдущий до проверки факта оттока месяц:\n",
    "\n",
    "'gender' — пол;\n",
    "\n",
    "'Near_Location' — проживание или работа в районе, где находится фитнес-центр;\n",
    "\n",
    "'Partner' — сотрудник компании-партнёра клуба (сотрудничество с компаниями, чьи сотрудники могут получать скидки на абонемент — в таком случае фитнес-центр хранит информацию о работодателе клиента);\n",
    "\n",
    "Promo_friends — факт первоначальной записи в рамках акции «приведи друга» (использовал промо-код от знакомого при оплате первого абонемента);\n",
    "\n",
    "'Phone' — наличие контактного телефона;\n",
    "\n",
    "'Age' — возраст;\n",
    "\n",
    "\n",
    "'Lifetime' — время с момента первого обращения в фитнес-центр (в месяцах).\n",
    "    Информация на основе журнала посещений, покупок и информация о текущем статусе абонемента клиента:\n",
    "\n",
    "\n",
    "'Contract_period' — длительность текущего действующего абонемента (месяц, 6 месяцев, год);\n",
    "\n",
    "'Month_to_end_contract' — срок до окончания текущего действующего абонемента (в месяцах);\n",
    "\n",
    "'Group_visits' — факт посещения групповых занятий;\n",
    "\n",
    "'Avg_class_frequency_total' — средняя частота посещений в неделю за все время с начала действия абонемента;\n",
    "\n",
    "'Avg_class_frequency_current_month' — средняя частота посещений в неделю за предыдущий месяц;\n",
    "\n",
    "'Avg_additional_charges_total' — суммарная выручка от других услуг фитнес-центра: кафе, спорттовары, косметический и массажный салон.\n",
    "\n",
    "'Churn' — факт оттока в текущем месяце."
   ]
  },
  {
   "cell_type": "code",
   "execution_count": null,
   "metadata": {},
   "outputs": [],
   "source": [
    "import pandas as pd\n",
    "import numpy as np\n",
    "import seaborn as sbn\n",
    "from scipy import stats as st\n",
    "import matplotlib.pyplot as plt\n",
    "from sklearn.linear_model import LogisticRegression\n",
    "from sklearn.ensemble import RandomForestClassifier\n",
    "from sklearn.model_selection import train_test_split\n",
    "from sklearn.metrics import accuracy_score, precision_score, recall_score, f1_score\n",
    "from sklearn.metrics import roc_auc_score\n",
    "from sklearn.preprocessing import StandardScaler\n",
    "from scipy.cluster.hierarchy import dendrogram, linkage\n",
    "from sklearn.cluster import KMeans\n",
    "import plotly.graph_objects as go\n",
    "from sklearn.metrics import silhouette_score\n"
   ]
  },
  {
   "cell_type": "markdown",
   "metadata": {},
   "source": [
    "## Загрузка данных"
   ]
  },
  {
   "cell_type": "markdown",
   "metadata": {},
   "source": [
    "### Просмотр данных"
   ]
  },
  {
   "cell_type": "code",
   "execution_count": null,
   "metadata": {},
   "outputs": [],
   "source": [
    "fitness_data=pd.read_csv('/datasets/gym_churn.csv')"
   ]
  },
  {
   "cell_type": "code",
   "execution_count": null,
   "metadata": {},
   "outputs": [],
   "source": [
    "fitness_data.head()"
   ]
  },
  {
   "cell_type": "code",
   "execution_count": null,
   "metadata": {},
   "outputs": [],
   "source": [
    "fitness_data.info()"
   ]
  },
  {
   "cell_type": "markdown",
   "metadata": {},
   "source": [
    "Типы данных соответствуют своим значениям. Названия колонок не соответствуют принятым стандартам, переведем их в нижний регистр"
   ]
  },
  {
   "cell_type": "code",
   "execution_count": null,
   "metadata": {},
   "outputs": [],
   "source": [
    "fitness_data.columns=fitness_data.columns.str.lower()"
   ]
  },
  {
   "cell_type": "code",
   "execution_count": null,
   "metadata": {},
   "outputs": [],
   "source": [
    "#Проверяем  наши изменения\n",
    "fitness_data.head()"
   ]
  },
  {
   "cell_type": "markdown",
   "metadata": {},
   "source": [
    "Выводы:\n",
    "    \n",
    "Данные отброжаются нормально. Все данные представлены в числовом виде. Это очень удобно для расчетов. Типы данных соответствуют своим значениям. Переходим к исследовательскому анализу  "
   ]
  },
  {
   "cell_type": "markdown",
   "metadata": {},
   "source": [
    "## Исследовательский анализ данных (EDA)"
   ]
  },
  {
   "cell_type": "markdown",
   "metadata": {},
   "source": [
    "### Поиск пропущенных значений"
   ]
  },
  {
   "cell_type": "code",
   "execution_count": null,
   "metadata": {},
   "outputs": [],
   "source": [
    "fitness_data.isna().sum()"
   ]
  },
  {
   "cell_type": "markdown",
   "metadata": {},
   "source": [
    "Пропущенные значения не обнаружены"
   ]
  },
  {
   "cell_type": "markdown",
   "metadata": {},
   "source": [
    "### Поиск дубликатов"
   ]
  },
  {
   "cell_type": "code",
   "execution_count": null,
   "metadata": {},
   "outputs": [],
   "source": [
    "fitness_data.duplicated().sum()"
   ]
  },
  {
   "cell_type": "markdown",
   "metadata": {},
   "source": [
    "Дубликаты не обнаружены"
   ]
  },
  {
   "cell_type": "markdown",
   "metadata": {},
   "source": [
    "### Просмотр средних значений признаков и стадартного отклонения "
   ]
  },
  {
   "cell_type": "code",
   "execution_count": null,
   "metadata": {},
   "outputs": [],
   "source": [
    "fitness_data.describe()"
   ]
  },
  {
   "cell_type": "markdown",
   "metadata": {},
   "source": [
    "Стандартное отклонение везде меньше или примерно равно среднему значению признаков. Это говорит, о том что в данных нет  аномалий или выбросов."
   ]
  },
  {
   "cell_type": "markdown",
   "metadata": {},
   "source": [
    "### Средние значения признаков в двух группах — тех, кто ушел в отток и тех, кто остался"
   ]
  },
  {
   "cell_type": "code",
   "execution_count": null,
   "metadata": {},
   "outputs": [],
   "source": [
    "fitness_data.groupby('churn').mean()\n"
   ]
  },
  {
   "cell_type": "markdown",
   "metadata": {},
   "source": [
    "Если средние значения равны, то признак не влияет на отток, и наоборот. В данном случае получается на отток не влияют признаки пол и телефон, остальные влияют."
   ]
  },
  {
   "cell_type": "markdown",
   "metadata": {},
   "source": [
    "### Столбчатые гистограммы и распределения признаков  по группам, кто ушёл (отток) и тех, кто остался "
   ]
  },
  {
   "cell_type": "code",
   "execution_count": null,
   "metadata": {
    "scrolled": true
   },
   "outputs": [],
   "source": [
    "for index in fitness_data.columns[:-1]:\n",
    "    plt.figure(figsize=(35, 15))\n",
    "    plt.rcParams['font.size'] = '30'\n",
    "    sbn.histplot(x=index, hue='churn', data=fitness_data)\n",
    "    plt.title(f'Соотношение значений признака {index} по группам')\n",
    "    plt.ylabel(f'{index}')\n",
    "    plt.show()"
   ]
  },
  {
   "cell_type": "code",
   "execution_count": null,
   "metadata": {},
   "outputs": [],
   "source": [
    "fitness_data.head()"
   ]
  },
  {
   "cell_type": "markdown",
   "metadata": {},
   "source": [
    "Колонка gender - мужчин оставшихся больше в 2,5 раза чем женщин, в оттоке примерно такое же соотношение .\n",
    "\n",
    "Колонка near_location - клиентов значительно больше, которые живут  или работают рядом с клубом. Постоянных клиентов в несколько раз больше, чем в оттоке.\n",
    "\n",
    "Колонка partner - сотрудников компании-партнёра немного больше, чем простых клиентов. Оставшихся клиентов, работающих в компании-партнере в несколько раз больше других клиентов, а в оттоке больше клиентов без партнерства, чем клиентов с партнерством.\n",
    "\n",
    "Колонка promo_friends - клиентов без промокода больше, чем с промокодом. Но в группе с промокодом отток в несколько раз меньше, чем в группе без промокода.\n",
    "\n",
    "Колонка phone - количество клиентов, оставивших свой телефон в записи, значительно больше, чем тех кто не оставил. Отток в несколько раз меньше у оставивших свой телефон в записи, чем в другой группе.\n",
    "\n",
    "Колонка contract_period - больше клиентов, но не намного, заплативших за период 1 месяц, но отток в этой группе в несколько раз больше. В группе, заплативших за полгода, оставшихся клиентов в несколько раз больше оттока. И в группе, заплативших за 1 год почти все клиенты в числе оставшихся. \n",
    "\n",
    "Колонка group_visits - не любителей групповых занятий немного больше. В этой группе оттоке и оставшихся клиентов одинаковое количество. В группе любителей групповых занятий отток клиентов в несколько раз меньше остальных клиентов.\n",
    "\n",
    "Колонка age - большая часть оставшихся клиентов, люди в возрасте в возрасте от 28 до 40 лет, здесь отток меньше всего. Отток клиентов больше всего у людей в возрасте до 28 лет.\n",
    "\n",
    "Колонка avg_additional_charges_total - суммарная выручка от других услуг примерно в 2 раза больше у оставшися клиентов\n",
    "\n",
    "Колонка month_to_end_contract - отток больше всего у клиентов, оформивших подписку на 1 месяц. Почти нет оттока у тех, кто купил подписку на 5, 6 и 12 месяцев.\n",
    "\n",
    "Колонка lifetime - Отток больше всего у клиентов, посещавших клуб до 2 месяцев. А от 2 месяцев до 20 месяцев оттток значительно меньше.\n",
    "\n",
    "Колонка Avg_class_frequency_total - средняя частота посещений в неделю за все время с начала действия абонемента примерно в 2 раза больше у оставшися клиентов.\n",
    "\n",
    "Колонка Avg_class_frequency_current_month -  средняя частота посещений в неделю за предыдущий месяц примерно в 2 раза меньше в оттоке. \n"
   ]
  },
  {
   "cell_type": "markdown",
   "metadata": {},
   "source": [
    "### Матрица корреляций"
   ]
  },
  {
   "cell_type": "code",
   "execution_count": null,
   "metadata": {},
   "outputs": [],
   "source": [
    "cm=fitness_data.corr()\n",
    "cm"
   ]
  },
  {
   "cell_type": "code",
   "execution_count": null,
   "metadata": {},
   "outputs": [],
   "source": [
    "#Построим тепловую карту по матрице корреляций\n",
    "plt.figure(figsize=(35, 20))\n",
    "plt.rcParams['font.size'] = '20'\n",
    "sbn.heatmap(cm, annot = True, square=False)\n",
    "plt.title('Тепловая карта матрицы корреляции')\n",
    "plt.xticks(rotation=30)\n",
    "plt.show()"
   ]
  },
  {
   "cell_type": "markdown",
   "metadata": {},
   "source": [
    "Есть небольшие зависимости, меньше 0.8 между колонками partner и promo_friends, и высокая зависимость между avg_class_frequency_total и аvg_class_frequency_current_month, contract_period и month_to_end_contract, эти данные дополняют друга друга."
   ]
  },
  {
   "cell_type": "markdown",
   "metadata": {},
   "source": [
    "## Модель прогнозирования оттока клиентов"
   ]
  },
  {
   "cell_type": "markdown",
   "metadata": {},
   "source": [
    "### Разбивка данных на обучающую и валидационную выборку функцией train_test_split()"
   ]
  },
  {
   "cell_type": "code",
   "execution_count": null,
   "metadata": {},
   "outputs": [],
   "source": [
    "#Сделаем целевую переменную и матрицу признаков\n",
    "X=fitness_data.drop('churn', axis=1)\n",
    "y=fitness_data['churn']"
   ]
  },
  {
   "cell_type": "code",
   "execution_count": null,
   "metadata": {},
   "outputs": [],
   "source": [
    "X_train, X_test, y_train, y_test = train_test_split(X, y, test_size=0.2, random_state=0)"
   ]
  },
  {
   "cell_type": "markdown",
   "metadata": {},
   "source": [
    "### Создание моделей логистическая регрессия и случайный лес"
   ]
  },
  {
   "cell_type": "code",
   "execution_count": null,
   "metadata": {},
   "outputs": [],
   "source": [
    "#Логистическая регрессия\n",
    "model_lr = LogisticRegression(random_state=0, solver='liblinear')\n",
    "model_lr.fit(X_train, y_train)\n",
    "y_pred_lr = model_lr.predict(X_test)"
   ]
  },
  {
   "cell_type": "code",
   "execution_count": null,
   "metadata": {},
   "outputs": [],
   "source": [
    "#Случайный лес\n",
    "model_rf = RandomForestClassifier(random_state=0)\n",
    "model_rf.fit(X_train, y_train)\n",
    "y_pred_rf = model_rf.predict(X_test)"
   ]
  },
  {
   "cell_type": "markdown",
   "metadata": {},
   "source": [
    "### Оценка метрик accuracy, precision и recall для обеих моделей на валидационной выборке"
   ]
  },
  {
   "cell_type": "code",
   "execution_count": null,
   "metadata": {},
   "outputs": [],
   "source": [
    "#Создадим функцию для расчета метрик\n",
    "def print_metrics(y_test, y_pred):\n",
    "    print('Метрики классификации')\n",
    "    print('\\tAccuracy: {:.2f}'.format(accuracy_score(y_test, y_pred)))\n",
    "    print('\\tPrecision: {:.2f}'.format(precision_score(y_test, y_pred)))\n",
    "    print('\\tRecall: {:.2f}'.format(recall_score(y_test, y_pred)))\n",
    "    "
   ]
  },
  {
   "cell_type": "code",
   "execution_count": null,
   "metadata": {},
   "outputs": [],
   "source": [
    "#Посчитаем метрики в модели логитическая регрессия\n",
    "print_metrics(y_test, y_pred_lr)"
   ]
  },
  {
   "cell_type": "code",
   "execution_count": null,
   "metadata": {},
   "outputs": [],
   "source": [
    "#Посчитаем метрики в модели случайный лес\n",
    "print_metrics(y_test, y_pred_rf)"
   ]
  },
  {
   "cell_type": "markdown",
   "metadata": {},
   "source": [
    "Метрики показали почти одинаковые результаты, обе модели одинаково выполняют поставленную им задачу."
   ]
  },
  {
   "cell_type": "markdown",
   "metadata": {},
   "source": [
    "## Модель прогнозирования оттока клиентов"
   ]
  },
  {
   "cell_type": "markdown",
   "metadata": {},
   "source": [
    "### Стандартизация данных"
   ]
  },
  {
   "cell_type": "code",
   "execution_count": null,
   "metadata": {},
   "outputs": [],
   "source": [
    "#Посчитаем метрики в модели логитическая регрессия\n",
    "scaler = StandardScaler()\n",
    "X_sc = scaler.fit_transform(X)\n"
   ]
  },
  {
   "cell_type": "markdown",
   "metadata": {},
   "source": [
    "### Построим матрицу расстояний функцией linkage() на стандартизованной матрице признаков и нарисуем дендрограмму"
   ]
  },
  {
   "cell_type": "code",
   "execution_count": null,
   "metadata": {},
   "outputs": [],
   "source": [
    "linked = linkage(X_sc, method = 'ward')\n",
    "plt.figure(figsize=(15, 10))\n",
    "dendrogram(linked, orientation='top')\n",
    "plt.title('Иерархическая кластеризация клиентов')\n",
    "plt.show()"
   ]
  },
  {
   "cell_type": "markdown",
   "metadata": {},
   "source": [
    "На основании дендрограммы выберим 5 кластера иерархической кластеризации"
   ]
  },
  {
   "cell_type": "markdown",
   "metadata": {},
   "source": [
    "### Обучение модели кластеризации на основании алгоритма K-Means "
   ]
  },
  {
   "cell_type": "code",
   "execution_count": null,
   "metadata": {},
   "outputs": [],
   "source": [
    "km = KMeans(n_clusters = 5, random_state=0)\n",
    "labels = km.fit_predict(X_sc)"
   ]
  },
  {
   "cell_type": "code",
   "execution_count": null,
   "metadata": {
    "scrolled": true
   },
   "outputs": [],
   "source": [
    "#Сделаем оценку качества модели\n",
    "silhouette_score(X_sc, labels) "
   ]
  },
  {
   "cell_type": "markdown",
   "metadata": {},
   "source": [
    "Качество модели не очень хорошее."
   ]
  },
  {
   "cell_type": "markdown",
   "metadata": {},
   "source": [
    "### Средние значения признаков по кластерам"
   ]
  },
  {
   "cell_type": "code",
   "execution_count": null,
   "metadata": {},
   "outputs": [],
   "source": [
    "#Добавим колонку clusters в исходную таблицу\n",
    "fitness_data['clusters']=labels"
   ]
  },
  {
   "cell_type": "code",
   "execution_count": null,
   "metadata": {
    "scrolled": true
   },
   "outputs": [],
   "source": [
    "#Посчитаем средние значения призанков по кластерам\n",
    "data_clusters=fitness_data.groupby('clusters').mean()\n",
    "data_clusters"
   ]
  },
  {
   "cell_type": "markdown",
   "metadata": {},
   "source": [
    "Там где средние значения примерно одинаковые, признак не влияет на отток, где средние значения отличаются, признак влияет. "
   ]
  },
  {
   "cell_type": "markdown",
   "metadata": {},
   "source": [
    "### Распределение признаков по кластерам"
   ]
  },
  {
   "cell_type": "code",
   "execution_count": null,
   "metadata": {},
   "outputs": [],
   "source": [
    "for i in fitness_data.columns[:-1]:\n",
    "    plt.figure(figsize=(35, 15))\n",
    "    plt.rcParams['font.size'] = '20'\n",
    "    sbn.histplot(x=i, hue='clusters', data=fitness_data, palette=\"tab10\")\n",
    "    plt.title(f'Распределение значений признака {i} по кластерам')\n",
    "    plt.ylabel(f'{i}')\n",
    "    plt.show()"
   ]
  },
  {
   "cell_type": "markdown",
   "metadata": {},
   "source": [
    "признак gender - заметных связей нет\n",
    "\n",
    "признак near_location - те кто живет неблизко от клуба, кластер 2. Остальные признаки почти полностью входят в группу близко от клуба\n",
    "\n",
    "признак partner - кластер 2 и 3 точно нет в программе партнер, остальные есть с программой партнер и без \n",
    "\n",
    "признак promo_friends - здесь такое же соотношение кластеров как в partner\n",
    "\n",
    "признак phone - те кто не оставил телефон все входят в кластер 1 \n",
    "\n",
    "признак contract_period - здесь хорошо видно, что абонементы продаются на периоды 1,6,12 месяцев. Кластер 0 состоит преимущественно из 12-месячных абонементов, и в нем нет тех у кого абонементов 1 мес и почти нет 6 месяцев\n",
    "\n",
    "признак group_visits - в кластере 3 точно нет любителей групповых занятий. Остальные кластеры присутствуют в группе любителей групповых занятий и тех тех кто не любит\n",
    "\n",
    "признак age - кластер 3 преимущественно состоит из тех кому 30 лет и меньше, кластер 0 кому больше 30 лет.\n",
    "\n",
    "признак avg_additional_charges_total - здесь также кластер 3, который тратит до 250(молодежь) и кластер 0 - тратит свыше 200(старше 30).\n",
    "\n",
    "признак month_to_end_contract - кластеры 0 и 4, те кто покупают абонемент на год, остальные меньше 2 месяцев и 2 месяца\n",
    "\n",
    "признак lifetime - кластеры 0 и 4, те кто долго ходят в фитнесс-клуб. 3, 2 и немного 0, 1, 4, те кто ходили в клуб не больше 2 месяцев\n",
    "\n",
    "признак avg_class_frequency_total - кластер 3, те кто ходит в среднем 1 раз, кластер 0 - те кто ходит 2-3 раза.\n",
    "\n",
    "признак avg_class_frequency_current_month -  здесь такое же соотношение кластеров как в avg_class_frequency_total"
   ]
  },
  {
   "cell_type": "markdown",
   "metadata": {},
   "source": [
    "### Доля оттока по кластерам "
   ]
  },
  {
   "cell_type": "code",
   "execution_count": null,
   "metadata": {},
   "outputs": [],
   "source": [
    "outflow_parts = fitness_data.query('churn==1').groupby('clusters')['churn'].count() / len(fitness_data)\n",
    "outflow_parts\n"
   ]
  },
  {
   "cell_type": "code",
   "execution_count": null,
   "metadata": {},
   "outputs": [],
   "source": [
    "outflow_parts=outflow_parts.append(pd.Series([0.73475]), ignore_index=True)"
   ]
  },
  {
   "cell_type": "code",
   "execution_count": null,
   "metadata": {},
   "outputs": [],
   "source": [
    "outflow_parts"
   ]
  },
  {
   "cell_type": "code",
   "execution_count": null,
   "metadata": {},
   "outputs": [],
   "source": [
    "outflow_parts = outflow_parts.rename(index={5:'Нет оттока'})"
   ]
  },
  {
   "cell_type": "code",
   "execution_count": null,
   "metadata": {},
   "outputs": [],
   "source": [
    "#Нарисуем круговую диаграмму оттока по кластерам\n",
    "fig = go.Figure(data=[go.Pie(labels=outflow_parts.index, values=outflow_parts.values)])\n",
    "fig.update_layout(title_text='Доля оттока клиентов по кластерам')\n",
    "fig.show()"
   ]
  },
  {
   "cell_type": "markdown",
   "metadata": {},
   "source": [
    "Доля оттока клиентов для каждого кластера разная. Больше всего уходят клиенты из 3 кластера, 16.2% от общего числа посетителей в кластере. Самые надежные кластеры 0, 1 и 4, здесь меньше всего отток.  "
   ]
  },
  {
   "cell_type": "markdown",
   "metadata": {},
   "source": [
    "## Общие выводы"
   ]
  },
  {
   "cell_type": "markdown",
   "metadata": {},
   "source": [
    "Провели анализ оттока клиентов в фитнесс-клубе. Использовали для этого модели машинного обучения с учителем \"Логистическая регрессия\" и \"Случайный лес\". Обе модели одинаково показали хорошие результыты. Оценка качества модели accuracy показала даже 93%, это высокий результат. \n",
    "\n",
    "Так же использовали методы машинного обучения без учителя, кластеризация клиентов, при помощи иерархичсекой кластеризации и метода к-средних. Оценка качества модели показала не очень высокий результат 0,13 (максимальный результат когда показатель стремится к 1). Анализ показал, что для успешной работы фитнесс-клубе необходимо использовать следующие рекомендации:\n",
    "\n",
    "1)привлекать клиентов предлагая партнерские программы и промо-акции\n",
    "2)использовать более выгодные цены на абонементы за 6 и 12 месяцев\n",
    "3)создавать приятную, притягивающую атмосферу, чтобы клиенты ходили чаще 2-3 раза в неделю\n",
    "4)больше уделять внимание людям возрастом 28 лет старше, это потенциально надежные клиенты."
   ]
  },
  {
   "cell_type": "code",
   "execution_count": null,
   "metadata": {},
   "outputs": [],
   "source": []
  }
 ],
 "metadata": {
  "ExecuteTimeLog": [
   {
    "duration": 1324,
    "start_time": "2022-06-26T08:02:34.805Z"
   },
   {
    "duration": 120,
    "start_time": "2022-06-26T08:02:36.131Z"
   },
   {
    "duration": 0,
    "start_time": "2022-06-26T08:02:36.252Z"
   },
   {
    "duration": 0,
    "start_time": "2022-06-26T08:02:36.253Z"
   },
   {
    "duration": 0,
    "start_time": "2022-06-26T08:02:36.254Z"
   },
   {
    "duration": 0,
    "start_time": "2022-06-26T08:02:36.255Z"
   },
   {
    "duration": 0,
    "start_time": "2022-06-26T08:02:36.256Z"
   },
   {
    "duration": 0,
    "start_time": "2022-06-26T08:02:36.257Z"
   },
   {
    "duration": 0,
    "start_time": "2022-06-26T08:02:36.258Z"
   },
   {
    "duration": 0,
    "start_time": "2022-06-26T08:02:36.259Z"
   },
   {
    "duration": 0,
    "start_time": "2022-06-26T08:02:36.260Z"
   },
   {
    "duration": 0,
    "start_time": "2022-06-26T08:02:36.260Z"
   },
   {
    "duration": 0,
    "start_time": "2022-06-26T08:02:36.261Z"
   },
   {
    "duration": 40,
    "start_time": "2022-06-26T08:07:19.495Z"
   },
   {
    "duration": 0,
    "start_time": "2022-06-26T08:07:19.536Z"
   },
   {
    "duration": 1247,
    "start_time": "2022-06-26T08:07:19.683Z"
   },
   {
    "duration": 68,
    "start_time": "2022-06-26T08:07:20.932Z"
   },
   {
    "duration": 19,
    "start_time": "2022-06-26T08:07:21.002Z"
   },
   {
    "duration": 10,
    "start_time": "2022-06-26T08:07:21.023Z"
   },
   {
    "duration": 2,
    "start_time": "2022-06-26T08:07:21.035Z"
   },
   {
    "duration": 16,
    "start_time": "2022-06-26T08:07:21.038Z"
   },
   {
    "duration": 7,
    "start_time": "2022-06-26T08:07:21.056Z"
   },
   {
    "duration": 7,
    "start_time": "2022-06-26T08:07:21.064Z"
   },
   {
    "duration": 37,
    "start_time": "2022-06-26T08:07:21.072Z"
   },
   {
    "duration": 13,
    "start_time": "2022-06-26T08:07:21.110Z"
   },
   {
    "duration": 88,
    "start_time": "2022-06-26T08:07:21.124Z"
   },
   {
    "duration": 0,
    "start_time": "2022-06-26T08:07:21.214Z"
   },
   {
    "duration": 0,
    "start_time": "2022-06-26T08:07:21.214Z"
   },
   {
    "duration": 20,
    "start_time": "2022-06-26T08:07:44.606Z"
   },
   {
    "duration": 4,
    "start_time": "2022-06-26T08:07:47.080Z"
   },
   {
    "duration": 8,
    "start_time": "2022-06-26T08:08:19.571Z"
   },
   {
    "duration": 9,
    "start_time": "2022-06-26T08:08:55.720Z"
   },
   {
    "duration": 1149,
    "start_time": "2022-06-26T08:22:24.707Z"
   },
   {
    "duration": 31,
    "start_time": "2022-06-26T08:22:25.857Z"
   },
   {
    "duration": 18,
    "start_time": "2022-06-26T08:22:25.889Z"
   },
   {
    "duration": 10,
    "start_time": "2022-06-26T08:22:25.909Z"
   },
   {
    "duration": 2,
    "start_time": "2022-06-26T08:22:25.920Z"
   },
   {
    "duration": 21,
    "start_time": "2022-06-26T08:22:25.923Z"
   },
   {
    "duration": 7,
    "start_time": "2022-06-26T08:22:25.945Z"
   },
   {
    "duration": 10,
    "start_time": "2022-06-26T08:22:25.953Z"
   },
   {
    "duration": 39,
    "start_time": "2022-06-26T08:22:25.965Z"
   },
   {
    "duration": 12,
    "start_time": "2022-06-26T08:22:26.006Z"
   },
   {
    "duration": 110,
    "start_time": "2022-06-26T08:22:26.019Z"
   },
   {
    "duration": 1,
    "start_time": "2022-06-26T08:22:26.130Z"
   },
   {
    "duration": 0,
    "start_time": "2022-06-26T08:22:26.132Z"
   },
   {
    "duration": 0,
    "start_time": "2022-06-26T08:22:26.132Z"
   },
   {
    "duration": 3,
    "start_time": "2022-06-26T08:22:47.039Z"
   },
   {
    "duration": 5,
    "start_time": "2022-06-26T08:22:47.773Z"
   },
   {
    "duration": 359,
    "start_time": "2022-06-26T08:23:00.293Z"
   },
   {
    "duration": 1626,
    "start_time": "2022-06-28T09:00:18.725Z"
   },
   {
    "duration": 137,
    "start_time": "2022-06-28T09:00:20.353Z"
   },
   {
    "duration": 19,
    "start_time": "2022-06-28T09:00:20.492Z"
   },
   {
    "duration": 10,
    "start_time": "2022-06-28T09:00:20.513Z"
   },
   {
    "duration": 21,
    "start_time": "2022-06-28T09:00:20.524Z"
   },
   {
    "duration": 20,
    "start_time": "2022-06-28T09:00:20.546Z"
   },
   {
    "duration": 6,
    "start_time": "2022-06-28T09:00:20.568Z"
   },
   {
    "duration": 12,
    "start_time": "2022-06-28T09:00:20.575Z"
   },
   {
    "duration": 45,
    "start_time": "2022-06-28T09:00:20.588Z"
   },
   {
    "duration": 17,
    "start_time": "2022-06-28T09:00:20.636Z"
   },
   {
    "duration": 4608,
    "start_time": "2022-06-28T09:00:20.656Z"
   },
   {
    "duration": 33,
    "start_time": "2022-06-28T09:00:25.266Z"
   },
   {
    "duration": 4,
    "start_time": "2022-06-28T09:00:25.301Z"
   },
   {
    "duration": 25,
    "start_time": "2022-06-28T09:00:25.307Z"
   },
   {
    "duration": 95,
    "start_time": "2022-06-28T09:00:25.334Z"
   },
   {
    "duration": 463,
    "start_time": "2022-06-28T09:00:25.432Z"
   },
   {
    "duration": 3,
    "start_time": "2022-06-28T09:00:25.897Z"
   },
   {
    "duration": 12,
    "start_time": "2022-06-28T09:00:25.902Z"
   },
   {
    "duration": 22,
    "start_time": "2022-06-28T09:00:25.915Z"
   },
   {
    "duration": 12,
    "start_time": "2022-06-28T09:00:25.938Z"
   },
   {
    "duration": 91642,
    "start_time": "2022-06-28T09:00:25.952Z"
   },
   {
    "duration": 1047,
    "start_time": "2022-06-28T09:01:57.596Z"
   },
   {
    "duration": 83,
    "start_time": "2022-06-28T09:01:58.649Z"
   },
   {
    "duration": 24,
    "start_time": "2022-06-28T09:01:58.737Z"
   },
   {
    "duration": 8053,
    "start_time": "2022-06-28T09:01:58.763Z"
   },
   {
    "duration": 139,
    "start_time": "2022-06-28T09:02:06.818Z"
   },
   {
    "duration": 0,
    "start_time": "2022-06-28T09:02:06.959Z"
   },
   {
    "duration": 17,
    "start_time": "2022-06-28T09:06:43.670Z"
   },
   {
    "duration": 22,
    "start_time": "2022-06-28T09:09:04.089Z"
   },
   {
    "duration": 14,
    "start_time": "2022-06-28T09:09:17.178Z"
   },
   {
    "duration": 16,
    "start_time": "2022-06-28T09:26:12.509Z"
   },
   {
    "duration": 5,
    "start_time": "2022-06-28T09:27:28.998Z"
   },
   {
    "duration": 4175,
    "start_time": "2022-06-28T09:32:32.340Z"
   },
   {
    "duration": 4495,
    "start_time": "2022-06-28T09:33:24.948Z"
   },
   {
    "duration": 3658,
    "start_time": "2022-06-28T09:34:32.544Z"
   },
   {
    "duration": 28,
    "start_time": "2022-06-28T09:35:40.244Z"
   },
   {
    "duration": 4371,
    "start_time": "2022-06-28T09:35:48.314Z"
   },
   {
    "duration": 4624,
    "start_time": "2022-06-28T09:36:11.214Z"
   },
   {
    "duration": 1770,
    "start_time": "2022-06-28T09:40:42.804Z"
   },
   {
    "duration": 30,
    "start_time": "2022-06-28T09:40:44.576Z"
   },
   {
    "duration": 14,
    "start_time": "2022-06-28T09:40:44.608Z"
   },
   {
    "duration": 13,
    "start_time": "2022-06-28T09:40:44.623Z"
   },
   {
    "duration": 3,
    "start_time": "2022-06-28T09:40:44.637Z"
   },
   {
    "duration": 6,
    "start_time": "2022-06-28T09:40:44.641Z"
   },
   {
    "duration": 12,
    "start_time": "2022-06-28T09:40:44.648Z"
   },
   {
    "duration": 8,
    "start_time": "2022-06-28T09:40:44.661Z"
   },
   {
    "duration": 7,
    "start_time": "2022-06-28T09:40:44.670Z"
   },
   {
    "duration": 59,
    "start_time": "2022-06-28T09:40:44.680Z"
   },
   {
    "duration": 15,
    "start_time": "2022-06-28T09:40:44.740Z"
   },
   {
    "duration": 172,
    "start_time": "2022-06-28T09:40:44.757Z"
   },
   {
    "duration": 1438,
    "start_time": "2022-06-28T09:42:09.728Z"
   },
   {
    "duration": 70,
    "start_time": "2022-06-28T09:42:11.168Z"
   },
   {
    "duration": 15,
    "start_time": "2022-06-28T09:42:11.239Z"
   },
   {
    "duration": 11,
    "start_time": "2022-06-28T09:42:11.256Z"
   },
   {
    "duration": 3,
    "start_time": "2022-06-28T09:42:11.269Z"
   },
   {
    "duration": 59,
    "start_time": "2022-06-28T09:42:11.274Z"
   },
   {
    "duration": 22,
    "start_time": "2022-06-28T09:42:11.334Z"
   },
   {
    "duration": 7,
    "start_time": "2022-06-28T09:42:11.357Z"
   },
   {
    "duration": 12,
    "start_time": "2022-06-28T09:42:11.366Z"
   },
   {
    "duration": 99,
    "start_time": "2022-06-28T09:42:11.431Z"
   },
   {
    "duration": 22,
    "start_time": "2022-06-28T09:42:11.531Z"
   },
   {
    "duration": 414,
    "start_time": "2022-06-28T09:42:11.555Z"
   },
   {
    "duration": 250066,
    "start_time": "2022-06-28T09:42:11.971Z"
   },
   {
    "duration": 23,
    "start_time": "2022-06-28T09:46:22.039Z"
   },
   {
    "duration": 3,
    "start_time": "2022-06-28T09:46:22.064Z"
   },
   {
    "duration": 8,
    "start_time": "2022-06-28T09:46:22.069Z"
   },
   {
    "duration": 54,
    "start_time": "2022-06-28T09:46:22.078Z"
   },
   {
    "duration": 519,
    "start_time": "2022-06-28T09:46:22.137Z"
   },
   {
    "duration": 3,
    "start_time": "2022-06-28T09:46:22.658Z"
   },
   {
    "duration": 9,
    "start_time": "2022-06-28T09:46:22.663Z"
   },
   {
    "duration": 6,
    "start_time": "2022-06-28T09:46:22.674Z"
   },
   {
    "duration": 10,
    "start_time": "2022-06-28T09:46:22.682Z"
   },
   {
    "duration": 91624,
    "start_time": "2022-06-28T09:46:22.694Z"
   },
   {
    "duration": 728,
    "start_time": "2022-06-28T09:47:54.319Z"
   },
   {
    "duration": 5,
    "start_time": "2022-06-28T09:47:55.131Z"
   },
   {
    "duration": 123,
    "start_time": "2022-06-28T09:47:55.138Z"
   },
   {
    "duration": 11595,
    "start_time": "2022-06-28T09:47:55.263Z"
   },
   {
    "duration": 137,
    "start_time": "2022-06-28T09:48:06.861Z"
   },
   {
    "duration": 0,
    "start_time": "2022-06-28T09:48:07.000Z"
   },
   {
    "duration": 0,
    "start_time": "2022-06-28T09:48:07.004Z"
   },
   {
    "duration": 131,
    "start_time": "2022-06-28T09:49:15.540Z"
   },
   {
    "duration": 147,
    "start_time": "2022-06-28T09:49:33.604Z"
   },
   {
    "duration": 194,
    "start_time": "2022-06-28T09:53:15.355Z"
   },
   {
    "duration": 252,
    "start_time": "2022-06-28T09:53:41.079Z"
   },
   {
    "duration": 214,
    "start_time": "2022-06-28T09:58:02.521Z"
   },
   {
    "duration": 225,
    "start_time": "2022-06-28T10:02:18.530Z"
   },
   {
    "duration": 263,
    "start_time": "2022-06-28T10:02:59.710Z"
   },
   {
    "duration": 25,
    "start_time": "2022-06-28T10:04:43.826Z"
   },
   {
    "duration": 17,
    "start_time": "2022-06-28T10:04:51.708Z"
   },
   {
    "duration": 18,
    "start_time": "2022-06-28T10:05:15.834Z"
   },
   {
    "duration": 22,
    "start_time": "2022-06-28T10:10:01.775Z"
   },
   {
    "duration": 1263,
    "start_time": "2022-06-28T10:10:54.656Z"
   },
   {
    "duration": 1715,
    "start_time": "2022-06-28T10:12:01.532Z"
   },
   {
    "duration": 1806,
    "start_time": "2022-06-28T10:13:21.501Z"
   },
   {
    "duration": 1725,
    "start_time": "2022-06-28T10:14:52.176Z"
   },
   {
    "duration": 4,
    "start_time": "2022-06-28T10:22:53.499Z"
   },
   {
    "duration": 3,
    "start_time": "2022-06-28T10:27:09.288Z"
   },
   {
    "duration": 13,
    "start_time": "2022-06-28T11:06:23.503Z"
   },
   {
    "duration": 5790,
    "start_time": "2022-06-28T11:12:47.312Z"
   },
   {
    "duration": 8960,
    "start_time": "2022-06-28T11:15:56.348Z"
   },
   {
    "duration": 1630,
    "start_time": "2022-06-28T15:04:50.174Z"
   },
   {
    "duration": 51,
    "start_time": "2022-06-28T15:04:51.806Z"
   },
   {
    "duration": 17,
    "start_time": "2022-06-28T15:04:51.858Z"
   },
   {
    "duration": 14,
    "start_time": "2022-06-28T15:04:51.877Z"
   },
   {
    "duration": 3,
    "start_time": "2022-06-28T15:04:51.893Z"
   },
   {
    "duration": 12,
    "start_time": "2022-06-28T15:04:51.898Z"
   },
   {
    "duration": 24,
    "start_time": "2022-06-28T15:04:51.911Z"
   },
   {
    "duration": 15,
    "start_time": "2022-06-28T15:04:51.937Z"
   },
   {
    "duration": 14,
    "start_time": "2022-06-28T15:04:51.953Z"
   },
   {
    "duration": 48,
    "start_time": "2022-06-28T15:04:51.970Z"
   },
   {
    "duration": 20,
    "start_time": "2022-06-28T15:04:52.020Z"
   },
   {
    "duration": 5371,
    "start_time": "2022-06-28T15:04:52.041Z"
   },
   {
    "duration": 25,
    "start_time": "2022-06-28T15:04:57.414Z"
   },
   {
    "duration": 1764,
    "start_time": "2022-06-28T15:04:57.441Z"
   },
   {
    "duration": 4,
    "start_time": "2022-06-28T15:04:59.207Z"
   },
   {
    "duration": 8,
    "start_time": "2022-06-28T15:04:59.212Z"
   },
   {
    "duration": 25,
    "start_time": "2022-06-28T15:04:59.222Z"
   },
   {
    "duration": 511,
    "start_time": "2022-06-28T15:04:59.249Z"
   },
   {
    "duration": 4,
    "start_time": "2022-06-28T15:04:59.761Z"
   },
   {
    "duration": 9,
    "start_time": "2022-06-28T15:04:59.766Z"
   },
   {
    "duration": 11,
    "start_time": "2022-06-28T15:04:59.777Z"
   },
   {
    "duration": 9,
    "start_time": "2022-06-28T15:04:59.790Z"
   },
   {
    "duration": 91097,
    "start_time": "2022-06-28T15:04:59.801Z"
   },
   {
    "duration": 1330,
    "start_time": "2022-06-28T15:06:30.899Z"
   },
   {
    "duration": 120,
    "start_time": "2022-06-28T15:06:32.231Z"
   },
   {
    "duration": 0,
    "start_time": "2022-06-28T15:06:32.353Z"
   },
   {
    "duration": 0,
    "start_time": "2022-06-28T15:06:32.355Z"
   },
   {
    "duration": 0,
    "start_time": "2022-06-28T15:06:32.356Z"
   },
   {
    "duration": 0,
    "start_time": "2022-06-28T15:06:32.358Z"
   },
   {
    "duration": 0,
    "start_time": "2022-06-28T15:06:32.359Z"
   },
   {
    "duration": 1374,
    "start_time": "2022-06-28T15:07:12.813Z"
   },
   {
    "duration": 22,
    "start_time": "2022-06-28T15:07:14.189Z"
   },
   {
    "duration": 15,
    "start_time": "2022-06-28T15:07:14.212Z"
   },
   {
    "duration": 10,
    "start_time": "2022-06-28T15:07:14.229Z"
   },
   {
    "duration": 9,
    "start_time": "2022-06-28T15:07:14.240Z"
   },
   {
    "duration": 31,
    "start_time": "2022-06-28T15:07:14.250Z"
   },
   {
    "duration": 23,
    "start_time": "2022-06-28T15:07:14.282Z"
   },
   {
    "duration": 21,
    "start_time": "2022-06-28T15:07:14.307Z"
   },
   {
    "duration": 16,
    "start_time": "2022-06-28T15:07:14.329Z"
   },
   {
    "duration": 44,
    "start_time": "2022-06-28T15:07:14.347Z"
   },
   {
    "duration": 14,
    "start_time": "2022-06-28T15:07:14.393Z"
   },
   {
    "duration": 5265,
    "start_time": "2022-06-28T15:07:14.408Z"
   },
   {
    "duration": 20,
    "start_time": "2022-06-28T15:07:19.675Z"
   },
   {
    "duration": 1772,
    "start_time": "2022-06-28T15:07:19.697Z"
   },
   {
    "duration": 5,
    "start_time": "2022-06-28T15:07:21.472Z"
   },
   {
    "duration": 39,
    "start_time": "2022-06-28T15:07:21.478Z"
   },
   {
    "duration": 108,
    "start_time": "2022-06-28T15:07:21.519Z"
   },
   {
    "duration": 437,
    "start_time": "2022-06-28T15:07:21.630Z"
   },
   {
    "duration": 3,
    "start_time": "2022-06-28T15:07:22.069Z"
   },
   {
    "duration": 18,
    "start_time": "2022-06-28T15:07:22.073Z"
   },
   {
    "duration": 6,
    "start_time": "2022-06-28T15:07:22.093Z"
   },
   {
    "duration": 11,
    "start_time": "2022-06-28T15:07:22.100Z"
   },
   {
    "duration": 1343,
    "start_time": "2022-06-28T15:08:48.290Z"
   },
   {
    "duration": 201,
    "start_time": "2022-06-28T15:08:49.635Z"
   },
   {
    "duration": 0,
    "start_time": "2022-06-28T15:08:49.837Z"
   },
   {
    "duration": 0,
    "start_time": "2022-06-28T15:08:49.838Z"
   },
   {
    "duration": 0,
    "start_time": "2022-06-28T15:08:49.840Z"
   },
   {
    "duration": 0,
    "start_time": "2022-06-28T15:08:49.840Z"
   },
   {
    "duration": 0,
    "start_time": "2022-06-28T15:08:49.841Z"
   },
   {
    "duration": 5354,
    "start_time": "2022-06-28T15:10:45.406Z"
   },
   {
    "duration": 5536,
    "start_time": "2022-06-28T15:10:59.169Z"
   },
   {
    "duration": 365,
    "start_time": "2022-06-28T15:12:16.636Z"
   },
   {
    "duration": 371,
    "start_time": "2022-06-28T15:12:38.126Z"
   },
   {
    "duration": 8543,
    "start_time": "2022-06-28T15:14:16.735Z"
   },
   {
    "duration": 8929,
    "start_time": "2022-06-28T15:22:39.315Z"
   },
   {
    "duration": 9129,
    "start_time": "2022-06-28T15:26:25.430Z"
   },
   {
    "duration": 672,
    "start_time": "2022-06-28T15:26:47.159Z"
   },
   {
    "duration": 618,
    "start_time": "2022-06-28T15:27:31.517Z"
   },
   {
    "duration": 8607,
    "start_time": "2022-06-28T16:03:46.768Z"
   },
   {
    "duration": 1395,
    "start_time": "2022-06-28T16:07:39.414Z"
   },
   {
    "duration": 24,
    "start_time": "2022-06-28T16:07:40.810Z"
   },
   {
    "duration": 16,
    "start_time": "2022-06-28T16:07:40.836Z"
   },
   {
    "duration": 14,
    "start_time": "2022-06-28T16:07:40.854Z"
   },
   {
    "duration": 7,
    "start_time": "2022-06-28T16:07:40.870Z"
   },
   {
    "duration": 8,
    "start_time": "2022-06-28T16:07:40.878Z"
   },
   {
    "duration": 14,
    "start_time": "2022-06-28T16:07:40.887Z"
   },
   {
    "duration": 27,
    "start_time": "2022-06-28T16:07:40.903Z"
   },
   {
    "duration": 11,
    "start_time": "2022-06-28T16:07:40.932Z"
   },
   {
    "duration": 43,
    "start_time": "2022-06-28T16:07:40.946Z"
   },
   {
    "duration": 37,
    "start_time": "2022-06-28T16:07:40.991Z"
   },
   {
    "duration": 8724,
    "start_time": "2022-06-28T16:07:41.030Z"
   },
   {
    "duration": 20,
    "start_time": "2022-06-28T16:07:49.755Z"
   },
   {
    "duration": 1724,
    "start_time": "2022-06-28T16:07:49.777Z"
   },
   {
    "duration": 4,
    "start_time": "2022-06-28T16:07:51.503Z"
   },
   {
    "duration": 23,
    "start_time": "2022-06-28T16:07:51.509Z"
   },
   {
    "duration": 31,
    "start_time": "2022-06-28T16:07:51.534Z"
   },
   {
    "duration": 482,
    "start_time": "2022-06-28T16:07:51.567Z"
   },
   {
    "duration": 3,
    "start_time": "2022-06-28T16:07:52.051Z"
   },
   {
    "duration": 9,
    "start_time": "2022-06-28T16:07:52.056Z"
   },
   {
    "duration": 6,
    "start_time": "2022-06-28T16:07:52.067Z"
   },
   {
    "duration": 8,
    "start_time": "2022-06-28T16:07:52.075Z"
   },
   {
    "duration": 87383,
    "start_time": "2022-06-28T16:07:52.085Z"
   },
   {
    "duration": 1157,
    "start_time": "2022-06-28T16:09:19.470Z"
   },
   {
    "duration": 201,
    "start_time": "2022-06-28T16:09:20.629Z"
   },
   {
    "duration": 0,
    "start_time": "2022-06-28T16:09:20.831Z"
   },
   {
    "duration": 0,
    "start_time": "2022-06-28T16:09:20.833Z"
   },
   {
    "duration": 0,
    "start_time": "2022-06-28T16:09:20.833Z"
   },
   {
    "duration": 0,
    "start_time": "2022-06-28T16:09:20.834Z"
   },
   {
    "duration": 0,
    "start_time": "2022-06-28T16:09:20.835Z"
   },
   {
    "duration": 344,
    "start_time": "2022-06-28T16:09:34.688Z"
   },
   {
    "duration": 1545,
    "start_time": "2022-06-28T16:10:23.791Z"
   },
   {
    "duration": 16,
    "start_time": "2022-06-28T16:10:25.428Z"
   },
   {
    "duration": 525,
    "start_time": "2022-06-28T16:10:34.776Z"
   },
   {
    "duration": 16,
    "start_time": "2022-06-28T16:11:27.138Z"
   },
   {
    "duration": 14,
    "start_time": "2022-06-28T16:11:29.968Z"
   },
   {
    "duration": 1343,
    "start_time": "2022-06-28T16:11:52.484Z"
   },
   {
    "duration": 407,
    "start_time": "2022-06-28T16:11:53.829Z"
   },
   {
    "duration": 14,
    "start_time": "2022-06-28T16:12:21.031Z"
   },
   {
    "duration": 702,
    "start_time": "2022-06-28T16:12:23.436Z"
   },
   {
    "duration": 195,
    "start_time": "2022-06-28T16:12:24.140Z"
   },
   {
    "duration": 12,
    "start_time": "2022-06-28T16:12:35.520Z"
   },
   {
    "duration": 1709,
    "start_time": "2022-06-28T16:16:59.152Z"
   },
   {
    "duration": 1933,
    "start_time": "2022-06-28T16:17:12.419Z"
   },
   {
    "duration": 1740,
    "start_time": "2022-06-28T16:17:24.469Z"
   },
   {
    "duration": 1702,
    "start_time": "2022-06-28T16:17:46.284Z"
   },
   {
    "duration": 1837,
    "start_time": "2022-06-28T16:18:08.907Z"
   },
   {
    "duration": 1714,
    "start_time": "2022-06-28T17:01:31.015Z"
   },
   {
    "duration": 524,
    "start_time": "2022-06-28T17:01:33.069Z"
   },
   {
    "duration": 3,
    "start_time": "2022-06-28T17:17:49.153Z"
   },
   {
    "duration": 18,
    "start_time": "2022-06-28T17:17:57.670Z"
   },
   {
    "duration": 5283,
    "start_time": "2022-06-28T17:18:40.610Z"
   },
   {
    "duration": 11,
    "start_time": "2022-06-28T17:19:19.536Z"
   },
   {
    "duration": 151,
    "start_time": "2022-06-28T17:19:50.070Z"
   },
   {
    "duration": 12,
    "start_time": "2022-06-28T18:24:25.225Z"
   },
   {
    "duration": 1790,
    "start_time": "2022-06-29T06:39:01.797Z"
   },
   {
    "duration": 68,
    "start_time": "2022-06-29T06:39:03.589Z"
   },
   {
    "duration": 15,
    "start_time": "2022-06-29T06:39:03.659Z"
   },
   {
    "duration": 17,
    "start_time": "2022-06-29T06:39:03.676Z"
   },
   {
    "duration": 3,
    "start_time": "2022-06-29T06:39:03.695Z"
   },
   {
    "duration": 8,
    "start_time": "2022-06-29T06:39:03.699Z"
   },
   {
    "duration": 14,
    "start_time": "2022-06-29T06:39:03.708Z"
   },
   {
    "duration": 19,
    "start_time": "2022-06-29T06:39:03.727Z"
   },
   {
    "duration": 8,
    "start_time": "2022-06-29T06:39:03.748Z"
   },
   {
    "duration": 41,
    "start_time": "2022-06-29T06:39:03.758Z"
   },
   {
    "duration": 27,
    "start_time": "2022-06-29T06:39:03.802Z"
   },
   {
    "duration": 9215,
    "start_time": "2022-06-29T06:39:03.830Z"
   },
   {
    "duration": 12,
    "start_time": "2022-06-29T06:39:13.047Z"
   },
   {
    "duration": 23,
    "start_time": "2022-06-29T06:39:13.062Z"
   },
   {
    "duration": 1781,
    "start_time": "2022-06-29T06:39:13.087Z"
   },
   {
    "duration": 4,
    "start_time": "2022-06-29T06:39:14.870Z"
   },
   {
    "duration": 14,
    "start_time": "2022-06-29T06:39:14.875Z"
   },
   {
    "duration": 47,
    "start_time": "2022-06-29T06:39:14.891Z"
   },
   {
    "duration": 535,
    "start_time": "2022-06-29T06:39:14.951Z"
   },
   {
    "duration": 4,
    "start_time": "2022-06-29T06:39:15.488Z"
   },
   {
    "duration": 10,
    "start_time": "2022-06-29T06:39:15.493Z"
   },
   {
    "duration": 30,
    "start_time": "2022-06-29T06:39:15.504Z"
   },
   {
    "duration": 10,
    "start_time": "2022-06-29T06:39:15.538Z"
   },
   {
    "duration": 92846,
    "start_time": "2022-06-29T06:39:15.549Z"
   },
   {
    "duration": 1163,
    "start_time": "2022-06-29T06:40:48.396Z"
   },
   {
    "duration": 564,
    "start_time": "2022-06-29T06:40:49.561Z"
   },
   {
    "duration": 5,
    "start_time": "2022-06-29T06:40:50.127Z"
   },
   {
    "duration": 36,
    "start_time": "2022-06-29T06:40:50.134Z"
   },
   {
    "duration": 13,
    "start_time": "2022-06-29T06:40:56.711Z"
   },
   {
    "duration": 306,
    "start_time": "2022-06-29T06:40:56.726Z"
   },
   {
    "duration": 6653,
    "start_time": "2022-06-29T06:40:57.040Z"
   },
   {
    "duration": 136,
    "start_time": "2022-06-29T06:41:42.059Z"
   },
   {
    "duration": 20,
    "start_time": "2022-06-29T06:42:34.141Z"
   },
   {
    "duration": 16,
    "start_time": "2022-06-29T06:43:20.286Z"
   },
   {
    "duration": 6366,
    "start_time": "2022-06-29T06:44:00.016Z"
   },
   {
    "duration": 10734,
    "start_time": "2022-06-29T06:44:56.063Z"
   },
   {
    "duration": 10,
    "start_time": "2022-06-29T06:45:10.602Z"
   },
   {
    "duration": 29,
    "start_time": "2022-06-29T06:45:53.823Z"
   },
   {
    "duration": 10038,
    "start_time": "2022-06-29T06:46:34.866Z"
   },
   {
    "duration": 9391,
    "start_time": "2022-06-29T06:47:35.105Z"
   },
   {
    "duration": 8,
    "start_time": "2022-06-29T07:23:18.002Z"
   },
   {
    "duration": 20,
    "start_time": "2022-06-29T07:27:37.792Z"
   },
   {
    "duration": 9,
    "start_time": "2022-06-29T07:33:33.545Z"
   },
   {
    "duration": 56,
    "start_time": "2022-06-29T07:34:25.997Z"
   },
   {
    "duration": 54,
    "start_time": "2022-06-29T07:38:37.496Z"
   },
   {
    "duration": 56,
    "start_time": "2022-06-29T07:38:45.557Z"
   },
   {
    "duration": 10,
    "start_time": "2022-06-29T07:39:11.583Z"
   },
   {
    "duration": 9,
    "start_time": "2022-06-29T07:39:27.085Z"
   },
   {
    "duration": 9,
    "start_time": "2022-06-29T07:39:43.782Z"
   },
   {
    "duration": 9,
    "start_time": "2022-06-29T07:40:03.932Z"
   },
   {
    "duration": 9,
    "start_time": "2022-06-29T07:40:52.326Z"
   },
   {
    "duration": 16,
    "start_time": "2022-06-29T08:00:06.769Z"
   },
   {
    "duration": 1641,
    "start_time": "2022-06-29T10:53:02.290Z"
   },
   {
    "duration": 140,
    "start_time": "2022-06-29T10:53:03.933Z"
   },
   {
    "duration": 17,
    "start_time": "2022-06-29T10:53:04.075Z"
   },
   {
    "duration": 11,
    "start_time": "2022-06-29T10:53:04.093Z"
   },
   {
    "duration": 3,
    "start_time": "2022-06-29T10:53:04.106Z"
   },
   {
    "duration": 15,
    "start_time": "2022-06-29T10:53:04.111Z"
   },
   {
    "duration": 7,
    "start_time": "2022-06-29T10:53:04.128Z"
   },
   {
    "duration": 8,
    "start_time": "2022-06-29T10:53:04.136Z"
   },
   {
    "duration": 46,
    "start_time": "2022-06-29T10:53:04.145Z"
   },
   {
    "duration": 41,
    "start_time": "2022-06-29T10:53:04.192Z"
   },
   {
    "duration": 8797,
    "start_time": "2022-06-29T10:53:04.234Z"
   },
   {
    "duration": 12,
    "start_time": "2022-06-29T10:53:13.032Z"
   },
   {
    "duration": 46,
    "start_time": "2022-06-29T10:53:13.046Z"
   },
   {
    "duration": 1691,
    "start_time": "2022-06-29T10:53:13.095Z"
   },
   {
    "duration": 4,
    "start_time": "2022-06-29T10:53:14.787Z"
   },
   {
    "duration": 10,
    "start_time": "2022-06-29T10:53:14.793Z"
   },
   {
    "duration": 35,
    "start_time": "2022-06-29T10:53:14.804Z"
   },
   {
    "duration": 541,
    "start_time": "2022-06-29T10:53:14.840Z"
   },
   {
    "duration": 4,
    "start_time": "2022-06-29T10:53:15.383Z"
   },
   {
    "duration": 14,
    "start_time": "2022-06-29T10:53:15.389Z"
   },
   {
    "duration": 31,
    "start_time": "2022-06-29T10:53:15.404Z"
   },
   {
    "duration": 11,
    "start_time": "2022-06-29T10:53:15.437Z"
   },
   {
    "duration": 93409,
    "start_time": "2022-06-29T10:53:15.450Z"
   },
   {
    "duration": 1469,
    "start_time": "2022-06-29T10:54:48.861Z"
   },
   {
    "duration": 583,
    "start_time": "2022-06-29T10:54:50.336Z"
   },
   {
    "duration": 3,
    "start_time": "2022-06-29T10:54:50.921Z"
   },
   {
    "duration": 40,
    "start_time": "2022-06-29T10:54:50.929Z"
   },
   {
    "duration": 8980,
    "start_time": "2022-06-29T10:54:50.971Z"
   },
   {
    "duration": 8,
    "start_time": "2022-06-29T10:54:59.953Z"
   },
   {
    "duration": 376,
    "start_time": "2022-06-29T10:54:59.963Z"
   },
   {
    "duration": 0,
    "start_time": "2022-06-29T10:55:00.569Z"
   },
   {
    "duration": 11,
    "start_time": "2022-06-29T10:55:12.542Z"
   },
   {
    "duration": 4,
    "start_time": "2022-06-29T10:55:19.612Z"
   },
   {
    "duration": 4,
    "start_time": "2022-06-29T10:55:32.606Z"
   },
   {
    "duration": 1105,
    "start_time": "2022-06-29T10:56:41.445Z"
   },
   {
    "duration": 4,
    "start_time": "2022-06-29T10:56:47.949Z"
   },
   {
    "duration": 18,
    "start_time": "2022-06-29T10:57:01.668Z"
   },
   {
    "duration": 336,
    "start_time": "2022-06-29T10:57:06.106Z"
   },
   {
    "duration": 21,
    "start_time": "2022-06-29T10:57:15.220Z"
   },
   {
    "duration": 1434,
    "start_time": "2022-06-29T12:27:16.838Z"
   },
   {
    "duration": 31,
    "start_time": "2022-06-29T12:27:18.274Z"
   },
   {
    "duration": 13,
    "start_time": "2022-06-29T12:27:18.307Z"
   },
   {
    "duration": 17,
    "start_time": "2022-06-29T12:27:18.323Z"
   },
   {
    "duration": 26,
    "start_time": "2022-06-29T12:27:18.341Z"
   },
   {
    "duration": 21,
    "start_time": "2022-06-29T12:27:18.368Z"
   },
   {
    "duration": 10,
    "start_time": "2022-06-29T12:27:18.391Z"
   },
   {
    "duration": 10,
    "start_time": "2022-06-29T12:27:18.402Z"
   },
   {
    "duration": 68,
    "start_time": "2022-06-29T12:27:18.413Z"
   },
   {
    "duration": 18,
    "start_time": "2022-06-29T12:27:18.485Z"
   },
   {
    "duration": 8976,
    "start_time": "2022-06-29T12:27:18.505Z"
   },
   {
    "duration": 12,
    "start_time": "2022-06-29T12:27:27.482Z"
   },
   {
    "duration": 34,
    "start_time": "2022-06-29T12:27:27.496Z"
   },
   {
    "duration": 1740,
    "start_time": "2022-06-29T12:27:27.537Z"
   },
   {
    "duration": 3,
    "start_time": "2022-06-29T12:27:29.279Z"
   },
   {
    "duration": 7,
    "start_time": "2022-06-29T12:27:29.284Z"
   },
   {
    "duration": 59,
    "start_time": "2022-06-29T12:27:29.292Z"
   },
   {
    "duration": 512,
    "start_time": "2022-06-29T12:27:29.353Z"
   },
   {
    "duration": 3,
    "start_time": "2022-06-29T12:27:29.866Z"
   },
   {
    "duration": 9,
    "start_time": "2022-06-29T12:27:29.871Z"
   },
   {
    "duration": 18,
    "start_time": "2022-06-29T12:27:29.881Z"
   },
   {
    "duration": 10,
    "start_time": "2022-06-29T12:27:29.901Z"
   },
   {
    "duration": 1190,
    "start_time": "2022-06-29T12:29:03.071Z"
   },
   {
    "duration": 12,
    "start_time": "2022-06-29T12:29:04.334Z"
   },
   {
    "duration": 455,
    "start_time": "2022-06-29T12:29:04.354Z"
   },
   {
    "duration": 133,
    "start_time": "2022-06-29T12:29:04.811Z"
   },
   {
    "duration": 0,
    "start_time": "2022-06-29T12:29:04.947Z"
   },
   {
    "duration": 0,
    "start_time": "2022-06-29T12:29:04.950Z"
   },
   {
    "duration": 0,
    "start_time": "2022-06-29T12:29:04.950Z"
   },
   {
    "duration": 0,
    "start_time": "2022-06-29T12:29:04.951Z"
   },
   {
    "duration": 0,
    "start_time": "2022-06-29T12:29:04.952Z"
   },
   {
    "duration": 9,
    "start_time": "2022-06-29T12:30:33.155Z"
   },
   {
    "duration": 15,
    "start_time": "2022-06-29T12:30:33.227Z"
   },
   {
    "duration": 27,
    "start_time": "2022-06-29T12:30:42.950Z"
   },
   {
    "duration": 27,
    "start_time": "2022-06-29T12:31:01.053Z"
   },
   {
    "duration": 1479,
    "start_time": "2022-06-29T12:33:44.980Z"
   },
   {
    "duration": 32,
    "start_time": "2022-06-29T12:33:46.461Z"
   },
   {
    "duration": 15,
    "start_time": "2022-06-29T12:33:46.495Z"
   },
   {
    "duration": 17,
    "start_time": "2022-06-29T12:33:46.511Z"
   },
   {
    "duration": 9,
    "start_time": "2022-06-29T12:33:46.535Z"
   },
   {
    "duration": 35,
    "start_time": "2022-06-29T12:33:46.549Z"
   },
   {
    "duration": 7,
    "start_time": "2022-06-29T12:33:46.585Z"
   },
   {
    "duration": 12,
    "start_time": "2022-06-29T12:33:46.594Z"
   },
   {
    "duration": 59,
    "start_time": "2022-06-29T12:33:46.608Z"
   },
   {
    "duration": 16,
    "start_time": "2022-06-29T12:33:46.669Z"
   },
   {
    "duration": 8898,
    "start_time": "2022-06-29T12:33:46.686Z"
   },
   {
    "duration": 14,
    "start_time": "2022-06-29T12:33:55.585Z"
   },
   {
    "duration": 42,
    "start_time": "2022-06-29T12:33:55.600Z"
   },
   {
    "duration": 1800,
    "start_time": "2022-06-29T12:33:55.645Z"
   },
   {
    "duration": 4,
    "start_time": "2022-06-29T12:33:57.449Z"
   },
   {
    "duration": 14,
    "start_time": "2022-06-29T12:33:57.454Z"
   },
   {
    "duration": 65,
    "start_time": "2022-06-29T12:33:57.471Z"
   },
   {
    "duration": 447,
    "start_time": "2022-06-29T12:33:57.539Z"
   },
   {
    "duration": 3,
    "start_time": "2022-06-29T12:33:57.988Z"
   },
   {
    "duration": 10,
    "start_time": "2022-06-29T12:33:57.993Z"
   },
   {
    "duration": 39,
    "start_time": "2022-06-29T12:33:58.005Z"
   },
   {
    "duration": 127,
    "start_time": "2022-06-29T12:33:58.055Z"
   },
   {
    "duration": 0,
    "start_time": "2022-06-29T12:33:58.184Z"
   },
   {
    "duration": 0,
    "start_time": "2022-06-29T12:33:58.185Z"
   },
   {
    "duration": 0,
    "start_time": "2022-06-29T12:33:58.185Z"
   },
   {
    "duration": 0,
    "start_time": "2022-06-29T12:33:58.187Z"
   },
   {
    "duration": 0,
    "start_time": "2022-06-29T12:33:58.188Z"
   },
   {
    "duration": 0,
    "start_time": "2022-06-29T12:33:58.189Z"
   },
   {
    "duration": 0,
    "start_time": "2022-06-29T12:33:58.190Z"
   },
   {
    "duration": 0,
    "start_time": "2022-06-29T12:33:58.191Z"
   },
   {
    "duration": 7,
    "start_time": "2022-06-29T12:36:13.070Z"
   },
   {
    "duration": 118503,
    "start_time": "2022-06-29T12:36:37.496Z"
   },
   {
    "duration": 1124,
    "start_time": "2022-06-29T12:39:03.314Z"
   },
   {
    "duration": 504,
    "start_time": "2022-06-29T12:39:05.555Z"
   },
   {
    "duration": 5,
    "start_time": "2022-06-29T12:39:14.828Z"
   },
   {
    "duration": 19,
    "start_time": "2022-06-29T12:39:17.195Z"
   },
   {
    "duration": 8782,
    "start_time": "2022-06-29T12:39:27.905Z"
   },
   {
    "duration": 9,
    "start_time": "2022-06-29T12:39:45.891Z"
   },
   {
    "duration": 19,
    "start_time": "2022-06-29T12:46:45.099Z"
   },
   {
    "duration": 9,
    "start_time": "2022-06-29T12:52:18.568Z"
   },
   {
    "duration": 59,
    "start_time": "2025-08-26T05:17:13.545Z"
   },
   {
    "duration": 1879,
    "start_time": "2025-08-26T05:21:34.811Z"
   },
   {
    "duration": 91,
    "start_time": "2025-08-26T11:38:09.639Z"
   },
   {
    "duration": 8,
    "start_time": "2025-08-26T11:39:21.051Z"
   },
   {
    "duration": 1881,
    "start_time": "2025-08-26T11:39:40.897Z"
   },
   {
    "duration": 25,
    "start_time": "2025-08-26T11:39:42.780Z"
   },
   {
    "duration": 18,
    "start_time": "2025-08-26T11:39:42.806Z"
   },
   {
    "duration": 24,
    "start_time": "2025-08-26T11:39:42.826Z"
   },
   {
    "duration": 11,
    "start_time": "2025-08-26T11:39:42.853Z"
   },
   {
    "duration": 17,
    "start_time": "2025-08-26T11:39:42.866Z"
   },
   {
    "duration": 24,
    "start_time": "2025-08-26T11:39:42.885Z"
   },
   {
    "duration": 10,
    "start_time": "2025-08-26T11:39:42.911Z"
   },
   {
    "duration": 74,
    "start_time": "2025-08-26T11:39:42.922Z"
   },
   {
    "duration": 17,
    "start_time": "2025-08-26T11:39:42.997Z"
   },
   {
    "duration": 9969,
    "start_time": "2025-08-26T11:39:43.016Z"
   },
   {
    "duration": 13,
    "start_time": "2025-08-26T11:39:52.987Z"
   },
   {
    "duration": 96,
    "start_time": "2025-08-26T11:39:53.002Z"
   },
   {
    "duration": 2025,
    "start_time": "2025-08-26T11:39:53.102Z"
   },
   {
    "duration": 4,
    "start_time": "2025-08-26T11:39:55.129Z"
   },
   {
    "duration": 17,
    "start_time": "2025-08-26T11:39:55.135Z"
   },
   {
    "duration": 39,
    "start_time": "2025-08-26T11:39:55.155Z"
   },
   {
    "duration": 518,
    "start_time": "2025-08-26T11:39:55.255Z"
   },
   {
    "duration": 5,
    "start_time": "2025-08-26T11:39:55.775Z"
   },
   {
    "duration": 12,
    "start_time": "2025-08-26T11:39:55.782Z"
   },
   {
    "duration": 8,
    "start_time": "2025-08-26T11:39:55.796Z"
   },
   {
    "duration": 10,
    "start_time": "2025-08-26T11:39:55.806Z"
   },
   {
    "duration": 55,
    "start_time": "2025-08-26T11:42:48.509Z"
   },
   {
    "duration": 7,
    "start_time": "2025-08-26T11:43:24.890Z"
   },
   {
    "duration": 8,
    "start_time": "2025-08-26T11:43:30.834Z"
   },
   {
    "duration": 1634,
    "start_time": "2025-08-26T11:43:48.245Z"
   },
   {
    "duration": 24,
    "start_time": "2025-08-26T11:43:49.881Z"
   },
   {
    "duration": 17,
    "start_time": "2025-08-26T11:43:49.907Z"
   },
   {
    "duration": 14,
    "start_time": "2025-08-26T11:43:49.926Z"
   },
   {
    "duration": 3,
    "start_time": "2025-08-26T11:43:49.952Z"
   },
   {
    "duration": 32,
    "start_time": "2025-08-26T11:43:49.957Z"
   },
   {
    "duration": 12,
    "start_time": "2025-08-26T11:43:49.991Z"
   },
   {
    "duration": 19,
    "start_time": "2025-08-26T11:43:50.005Z"
   },
   {
    "duration": 68,
    "start_time": "2025-08-26T11:43:50.026Z"
   },
   {
    "duration": 18,
    "start_time": "2025-08-26T11:43:50.096Z"
   },
   {
    "duration": 9486,
    "start_time": "2025-08-26T11:43:50.116Z"
   },
   {
    "duration": 14,
    "start_time": "2025-08-26T11:43:59.604Z"
   },
   {
    "duration": 44,
    "start_time": "2025-08-26T11:43:59.620Z"
   },
   {
    "duration": 1920,
    "start_time": "2025-08-26T11:43:59.667Z"
   },
   {
    "duration": 4,
    "start_time": "2025-08-26T11:44:01.589Z"
   },
   {
    "duration": 46,
    "start_time": "2025-08-26T11:44:01.595Z"
   },
   {
    "duration": 34,
    "start_time": "2025-08-26T11:44:01.643Z"
   },
   {
    "duration": 565,
    "start_time": "2025-08-26T11:44:01.680Z"
   },
   {
    "duration": 4,
    "start_time": "2025-08-26T11:44:02.247Z"
   },
   {
    "duration": 47,
    "start_time": "2025-08-26T11:44:02.253Z"
   },
   {
    "duration": 39,
    "start_time": "2025-08-26T11:44:02.302Z"
   },
   {
    "duration": 9,
    "start_time": "2025-08-26T11:44:02.343Z"
   },
   {
    "duration": 1651,
    "start_time": "2025-08-26T11:46:01.842Z"
   },
   {
    "duration": 24,
    "start_time": "2025-08-26T11:46:03.495Z"
   },
   {
    "duration": 17,
    "start_time": "2025-08-26T11:46:03.521Z"
   },
   {
    "duration": 17,
    "start_time": "2025-08-26T11:46:03.540Z"
   },
   {
    "duration": 5,
    "start_time": "2025-08-26T11:46:03.560Z"
   },
   {
    "duration": 28,
    "start_time": "2025-08-26T11:46:03.566Z"
   },
   {
    "duration": 22,
    "start_time": "2025-08-26T11:46:03.596Z"
   },
   {
    "duration": 17,
    "start_time": "2025-08-26T11:46:03.620Z"
   },
   {
    "duration": 60,
    "start_time": "2025-08-26T11:46:03.638Z"
   },
   {
    "duration": 17,
    "start_time": "2025-08-26T11:46:03.700Z"
   },
   {
    "duration": 9703,
    "start_time": "2025-08-26T11:46:03.719Z"
   },
   {
    "duration": 14,
    "start_time": "2025-08-26T11:46:13.424Z"
   },
   {
    "duration": 32,
    "start_time": "2025-08-26T11:46:13.440Z"
   },
   {
    "duration": 1902,
    "start_time": "2025-08-26T11:46:13.476Z"
   },
   {
    "duration": 5,
    "start_time": "2025-08-26T11:46:15.380Z"
   },
   {
    "duration": 63,
    "start_time": "2025-08-26T11:46:15.387Z"
   },
   {
    "duration": 44,
    "start_time": "2025-08-26T11:46:15.452Z"
   },
   {
    "duration": 501,
    "start_time": "2025-08-26T11:46:15.551Z"
   },
   {
    "duration": 3,
    "start_time": "2025-08-26T11:46:16.055Z"
   },
   {
    "duration": 18,
    "start_time": "2025-08-26T11:46:16.060Z"
   },
   {
    "duration": 94,
    "start_time": "2025-08-26T11:46:16.080Z"
   },
   {
    "duration": 129,
    "start_time": "2025-08-26T11:46:16.176Z"
   },
   {
    "duration": 10,
    "start_time": "2025-08-26T11:48:33.349Z"
   },
   {
    "duration": 14,
    "start_time": "2025-08-26T11:48:33.361Z"
   },
   {
    "duration": 11,
    "start_time": "2025-08-26T11:49:28.214Z"
   },
   {
    "duration": 9115,
    "start_time": "2025-08-26T11:49:40.283Z"
   },
   {
    "duration": 5,
    "start_time": "2025-08-26T11:56:49.917Z"
   },
   {
    "duration": 25,
    "start_time": "2025-08-26T11:56:49.925Z"
   },
   {
    "duration": 18,
    "start_time": "2025-08-26T11:56:49.951Z"
   },
   {
    "duration": 18,
    "start_time": "2025-08-26T11:56:49.971Z"
   },
   {
    "duration": 4,
    "start_time": "2025-08-26T11:56:49.991Z"
   },
   {
    "duration": 79,
    "start_time": "2025-08-26T11:56:49.997Z"
   },
   {
    "duration": 8,
    "start_time": "2025-08-26T11:56:50.078Z"
   },
   {
    "duration": 9,
    "start_time": "2025-08-26T11:56:50.087Z"
   },
   {
    "duration": 52,
    "start_time": "2025-08-26T11:56:50.098Z"
   },
   {
    "duration": 18,
    "start_time": "2025-08-26T11:56:50.152Z"
   },
   {
    "duration": 9547,
    "start_time": "2025-08-26T11:56:50.173Z"
   },
   {
    "duration": 28,
    "start_time": "2025-08-26T11:56:59.723Z"
   },
   {
    "duration": 39,
    "start_time": "2025-08-26T11:56:59.754Z"
   },
   {
    "duration": 1988,
    "start_time": "2025-08-26T11:56:59.798Z"
   },
   {
    "duration": 4,
    "start_time": "2025-08-26T11:57:01.788Z"
   },
   {
    "duration": 48,
    "start_time": "2025-08-26T11:57:01.794Z"
   },
   {
    "duration": 38,
    "start_time": "2025-08-26T11:57:01.844Z"
   },
   {
    "duration": 579,
    "start_time": "2025-08-26T11:57:01.889Z"
   },
   {
    "duration": 4,
    "start_time": "2025-08-26T11:57:02.470Z"
   },
   {
    "duration": 41,
    "start_time": "2025-08-26T11:57:02.475Z"
   },
   {
    "duration": 28,
    "start_time": "2025-08-26T11:57:02.518Z"
   },
   {
    "duration": 27,
    "start_time": "2025-08-26T11:57:02.547Z"
   },
   {
    "duration": 1648,
    "start_time": "2025-08-26T11:57:50.678Z"
   },
   {
    "duration": 35,
    "start_time": "2025-08-26T11:57:52.329Z"
   },
   {
    "duration": 17,
    "start_time": "2025-08-26T11:57:52.366Z"
   },
   {
    "duration": 22,
    "start_time": "2025-08-26T11:57:52.385Z"
   },
   {
    "duration": 17,
    "start_time": "2025-08-26T11:57:52.412Z"
   },
   {
    "duration": 20,
    "start_time": "2025-08-26T11:57:52.431Z"
   },
   {
    "duration": 9,
    "start_time": "2025-08-26T11:57:52.453Z"
   },
   {
    "duration": 11,
    "start_time": "2025-08-26T11:57:52.464Z"
   },
   {
    "duration": 77,
    "start_time": "2025-08-26T11:57:52.477Z"
   },
   {
    "duration": 19,
    "start_time": "2025-08-26T11:57:52.556Z"
   },
   {
    "duration": 10359,
    "start_time": "2025-08-26T11:57:52.577Z"
   },
   {
    "duration": 22,
    "start_time": "2025-08-26T11:58:02.937Z"
   },
   {
    "duration": 61,
    "start_time": "2025-08-26T11:58:02.961Z"
   },
   {
    "duration": 1956,
    "start_time": "2025-08-26T11:58:03.025Z"
   },
   {
    "duration": 5,
    "start_time": "2025-08-26T11:58:04.983Z"
   },
   {
    "duration": 38,
    "start_time": "2025-08-26T11:58:04.991Z"
   },
   {
    "duration": 52,
    "start_time": "2025-08-26T11:58:05.031Z"
   },
   {
    "duration": 493,
    "start_time": "2025-08-26T11:58:05.151Z"
   },
   {
    "duration": 4,
    "start_time": "2025-08-26T11:58:05.646Z"
   },
   {
    "duration": 34,
    "start_time": "2025-08-26T11:58:05.652Z"
   },
   {
    "duration": 17,
    "start_time": "2025-08-26T11:58:05.688Z"
   },
   {
    "duration": 57,
    "start_time": "2025-08-26T11:58:05.707Z"
   },
   {
    "duration": 0,
    "start_time": "2025-08-26T12:01:08.341Z"
   },
   {
    "duration": 0,
    "start_time": "2025-08-26T12:01:08.341Z"
   },
   {
    "duration": 0,
    "start_time": "2025-08-26T12:01:08.350Z"
   },
   {
    "duration": 0,
    "start_time": "2025-08-26T12:01:08.351Z"
   },
   {
    "duration": 0,
    "start_time": "2025-08-26T12:01:08.352Z"
   },
   {
    "duration": 0,
    "start_time": "2025-08-26T12:01:08.353Z"
   },
   {
    "duration": 0,
    "start_time": "2025-08-26T12:01:08.355Z"
   },
   {
    "duration": 0,
    "start_time": "2025-08-26T12:01:08.357Z"
   },
   {
    "duration": 0,
    "start_time": "2025-08-26T12:01:08.359Z"
   },
   {
    "duration": 0,
    "start_time": "2025-08-26T12:01:08.361Z"
   },
   {
    "duration": 0,
    "start_time": "2025-08-26T12:01:08.363Z"
   },
   {
    "duration": 0,
    "start_time": "2025-08-26T12:01:08.365Z"
   },
   {
    "duration": 0,
    "start_time": "2025-08-26T12:01:08.366Z"
   },
   {
    "duration": 0,
    "start_time": "2025-08-26T12:01:08.368Z"
   },
   {
    "duration": 0,
    "start_time": "2025-08-26T12:01:08.370Z"
   },
   {
    "duration": 0,
    "start_time": "2025-08-26T12:01:08.372Z"
   },
   {
    "duration": 0,
    "start_time": "2025-08-26T12:01:08.373Z"
   },
   {
    "duration": 0,
    "start_time": "2025-08-26T12:01:08.375Z"
   },
   {
    "duration": 0,
    "start_time": "2025-08-26T12:01:08.377Z"
   },
   {
    "duration": 0,
    "start_time": "2025-08-26T12:01:08.379Z"
   },
   {
    "duration": 0,
    "start_time": "2025-08-26T12:01:08.381Z"
   },
   {
    "duration": 0,
    "start_time": "2025-08-26T12:01:08.385Z"
   },
   {
    "duration": 0,
    "start_time": "2025-08-26T12:01:08.387Z"
   },
   {
    "duration": 0,
    "start_time": "2025-08-26T12:01:08.450Z"
   },
   {
    "duration": 0,
    "start_time": "2025-08-26T12:01:08.452Z"
   },
   {
    "duration": 0,
    "start_time": "2025-08-26T12:01:08.454Z"
   },
   {
    "duration": 0,
    "start_time": "2025-08-26T12:01:08.456Z"
   },
   {
    "duration": 0,
    "start_time": "2025-08-26T12:01:08.458Z"
   },
   {
    "duration": 0,
    "start_time": "2025-08-26T12:01:08.460Z"
   },
   {
    "duration": 0,
    "start_time": "2025-08-26T12:01:08.465Z"
   },
   {
    "duration": 1803,
    "start_time": "2025-08-26T12:01:46.220Z"
   },
   {
    "duration": 26,
    "start_time": "2025-08-26T12:01:48.025Z"
   },
   {
    "duration": 47,
    "start_time": "2025-08-26T12:01:48.053Z"
   },
   {
    "duration": 25,
    "start_time": "2025-08-26T12:01:48.102Z"
   },
   {
    "duration": 6,
    "start_time": "2025-08-26T12:01:48.130Z"
   },
   {
    "duration": 109,
    "start_time": "2025-08-26T12:01:48.138Z"
   },
   {
    "duration": 108,
    "start_time": "2025-08-26T12:01:48.249Z"
   },
   {
    "duration": 17,
    "start_time": "2025-08-26T12:01:48.359Z"
   },
   {
    "duration": 52,
    "start_time": "2025-08-26T12:01:48.378Z"
   },
   {
    "duration": 42,
    "start_time": "2025-08-26T12:01:48.432Z"
   },
   {
    "duration": 9883,
    "start_time": "2025-08-26T12:01:48.477Z"
   },
   {
    "duration": 16,
    "start_time": "2025-08-26T12:01:58.362Z"
   },
   {
    "duration": 24,
    "start_time": "2025-08-26T12:01:58.381Z"
   },
   {
    "duration": 2008,
    "start_time": "2025-08-26T12:01:58.410Z"
   },
   {
    "duration": 6,
    "start_time": "2025-08-26T12:02:00.420Z"
   },
   {
    "duration": 42,
    "start_time": "2025-08-26T12:02:00.428Z"
   },
   {
    "duration": 40,
    "start_time": "2025-08-26T12:02:00.473Z"
   },
   {
    "duration": 503,
    "start_time": "2025-08-26T12:02:00.551Z"
   },
   {
    "duration": 6,
    "start_time": "2025-08-26T12:02:01.056Z"
   },
   {
    "duration": 17,
    "start_time": "2025-08-26T12:02:01.064Z"
   },
   {
    "duration": 15,
    "start_time": "2025-08-26T12:02:01.084Z"
   },
   {
    "duration": 13,
    "start_time": "2025-08-26T12:02:01.101Z"
   },
   {
    "duration": 58,
    "start_time": "2025-08-26T12:04:30.739Z"
   },
   {
    "duration": 8,
    "start_time": "2025-08-26T12:04:44.620Z"
   },
   {
    "duration": 2303,
    "start_time": "2025-08-26T12:05:08.504Z"
   },
   {
    "duration": 25,
    "start_time": "2025-08-26T12:05:10.809Z"
   },
   {
    "duration": 25,
    "start_time": "2025-08-26T12:05:10.835Z"
   },
   {
    "duration": 14,
    "start_time": "2025-08-26T12:05:10.862Z"
   },
   {
    "duration": 5,
    "start_time": "2025-08-26T12:05:10.879Z"
   },
   {
    "duration": 14,
    "start_time": "2025-08-26T12:05:10.886Z"
   },
   {
    "duration": 14,
    "start_time": "2025-08-26T12:05:10.902Z"
   },
   {
    "duration": 39,
    "start_time": "2025-08-26T12:05:10.919Z"
   },
   {
    "duration": 69,
    "start_time": "2025-08-26T12:05:10.960Z"
   },
   {
    "duration": 26,
    "start_time": "2025-08-26T12:05:11.031Z"
   },
   {
    "duration": 9567,
    "start_time": "2025-08-26T12:05:11.059Z"
   },
   {
    "duration": 22,
    "start_time": "2025-08-26T12:05:20.630Z"
   },
   {
    "duration": 29,
    "start_time": "2025-08-26T12:05:20.654Z"
   },
   {
    "duration": 2055,
    "start_time": "2025-08-26T12:05:20.686Z"
   },
   {
    "duration": 9,
    "start_time": "2025-08-26T12:05:22.743Z"
   },
   {
    "duration": 6,
    "start_time": "2025-08-26T12:05:22.754Z"
   },
   {
    "duration": 89,
    "start_time": "2025-08-26T12:05:22.762Z"
   },
   {
    "duration": 519,
    "start_time": "2025-08-26T12:05:22.855Z"
   },
   {
    "duration": 3,
    "start_time": "2025-08-26T12:05:23.376Z"
   },
   {
    "duration": 12,
    "start_time": "2025-08-26T12:05:23.381Z"
   },
   {
    "duration": 7,
    "start_time": "2025-08-26T12:05:23.395Z"
   },
   {
    "duration": 7,
    "start_time": "2025-08-26T12:05:23.404Z"
   },
   {
    "duration": 124186,
    "start_time": "2025-08-26T12:05:23.413Z"
   },
   {
    "duration": 1452,
    "start_time": "2025-08-26T12:07:27.602Z"
   },
   {
    "duration": 706,
    "start_time": "2025-08-26T12:07:29.057Z"
   },
   {
    "duration": 4,
    "start_time": "2025-08-26T12:07:29.765Z"
   },
   {
    "duration": 21,
    "start_time": "2025-08-26T12:07:39.550Z"
   },
   {
    "duration": 11,
    "start_time": "2025-08-26T12:07:49.073Z"
   },
   {
    "duration": 9377,
    "start_time": "2025-08-26T12:07:49.153Z"
   },
   {
    "duration": 17,
    "start_time": "2025-08-26T12:07:58.533Z"
   },
   {
    "duration": 11,
    "start_time": "2025-08-26T12:09:00.207Z"
   },
   {
    "duration": 11,
    "start_time": "2025-08-26T12:10:37.856Z"
   },
   {
    "duration": 16,
    "start_time": "2025-08-26T12:11:20.335Z"
   },
   {
    "duration": 127,
    "start_time": "2025-08-26T12:13:45.937Z"
   },
   {
    "duration": 201,
    "start_time": "2025-08-26T12:18:48.166Z"
   },
   {
    "duration": 107,
    "start_time": "2025-08-26T12:19:05.173Z"
   },
   {
    "duration": 131,
    "start_time": "2025-08-26T12:20:00.973Z"
   },
   {
    "duration": 12,
    "start_time": "2025-08-26T12:20:11.451Z"
   },
   {
    "duration": 15,
    "start_time": "2025-08-26T12:20:24.543Z"
   },
   {
    "duration": 10,
    "start_time": "2025-08-26T12:21:02.733Z"
   },
   {
    "duration": 167,
    "start_time": "2025-08-26T12:21:03.518Z"
   },
   {
    "duration": 11,
    "start_time": "2025-08-26T12:21:07.327Z"
   },
   {
    "duration": 108,
    "start_time": "2025-08-26T12:22:05.815Z"
   },
   {
    "duration": 118,
    "start_time": "2025-08-26T12:22:16.160Z"
   },
   {
    "duration": 4,
    "start_time": "2025-08-26T12:25:08.422Z"
   },
   {
    "duration": 92,
    "start_time": "2025-08-26T12:33:49.472Z"
   },
   {
    "duration": 16,
    "start_time": "2025-08-26T12:34:14.423Z"
   },
   {
    "duration": 15,
    "start_time": "2025-08-26T12:34:52.935Z"
   },
   {
    "duration": 11,
    "start_time": "2025-08-26T12:44:01.539Z"
   },
   {
    "duration": 14,
    "start_time": "2025-08-26T12:47:26.030Z"
   },
   {
    "duration": 14,
    "start_time": "2025-08-26T12:48:15.329Z"
   },
   {
    "duration": 4,
    "start_time": "2025-08-26T12:48:44.667Z"
   },
   {
    "duration": 14,
    "start_time": "2025-08-26T12:49:00.976Z"
   },
   {
    "duration": 13,
    "start_time": "2025-08-26T12:49:10.831Z"
   },
   {
    "duration": 4,
    "start_time": "2025-08-26T12:49:55.440Z"
   },
   {
    "duration": 14,
    "start_time": "2025-08-26T12:50:02.857Z"
   },
   {
    "duration": 86,
    "start_time": "2025-08-26T12:54:41.082Z"
   },
   {
    "duration": 110,
    "start_time": "2025-08-26T12:57:18.887Z"
   },
   {
    "duration": 105,
    "start_time": "2025-08-26T12:57:47.253Z"
   },
   {
    "duration": 1300,
    "start_time": "2025-08-26T12:58:23.600Z"
   },
   {
    "duration": 1041,
    "start_time": "2025-08-26T12:59:16.929Z"
   },
   {
    "duration": 76,
    "start_time": "2025-08-26T13:03:05.518Z"
   },
   {
    "duration": 1103,
    "start_time": "2025-08-26T13:03:10.496Z"
   },
   {
    "duration": 6,
    "start_time": "2025-08-26T13:03:20.347Z"
   },
   {
    "duration": 16,
    "start_time": "2025-08-26T13:06:52.709Z"
   },
   {
    "duration": 5,
    "start_time": "2025-08-26T13:07:18.907Z"
   },
   {
    "duration": 5,
    "start_time": "2025-08-26T13:07:38.190Z"
   },
   {
    "duration": 17,
    "start_time": "2025-08-26T13:09:45.608Z"
   },
   {
    "duration": 5,
    "start_time": "2025-08-26T13:10:19.283Z"
   },
   {
    "duration": 128,
    "start_time": "2025-08-26T13:12:54.121Z"
   },
   {
    "duration": 5,
    "start_time": "2025-08-26T13:17:31.103Z"
   },
   {
    "duration": 13,
    "start_time": "2025-08-26T13:17:48.610Z"
   },
   {
    "duration": 4,
    "start_time": "2025-08-26T13:17:57.822Z"
   },
   {
    "duration": 13,
    "start_time": "2025-08-26T13:18:46.879Z"
   },
   {
    "duration": 5,
    "start_time": "2025-08-26T13:18:54.269Z"
   },
   {
    "duration": 5,
    "start_time": "2025-08-26T13:19:08.431Z"
   },
   {
    "duration": 5,
    "start_time": "2025-08-26T13:19:30.039Z"
   },
   {
    "duration": 4,
    "start_time": "2025-08-26T13:19:37.902Z"
   },
   {
    "duration": 5,
    "start_time": "2025-08-26T13:19:38.925Z"
   },
   {
    "duration": 11,
    "start_time": "2025-08-26T13:20:24.271Z"
   },
   {
    "duration": 5,
    "start_time": "2025-08-26T13:20:25.296Z"
   },
   {
    "duration": 5,
    "start_time": "2025-08-26T13:20:26.145Z"
   },
   {
    "duration": 6,
    "start_time": "2025-08-26T13:20:26.998Z"
   },
   {
    "duration": 12,
    "start_time": "2025-08-26T13:21:28.342Z"
   },
   {
    "duration": 46,
    "start_time": "2025-08-26T15:31:44.356Z"
   },
   {
    "duration": 5,
    "start_time": "2025-08-26T15:31:51.964Z"
   },
   {
    "duration": 6,
    "start_time": "2025-08-26T15:31:58.107Z"
   },
   {
    "duration": 1720,
    "start_time": "2025-08-26T15:32:10.144Z"
   },
   {
    "duration": 33,
    "start_time": "2025-08-26T15:32:11.866Z"
   },
   {
    "duration": 15,
    "start_time": "2025-08-26T15:32:11.901Z"
   },
   {
    "duration": 11,
    "start_time": "2025-08-26T15:32:11.918Z"
   },
   {
    "duration": 9,
    "start_time": "2025-08-26T15:32:11.931Z"
   },
   {
    "duration": 12,
    "start_time": "2025-08-26T15:32:11.942Z"
   },
   {
    "duration": 6,
    "start_time": "2025-08-26T15:32:11.956Z"
   },
   {
    "duration": 7,
    "start_time": "2025-08-26T15:32:11.964Z"
   },
   {
    "duration": 43,
    "start_time": "2025-08-26T15:32:11.973Z"
   },
   {
    "duration": 16,
    "start_time": "2025-08-26T15:32:12.041Z"
   },
   {
    "duration": 8726,
    "start_time": "2025-08-26T15:32:12.059Z"
   },
   {
    "duration": 12,
    "start_time": "2025-08-26T15:32:20.786Z"
   },
   {
    "duration": 32,
    "start_time": "2025-08-26T15:32:20.800Z"
   },
   {
    "duration": 1789,
    "start_time": "2025-08-26T15:32:20.834Z"
   },
   {
    "duration": 4,
    "start_time": "2025-08-26T15:32:22.624Z"
   },
   {
    "duration": 16,
    "start_time": "2025-08-26T15:32:22.630Z"
   },
   {
    "duration": 39,
    "start_time": "2025-08-26T15:32:22.648Z"
   },
   {
    "duration": 483,
    "start_time": "2025-08-26T15:32:22.688Z"
   },
   {
    "duration": 3,
    "start_time": "2025-08-26T15:32:23.172Z"
   },
   {
    "duration": 16,
    "start_time": "2025-08-26T15:32:23.177Z"
   },
   {
    "duration": 8,
    "start_time": "2025-08-26T15:32:23.195Z"
   },
   {
    "duration": 9,
    "start_time": "2025-08-26T15:32:23.204Z"
   },
   {
    "duration": 107989,
    "start_time": "2025-08-26T15:32:23.214Z"
   },
   {
    "duration": 1239,
    "start_time": "2025-08-26T15:34:11.204Z"
   },
   {
    "duration": 679,
    "start_time": "2025-08-26T15:34:12.449Z"
   },
   {
    "duration": 3,
    "start_time": "2025-08-26T15:34:13.130Z"
   },
   {
    "duration": 23,
    "start_time": "2025-08-26T15:34:13.134Z"
   },
   {
    "duration": 8120,
    "start_time": "2025-08-26T15:34:13.160Z"
   },
   {
    "duration": 9,
    "start_time": "2025-08-26T15:34:21.282Z"
   },
   {
    "duration": 8,
    "start_time": "2025-08-26T15:34:21.292Z"
   },
   {
    "duration": 5,
    "start_time": "2025-08-26T15:34:21.301Z"
   },
   {
    "duration": 147,
    "start_time": "2025-08-26T15:34:21.307Z"
   },
   {
    "duration": 4,
    "start_time": "2025-08-26T15:35:08.217Z"
   },
   {
    "duration": 5,
    "start_time": "2025-08-26T15:35:09.157Z"
   },
   {
    "duration": 11,
    "start_time": "2025-08-26T15:35:10.009Z"
   },
   {
    "duration": 116,
    "start_time": "2025-08-26T15:38:31.238Z"
   },
   {
    "duration": 3,
    "start_time": "2025-08-26T15:38:41.179Z"
   },
   {
    "duration": 15,
    "start_time": "2025-08-26T15:38:55.956Z"
   },
   {
    "duration": 11,
    "start_time": "2025-08-26T15:41:41.789Z"
   },
   {
    "duration": 3,
    "start_time": "2025-08-26T15:42:07.132Z"
   },
   {
    "duration": 10,
    "start_time": "2025-08-26T15:42:14.335Z"
   },
   {
    "duration": 10,
    "start_time": "2025-08-26T15:46:37.727Z"
   },
   {
    "duration": 4,
    "start_time": "2025-08-26T15:46:52.012Z"
   },
   {
    "duration": 4,
    "start_time": "2025-08-26T15:47:13.655Z"
   },
   {
    "duration": 9,
    "start_time": "2025-08-26T15:47:14.641Z"
   },
   {
    "duration": 5,
    "start_time": "2025-08-26T15:48:13.274Z"
   },
   {
    "duration": 4,
    "start_time": "2025-08-26T15:48:38.450Z"
   },
   {
    "duration": 5,
    "start_time": "2025-08-26T15:48:39.156Z"
   },
   {
    "duration": 9,
    "start_time": "2025-08-26T15:48:42.796Z"
   },
   {
    "duration": 3,
    "start_time": "2025-08-26T15:48:43.558Z"
   },
   {
    "duration": 5,
    "start_time": "2025-08-26T15:48:44.570Z"
   },
   {
    "duration": 4,
    "start_time": "2025-08-26T15:50:12.952Z"
   },
   {
    "duration": 5,
    "start_time": "2025-08-26T15:50:16.217Z"
   },
   {
    "duration": 9,
    "start_time": "2025-08-26T15:50:19.685Z"
   },
   {
    "duration": 4,
    "start_time": "2025-08-26T15:50:20.453Z"
   },
   {
    "duration": 5,
    "start_time": "2025-08-26T15:50:21.079Z"
   },
   {
    "duration": 4,
    "start_time": "2025-08-26T15:50:30.248Z"
   },
   {
    "duration": 11,
    "start_time": "2025-08-26T15:50:32.616Z"
   },
   {
    "duration": 50,
    "start_time": "2025-08-30T10:52:00.231Z"
   },
   {
    "duration": 1615,
    "start_time": "2025-08-30T10:52:10.765Z"
   },
   {
    "duration": 32,
    "start_time": "2025-08-30T10:52:12.382Z"
   },
   {
    "duration": 15,
    "start_time": "2025-08-30T10:52:12.416Z"
   },
   {
    "duration": 19,
    "start_time": "2025-08-30T10:52:12.433Z"
   },
   {
    "duration": 3,
    "start_time": "2025-08-30T10:52:12.454Z"
   },
   {
    "duration": 13,
    "start_time": "2025-08-30T10:52:12.458Z"
   },
   {
    "duration": 7,
    "start_time": "2025-08-30T10:52:12.473Z"
   },
   {
    "duration": 8,
    "start_time": "2025-08-30T10:52:12.482Z"
   },
   {
    "duration": 64,
    "start_time": "2025-08-30T10:52:12.492Z"
   },
   {
    "duration": 15,
    "start_time": "2025-08-30T10:52:12.558Z"
   },
   {
    "duration": 8704,
    "start_time": "2025-08-30T10:52:12.574Z"
   },
   {
    "duration": 11,
    "start_time": "2025-08-30T10:52:21.280Z"
   },
   {
    "duration": 38,
    "start_time": "2025-08-30T10:52:21.292Z"
   },
   {
    "duration": 1730,
    "start_time": "2025-08-30T10:52:21.333Z"
   },
   {
    "duration": 4,
    "start_time": "2025-08-30T10:52:23.065Z"
   },
   {
    "duration": 11,
    "start_time": "2025-08-30T10:52:23.071Z"
   },
   {
    "duration": 60,
    "start_time": "2025-08-30T10:52:23.083Z"
   },
   {
    "duration": 449,
    "start_time": "2025-08-30T10:52:23.146Z"
   },
   {
    "duration": 4,
    "start_time": "2025-08-30T10:52:23.597Z"
   },
   {
    "duration": 19,
    "start_time": "2025-08-30T10:52:23.603Z"
   },
   {
    "duration": 26,
    "start_time": "2025-08-30T10:52:23.624Z"
   },
   {
    "duration": 8,
    "start_time": "2025-08-30T10:52:23.652Z"
   },
   {
    "duration": 1581,
    "start_time": "2025-08-30T10:53:17.342Z"
   },
   {
    "duration": 22,
    "start_time": "2025-08-30T10:53:18.925Z"
   },
   {
    "duration": 16,
    "start_time": "2025-08-30T10:53:18.949Z"
   },
   {
    "duration": 11,
    "start_time": "2025-08-30T10:53:18.967Z"
   },
   {
    "duration": 6,
    "start_time": "2025-08-30T10:53:18.980Z"
   },
   {
    "duration": 13,
    "start_time": "2025-08-30T10:53:18.987Z"
   },
   {
    "duration": 11,
    "start_time": "2025-08-30T10:53:19.002Z"
   },
   {
    "duration": 50,
    "start_time": "2025-08-30T10:53:19.014Z"
   },
   {
    "duration": 63,
    "start_time": "2025-08-30T10:53:19.065Z"
   },
   {
    "duration": 16,
    "start_time": "2025-08-30T10:53:19.131Z"
   },
   {
    "duration": 8934,
    "start_time": "2025-08-30T10:53:19.149Z"
   },
   {
    "duration": 14,
    "start_time": "2025-08-30T10:53:28.085Z"
   },
   {
    "duration": 23,
    "start_time": "2025-08-30T10:53:28.100Z"
   },
   {
    "duration": 1732,
    "start_time": "2025-08-30T10:53:28.139Z"
   },
   {
    "duration": 4,
    "start_time": "2025-08-30T10:53:29.873Z"
   },
   {
    "duration": 9,
    "start_time": "2025-08-30T10:53:29.879Z"
   },
   {
    "duration": 66,
    "start_time": "2025-08-30T10:53:29.891Z"
   },
   {
    "duration": 438,
    "start_time": "2025-08-30T10:53:30.040Z"
   },
   {
    "duration": 4,
    "start_time": "2025-08-30T10:53:30.480Z"
   },
   {
    "duration": 43,
    "start_time": "2025-08-30T10:53:30.485Z"
   },
   {
    "duration": 40,
    "start_time": "2025-08-30T10:53:30.530Z"
   },
   {
    "duration": 57,
    "start_time": "2025-08-30T10:53:30.572Z"
   }
  ],
  "kernelspec": {
   "display_name": "Python 3 (ipykernel)",
   "language": "python",
   "name": "python3"
  },
  "language_info": {
   "codemirror_mode": {
    "name": "ipython",
    "version": 3
   },
   "file_extension": ".py",
   "mimetype": "text/x-python",
   "name": "python",
   "nbconvert_exporter": "python",
   "pygments_lexer": "ipython3",
   "version": "3.9.5"
  },
  "toc": {
   "base_numbering": 1,
   "nav_menu": {},
   "number_sections": true,
   "sideBar": true,
   "skip_h1_title": true,
   "title_cell": "Table of Contents",
   "title_sidebar": "Contents",
   "toc_cell": false,
   "toc_position": {},
   "toc_section_display": true,
   "toc_window_display": false
  }
 },
 "nbformat": 4,
 "nbformat_minor": 2
}
